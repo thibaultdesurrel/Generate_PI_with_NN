{
 "cells": [
  {
   "cell_type": "markdown",
   "id": "3eabaf95",
   "metadata": {
    "id": "3eabaf95"
   },
   "source": [
    "# VAE for Multiple Circles"
   ]
  },
  {
   "cell_type": "markdown",
   "id": "2b76de6e",
   "metadata": {},
   "source": [
    "This notebook is the definition and the training of the VAE that predicts PI and the point clouds for the multiple circles dataset.\n",
    "\n",
    "In this notebook there are two options when it comes to training : \n",
    "- We can use, like in the other notebook, only the MSE to compute the loss\n",
    "- We can also use the Wasserstein distance between the predicted densoty and the true density. It uses to compute this distance a cubical filtration."
   ]
  },
  {
   "cell_type": "code",
   "execution_count": null,
   "id": "fccc3953",
   "metadata": {
    "id": "fccc3953"
   },
   "outputs": [],
   "source": [
    "import matplotlib.pyplot as plt\n",
    "import numpy as np\n",
    "\n",
    "import tensorflow as tf\n",
    "from time import time\n",
    "\n",
    "from gudhi import CubicalComplex\n",
    "from gudhi.wasserstein import wasserstein_distance\n",
    "import ot as ot\n",
    "\n",
    "from tqdm import tqdm"
   ]
  },
  {
   "cell_type": "markdown",
   "id": "dadca24e",
   "metadata": {
    "id": "dadca24e"
   },
   "source": [
    "## Load the data "
   ]
  },
  {
   "cell_type": "code",
   "execution_count": null,
   "id": "d075d93f",
   "metadata": {
    "id": "d075d93f"
   },
   "outputs": [],
   "source": [
    "data = np.load('/content/drive/MyDrive/PI_data_multiple_circle_density.npz')\n",
    "\n",
    "PC_train = data[\"data_train\"]\n",
    "PI_train = data[\"PI_train\"]\n",
    "density_train = data[\"density_train\"]\n",
    "PC_test = data[\"data_test\"]\n",
    "PI_test = data[\"PI_test\"]\n",
    "density_test = data[\"density_test\"]"
   ]
  },
  {
   "cell_type": "code",
   "execution_count": null,
   "id": "648cb3b8",
   "metadata": {
    "id": "648cb3b8"
   },
   "outputs": [],
   "source": [
    "N_sets_train = PC_train.shape[0]\n",
    "N_sets_test = PC_test.shape[0]\n",
    "N_points = PC_train.shape[1]\n",
    "PI_size = int(np.sqrt(PI_train.shape[1]))\n",
    "size = int(np.sqrt(density_test.shape[1]))\n",
    "dim = 2\n",
    "batch_size = 64"
   ]
  },
  {
   "cell_type": "code",
   "execution_count": null,
   "id": "ed63bdbf",
   "metadata": {
    "colab": {
     "base_uri": "https://localhost:8080/"
    },
    "id": "ed63bdbf",
    "outputId": "297fb1cd-1bac-4584-9863-c0db152605ec"
   },
   "outputs": [
    {
     "name": "stdout",
     "output_type": "stream",
     "text": [
      "N_sets_train :  9999\n",
      "N_sets_test :  999\n",
      "N_points :  600\n",
      "PI_size :  50\n",
      "Size :  50\n"
     ]
    }
   ],
   "source": [
    "print(\"N_sets_train : \", N_sets_train)\n",
    "print(\"N_sets_test : \", N_sets_test)\n",
    "print(\"N_points : \", N_points)\n",
    "print(\"PI_size : \", PI_size)\n",
    "print(\"Size : \", size)"
   ]
  },
  {
   "cell_type": "markdown",
   "id": "becc6b80",
   "metadata": {},
   "source": [
    "We normalize the PIs and the densities.\n"
   ]
  },
  {
   "cell_type": "code",
   "execution_count": null,
   "id": "47707b12",
   "metadata": {
    "id": "47707b12"
   },
   "outputs": [],
   "source": [
    "PI_train /= max(np.max(PI_train), np.max(PI_test))\n",
    "PI_test /= max(np.max(PI_test), np.max(PI_test))"
   ]
  },
  {
   "cell_type": "code",
   "execution_count": null,
   "id": "4e1a8697",
   "metadata": {
    "id": "4e1a8697"
   },
   "outputs": [],
   "source": [
    "for i in range(N_sets_train):\n",
    "    density_train[i] /= np.max(density_train[i])\n",
    "for i in range(N_sets_test):\n",
    "    density_test[i] /= np.max(density_test[i])"
   ]
  },
  {
   "cell_type": "markdown",
   "id": "656270e1",
   "metadata": {
    "id": "656270e1"
   },
   "source": [
    "We create random batchs. Each batch is an array of array that contains $(PI,PC)$."
   ]
  },
  {
   "cell_type": "code",
   "execution_count": null,
   "id": "5799c1d6",
   "metadata": {
    "id": "5799c1d6"
   },
   "outputs": [],
   "source": [
    "data_train = np.stack((PI_train[:2048], density_train[:2048]), 1)\n",
    "data_test = np.stack((PI_test, density_test), 1)"
   ]
  },
  {
   "cell_type": "code",
   "execution_count": null,
   "id": "3a67d5ae",
   "metadata": {
    "id": "3a67d5ae"
   },
   "outputs": [],
   "source": [
    "train_dataset = (tf.data.Dataset.from_tensor_slices(\n",
    "    np.float32(data_train)).shuffle(N_sets_train).batch(batch_size))\n",
    "test_dataset = (tf.data.Dataset.from_tensor_slices(\n",
    "    np.float32(data_test)).shuffle(N_sets_test).batch(batch_size))"
   ]
  },
  {
   "cell_type": "markdown",
   "id": "047b843c",
   "metadata": {
    "id": "047b843c"
   },
   "source": [
    "## Create the VAE"
   ]
  },
  {
   "cell_type": "markdown",
   "id": "c0d839a2",
   "metadata": {},
   "source": [
    "This fist cell is taken from Mathieu Carrière's github where he implements a tensorflow friendly Cubical filtration. "
   ]
  },
  {
   "cell_type": "code",
   "execution_count": null,
   "id": "p576hWqYbOSE",
   "metadata": {
    "id": "p576hWqYbOSE"
   },
   "outputs": [],
   "source": [
    "######################\n",
    "# Cubical filtration #\n",
    "######################\n",
    "\n",
    "# The parameters of the model are the pixel values.\n",
    "\n",
    "def _Cubical(X, dimension):\n",
    "    # Parameters: X (image),\n",
    "    #             dimension (homology dimension)\n",
    "\n",
    "    # Compute the persistence pairs with Gudhi\n",
    "    cc = CubicalComplex(dimensions=X.shape, top_dimensional_cells=X.flatten())\n",
    "    cc.persistence()\n",
    "    try:\n",
    "        cof = cc.cofaces_of_persistence_pairs()[0][dimension]\n",
    "    except IndexError:\n",
    "        cof = np.array([])\n",
    "\n",
    "    if len(cof) > 0:\n",
    "        # Sort points with distance-to-diagonal\n",
    "        Xs = X.shape\n",
    "        pers = [X[np.unravel_index(cof[idx,1], Xs)] - X[np.unravel_index(cof[idx,0], Xs)] for idx in range(len(cof))]\n",
    "        perm = np.argsort(pers)\n",
    "        cof = cof[perm[::-1]]\n",
    "    \n",
    "    # Retrieve and ouput image indices/pixels corresponding to positive and negative simplices\n",
    "    D = len(Xs) if len(cof) > 0 else 1\n",
    "    ocof = np.array([0 for _ in range(D*2*cof.shape[0])])\n",
    "    count = 0\n",
    "    for idx in range(0,2*cof.shape[0],2):\n",
    "        ocof[D*idx:D*(idx+1)]     = np.unravel_index(cof[count,0], Xs)\n",
    "        ocof[D*(idx+1):D*(idx+2)] = np.unravel_index(cof[count,1], Xs)\n",
    "        count += 1\n",
    "    return np.array(ocof, dtype=np.int32)\n",
    "\n",
    "class CubicalLayer(tf.keras.layers.Layer):\n",
    "    \"\"\"\n",
    "    TensorFlow layer for computing cubical persistence out of a cubical complex\n",
    "    Attributes:\n",
    "        dimension (int): homology dimension\n",
    "    \"\"\"\n",
    "    def __init__(self, dimension=1, **kwargs):\n",
    "        super().__init__(dynamic=True, **kwargs)\n",
    "        self.dimension = dimension\n",
    "\n",
    "    def build(self):\n",
    "        super.build()\n",
    "        \n",
    "    def call(self, X):\n",
    "        \"\"\"\n",
    "        Compute persistence diagram associated to a cubical complex filtered by some pixel values \n",
    "        Parameters:\n",
    "            X (TensorFlow variable): pixel values of the cubical complex\n",
    "        \"\"\"\n",
    "        # Compute pixels associated to positive and negative simplices \n",
    "        # Don't compute gradient for this operation\n",
    "        indices = tf.stop_gradient(_Cubical(X.numpy(), self.dimension))\n",
    "        # Get persistence diagram by simply picking the corresponding entries in the image\n",
    "        dgm = tf.reshape(tf.gather_nd(X, tf.reshape(indices, [-1,len(X.shape)])), [-1,2])\n",
    "        return dgm"
   ]
  },
  {
   "cell_type": "markdown",
   "id": "15828ade",
   "metadata": {},
   "source": [
    "This is the defintion of the VAE divided in multiple classes"
   ]
  },
  {
   "cell_type": "code",
   "execution_count": null,
   "id": "a74bb16d",
   "metadata": {
    "id": "a74bb16d"
   },
   "outputs": [],
   "source": [
    "class Sampling(tf.keras.layers.Layer):\n",
    "    \"\"\"Uses (mean_joint, var_joint) to sample z_joint, the latent vector encoding the output.\"\"\"\n",
    "    def call(self, inputs):\n",
    "        z_mean, z_var = inputs\n",
    "        batch = tf.shape(z_mean)[0]\n",
    "        dim = tf.shape(z_mean)[1]\n",
    "        epsilon = tf.keras.backend.random_normal(shape=(batch, dim))\n",
    "        return z_mean + z_var * epsilon\n",
    "\n",
    "\n",
    "class Encoder_PI(tf.keras.layers.Layer):\n",
    "    \"\"\"Maps the PI of the input to a couple (z_mean, z_log_var).\"\"\"\n",
    "    def __init__(self, latent_dim=2, name=\"encoder_PI\", **kwargs):\n",
    "        super(Encoder_PI, self).__init__(name=name, **kwargs)\n",
    "\n",
    "        self.dense_100 = tf.keras.layers.Dense(100, activation='relu')\n",
    "        #self.dense_50 = tf.keras.layers.Dense(50, activation='relu')\n",
    "        self.dense_mean = tf.keras.layers.Dense(latent_dim)\n",
    "        self.dense_var = tf.keras.layers.Dense(\n",
    "            latent_dim)  #, activation='relu')\n",
    "\n",
    "    def call(self, inputs):\n",
    "        x = self.dense_100(inputs)\n",
    "        #y = self.dense_50(x)\n",
    "        z_mean = self.dense_mean(x)\n",
    "        z_var = self.dense_var(x)\n",
    "\n",
    "        return z_mean, z_var\n",
    "\n",
    "\n",
    "class Encoder_PC(tf.keras.layers.Layer):\n",
    "    \"\"\"Maps the PC of the input to a couple (z_mean, z_log_var).\"\"\"\n",
    "    def __init__(self, latent_dim=2, name=\"encoder_PC\", **kwargs):\n",
    "        super(Encoder_PC, self).__init__(name=name, **kwargs)\n",
    "\n",
    "        self.dense_100 = tf.keras.layers.Dense(100, activation='relu')\n",
    "        self.dense_50 = tf.keras.layers.Dense(50, activation='relu')\n",
    "\n",
    "        self.dense_mean = tf.keras.layers.Dense(latent_dim)\n",
    "        self.dense_var = tf.keras.layers.Dense(\n",
    "            latent_dim)  #, activation='relu')\n",
    "\n",
    "    def call(self, inputs):\n",
    "        x = self.dense_100(inputs)\n",
    "        x = self.dense_50(x)\n",
    "        z_mean = self.dense_mean(x)\n",
    "        z_var = self.dense_var(x)\n",
    "\n",
    "        return z_mean, z_var\n",
    "\n",
    "\n",
    "class Shared_Decoder(tf.keras.layers.Layer):\n",
    "    \"\"\"Converts z_joint, the encoded vector, back into a couple (z_joint_PI,z_joint_PC).\"\"\"\n",
    "    def __init__(self, latent_dim, name=\"shared_decoder\", **kwargs):\n",
    "        super(Shared_Decoder, self).__init__(name=name, **kwargs)\n",
    "        self.dense_20 = tf.keras.layers.Dense(50, activation='relu')\n",
    "        self.dense_output = tf.keras.layers.Dense(\n",
    "            latent_dim + latent_dim)  #,activation='sigmoid')\n",
    "\n",
    "    def call(self, inputs):\n",
    "        x = self.dense_20(inputs)\n",
    "        return self.dense_output(x)\n",
    "    \n",
    "    \n",
    "    \n",
    "    \n",
    "class Decoder_PI(tf.keras.layers.Layer):\n",
    "    \"\"\"Converts z_joint_PI, the encoded vector, back into a readable PI.\"\"\"\n",
    "    def __init__(self, original_dim, name=\"decoder_PI\", **kwargs):\n",
    "        super(Decoder_PI, self).__init__(name=name, **kwargs)\n",
    "        self.dense_100 = tf.keras.layers.Dense(100, activation='relu')\n",
    "\n",
    "        self.dense_output = tf.keras.layers.Dense(original_dim)\n",
    "\n",
    "    def call(self, inputs):\n",
    "        x = self.dense_100(inputs)\n",
    "        return self.dense_output(x)\n",
    "\n",
    "\n",
    "\n",
    "class Decoder_PC(tf.keras.layers.Layer):\n",
    "    \"\"\"Converts z_joint_PC, the encoded vector, back into a readable PC.\"\"\"\n",
    "    def __init__(self, original_dim, name=\"decoder_PC\", **kwargs):\n",
    "        super(Decoder_PC, self).__init__(name=name, **kwargs)\n",
    "        self.dense_50 = tf.keras.layers.Dense(50, activation='relu')\n",
    "        self.dense_100 = tf.keras.layers.Dense(100, activation='relu')\n",
    "        self.dense_200 = tf.keras.layers.Dense(200, activation='relu')\n",
    "        self.dense_output = tf.keras.layers.Dense(\n",
    "            original_dim)  #,activation='sigmoid')\n",
    "\n",
    "    def call(self, inputs):\n",
    "        x = self.dense_50(inputs)\n",
    "        y = self.dense_100(x)\n",
    "        z = self.dense_200(y)\n",
    "\n",
    "        return self.dense_output(z)\n",
    "\n",
    "\n",
    "class VariationalAutoEncoder(tf.keras.Model):\n",
    "    \"\"\"Combines the encoder and decoder into an end-to-end model for training.\"\"\"\n",
    "    def __init__(self,\n",
    "                 original_dim,\n",
    "                 latent_dim=2,\n",
    "                 name=\"autoencoder\",\n",
    "                 **kwargs):\n",
    "        super(VariationalAutoEncoder, self).__init__(name=name, **kwargs)\n",
    "        self.original_dim = original_dim\n",
    "        self.encoder_PI = Encoder_PI(latent_dim=latent_dim)\n",
    "        self.decoder_PI = Decoder_PI(original_dim)\n",
    "\n",
    "        self.encoder_PC = Encoder_PC(latent_dim=latent_dim)\n",
    "        self.decoder_PC = Decoder_PC(original_dim)\n",
    "\n",
    "        self.sampling = Sampling()\n",
    "\n",
    "        self.shared_decoder = Shared_Decoder(latent_dim)\n",
    "        self.CubicalLayer = CubicalLayer(dimension=0)\n",
    "\n",
    "    def call(self, inputs):\n",
    "        PI_inputs, PC_inputs = inputs\n",
    "\n",
    "        #First step, we encode the PI and PC we have in input\n",
    "        z_mean_PI, z_var_PI = self.encoder_PI(PI_inputs)\n",
    "        z_mean_PC, z_var_PC = self.encoder_PC(PC_inputs)\n",
    "\n",
    "        #We then compute (mean_joint, var_joint) by doing a product of gaussians\n",
    "        mean_joint = (z_mean_PI / z_var_PI +\n",
    "                      z_mean_PC / z_var_PC) * (1 + 1 / z_var_PI + 1 / z_var_PC)\n",
    "        var_joint = (1 + 1 / z_var_PI + 1 / z_var_PC)\n",
    "\n",
    "        #We sample grom the joint distribution \n",
    "        z_joint = self.sampling((mean_joint, var_joint))\n",
    "   \n",
    "\n",
    "        # Add KL divergence regularization loss.\n",
    "        kl_loss = -0.5 * tf.reduce_mean(\n",
    "            tf.math.log(tf.square(var_joint)) - tf.square(mean_joint) -\n",
    "            tf.square(var_joint) + 1, 0)\n",
    "\n",
    "        self.add_loss(tf.reduce_sum(kl_loss))\n",
    "\n",
    "        #We decode z_joint into z_PI, z_PC\n",
    "        z_PI, z_PC = tf.split(self.shared_decoder(z_joint),\n",
    "                              num_or_size_splits=2,\n",
    "                              axis=1)\n",
    "\n",
    "        #We decode z_PI, z_PC into real PI and PC\n",
    "        reconstructed_PI = self.decoder_PI(z_PI)\n",
    "        reconstructed_PC = self.decoder_PC(z_PC)\n",
    "\n",
    "        return reconstructed_PI, reconstructed_PC"
   ]
  },
  {
   "cell_type": "code",
   "execution_count": null,
   "id": "570718fb",
   "metadata": {
    "colab": {
     "base_uri": "https://localhost:8080/"
    },
    "id": "570718fb",
    "outputId": "e6765066-8822-4e1c-ff62-1d78676ff91f",
    "scrolled": true
   },
   "outputs": [
    {
     "name": "stderr",
     "output_type": "stream",
     "text": [
      "\r",
      "0it [00:00, ?it/s]"
     ]
    },
    {
     "name": "stdout",
     "output_type": "stream",
     "text": [
      "Start of epoch 1\n"
     ]
    },
    {
     "name": "stderr",
     "output_type": "stream",
     "text": [
      "32it [01:37,  3.04s/it]\n",
      "0it [00:00, ?it/s]"
     ]
    },
    {
     "name": "stdout",
     "output_type": "stream",
     "text": [
      "Epoch 1: MSE loss for PI = 2.6664e-02, Wass loss for PC = 6.4179e+00, KL loss = 1.0775e+01\n",
      "Time to compute epoch 1 : 142.0020730495453 sec\n",
      "Start of epoch 2\n"
     ]
    },
    {
     "name": "stderr",
     "output_type": "stream",
     "text": [
      "32it [01:36,  3.00s/it]\n",
      "0it [00:00, ?it/s]"
     ]
    },
    {
     "name": "stdout",
     "output_type": "stream",
     "text": [
      "Epoch 2: MSE loss for PI = 8.8953e+00, Wass loss for PC = 5.6483e+02, KL loss = 3.5876e+06\n",
      "Time to compute epoch 2 : 141.95790004730225 sec\n",
      "Start of epoch 3\n"
     ]
    },
    {
     "name": "stderr",
     "output_type": "stream",
     "text": [
      "32it [01:37,  3.04s/it]\n",
      "0it [00:00, ?it/s]"
     ]
    },
    {
     "name": "stdout",
     "output_type": "stream",
     "text": [
      "Epoch 3: MSE loss for PI = 3.0059e-02, Wass loss for PC = 6.7381e+00, KL loss = 1.6158e+01\n",
      "Time to compute epoch 3 : 97.24946975708008 sec\n",
      "Start of epoch 4\n"
     ]
    },
    {
     "name": "stderr",
     "output_type": "stream",
     "text": [
      "32it [01:36,  3.03s/it]\n",
      "0it [00:00, ?it/s]"
     ]
    },
    {
     "name": "stdout",
     "output_type": "stream",
     "text": [
      "Epoch 4: MSE loss for PI = 2.2766e-02, Wass loss for PC = 7.0955e+00, KL loss = 4.0324e+00\n",
      "Time to compute epoch 4 : 96.98180890083313 sec\n",
      "Start of epoch 5\n"
     ]
    },
    {
     "name": "stderr",
     "output_type": "stream",
     "text": [
      "32it [01:35,  2.99s/it]\n",
      "0it [00:00, ?it/s]"
     ]
    },
    {
     "name": "stdout",
     "output_type": "stream",
     "text": [
      "Epoch 5: MSE loss for PI = 2.4421e-02, Wass loss for PC = 6.2819e+00, KL loss = 8.9196e+00\n",
      "Time to compute epoch 5 : 141.93958163261414 sec\n",
      "Start of epoch 6\n"
     ]
    },
    {
     "name": "stderr",
     "output_type": "stream",
     "text": [
      "32it [01:33,  2.91s/it]\n",
      "0it [00:00, ?it/s]"
     ]
    },
    {
     "name": "stdout",
     "output_type": "stream",
     "text": [
      "Epoch 6: MSE loss for PI = 2.3628e-02, Wass loss for PC = 6.3187e+00, KL loss = 5.0534e+00\n",
      "Time to compute epoch 6 : 93.08016276359558 sec\n",
      "Start of epoch 7\n"
     ]
    },
    {
     "name": "stderr",
     "output_type": "stream",
     "text": [
      "32it [01:30,  2.82s/it]\n",
      "0it [00:00, ?it/s]"
     ]
    },
    {
     "name": "stdout",
     "output_type": "stream",
     "text": [
      "Epoch 7: MSE loss for PI = 1.9612e-02, Wass loss for PC = 7.2610e+00, KL loss = 4.3358e+00\n",
      "Time to compute epoch 7 : 141.9441740512848 sec\n",
      "Start of epoch 8\n"
     ]
    },
    {
     "name": "stderr",
     "output_type": "stream",
     "text": [
      "32it [01:30,  2.81s/it]\n",
      "0it [00:00, ?it/s]"
     ]
    },
    {
     "name": "stdout",
     "output_type": "stream",
     "text": [
      "Epoch 8: MSE loss for PI = 1.1202e-01, Wass loss for PC = 6.4836e+00, KL loss = 9.4677e+01\n",
      "Time to compute epoch 8 : 141.9452006816864 sec\n",
      "Start of epoch 9\n"
     ]
    },
    {
     "name": "stderr",
     "output_type": "stream",
     "text": [
      "32it [01:30,  2.82s/it]\n",
      "0it [00:00, ?it/s]"
     ]
    },
    {
     "name": "stdout",
     "output_type": "stream",
     "text": [
      "Epoch 9: MSE loss for PI = 2.0358e-02, Wass loss for PC = 6.8580e+00, KL loss = 1.7156e+03\n",
      "Time to compute epoch 9 : 90.37419080734253 sec\n",
      "Start of epoch 10\n"
     ]
    },
    {
     "name": "stderr",
     "output_type": "stream",
     "text": [
      "32it [01:30,  2.82s/it]\n",
      "0it [00:00, ?it/s]"
     ]
    },
    {
     "name": "stdout",
     "output_type": "stream",
     "text": [
      "Epoch 10: MSE loss for PI = 2.6702e-02, Wass loss for PC = 6.4709e+00, KL loss = 2.1500e+01\n",
      "Time to compute epoch 10 : 141.93803119659424 sec\n",
      "Start of epoch 11\n"
     ]
    },
    {
     "name": "stderr",
     "output_type": "stream",
     "text": [
      "32it [01:28,  2.77s/it]\n",
      "0it [00:00, ?it/s]"
     ]
    },
    {
     "name": "stdout",
     "output_type": "stream",
     "text": [
      "Epoch 11: MSE loss for PI = 1.6286e-02, Wass loss for PC = 6.0714e+00, KL loss = 5.3206e+00\n",
      "Time to compute epoch 11 : 88.77020263671875 sec\n",
      "Start of epoch 12\n"
     ]
    },
    {
     "name": "stderr",
     "output_type": "stream",
     "text": [
      "32it [01:28,  2.75s/it]\n",
      "0it [00:00, ?it/s]"
     ]
    },
    {
     "name": "stdout",
     "output_type": "stream",
     "text": [
      "Epoch 12: MSE loss for PI = 1.2544e-02, Wass loss for PC = 6.5862e+00, KL loss = 4.3127e+00\n",
      "Time to compute epoch 12 : 88.06448769569397 sec\n",
      "Start of epoch 13\n"
     ]
    },
    {
     "name": "stderr",
     "output_type": "stream",
     "text": [
      "32it [01:29,  2.80s/it]\n",
      "0it [00:00, ?it/s]"
     ]
    },
    {
     "name": "stdout",
     "output_type": "stream",
     "text": [
      "Epoch 13: MSE loss for PI = 1.1635e-02, Wass loss for PC = 7.2129e+00, KL loss = 4.5697e+00\n",
      "Time to compute epoch 13 : 89.74911046028137 sec\n",
      "Start of epoch 14\n"
     ]
    },
    {
     "name": "stderr",
     "output_type": "stream",
     "text": [
      "32it [01:28,  2.78s/it]\n",
      "0it [00:00, ?it/s]"
     ]
    },
    {
     "name": "stdout",
     "output_type": "stream",
     "text": [
      "Epoch 14: MSE loss for PI = 1.1340e-02, Wass loss for PC = 6.7101e+00, KL loss = 4.1555e+00\n",
      "Time to compute epoch 14 : 141.9408278465271 sec\n",
      "Start of epoch 15\n"
     ]
    },
    {
     "name": "stderr",
     "output_type": "stream",
     "text": [
      "32it [01:30,  2.82s/it]\n",
      "0it [00:00, ?it/s]"
     ]
    },
    {
     "name": "stdout",
     "output_type": "stream",
     "text": [
      "Epoch 15: MSE loss for PI = 1.0150e-01, Wass loss for PC = 5.9419e+00, KL loss = 9.5150e+01\n",
      "Time to compute epoch 15 : 90.28156566619873 sec\n",
      "Start of epoch 16\n"
     ]
    },
    {
     "name": "stderr",
     "output_type": "stream",
     "text": [
      "32it [01:28,  2.77s/it]\n",
      "0it [00:00, ?it/s]"
     ]
    },
    {
     "name": "stdout",
     "output_type": "stream",
     "text": [
      "Epoch 16: MSE loss for PI = 9.7520e-03, Wass loss for PC = 6.5366e+00, KL loss = 3.8247e+00\n",
      "Time to compute epoch 16 : 88.65971946716309 sec\n",
      "Start of epoch 17\n"
     ]
    },
    {
     "name": "stderr",
     "output_type": "stream",
     "text": [
      "32it [01:28,  2.78s/it]\n",
      "0it [00:00, ?it/s]"
     ]
    },
    {
     "name": "stdout",
     "output_type": "stream",
     "text": [
      "Epoch 17: MSE loss for PI = 9.8605e-03, Wass loss for PC = 6.6794e+00, KL loss = 5.4993e+00\n",
      "Time to compute epoch 17 : 88.86918663978577 sec\n",
      "Start of epoch 18\n"
     ]
    },
    {
     "name": "stderr",
     "output_type": "stream",
     "text": [
      "32it [01:28,  2.77s/it]\n",
      "0it [00:00, ?it/s]"
     ]
    },
    {
     "name": "stdout",
     "output_type": "stream",
     "text": [
      "Epoch 18: MSE loss for PI = 9.4381e-03, Wass loss for PC = 6.2910e+00, KL loss = 6.4912e+00\n",
      "Time to compute epoch 18 : 88.75628161430359 sec\n",
      "Start of epoch 19\n"
     ]
    },
    {
     "name": "stderr",
     "output_type": "stream",
     "text": [
      "32it [01:30,  2.82s/it]\n",
      "0it [00:00, ?it/s]"
     ]
    },
    {
     "name": "stdout",
     "output_type": "stream",
     "text": [
      "Epoch 19: MSE loss for PI = 8.9922e-03, Wass loss for PC = 6.2925e+00, KL loss = 4.7100e+00\n",
      "Time to compute epoch 19 : 90.20080733299255 sec\n",
      "Start of epoch 20\n"
     ]
    },
    {
     "name": "stderr",
     "output_type": "stream",
     "text": [
      "32it [01:28,  2.77s/it]\n",
      "0it [00:00, ?it/s]"
     ]
    },
    {
     "name": "stdout",
     "output_type": "stream",
     "text": [
      "Epoch 20: MSE loss for PI = 9.1450e-03, Wass loss for PC = 7.0486e+00, KL loss = 3.5993e+00\n",
      "Time to compute epoch 20 : 141.94453477859497 sec\n",
      "Start of epoch 21\n"
     ]
    },
    {
     "name": "stderr",
     "output_type": "stream",
     "text": [
      "32it [01:29,  2.80s/it]\n",
      "0it [00:00, ?it/s]"
     ]
    },
    {
     "name": "stdout",
     "output_type": "stream",
     "text": [
      "Epoch 21: MSE loss for PI = 2.2725e-02, Wass loss for PC = 6.1952e+00, KL loss = 4.8642e+01\n",
      "Time to compute epoch 21 : 141.94943046569824 sec\n",
      "Start of epoch 22\n"
     ]
    },
    {
     "name": "stderr",
     "output_type": "stream",
     "text": [
      "32it [01:31,  2.87s/it]\n",
      "0it [00:00, ?it/s]"
     ]
    },
    {
     "name": "stdout",
     "output_type": "stream",
     "text": [
      "Epoch 22: MSE loss for PI = 9.9260e-03, Wass loss for PC = 7.5747e+00, KL loss = 3.5927e+00\n",
      "Time to compute epoch 22 : 141.95378279685974 sec\n",
      "Start of epoch 23\n"
     ]
    },
    {
     "name": "stderr",
     "output_type": "stream",
     "text": [
      "32it [01:35,  2.97s/it]\n",
      "0it [00:00, ?it/s]"
     ]
    },
    {
     "name": "stdout",
     "output_type": "stream",
     "text": [
      "Epoch 23: MSE loss for PI = 1.0141e-02, Wass loss for PC = 6.8277e+00, KL loss = 4.5978e+00\n",
      "Time to compute epoch 23 : 95.0593843460083 sec\n",
      "Start of epoch 24\n"
     ]
    },
    {
     "name": "stderr",
     "output_type": "stream",
     "text": [
      "32it [01:34,  2.96s/it]\n",
      "0it [00:00, ?it/s]"
     ]
    },
    {
     "name": "stdout",
     "output_type": "stream",
     "text": [
      "Epoch 24: MSE loss for PI = 9.7659e-03, Wass loss for PC = 6.7694e+00, KL loss = 3.9703e+00\n",
      "Time to compute epoch 24 : 94.61057710647583 sec\n",
      "Start of epoch 25\n"
     ]
    },
    {
     "name": "stderr",
     "output_type": "stream",
     "text": [
      "32it [01:35,  2.99s/it]\n",
      "0it [00:00, ?it/s]"
     ]
    },
    {
     "name": "stdout",
     "output_type": "stream",
     "text": [
      "Epoch 25: MSE loss for PI = 9.3531e-03, Wass loss for PC = 6.3559e+00, KL loss = 4.5075e+00\n",
      "Time to compute epoch 25 : 141.94175457954407 sec\n",
      "Start of epoch 26\n"
     ]
    },
    {
     "name": "stderr",
     "output_type": "stream",
     "text": [
      "32it [01:35,  2.98s/it]\n",
      "0it [00:00, ?it/s]"
     ]
    },
    {
     "name": "stdout",
     "output_type": "stream",
     "text": [
      "Epoch 26: MSE loss for PI = 1.0375e-02, Wass loss for PC = 7.0480e+00, KL loss = 4.6726e+00\n",
      "Time to compute epoch 26 : 95.38409495353699 sec\n",
      "Start of epoch 27\n"
     ]
    },
    {
     "name": "stderr",
     "output_type": "stream",
     "text": [
      "32it [01:34,  2.96s/it]\n",
      "0it [00:00, ?it/s]"
     ]
    },
    {
     "name": "stdout",
     "output_type": "stream",
     "text": [
      "Epoch 27: MSE loss for PI = 1.0070e-02, Wass loss for PC = 6.4197e+00, KL loss = 5.0591e+00\n",
      "Time to compute epoch 27 : 94.64567279815674 sec\n",
      "Start of epoch 28\n"
     ]
    },
    {
     "name": "stderr",
     "output_type": "stream",
     "text": [
      "32it [01:35,  2.98s/it]\n",
      "0it [00:00, ?it/s]"
     ]
    },
    {
     "name": "stdout",
     "output_type": "stream",
     "text": [
      "Epoch 28: MSE loss for PI = 2.7148e-02, Wass loss for PC = 7.0101e+00, KL loss = 2.5739e+01\n",
      "Time to compute epoch 28 : 95.52541947364807 sec\n",
      "Start of epoch 29\n"
     ]
    },
    {
     "name": "stderr",
     "output_type": "stream",
     "text": [
      "32it [01:35,  2.99s/it]\n",
      "0it [00:00, ?it/s]"
     ]
    },
    {
     "name": "stdout",
     "output_type": "stream",
     "text": [
      "Epoch 29: MSE loss for PI = 1.0923e-02, Wass loss for PC = 6.8097e+00, KL loss = 6.4560e+02\n",
      "Time to compute epoch 29 : 141.94080805778503 sec\n",
      "Start of epoch 30\n"
     ]
    },
    {
     "name": "stderr",
     "output_type": "stream",
     "text": [
      "32it [01:34,  2.96s/it]\n",
      "0it [00:00, ?it/s]"
     ]
    },
    {
     "name": "stdout",
     "output_type": "stream",
     "text": [
      "Epoch 30: MSE loss for PI = 9.1287e-03, Wass loss for PC = 6.1170e+00, KL loss = 5.0998e+00\n",
      "Time to compute epoch 30 : 141.95243859291077 sec\n",
      "Start of epoch 31\n"
     ]
    },
    {
     "name": "stderr",
     "output_type": "stream",
     "text": [
      "32it [01:35,  3.00s/it]\n",
      "0it [00:00, ?it/s]"
     ]
    },
    {
     "name": "stdout",
     "output_type": "stream",
     "text": [
      "Epoch 31: MSE loss for PI = 9.9442e-03, Wass loss for PC = 5.8609e+00, KL loss = 6.1934e+02\n",
      "Time to compute epoch 31 : 95.99211835861206 sec\n",
      "Start of epoch 32\n"
     ]
    },
    {
     "name": "stderr",
     "output_type": "stream",
     "text": [
      "32it [01:34,  2.97s/it]\n",
      "0it [00:00, ?it/s]"
     ]
    },
    {
     "name": "stdout",
     "output_type": "stream",
     "text": [
      "Epoch 32: MSE loss for PI = 1.9894e-01, Wass loss for PC = 6.6708e+00, KL loss = 2.8143e+02\n",
      "Time to compute epoch 32 : 141.94335556030273 sec\n",
      "Start of epoch 33\n"
     ]
    },
    {
     "name": "stderr",
     "output_type": "stream",
     "text": [
      "32it [01:33,  2.93s/it]\n",
      "0it [00:00, ?it/s]"
     ]
    },
    {
     "name": "stdout",
     "output_type": "stream",
     "text": [
      "Epoch 33: MSE loss for PI = 1.0526e-02, Wass loss for PC = 5.8920e+00, KL loss = 6.4657e+02\n",
      "Time to compute epoch 33 : 141.94770908355713 sec\n",
      "Start of epoch 34\n"
     ]
    },
    {
     "name": "stderr",
     "output_type": "stream",
     "text": [
      "3it [00:09,  3.03s/it]"
     ]
    }
   ],
   "source": [
    "original_dim = PI_size * PI_size\n",
    "latent_dim = 3\n",
    "vae = VariationalAutoEncoder(original_dim, latent_dim)\n",
    "\n",
    "optimizer = tf.keras.optimizers.Adamax(learning_rate=5e-3)\n",
    "mse_loss_fn = tf.keras.losses.MeanSquaredError()\n",
    "\n",
    "#We keep track of the losses\n",
    "mse_loss_PI = []\n",
    "mse_loss_PC = []\n",
    "kl_loss = []\n",
    "\n",
    "#Number of epochs\n",
    "epochs = 4000\n",
    "\n",
    "# Iterate over epochs.\n",
    "for epoch in range(epochs):\n",
    "    print(\"Start of epoch %d\" % (epoch + 1, ))\n",
    "    initial_time = time()\n",
    "    \n",
    "    # Iterate over the batches of the dataset.\n",
    "    for step, x_batch_train in enumerate(train_dataset):\n",
    "        #For each batch, we separate the PI from the PC\n",
    "        PI_inputs = x_batch_train[:, 0, :]\n",
    "        PC_inputs = x_batch_train[:, 1, :]\n",
    "        with tf.GradientTape() as tape:\n",
    "            reconstructed_PI, reconstructed_PC = vae((PI_inputs, PC_inputs))\n",
    "            # Compute reconstruction loss \n",
    "            #MSE loss for PI\n",
    "            loss = mse_loss_fn(x_batch_train[:, 0, :], reconstructed_PI)\n",
    "            \n",
    "            ################################\n",
    "            ## TO USE THE MSE FOR THE DENSITY USE THE FOLLOWING\n",
    "            loss += 100000*mse_loss_fn(x_batch_train[:, 1, :], reconstructed_PC)\n",
    "            ################################\n",
    "            ## OR TO USE THE WASSERSTIEN DISTANCE BETWEEN THE DENSITY :\n",
    "            #wass = 0\n",
    "            #for i in (range(batch_size)):\n",
    "            #  dgm_reconstructed = vae.CubicalLayer.call(tf.cast(reconstructed_PC[i],tf.float32))\n",
    "            #  dgm_true =  vae.CubicalLayer.call(tf.cast(PC_inputs[i],tf.float32))\n",
    "            #  wass += tf.square(wasserstein_distance(dgm_reconstructed,dgm_true, order=2, enable_autodiff=True))            \n",
    "            #loss += 100*wass/batch_size\n",
    "            ################################\n",
    "            \n",
    "            loss += tf.reduce_sum(vae.losses)  # Add KLD regularization loss\n",
    "       \n",
    "        # Compute the gradient    \n",
    "        grads = tape.gradient(loss, vae.trainable_weights)\n",
    "        optimizer.apply_gradients(zip(grads, vae.trainable_weights))\n",
    "\n",
    "        #Keep track of the losses\n",
    "        mse_loss_PI.append(\n",
    "            mse_loss_fn(x_batch_train[:, 0, :], reconstructed_PI))\n",
    "        mse_loss_PC.append(\n",
    "            mse_loss_fn(x_batch_train[:, 1, :], reconstructed_PC))\n",
    "        kl_loss.append(vae.losses[0])\n",
    "\n",
    "    print(\n",
    "        \"Epoch %d: MSE loss for PI = %.4e, Wass loss for PC = %.4e, KL loss = %.4e\"\n",
    "        % (epoch + 1, mse_loss_fn(x_batch_train[:, 0, :],\n",
    "                                  reconstructed_PI).numpy(),\n",
    "           wass/batch_size, vae.losses[0].numpy()))\n",
    "\n",
    "    print(\"Time to compute epoch {} : {} sec\".format(epoch + 1,\n",
    "                                                     time() - initial_time))"
   ]
  },
  {
   "cell_type": "markdown",
   "id": "614e5654",
   "metadata": {},
   "source": [
    "We can plot the evolution of the errors"
   ]
  },
  {
   "cell_type": "code",
   "execution_count": null,
   "id": "64add6a4",
   "metadata": {
    "colab": {
     "base_uri": "https://localhost:8080/",
     "height": 282
    },
    "id": "64add6a4",
    "outputId": "06241cdb-76f9-400f-aaff-6ee0dbaa2e3a",
    "scrolled": true
   },
   "outputs": [
    {
     "data": {
      "text/plain": [
       "<matplotlib.legend.Legend at 0x7fc6b42adc50>"
      ]
     },
     "execution_count": 24,
     "metadata": {
      "tags": []
     },
     "output_type": "execute_result"
    },
    {
     "data": {
      "image/png": "[encoded data removed]",
      "text/plain": [
       "<Figure size 432x288 with 1 Axes>"
      ]
     },
     "metadata": {
      "needs_background": "light",
      "tags": []
     },
     "output_type": "display_data"
    }
   ],
   "source": [
    "i = 100\n",
    "plt.plot(kl_loss[i:])\n",
    "plt.plot(mse_loss_PI[i:])\n",
    "plt.plot(mse_loss_PC[i:])\n",
    "plt.legend([\"KL loss\", \"MSE loss PI\", \"MSE loss PC\"])\n",
    "#plt.ylim(0,1)"
   ]
  },
  {
   "cell_type": "markdown",
   "id": "3a7d49e4",
   "metadata": {},
   "source": [
    "### Quick look at the results"
   ]
  },
  {
   "cell_type": "markdown",
   "id": "bc8add4a",
   "metadata": {},
   "source": [
    "We can plot the results of a test dataset to see have our VAE did."
   ]
  },
  {
   "cell_type": "code",
   "execution_count": null,
   "id": "7628d34a",
   "metadata": {
    "id": "7628d34a"
   },
   "outputs": [],
   "source": [
    "PI_pred, PC_pred = vae((PI_test, density_test))"
   ]
  },
  {
   "cell_type": "code",
   "execution_count": null,
   "id": "a6ab48a3",
   "metadata": {
    "colab": {
     "base_uri": "https://localhost:8080/",
     "height": 258
    },
    "id": "a6ab48a3",
    "outputId": "4ea8c1b2-c679-46ab-ebbe-8f65b23d0589"
   },
   "outputs": [
    {
     "data": {
      "image/png": "[encoded data removed]",
      "text/plain": [
       "<Figure size 432x288 with 12 Axes>"
      ]
     },
     "metadata": {
      "needs_background": "light",
      "tags": []
     },
     "output_type": "display_data"
    }
   ],
   "source": [
    "j = 0\n",
    "for i in range(4):\n",
    "    plt.subplot(4, 2, 2 * i + 2)\n",
    "    plt.imshow(np.flip(np.reshape(PI_pred[i+ j], [PI_size, PI_size]), 0),\n",
    "               vmin=0,\n",
    "               vmax=1,\n",
    "               cmap='jet')\n",
    "    plt.colorbar()\n",
    "    plt.axis('off')\n",
    "    plt.subplot(4, 2, 2 * i + 1)\n",
    "    plt.imshow(np.flip(np.reshape(PC_pred[i + j], [size, size]), 0), cmap='jet')\n",
    "    #plt.colorbar()\n",
    "    plt.axis('off')\n",
    "#plt.savefig(\"VAE_full_multiples_circles_predicted.pdf\")"
   ]
  },
  {
   "cell_type": "markdown",
   "id": "fbd5b8e2",
   "metadata": {},
   "source": [
    "Here are the real densities and the real PI."
   ]
  },
  {
   "cell_type": "code",
   "execution_count": null,
   "id": "07044ae3",
   "metadata": {
    "colab": {
     "base_uri": "https://localhost:8080/",
     "height": 269
    },
    "id": "07044ae3",
    "outputId": "fc564975-5a8c-4373-c0ff-9cd4ca68f4d7",
    "scrolled": true
   },
   "outputs": [
    {
     "data": {
      "image/png": "[encoded data removed]",
      "text/plain": [
       "<Figure size 432x288 with 20 Axes>"
      ]
     },
     "metadata": {
      "needs_background": "light",
      "tags": []
     },
     "output_type": "display_data"
    }
   ],
   "source": [
    "for i in range(4):\n",
    "    plt.subplot(4, 3, 3 * i + 1)\n",
    "    #PC = np.reshape(predictions[i, :dim * N_points], (N_points, dim))\n",
    "    plt.scatter(PC_test[i + j, :, 0], PC_test[i + j, :, 1], s=3)\n",
    "    plt.xlim(-1, 1)\n",
    "    plt.ylim(-1, 1)\n",
    "    plt.axis('equal')\n",
    "    plt.subplot(4, 3, 3 * i + 2)\n",
    "    #im = predictions[i, dim * N_points:]\n",
    "    plt.imshow(np.flip(np.reshape(density_test[i + j], [size, size]), 0),\n",
    "               cmap='jet')\n",
    "    plt.colorbar()\n",
    "    plt.axis('off')\n",
    "\n",
    "    plt.subplot(4, 3, 3 * i + 3)\n",
    "    #im = predictions[i, dim * N_points:]\n",
    "    plt.imshow(np.flip(np.reshape(PI_test[i + j], [PI_size, PI_size]), 0),\n",
    "               vmin=0,\n",
    "               vmax=1,\n",
    "               cmap='jet')\n",
    "    plt.colorbar()\n",
    "    plt.axis('off')\n",
    "\n",
    "#plt.savefig(\"VAE_full_multiples_circles_true.pdf\")"
   ]
  },
  {
   "cell_type": "markdown",
   "id": "4483f062",
   "metadata": {},
   "source": [
    "We can save our model"
   ]
  },
  {
   "cell_type": "code",
   "execution_count": null,
   "id": "df409411",
   "metadata": {
    "colab": {
     "base_uri": "https://localhost:8080/"
    },
    "id": "df409411",
    "outputId": "d680bd08-756e-4aa2-83db-988176d9e91a",
    "scrolled": false
   },
   "outputs": [
    {
     "name": "stdout",
     "output_type": "stream",
     "text": [
      "WARNING:tensorflow:Skipping full serialization of Keras layer <__main__.CubicalLayer object at 0x7fc6b643a050>, because it is not built.\n"
     ]
    },
    {
     "name": "stderr",
     "output_type": "stream",
     "text": [
      "WARNING:absl:Found untraced functions such as dense_15_layer_call_fn, dense_15_layer_call_and_return_conditional_losses, dense_16_layer_call_fn, dense_16_layer_call_and_return_conditional_losses, dense_17_layer_call_fn while saving (showing 5 of 75). These functions will not be directly callable after loading.\n"
     ]
    },
    {
     "name": "stdout",
     "output_type": "stream",
     "text": [
      "INFO:tensorflow:Assets written to: /content/drive/MyDrive/VAE_full_multiple_circles_2/assets\n"
     ]
    },
    {
     "name": "stderr",
     "output_type": "stream",
     "text": [
      "INFO:tensorflow:Assets written to: /content/drive/MyDrive/VAE_full_multiple_circles_2/assets\n"
     ]
    }
   ],
   "source": [
    "vae.save(\"/content/drive/MyDrive/VAE_full_multiple_circles_2\" )"
   ]
  }
 ],
 "metadata": {
  "accelerator": "GPU",
  "colab": {
   "collapsed_sections": [],
   "name": "FULL VAE for Multiple Circles.ipynb",
   "provenance": []
  },
  "kernelspec": {
   "display_name": "Python 3 (ipykernel)",
   "language": "python",
   "name": "python3"
  },
  "language_info": {
   "codemirror_mode": {
    "name": "ipython",
    "version": 3
   },
   "file_extension": ".py",
   "mimetype": "text/x-python",
   "name": "python",
   "nbconvert_exporter": "python",
   "pygments_lexer": "ipython3",
   "version": "3.8.10"
  }
 },
 "nbformat": 4,
 "nbformat_minor": 5
}
