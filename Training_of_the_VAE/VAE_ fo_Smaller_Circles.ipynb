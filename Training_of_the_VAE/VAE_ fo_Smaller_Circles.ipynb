{
 "cells": [
  {
   "cell_type": "markdown",
   "id": "3eabaf95",
   "metadata": {},
   "source": [
    "# VAE for Smaller Circles"
   ]
  },
  {
   "cell_type": "markdown",
   "id": "b8eb412f",
   "metadata": {},
   "source": [
    "This notebook is the definition and the training of the VAE that predicts PI and the point clouds for the square or circle dataset."
   ]
  },
  {
   "cell_type": "code",
   "execution_count": 5,
   "id": "fccc3953",
   "metadata": {},
   "outputs": [],
   "source": [
    "import matplotlib.pyplot as plt\n",
    "import numpy as np\n",
    "\n",
    "import tensorflow as tf\n",
    "from time import time"
   ]
  },
  {
   "cell_type": "markdown",
   "id": "dadca24e",
   "metadata": {},
   "source": [
    "## Load the data "
   ]
  },
  {
   "cell_type": "code",
   "execution_count": 6,
   "id": "d075d93f",
   "metadata": {},
   "outputs": [],
   "source": [
    "data = np.load('../data/PI_data_smaller_circle_density.npz')\n",
    "\n",
    "PC_train = data[\"data_train\"]\n",
    "PI_train = data[\"PI_train\"]\n",
    "density_train = data[\"density_train\"]\n",
    "PC_test = data[\"data_test\"]\n",
    "PI_test = data[\"PI_test\"]\n",
    "density_test = data[\"density_test\"]"
   ]
  },
  {
   "cell_type": "code",
   "execution_count": 7,
   "id": "648cb3b8",
   "metadata": {},
   "outputs": [],
   "source": [
    "N_sets_train = PC_train.shape[0]\n",
    "N_sets_test = PC_test.shape[0]\n",
    "N_points = PC_train.shape[1]\n",
    "PI_size = int(np.sqrt(PI_train.shape[1]))\n",
    "size = int(np.sqrt(density_test.shape[1]))\n",
    "dim = 2\n",
    "batch_size = 64"
   ]
  },
  {
   "cell_type": "code",
   "execution_count": 8,
   "id": "ed63bdbf",
   "metadata": {},
   "outputs": [
    {
     "name": "stdout",
     "output_type": "stream",
     "text": [
      "N_sets_train :  9999\n",
      "N_sets_test :  999\n",
      "N_points :  500\n",
      "PI_size :  50\n",
      "Size :  50\n"
     ]
    }
   ],
   "source": [
    "print(\"N_sets_train : \", N_sets_train)\n",
    "print(\"N_sets_test : \", N_sets_test)\n",
    "print(\"N_points : \", N_points)\n",
    "print(\"PI_size : \", PI_size)\n",
    "print(\"Size : \", size)"
   ]
  },
  {
   "cell_type": "markdown",
   "id": "df4a381b",
   "metadata": {},
   "source": [
    "We normalize the PIs and the densities.\n"
   ]
  },
  {
   "cell_type": "code",
   "execution_count": 9,
   "id": "47707b12",
   "metadata": {},
   "outputs": [],
   "source": [
    "PI_train /= max(np.max(PI_train), np.max(PI_test))\n",
    "PI_test /= max(np.max(PI_test), np.max(PI_test))"
   ]
  },
  {
   "cell_type": "code",
   "execution_count": 10,
   "id": "4e1a8697",
   "metadata": {},
   "outputs": [],
   "source": [
    "for i in range(N_sets_train):\n",
    "    density_train[i] /= np.max(density_train[i])\n",
    "for i in range(N_sets_test):\n",
    "    density_test[i] /= np.max(density_test[i])"
   ]
  },
  {
   "cell_type": "markdown",
   "id": "656270e1",
   "metadata": {},
   "source": [
    "We create random batchs. Each batch is an array of array that contains $(PI,PC)$."
   ]
  },
  {
   "cell_type": "code",
   "execution_count": 11,
   "id": "5799c1d6",
   "metadata": {},
   "outputs": [],
   "source": [
    "data_train = np.stack((PI_train, density_train), 1)\n",
    "data_test = np.stack((PI_test, density_test), 1)"
   ]
  },
  {
   "cell_type": "code",
   "execution_count": 12,
   "id": "3a67d5ae",
   "metadata": {},
   "outputs": [
    {
     "name": "stderr",
     "output_type": "stream",
     "text": [
      "2021-07-15 09:47:26.379030: I tensorflow/stream_executor/platform/default/dso_loader.cc:53] Successfully opened dynamic library libcuda.so.1\n",
      "2021-07-15 09:47:26.691457: I tensorflow/stream_executor/cuda/cuda_gpu_executor.cc:937] successful NUMA node read from SysFS had negative value (-1), but there must be at least one NUMA node, so returning NUMA node zero\n",
      "2021-07-15 09:47:26.691974: I tensorflow/core/common_runtime/gpu/gpu_device.cc:1733] Found device 0 with properties: \n",
      "pciBusID: 0000:01:00.0 name: NVIDIA GeForce GTX 960M computeCapability: 5.0\n",
      "coreClock: 1.176GHz coreCount: 5 deviceMemorySize: 1.96GiB deviceMemoryBandwidth: 74.65GiB/s\n",
      "2021-07-15 09:47:26.692038: I tensorflow/stream_executor/platform/default/dso_loader.cc:53] Successfully opened dynamic library libcudart.so.11.0\n",
      "2021-07-15 09:47:26.692419: W tensorflow/stream_executor/platform/default/dso_loader.cc:64] Could not load dynamic library 'libcublas.so.11'; dlerror: libcublas.so.11: cannot open shared object file: No such file or directory; LD_LIBRARY_PATH: /usr/local/cuda/lib64:/usr/local/cuda-10.1/lib64:/usr/local/cuda/extras/CUPTI/lib64:\n",
      "2021-07-15 09:47:26.692619: W tensorflow/stream_executor/platform/default/dso_loader.cc:64] Could not load dynamic library 'libcublasLt.so.11'; dlerror: libcublasLt.so.11: cannot open shared object file: No such file or directory; LD_LIBRARY_PATH: /usr/local/cuda/lib64:/usr/local/cuda-10.1/lib64:/usr/local/cuda/extras/CUPTI/lib64:\n",
      "2021-07-15 09:47:26.890517: I tensorflow/stream_executor/platform/default/dso_loader.cc:53] Successfully opened dynamic library libcufft.so.10\n",
      "2021-07-15 09:47:26.940094: I tensorflow/stream_executor/platform/default/dso_loader.cc:53] Successfully opened dynamic library libcurand.so.10\n",
      "2021-07-15 09:47:26.940486: W tensorflow/stream_executor/platform/default/dso_loader.cc:64] Could not load dynamic library 'libcusolver.so.11'; dlerror: libcusolver.so.11: cannot open shared object file: No such file or directory; LD_LIBRARY_PATH: /usr/local/cuda/lib64:/usr/local/cuda-10.1/lib64:/usr/local/cuda/extras/CUPTI/lib64:\n",
      "2021-07-15 09:47:26.955337: W tensorflow/stream_executor/platform/default/dso_loader.cc:64] Could not load dynamic library 'libcusparse.so.11'; dlerror: libcusparse.so.11: cannot open shared object file: No such file or directory; LD_LIBRARY_PATH: /usr/local/cuda/lib64:/usr/local/cuda-10.1/lib64:/usr/local/cuda/extras/CUPTI/lib64:\n",
      "2021-07-15 09:47:26.955498: W tensorflow/stream_executor/platform/default/dso_loader.cc:64] Could not load dynamic library 'libcudnn.so.8'; dlerror: libcudnn.so.8: cannot open shared object file: No such file or directory; LD_LIBRARY_PATH: /usr/local/cuda/lib64:/usr/local/cuda-10.1/lib64:/usr/local/cuda/extras/CUPTI/lib64:\n",
      "2021-07-15 09:47:26.955525: W tensorflow/core/common_runtime/gpu/gpu_device.cc:1766] Cannot dlopen some GPU libraries. Please make sure the missing libraries mentioned above are installed properly if you would like to use GPU. Follow the guide at https://www.tensorflow.org/install/gpu for how to download and setup the required libraries for your platform.\n",
      "Skipping registering GPU devices...\n",
      "2021-07-15 09:47:26.982086: I tensorflow/core/platform/cpu_feature_guard.cc:142] This TensorFlow binary is optimized with oneAPI Deep Neural Network Library (oneDNN) to use the following CPU instructions in performance-critical operations:  AVX2 FMA\n",
      "To enable them in other operations, rebuild TensorFlow with the appropriate compiler flags.\n",
      "2021-07-15 09:47:27.003837: I tensorflow/core/common_runtime/gpu/gpu_device.cc:1258] Device interconnect StreamExecutor with strength 1 edge matrix:\n",
      "2021-07-15 09:47:27.003874: I tensorflow/core/common_runtime/gpu/gpu_device.cc:1264]      \n",
      "2021-07-15 09:47:27.048706: W tensorflow/core/framework/cpu_allocator_impl.cc:80] Allocation of 199980000 exceeds 10% of free system memory.\n",
      "2021-07-15 09:47:27.891943: W tensorflow/core/framework/cpu_allocator_impl.cc:80] Allocation of 19980000 exceeds 10% of free system memory.\n"
     ]
    }
   ],
   "source": [
    "train_dataset = (tf.data.Dataset.from_tensor_slices(\n",
    "    np.float32(data_train)).shuffle(N_sets_train).batch(batch_size))\n",
    "test_dataset = (tf.data.Dataset.from_tensor_slices(\n",
    "    np.float32(data_test)).shuffle(N_sets_test).batch(batch_size))"
   ]
  },
  {
   "cell_type": "markdown",
   "id": "047b843c",
   "metadata": {},
   "source": [
    "## Create the VAE"
   ]
  },
  {
   "cell_type": "markdown",
   "id": "c4460fcc",
   "metadata": {},
   "source": [
    "This sections defines the VAE *via* multiple classes. "
   ]
  },
  {
   "cell_type": "code",
   "execution_count": 59,
   "id": "a74bb16d",
   "metadata": {},
   "outputs": [],
   "source": [
    "class Sampling(tf.keras.layers.Layer):\n",
    "    \"\"\"Uses (mean_joint, var_joint) to sample z_joint, the latent vector encoding the output.\"\"\"\n",
    "    def call(self, inputs):\n",
    "        z_mean, z_var = inputs\n",
    "        batch = tf.shape(z_mean)[0]\n",
    "        dim = tf.shape(z_mean)[1]\n",
    "        epsilon = tf.keras.backend.random_normal(shape=(batch, dim))\n",
    "        return z_mean + z_var * epsilon\n",
    "\n",
    "\n",
    "class Encoder_PI(tf.keras.layers.Layer):\n",
    "    \"\"\"Maps the PI of the input to a couple (z_mean, z_log_var).\"\"\"\n",
    "    def __init__(self, latent_dim=2, name=\"encoder_PI\", **kwargs):\n",
    "        super(Encoder_PI, self).__init__(name=name, **kwargs)\n",
    "\n",
    "        self.dense_100 = tf.keras.layers.Dense(100, activation='sigmoid')\n",
    "        self.dense_50 = tf.keras.layers.Dense(50, activation='sigmoid')\n",
    "\n",
    "        self.dense_mean = tf.keras.layers.Dense(latent_dim)\n",
    "        self.dense_var = tf.keras.layers.Dense(\n",
    "            latent_dim)  #, activation='relu')\n",
    "\n",
    "    def call(self, inputs):\n",
    "        x = self.dense_100(inputs)\n",
    "        x = self.dense_50(x)\n",
    "        z_mean = self.dense_mean(x)\n",
    "        z_var = self.dense_var(x)\n",
    "\n",
    "        return z_mean, z_var\n",
    "\n",
    "\n",
    "class Encoder_PC(tf.keras.layers.Layer):\n",
    "    \"\"\"Maps the PC of the input to a couple (z_mean, z_log_var).\"\"\"\n",
    "    def __init__(self, latent_dim=2, name=\"encoder_PC\", **kwargs):\n",
    "        super(Encoder_PC, self).__init__(name=name, **kwargs)\n",
    "\n",
    "        self.dense_100 = tf.keras.layers.Dense(100, activation='relu')\n",
    "        self.dense_50 = tf.keras.layers.Dense(50, activation='relu')\n",
    "\n",
    "        self.dense_mean = tf.keras.layers.Dense(latent_dim)\n",
    "        self.dense_var = tf.keras.layers.Dense(\n",
    "            latent_dim)  #, activation='relu')\n",
    "\n",
    "    def call(self, inputs):\n",
    "        x = self.dense_100(inputs)\n",
    "        x = self.dense_50(x)\n",
    "        z_mean = self.dense_mean(x)\n",
    "        z_var = self.dense_var(x)\n",
    "\n",
    "        return z_mean, z_var\n",
    "\n",
    "\n",
    "class Shared_Decoder(tf.keras.layers.Layer):\n",
    "    \"\"\"Converts z_joint, the encoded vector, back into a couple (z_joint_PI,z_joint_PC).\"\"\"\n",
    "    def __init__(self, latent_dim, name=\"shared_decoder\", **kwargs):\n",
    "        super(Shared_Decoder, self).__init__(name=name, **kwargs)\n",
    "        self.dense_20 = tf.keras.layers.Dense(20)  #, activation='relu')\n",
    "        self.dense_output = tf.keras.layers.Dense(\n",
    "            latent_dim + latent_dim)  #,activation='sigmoid')\n",
    "\n",
    "    def call(self, inputs):\n",
    "        x = self.dense_20(inputs)\n",
    "        return self.dense_output(x)\n",
    "    \n",
    "    \n",
    "    \n",
    "    \n",
    "class Decoder_PI(tf.keras.layers.Layer):\n",
    "    \"\"\"Converts z_joint_PI, the encoded vector, back into a readable PI.\"\"\"\n",
    "    def __init__(self, original_dim, name=\"decoder_PI\", **kwargs):\n",
    "        super(Decoder_PI, self).__init__(name=name, **kwargs)\n",
    "        self.dense_100 = tf.keras.layers.Dense(100)  #, activation='relu')\n",
    "        self.dense_200 = tf.keras.layers.Dense(200)  #, activation='relu')\n",
    "\n",
    "        self.dense_output = tf.keras.layers.Dense(original_dim)\n",
    "\n",
    "    def call(self, inputs):\n",
    "        x = self.dense_100(inputs)\n",
    "        x = self.dense_200(x)\n",
    "        return self.dense_output(x)\n",
    "\n",
    "\n",
    "\n",
    "class Decoder_PC(tf.keras.layers.Layer):\n",
    "    \"\"\"Converts z_joint_PC, the encoded vector, back into a readable PC.\"\"\"\n",
    "    def __init__(self, original_dim, name=\"decoder_PC\", **kwargs):\n",
    "        super(Decoder_PC, self).__init__(name=name, **kwargs)\n",
    "        self.dense_100 = tf.keras.layers.Dense(100)  #, activation='relu')\n",
    "        self.dense_200 = tf.keras.layers.Dense(200)  #, activation='relu')\n",
    "        self.dense_output = tf.keras.layers.Dense(\n",
    "            original_dim)  #,activation='sigmoid')\n",
    "\n",
    "    def call(self, inputs):\n",
    "        x = self.dense_100(inputs)\n",
    "        x = self.dense_200(x)\n",
    "\n",
    "        return self.dense_output(x)\n",
    "\n",
    "\n",
    "class VariationalAutoEncoder(tf.keras.Model):\n",
    "    \"\"\"Combines the encoder and decoder into an end-to-end model for training.\"\"\"\n",
    "    def __init__(self,\n",
    "                 original_dim,\n",
    "                 latent_dim=2,\n",
    "                 name=\"autoencoder\",\n",
    "                 **kwargs):\n",
    "        super(VariationalAutoEncoder, self).__init__(name=name, **kwargs)\n",
    "        self.original_dim = original_dim\n",
    "        self.encoder_PI = Encoder_PI(latent_dim=latent_dim)\n",
    "        self.decoder_PI = Decoder_PI(original_dim)\n",
    "\n",
    "        self.encoder_PC = Encoder_PC(latent_dim=latent_dim)\n",
    "        self.decoder_PC = Decoder_PC(original_dim)\n",
    "\n",
    "        self.sampling = Sampling()\n",
    "\n",
    "        self.shared_decoder = Shared_Decoder(latent_dim)\n",
    "\n",
    "    def call(self, inputs):\n",
    "        PI_inputs, PC_inputs = inputs\n",
    "\n",
    "        #First step, we encode the PI and PC we have in input\n",
    "        z_mean_PI, z_var_PI = self.encoder_PI(PI_inputs)\n",
    "        z_mean_PC, z_var_PC = self.encoder_PC(PC_inputs)\n",
    "\n",
    "        #We then compute (mean_joint, var_joint) by doing a product of gaussians\n",
    "        mean_joint = (z_mean_PI / z_var_PI +\n",
    "                      z_mean_PC / z_var_PC) * (1 + 1 / z_var_PI + 1 / z_var_PC)\n",
    "        var_joint = (1 + 1 / z_var_PI + 1 / z_var_PC)\n",
    "\n",
    "        #We sample grom the joint distribution \n",
    "        z_joint = self.sampling((mean_joint, var_joint))\n",
    "   \n",
    "\n",
    "        # Add KL divergence regularization loss.\n",
    "        kl_loss = -0.5 * tf.reduce_mean(\n",
    "            tf.math.log(tf.square(var_joint)) - tf.square(mean_joint) -\n",
    "            tf.square(var_joint) + 1, 0)\n",
    "\n",
    "        self.add_loss(tf.reduce_sum(kl_loss))\n",
    "\n",
    "        #We decode z_joint into z_PI, z_PC\n",
    "        z_PI, z_PC = tf.split(self.shared_decoder(z_joint),\n",
    "                              num_or_size_splits=2,\n",
    "                              axis=1)\n",
    "\n",
    "        #We decode z_PI, z_PC into real PI and PC\n",
    "        reconstructed_PI = self.decoder_PI(z_PI)\n",
    "        reconstructed_PC = self.decoder_PC(z_PC)\n",
    "\n",
    "        return reconstructed_PI, reconstructed_PC"
   ]
  },
  {
   "cell_type": "code",
   "execution_count": 66,
   "id": "570718fb",
   "metadata": {
    "scrolled": true
   },
   "outputs": [
    {
     "name": "stdout",
     "output_type": "stream",
     "text": [
      "Start of epoch 1\n",
      "Epoch 1: MSE loss for PI = 1.5467e+00, MSE loss for PC = 9.4014e+00, KL loss = 8.2234e-01\n",
      "Time to compute epoch 1 : 6.107912063598633 sec\n",
      "Start of epoch 2\n",
      "Epoch 2: MSE loss for PI = 1.9016e+00, MSE loss for PC = 1.8972e+00, KL loss = 8.0198e-01\n",
      "Time to compute epoch 2 : 6.207485675811768 sec\n",
      "Start of epoch 3\n",
      "Epoch 3: MSE loss for PI = 1.9299e+00, MSE loss for PC = 6.4246e-01, KL loss = 7.6893e-01\n",
      "Time to compute epoch 3 : 6.526245355606079 sec\n",
      "Start of epoch 4\n",
      "Epoch 4: MSE loss for PI = 2.6633e+00, MSE loss for PC = 1.7116e-01, KL loss = 7.3918e-01\n",
      "Time to compute epoch 4 : 6.928826570510864 sec\n",
      "Start of epoch 5\n",
      "Epoch 5: MSE loss for PI = 2.0496e+00, MSE loss for PC = 7.8368e-02, KL loss = 7.0094e-01\n",
      "Time to compute epoch 5 : 6.6267406940460205 sec\n",
      "Start of epoch 6\n",
      "Epoch 6: MSE loss for PI = 1.6717e+00, MSE loss for PC = 6.5125e-02, KL loss = 6.5038e-01\n",
      "Time to compute epoch 6 : 6.3198628425598145 sec\n",
      "Start of epoch 7\n",
      "Epoch 7: MSE loss for PI = 1.7466e+00, MSE loss for PC = 6.7873e-02, KL loss = 5.9364e-01\n",
      "Time to compute epoch 7 : 6.2764668464660645 sec\n",
      "Start of epoch 8\n",
      "Epoch 8: MSE loss for PI = 1.1045e+00, MSE loss for PC = 5.4360e-02, KL loss = 5.0759e-01\n",
      "Time to compute epoch 8 : 7.165288209915161 sec\n",
      "Start of epoch 9\n",
      "Epoch 9: MSE loss for PI = 1.5873e+00, MSE loss for PC = 4.6898e-02, KL loss = 3.9378e-01\n",
      "Time to compute epoch 9 : 7.597642183303833 sec\n",
      "Start of epoch 10\n",
      "Epoch 10: MSE loss for PI = 5.7630e-01, MSE loss for PC = 5.8622e-02, KL loss = 2.9389e-01\n",
      "Time to compute epoch 10 : 6.380230665206909 sec\n",
      "Start of epoch 11\n",
      "Epoch 11: MSE loss for PI = 4.9554e-01, MSE loss for PC = 5.0701e-02, KL loss = 1.4635e-01\n",
      "Time to compute epoch 11 : 6.207934379577637 sec\n",
      "Start of epoch 12\n",
      "Epoch 12: MSE loss for PI = 3.7535e-01, MSE loss for PC = 6.2615e-02, KL loss = 9.1925e-02\n",
      "Time to compute epoch 12 : 6.145389080047607 sec\n",
      "Start of epoch 13\n",
      "Epoch 13: MSE loss for PI = 3.7331e-01, MSE loss for PC = 6.1323e-02, KL loss = 7.0547e-02\n",
      "Time to compute epoch 13 : 7.072232723236084 sec\n",
      "Start of epoch 14\n",
      "Epoch 14: MSE loss for PI = 3.9578e-01, MSE loss for PC = 5.4628e-02, KL loss = 6.2785e-02\n",
      "Time to compute epoch 14 : 6.558305501937866 sec\n",
      "Start of epoch 15\n",
      "Epoch 15: MSE loss for PI = 4.0464e-01, MSE loss for PC = 5.5637e-02, KL loss = 5.9933e-02\n",
      "Time to compute epoch 15 : 6.544762134552002 sec\n",
      "Start of epoch 16\n",
      "Epoch 16: MSE loss for PI = 1.5186e-01, MSE loss for PC = 6.3706e-02, KL loss = 7.0072e-02\n",
      "Time to compute epoch 16 : 6.4699976444244385 sec\n",
      "Start of epoch 17\n",
      "Epoch 17: MSE loss for PI = 5.3736e-02, MSE loss for PC = 6.2443e-02, KL loss = 6.0188e-02\n",
      "Time to compute epoch 17 : 6.497805595397949 sec\n",
      "Start of epoch 18\n",
      "Epoch 18: MSE loss for PI = 1.6947e-01, MSE loss for PC = 6.3411e-02, KL loss = 7.1843e-02\n",
      "Time to compute epoch 18 : 6.424407005310059 sec\n",
      "Start of epoch 19\n",
      "Epoch 19: MSE loss for PI = 5.4093e-02, MSE loss for PC = 2.7088e-01, KL loss = 6.6665e-02\n",
      "Time to compute epoch 19 : 6.546141624450684 sec\n",
      "Start of epoch 20\n",
      "Epoch 20: MSE loss for PI = 1.3139e-02, MSE loss for PC = 5.7464e-02, KL loss = 5.4905e-02\n",
      "Time to compute epoch 20 : 6.33028244972229 sec\n",
      "Start of epoch 21\n",
      "Epoch 21: MSE loss for PI = 8.4534e-02, MSE loss for PC = 4.9480e-02, KL loss = 5.4865e-02\n",
      "Time to compute epoch 21 : 6.331754922866821 sec\n",
      "Start of epoch 22\n",
      "Epoch 22: MSE loss for PI = 5.9873e-03, MSE loss for PC = 5.3503e-02, KL loss = 5.8681e-02\n",
      "Time to compute epoch 22 : 6.289637327194214 sec\n",
      "Start of epoch 23\n",
      "Epoch 23: MSE loss for PI = 2.4262e-01, MSE loss for PC = 6.5289e-02, KL loss = 7.5314e-02\n",
      "Time to compute epoch 23 : 6.316009998321533 sec\n",
      "Start of epoch 24\n",
      "Epoch 24: MSE loss for PI = 9.7734e-03, MSE loss for PC = 5.9690e-02, KL loss = 6.3155e-02\n",
      "Time to compute epoch 24 : 6.246075391769409 sec\n",
      "Start of epoch 25\n",
      "Epoch 25: MSE loss for PI = 1.0287e-02, MSE loss for PC = 6.0880e-02, KL loss = 5.9235e-02\n",
      "Time to compute epoch 25 : 6.265442371368408 sec\n",
      "Start of epoch 26\n",
      "Epoch 26: MSE loss for PI = 4.6312e-02, MSE loss for PC = 1.9281e-01, KL loss = 5.9975e-02\n",
      "Time to compute epoch 26 : 6.30136775970459 sec\n",
      "Start of epoch 27\n",
      "Epoch 27: MSE loss for PI = 5.6194e-03, MSE loss for PC = 5.2192e-02, KL loss = 5.4910e-02\n",
      "Time to compute epoch 27 : 6.314326763153076 sec\n",
      "Start of epoch 28\n",
      "Epoch 28: MSE loss for PI = 4.7416e-03, MSE loss for PC = 6.0466e-02, KL loss = 5.8894e-02\n",
      "Time to compute epoch 28 : 6.286920070648193 sec\n",
      "Start of epoch 29\n",
      "Epoch 29: MSE loss for PI = 4.3238e-03, MSE loss for PC = 8.4227e-02, KL loss = 6.6653e-02\n",
      "Time to compute epoch 29 : 6.2946696281433105 sec\n",
      "Start of epoch 30\n",
      "Epoch 30: MSE loss for PI = 5.5840e-03, MSE loss for PC = 1.4213e-01, KL loss = 6.1674e-02\n",
      "Time to compute epoch 30 : 6.1537322998046875 sec\n",
      "Start of epoch 31\n",
      "Epoch 31: MSE loss for PI = 3.9769e-03, MSE loss for PC = 5.3174e-02, KL loss = 5.8039e-02\n",
      "Time to compute epoch 31 : 5.964585781097412 sec\n",
      "Start of epoch 32\n",
      "Epoch 32: MSE loss for PI = 4.4604e-03, MSE loss for PC = 6.1985e-02, KL loss = 5.5150e-02\n",
      "Time to compute epoch 32 : 5.9725892543792725 sec\n",
      "Start of epoch 33\n",
      "Epoch 33: MSE loss for PI = 5.7694e-03, MSE loss for PC = 6.1908e-02, KL loss = 7.1365e-02\n",
      "Time to compute epoch 33 : 5.988079786300659 sec\n",
      "Start of epoch 34\n",
      "Epoch 34: MSE loss for PI = 1.2203e-01, MSE loss for PC = 5.6300e-02, KL loss = 5.7233e-02\n",
      "Time to compute epoch 34 : 5.942811965942383 sec\n",
      "Start of epoch 35\n",
      "Epoch 35: MSE loss for PI = 4.4930e-03, MSE loss for PC = 5.6685e-02, KL loss = 5.8296e-02\n",
      "Time to compute epoch 35 : 5.960678577423096 sec\n",
      "Start of epoch 36\n",
      "Epoch 36: MSE loss for PI = 6.5322e-03, MSE loss for PC = 6.0958e-02, KL loss = 5.7742e-02\n",
      "Time to compute epoch 36 : 5.9766106605529785 sec\n",
      "Start of epoch 37\n",
      "Epoch 37: MSE loss for PI = 7.8540e-03, MSE loss for PC = 5.6869e-02, KL loss = 4.9643e-02\n",
      "Time to compute epoch 37 : 5.979756593704224 sec\n",
      "Start of epoch 38\n",
      "Epoch 38: MSE loss for PI = 4.2064e-03, MSE loss for PC = 5.8857e-02, KL loss = 5.0188e-02\n",
      "Time to compute epoch 38 : 5.9423747062683105 sec\n",
      "Start of epoch 39\n",
      "Epoch 39: MSE loss for PI = 3.2316e-03, MSE loss for PC = 7.6083e-02, KL loss = 4.7374e-02\n",
      "Time to compute epoch 39 : 5.972208738327026 sec\n",
      "Start of epoch 40\n",
      "Epoch 40: MSE loss for PI = 2.9096e-03, MSE loss for PC = 7.7732e-02, KL loss = 4.5882e-02\n",
      "Time to compute epoch 40 : 5.950469732284546 sec\n",
      "Start of epoch 41\n",
      "Epoch 41: MSE loss for PI = 3.4307e-03, MSE loss for PC = 6.0006e-02, KL loss = 4.8025e-02\n",
      "Time to compute epoch 41 : 5.97315788269043 sec\n",
      "Start of epoch 42\n",
      "Epoch 42: MSE loss for PI = 3.1891e-03, MSE loss for PC = 5.6170e-02, KL loss = 4.6128e-02\n",
      "Time to compute epoch 42 : 6.001266241073608 sec\n",
      "Start of epoch 43\n",
      "Epoch 43: MSE loss for PI = 4.4025e-03, MSE loss for PC = 6.2464e-02, KL loss = 4.7715e-02\n",
      "Time to compute epoch 43 : 6.012416839599609 sec\n",
      "Start of epoch 44\n",
      "Epoch 44: MSE loss for PI = 3.4881e-03, MSE loss for PC = 5.2536e-02, KL loss = 4.4395e-02\n",
      "Time to compute epoch 44 : 5.94003701210022 sec\n",
      "Start of epoch 45\n",
      "Epoch 45: MSE loss for PI = 3.0057e-03, MSE loss for PC = 4.9269e-02, KL loss = 4.3940e-02\n",
      "Time to compute epoch 45 : 6.020092010498047 sec\n",
      "Start of epoch 46\n",
      "Epoch 46: MSE loss for PI = 3.6297e-02, MSE loss for PC = 5.3839e-02, KL loss = 4.2324e-02\n",
      "Time to compute epoch 46 : 5.953591585159302 sec\n",
      "Start of epoch 47\n",
      "Epoch 47: MSE loss for PI = 3.7445e-03, MSE loss for PC = 5.7618e-02, KL loss = 4.5352e-02\n",
      "Time to compute epoch 47 : 5.932225704193115 sec\n",
      "Start of epoch 48\n",
      "Epoch 48: MSE loss for PI = 3.2479e-03, MSE loss for PC = 5.6487e-02, KL loss = 4.2407e-02\n",
      "Time to compute epoch 48 : 5.970232725143433 sec\n",
      "Start of epoch 49\n",
      "Epoch 49: MSE loss for PI = 3.1265e-03, MSE loss for PC = 5.8579e-02, KL loss = 4.3037e-02\n",
      "Time to compute epoch 49 : 5.997745752334595 sec\n",
      "Start of epoch 50\n",
      "Epoch 50: MSE loss for PI = 3.3643e-03, MSE loss for PC = 5.9893e-02, KL loss = 4.3556e-02\n",
      "Time to compute epoch 50 : 5.94157075881958 sec\n",
      "Start of epoch 51\n",
      "Epoch 51: MSE loss for PI = 3.0618e-02, MSE loss for PC = 5.6527e-02, KL loss = 3.8556e-02\n",
      "Time to compute epoch 51 : 5.951839208602905 sec\n",
      "Start of epoch 52\n",
      "Epoch 52: MSE loss for PI = 3.2422e-03, MSE loss for PC = 5.3223e-02, KL loss = 3.9650e-02\n",
      "Time to compute epoch 52 : 6.0307395458221436 sec\n",
      "Start of epoch 53\n"
     ]
    },
    {
     "name": "stdout",
     "output_type": "stream",
     "text": [
      "Epoch 53: MSE loss for PI = 3.3684e-03, MSE loss for PC = 6.0164e-02, KL loss = 4.2484e-02\n",
      "Time to compute epoch 53 : 5.9615395069122314 sec\n",
      "Start of epoch 54\n",
      "Epoch 54: MSE loss for PI = 3.0420e-02, MSE loss for PC = 5.9069e-02, KL loss = 3.8662e-02\n",
      "Time to compute epoch 54 : 5.958548545837402 sec\n",
      "Start of epoch 55\n",
      "Epoch 55: MSE loss for PI = 4.5818e-03, MSE loss for PC = 6.9381e-02, KL loss = 4.1209e-02\n",
      "Time to compute epoch 55 : 5.936791181564331 sec\n",
      "Start of epoch 56\n",
      "Epoch 56: MSE loss for PI = 4.3628e-03, MSE loss for PC = 8.4153e-02, KL loss = 4.0834e-02\n",
      "Time to compute epoch 56 : 5.968998908996582 sec\n",
      "Start of epoch 57\n",
      "Epoch 57: MSE loss for PI = 9.3600e-03, MSE loss for PC = 5.5223e-02, KL loss = 3.7551e-02\n",
      "Time to compute epoch 57 : 5.951002597808838 sec\n",
      "Start of epoch 58\n",
      "Epoch 58: MSE loss for PI = 1.7780e-03, MSE loss for PC = 4.7826e-02, KL loss = 3.4810e-02\n",
      "Time to compute epoch 58 : 6.139059543609619 sec\n",
      "Start of epoch 59\n",
      "Epoch 59: MSE loss for PI = 2.6713e-03, MSE loss for PC = 5.7615e-02, KL loss = 3.8478e-02\n",
      "Time to compute epoch 59 : 6.085513114929199 sec\n",
      "Start of epoch 60\n",
      "Epoch 60: MSE loss for PI = 3.1853e-03, MSE loss for PC = 8.3489e-02, KL loss = 3.6177e-02\n",
      "Time to compute epoch 60 : 6.185177803039551 sec\n",
      "Start of epoch 61\n",
      "Epoch 61: MSE loss for PI = 1.9986e-03, MSE loss for PC = 5.0875e-02, KL loss = 3.4872e-02\n",
      "Time to compute epoch 61 : 6.085383892059326 sec\n",
      "Start of epoch 62\n",
      "Epoch 62: MSE loss for PI = 3.5646e-03, MSE loss for PC = 6.3159e-02, KL loss = 3.7336e-02\n",
      "Time to compute epoch 62 : 6.096421718597412 sec\n",
      "Start of epoch 63\n",
      "Epoch 63: MSE loss for PI = 3.2579e-03, MSE loss for PC = 5.4711e-02, KL loss = 3.5469e-02\n",
      "Time to compute epoch 63 : 6.09785532951355 sec\n",
      "Start of epoch 64\n",
      "Epoch 64: MSE loss for PI = 6.6029e-02, MSE loss for PC = 6.1791e-02, KL loss = 3.2303e-02\n",
      "Time to compute epoch 64 : 6.256371974945068 sec\n",
      "Start of epoch 65\n",
      "Epoch 65: MSE loss for PI = 3.3752e-03, MSE loss for PC = 5.7628e-02, KL loss = 3.3269e-02\n",
      "Time to compute epoch 65 : 6.162286996841431 sec\n",
      "Start of epoch 66\n",
      "Epoch 66: MSE loss for PI = 2.7902e-03, MSE loss for PC = 4.7490e-02, KL loss = 2.6776e-02\n",
      "Time to compute epoch 66 : 6.234836578369141 sec\n",
      "Start of epoch 67\n",
      "Epoch 67: MSE loss for PI = 2.7985e-03, MSE loss for PC = 5.9913e-02, KL loss = 3.1935e-02\n",
      "Time to compute epoch 67 : 6.137479782104492 sec\n",
      "Start of epoch 68\n",
      "Epoch 68: MSE loss for PI = 5.0326e-03, MSE loss for PC = 4.8296e-02, KL loss = 2.7837e-02\n",
      "Time to compute epoch 68 : 6.291949510574341 sec\n",
      "Start of epoch 69\n",
      "Epoch 69: MSE loss for PI = 1.1640e-02, MSE loss for PC = 6.7555e-02, KL loss = 2.9310e-02\n",
      "Time to compute epoch 69 : 6.2397637367248535 sec\n",
      "Start of epoch 70\n",
      "Epoch 70: MSE loss for PI = 2.4561e-03, MSE loss for PC = 5.3523e-02, KL loss = 2.6927e-02\n",
      "Time to compute epoch 70 : 6.7246904373168945 sec\n",
      "Start of epoch 71\n",
      "Epoch 71: MSE loss for PI = 2.6497e-03, MSE loss for PC = 5.0420e-02, KL loss = 2.5077e-02\n",
      "Time to compute epoch 71 : 6.360153913497925 sec\n",
      "Start of epoch 72\n",
      "Epoch 72: MSE loss for PI = 6.3196e-03, MSE loss for PC = 7.4734e-02, KL loss = 2.4473e-02\n",
      "Time to compute epoch 72 : 6.4605042934417725 sec\n",
      "Start of epoch 73\n",
      "Epoch 73: MSE loss for PI = 2.9164e-03, MSE loss for PC = 5.6206e-02, KL loss = 2.3818e-02\n",
      "Time to compute epoch 73 : 6.252283573150635 sec\n",
      "Start of epoch 74\n",
      "Epoch 74: MSE loss for PI = 1.9759e-03, MSE loss for PC = 5.6400e-02, KL loss = 2.2543e-02\n",
      "Time to compute epoch 74 : 6.3121397495269775 sec\n",
      "Start of epoch 75\n",
      "Epoch 75: MSE loss for PI = 2.1967e-03, MSE loss for PC = 5.3113e-02, KL loss = 2.0786e-02\n",
      "Time to compute epoch 75 : 6.325113296508789 sec\n",
      "Start of epoch 76\n",
      "Epoch 76: MSE loss for PI = 2.2671e-03, MSE loss for PC = 5.1580e-02, KL loss = 1.9116e-02\n",
      "Time to compute epoch 76 : 6.08823823928833 sec\n",
      "Start of epoch 77\n",
      "Epoch 77: MSE loss for PI = 2.5068e-03, MSE loss for PC = 5.1154e-02, KL loss = 1.8527e-02\n",
      "Time to compute epoch 77 : 6.174215793609619 sec\n",
      "Start of epoch 78\n",
      "Epoch 78: MSE loss for PI = 1.9165e-02, MSE loss for PC = 5.0725e-02, KL loss = 1.6546e-02\n",
      "Time to compute epoch 78 : 6.3521647453308105 sec\n",
      "Start of epoch 79\n",
      "Epoch 79: MSE loss for PI = 2.7198e-03, MSE loss for PC = 5.5270e-02, KL loss = 1.5804e-02\n",
      "Time to compute epoch 79 : 6.2413270473480225 sec\n",
      "Start of epoch 80\n",
      "Epoch 80: MSE loss for PI = 3.2579e-03, MSE loss for PC = 5.3315e-02, KL loss = 1.5092e-02\n",
      "Time to compute epoch 80 : 6.384830713272095 sec\n",
      "Start of epoch 81\n",
      "Epoch 81: MSE loss for PI = 2.9128e-03, MSE loss for PC = 5.5555e-02, KL loss = 1.3690e-02\n",
      "Time to compute epoch 81 : 6.3760223388671875 sec\n",
      "Start of epoch 82\n",
      "Epoch 82: MSE loss for PI = 4.1445e-03, MSE loss for PC = 5.5570e-02, KL loss = 1.2684e-02\n",
      "Time to compute epoch 82 : 6.562557935714722 sec\n",
      "Start of epoch 83\n",
      "Epoch 83: MSE loss for PI = 3.2109e-03, MSE loss for PC = 5.9597e-02, KL loss = 1.2212e-02\n",
      "Time to compute epoch 83 : 6.460275173187256 sec\n",
      "Start of epoch 84\n"
     ]
    },
    {
     "ename": "KeyboardInterrupt",
     "evalue": "",
     "output_type": "error",
     "traceback": [
      "\u001b[0;31m---------------------------------------------------------------------------\u001b[0m",
      "\u001b[0;31mKeyboardInterrupt\u001b[0m                         Traceback (most recent call last)",
      "\u001b[0;32m/tmp/ipykernel_6919/3402983782.py\u001b[0m in \u001b[0;36m<module>\u001b[0;34m\u001b[0m\n\u001b[1;32m     35\u001b[0m             \u001b[0mloss\u001b[0m \u001b[0;34m+=\u001b[0m \u001b[0mtf\u001b[0m\u001b[0;34m.\u001b[0m\u001b[0mreduce_sum\u001b[0m\u001b[0;34m(\u001b[0m\u001b[0mvae\u001b[0m\u001b[0;34m.\u001b[0m\u001b[0mlosses\u001b[0m\u001b[0;34m)\u001b[0m  \u001b[0;31m# Add KLD regularization loss\u001b[0m\u001b[0;34m\u001b[0m\u001b[0;34m\u001b[0m\u001b[0m\n\u001b[1;32m     36\u001b[0m         \u001b[0mgrads\u001b[0m \u001b[0;34m=\u001b[0m \u001b[0mtape\u001b[0m\u001b[0;34m.\u001b[0m\u001b[0mgradient\u001b[0m\u001b[0;34m(\u001b[0m\u001b[0mloss\u001b[0m\u001b[0;34m,\u001b[0m \u001b[0mvae\u001b[0m\u001b[0;34m.\u001b[0m\u001b[0mtrainable_weights\u001b[0m\u001b[0;34m)\u001b[0m\u001b[0;34m\u001b[0m\u001b[0;34m\u001b[0m\u001b[0m\n\u001b[0;32m---> 37\u001b[0;31m         \u001b[0moptimizer\u001b[0m\u001b[0;34m.\u001b[0m\u001b[0mapply_gradients\u001b[0m\u001b[0;34m(\u001b[0m\u001b[0mzip\u001b[0m\u001b[0;34m(\u001b[0m\u001b[0mgrads\u001b[0m\u001b[0;34m,\u001b[0m \u001b[0mvae\u001b[0m\u001b[0;34m.\u001b[0m\u001b[0mtrainable_weights\u001b[0m\u001b[0;34m)\u001b[0m\u001b[0;34m)\u001b[0m\u001b[0;34m\u001b[0m\u001b[0;34m\u001b[0m\u001b[0m\n\u001b[0m\u001b[1;32m     38\u001b[0m \u001b[0;34m\u001b[0m\u001b[0m\n\u001b[1;32m     39\u001b[0m         \u001b[0;31m#loss_metric(loss)\u001b[0m\u001b[0;34m\u001b[0m\u001b[0;34m\u001b[0m\u001b[0;34m\u001b[0m\u001b[0m\n",
      "\u001b[0;32m~/.local/lib/python3.8/site-packages/tensorflow/python/keras/optimizer_v2/optimizer_v2.py\u001b[0m in \u001b[0;36mapply_gradients\u001b[0;34m(self, grads_and_vars, name, experimental_aggregate_gradients)\u001b[0m\n\u001b[1;32m    665\u001b[0m \u001b[0;34m\u001b[0m\u001b[0m\n\u001b[1;32m    666\u001b[0m       \u001b[0;32mif\u001b[0m \u001b[0moptimizer_utils\u001b[0m\u001b[0;34m.\u001b[0m\u001b[0mstrategy_supports_no_merge_call\u001b[0m\u001b[0;34m(\u001b[0m\u001b[0;34m)\u001b[0m\u001b[0;34m:\u001b[0m\u001b[0;34m\u001b[0m\u001b[0;34m\u001b[0m\u001b[0m\n\u001b[0;32m--> 667\u001b[0;31m         return self._distributed_apply(strategy, grads_and_vars, name,\n\u001b[0m\u001b[1;32m    668\u001b[0m                                        apply_state)\n\u001b[1;32m    669\u001b[0m       \u001b[0;32melse\u001b[0m\u001b[0;34m:\u001b[0m\u001b[0;34m\u001b[0m\u001b[0;34m\u001b[0m\u001b[0m\n",
      "\u001b[0;32m~/.local/lib/python3.8/site-packages/tensorflow/python/keras/optimizer_v2/optimizer_v2.py\u001b[0m in \u001b[0;36m_distributed_apply\u001b[0;34m(self, distribution, grads_and_vars, name, apply_state)\u001b[0m\n\u001b[1;32m    712\u001b[0m               \u001b[0;34m\"update\"\u001b[0m \u001b[0;32mif\u001b[0m \u001b[0meagerly_outside_functions\u001b[0m \u001b[0;32melse\u001b[0m \u001b[0;34m\"update_\"\u001b[0m \u001b[0;34m+\u001b[0m\u001b[0;34m\u001b[0m\u001b[0;34m\u001b[0m\u001b[0m\n\u001b[1;32m    713\u001b[0m               var.op.name):\n\u001b[0;32m--> 714\u001b[0;31m             update_op = distribution.extended.update(\n\u001b[0m\u001b[1;32m    715\u001b[0m                 var, apply_grad_to_update_var, args=(grad,), group=False)\n\u001b[1;32m    716\u001b[0m             \u001b[0;32mif\u001b[0m \u001b[0mdistribute_ctx\u001b[0m\u001b[0;34m.\u001b[0m\u001b[0min_cross_replica_context\u001b[0m\u001b[0;34m(\u001b[0m\u001b[0;34m)\u001b[0m\u001b[0;34m:\u001b[0m\u001b[0;34m\u001b[0m\u001b[0;34m\u001b[0m\u001b[0m\n",
      "\u001b[0;32m~/.local/lib/python3.8/site-packages/tensorflow/python/distribute/distribute_lib.py\u001b[0m in \u001b[0;36mupdate\u001b[0;34m(self, var, fn, args, kwargs, group)\u001b[0m\n\u001b[1;32m   2574\u001b[0m           fn, autograph_ctx.control_status_ctx(), convert_by_default=False)\n\u001b[1;32m   2575\u001b[0m       \u001b[0;32mwith\u001b[0m \u001b[0mself\u001b[0m\u001b[0;34m.\u001b[0m\u001b[0m_container_strategy\u001b[0m\u001b[0;34m(\u001b[0m\u001b[0;34m)\u001b[0m\u001b[0;34m.\u001b[0m\u001b[0mscope\u001b[0m\u001b[0;34m(\u001b[0m\u001b[0;34m)\u001b[0m\u001b[0;34m:\u001b[0m\u001b[0;34m\u001b[0m\u001b[0;34m\u001b[0m\u001b[0m\n\u001b[0;32m-> 2576\u001b[0;31m         \u001b[0;32mreturn\u001b[0m \u001b[0mself\u001b[0m\u001b[0;34m.\u001b[0m\u001b[0m_update\u001b[0m\u001b[0;34m(\u001b[0m\u001b[0mvar\u001b[0m\u001b[0;34m,\u001b[0m \u001b[0mfn\u001b[0m\u001b[0;34m,\u001b[0m \u001b[0margs\u001b[0m\u001b[0;34m,\u001b[0m \u001b[0mkwargs\u001b[0m\u001b[0;34m,\u001b[0m \u001b[0mgroup\u001b[0m\u001b[0;34m)\u001b[0m\u001b[0;34m\u001b[0m\u001b[0;34m\u001b[0m\u001b[0m\n\u001b[0m\u001b[1;32m   2577\u001b[0m     \u001b[0;32melse\u001b[0m\u001b[0;34m:\u001b[0m\u001b[0;34m\u001b[0m\u001b[0;34m\u001b[0m\u001b[0m\n\u001b[1;32m   2578\u001b[0m       return self._replica_ctx_update(\n",
      "\u001b[0;32m~/.local/lib/python3.8/site-packages/tensorflow/python/distribute/distribute_lib.py\u001b[0m in \u001b[0;36m_update\u001b[0;34m(self, var, fn, args, kwargs, group)\u001b[0m\n\u001b[1;32m   3620\u001b[0m     \u001b[0;31m# The implementations of _update() and _update_non_slot() are identical\u001b[0m\u001b[0;34m\u001b[0m\u001b[0;34m\u001b[0m\u001b[0;34m\u001b[0m\u001b[0m\n\u001b[1;32m   3621\u001b[0m     \u001b[0;31m# except _update() passes `var` as the first argument to `fn()`.\u001b[0m\u001b[0;34m\u001b[0m\u001b[0;34m\u001b[0m\u001b[0;34m\u001b[0m\u001b[0m\n\u001b[0;32m-> 3622\u001b[0;31m     \u001b[0;32mreturn\u001b[0m \u001b[0mself\u001b[0m\u001b[0;34m.\u001b[0m\u001b[0m_update_non_slot\u001b[0m\u001b[0;34m(\u001b[0m\u001b[0mvar\u001b[0m\u001b[0;34m,\u001b[0m \u001b[0mfn\u001b[0m\u001b[0;34m,\u001b[0m \u001b[0;34m(\u001b[0m\u001b[0mvar\u001b[0m\u001b[0;34m,\u001b[0m\u001b[0;34m)\u001b[0m \u001b[0;34m+\u001b[0m \u001b[0mtuple\u001b[0m\u001b[0;34m(\u001b[0m\u001b[0margs\u001b[0m\u001b[0;34m)\u001b[0m\u001b[0;34m,\u001b[0m \u001b[0mkwargs\u001b[0m\u001b[0;34m,\u001b[0m \u001b[0mgroup\u001b[0m\u001b[0;34m)\u001b[0m\u001b[0;34m\u001b[0m\u001b[0;34m\u001b[0m\u001b[0m\n\u001b[0m\u001b[1;32m   3623\u001b[0m \u001b[0;34m\u001b[0m\u001b[0m\n\u001b[1;32m   3624\u001b[0m   \u001b[0;32mdef\u001b[0m \u001b[0m_update_non_slot\u001b[0m\u001b[0;34m(\u001b[0m\u001b[0mself\u001b[0m\u001b[0;34m,\u001b[0m \u001b[0mcolocate_with\u001b[0m\u001b[0;34m,\u001b[0m \u001b[0mfn\u001b[0m\u001b[0;34m,\u001b[0m \u001b[0margs\u001b[0m\u001b[0;34m,\u001b[0m \u001b[0mkwargs\u001b[0m\u001b[0;34m,\u001b[0m \u001b[0mshould_group\u001b[0m\u001b[0;34m)\u001b[0m\u001b[0;34m:\u001b[0m\u001b[0;34m\u001b[0m\u001b[0;34m\u001b[0m\u001b[0m\n",
      "\u001b[0;32m~/.local/lib/python3.8/site-packages/tensorflow/python/distribute/distribute_lib.py\u001b[0m in \u001b[0;36m_update_non_slot\u001b[0;34m(self, colocate_with, fn, args, kwargs, should_group)\u001b[0m\n\u001b[1;32m   3630\u001b[0m         \u001b[0;32mreturn\u001b[0m \u001b[0mresult\u001b[0m\u001b[0;34m\u001b[0m\u001b[0;34m\u001b[0m\u001b[0m\n\u001b[1;32m   3631\u001b[0m       \u001b[0;32melse\u001b[0m\u001b[0;34m:\u001b[0m\u001b[0;34m\u001b[0m\u001b[0;34m\u001b[0m\u001b[0m\n\u001b[0;32m-> 3632\u001b[0;31m         \u001b[0;32mreturn\u001b[0m \u001b[0mnest\u001b[0m\u001b[0;34m.\u001b[0m\u001b[0mmap_structure\u001b[0m\u001b[0;34m(\u001b[0m\u001b[0mself\u001b[0m\u001b[0;34m.\u001b[0m\u001b[0m_local_results\u001b[0m\u001b[0;34m,\u001b[0m \u001b[0mresult\u001b[0m\u001b[0;34m)\u001b[0m\u001b[0;34m\u001b[0m\u001b[0;34m\u001b[0m\u001b[0m\n\u001b[0m\u001b[1;32m   3633\u001b[0m \u001b[0;34m\u001b[0m\u001b[0m\n\u001b[1;32m   3634\u001b[0m   \u001b[0;32mdef\u001b[0m \u001b[0mread_var\u001b[0m\u001b[0;34m(\u001b[0m\u001b[0mself\u001b[0m\u001b[0;34m,\u001b[0m \u001b[0mreplica_local_var\u001b[0m\u001b[0;34m)\u001b[0m\u001b[0;34m:\u001b[0m\u001b[0;34m\u001b[0m\u001b[0;34m\u001b[0m\u001b[0m\n",
      "\u001b[0;32m~/.local/lib/python3.8/site-packages/tensorflow/python/util/nest.py\u001b[0m in \u001b[0;36mmap_structure\u001b[0;34m(func, *structure, **kwargs)\u001b[0m\n\u001b[1;32m    864\u001b[0m   \u001b[0mentries\u001b[0m \u001b[0;34m=\u001b[0m \u001b[0mzip\u001b[0m\u001b[0;34m(\u001b[0m\u001b[0;34m*\u001b[0m\u001b[0mflat_structure\u001b[0m\u001b[0;34m)\u001b[0m\u001b[0;34m\u001b[0m\u001b[0;34m\u001b[0m\u001b[0m\n\u001b[1;32m    865\u001b[0m \u001b[0;34m\u001b[0m\u001b[0m\n\u001b[0;32m--> 866\u001b[0;31m   return pack_sequence_as(\n\u001b[0m\u001b[1;32m    867\u001b[0m       \u001b[0mstructure\u001b[0m\u001b[0;34m[\u001b[0m\u001b[0;36m0\u001b[0m\u001b[0;34m]\u001b[0m\u001b[0;34m,\u001b[0m \u001b[0;34m[\u001b[0m\u001b[0mfunc\u001b[0m\u001b[0;34m(\u001b[0m\u001b[0;34m*\u001b[0m\u001b[0mx\u001b[0m\u001b[0;34m)\u001b[0m \u001b[0;32mfor\u001b[0m \u001b[0mx\u001b[0m \u001b[0;32min\u001b[0m \u001b[0mentries\u001b[0m\u001b[0;34m]\u001b[0m\u001b[0;34m,\u001b[0m\u001b[0;34m\u001b[0m\u001b[0;34m\u001b[0m\u001b[0m\n\u001b[1;32m    868\u001b[0m       expand_composites=expand_composites)\n",
      "\u001b[0;31mKeyboardInterrupt\u001b[0m: "
     ]
    }
   ],
   "source": [
    "original_dim = PI_size * PI_size\n",
    "latent_dim = 2\n",
    "vae = VariationalAutoEncoder(original_dim, latent_dim)\n",
    "\n",
    "optimizer = tf.keras.optimizers.Adamax(learning_rate=5e-2)\n",
    "mse_loss_fn = tf.keras.losses.MeanSquaredError()\n",
    "\n",
    "#We keep track of the losses\n",
    "mse_loss_PI = []\n",
    "mse_loss_PC = []\n",
    "kl_loss = []\n",
    "\n",
    "#Number of epochs\n",
    "epochs = 100\n",
    "\n",
    "# Iterate over epochs.\n",
    "for epoch in range(epochs):\n",
    "    print(\"Start of epoch %d\" % (epoch + 1, ))\n",
    "    initial_time = time()\n",
    "    \n",
    "    # Iterate over the batches of the dataset.\n",
    "    for step, x_batch_train in enumerate(train_dataset):\n",
    "        #For each batch, we separate the PI from the PC\n",
    "        PI_inputs = x_batch_train[:, 0, :]\n",
    "        PC_inputs = x_batch_train[:, 1, :]\n",
    "        with tf.GradientTape() as tape:\n",
    "            reconstructed_PI, reconstructed_PC = vae((PI_inputs, PC_inputs))\n",
    "            \n",
    "            # Compute reconstruction loss with hyperparameters\n",
    "            loss = 10*mse_loss_fn(x_batch_train[:, 0, :], reconstructed_PI)\n",
    "            loss += 10*mse_loss_fn(x_batch_train[:, 1, :], reconstructed_PC)\n",
    "\n",
    "            loss += tf.reduce_sum(vae.losses)  # Add KLD regularization loss\n",
    " \n",
    "        # Compute the gradient          \n",
    "        grads = tape.gradient(loss, vae.trainable_weights)\n",
    "        optimizer.apply_gradients(zip(grads, vae.trainable_weights))\n",
    "\n",
    "        # Keep track of the losses\n",
    "        mse_loss_PI.append(\n",
    "            mse_loss_fn(x_batch_train[:, 0, :], reconstructed_PI))\n",
    "        mse_loss_PC.append(\n",
    "            mse_loss_fn(x_batch_train[:, 1, :], reconstructed_PC))\n",
    "        kl_loss.append(vae.losses[0])\n",
    "\n",
    "    print(\n",
    "        \"Epoch %d: MSE loss for PI = %.4e, MSE loss for PC = %.4e, KL loss = %.4e\"\n",
    "        % (epoch + 1, mse_loss_fn(x_batch_train[:, 0, :],\n",
    "                                  reconstructed_PI).numpy(),\n",
    "           mse_loss_fn(x_batch_train[:, 1, :],\n",
    "                       reconstructed_PC).numpy(), vae.losses[0].numpy()))\n",
    "\n",
    "    print(\"Time to compute epoch {} : {} sec\".format(epoch + 1,\n",
    "                                                     time() - initial_time))"
   ]
  },
  {
   "cell_type": "markdown",
   "id": "116349dc",
   "metadata": {},
   "source": [
    "We can plot the evolution of the errors"
   ]
  },
  {
   "cell_type": "code",
   "execution_count": 69,
   "id": "64add6a4",
   "metadata": {
    "scrolled": true
   },
   "outputs": [
    {
     "data": {
      "text/plain": [
       "<matplotlib.legend.Legend at 0x7f204c1df400>"
      ]
     },
     "execution_count": 69,
     "metadata": {},
     "output_type": "execute_result"
    },
    {
     "data": {
      "image/png": "[encoded data removed]",
      "text/plain": [
       "<Figure size 432x288 with 1 Axes>"
      ]
     },
     "metadata": {
      "needs_background": "light"
     },
     "output_type": "display_data"
    }
   ],
   "source": [
    "i = 4000\n",
    "plt.plot(kl_loss[i:])\n",
    "plt.plot(mse_loss_PI[i:])\n",
    "plt.plot(mse_loss_PC[i:])\n",
    "plt.legend([\"KL loss\", \"MSE loss PI\", \"MSE loss PC\"])"
   ]
  },
  {
   "cell_type": "code",
   "execution_count": 58,
   "id": "08199b21",
   "metadata": {
    "scrolled": true
   },
   "outputs": [
    {
     "data": {
      "text/plain": [
       "(array([ 39., 187.,   5.,  19.,  10.,  11., 154., 194.,  30., 350.]),\n",
       " array([0.98588806, 0.99602807, 1.006168  , 1.016308  , 1.026448  ,\n",
       "        1.036588  , 1.0467279 , 1.0568678 , 1.0670078 , 1.0771478 ,\n",
       "        1.0872878 ], dtype=float32),\n",
       " <a list of 10 Patch objects>)"
      ]
     },
     "execution_count": 58,
     "metadata": {},
     "output_type": "execute_result"
    },
    {
     "data": {
      "image/png": "[encoded data removed]",
      "text/plain": [
       "<Figure size 432x288 with 1 Axes>"
      ]
     },
     "metadata": {
      "needs_background": "light"
     },
     "output_type": "display_data"
    }
   ],
   "source": [
    "plt.hist(var_joint.numpy().flatten())"
   ]
  },
  {
   "cell_type": "markdown",
   "id": "4b55e018",
   "metadata": {},
   "source": [
    "### Quick look at the results"
   ]
  },
  {
   "cell_type": "markdown",
   "id": "137cedd5",
   "metadata": {},
   "source": [
    "We can plot the results of a test dataset to see have our VAE did."
   ]
  },
  {
   "cell_type": "code",
   "execution_count": 70,
   "id": "7628d34a",
   "metadata": {},
   "outputs": [],
   "source": [
    "PI_pred, PC_pred = vae((PI_test, density_test))"
   ]
  },
  {
   "cell_type": "code",
   "execution_count": 71,
   "id": "a6ab48a3",
   "metadata": {},
   "outputs": [
    {
     "data": {
      "image/png": "[encoded data removed]",
      "text/plain": [
       "<Figure size 432x288 with 12 Axes>"
      ]
     },
     "metadata": {
      "needs_background": "light"
     },
     "output_type": "display_data"
    }
   ],
   "source": [
    "for i in range(4):\n",
    "    plt.subplot(4, 2, 2 * i + 2)\n",
    "    plt.imshow(np.flip(np.reshape(PI_pred[i+10], [PI_size, PI_size]), 0),\n",
    "               vmin=0,\n",
    "               vmax=1,\n",
    "               cmap='jet')\n",
    "    plt.colorbar()\n",
    "    plt.axis('off')\n",
    "    plt.subplot(4, 2, 2 * i + 1)\n",
    "    plt.imshow(np.flip(np.reshape(PC_pred[i+10], [size, size]), 0), cmap='jet')\n",
    "    #plt.colorbar()\n",
    "    plt.axis('off')\n",
    "#plt.savefig(\"Résultats/VAE_full_2_predicted.pdf\")"
   ]
  },
  {
   "cell_type": "markdown",
   "id": "a8fae57f",
   "metadata": {},
   "source": [
    "Here are the real densities and the real PI."
   ]
  },
  {
   "cell_type": "code",
   "execution_count": 25,
   "id": "07044ae3",
   "metadata": {
    "scrolled": false
   },
   "outputs": [
    {
     "data": {
      "image/png": "[encoded data removed]",
      "text/plain": [
       "<Figure size 432x288 with 20 Axes>"
      ]
     },
     "metadata": {
      "needs_background": "light"
     },
     "output_type": "display_data"
    }
   ],
   "source": [
    "for i in range(4):\n",
    "    plt.subplot(4, 3, 3 * i + 1)\n",
    "    #PC = np.reshape(predictions[i, :dim * N_points], (N_points, dim))\n",
    "    plt.scatter(PC_test[i+10, :, 0], PC_test[i+10, :, 1], s=3)\n",
    "    plt.xlim(-1, 1)\n",
    "    plt.ylim(-1, 1)\n",
    "    plt.axis('equal')\n",
    "    plt.subplot(4, 3, 3 * i + 2)\n",
    "    #im = predictions[i, dim * N_points:]\n",
    "    plt.imshow(np.flip(np.reshape(density_test[i+10], [size, size]), 0),\n",
    "               cmap='jet')\n",
    "    plt.colorbar()\n",
    "    plt.axis('off')\n",
    "\n",
    "    plt.subplot(4, 3, 3 * i + 3)\n",
    "    #im = predictions[i, dim * N_points:]\n",
    "    plt.imshow(np.flip(np.reshape(PI_test[i+10], [PI_size, PI_size]), 0),\n",
    "               vmin=0,\n",
    "               vmax=1,\n",
    "               cmap='jet')\n",
    "    plt.colorbar()\n",
    "    plt.axis('off')\n",
    "\n",
    "#plt.savefig(\"Résultats/VAE_full_1_true.pdf\")"
   ]
  },
  {
   "cell_type": "markdown",
   "id": "266944fe",
   "metadata": {},
   "source": [
    "We can save the VAE"
   ]
  },
  {
   "cell_type": "code",
   "execution_count": 77,
   "id": "df409411",
   "metadata": {
    "scrolled": true
   },
   "outputs": [
    {
     "name": "stderr",
     "output_type": "stream",
     "text": [
      "2021-07-12 16:49:49.001784: W tensorflow/python/util/util.cc:348] Sets are not currently considered sequences, but this may change in the future, so consider avoiding using them.\n",
      "WARNING:absl:Found untraced functions such as dense_132_layer_call_and_return_conditional_losses, dense_132_layer_call_fn, dense_133_layer_call_and_return_conditional_losses, dense_133_layer_call_fn, dense_134_layer_call_and_return_conditional_losses while saving (showing 5 of 60). These functions will not be directly callable after loading.\n"
     ]
    },
    {
     "name": "stdout",
     "output_type": "stream",
     "text": [
      "INFO:tensorflow:Assets written to: Saved_Model/VAE_full_2/assets\n"
     ]
    },
    {
     "name": "stderr",
     "output_type": "stream",
     "text": [
      "INFO:tensorflow:Assets written to: Saved_Model/VAE_full_2/assets\n"
     ]
    }
   ],
   "source": [
    "vae.save('Saved_Model/VAE_full_2')"
   ]
  }
 ],
 "metadata": {
  "kernelspec": {
   "display_name": "Python 3 (ipykernel)",
   "language": "python",
   "name": "python3"
  },
  "language_info": {
   "codemirror_mode": {
    "name": "ipython",
    "version": 3
   },
   "file_extension": ".py",
   "mimetype": "text/x-python",
   "name": "python",
   "nbconvert_exporter": "python",
   "pygments_lexer": "ipython3",
   "version": "3.8.10"
  }
 },
 "nbformat": 4,
 "nbformat_minor": 5
}
