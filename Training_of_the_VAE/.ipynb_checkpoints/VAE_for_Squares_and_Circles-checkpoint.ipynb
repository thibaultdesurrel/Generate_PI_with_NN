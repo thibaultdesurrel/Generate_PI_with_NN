{
 "cells": [
  {
   "cell_type": "markdown",
   "id": "3eabaf95",
   "metadata": {},
   "source": [
    "# VAE for Squares and Circles"
   ]
  },
  {
   "cell_type": "markdown",
   "id": "0844e8aa",
   "metadata": {},
   "source": [
    "This notebook is the definition and the training of the VAE that predicts PI and the point clouds for the square or circle dataset."
   ]
  },
  {
   "cell_type": "code",
   "execution_count": null,
   "id": "fccc3953",
   "metadata": {},
   "outputs": [
    {
     "name": "stderr",
     "output_type": "stream",
     "text": [
      "2021-07-13 09:25:43.111304: I tensorflow/stream_executor/platform/default/dso_loader.cc:53] Successfully opened dynamic library libcudart.so.11.0\n"
     ]
    }
   ],
   "source": [
    "import matplotlib.pyplot as plt\n",
    "import numpy as np\n",
    "\n",
    "import tensorflow as tf\n",
    "from time import time"
   ]
  },
  {
   "cell_type": "markdown",
   "id": "dadca24e",
   "metadata": {},
   "source": [
    "## Load the data "
   ]
  },
  {
   "cell_type": "code",
   "execution_count": null,
   "id": "d075d93f",
   "metadata": {},
   "outputs": [],
   "source": [
    "data = np.load('../data/PI_data_square_or_circle.npz')\n",
    "\n",
    "PC_train = data[\"data_train\"]\n",
    "PI_train = data[\"PI_train\"]\n",
    "density_train = data[\"density_train\"]\n",
    "PC_test = data[\"data_test\"]\n",
    "PI_test = data[\"PI_test\"]\n",
    "density_test = data[\"density_test\"]"
   ]
  },
  {
   "cell_type": "code",
   "execution_count": null,
   "id": "648cb3b8",
   "metadata": {},
   "outputs": [],
   "source": [
    "N_sets_train = PC_train.shape[0]\n",
    "N_sets_test = PC_test.shape[0]\n",
    "N_points = PC_train.shape[1]\n",
    "PI_size = int(np.sqrt(PI_train.shape[1]))\n",
    "size = int(np.sqrt(density_test.shape[1]))\n",
    "dim = 2\n",
    "batch_size = 64"
   ]
  },
  {
   "cell_type": "code",
   "execution_count": 5,
   "id": "ed63bdbf",
   "metadata": {},
   "outputs": [
    {
     "name": "stdout",
     "output_type": "stream",
     "text": [
      "N_sets_train :  10000\n",
      "N_sets_test :  200\n",
      "N_points :  1000\n",
      "PI_size :  50\n",
      "Size :  50\n"
     ]
    }
   ],
   "source": [
    "print(\"N_sets_train : \", N_sets_train)\n",
    "print(\"N_sets_test : \", N_sets_test)\n",
    "print(\"N_points : \", N_points)\n",
    "print(\"PI_size : \", PI_size)\n",
    "print(\"Size : \", size)"
   ]
  },
  {
   "cell_type": "markdown",
   "id": "5ce25e77",
   "metadata": {},
   "source": [
    "We normalize the PIs and the densities.\n"
   ]
  },
  {
   "cell_type": "code",
   "execution_count": 6,
   "id": "47707b12",
   "metadata": {},
   "outputs": [],
   "source": [
    "PI_train /= max(np.max(PI_train), np.max(PI_test))\n",
    "PI_test /= max(np.max(PI_test), np.max(PI_test))"
   ]
  },
  {
   "cell_type": "code",
   "execution_count": 7,
   "id": "4e1a8697",
   "metadata": {},
   "outputs": [],
   "source": [
    "for i in range(N_sets_train):\n",
    "    density_train[i] /= np.max(density_train[i])\n",
    "for i in range(N_sets_test):\n",
    "    density_test[i] /= np.max(density_test[i])"
   ]
  },
  {
   "cell_type": "markdown",
   "id": "656270e1",
   "metadata": {},
   "source": [
    "We create random batchs. Each batch is an array of array that contains $(PI,PC)$."
   ]
  },
  {
   "cell_type": "code",
   "execution_count": 8,
   "id": "5799c1d6",
   "metadata": {},
   "outputs": [],
   "source": [
    "data_train = np.stack((PI_train, density_train), 1)\n",
    "data_test = np.stack((PI_test, density_test), 1)"
   ]
  },
  {
   "cell_type": "code",
   "execution_count": 9,
   "id": "3a67d5ae",
   "metadata": {},
   "outputs": [
    {
     "name": "stderr",
     "output_type": "stream",
     "text": [
      "2021-07-12 15:51:37.396348: I tensorflow/stream_executor/platform/default/dso_loader.cc:53] Successfully opened dynamic library libcuda.so.1\n",
      "2021-07-12 15:51:37.683890: I tensorflow/stream_executor/cuda/cuda_gpu_executor.cc:937] successful NUMA node read from SysFS had negative value (-1), but there must be at least one NUMA node, so returning NUMA node zero\n",
      "2021-07-12 15:51:37.684669: I tensorflow/core/common_runtime/gpu/gpu_device.cc:1733] Found device 0 with properties: \n",
      "pciBusID: 0000:01:00.0 name: NVIDIA GeForce GTX 960M computeCapability: 5.0\n",
      "coreClock: 1.176GHz coreCount: 5 deviceMemorySize: 1.96GiB deviceMemoryBandwidth: 74.65GiB/s\n",
      "2021-07-12 15:51:37.684753: I tensorflow/stream_executor/platform/default/dso_loader.cc:53] Successfully opened dynamic library libcudart.so.11.0\n",
      "2021-07-12 15:51:37.726383: W tensorflow/stream_executor/platform/default/dso_loader.cc:64] Could not load dynamic library 'libcublas.so.11'; dlerror: libcublas.so.11: cannot open shared object file: No such file or directory; LD_LIBRARY_PATH: /usr/local/cuda/lib64:/usr/local/cuda-10.1/lib64:/usr/local/cuda/extras/CUPTI/lib64:\n",
      "2021-07-12 15:51:37.726985: W tensorflow/stream_executor/platform/default/dso_loader.cc:64] Could not load dynamic library 'libcublasLt.so.11'; dlerror: libcublasLt.so.11: cannot open shared object file: No such file or directory; LD_LIBRARY_PATH: /usr/local/cuda/lib64:/usr/local/cuda-10.1/lib64:/usr/local/cuda/extras/CUPTI/lib64:\n",
      "2021-07-12 15:51:37.886299: I tensorflow/stream_executor/platform/default/dso_loader.cc:53] Successfully opened dynamic library libcufft.so.10\n",
      "2021-07-12 15:51:37.957570: I tensorflow/stream_executor/platform/default/dso_loader.cc:53] Successfully opened dynamic library libcurand.so.10\n",
      "2021-07-12 15:51:37.958011: W tensorflow/stream_executor/platform/default/dso_loader.cc:64] Could not load dynamic library 'libcusolver.so.11'; dlerror: libcusolver.so.11: cannot open shared object file: No such file or directory; LD_LIBRARY_PATH: /usr/local/cuda/lib64:/usr/local/cuda-10.1/lib64:/usr/local/cuda/extras/CUPTI/lib64:\n",
      "2021-07-12 15:51:37.958299: W tensorflow/stream_executor/platform/default/dso_loader.cc:64] Could not load dynamic library 'libcusparse.so.11'; dlerror: libcusparse.so.11: cannot open shared object file: No such file or directory; LD_LIBRARY_PATH: /usr/local/cuda/lib64:/usr/local/cuda-10.1/lib64:/usr/local/cuda/extras/CUPTI/lib64:\n",
      "2021-07-12 15:51:37.958594: W tensorflow/stream_executor/platform/default/dso_loader.cc:64] Could not load dynamic library 'libcudnn.so.8'; dlerror: libcudnn.so.8: cannot open shared object file: No such file or directory; LD_LIBRARY_PATH: /usr/local/cuda/lib64:/usr/local/cuda-10.1/lib64:/usr/local/cuda/extras/CUPTI/lib64:\n",
      "2021-07-12 15:51:37.958630: W tensorflow/core/common_runtime/gpu/gpu_device.cc:1766] Cannot dlopen some GPU libraries. Please make sure the missing libraries mentioned above are installed properly if you would like to use GPU. Follow the guide at https://www.tensorflow.org/install/gpu for how to download and setup the required libraries for your platform.\n",
      "Skipping registering GPU devices...\n",
      "2021-07-12 15:51:37.982804: I tensorflow/core/platform/cpu_feature_guard.cc:142] This TensorFlow binary is optimized with oneAPI Deep Neural Network Library (oneDNN) to use the following CPU instructions in performance-critical operations:  AVX2 FMA\n",
      "To enable them in other operations, rebuild TensorFlow with the appropriate compiler flags.\n",
      "2021-07-12 15:51:37.996604: I tensorflow/core/common_runtime/gpu/gpu_device.cc:1258] Device interconnect StreamExecutor with strength 1 edge matrix:\n",
      "2021-07-12 15:51:37.996666: I tensorflow/core/common_runtime/gpu/gpu_device.cc:1264]      \n"
     ]
    }
   ],
   "source": [
    "train_dataset = (tf.data.Dataset.from_tensor_slices(\n",
    "    np.float32(data_train)).shuffle(N_sets_train).batch(batch_size))\n",
    "test_dataset = (tf.data.Dataset.from_tensor_slices(\n",
    "    np.float32(data_test)).shuffle(N_sets_test).batch(batch_size))"
   ]
  },
  {
   "cell_type": "markdown",
   "id": "047b843c",
   "metadata": {},
   "source": [
    "## Create the VAE"
   ]
  },
  {
   "cell_type": "markdown",
   "id": "b104d6bd",
   "metadata": {},
   "source": [
    "This sections defines the VAE *via* multiple classes. "
   ]
  },
  {
   "cell_type": "code",
   "execution_count": 27,
   "id": "a74bb16d",
   "metadata": {},
   "outputs": [],
   "source": [
    "class Sampling(tf.keras.layers.Layer):\n",
    "    \"\"\"Uses (mean_joint, var_joint) to sample z_joint, the latent vector encoding the output.\"\"\"\n",
    "    def call(self, inputs):\n",
    "        z_mean, z_var = inputs\n",
    "        batch = tf.shape(z_mean)[0]\n",
    "        dim = tf.shape(z_mean)[1]\n",
    "        epsilon = tf.keras.backend.random_normal(shape=(batch, dim))\n",
    "        return z_mean + z_var * epsilon\n",
    "\n",
    "\n",
    "class Encoder_PI(tf.keras.layers.Layer):\n",
    "    \"\"\"Maps the PI of the input to a couple (z_mean, z_log_var).\"\"\"\n",
    "    def __init__(self, latent_dim=2, name=\"encoder_PI\", **kwargs):\n",
    "        super(Encoder_PI, self).__init__(name=name, **kwargs)\n",
    "\n",
    "        self.dense_100 = tf.keras.layers.Dense(100, activation='sigmoid')\n",
    "        self.dense_mean = tf.keras.layers.Dense(latent_dim)\n",
    "        self.dense_var = tf.keras.layers.Dense(\n",
    "            latent_dim)  #, activation='relu')\n",
    "\n",
    "    def call(self, inputs):\n",
    "        x = self.dense_100(inputs)\n",
    "        z_mean = self.dense_mean(x)\n",
    "        z_var = self.dense_var(x)\n",
    "\n",
    "        return z_mean, z_var\n",
    "\n",
    "\n",
    "class Encoder_PC(tf.keras.layers.Layer):\n",
    "    \"\"\"Maps the PC of the input to a couple (z_mean, z_log_var).\"\"\"\n",
    "    def __init__(self, latent_dim=2, name=\"encoder_PC\", **kwargs):\n",
    "        super(Encoder_PC, self).__init__(name=name, **kwargs)\n",
    "\n",
    "        self.dense_100 = tf.keras.layers.Dense(100, activation='relu')\n",
    "\n",
    "        self.dense_mean = tf.keras.layers.Dense(latent_dim)\n",
    "        self.dense_var = tf.keras.layers.Dense(\n",
    "            latent_dim)  #, activation='relu')\n",
    "\n",
    "    def call(self, inputs):\n",
    "        x = self.dense_100(inputs)\n",
    "        z_mean = self.dense_mean(x)\n",
    "        z_var = self.dense_var(x)\n",
    "\n",
    "        return z_mean, z_var\n",
    "\n",
    "\n",
    "class Shared_Decoder(tf.keras.layers.Layer):\n",
    "    \"\"\"Converts z_joint, the encoded vector, back into a couple (z_joint_PI,z_joint_PC).\"\"\"\n",
    "    def __init__(self, latent_dim, name=\"shared_decoder\", **kwargs):\n",
    "        super(Shared_Decoder, self).__init__(name=name, **kwargs)\n",
    "        self.dense_100 = tf.keras.layers.Dense(20)  #, activation='relu')\n",
    "        self.dense_output = tf.keras.layers.Dense(\n",
    "            latent_dim + latent_dim)  #,activation='sigmoid')\n",
    "\n",
    "    def call(self, inputs):\n",
    "        x = self.dense_100(inputs)\n",
    "        return self.dense_output(x)\n",
    "    \n",
    "    \n",
    "class Decoder_PI(tf.keras.layers.Layer):\n",
    "    \"\"\"Converts z_joint_PI, the encoded vector, back into a readable PI.\"\"\"\n",
    "    def __init__(self, original_dim, name=\"decoder_PI\", **kwargs):\n",
    "        super(Decoder_PI, self).__init__(name=name, **kwargs)\n",
    "        self.dense_100 = tf.keras.layers.Dense(100)  #, activation='relu')\n",
    "        self.dense_output = tf.keras.layers.Dense(original_dim)\n",
    "\n",
    "    def call(self, inputs):\n",
    "        x = self.dense_100(inputs)\n",
    "        return self.dense_output(x)\n",
    "\n",
    "\n",
    "class Decoder_PC(tf.keras.layers.Layer):\n",
    "    \"\"\"Converts z_joint_PC, the encoded vector, back into a readable PC.\"\"\"\n",
    "    def __init__(self, original_dim, name=\"decoder_PC\", **kwargs):\n",
    "        super(Decoder_PC, self).__init__(name=name, **kwargs)\n",
    "        self.dense_100 = tf.keras.layers.Dense(100)  #, activation='relu')\n",
    "        self.dense_output = tf.keras.layers.Dense(\n",
    "            original_dim)  #,activation='sigmoid')\n",
    "\n",
    "    def call(self, inputs):\n",
    "        x = self.dense_100(inputs)\n",
    "        return self.dense_output(x)\n",
    "\n",
    "\n",
    "class VariationalAutoEncoder(tf.keras.Model):\n",
    "    \"\"\"Combines the encoders and decoders into an end-to-end model for training.\"\"\"\n",
    "    def __init__(self,\n",
    "                 original_dim,\n",
    "                 latent_dim=2,\n",
    "                 name=\"autoencoder\",\n",
    "                 **kwargs):\n",
    "        super(VariationalAutoEncoder, self).__init__(name=name, **kwargs)\n",
    "        self.original_dim = original_dim\n",
    "        self.encoder_PI = Encoder_PI(latent_dim=latent_dim)\n",
    "        self.decoder_PI = Decoder_PI(original_dim)\n",
    "\n",
    "        self.encoder_PC = Encoder_PC(latent_dim=latent_dim)\n",
    "        self.decoder_PC = Decoder_PC(original_dim)\n",
    "\n",
    "        self.sampling = Sampling()\n",
    "\n",
    "        self.shared_decoder = Shared_Decoder(latent_dim)\n",
    "\n",
    "    def call(self, inputs):\n",
    "        PI_inputs, PC_inputs = inputs\n",
    "\n",
    "        #First step, we encode the PI and PC we have in input\n",
    "        z_mean_PI, z_var_PI = self.encoder_PI(PI_inputs)\n",
    "        z_mean_PC, z_var_PC = self.encoder_PC(PC_inputs)\n",
    "\n",
    "        #We then compute (mean_joint, var_joint) by doing a product of gaussians\n",
    "        mean_joint = (z_mean_PI / z_var_PI +\n",
    "                      z_mean_PC / z_var_PC) * (1 + 1 / z_var_PI + 1 / z_var_PC)\n",
    "        var_joint = (1 + 1 / z_var_PI + 1 / z_var_PC)\n",
    "\n",
    "        #We sample from the joint distribution \n",
    "        z_joint = self.sampling((mean_joint, var_joint))\n",
    "   \n",
    "\n",
    "        # Add KL divergence regularization loss.\n",
    "        kl_loss = -0.5 * tf.reduce_mean(\n",
    "            tf.math.log(tf.square(var_joint)) - tf.square(mean_joint) -\n",
    "            tf.square(var_joint) + 1, 0)\n",
    "\n",
    "        self.add_loss(tf.reduce_sum(kl_loss))\n",
    "\n",
    "        #We decode z_joint into z_PI, z_PC\n",
    "        z_PI, z_PC = tf.split(self.shared_decoder(z_joint),\n",
    "                              num_or_size_splits=2,\n",
    "                              axis=1)\n",
    "\n",
    "        #We decode z_PI, z_PC into real PI and PC\n",
    "        reconstructed_PI = self.decoder_PI(z_PI)\n",
    "        reconstructed_PC = self.decoder_PC(z_PC)\n",
    "\n",
    "        return reconstructed_PI, reconstructed_PC"
   ]
  },
  {
   "cell_type": "code",
   "execution_count": 82,
   "id": "570718fb",
   "metadata": {
    "scrolled": true
   },
   "outputs": [
    {
     "name": "stdout",
     "output_type": "stream",
     "text": [
      "Start of epoch 1\n",
      "Epoch 1: MSE loss for PI = 2.4119e-02, MSE loss for PC = 4.6524e-02, KL loss = 2.9835e-02\n",
      "Time to compute epoch 1 : 5.245614051818848 sec\n",
      "Start of epoch 2\n",
      "Epoch 2: MSE loss for PI = 2.3868e-02, MSE loss for PC = 4.5402e-02, KL loss = 2.8618e-02\n",
      "Time to compute epoch 2 : 5.152629613876343 sec\n",
      "Start of epoch 3\n",
      "Epoch 3: MSE loss for PI = 2.4003e-02, MSE loss for PC = 4.6778e-02, KL loss = 2.9103e-02\n",
      "Time to compute epoch 3 : 5.035217761993408 sec\n",
      "Start of epoch 4\n",
      "Epoch 4: MSE loss for PI = 2.3708e-02, MSE loss for PC = 4.5315e-02, KL loss = 2.7496e-02\n",
      "Time to compute epoch 4 : 5.012677431106567 sec\n",
      "Start of epoch 5\n",
      "Epoch 5: MSE loss for PI = 2.3445e-02, MSE loss for PC = 4.6549e-02, KL loss = 2.6551e-02\n",
      "Time to compute epoch 5 : 5.284088134765625 sec\n",
      "Start of epoch 6\n",
      "Epoch 6: MSE loss for PI = 2.3564e-02, MSE loss for PC = 4.2645e-02, KL loss = 3.0435e-02\n",
      "Time to compute epoch 6 : 5.010197877883911 sec\n",
      "Start of epoch 7\n",
      "Epoch 7: MSE loss for PI = 2.3432e-02, MSE loss for PC = 4.4667e-02, KL loss = 2.7338e-02\n",
      "Time to compute epoch 7 : 4.997125864028931 sec\n",
      "Start of epoch 8\n",
      "Epoch 8: MSE loss for PI = 2.3897e-02, MSE loss for PC = 4.6107e-02, KL loss = 2.7690e-02\n",
      "Time to compute epoch 8 : 5.009413242340088 sec\n",
      "Start of epoch 9\n",
      "Epoch 9: MSE loss for PI = 2.3473e-02, MSE loss for PC = 4.6651e-02, KL loss = 2.5173e-02\n",
      "Time to compute epoch 9 : 5.025810718536377 sec\n",
      "Start of epoch 10\n",
      "Epoch 10: MSE loss for PI = 2.3701e-02, MSE loss for PC = 4.6394e-02, KL loss = 2.6215e-02\n",
      "Time to compute epoch 10 : 5.031724691390991 sec\n",
      "Start of epoch 11\n",
      "Epoch 11: MSE loss for PI = 2.4032e-02, MSE loss for PC = 4.6379e-02, KL loss = 2.6469e-02\n",
      "Time to compute epoch 11 : 5.0125110149383545 sec\n",
      "Start of epoch 12\n",
      "Epoch 12: MSE loss for PI = 2.4445e-02, MSE loss for PC = 4.7868e-02, KL loss = 2.5259e-02\n",
      "Time to compute epoch 12 : 4.999729156494141 sec\n",
      "Start of epoch 13\n",
      "Epoch 13: MSE loss for PI = 2.3676e-02, MSE loss for PC = 4.5841e-02, KL loss = 2.4753e-02\n",
      "Time to compute epoch 13 : 4.995925664901733 sec\n",
      "Start of epoch 14\n",
      "Epoch 14: MSE loss for PI = 2.3831e-02, MSE loss for PC = 4.5715e-02, KL loss = 2.5745e-02\n",
      "Time to compute epoch 14 : 5.014560699462891 sec\n",
      "Start of epoch 15\n",
      "Epoch 15: MSE loss for PI = 2.5610e-02, MSE loss for PC = 5.0467e-02, KL loss = 2.2224e-02\n",
      "Time to compute epoch 15 : 5.009158611297607 sec\n",
      "Start of epoch 16\n",
      "Epoch 16: MSE loss for PI = 2.4628e-02, MSE loss for PC = 4.9287e-02, KL loss = 2.2333e-02\n",
      "Time to compute epoch 16 : 5.007943868637085 sec\n",
      "Start of epoch 17\n",
      "Epoch 17: MSE loss for PI = 2.4357e-02, MSE loss for PC = 4.8154e-02, KL loss = 2.3300e-02\n",
      "Time to compute epoch 17 : 4.996740102767944 sec\n",
      "Start of epoch 18\n",
      "Epoch 18: MSE loss for PI = 2.4977e-02, MSE loss for PC = 5.1029e-02, KL loss = 2.3438e-02\n",
      "Time to compute epoch 18 : 5.015344142913818 sec\n",
      "Start of epoch 19\n",
      "Epoch 19: MSE loss for PI = 2.3785e-02, MSE loss for PC = 4.6534e-02, KL loss = 2.2074e-02\n",
      "Time to compute epoch 19 : 5.022643327713013 sec\n",
      "Start of epoch 20\n",
      "Epoch 20: MSE loss for PI = 2.4461e-02, MSE loss for PC = 4.7545e-02, KL loss = 2.1506e-02\n",
      "Time to compute epoch 20 : 5.275153636932373 sec\n",
      "Start of epoch 21\n",
      "Epoch 21: MSE loss for PI = 2.4644e-02, MSE loss for PC = 4.7898e-02, KL loss = 2.0092e-02\n",
      "Time to compute epoch 21 : 5.043621778488159 sec\n",
      "Start of epoch 22\n",
      "Epoch 22: MSE loss for PI = 2.4291e-02, MSE loss for PC = 4.5782e-02, KL loss = 2.0261e-02\n",
      "Time to compute epoch 22 : 4.995567321777344 sec\n",
      "Start of epoch 23\n",
      "Epoch 23: MSE loss for PI = 2.3965e-02, MSE loss for PC = 4.6518e-02, KL loss = 1.8910e-02\n",
      "Time to compute epoch 23 : 5.028231382369995 sec\n",
      "Start of epoch 24\n",
      "Epoch 24: MSE loss for PI = 2.3550e-02, MSE loss for PC = 4.5536e-02, KL loss = 1.7568e-02\n",
      "Time to compute epoch 24 : 5.003117799758911 sec\n",
      "Start of epoch 25\n",
      "Epoch 25: MSE loss for PI = 2.4983e-02, MSE loss for PC = 4.9479e-02, KL loss = 2.1616e-02\n",
      "Time to compute epoch 25 : 4.98992919921875 sec\n",
      "Start of epoch 26\n",
      "Epoch 26: MSE loss for PI = 2.5261e-02, MSE loss for PC = 4.8288e-02, KL loss = 1.5732e-02\n",
      "Time to compute epoch 26 : 5.233368873596191 sec\n",
      "Start of epoch 27\n",
      "Epoch 27: MSE loss for PI = 2.3985e-02, MSE loss for PC = 4.6022e-02, KL loss = 1.7509e-02\n",
      "Time to compute epoch 27 : 5.0001397132873535 sec\n",
      "Start of epoch 28\n",
      "Epoch 28: MSE loss for PI = 2.3694e-02, MSE loss for PC = 4.6099e-02, KL loss = 1.8522e-02\n",
      "Time to compute epoch 28 : 4.981889724731445 sec\n",
      "Start of epoch 29\n",
      "Epoch 29: MSE loss for PI = 2.3377e-02, MSE loss for PC = 4.5709e-02, KL loss = 1.9557e-02\n",
      "Time to compute epoch 29 : 4.9798665046691895 sec\n",
      "Start of epoch 30\n",
      "Epoch 30: MSE loss for PI = 2.6039e-02, MSE loss for PC = 5.1293e-02, KL loss = 1.4611e-02\n",
      "Time to compute epoch 30 : 5.013136148452759 sec\n",
      "Start of epoch 31\n",
      "Epoch 31: MSE loss for PI = 2.4781e-02, MSE loss for PC = 4.6237e-02, KL loss = 1.7186e-02\n",
      "Time to compute epoch 31 : 5.009732246398926 sec\n",
      "Start of epoch 32\n",
      "Epoch 32: MSE loss for PI = 2.3617e-02, MSE loss for PC = 4.5834e-02, KL loss = 1.6054e-02\n",
      "Time to compute epoch 32 : 5.004756927490234 sec\n",
      "Start of epoch 33\n",
      "Epoch 33: MSE loss for PI = 2.4390e-02, MSE loss for PC = 4.6130e-02, KL loss = 1.5685e-02\n",
      "Time to compute epoch 33 : 4.987838506698608 sec\n",
      "Start of epoch 34\n",
      "Epoch 34: MSE loss for PI = 2.2687e-02, MSE loss for PC = 4.3674e-02, KL loss = 1.2429e-02\n",
      "Time to compute epoch 34 : 5.006589651107788 sec\n",
      "Start of epoch 35\n",
      "Epoch 35: MSE loss for PI = 2.3722e-02, MSE loss for PC = 4.5304e-02, KL loss = 1.2855e-02\n",
      "Time to compute epoch 35 : 4.988414764404297 sec\n",
      "Start of epoch 36\n",
      "Epoch 36: MSE loss for PI = 2.3848e-02, MSE loss for PC = 4.5692e-02, KL loss = 1.2568e-02\n",
      "Time to compute epoch 36 : 4.9992759227752686 sec\n",
      "Start of epoch 37\n",
      "Epoch 37: MSE loss for PI = 2.4184e-02, MSE loss for PC = 4.8206e-02, KL loss = 1.4451e-02\n",
      "Time to compute epoch 37 : 4.998536825180054 sec\n",
      "Start of epoch 38\n",
      "Epoch 38: MSE loss for PI = 2.3995e-02, MSE loss for PC = 4.8046e-02, KL loss = 1.3482e-02\n",
      "Time to compute epoch 38 : 4.998659133911133 sec\n",
      "Start of epoch 39\n",
      "Epoch 39: MSE loss for PI = 2.4432e-02, MSE loss for PC = 4.8282e-02, KL loss = 1.2538e-02\n",
      "Time to compute epoch 39 : 4.995949745178223 sec\n",
      "Start of epoch 40\n",
      "Epoch 40: MSE loss for PI = 2.4192e-02, MSE loss for PC = 4.7565e-02, KL loss = 1.2321e-02\n",
      "Time to compute epoch 40 : 4.98868989944458 sec\n",
      "Start of epoch 41\n",
      "Epoch 41: MSE loss for PI = 2.3865e-02, MSE loss for PC = 4.6495e-02, KL loss = 1.4216e-02\n",
      "Time to compute epoch 41 : 4.992922067642212 sec\n",
      "Start of epoch 42\n",
      "Epoch 42: MSE loss for PI = 2.3826e-02, MSE loss for PC = 4.5859e-02, KL loss = 1.1936e-02\n",
      "Time to compute epoch 42 : 5.016193866729736 sec\n",
      "Start of epoch 43\n",
      "Epoch 43: MSE loss for PI = 2.3959e-02, MSE loss for PC = 4.6307e-02, KL loss = 1.2452e-02\n",
      "Time to compute epoch 43 : 5.05114221572876 sec\n",
      "Start of epoch 44\n",
      "Epoch 44: MSE loss for PI = 2.3974e-02, MSE loss for PC = 4.6573e-02, KL loss = 1.2286e-02\n",
      "Time to compute epoch 44 : 5.242680311203003 sec\n",
      "Start of epoch 45\n",
      "Epoch 45: MSE loss for PI = 2.4266e-02, MSE loss for PC = 4.7150e-02, KL loss = 1.0763e-02\n",
      "Time to compute epoch 45 : 5.001654386520386 sec\n",
      "Start of epoch 46\n",
      "Epoch 46: MSE loss for PI = 2.3897e-02, MSE loss for PC = 4.7318e-02, KL loss = 1.2674e-02\n",
      "Time to compute epoch 46 : 5.004271030426025 sec\n",
      "Start of epoch 47\n",
      "Epoch 47: MSE loss for PI = 2.5922e-02, MSE loss for PC = 4.8904e-02, KL loss = 9.8234e-03\n",
      "Time to compute epoch 47 : 5.003156423568726 sec\n",
      "Start of epoch 48\n",
      "Epoch 48: MSE loss for PI = 2.4002e-02, MSE loss for PC = 4.6666e-02, KL loss = 1.0383e-02\n",
      "Time to compute epoch 48 : 5.009911060333252 sec\n",
      "Start of epoch 49\n",
      "Epoch 49: MSE loss for PI = 2.3863e-02, MSE loss for PC = 4.4771e-02, KL loss = 1.2288e-02\n",
      "Time to compute epoch 49 : 5.082241535186768 sec\n",
      "Start of epoch 50\n",
      "Epoch 50: MSE loss for PI = 2.2918e-02, MSE loss for PC = 4.4259e-02, KL loss = 1.4182e-02\n",
      "Time to compute epoch 50 : 5.202788829803467 sec\n",
      "Start of epoch 51\n",
      "Epoch 51: MSE loss for PI = 2.3424e-02, MSE loss for PC = 4.4768e-02, KL loss = 1.4071e-02\n",
      "Time to compute epoch 51 : 5.016280889511108 sec\n",
      "Start of epoch 52\n",
      "Epoch 52: MSE loss for PI = 2.4991e-02, MSE loss for PC = 4.7527e-02, KL loss = 1.3966e-02\n",
      "Time to compute epoch 52 : 4.996849060058594 sec\n",
      "Start of epoch 53\n"
     ]
    },
    {
     "name": "stdout",
     "output_type": "stream",
     "text": [
      "Epoch 53: MSE loss for PI = 2.4028e-02, MSE loss for PC = 4.4927e-02, KL loss = 1.1225e-02\n",
      "Time to compute epoch 53 : 5.064162492752075 sec\n",
      "Start of epoch 54\n",
      "Epoch 54: MSE loss for PI = 2.3760e-02, MSE loss for PC = 4.5028e-02, KL loss = 1.1797e-02\n",
      "Time to compute epoch 54 : 5.1950438022613525 sec\n",
      "Start of epoch 55\n",
      "Epoch 55: MSE loss for PI = 2.3872e-02, MSE loss for PC = 4.6660e-02, KL loss = 1.1715e-02\n",
      "Time to compute epoch 55 : 5.158420562744141 sec\n",
      "Start of epoch 56\n",
      "Epoch 56: MSE loss for PI = 2.3656e-02, MSE loss for PC = 4.6286e-02, KL loss = 9.6797e-03\n",
      "Time to compute epoch 56 : 5.067690134048462 sec\n",
      "Start of epoch 57\n",
      "Epoch 57: MSE loss for PI = 2.3429e-02, MSE loss for PC = 4.4775e-02, KL loss = 8.3179e-03\n",
      "Time to compute epoch 57 : 5.3742616176605225 sec\n",
      "Start of epoch 58\n",
      "Epoch 58: MSE loss for PI = 2.4863e-02, MSE loss for PC = 4.6928e-02, KL loss = 1.0195e-02\n",
      "Time to compute epoch 58 : 5.369758605957031 sec\n",
      "Start of epoch 59\n",
      "Epoch 59: MSE loss for PI = 2.4090e-02, MSE loss for PC = 4.6478e-02, KL loss = 1.1417e-02\n",
      "Time to compute epoch 59 : 5.180835008621216 sec\n",
      "Start of epoch 60\n",
      "Epoch 60: MSE loss for PI = 2.3813e-02, MSE loss for PC = 4.5253e-02, KL loss = 1.1987e-02\n",
      "Time to compute epoch 60 : 5.111251592636108 sec\n",
      "Start of epoch 61\n",
      "Epoch 61: MSE loss for PI = 2.3666e-02, MSE loss for PC = 4.6106e-02, KL loss = 1.1284e-02\n",
      "Time to compute epoch 61 : 5.082045555114746 sec\n",
      "Start of epoch 62\n",
      "Epoch 62: MSE loss for PI = 2.3677e-02, MSE loss for PC = 4.5709e-02, KL loss = 9.9525e-03\n",
      "Time to compute epoch 62 : 5.047667980194092 sec\n",
      "Start of epoch 63\n"
     ]
    },
    {
     "ename": "KeyboardInterrupt",
     "evalue": "",
     "output_type": "error",
     "traceback": [
      "\u001b[0;31m---------------------------------------------------------------------------\u001b[0m",
      "\u001b[0;31mKeyboardInterrupt\u001b[0m                         Traceback (most recent call last)",
      "\u001b[0;32m/tmp/ipykernel_8395/2376039249.py\u001b[0m in \u001b[0;36m<module>\u001b[0;34m\u001b[0m\n\u001b[1;32m     20\u001b[0m     \u001b[0minitial_time\u001b[0m \u001b[0;34m=\u001b[0m \u001b[0mtime\u001b[0m\u001b[0;34m(\u001b[0m\u001b[0;34m)\u001b[0m\u001b[0;34m\u001b[0m\u001b[0;34m\u001b[0m\u001b[0m\n\u001b[1;32m     21\u001b[0m     \u001b[0;31m# Iterat2500e over the batches of the dataset.\u001b[0m\u001b[0;34m\u001b[0m\u001b[0;34m\u001b[0m\u001b[0;34m\u001b[0m\u001b[0m\n\u001b[0;32m---> 22\u001b[0;31m     \u001b[0;32mfor\u001b[0m \u001b[0mstep\u001b[0m\u001b[0;34m,\u001b[0m \u001b[0mx_batch_train\u001b[0m \u001b[0;32min\u001b[0m \u001b[0menumerate\u001b[0m\u001b[0;34m(\u001b[0m\u001b[0mtrain_dataset\u001b[0m\u001b[0;34m)\u001b[0m\u001b[0;34m:\u001b[0m\u001b[0;34m\u001b[0m\u001b[0;34m\u001b[0m\u001b[0m\n\u001b[0m\u001b[1;32m     23\u001b[0m         \u001b[0mPI_inputs\u001b[0m \u001b[0;34m=\u001b[0m \u001b[0mx_batch_train\u001b[0m\u001b[0;34m[\u001b[0m\u001b[0;34m:\u001b[0m\u001b[0;34m,\u001b[0m \u001b[0;36m0\u001b[0m\u001b[0;34m,\u001b[0m \u001b[0;34m:\u001b[0m\u001b[0;34m]\u001b[0m\u001b[0;34m\u001b[0m\u001b[0;34m\u001b[0m\u001b[0m\n\u001b[1;32m     24\u001b[0m         \u001b[0mPC_inputs\u001b[0m \u001b[0;34m=\u001b[0m \u001b[0mx_batch_train\u001b[0m\u001b[0;34m[\u001b[0m\u001b[0;34m:\u001b[0m\u001b[0;34m,\u001b[0m \u001b[0;36m1\u001b[0m\u001b[0;34m,\u001b[0m \u001b[0;34m:\u001b[0m\u001b[0;34m]\u001b[0m\u001b[0;34m\u001b[0m\u001b[0;34m\u001b[0m\u001b[0m\n",
      "\u001b[0;32m~/.local/lib/python3.8/site-packages/tensorflow/python/data/ops/iterator_ops.py\u001b[0m in \u001b[0;36m__next__\u001b[0;34m(self)\u001b[0m\n\u001b[1;32m    759\u001b[0m   \u001b[0;32mdef\u001b[0m \u001b[0m__next__\u001b[0m\u001b[0;34m(\u001b[0m\u001b[0mself\u001b[0m\u001b[0;34m)\u001b[0m\u001b[0;34m:\u001b[0m\u001b[0;34m\u001b[0m\u001b[0;34m\u001b[0m\u001b[0m\n\u001b[1;32m    760\u001b[0m     \u001b[0;32mtry\u001b[0m\u001b[0;34m:\u001b[0m\u001b[0;34m\u001b[0m\u001b[0;34m\u001b[0m\u001b[0m\n\u001b[0;32m--> 761\u001b[0;31m       \u001b[0;32mreturn\u001b[0m \u001b[0mself\u001b[0m\u001b[0;34m.\u001b[0m\u001b[0m_next_internal\u001b[0m\u001b[0;34m(\u001b[0m\u001b[0;34m)\u001b[0m\u001b[0;34m\u001b[0m\u001b[0;34m\u001b[0m\u001b[0m\n\u001b[0m\u001b[1;32m    762\u001b[0m     \u001b[0;32mexcept\u001b[0m \u001b[0merrors\u001b[0m\u001b[0;34m.\u001b[0m\u001b[0mOutOfRangeError\u001b[0m\u001b[0;34m:\u001b[0m\u001b[0;34m\u001b[0m\u001b[0;34m\u001b[0m\u001b[0m\n\u001b[1;32m    763\u001b[0m       \u001b[0;32mraise\u001b[0m \u001b[0mStopIteration\u001b[0m\u001b[0;34m\u001b[0m\u001b[0;34m\u001b[0m\u001b[0m\n",
      "\u001b[0;32m~/.local/lib/python3.8/site-packages/tensorflow/python/data/ops/iterator_ops.py\u001b[0m in \u001b[0;36m_next_internal\u001b[0;34m(self)\u001b[0m\n\u001b[1;32m    742\u001b[0m     \u001b[0;31m# to communicate that there is no more data to iterate over.\u001b[0m\u001b[0;34m\u001b[0m\u001b[0;34m\u001b[0m\u001b[0;34m\u001b[0m\u001b[0m\n\u001b[1;32m    743\u001b[0m     \u001b[0;32mwith\u001b[0m \u001b[0mcontext\u001b[0m\u001b[0;34m.\u001b[0m\u001b[0mexecution_mode\u001b[0m\u001b[0;34m(\u001b[0m\u001b[0mcontext\u001b[0m\u001b[0;34m.\u001b[0m\u001b[0mSYNC\u001b[0m\u001b[0;34m)\u001b[0m\u001b[0;34m:\u001b[0m\u001b[0;34m\u001b[0m\u001b[0;34m\u001b[0m\u001b[0m\n\u001b[0;32m--> 744\u001b[0;31m       ret = gen_dataset_ops.iterator_get_next(\n\u001b[0m\u001b[1;32m    745\u001b[0m           \u001b[0mself\u001b[0m\u001b[0;34m.\u001b[0m\u001b[0m_iterator_resource\u001b[0m\u001b[0;34m,\u001b[0m\u001b[0;34m\u001b[0m\u001b[0;34m\u001b[0m\u001b[0m\n\u001b[1;32m    746\u001b[0m           \u001b[0moutput_types\u001b[0m\u001b[0;34m=\u001b[0m\u001b[0mself\u001b[0m\u001b[0;34m.\u001b[0m\u001b[0m_flat_output_types\u001b[0m\u001b[0;34m,\u001b[0m\u001b[0;34m\u001b[0m\u001b[0;34m\u001b[0m\u001b[0m\n",
      "\u001b[0;32m~/.local/lib/python3.8/site-packages/tensorflow/python/ops/gen_dataset_ops.py\u001b[0m in \u001b[0;36miterator_get_next\u001b[0;34m(iterator, output_types, output_shapes, name)\u001b[0m\n\u001b[1;32m   2721\u001b[0m   \u001b[0;32mif\u001b[0m \u001b[0mtld\u001b[0m\u001b[0;34m.\u001b[0m\u001b[0mis_eager\u001b[0m\u001b[0;34m:\u001b[0m\u001b[0;34m\u001b[0m\u001b[0;34m\u001b[0m\u001b[0m\n\u001b[1;32m   2722\u001b[0m     \u001b[0;32mtry\u001b[0m\u001b[0;34m:\u001b[0m\u001b[0;34m\u001b[0m\u001b[0;34m\u001b[0m\u001b[0m\n\u001b[0;32m-> 2723\u001b[0;31m       _result = pywrap_tfe.TFE_Py_FastPathExecute(\n\u001b[0m\u001b[1;32m   2724\u001b[0m         \u001b[0m_ctx\u001b[0m\u001b[0;34m,\u001b[0m \u001b[0;34m\"IteratorGetNext\"\u001b[0m\u001b[0;34m,\u001b[0m \u001b[0mname\u001b[0m\u001b[0;34m,\u001b[0m \u001b[0miterator\u001b[0m\u001b[0;34m,\u001b[0m \u001b[0;34m\"output_types\"\u001b[0m\u001b[0;34m,\u001b[0m \u001b[0moutput_types\u001b[0m\u001b[0;34m,\u001b[0m\u001b[0;34m\u001b[0m\u001b[0;34m\u001b[0m\u001b[0m\n\u001b[1;32m   2725\u001b[0m         \"output_shapes\", output_shapes)\n",
      "\u001b[0;31mKeyboardInterrupt\u001b[0m: "
     ]
    }
   ],
   "source": [
    "original_dim = PI_size * PI_size\n",
    "latent_dim = 2\n",
    "vae = VariationalAutoEncoder(original_dim, latent_dim)\n",
    "\n",
    "optimizer = tf.keras.optimizers.Adamax(learning_rate=5e-2)\n",
    "mse_loss_fn = tf.keras.losses.MeanSquaredError()\n",
    "\n",
    "#We keep track of the losses\n",
    "mse_loss_PI = []\n",
    "mse_loss_PC = []\n",
    "kl_loss = []\n",
    "\n",
    "#Number of epochs\n",
    "epochs = 100\n",
    "\n",
    "# Iterate over epochs.\n",
    "for epoch in range(epochs):\n",
    "    print(\"Start of epoch %d\" % (epoch + 1, ))\n",
    "    initial_time = time()\n",
    "    \n",
    "    # Iterate over the batches of the dataset.\n",
    "    for step, x_batch_train in enumerate(train_dataset):\n",
    "        #For each batch, we separate the PI from the PC\n",
    "        PI_inputs = x_batch_train[:, 0, :]\n",
    "        PC_inputs = x_batch_train[:, 1, :]\n",
    "        with tf.GradientTape() as tape:\n",
    "            reconstructed_PI, reconstructed_PC = vae((PI_inputs, PC_inputs))\n",
    "            \n",
    "            # Compute reconstruction loss\n",
    "            loss = mse_loss_fn(x_batch_train[:, 0, :], reconstructed_PI)\n",
    "            loss += mse_loss_fn(x_batch_train[:, 1, :], reconstructed_PC)\n",
    "\n",
    "            loss += tf.reduce_sum(vae.losses)  # Add KLD regularization loss\n",
    "        \n",
    "        # Compute the gradient    \n",
    "        grads = tape.gradient(loss, vae.trainable_weights)\n",
    "        optimizer.apply_gradients(zip(grads, vae.trainable_weights))\n",
    "\n",
    "        #Keep track of the losses\n",
    "        mse_loss_PI.append(\n",
    "            mse_loss_fn(x_batch_train[:, 0, :], reconstructed_PI))\n",
    "        mse_loss_PC.append(\n",
    "            mse_loss_fn(x_batch_train[:, 1, :], reconstructed_PC))\n",
    "        kl_loss.append(vae.losses[0])\n",
    "\n",
    "    print(\n",
    "        \"Epoch %d: MSE loss for PI = %.4e, MSE loss for PC = %.4e, KL loss = %.4e\"\n",
    "        % (epoch + 1, mse_loss_fn(x_batch_train[:, 0, :],\n",
    "                                  reconstructed_PI).numpy(),\n",
    "           mse_loss_fn(x_batch_train[:, 1, :],\n",
    "                       reconstructed_PC).numpy(), vae.losses[0].numpy()))\n",
    "\n",
    "    print(\"Time to compute epoch {} : {} sec\".format(epoch + 1,\n",
    "                                                     time() - initial_time))"
   ]
  },
  {
   "cell_type": "markdown",
   "id": "a2e8a3c4",
   "metadata": {},
   "source": [
    "We can plot the evolution of the errors"
   ]
  },
  {
   "cell_type": "code",
   "execution_count": 83,
   "id": "64add6a4",
   "metadata": {
    "scrolled": true
   },
   "outputs": [
    {
     "data": {
      "text/plain": [
       "<matplotlib.legend.Legend at 0x7f2ea84d2e80>"
      ]
     },
     "execution_count": 83,
     "metadata": {},
     "output_type": "execute_result"
    },
    {
     "data": {
      "image/png": "[encoded data removed]",
      "text/plain": [
       "<Figure size 432x288 with 1 Axes>"
      ]
     },
     "metadata": {
      "needs_background": "light"
     },
     "output_type": "display_data"
    }
   ],
   "source": [
    "plt.plot(kl_loss[50:])\n",
    "plt.plot(mse_loss_PI[50:])\n",
    "plt.plot(mse_loss_PC[50:])\n",
    "plt.legend([\"KL loss\", \"MSE loss PI\", \"MSE loss PC\"])"
   ]
  },
  {
   "cell_type": "markdown",
   "id": "25eab874",
   "metadata": {},
   "source": [
    "### Quick look at the results"
   ]
  },
  {
   "cell_type": "markdown",
   "id": "5f0fc21f",
   "metadata": {},
   "source": [
    "We can plot the results of a test dataset to see have our VAE did."
   ]
  },
  {
   "cell_type": "code",
   "execution_count": 87,
   "id": "7628d34a",
   "metadata": {},
   "outputs": [
    {
     "name": "stderr",
     "output_type": "stream",
     "text": [
      "2021-07-12 16:58:00.450436: I tensorflow/compiler/mlir/mlir_graph_optimization_pass.cc:176] None of the MLIR Optimization Passes are enabled (registered 2)\n",
      "2021-07-12 16:58:00.546846: I tensorflow/core/platform/profile_utils/cpu_utils.cc:114] CPU Frequency: 2599990000 Hz\n"
     ]
    }
   ],
   "source": [
    "PI_pred, PC_pred = vae((PI_test, density_test))"
   ]
  },
  {
   "cell_type": "code",
   "execution_count": 89,
   "id": "a6ab48a3",
   "metadata": {},
   "outputs": [
    {
     "data": {
      "image/png": "[encoded data removed]",
      "text/plain": [
       "<Figure size 432x288 with 12 Axes>"
      ]
     },
     "metadata": {
      "needs_background": "light"
     },
     "output_type": "display_data"
    }
   ],
   "source": [
    "for i in range(4):\n",
    "    plt.subplot(4, 2, 2 * i + 2)\n",
    "    plt.imshow(np.flip(np.reshape(PI_pred[-i], [PI_size, PI_size]), 0),\n",
    "               vmin=0,\n",
    "               vmax=1,\n",
    "               cmap='jet')\n",
    "    plt.colorbar()\n",
    "    plt.axis('off')\n",
    "    plt.subplot(4, 2, 2 * i + 1)\n",
    "    plt.imshow(np.flip(np.reshape(PC_pred[-i], [size, size]), 0), cmap='jet')\n",
    "    #plt.colorbar()\n",
    "    plt.axis('off')\n",
    "#plt.savefig(\"Résultats/VAE_full_2_predicted.pdf\")"
   ]
  },
  {
   "cell_type": "markdown",
   "id": "fea0845a",
   "metadata": {},
   "source": [
    "Here are the real densities and the real PI."
   ]
  },
  {
   "cell_type": "code",
   "execution_count": 54,
   "id": "07044ae3",
   "metadata": {
    "scrolled": true
   },
   "outputs": [
    {
     "data": {
      "image/png": "[encoded data removed]",
      "text/plain": [
       "<Figure size 432x288 with 20 Axes>"
      ]
     },
     "metadata": {
      "needs_background": "light"
     },
     "output_type": "display_data"
    }
   ],
   "source": [
    "for i in range(4):\n",
    "    plt.subplot(4, 3, 3 * i + 1)\n",
    "    #PC = np.reshape(predictions[i, :dim * N_points], (N_points, dim))\n",
    "    plt.scatter(PC_test[-i, :, 0], PC_test[-i, :, 1], s=3)\n",
    "    plt.xlim(-1, 1)\n",
    "    plt.ylim(-1, 1)\n",
    "    plt.axis('equal')\n",
    "    plt.subplot(4, 3, 3 * i + 2)\n",
    "    #im = predictions[i, dim * N_points:]\n",
    "    plt.imshow(np.flip(np.reshape(density_test[-i], [size, size]), 0),\n",
    "               cmap='jet')\n",
    "    plt.colorbar()\n",
    "    plt.axis('off')\n",
    "\n",
    "    plt.subplot(4, 3, 3 * i + 3)\n",
    "    #im = predictions[i, dim * N_points:]\n",
    "    plt.imshow(np.flip(np.reshape(PI_test[-i], [PI_size, PI_size]), 0),\n",
    "               vmin=0,\n",
    "               vmax=1,\n",
    "               cmap='jet')\n",
    "    plt.colorbar()\n",
    "    plt.axis('off')\n",
    "\n",
    "#plt.savefig(\"Résultats/VAE_full_1_true.pdf\")"
   ]
  },
  {
   "cell_type": "markdown",
   "id": "8b7612ae",
   "metadata": {},
   "source": [
    "We save our model."
   ]
  },
  {
   "cell_type": "code",
   "execution_count": 77,
   "id": "df409411",
   "metadata": {
    "scrolled": false
   },
   "outputs": [
    {
     "name": "stderr",
     "output_type": "stream",
     "text": [
      "2021-07-12 16:49:49.001784: W tensorflow/python/util/util.cc:348] Sets are not currently considered sequences, but this may change in the future, so consider avoiding using them.\n",
      "WARNING:absl:Found untraced functions such as dense_132_layer_call_and_return_conditional_losses, dense_132_layer_call_fn, dense_133_layer_call_and_return_conditional_losses, dense_133_layer_call_fn, dense_134_layer_call_and_return_conditional_losses while saving (showing 5 of 60). These functions will not be directly callable after loading.\n"
     ]
    },
    {
     "name": "stdout",
     "output_type": "stream",
     "text": [
      "INFO:tensorflow:Assets written to: Saved_Model/VAE_full_2/assets\n"
     ]
    },
    {
     "name": "stderr",
     "output_type": "stream",
     "text": [
      "INFO:tensorflow:Assets written to: Saved_Model/VAE_full_2/assets\n"
     ]
    }
   ],
   "source": [
    "vae.save('Saved_Model/VAE_full_2')"
   ]
  }
 ],
 "metadata": {
  "kernelspec": {
   "display_name": "Python 3 (ipykernel)",
   "language": "python",
   "name": "python3"
  },
  "language_info": {
   "codemirror_mode": {
    "name": "ipython",
    "version": 3
   },
   "file_extension": ".py",
   "mimetype": "text/x-python",
   "name": "python",
   "nbconvert_exporter": "python",
   "pygments_lexer": "ipython3",
   "version": "3.8.10"
  }
 },
 "nbformat": 4,
 "nbformat_minor": 5
}
