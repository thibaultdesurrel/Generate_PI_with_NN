{
 "cells": [
  {
   "cell_type": "markdown",
   "id": "87e76a08",
   "metadata": {},
   "source": [
    "# Training of the NN for multiple circles"
   ]
  },
  {
   "cell_type": "markdown",
   "id": "62d267dc",
   "metadata": {},
   "source": [
    "This notebook is the definition and the training of the NN that predicts PI for the multiple circles dataset"
   ]
  },
  {
   "cell_type": "code",
   "execution_count": 1,
   "id": "edd65fd7",
   "metadata": {},
   "outputs": [],
   "source": [
    "import matplotlib.pyplot as plt\n",
    "import numpy as np\n",
    "\n",
    "import tensorflow as tf\n",
    "from IPython.display import SVG\n",
    "\n",
    "import gudhi as gd\n",
    "import gudhi.representations\n",
    "\n",
    "from tqdm import tqdm\n",
    "import os"
   ]
  },
  {
   "cell_type": "markdown",
   "id": "8b5b74f0",
   "metadata": {},
   "source": [
    "### Load the data"
   ]
  },
  {
   "cell_type": "code",
   "execution_count": 2,
   "id": "136617d9",
   "metadata": {},
   "outputs": [],
   "source": [
    "data = np.load('data/PI_data_multiple_circle.npz')\n",
    "#data = np.load('data/PI_data_5000_dynamical.npz')\n",
    "\n",
    "data_train = data[\"data_train\"]\n",
    "PI_train = data[\"PI_train\"]\n",
    "data_test = data[\"data_test\"]\n",
    "PI_test = data[\"PI_test\"]"
   ]
  },
  {
   "cell_type": "code",
   "execution_count": 3,
   "id": "4ebe6050",
   "metadata": {},
   "outputs": [],
   "source": [
    "N_sets_train = data_train.shape[0]\n",
    "N_sets_test = data_test.shape[0]\n",
    "N_points = data_train.shape[1]\n",
    "PI_size = int(np.sqrt(PI_train.shape[1]))\n",
    "dim = 2"
   ]
  },
  {
   "cell_type": "code",
   "execution_count": 4,
   "id": "97654626",
   "metadata": {},
   "outputs": [
    {
     "name": "stdout",
     "output_type": "stream",
     "text": [
      "N_sets_train :  9999\n",
      "N_sets_test :  999\n",
      "N_points :  600\n",
      "PI_size :  50\n"
     ]
    }
   ],
   "source": [
    "print(\"N_sets_train : \", N_sets_train)\n",
    "print(\"N_sets_test : \", N_sets_test)\n",
    "print(\"N_points : \", N_points)\n",
    "print(\"PI_size : \", PI_size)"
   ]
  },
  {
   "cell_type": "markdown",
   "id": "cab64b5e",
   "metadata": {},
   "source": [
    "We normalize the PIs"
   ]
  },
  {
   "cell_type": "code",
   "execution_count": 5,
   "id": "2fd51477",
   "metadata": {},
   "outputs": [],
   "source": [
    "PI_train /= max(np.max(PI_train), np.max(PI_test))\n",
    "PI_test /= max(np.max(PI_train), np.max(PI_test))"
   ]
  },
  {
   "cell_type": "markdown",
   "id": "8c07647a",
   "metadata": {},
   "source": [
    "### Definiton of the NN"
   ]
  },
  {
   "cell_type": "code",
   "execution_count": 6,
   "id": "57932e4a",
   "metadata": {},
   "outputs": [],
   "source": [
    "class FullyConnected2(tf.keras.layers.Layer):\n",
    "    def __init__(self, N_input, N_output):\n",
    "        super(FullyConnected2, self).__init__()\n",
    "        self.gamma = self.add_weight(name='gamma',\n",
    "                                     shape=(N_input, N_output),\n",
    "                                     initializer=\"random_normal\",\n",
    "                                     trainable=True)\n",
    "\n",
    "    def call(self, inputs):\n",
    "        return tf.einsum(\"ijk,kl->ijl\", inputs, self.gamma)"
   ]
  },
  {
   "cell_type": "code",
   "execution_count": 7,
   "id": "e6406ec5",
   "metadata": {},
   "outputs": [],
   "source": [
    "#V2\n",
    "\n",
    "inputs = tf.keras.Input(shape=(N_points, dim))\n",
    "\n",
    "#x = tf.keras.layers.Dense(30, activation='relu')(inputs)\n",
    "\n",
    "FC_layer_2_30 = FullyConnected2(2, 30)\n",
    "x = FC_layer_2_30(inputs)\n",
    "x = tf.keras.activations.relu(x)\n",
    "\n",
    "#x = tf.keras.layers.Dense(35, activation='relu')(x)\n",
    "\n",
    "\n",
    "x = tf.keras.layers.Dense(20, activation='relu')(x)\n",
    "#FC_layer_30_20 = FullyConnected2(30, 20)\n",
    "#x = FC_layer_30_20(x)\n",
    "#x = tf.keras.activations.relu(x)\n",
    "\n",
    "x = tf.keras.layers.Dense(10, activation='relu')(x)\n",
    "#FC_layer_20_10 = FullyConnected2(20, 10)\n",
    "#x = FC_layer_20_10(x)\n",
    "#x = tf.keras.activations.relu(x)\n",
    "\n",
    "Adder = tf.keras.layers.Lambda(lambda x: tf.math.reduce_min(x, axis=1),\n",
    "                               output_shape=(lambda shape:\n",
    "                                             (shape[0], shape[2])))\n",
    "x = Adder(x)\n",
    "#x = tf.keras.activations.relu(x)\n",
    "\n",
    "#x = tf.keras.layers.Dense(25, activation='relu')(x)\n",
    "\n",
    "x = tf.keras.layers.Dense(50, activation='relu')(x)\n",
    "\n",
    "x = tf.keras.layers.Dense(100, activation='relu')(x)\n",
    "\n",
    "x = tf.keras.layers.Dense(200, activation='relu')(x)\n",
    "\n",
    "outputs = tf.keras.layers.Dense(PI_size * PI_size, activation='sigmoid')(x)\n",
    "model = tf.keras.Model(inputs=inputs, outputs=outputs)\n",
    "adam = tf.keras.optimizers.Adamax(\n",
    "    learning_rate=5e-3)  #5e-3 learning_rate optimal d'après moi\n",
    "model.compile(optimizer=adam, loss=\"mse\")  #contrastive_loss"
   ]
  },
  {
   "cell_type": "code",
   "execution_count": 8,
   "id": "6b246a35",
   "metadata": {},
   "outputs": [
    {
     "name": "stdout",
     "output_type": "stream",
     "text": [
      "Model: \"model\"\n",
      "_________________________________________________________________\n",
      "Layer (type)                 Output Shape              Param #   \n",
      "=================================================================\n",
      "input_1 (InputLayer)         [(None, 600, 2)]          0         \n",
      "_________________________________________________________________\n",
      "fully_connected2 (FullyConne (None, 600, 30)           60        \n",
      "_________________________________________________________________\n",
      "tf.nn.relu (TFOpLambda)      (None, 600, 30)           0         \n",
      "_________________________________________________________________\n",
      "dense (Dense)                (None, 600, 20)           620       \n",
      "_________________________________________________________________\n",
      "dense_1 (Dense)              (None, 600, 10)           210       \n",
      "_________________________________________________________________\n",
      "lambda (Lambda)              (None, 10)                0         \n",
      "_________________________________________________________________\n",
      "dense_2 (Dense)              (None, 50)                550       \n",
      "_________________________________________________________________\n",
      "dense_3 (Dense)              (None, 100)               5100      \n",
      "_________________________________________________________________\n",
      "dense_4 (Dense)              (None, 200)               20200     \n",
      "_________________________________________________________________\n",
      "dense_5 (Dense)              (None, 2500)              502500    \n",
      "=================================================================\n",
      "Total params: 529,240\n",
      "Trainable params: 529,240\n",
      "Non-trainable params: 0\n",
      "_________________________________________________________________\n"
     ]
    },
    {
     "data": {
      "image/svg+xml": [
       "<svg xmlns=\"http://www.w3.org/2000/svg\" xmlns:xlink=\"http://www.w3.org/1999/xlink\" width=\"627pt\" height=\"1069pt\" viewBox=\"0.00 0.00 470.00 802.00\">\n",
       "<g id=\"graph0\" class=\"graph\" transform=\"scale(0.75 0.75) rotate(0) translate(4 798)\">\n",
       "<title>G</title>\n",
       "<polygon fill=\"white\" stroke=\"transparent\" points=\"-4,4 -4,-798 466,-798 466,4 -4,4\"/>\n",
       "<!-- 140208405569744 -->\n",
       "<g id=\"node1\" class=\"node\">\n",
       "<title>140208405569744</title>\n",
       "<polygon fill=\"none\" stroke=\"black\" points=\"53.5,-747.5 53.5,-793.5 408.5,-793.5 408.5,-747.5 53.5,-747.5\"/>\n",
       "<text text-anchor=\"middle\" x=\"132.5\" y=\"-766.8\" font-family=\"Times,serif\" font-size=\"14.00\">input_1: InputLayer</text>\n",
       "<polyline fill=\"none\" stroke=\"black\" points=\"211.5,-747.5 211.5,-793.5 \"/>\n",
       "<text text-anchor=\"middle\" x=\"245.5\" y=\"-778.3\" font-family=\"Times,serif\" font-size=\"14.00\">input:</text>\n",
       "<polyline fill=\"none\" stroke=\"black\" points=\"211.5,-770.5 279.5,-770.5 \"/>\n",
       "<text text-anchor=\"middle\" x=\"245.5\" y=\"-755.3\" font-family=\"Times,serif\" font-size=\"14.00\">output:</text>\n",
       "<polyline fill=\"none\" stroke=\"black\" points=\"279.5,-747.5 279.5,-793.5 \"/>\n",
       "<text text-anchor=\"middle\" x=\"344\" y=\"-778.3\" font-family=\"Times,serif\" font-size=\"14.00\">[(None, 600, 2)]</text>\n",
       "<polyline fill=\"none\" stroke=\"black\" points=\"279.5,-770.5 408.5,-770.5 \"/>\n",
       "<text text-anchor=\"middle\" x=\"344\" y=\"-755.3\" font-family=\"Times,serif\" font-size=\"14.00\">[(None, 600, 2)]</text>\n",
       "</g>\n",
       "<!-- 140208405569648 -->\n",
       "<g id=\"node2\" class=\"node\">\n",
       "<title>140208405569648</title>\n",
       "<polygon fill=\"none\" stroke=\"black\" points=\"0,-664.5 0,-710.5 462,-710.5 462,-664.5 0,-664.5\"/>\n",
       "<text text-anchor=\"middle\" x=\"133\" y=\"-683.8\" font-family=\"Times,serif\" font-size=\"14.00\">fully_connected2: FullyConnected2</text>\n",
       "<polyline fill=\"none\" stroke=\"black\" points=\"266,-664.5 266,-710.5 \"/>\n",
       "<text text-anchor=\"middle\" x=\"300\" y=\"-695.3\" font-family=\"Times,serif\" font-size=\"14.00\">input:</text>\n",
       "<polyline fill=\"none\" stroke=\"black\" points=\"266,-687.5 334,-687.5 \"/>\n",
       "<text text-anchor=\"middle\" x=\"300\" y=\"-672.3\" font-family=\"Times,serif\" font-size=\"14.00\">output:</text>\n",
       "<polyline fill=\"none\" stroke=\"black\" points=\"334,-664.5 334,-710.5 \"/>\n",
       "<text text-anchor=\"middle\" x=\"398\" y=\"-695.3\" font-family=\"Times,serif\" font-size=\"14.00\">(None, 600, 2)</text>\n",
       "<polyline fill=\"none\" stroke=\"black\" points=\"334,-687.5 462,-687.5 \"/>\n",
       "<text text-anchor=\"middle\" x=\"398\" y=\"-672.3\" font-family=\"Times,serif\" font-size=\"14.00\">(None, 600, 30)</text>\n",
       "</g>\n",
       "<!-- 140208405569744&#45;&gt;140208405569648 -->\n",
       "<g id=\"edge1\" class=\"edge\">\n",
       "<title>140208405569744-&gt;140208405569648</title>\n",
       "<path fill=\"none\" stroke=\"black\" d=\"M231,-747.37C231,-739.15 231,-729.66 231,-720.73\"/>\n",
       "<polygon fill=\"black\" stroke=\"black\" points=\"234.5,-720.61 231,-710.61 227.5,-720.61 234.5,-720.61\"/>\n",
       "</g>\n",
       "<!-- 140208079779008 -->\n",
       "<g id=\"node3\" class=\"node\">\n",
       "<title>140208079779008</title>\n",
       "<polygon fill=\"none\" stroke=\"black\" points=\"39,-581.5 39,-627.5 423,-627.5 423,-581.5 39,-581.5\"/>\n",
       "<text text-anchor=\"middle\" x=\"133\" y=\"-600.8\" font-family=\"Times,serif\" font-size=\"14.00\">tf.nn.relu: TFOpLambda</text>\n",
       "<polyline fill=\"none\" stroke=\"black\" points=\"227,-581.5 227,-627.5 \"/>\n",
       "<text text-anchor=\"middle\" x=\"261\" y=\"-612.3\" font-family=\"Times,serif\" font-size=\"14.00\">input:</text>\n",
       "<polyline fill=\"none\" stroke=\"black\" points=\"227,-604.5 295,-604.5 \"/>\n",
       "<text text-anchor=\"middle\" x=\"261\" y=\"-589.3\" font-family=\"Times,serif\" font-size=\"14.00\">output:</text>\n",
       "<polyline fill=\"none\" stroke=\"black\" points=\"295,-581.5 295,-627.5 \"/>\n",
       "<text text-anchor=\"middle\" x=\"359\" y=\"-612.3\" font-family=\"Times,serif\" font-size=\"14.00\">(None, 600, 30)</text>\n",
       "<polyline fill=\"none\" stroke=\"black\" points=\"295,-604.5 423,-604.5 \"/>\n",
       "<text text-anchor=\"middle\" x=\"359\" y=\"-589.3\" font-family=\"Times,serif\" font-size=\"14.00\">(None, 600, 30)</text>\n",
       "</g>\n",
       "<!-- 140208405569648&#45;&gt;140208079779008 -->\n",
       "<g id=\"edge2\" class=\"edge\">\n",
       "<title>140208405569648-&gt;140208079779008</title>\n",
       "<path fill=\"none\" stroke=\"black\" d=\"M231,-664.37C231,-656.15 231,-646.66 231,-637.73\"/>\n",
       "<polygon fill=\"black\" stroke=\"black\" points=\"234.5,-637.61 231,-627.61 227.5,-637.61 234.5,-637.61\"/>\n",
       "</g>\n",
       "<!-- 140208079778336 -->\n",
       "<g id=\"node4\" class=\"node\">\n",
       "<title>140208079778336</title>\n",
       "<polygon fill=\"none\" stroke=\"black\" points=\"77,-498.5 77,-544.5 385,-544.5 385,-498.5 77,-498.5\"/>\n",
       "<text text-anchor=\"middle\" x=\"133\" y=\"-517.8\" font-family=\"Times,serif\" font-size=\"14.00\">dense: Dense</text>\n",
       "<polyline fill=\"none\" stroke=\"black\" points=\"189,-498.5 189,-544.5 \"/>\n",
       "<text text-anchor=\"middle\" x=\"223\" y=\"-529.3\" font-family=\"Times,serif\" font-size=\"14.00\">input:</text>\n",
       "<polyline fill=\"none\" stroke=\"black\" points=\"189,-521.5 257,-521.5 \"/>\n",
       "<text text-anchor=\"middle\" x=\"223\" y=\"-506.3\" font-family=\"Times,serif\" font-size=\"14.00\">output:</text>\n",
       "<polyline fill=\"none\" stroke=\"black\" points=\"257,-498.5 257,-544.5 \"/>\n",
       "<text text-anchor=\"middle\" x=\"321\" y=\"-529.3\" font-family=\"Times,serif\" font-size=\"14.00\">(None, 600, 30)</text>\n",
       "<polyline fill=\"none\" stroke=\"black\" points=\"257,-521.5 385,-521.5 \"/>\n",
       "<text text-anchor=\"middle\" x=\"321\" y=\"-506.3\" font-family=\"Times,serif\" font-size=\"14.00\">(None, 600, 20)</text>\n",
       "</g>\n",
       "<!-- 140208079779008&#45;&gt;140208079778336 -->\n",
       "<g id=\"edge3\" class=\"edge\">\n",
       "<title>140208079779008-&gt;140208079778336</title>\n",
       "<path fill=\"none\" stroke=\"black\" d=\"M231,-581.37C231,-573.15 231,-563.66 231,-554.73\"/>\n",
       "<polygon fill=\"black\" stroke=\"black\" points=\"234.5,-554.61 231,-544.61 227.5,-554.61 234.5,-554.61\"/>\n",
       "</g>\n",
       "<!-- 140208079778240 -->\n",
       "<g id=\"node5\" class=\"node\">\n",
       "<title>140208079778240</title>\n",
       "<polygon fill=\"none\" stroke=\"black\" points=\"69,-415.5 69,-461.5 393,-461.5 393,-415.5 69,-415.5\"/>\n",
       "<text text-anchor=\"middle\" x=\"133\" y=\"-434.8\" font-family=\"Times,serif\" font-size=\"14.00\">dense_1: Dense</text>\n",
       "<polyline fill=\"none\" stroke=\"black\" points=\"197,-415.5 197,-461.5 \"/>\n",
       "<text text-anchor=\"middle\" x=\"231\" y=\"-446.3\" font-family=\"Times,serif\" font-size=\"14.00\">input:</text>\n",
       "<polyline fill=\"none\" stroke=\"black\" points=\"197,-438.5 265,-438.5 \"/>\n",
       "<text text-anchor=\"middle\" x=\"231\" y=\"-423.3\" font-family=\"Times,serif\" font-size=\"14.00\">output:</text>\n",
       "<polyline fill=\"none\" stroke=\"black\" points=\"265,-415.5 265,-461.5 \"/>\n",
       "<text text-anchor=\"middle\" x=\"329\" y=\"-446.3\" font-family=\"Times,serif\" font-size=\"14.00\">(None, 600, 20)</text>\n",
       "<polyline fill=\"none\" stroke=\"black\" points=\"265,-438.5 393,-438.5 \"/>\n",
       "<text text-anchor=\"middle\" x=\"329\" y=\"-423.3\" font-family=\"Times,serif\" font-size=\"14.00\">(None, 600, 10)</text>\n",
       "</g>\n",
       "<!-- 140208079778336&#45;&gt;140208079778240 -->\n",
       "<g id=\"edge4\" class=\"edge\">\n",
       "<title>140208079778336-&gt;140208079778240</title>\n",
       "<path fill=\"none\" stroke=\"black\" d=\"M231,-498.37C231,-490.15 231,-480.66 231,-471.73\"/>\n",
       "<polygon fill=\"black\" stroke=\"black\" points=\"234.5,-471.61 231,-461.61 227.5,-471.61 234.5,-471.61\"/>\n",
       "</g>\n",
       "<!-- 140208070777152 -->\n",
       "<g id=\"node6\" class=\"node\">\n",
       "<title>140208070777152</title>\n",
       "<polygon fill=\"none\" stroke=\"black\" points=\"65.5,-332.5 65.5,-378.5 396.5,-378.5 396.5,-332.5 65.5,-332.5\"/>\n",
       "<text text-anchor=\"middle\" x=\"133\" y=\"-351.8\" font-family=\"Times,serif\" font-size=\"14.00\">lambda: Lambda</text>\n",
       "<polyline fill=\"none\" stroke=\"black\" points=\"200.5,-332.5 200.5,-378.5 \"/>\n",
       "<text text-anchor=\"middle\" x=\"234.5\" y=\"-363.3\" font-family=\"Times,serif\" font-size=\"14.00\">input:</text>\n",
       "<polyline fill=\"none\" stroke=\"black\" points=\"200.5,-355.5 268.5,-355.5 \"/>\n",
       "<text text-anchor=\"middle\" x=\"234.5\" y=\"-340.3\" font-family=\"Times,serif\" font-size=\"14.00\">output:</text>\n",
       "<polyline fill=\"none\" stroke=\"black\" points=\"268.5,-332.5 268.5,-378.5 \"/>\n",
       "<text text-anchor=\"middle\" x=\"332.5\" y=\"-363.3\" font-family=\"Times,serif\" font-size=\"14.00\">(None, 600, 10)</text>\n",
       "<polyline fill=\"none\" stroke=\"black\" points=\"268.5,-355.5 396.5,-355.5 \"/>\n",
       "<text text-anchor=\"middle\" x=\"332.5\" y=\"-340.3\" font-family=\"Times,serif\" font-size=\"14.00\">(None, 10)</text>\n",
       "</g>\n",
       "<!-- 140208079778240&#45;&gt;140208070777152 -->\n",
       "<g id=\"edge5\" class=\"edge\">\n",
       "<title>140208079778240-&gt;140208070777152</title>\n",
       "<path fill=\"none\" stroke=\"black\" d=\"M231,-415.37C231,-407.15 231,-397.66 231,-388.73\"/>\n",
       "<polygon fill=\"black\" stroke=\"black\" points=\"234.5,-388.61 231,-378.61 227.5,-388.61 234.5,-388.61\"/>\n",
       "</g>\n",
       "<!-- 140208070466480 -->\n",
       "<g id=\"node7\" class=\"node\">\n",
       "<title>140208070466480</title>\n",
       "<polygon fill=\"none\" stroke=\"black\" points=\"87,-249.5 87,-295.5 375,-295.5 375,-249.5 87,-249.5\"/>\n",
       "<text text-anchor=\"middle\" x=\"151\" y=\"-268.8\" font-family=\"Times,serif\" font-size=\"14.00\">dense_2: Dense</text>\n",
       "<polyline fill=\"none\" stroke=\"black\" points=\"215,-249.5 215,-295.5 \"/>\n",
       "<text text-anchor=\"middle\" x=\"249\" y=\"-280.3\" font-family=\"Times,serif\" font-size=\"14.00\">input:</text>\n",
       "<polyline fill=\"none\" stroke=\"black\" points=\"215,-272.5 283,-272.5 \"/>\n",
       "<text text-anchor=\"middle\" x=\"249\" y=\"-257.3\" font-family=\"Times,serif\" font-size=\"14.00\">output:</text>\n",
       "<polyline fill=\"none\" stroke=\"black\" points=\"283,-249.5 283,-295.5 \"/>\n",
       "<text text-anchor=\"middle\" x=\"329\" y=\"-280.3\" font-family=\"Times,serif\" font-size=\"14.00\">(None, 10)</text>\n",
       "<polyline fill=\"none\" stroke=\"black\" points=\"283,-272.5 375,-272.5 \"/>\n",
       "<text text-anchor=\"middle\" x=\"329\" y=\"-257.3\" font-family=\"Times,serif\" font-size=\"14.00\">(None, 50)</text>\n",
       "</g>\n",
       "<!-- 140208070777152&#45;&gt;140208070466480 -->\n",
       "<g id=\"edge6\" class=\"edge\">\n",
       "<title>140208070777152-&gt;140208070466480</title>\n",
       "<path fill=\"none\" stroke=\"black\" d=\"M231,-332.37C231,-324.15 231,-314.66 231,-305.73\"/>\n",
       "<polygon fill=\"black\" stroke=\"black\" points=\"234.5,-305.61 231,-295.61 227.5,-305.61 234.5,-305.61\"/>\n",
       "</g>\n",
       "<!-- 140208070510432 -->\n",
       "<g id=\"node8\" class=\"node\">\n",
       "<title>140208070510432</title>\n",
       "<polygon fill=\"none\" stroke=\"black\" points=\"82.5,-166.5 82.5,-212.5 379.5,-212.5 379.5,-166.5 82.5,-166.5\"/>\n",
       "<text text-anchor=\"middle\" x=\"146.5\" y=\"-185.8\" font-family=\"Times,serif\" font-size=\"14.00\">dense_3: Dense</text>\n",
       "<polyline fill=\"none\" stroke=\"black\" points=\"210.5,-166.5 210.5,-212.5 \"/>\n",
       "<text text-anchor=\"middle\" x=\"244.5\" y=\"-197.3\" font-family=\"Times,serif\" font-size=\"14.00\">input:</text>\n",
       "<polyline fill=\"none\" stroke=\"black\" points=\"210.5,-189.5 278.5,-189.5 \"/>\n",
       "<text text-anchor=\"middle\" x=\"244.5\" y=\"-174.3\" font-family=\"Times,serif\" font-size=\"14.00\">output:</text>\n",
       "<polyline fill=\"none\" stroke=\"black\" points=\"278.5,-166.5 278.5,-212.5 \"/>\n",
       "<text text-anchor=\"middle\" x=\"329\" y=\"-197.3\" font-family=\"Times,serif\" font-size=\"14.00\">(None, 50)</text>\n",
       "<polyline fill=\"none\" stroke=\"black\" points=\"278.5,-189.5 379.5,-189.5 \"/>\n",
       "<text text-anchor=\"middle\" x=\"329\" y=\"-174.3\" font-family=\"Times,serif\" font-size=\"14.00\">(None, 100)</text>\n",
       "</g>\n",
       "<!-- 140208070466480&#45;&gt;140208070510432 -->\n",
       "<g id=\"edge7\" class=\"edge\">\n",
       "<title>140208070466480-&gt;140208070510432</title>\n",
       "<path fill=\"none\" stroke=\"black\" d=\"M231,-249.37C231,-241.15 231,-231.66 231,-222.73\"/>\n",
       "<polygon fill=\"black\" stroke=\"black\" points=\"234.5,-222.61 231,-212.61 227.5,-222.61 234.5,-222.61\"/>\n",
       "</g>\n",
       "<!-- 140208070511488 -->\n",
       "<g id=\"node9\" class=\"node\">\n",
       "<title>140208070511488</title>\n",
       "<polygon fill=\"none\" stroke=\"black\" points=\"82.5,-83.5 82.5,-129.5 379.5,-129.5 379.5,-83.5 82.5,-83.5\"/>\n",
       "<text text-anchor=\"middle\" x=\"146.5\" y=\"-102.8\" font-family=\"Times,serif\" font-size=\"14.00\">dense_4: Dense</text>\n",
       "<polyline fill=\"none\" stroke=\"black\" points=\"210.5,-83.5 210.5,-129.5 \"/>\n",
       "<text text-anchor=\"middle\" x=\"244.5\" y=\"-114.3\" font-family=\"Times,serif\" font-size=\"14.00\">input:</text>\n",
       "<polyline fill=\"none\" stroke=\"black\" points=\"210.5,-106.5 278.5,-106.5 \"/>\n",
       "<text text-anchor=\"middle\" x=\"244.5\" y=\"-91.3\" font-family=\"Times,serif\" font-size=\"14.00\">output:</text>\n",
       "<polyline fill=\"none\" stroke=\"black\" points=\"278.5,-83.5 278.5,-129.5 \"/>\n",
       "<text text-anchor=\"middle\" x=\"329\" y=\"-114.3\" font-family=\"Times,serif\" font-size=\"14.00\">(None, 100)</text>\n",
       "<polyline fill=\"none\" stroke=\"black\" points=\"278.5,-106.5 379.5,-106.5 \"/>\n",
       "<text text-anchor=\"middle\" x=\"329\" y=\"-91.3\" font-family=\"Times,serif\" font-size=\"14.00\">(None, 200)</text>\n",
       "</g>\n",
       "<!-- 140208070510432&#45;&gt;140208070511488 -->\n",
       "<g id=\"edge8\" class=\"edge\">\n",
       "<title>140208070510432-&gt;140208070511488</title>\n",
       "<path fill=\"none\" stroke=\"black\" d=\"M231,-166.37C231,-158.15 231,-148.66 231,-139.73\"/>\n",
       "<polygon fill=\"black\" stroke=\"black\" points=\"234.5,-139.61 231,-129.61 227.5,-139.61 234.5,-139.61\"/>\n",
       "</g>\n",
       "<!-- 140208070795904 -->\n",
       "<g id=\"node10\" class=\"node\">\n",
       "<title>140208070795904</title>\n",
       "<polygon fill=\"none\" stroke=\"black\" points=\"78,-0.5 78,-46.5 384,-46.5 384,-0.5 78,-0.5\"/>\n",
       "<text text-anchor=\"middle\" x=\"142\" y=\"-19.8\" font-family=\"Times,serif\" font-size=\"14.00\">dense_5: Dense</text>\n",
       "<polyline fill=\"none\" stroke=\"black\" points=\"206,-0.5 206,-46.5 \"/>\n",
       "<text text-anchor=\"middle\" x=\"240\" y=\"-31.3\" font-family=\"Times,serif\" font-size=\"14.00\">input:</text>\n",
       "<polyline fill=\"none\" stroke=\"black\" points=\"206,-23.5 274,-23.5 \"/>\n",
       "<text text-anchor=\"middle\" x=\"240\" y=\"-8.3\" font-family=\"Times,serif\" font-size=\"14.00\">output:</text>\n",
       "<polyline fill=\"none\" stroke=\"black\" points=\"274,-0.5 274,-46.5 \"/>\n",
       "<text text-anchor=\"middle\" x=\"329\" y=\"-31.3\" font-family=\"Times,serif\" font-size=\"14.00\">(None, 200)</text>\n",
       "<polyline fill=\"none\" stroke=\"black\" points=\"274,-23.5 384,-23.5 \"/>\n",
       "<text text-anchor=\"middle\" x=\"329\" y=\"-8.3\" font-family=\"Times,serif\" font-size=\"14.00\">(None, 2500)</text>\n",
       "</g>\n",
       "<!-- 140208070511488&#45;&gt;140208070795904 -->\n",
       "<g id=\"edge9\" class=\"edge\">\n",
       "<title>140208070511488-&gt;140208070795904</title>\n",
       "<path fill=\"none\" stroke=\"black\" d=\"M231,-83.37C231,-75.15 231,-65.66 231,-56.73\"/>\n",
       "<polygon fill=\"black\" stroke=\"black\" points=\"234.5,-56.61 231,-46.61 227.5,-56.61 234.5,-56.61\"/>\n",
       "</g>\n",
       "</g>\n",
       "</svg>"
      ],
      "text/plain": [
       "<IPython.core.display.SVG object>"
      ]
     },
     "execution_count": 8,
     "metadata": {},
     "output_type": "execute_result"
    }
   ],
   "source": [
    "model.summary()\n",
    "\n",
    "SVG(\n",
    "    tf.keras.utils.model_to_dot(model, show_shapes=True).create(prog='dot',\n",
    "                                                                format='svg'))\n",
    "                                                         \n",
    "#tf.keras.utils.plot_model(model,\n",
    "#                          to_file='Résultats/Résultats 2/model_multiple_circles.pdf',\n",
    "#                          show_shapes=True)"
   ]
  },
  {
   "cell_type": "markdown",
   "id": "a757a649",
   "metadata": {},
   "source": [
    "### Training the model "
   ]
  },
  {
   "cell_type": "code",
   "execution_count": 9,
   "id": "08460984",
   "metadata": {
    "scrolled": true
   },
   "outputs": [
    {
     "name": "stdout",
     "output_type": "stream",
     "text": [
      "Epoch 1/100\n",
      "313/313 [==============================] - 4s 10ms/step - loss: 0.0128 - val_loss: 0.0055\n",
      "Epoch 2/100\n",
      "313/313 [==============================] - 3s 9ms/step - loss: 0.0051 - val_loss: 0.0049\n",
      "Epoch 3/100\n",
      "313/313 [==============================] - 3s 9ms/step - loss: 0.0045 - val_loss: 0.0042\n",
      "Epoch 4/100\n",
      "313/313 [==============================] - 3s 9ms/step - loss: 0.0039 - val_loss: 0.0034\n",
      "Epoch 5/100\n",
      "313/313 [==============================] - 3s 9ms/step - loss: 0.0030 - val_loss: 0.0028\n",
      "Epoch 6/100\n",
      "313/313 [==============================] - 3s 9ms/step - loss: 0.0027 - val_loss: 0.0026\n",
      "Epoch 7/100\n",
      "313/313 [==============================] - 3s 9ms/step - loss: 0.0025 - val_loss: 0.0024\n",
      "Epoch 8/100\n",
      "313/313 [==============================] - 3s 9ms/step - loss: 0.0025 - val_loss: 0.0025\n",
      "Epoch 9/100\n",
      "313/313 [==============================] - 3s 9ms/step - loss: 0.0024 - val_loss: 0.0024\n",
      "Epoch 10/100\n",
      "313/313 [==============================] - 3s 9ms/step - loss: 0.0024 - val_loss: 0.0024\n",
      "Epoch 11/100\n",
      "313/313 [==============================] - 3s 9ms/step - loss: 0.0024 - val_loss: 0.0024\n",
      "Epoch 12/100\n",
      "313/313 [==============================] - 3s 9ms/step - loss: 0.0024 - val_loss: 0.0024\n",
      "Epoch 13/100\n",
      "313/313 [==============================] - 3s 9ms/step - loss: 0.0023 - val_loss: 0.0023\n",
      "Epoch 14/100\n",
      "313/313 [==============================] - 3s 9ms/step - loss: 0.0023 - val_loss: 0.0023\n",
      "Epoch 15/100\n",
      "313/313 [==============================] - 3s 9ms/step - loss: 0.0023 - val_loss: 0.0023\n",
      "Epoch 16/100\n",
      "313/313 [==============================] - 3s 9ms/step - loss: 0.0022 - val_loss: 0.0022\n",
      "Epoch 17/100\n",
      "313/313 [==============================] - 3s 9ms/step - loss: 0.0022 - val_loss: 0.0021\n",
      "Epoch 18/100\n",
      "313/313 [==============================] - 3s 9ms/step - loss: 0.0021 - val_loss: 0.0021\n",
      "Epoch 19/100\n",
      "313/313 [==============================] - 3s 9ms/step - loss: 0.0021 - val_loss: 0.0021\n",
      "Epoch 20/100\n",
      "313/313 [==============================] - 3s 9ms/step - loss: 0.0021 - val_loss: 0.0021\n",
      "Epoch 21/100\n",
      "313/313 [==============================] - 3s 9ms/step - loss: 0.0020 - val_loss: 0.0020\n",
      "Epoch 22/100\n",
      "313/313 [==============================] - 3s 9ms/step - loss: 0.0020 - val_loss: 0.0020\n",
      "Epoch 23/100\n",
      "313/313 [==============================] - 3s 9ms/step - loss: 0.0020 - val_loss: 0.0021\n",
      "Epoch 24/100\n",
      "313/313 [==============================] - 3s 9ms/step - loss: 0.0020 - val_loss: 0.0020\n",
      "Epoch 25/100\n",
      "313/313 [==============================] - 3s 9ms/step - loss: 0.0019 - val_loss: 0.0019\n",
      "Epoch 26/100\n",
      "313/313 [==============================] - 3s 9ms/step - loss: 0.0019 - val_loss: 0.0019\n",
      "Epoch 27/100\n",
      "313/313 [==============================] - 3s 9ms/step - loss: 0.0019 - val_loss: 0.0019\n",
      "Epoch 28/100\n",
      "313/313 [==============================] - 3s 9ms/step - loss: 0.0019 - val_loss: 0.0019\n",
      "Epoch 29/100\n",
      "313/313 [==============================] - 3s 9ms/step - loss: 0.0019 - val_loss: 0.0019\n",
      "Epoch 30/100\n",
      "313/313 [==============================] - 3s 9ms/step - loss: 0.0019 - val_loss: 0.0019\n",
      "Epoch 31/100\n",
      "313/313 [==============================] - 3s 9ms/step - loss: 0.0019 - val_loss: 0.0019\n",
      "Epoch 32/100\n",
      "313/313 [==============================] - 3s 9ms/step - loss: 0.0019 - val_loss: 0.0019\n",
      "Epoch 33/100\n",
      "313/313 [==============================] - 3s 9ms/step - loss: 0.0019 - val_loss: 0.0018\n",
      "Epoch 34/100\n",
      "313/313 [==============================] - 3s 9ms/step - loss: 0.0018 - val_loss: 0.0018\n",
      "Epoch 35/100\n",
      "313/313 [==============================] - 3s 9ms/step - loss: 0.0018 - val_loss: 0.0018\n",
      "Epoch 36/100\n",
      "313/313 [==============================] - 3s 9ms/step - loss: 0.0018 - val_loss: 0.0018\n",
      "Epoch 37/100\n",
      "313/313 [==============================] - 3s 9ms/step - loss: 0.0018 - val_loss: 0.0018\n",
      "Epoch 38/100\n",
      "313/313 [==============================] - 3s 9ms/step - loss: 0.0018 - val_loss: 0.0018\n",
      "Epoch 39/100\n",
      "313/313 [==============================] - 3s 9ms/step - loss: 0.0018 - val_loss: 0.0018\n",
      "Epoch 40/100\n",
      "313/313 [==============================] - 3s 9ms/step - loss: 0.0018 - val_loss: 0.0017\n",
      "Epoch 41/100\n",
      "313/313 [==============================] - 3s 9ms/step - loss: 0.0018 - val_loss: 0.0018\n",
      "Epoch 42/100\n",
      "313/313 [==============================] - 3s 9ms/step - loss: 0.0018 - val_loss: 0.0018\n",
      "Epoch 43/100\n",
      "313/313 [==============================] - 3s 9ms/step - loss: 0.0018 - val_loss: 0.0017\n",
      "Epoch 44/100\n",
      "313/313 [==============================] - 3s 9ms/step - loss: 0.0018 - val_loss: 0.0018\n",
      "Epoch 45/100\n",
      "313/313 [==============================] - 3s 9ms/step - loss: 0.0018 - val_loss: 0.0020\n",
      "Epoch 46/100\n",
      "313/313 [==============================] - 3s 9ms/step - loss: 0.0018 - val_loss: 0.0017\n",
      "Epoch 47/100\n",
      "313/313 [==============================] - 3s 9ms/step - loss: 0.0017 - val_loss: 0.0018\n",
      "Epoch 48/100\n",
      "313/313 [==============================] - 3s 10ms/step - loss: 0.0018 - val_loss: 0.0018\n",
      "Epoch 49/100\n",
      "313/313 [==============================] - 3s 9ms/step - loss: 0.0017 - val_loss: 0.0017\n",
      "Epoch 50/100\n",
      "313/313 [==============================] - 3s 9ms/step - loss: 0.0017 - val_loss: 0.0018\n",
      "Epoch 51/100\n",
      "313/313 [==============================] - 3s 9ms/step - loss: 0.0017 - val_loss: 0.0017\n",
      "Epoch 52/100\n",
      "313/313 [==============================] - 3s 9ms/step - loss: 0.0017 - val_loss: 0.0019\n",
      "Epoch 53/100\n",
      "313/313 [==============================] - 3s 9ms/step - loss: 0.0017 - val_loss: 0.0017\n",
      "Epoch 54/100\n",
      "313/313 [==============================] - 3s 9ms/step - loss: 0.0017 - val_loss: 0.0017\n",
      "Epoch 55/100\n",
      "313/313 [==============================] - 3s 9ms/step - loss: 0.0017 - val_loss: 0.0017\n",
      "Epoch 56/100\n",
      "313/313 [==============================] - 3s 9ms/step - loss: 0.0017 - val_loss: 0.0017\n",
      "Epoch 57/100\n",
      "313/313 [==============================] - 3s 9ms/step - loss: 0.0017 - val_loss: 0.0017\n",
      "Epoch 58/100\n",
      "313/313 [==============================] - 3s 9ms/step - loss: 0.0017 - val_loss: 0.0018\n",
      "Epoch 59/100\n",
      "313/313 [==============================] - 3s 9ms/step - loss: 0.0017 - val_loss: 0.0018\n",
      "Epoch 60/100\n",
      "313/313 [==============================] - 3s 9ms/step - loss: 0.0017 - val_loss: 0.0017\n",
      "Epoch 61/100\n",
      "313/313 [==============================] - 3s 9ms/step - loss: 0.0017 - val_loss: 0.0017\n",
      "Epoch 62/100\n",
      "313/313 [==============================] - 3s 9ms/step - loss: 0.0017 - val_loss: 0.0017\n",
      "Epoch 63/100\n",
      "313/313 [==============================] - 3s 9ms/step - loss: 0.0017 - val_loss: 0.0017\n",
      "Epoch 64/100\n",
      "313/313 [==============================] - 3s 9ms/step - loss: 0.0017 - val_loss: 0.0017\n",
      "Epoch 65/100\n",
      "313/313 [==============================] - 3s 9ms/step - loss: 0.0017 - val_loss: 0.0017\n",
      "Epoch 66/100\n",
      "313/313 [==============================] - 3s 9ms/step - loss: 0.0017 - val_loss: 0.0017\n",
      "Epoch 67/100\n",
      "313/313 [==============================] - 3s 9ms/step - loss: 0.0017 - val_loss: 0.0018\n",
      "Epoch 68/100\n",
      "313/313 [==============================] - 3s 9ms/step - loss: 0.0017 - val_loss: 0.0017\n",
      "Epoch 69/100\n",
      "313/313 [==============================] - 3s 9ms/step - loss: 0.0017 - val_loss: 0.0017\n",
      "Epoch 70/100\n",
      "313/313 [==============================] - 3s 9ms/step - loss: 0.0017 - val_loss: 0.0017\n",
      "Epoch 71/100\n",
      "313/313 [==============================] - 3s 9ms/step - loss: 0.0016 - val_loss: 0.0017\n",
      "Epoch 72/100\n",
      "313/313 [==============================] - 3s 9ms/step - loss: 0.0016 - val_loss: 0.0016\n",
      "Epoch 73/100\n",
      "313/313 [==============================] - 3s 10ms/step - loss: 0.0016 - val_loss: 0.0017\n",
      "Epoch 74/100\n",
      "313/313 [==============================] - 3s 9ms/step - loss: 0.0016 - val_loss: 0.0016\n",
      "Epoch 75/100\n",
      "313/313 [==============================] - 3s 9ms/step - loss: 0.0016 - val_loss: 0.0016\n",
      "Epoch 76/100\n",
      "313/313 [==============================] - 3s 9ms/step - loss: 0.0016 - val_loss: 0.0017\n",
      "Epoch 77/100\n",
      "313/313 [==============================] - 3s 9ms/step - loss: 0.0016 - val_loss: 0.0017\n",
      "Epoch 78/100\n",
      "313/313 [==============================] - 3s 9ms/step - loss: 0.0016 - val_loss: 0.0018\n",
      "Epoch 79/100\n",
      "313/313 [==============================] - 3s 9ms/step - loss: 0.0016 - val_loss: 0.0016\n",
      "Epoch 80/100\n",
      "313/313 [==============================] - 3s 10ms/step - loss: 0.0016 - val_loss: 0.0017\n",
      "Epoch 81/100\n",
      "313/313 [==============================] - 3s 9ms/step - loss: 0.0016 - val_loss: 0.0017\n",
      "Epoch 82/100\n",
      "313/313 [==============================] - 3s 9ms/step - loss: 0.0016 - val_loss: 0.0016\n",
      "Epoch 83/100\n",
      "313/313 [==============================] - 3s 10ms/step - loss: 0.0016 - val_loss: 0.0018\n",
      "Epoch 84/100\n",
      "313/313 [==============================] - 3s 9ms/step - loss: 0.0016 - val_loss: 0.0016\n",
      "Epoch 85/100\n",
      "313/313 [==============================] - 3s 9ms/step - loss: 0.0016 - val_loss: 0.0016\n",
      "Epoch 86/100\n",
      "313/313 [==============================] - 3s 9ms/step - loss: 0.0016 - val_loss: 0.0016\n",
      "Epoch 87/100\n",
      "313/313 [==============================] - 3s 9ms/step - loss: 0.0016 - val_loss: 0.0017\n",
      "Epoch 88/100\n",
      "313/313 [==============================] - 3s 9ms/step - loss: 0.0016 - val_loss: 0.0016\n",
      "Epoch 89/100\n",
      "313/313 [==============================] - 3s 9ms/step - loss: 0.0016 - val_loss: 0.0018\n",
      "Epoch 90/100\n",
      "313/313 [==============================] - 3s 9ms/step - loss: 0.0016 - val_loss: 0.0018\n",
      "Epoch 91/100\n",
      "313/313 [==============================] - 3s 9ms/step - loss: 0.0016 - val_loss: 0.0016\n",
      "Epoch 92/100\n",
      "313/313 [==============================] - 3s 9ms/step - loss: 0.0016 - val_loss: 0.0016\n",
      "Epoch 93/100\n",
      "313/313 [==============================] - 3s 9ms/step - loss: 0.0016 - val_loss: 0.0017\n",
      "Epoch 94/100\n",
      "313/313 [==============================] - 3s 9ms/step - loss: 0.0016 - val_loss: 0.0016\n",
      "Epoch 95/100\n",
      "313/313 [==============================] - 3s 9ms/step - loss: 0.0016 - val_loss: 0.0016\n",
      "Epoch 96/100\n",
      "313/313 [==============================] - 3s 9ms/step - loss: 0.0016 - val_loss: 0.0016\n",
      "Epoch 97/100\n",
      "313/313 [==============================] - 3s 9ms/step - loss: 0.0016 - val_loss: 0.0017\n",
      "Epoch 98/100\n",
      "313/313 [==============================] - 3s 10ms/step - loss: 0.0016 - val_loss: 0.0016\n",
      "Epoch 99/100\n",
      "313/313 [==============================] - 3s 9ms/step - loss: 0.0016 - val_loss: 0.0016\n",
      "Epoch 100/100\n",
      "313/313 [==============================] - 3s 9ms/step - loss: 0.0016 - val_loss: 0.0017\n"
     ]
    }
   ],
   "source": [
    "history = model.fit(data_train,\n",
    "                    PI_train,\n",
    "                    epochs=100,\n",
    "                    validation_data=(data_test, PI_test))\n"
   ]
  },
  {
   "cell_type": "markdown",
   "id": "d4539b25",
   "metadata": {},
   "source": [
    "We can save the model"
   ]
  },
  {
   "cell_type": "code",
   "execution_count": 15,
   "id": "cc8060a3",
   "metadata": {
    "scrolled": true
   },
   "outputs": [
    {
     "name": "stdout",
     "output_type": "stream",
     "text": [
      "INFO:tensorflow:Assets written to: Saved_Model/model_2_multiple_cricles/assets\n"
     ]
    }
   ],
   "source": [
    "model.save('Saved_Model/model_2_multiple_cricles')"
   ]
  },
  {
   "cell_type": "markdown",
   "id": "48b184c0",
   "metadata": {},
   "source": [
    "### Study the results to see how the training went "
   ]
  },
  {
   "cell_type": "code",
   "execution_count": 10,
   "id": "69ec82ae",
   "metadata": {
    "scrolled": false
   },
   "outputs": [],
   "source": [
    "prediction = model.predict(data_test)"
   ]
  },
  {
   "cell_type": "code",
   "execution_count": 11,
   "id": "4d278a13",
   "metadata": {},
   "outputs": [
    {
     "data": {
      "image/png": "[encoded data removed]",
      "text/plain": [
       "<Figure size 432x288 with 18 Axes>"
      ]
     },
     "metadata": {
      "needs_background": "light"
     },
     "output_type": "display_data"
    }
   ],
   "source": [
    "for i in range(9):\n",
    "    plt.subplot(3, 3, i + 1)\n",
    "    plt.imshow(np.flip(np.reshape(prediction[10 + i], [PI_size, PI_size]), 0),\n",
    "               vmin=0,\n",
    "               vmax=1,\n",
    "               cmap='jet')\n",
    "    plt.colorbar()\n",
    "    \n",
    "plt.suptitle('The corresponding predicted PI')\n",
    "#plt.savefig(\"Résultats/Résultats 2/multiple_circles_predicted.pdf\")"
   ]
  },
  {
   "cell_type": "code",
   "execution_count": 12,
   "id": "e4a3f593",
   "metadata": {},
   "outputs": [
    {
     "data": {
      "image/png": "[encoded data removed]",
      "text/plain": [
       "<Figure size 432x288 with 18 Axes>"
      ]
     },
     "metadata": {
      "needs_background": "light"
     },
     "output_type": "display_data"
    }
   ],
   "source": [
    "for i in range(9):\n",
    "    plt.subplot(3, 3, i + 1)\n",
    "    plt.imshow(np.flip(np.reshape(PI_test[10 + i], [PI_size, PI_size]), 0),\n",
    "               vmin=0,\n",
    "               vmax=1,\n",
    "               cmap='jet')\n",
    "    plt.colorbar()\n",
    "\n",
    "plt.suptitle('The corresponding true PI')\n",
    "#plt.savefig(\"Résultats/Résultats 2/multiple_circles_true.pdf\")"
   ]
  },
  {
   "cell_type": "code",
   "execution_count": 9,
   "id": "8259569a",
   "metadata": {},
   "outputs": [
    {
     "data": {
      "image/png": "[encoded data removed]",
      "text/plain": [
       "<Figure size 432x288 with 9 Axes>"
      ]
     },
     "metadata": {
      "needs_background": "light"
     },
     "output_type": "display_data"
    }
   ],
   "source": [
    "for i in range(9):\n",
    "    plt.subplot(3, 3, i + 1)\n",
    "    plt.scatter(data_test[10 + i, :, 0], data_test[10 +i, :, 1], s=3)\n",
    "\n",
    "plt.suptitle('The corresponding point cloud')\n",
    "#plt.savefig(\"Résultats/Résultats 2/multiple_circles.pdf\")"
   ]
  },
  {
   "cell_type": "markdown",
   "id": "ff94042a",
   "metadata": {},
   "source": [
    "### Evaluation of the model and plot of the evolution of the loss "
   ]
  },
  {
   "cell_type": "markdown",
   "id": "07ecf5d4",
   "metadata": {},
   "source": [
    "MSE on the test data"
   ]
  },
  {
   "cell_type": "code",
   "execution_count": 13,
   "id": "29d54109",
   "metadata": {},
   "outputs": [
    {
     "data": {
      "text/plain": [
       "0.0016869330690238381"
      ]
     },
     "execution_count": 13,
     "metadata": {},
     "output_type": "execute_result"
    }
   ],
   "source": [
    "(np.square(prediction - PI_test)).mean(axis=None)"
   ]
  },
  {
   "cell_type": "code",
   "execution_count": 14,
   "id": "29e02166",
   "metadata": {
    "scrolled": true
   },
   "outputs": [
    {
     "name": "stdout",
     "output_type": "stream",
     "text": [
      "32/32 [==============================] - 0s 3ms/step - loss: 0.0017\n"
     ]
    }
   ],
   "source": [
    "loss = model.evaluate(data_test, PI_test, verbose=1)"
   ]
  },
  {
   "cell_type": "code",
   "execution_count": 13,
   "id": "339836de",
   "metadata": {},
   "outputs": [
    {
     "data": {
      "image/png": "[encoded data removed]",
      "text/plain": [
       "<Figure size 432x288 with 1 Axes>"
      ]
     },
     "metadata": {
      "needs_background": "light"
     },
     "output_type": "display_data"
    }
   ],
   "source": [
    "history_dict = history.history\n",
    "\n",
    "loss = history_dict['loss']\n",
    "val_loss = history_dict['val_loss']\n",
    "\n",
    "epochs = range(1, len(loss) + 1)\n",
    "\n",
    "# \"bo\" is for \"blue dot\"\n",
    "plt.plot(epochs[:], loss[:], 'bo', label='Training loss')\n",
    "# b is for \"solid blue line\"\n",
    "plt.plot(epochs[:], val_loss[:], 'b', label='Validation loss')\n",
    "plt.title('Training and validation loss')\n",
    "plt.xlabel('Epochs')\n",
    "plt.ylabel('Loss')\n",
    "plt.legend()\n",
    "\n",
    "#plt.savefig(\"Résultats/Résultats 2/training_loss.pdf\")\n",
    "plt.show()"
   ]
  },
  {
   "cell_type": "markdown",
   "id": "73ab5aaa",
   "metadata": {},
   "source": [
    "## Classifier"
   ]
  },
  {
   "cell_type": "code",
   "execution_count": 31,
   "id": "f9e00fd1",
   "metadata": {},
   "outputs": [],
   "source": [
    "\n",
    "data = np.load('data/PI_data_multiple_circle_classif.npz')\n",
    "\n",
    "label_classif_train = data[\"label_train\"]\n",
    "data_classif_train = data[\"data_train\"]\n",
    "label_classif_test = data[\"label_test\"]\n",
    "data_classif_test = data[\"data_test\"]\n"
   ]
  },
  {
   "cell_type": "code",
   "execution_count": 32,
   "id": "33fa6e62",
   "metadata": {},
   "outputs": [],
   "source": [
    "for i in range(len(data_classif_train)):\n",
    "    data_classif_train[i] = (data_classif_train[i] - np.mean(data_classif_train[i]))/np.var(data_classif_train[i])\n",
    "for i in range(len(data_classif_test)):\n",
    "    data_classif_test[i] = (data_classif_test[i] - np.mean(data_classif_test[i]))/np.var(data_classif_test[i])"
   ]
  },
  {
   "cell_type": "code",
   "execution_count": 33,
   "id": "d8e5a007",
   "metadata": {},
   "outputs": [],
   "source": [
    "label_classif_train -= 1\n",
    "label_classif_test -= 1"
   ]
  },
  {
   "cell_type": "code",
   "execution_count": 38,
   "id": "2c00a676",
   "metadata": {},
   "outputs": [],
   "source": [
    "inputs = tf.keras.Input(shape=(PI_size * PI_size))\n",
    "\n",
    "x = tf.keras.layers.Dense(100, activation='relu')(inputs)\n",
    "\n",
    "x = tf.keras.layers.Dense(50, activation='relu')(x)\n",
    "\n",
    "outputs = tf.keras.layers.Dense(3)(x)\n",
    "\n",
    "model_classif = tf.keras.Model(inputs=inputs, outputs=outputs)\n",
    "model_classif.compile(\n",
    "    optimizer='adam',\n",
    "    loss=tf.keras.losses.SparseCategoricalCrossentropy(from_logits=True),\n",
    "    metrics=['accuracy'])\n"
   ]
  },
  {
   "cell_type": "code",
   "execution_count": 39,
   "id": "f5591688",
   "metadata": {},
   "outputs": [],
   "source": [
    "PI_train_predicted = model.predict(data_classif_train)\n",
    "PI_test_predicted = model.predict(data_classif_test)\n"
   ]
  },
  {
   "cell_type": "code",
   "execution_count": 40,
   "id": "1e00c784",
   "metadata": {},
   "outputs": [
    {
     "name": "stdout",
     "output_type": "stream",
     "text": [
      "Epoch 1/100\n",
      "32/32 [==============================] - 0s 5ms/step - loss: 0.8203 - accuracy: 0.6236 - val_loss: 0.6299 - val_accuracy: 0.7677\n",
      "Epoch 2/100\n",
      "32/32 [==============================] - 0s 3ms/step - loss: 0.6423 - accuracy: 0.7307 - val_loss: 0.5165 - val_accuracy: 0.7576\n",
      "Epoch 3/100\n",
      "32/32 [==============================] - 0s 3ms/step - loss: 0.5739 - accuracy: 0.7528 - val_loss: 0.4946 - val_accuracy: 0.7374\n",
      "Epoch 4/100\n",
      "32/32 [==============================] - 0s 3ms/step - loss: 0.5445 - accuracy: 0.7728 - val_loss: 0.4711 - val_accuracy: 0.7778\n",
      "Epoch 5/100\n",
      "32/32 [==============================] - 0s 3ms/step - loss: 0.5158 - accuracy: 0.7828 - val_loss: 0.4775 - val_accuracy: 0.7374\n",
      "Epoch 6/100\n",
      "32/32 [==============================] - 0s 3ms/step - loss: 0.4920 - accuracy: 0.7848 - val_loss: 0.4617 - val_accuracy: 0.7778\n",
      "Epoch 7/100\n",
      "32/32 [==============================] - 0s 3ms/step - loss: 0.4860 - accuracy: 0.7888 - val_loss: 0.4629 - val_accuracy: 0.7576\n",
      "Epoch 8/100\n",
      "32/32 [==============================] - 0s 3ms/step - loss: 0.4808 - accuracy: 0.7938 - val_loss: 0.4353 - val_accuracy: 0.8081\n",
      "Epoch 9/100\n",
      "32/32 [==============================] - 0s 3ms/step - loss: 0.4706 - accuracy: 0.7988 - val_loss: 0.4702 - val_accuracy: 0.7475\n",
      "Epoch 10/100\n",
      "32/32 [==============================] - 0s 3ms/step - loss: 0.4648 - accuracy: 0.7958 - val_loss: 0.4583 - val_accuracy: 0.8182\n",
      "Epoch 11/100\n",
      "32/32 [==============================] - 0s 3ms/step - loss: 0.4602 - accuracy: 0.8008 - val_loss: 0.4612 - val_accuracy: 0.7980\n",
      "Epoch 12/100\n",
      "32/32 [==============================] - 0s 3ms/step - loss: 0.4599 - accuracy: 0.7948 - val_loss: 0.4678 - val_accuracy: 0.7374\n",
      "Epoch 13/100\n",
      "32/32 [==============================] - 0s 3ms/step - loss: 0.4561 - accuracy: 0.7918 - val_loss: 0.4661 - val_accuracy: 0.7475\n",
      "Epoch 14/100\n",
      "32/32 [==============================] - 0s 3ms/step - loss: 0.4699 - accuracy: 0.7928 - val_loss: 0.4453 - val_accuracy: 0.7980\n",
      "Epoch 15/100\n",
      "32/32 [==============================] - 0s 2ms/step - loss: 0.4537 - accuracy: 0.8008 - val_loss: 0.4466 - val_accuracy: 0.7879\n",
      "Epoch 16/100\n",
      "32/32 [==============================] - 0s 3ms/step - loss: 0.4468 - accuracy: 0.8088 - val_loss: 0.4452 - val_accuracy: 0.7980\n",
      "Epoch 17/100\n",
      "32/32 [==============================] - 0s 3ms/step - loss: 0.4459 - accuracy: 0.8078 - val_loss: 0.4374 - val_accuracy: 0.7980\n",
      "Epoch 18/100\n",
      "32/32 [==============================] - 0s 3ms/step - loss: 0.4455 - accuracy: 0.7998 - val_loss: 0.4365 - val_accuracy: 0.8081\n",
      "Epoch 19/100\n",
      "32/32 [==============================] - 0s 3ms/step - loss: 0.4359 - accuracy: 0.8118 - val_loss: 0.4383 - val_accuracy: 0.7980\n",
      "Epoch 20/100\n",
      "32/32 [==============================] - 0s 3ms/step - loss: 0.4326 - accuracy: 0.8108 - val_loss: 0.4350 - val_accuracy: 0.8182\n",
      "Epoch 21/100\n",
      "32/32 [==============================] - 0s 3ms/step - loss: 0.4383 - accuracy: 0.8008 - val_loss: 0.4175 - val_accuracy: 0.8081\n",
      "Epoch 22/100\n",
      "32/32 [==============================] - 0s 3ms/step - loss: 0.4320 - accuracy: 0.7998 - val_loss: 0.4329 - val_accuracy: 0.7980\n",
      "Epoch 23/100\n",
      "32/32 [==============================] - 0s 3ms/step - loss: 0.4257 - accuracy: 0.8128 - val_loss: 0.4268 - val_accuracy: 0.8081\n",
      "Epoch 24/100\n",
      "32/32 [==============================] - 0s 3ms/step - loss: 0.4361 - accuracy: 0.8118 - val_loss: 0.4435 - val_accuracy: 0.7980\n",
      "Epoch 25/100\n",
      "32/32 [==============================] - 0s 3ms/step - loss: 0.4327 - accuracy: 0.8088 - val_loss: 0.4463 - val_accuracy: 0.8283\n",
      "Epoch 26/100\n",
      "32/32 [==============================] - 0s 3ms/step - loss: 0.4430 - accuracy: 0.8108 - val_loss: 0.4093 - val_accuracy: 0.8081\n",
      "Epoch 27/100\n",
      "32/32 [==============================] - 0s 3ms/step - loss: 0.4138 - accuracy: 0.8168 - val_loss: 0.4189 - val_accuracy: 0.8182\n",
      "Epoch 28/100\n",
      "32/32 [==============================] - 0s 3ms/step - loss: 0.4252 - accuracy: 0.8138 - val_loss: 0.4081 - val_accuracy: 0.7980\n",
      "Epoch 29/100\n",
      "32/32 [==============================] - 0s 3ms/step - loss: 0.4241 - accuracy: 0.8238 - val_loss: 0.4077 - val_accuracy: 0.8182\n",
      "Epoch 30/100\n",
      "32/32 [==============================] - 0s 3ms/step - loss: 0.4265 - accuracy: 0.8018 - val_loss: 0.4327 - val_accuracy: 0.8081\n",
      "Epoch 31/100\n",
      "32/32 [==============================] - 0s 3ms/step - loss: 0.4230 - accuracy: 0.8178 - val_loss: 0.4271 - val_accuracy: 0.7980\n",
      "Epoch 32/100\n",
      "32/32 [==============================] - 0s 3ms/step - loss: 0.4158 - accuracy: 0.8188 - val_loss: 0.3809 - val_accuracy: 0.8182\n",
      "Epoch 33/100\n",
      "32/32 [==============================] - 0s 3ms/step - loss: 0.4358 - accuracy: 0.8048 - val_loss: 0.4487 - val_accuracy: 0.7879\n",
      "Epoch 34/100\n",
      "32/32 [==============================] - 0s 3ms/step - loss: 0.4148 - accuracy: 0.8178 - val_loss: 0.4136 - val_accuracy: 0.8081\n",
      "Epoch 35/100\n",
      "32/32 [==============================] - 0s 3ms/step - loss: 0.3997 - accuracy: 0.8248 - val_loss: 0.4172 - val_accuracy: 0.8081\n",
      "Epoch 36/100\n",
      "32/32 [==============================] - 0s 3ms/step - loss: 0.4017 - accuracy: 0.8298 - val_loss: 0.3994 - val_accuracy: 0.7677\n",
      "Epoch 37/100\n",
      "32/32 [==============================] - 0s 3ms/step - loss: 0.4102 - accuracy: 0.8228 - val_loss: 0.3959 - val_accuracy: 0.8182\n",
      "Epoch 38/100\n",
      "32/32 [==============================] - 0s 2ms/step - loss: 0.4094 - accuracy: 0.8168 - val_loss: 0.4285 - val_accuracy: 0.8182\n",
      "Epoch 39/100\n",
      "32/32 [==============================] - 0s 3ms/step - loss: 0.4028 - accuracy: 0.8238 - val_loss: 0.4369 - val_accuracy: 0.8081\n",
      "Epoch 40/100\n",
      "32/32 [==============================] - 0s 3ms/step - loss: 0.4045 - accuracy: 0.8268 - val_loss: 0.4057 - val_accuracy: 0.8283\n",
      "Epoch 41/100\n",
      "32/32 [==============================] - 0s 3ms/step - loss: 0.4032 - accuracy: 0.8328 - val_loss: 0.3962 - val_accuracy: 0.8081\n",
      "Epoch 42/100\n",
      "32/32 [==============================] - 0s 3ms/step - loss: 0.3957 - accuracy: 0.8328 - val_loss: 0.4203 - val_accuracy: 0.8182\n",
      "Epoch 43/100\n",
      "32/32 [==============================] - 0s 3ms/step - loss: 0.4033 - accuracy: 0.8178 - val_loss: 0.4120 - val_accuracy: 0.8081\n",
      "Epoch 44/100\n",
      "32/32 [==============================] - 0s 2ms/step - loss: 0.4037 - accuracy: 0.8348 - val_loss: 0.4032 - val_accuracy: 0.7980\n",
      "Epoch 45/100\n",
      "32/32 [==============================] - 0s 3ms/step - loss: 0.4117 - accuracy: 0.8258 - val_loss: 0.3776 - val_accuracy: 0.8182\n",
      "Epoch 46/100\n",
      "32/32 [==============================] - 0s 3ms/step - loss: 0.3930 - accuracy: 0.8278 - val_loss: 0.4029 - val_accuracy: 0.8081\n",
      "Epoch 47/100\n",
      "32/32 [==============================] - 0s 3ms/step - loss: 0.3943 - accuracy: 0.8278 - val_loss: 0.4102 - val_accuracy: 0.8182\n",
      "Epoch 48/100\n",
      "32/32 [==============================] - 0s 3ms/step - loss: 0.4009 - accuracy: 0.8178 - val_loss: 0.4326 - val_accuracy: 0.8081\n",
      "Epoch 49/100\n",
      "32/32 [==============================] - 0s 3ms/step - loss: 0.3915 - accuracy: 0.8298 - val_loss: 0.4140 - val_accuracy: 0.8081\n",
      "Epoch 50/100\n",
      "32/32 [==============================] - 0s 3ms/step - loss: 0.3854 - accuracy: 0.8278 - val_loss: 0.4103 - val_accuracy: 0.8182\n",
      "Epoch 51/100\n",
      "32/32 [==============================] - 0s 3ms/step - loss: 0.3844 - accuracy: 0.8328 - val_loss: 0.4187 - val_accuracy: 0.8182\n",
      "Epoch 52/100\n",
      "32/32 [==============================] - 0s 3ms/step - loss: 0.3937 - accuracy: 0.8348 - val_loss: 0.4173 - val_accuracy: 0.7879\n",
      "Epoch 53/100\n",
      "32/32 [==============================] - 0s 3ms/step - loss: 0.3855 - accuracy: 0.8268 - val_loss: 0.4133 - val_accuracy: 0.7980\n",
      "Epoch 54/100\n",
      "32/32 [==============================] - 0s 3ms/step - loss: 0.3852 - accuracy: 0.8278 - val_loss: 0.3937 - val_accuracy: 0.8283\n",
      "Epoch 55/100\n",
      "32/32 [==============================] - 0s 3ms/step - loss: 0.3940 - accuracy: 0.8318 - val_loss: 0.4254 - val_accuracy: 0.8081\n",
      "Epoch 56/100\n",
      "32/32 [==============================] - 0s 3ms/step - loss: 0.3790 - accuracy: 0.8368 - val_loss: 0.3931 - val_accuracy: 0.8283\n",
      "Epoch 57/100\n",
      "32/32 [==============================] - 0s 3ms/step - loss: 0.3936 - accuracy: 0.8288 - val_loss: 0.4202 - val_accuracy: 0.8182\n",
      "Epoch 58/100\n",
      "32/32 [==============================] - 0s 3ms/step - loss: 0.3819 - accuracy: 0.8358 - val_loss: 0.4104 - val_accuracy: 0.8182\n"
     ]
    },
    {
     "name": "stdout",
     "output_type": "stream",
     "text": [
      "Epoch 59/100\n",
      "32/32 [==============================] - 0s 3ms/step - loss: 0.3809 - accuracy: 0.8308 - val_loss: 0.3883 - val_accuracy: 0.8283\n",
      "Epoch 60/100\n",
      "32/32 [==============================] - 0s 3ms/step - loss: 0.3939 - accuracy: 0.8288 - val_loss: 0.4231 - val_accuracy: 0.8081\n",
      "Epoch 61/100\n",
      "32/32 [==============================] - 0s 3ms/step - loss: 0.3784 - accuracy: 0.8288 - val_loss: 0.3949 - val_accuracy: 0.8081\n",
      "Epoch 62/100\n",
      "32/32 [==============================] - 0s 3ms/step - loss: 0.3745 - accuracy: 0.8308 - val_loss: 0.3985 - val_accuracy: 0.8081\n",
      "Epoch 63/100\n",
      "32/32 [==============================] - 0s 3ms/step - loss: 0.3672 - accuracy: 0.8398 - val_loss: 0.4136 - val_accuracy: 0.8283\n",
      "Epoch 64/100\n",
      "32/32 [==============================] - 0s 3ms/step - loss: 0.3878 - accuracy: 0.8248 - val_loss: 0.4216 - val_accuracy: 0.8081\n",
      "Epoch 65/100\n",
      "32/32 [==============================] - 0s 3ms/step - loss: 0.3817 - accuracy: 0.8328 - val_loss: 0.3982 - val_accuracy: 0.8081\n",
      "Epoch 66/100\n",
      "32/32 [==============================] - 0s 3ms/step - loss: 0.3684 - accuracy: 0.8338 - val_loss: 0.4021 - val_accuracy: 0.8384\n",
      "Epoch 67/100\n",
      "32/32 [==============================] - 0s 3ms/step - loss: 0.3677 - accuracy: 0.8468 - val_loss: 0.4084 - val_accuracy: 0.8081\n",
      "Epoch 68/100\n",
      "32/32 [==============================] - 0s 2ms/step - loss: 0.3663 - accuracy: 0.8488 - val_loss: 0.4238 - val_accuracy: 0.7778\n",
      "Epoch 69/100\n",
      "32/32 [==============================] - 0s 3ms/step - loss: 0.3662 - accuracy: 0.8328 - val_loss: 0.4231 - val_accuracy: 0.7980\n",
      "Epoch 70/100\n",
      "32/32 [==============================] - 0s 3ms/step - loss: 0.3758 - accuracy: 0.8308 - val_loss: 0.4038 - val_accuracy: 0.8283\n",
      "Epoch 71/100\n",
      "32/32 [==============================] - 0s 3ms/step - loss: 0.3626 - accuracy: 0.8418 - val_loss: 0.4036 - val_accuracy: 0.8182\n",
      "Epoch 72/100\n",
      "32/32 [==============================] - 0s 3ms/step - loss: 0.3655 - accuracy: 0.8388 - val_loss: 0.4246 - val_accuracy: 0.8081\n",
      "Epoch 73/100\n",
      "32/32 [==============================] - 0s 3ms/step - loss: 0.3590 - accuracy: 0.8408 - val_loss: 0.4057 - val_accuracy: 0.7980\n",
      "Epoch 74/100\n",
      "32/32 [==============================] - 0s 3ms/step - loss: 0.3557 - accuracy: 0.8428 - val_loss: 0.3874 - val_accuracy: 0.8182\n",
      "Epoch 75/100\n",
      "32/32 [==============================] - 0s 3ms/step - loss: 0.3666 - accuracy: 0.8328 - val_loss: 0.4004 - val_accuracy: 0.8283\n",
      "Epoch 76/100\n",
      "32/32 [==============================] - 0s 3ms/step - loss: 0.3887 - accuracy: 0.8318 - val_loss: 0.4453 - val_accuracy: 0.8081\n",
      "Epoch 77/100\n",
      "32/32 [==============================] - 0s 3ms/step - loss: 0.3582 - accuracy: 0.8398 - val_loss: 0.4359 - val_accuracy: 0.8283\n",
      "Epoch 78/100\n",
      "32/32 [==============================] - 0s 3ms/step - loss: 0.3606 - accuracy: 0.8418 - val_loss: 0.4001 - val_accuracy: 0.8283\n",
      "Epoch 79/100\n",
      "32/32 [==============================] - 0s 3ms/step - loss: 0.3566 - accuracy: 0.8398 - val_loss: 0.4207 - val_accuracy: 0.8081\n",
      "Epoch 80/100\n",
      "32/32 [==============================] - 0s 3ms/step - loss: 0.3580 - accuracy: 0.8408 - val_loss: 0.3929 - val_accuracy: 0.8182\n",
      "Epoch 81/100\n",
      "32/32 [==============================] - 0s 3ms/step - loss: 0.3603 - accuracy: 0.8418 - val_loss: 0.4101 - val_accuracy: 0.7879\n",
      "Epoch 82/100\n",
      "32/32 [==============================] - 0s 3ms/step - loss: 0.3645 - accuracy: 0.8478 - val_loss: 0.4261 - val_accuracy: 0.7980\n",
      "Epoch 83/100\n",
      "32/32 [==============================] - 0s 3ms/step - loss: 0.3723 - accuracy: 0.8388 - val_loss: 0.3984 - val_accuracy: 0.8081\n",
      "Epoch 84/100\n",
      "32/32 [==============================] - 0s 3ms/step - loss: 0.3580 - accuracy: 0.8488 - val_loss: 0.4135 - val_accuracy: 0.8081\n",
      "Epoch 85/100\n",
      "32/32 [==============================] - 0s 3ms/step - loss: 0.3461 - accuracy: 0.8458 - val_loss: 0.4039 - val_accuracy: 0.8182\n",
      "Epoch 86/100\n",
      "32/32 [==============================] - 0s 3ms/step - loss: 0.3504 - accuracy: 0.8478 - val_loss: 0.4144 - val_accuracy: 0.8081\n",
      "Epoch 87/100\n",
      "32/32 [==============================] - 0s 3ms/step - loss: 0.3596 - accuracy: 0.8428 - val_loss: 0.3876 - val_accuracy: 0.8081\n",
      "Epoch 88/100\n",
      "32/32 [==============================] - 0s 3ms/step - loss: 0.3555 - accuracy: 0.8398 - val_loss: 0.4161 - val_accuracy: 0.8283\n",
      "Epoch 89/100\n",
      "32/32 [==============================] - 0s 3ms/step - loss: 0.3478 - accuracy: 0.8468 - val_loss: 0.3906 - val_accuracy: 0.8081\n",
      "Epoch 90/100\n",
      "32/32 [==============================] - 0s 3ms/step - loss: 0.3418 - accuracy: 0.8509 - val_loss: 0.3862 - val_accuracy: 0.7980\n",
      "Epoch 91/100\n",
      "32/32 [==============================] - 0s 3ms/step - loss: 0.3631 - accuracy: 0.8418 - val_loss: 0.4186 - val_accuracy: 0.8182\n",
      "Epoch 92/100\n",
      "32/32 [==============================] - 0s 3ms/step - loss: 0.3568 - accuracy: 0.8428 - val_loss: 0.4784 - val_accuracy: 0.8081\n",
      "Epoch 93/100\n",
      "32/32 [==============================] - 0s 3ms/step - loss: 0.3469 - accuracy: 0.8468 - val_loss: 0.4296 - val_accuracy: 0.8283\n",
      "Epoch 94/100\n",
      "32/32 [==============================] - 0s 3ms/step - loss: 0.3479 - accuracy: 0.8589 - val_loss: 0.3969 - val_accuracy: 0.8081\n",
      "Epoch 95/100\n",
      "32/32 [==============================] - 0s 2ms/step - loss: 0.3439 - accuracy: 0.8458 - val_loss: 0.4166 - val_accuracy: 0.8081\n",
      "Epoch 96/100\n",
      "32/32 [==============================] - 0s 3ms/step - loss: 0.3433 - accuracy: 0.8559 - val_loss: 0.3858 - val_accuracy: 0.8283\n",
      "Epoch 97/100\n",
      "32/32 [==============================] - 0s 3ms/step - loss: 0.3440 - accuracy: 0.8529 - val_loss: 0.4028 - val_accuracy: 0.8283\n",
      "Epoch 98/100\n",
      "32/32 [==============================] - 0s 3ms/step - loss: 0.3370 - accuracy: 0.8498 - val_loss: 0.3971 - val_accuracy: 0.8081\n",
      "Epoch 99/100\n",
      "32/32 [==============================] - 0s 3ms/step - loss: 0.3401 - accuracy: 0.8448 - val_loss: 0.4161 - val_accuracy: 0.8182\n",
      "Epoch 100/100\n",
      "32/32 [==============================] - 0s 3ms/step - loss: 0.3386 - accuracy: 0.8418 - val_loss: 0.3829 - val_accuracy: 0.8283\n"
     ]
    }
   ],
   "source": [
    "history_classif = model_classif.fit(PI_train_predicted,\n",
    "                                  label_classif_train,\n",
    "                                  epochs=100,\n",
    "                                  validation_data=(PI_test_predicted, label_classif_test))"
   ]
  },
  {
   "cell_type": "code",
   "execution_count": 41,
   "id": "63f3a90d",
   "metadata": {},
   "outputs": [
    {
     "name": "stdout",
     "output_type": "stream",
     "text": [
      "4/4 - 0s - loss: 0.3829 - accuracy: 0.8283\n",
      "\n",
      "Test accuracy: 0.8282828330993652\n"
     ]
    }
   ],
   "source": [
    "test_loss, test_acc = model_classif.evaluate(PI_test_predicted,\n",
    "                                                label_classif_test,\n",
    "                                                verbose=2)\n",
    "\n",
    "print('\\nTest accuracy:', test_acc)"
   ]
  },
  {
   "cell_type": "markdown",
   "id": "d18d34c1",
   "metadata": {},
   "source": [
    "Accuracy of the classifier trained on Gudhi : 97%\n",
    "\n",
    "\n",
    "| Number of point clouds for training \t| Accuracy \t|\n",
    "|:-----------------------------------:\t|:--------:\t|\n",
    "|                 100                 \t|      42%    \t|\n",
    "|                 500                 \t|     80%     \t|\n",
    "|                 750                 \t|     84%     \t|\n",
    "|                 1000                 \t|     82%     \t|\n",
    "|                 5000                 \t|     89%     \t|\n",
    "|                 10000                \t|    90%      \t|\n"
   ]
  },
  {
   "cell_type": "code",
   "execution_count": 9,
   "id": "4c735345",
   "metadata": {},
   "outputs": [
    {
     "data": {
      "image/png": "[encoded data removed]",
      "text/plain": [
       "<Figure size 432x288 with 1 Axes>"
      ]
     },
     "metadata": {
      "needs_background": "light"
     },
     "output_type": "display_data"
    }
   ],
   "source": [
    "acc = [42,80,84,82,89,90]\n",
    "number_sets = [100,500,750,1000,5000,10000]\n",
    "\n",
    "plt.plot(number_sets,acc,'o-')\n",
    "plt.title(\"Accuracy of the classifier depending on the number of training sets\")\n",
    "plt.ylabel(\"acc. of the classifier\")\n",
    "plt.xlabel(\"Number of point cloud used for training\")\n",
    "plt.xscale('log')\n",
    "\n",
    "plt.annotate(\"42.0\", # this is the text\n",
    "             (100,42), # this is the point to label\n",
    "             textcoords=\"offset points\", # how to position the text\n",
    "             xytext=(12,0), # distance from text to points (x,y)\n",
    "             ha='left') # horizontal alignment can be left, right or center\n",
    "\n",
    "\n",
    "for x,y in zip(number_sets[1:],acc[1:]):\n",
    "\n",
    "    label = \"{:.1f}\".format(y)\n",
    "\n",
    "    plt.annotate(label, # this is the text\n",
    "                 (x,y), # this is the point to label\n",
    "                 textcoords=\"offset points\", # how to position the text\n",
    "                 xytext=(-5,-14), # distance from text to points (x,y)\n",
    "                 ha='left') # horizontal alignment can be left, right or center\n",
    "\n",
    "#plt.savefig(\"Résultats/Résultats 4/acc_number_training_set_multi_circles.pdf\")\n"
   ]
  }
 ],
 "metadata": {
  "kernelspec": {
   "display_name": "Python 3 (ipykernel)",
   "language": "python",
   "name": "python3"
  },
  "language_info": {
   "codemirror_mode": {
    "name": "ipython",
    "version": 3
   },
   "file_extension": ".py",
   "mimetype": "text/x-python",
   "name": "python",
   "nbconvert_exporter": "python",
   "pygments_lexer": "ipython3",
   "version": "3.8.10"
  }
 },
 "nbformat": 4,
 "nbformat_minor": 5
}
