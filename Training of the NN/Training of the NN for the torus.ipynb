{
 "cells": [
  {
   "cell_type": "markdown",
   "id": "87e76a08",
   "metadata": {},
   "source": [
    "# Training of the NN for the torus"
   ]
  },
  {
   "cell_type": "markdown",
   "id": "8c63dd1a",
   "metadata": {},
   "source": [
    "This notebook is the definition and the training of the NN that predicts PI for the multiple circles dataset"
   ]
  },
  {
   "cell_type": "code",
   "execution_count": 1,
   "id": "edd65fd7",
   "metadata": {},
   "outputs": [],
   "source": [
    "import matplotlib.pyplot as plt\n",
    "import numpy as np\n",
    "from mpl_toolkits.mplot3d import axes3d  # Fonction pour la 3D\n",
    "%matplotlib inline\n",
    "\n",
    "\n",
    "import tensorflow as tf\n",
    "from IPython.display import SVG\n",
    "\n",
    "import gudhi as gd\n",
    "import gudhi.representations\n",
    "\n",
    "from tqdm import tqdm\n",
    "import os\n"
   ]
  },
  {
   "cell_type": "markdown",
   "id": "8b5b74f0",
   "metadata": {},
   "source": [
    "### Load the data"
   ]
  },
  {
   "cell_type": "code",
   "execution_count": 2,
   "id": "136617d9",
   "metadata": {},
   "outputs": [],
   "source": [
    "data = np.load('data/PI_data_torus.npz')\n",
    "\n",
    "#data = np.load('PI_data_1000_dynamical_alpha.npz')\n",
    "\n",
    "data_train = data[\"data_train\"]\n",
    "PI_train = data[\"PI_train\"]\n",
    "data_test = data[\"data_test\"]\n",
    "PI_test = data[\"PI_test\"]"
   ]
  },
  {
   "cell_type": "code",
   "execution_count": 3,
   "id": "4ebe6050",
   "metadata": {},
   "outputs": [],
   "source": [
    "N_sets_train = data_train.shape[0]\n",
    "N_sets_test = data_test.shape[0]\n",
    "N_points = data_train.shape[1]\n",
    "PI_size = int(np.sqrt(PI_train.shape[1]))\n",
    "dim = 3"
   ]
  },
  {
   "cell_type": "code",
   "execution_count": 4,
   "id": "97654626",
   "metadata": {},
   "outputs": [
    {
     "name": "stdout",
     "output_type": "stream",
     "text": [
      "N_sets_train :  2000\n",
      "N_sets_test :  200\n",
      "N_points :  500\n",
      "PI_size :  50\n"
     ]
    }
   ],
   "source": [
    "print(\"N_sets_train : \", N_sets_train)\n",
    "print(\"N_sets_test : \", N_sets_test)\n",
    "print(\"N_points : \", N_points)\n",
    "print(\"PI_size : \", PI_size)"
   ]
  },
  {
   "cell_type": "markdown",
   "id": "ed12e02b",
   "metadata": {},
   "source": [
    "We normalize the PIs"
   ]
  },
  {
   "cell_type": "code",
   "execution_count": 5,
   "id": "2fd51477",
   "metadata": {},
   "outputs": [],
   "source": [
    "PI_train /= max(np.max(PI_train), np.max(PI_test))\n",
    "PI_test /= max(np.max(PI_train), np.max(PI_test))"
   ]
  },
  {
   "cell_type": "markdown",
   "id": "89aedc48",
   "metadata": {},
   "source": [
    "### Embedding in dimension 9"
   ]
  },
  {
   "cell_type": "markdown",
   "id": "0314a6fe",
   "metadata": {},
   "source": [
    "We can eventually embed our data from dimension 3 to dimension 9 using :\n",
    "  $$(x,y,z) \\mapsto \\left( \\begin{matrix} 0 &x & y \\\\ -x & 0 & z \\\\ -y & -z & 0  \\end{matrix} \\right) $$\n",
    "  This step is completely optionnal"
   ]
  },
  {
   "cell_type": "code",
   "execution_count": 6,
   "id": "c11c1af1",
   "metadata": {},
   "outputs": [],
   "source": [
    "def embedding(data):\n",
    "    new_data = np.zeros((data.shape[0],data.shape[1],9))\n",
    "    for i in range(data.shape[0]):\n",
    "        for j in range(data.shape[1]):\n",
    "            new_data[i,j,1] = data[i,j,0]\n",
    "            new_data[i,j,2] = data[i,j,1]\n",
    "            new_data[i,j,3] = -data[i,j,0]\n",
    "            new_data[i,j,5] = data[i,j,2]\n",
    "            new_data[i,j,6] = -data[i,j,1]\n",
    "            new_data[i,j,7] = -data[i,j,2]\n",
    "            \n",
    "    return new_data\n",
    "        "
   ]
  },
  {
   "cell_type": "code",
   "execution_count": 7,
   "id": "02c10fee",
   "metadata": {},
   "outputs": [],
   "source": [
    "new_data_train = embedding(data_train)"
   ]
  },
  {
   "cell_type": "code",
   "execution_count": 8,
   "id": "65950a8f",
   "metadata": {},
   "outputs": [],
   "source": [
    "new_data_test = embedding(data_test)"
   ]
  },
  {
   "cell_type": "code",
   "execution_count": 9,
   "id": "9c1be6c7",
   "metadata": {},
   "outputs": [],
   "source": [
    "dim = 9"
   ]
  },
  {
   "cell_type": "markdown",
   "id": "8c07647a",
   "metadata": {},
   "source": [
    "### Definition of the NN"
   ]
  },
  {
   "cell_type": "code",
   "execution_count": 6,
   "id": "57932e4a",
   "metadata": {},
   "outputs": [],
   "source": [
    "class FullyConnected2(tf.keras.layers.Layer):\n",
    "    def __init__(self, N_input, N_output):\n",
    "        super(FullyConnected2, self).__init__()\n",
    "        self.gamma = self.add_weight(name='gamma',\n",
    "                                     shape=(N_input, N_output),\n",
    "                                     initializer=\"random_normal\",\n",
    "                                     trainable=True)\n",
    "\n",
    "    def call(self, inputs):\n",
    "        return tf.einsum(\"ijk,kl->ijl\", inputs, self.gamma)"
   ]
  },
  {
   "cell_type": "code",
   "execution_count": 21,
   "id": "e6406ec5",
   "metadata": {},
   "outputs": [],
   "source": [
    "#V2\n",
    "\n",
    "inputs = tf.keras.Input(shape=(N_points, dim))\n",
    "\n",
    "FC_layer_2_30 = FullyConnected2(dim, 50)\n",
    "x = FC_layer_2_30(inputs)\n",
    "x = tf.keras.activations.relu(x)\n",
    "\n",
    "x = tf.keras.layers.Dense(35, activation='relu')(x)\n",
    "\n",
    "\n",
    "x = tf.keras.layers.Dense(20, activation='relu')(x)\n",
    "\n",
    "x = tf.keras.layers.Dense(10, activation='relu')(x)\n",
    "\n",
    "Adder = tf.keras.layers.Lambda(lambda x: tf.math.reduce_min(x, axis=1),\n",
    "                               output_shape=(lambda shape:\n",
    "                                             (shape[0], shape[2])))\n",
    "x = Adder(x)\n",
    "\n",
    "x = tf.keras.layers.Dense(50, activation='relu')(x)\n",
    "\n",
    "x = tf.keras.layers.Dense(100, activation='relu')(x)\n",
    "\n",
    "x = tf.keras.layers.Dense(200, activation='relu')(x)\n",
    "\n",
    "outputs = tf.keras.layers.Dense(PI_size * PI_size, activation='sigmoid')(x)\n",
    "model = tf.keras.Model(inputs=inputs, outputs=outputs)\n",
    "adam = tf.keras.optimizers.Nadam(\n",
    "    learning_rate=7e-3)  #5e-3 learning_rate optimal d'après moi\n",
    "model.compile(optimizer=adam, loss=\"mse\")  #contrastive_loss"
   ]
  },
  {
   "cell_type": "code",
   "execution_count": 8,
   "id": "6b246a35",
   "metadata": {
    "scrolled": false
   },
   "outputs": [
    {
     "name": "stdout",
     "output_type": "stream",
     "text": [
      "Model: \"model\"\n",
      "_________________________________________________________________\n",
      "Layer (type)                 Output Shape              Param #   \n",
      "=================================================================\n",
      "input_1 (InputLayer)         [(None, 500, 3)]          0         \n",
      "_________________________________________________________________\n",
      "fully_connected2 (FullyConne (None, 500, 30)           90        \n",
      "_________________________________________________________________\n",
      "tf.nn.relu (TFOpLambda)      (None, 500, 30)           0         \n",
      "_________________________________________________________________\n",
      "dense (Dense)                (None, 500, 20)           620       \n",
      "_________________________________________________________________\n",
      "dense_1 (Dense)              (None, 500, 10)           210       \n",
      "_________________________________________________________________\n",
      "lambda (Lambda)              (None, 10)                0         \n",
      "_________________________________________________________________\n",
      "dense_2 (Dense)              (None, 50)                550       \n",
      "_________________________________________________________________\n",
      "dense_3 (Dense)              (None, 100)               5100      \n",
      "_________________________________________________________________\n",
      "dense_4 (Dense)              (None, 200)               20200     \n",
      "_________________________________________________________________\n",
      "dense_5 (Dense)              (None, 2500)              502500    \n",
      "=================================================================\n",
      "Total params: 529,270\n",
      "Trainable params: 529,270\n",
      "Non-trainable params: 0\n",
      "_________________________________________________________________\n"
     ]
    },
    {
     "data": {
      "image/svg+xml": [
       "<svg xmlns=\"http://www.w3.org/2000/svg\" xmlns:xlink=\"http://www.w3.org/1999/xlink\" width=\"627pt\" height=\"1069pt\" viewBox=\"0.00 0.00 470.00 802.00\">\n",
       "<g id=\"graph0\" class=\"graph\" transform=\"scale(0.75 0.75) rotate(0) translate(4 798)\">\n",
       "<title>G</title>\n",
       "<polygon fill=\"white\" stroke=\"transparent\" points=\"-4,4 -4,-798 466,-798 466,4 -4,4\"/>\n",
       "<!-- 139879213915728 -->\n",
       "<g id=\"node1\" class=\"node\">\n",
       "<title>139879213915728</title>\n",
       "<polygon fill=\"none\" stroke=\"black\" points=\"53.5,-747.5 53.5,-793.5 408.5,-793.5 408.5,-747.5 53.5,-747.5\"/>\n",
       "<text text-anchor=\"middle\" x=\"132.5\" y=\"-766.8\" font-family=\"Times,serif\" font-size=\"14.00\">input_1: InputLayer</text>\n",
       "<polyline fill=\"none\" stroke=\"black\" points=\"211.5,-747.5 211.5,-793.5 \"/>\n",
       "<text text-anchor=\"middle\" x=\"245.5\" y=\"-778.3\" font-family=\"Times,serif\" font-size=\"14.00\">input:</text>\n",
       "<polyline fill=\"none\" stroke=\"black\" points=\"211.5,-770.5 279.5,-770.5 \"/>\n",
       "<text text-anchor=\"middle\" x=\"245.5\" y=\"-755.3\" font-family=\"Times,serif\" font-size=\"14.00\">output:</text>\n",
       "<polyline fill=\"none\" stroke=\"black\" points=\"279.5,-747.5 279.5,-793.5 \"/>\n",
       "<text text-anchor=\"middle\" x=\"344\" y=\"-778.3\" font-family=\"Times,serif\" font-size=\"14.00\">[(None, 500, 3)]</text>\n",
       "<polyline fill=\"none\" stroke=\"black\" points=\"279.5,-770.5 408.5,-770.5 \"/>\n",
       "<text text-anchor=\"middle\" x=\"344\" y=\"-755.3\" font-family=\"Times,serif\" font-size=\"14.00\">[(None, 500, 3)]</text>\n",
       "</g>\n",
       "<!-- 139879213915632 -->\n",
       "<g id=\"node2\" class=\"node\">\n",
       "<title>139879213915632</title>\n",
       "<polygon fill=\"none\" stroke=\"black\" points=\"0,-664.5 0,-710.5 462,-710.5 462,-664.5 0,-664.5\"/>\n",
       "<text text-anchor=\"middle\" x=\"133\" y=\"-683.8\" font-family=\"Times,serif\" font-size=\"14.00\">fully_connected2: FullyConnected2</text>\n",
       "<polyline fill=\"none\" stroke=\"black\" points=\"266,-664.5 266,-710.5 \"/>\n",
       "<text text-anchor=\"middle\" x=\"300\" y=\"-695.3\" font-family=\"Times,serif\" font-size=\"14.00\">input:</text>\n",
       "<polyline fill=\"none\" stroke=\"black\" points=\"266,-687.5 334,-687.5 \"/>\n",
       "<text text-anchor=\"middle\" x=\"300\" y=\"-672.3\" font-family=\"Times,serif\" font-size=\"14.00\">output:</text>\n",
       "<polyline fill=\"none\" stroke=\"black\" points=\"334,-664.5 334,-710.5 \"/>\n",
       "<text text-anchor=\"middle\" x=\"398\" y=\"-695.3\" font-family=\"Times,serif\" font-size=\"14.00\">(None, 500, 3)</text>\n",
       "<polyline fill=\"none\" stroke=\"black\" points=\"334,-687.5 462,-687.5 \"/>\n",
       "<text text-anchor=\"middle\" x=\"398\" y=\"-672.3\" font-family=\"Times,serif\" font-size=\"14.00\">(None, 500, 30)</text>\n",
       "</g>\n",
       "<!-- 139879213915728&#45;&gt;139879213915632 -->\n",
       "<g id=\"edge1\" class=\"edge\">\n",
       "<title>139879213915728-&gt;139879213915632</title>\n",
       "<path fill=\"none\" stroke=\"black\" d=\"M231,-747.37C231,-739.15 231,-729.66 231,-720.73\"/>\n",
       "<polygon fill=\"black\" stroke=\"black\" points=\"234.5,-720.61 231,-710.61 227.5,-720.61 234.5,-720.61\"/>\n",
       "</g>\n",
       "<!-- 139879172886784 -->\n",
       "<g id=\"node3\" class=\"node\">\n",
       "<title>139879172886784</title>\n",
       "<polygon fill=\"none\" stroke=\"black\" points=\"39,-581.5 39,-627.5 423,-627.5 423,-581.5 39,-581.5\"/>\n",
       "<text text-anchor=\"middle\" x=\"133\" y=\"-600.8\" font-family=\"Times,serif\" font-size=\"14.00\">tf.nn.relu: TFOpLambda</text>\n",
       "<polyline fill=\"none\" stroke=\"black\" points=\"227,-581.5 227,-627.5 \"/>\n",
       "<text text-anchor=\"middle\" x=\"261\" y=\"-612.3\" font-family=\"Times,serif\" font-size=\"14.00\">input:</text>\n",
       "<polyline fill=\"none\" stroke=\"black\" points=\"227,-604.5 295,-604.5 \"/>\n",
       "<text text-anchor=\"middle\" x=\"261\" y=\"-589.3\" font-family=\"Times,serif\" font-size=\"14.00\">output:</text>\n",
       "<polyline fill=\"none\" stroke=\"black\" points=\"295,-581.5 295,-627.5 \"/>\n",
       "<text text-anchor=\"middle\" x=\"359\" y=\"-612.3\" font-family=\"Times,serif\" font-size=\"14.00\">(None, 500, 30)</text>\n",
       "<polyline fill=\"none\" stroke=\"black\" points=\"295,-604.5 423,-604.5 \"/>\n",
       "<text text-anchor=\"middle\" x=\"359\" y=\"-589.3\" font-family=\"Times,serif\" font-size=\"14.00\">(None, 500, 30)</text>\n",
       "</g>\n",
       "<!-- 139879213915632&#45;&gt;139879172886784 -->\n",
       "<g id=\"edge2\" class=\"edge\">\n",
       "<title>139879213915632-&gt;139879172886784</title>\n",
       "<path fill=\"none\" stroke=\"black\" d=\"M231,-664.37C231,-656.15 231,-646.66 231,-637.73\"/>\n",
       "<polygon fill=\"black\" stroke=\"black\" points=\"234.5,-637.61 231,-627.61 227.5,-637.61 234.5,-637.61\"/>\n",
       "</g>\n",
       "<!-- 139879181532704 -->\n",
       "<g id=\"node4\" class=\"node\">\n",
       "<title>139879181532704</title>\n",
       "<polygon fill=\"none\" stroke=\"black\" points=\"77,-498.5 77,-544.5 385,-544.5 385,-498.5 77,-498.5\"/>\n",
       "<text text-anchor=\"middle\" x=\"133\" y=\"-517.8\" font-family=\"Times,serif\" font-size=\"14.00\">dense: Dense</text>\n",
       "<polyline fill=\"none\" stroke=\"black\" points=\"189,-498.5 189,-544.5 \"/>\n",
       "<text text-anchor=\"middle\" x=\"223\" y=\"-529.3\" font-family=\"Times,serif\" font-size=\"14.00\">input:</text>\n",
       "<polyline fill=\"none\" stroke=\"black\" points=\"189,-521.5 257,-521.5 \"/>\n",
       "<text text-anchor=\"middle\" x=\"223\" y=\"-506.3\" font-family=\"Times,serif\" font-size=\"14.00\">output:</text>\n",
       "<polyline fill=\"none\" stroke=\"black\" points=\"257,-498.5 257,-544.5 \"/>\n",
       "<text text-anchor=\"middle\" x=\"321\" y=\"-529.3\" font-family=\"Times,serif\" font-size=\"14.00\">(None, 500, 30)</text>\n",
       "<polyline fill=\"none\" stroke=\"black\" points=\"257,-521.5 385,-521.5 \"/>\n",
       "<text text-anchor=\"middle\" x=\"321\" y=\"-506.3\" font-family=\"Times,serif\" font-size=\"14.00\">(None, 500, 20)</text>\n",
       "</g>\n",
       "<!-- 139879172886784&#45;&gt;139879181532704 -->\n",
       "<g id=\"edge3\" class=\"edge\">\n",
       "<title>139879172886784-&gt;139879181532704</title>\n",
       "<path fill=\"none\" stroke=\"black\" d=\"M231,-581.37C231,-573.15 231,-563.66 231,-554.73\"/>\n",
       "<polygon fill=\"black\" stroke=\"black\" points=\"234.5,-554.61 231,-544.61 227.5,-554.61 234.5,-554.61\"/>\n",
       "</g>\n",
       "<!-- 139879181532608 -->\n",
       "<g id=\"node5\" class=\"node\">\n",
       "<title>139879181532608</title>\n",
       "<polygon fill=\"none\" stroke=\"black\" points=\"69,-415.5 69,-461.5 393,-461.5 393,-415.5 69,-415.5\"/>\n",
       "<text text-anchor=\"middle\" x=\"133\" y=\"-434.8\" font-family=\"Times,serif\" font-size=\"14.00\">dense_1: Dense</text>\n",
       "<polyline fill=\"none\" stroke=\"black\" points=\"197,-415.5 197,-461.5 \"/>\n",
       "<text text-anchor=\"middle\" x=\"231\" y=\"-446.3\" font-family=\"Times,serif\" font-size=\"14.00\">input:</text>\n",
       "<polyline fill=\"none\" stroke=\"black\" points=\"197,-438.5 265,-438.5 \"/>\n",
       "<text text-anchor=\"middle\" x=\"231\" y=\"-423.3\" font-family=\"Times,serif\" font-size=\"14.00\">output:</text>\n",
       "<polyline fill=\"none\" stroke=\"black\" points=\"265,-415.5 265,-461.5 \"/>\n",
       "<text text-anchor=\"middle\" x=\"329\" y=\"-446.3\" font-family=\"Times,serif\" font-size=\"14.00\">(None, 500, 20)</text>\n",
       "<polyline fill=\"none\" stroke=\"black\" points=\"265,-438.5 393,-438.5 \"/>\n",
       "<text text-anchor=\"middle\" x=\"329\" y=\"-423.3\" font-family=\"Times,serif\" font-size=\"14.00\">(None, 500, 10)</text>\n",
       "</g>\n",
       "<!-- 139879181532704&#45;&gt;139879181532608 -->\n",
       "<g id=\"edge4\" class=\"edge\">\n",
       "<title>139879181532704-&gt;139879181532608</title>\n",
       "<path fill=\"none\" stroke=\"black\" d=\"M231,-498.37C231,-490.15 231,-480.66 231,-471.73\"/>\n",
       "<polygon fill=\"black\" stroke=\"black\" points=\"234.5,-471.61 231,-461.61 227.5,-471.61 234.5,-471.61\"/>\n",
       "</g>\n",
       "<!-- 139879172666752 -->\n",
       "<g id=\"node6\" class=\"node\">\n",
       "<title>139879172666752</title>\n",
       "<polygon fill=\"none\" stroke=\"black\" points=\"65.5,-332.5 65.5,-378.5 396.5,-378.5 396.5,-332.5 65.5,-332.5\"/>\n",
       "<text text-anchor=\"middle\" x=\"133\" y=\"-351.8\" font-family=\"Times,serif\" font-size=\"14.00\">lambda: Lambda</text>\n",
       "<polyline fill=\"none\" stroke=\"black\" points=\"200.5,-332.5 200.5,-378.5 \"/>\n",
       "<text text-anchor=\"middle\" x=\"234.5\" y=\"-363.3\" font-family=\"Times,serif\" font-size=\"14.00\">input:</text>\n",
       "<polyline fill=\"none\" stroke=\"black\" points=\"200.5,-355.5 268.5,-355.5 \"/>\n",
       "<text text-anchor=\"middle\" x=\"234.5\" y=\"-340.3\" font-family=\"Times,serif\" font-size=\"14.00\">output:</text>\n",
       "<polyline fill=\"none\" stroke=\"black\" points=\"268.5,-332.5 268.5,-378.5 \"/>\n",
       "<text text-anchor=\"middle\" x=\"332.5\" y=\"-363.3\" font-family=\"Times,serif\" font-size=\"14.00\">(None, 500, 10)</text>\n",
       "<polyline fill=\"none\" stroke=\"black\" points=\"268.5,-355.5 396.5,-355.5 \"/>\n",
       "<text text-anchor=\"middle\" x=\"332.5\" y=\"-340.3\" font-family=\"Times,serif\" font-size=\"14.00\">(None, 10)</text>\n",
       "</g>\n",
       "<!-- 139879181532608&#45;&gt;139879172666752 -->\n",
       "<g id=\"edge5\" class=\"edge\">\n",
       "<title>139879181532608-&gt;139879172666752</title>\n",
       "<path fill=\"none\" stroke=\"black\" d=\"M231,-415.37C231,-407.15 231,-397.66 231,-388.73\"/>\n",
       "<polygon fill=\"black\" stroke=\"black\" points=\"234.5,-388.61 231,-378.61 227.5,-388.61 234.5,-388.61\"/>\n",
       "</g>\n",
       "<!-- 139879172282784 -->\n",
       "<g id=\"node7\" class=\"node\">\n",
       "<title>139879172282784</title>\n",
       "<polygon fill=\"none\" stroke=\"black\" points=\"87,-249.5 87,-295.5 375,-295.5 375,-249.5 87,-249.5\"/>\n",
       "<text text-anchor=\"middle\" x=\"151\" y=\"-268.8\" font-family=\"Times,serif\" font-size=\"14.00\">dense_2: Dense</text>\n",
       "<polyline fill=\"none\" stroke=\"black\" points=\"215,-249.5 215,-295.5 \"/>\n",
       "<text text-anchor=\"middle\" x=\"249\" y=\"-280.3\" font-family=\"Times,serif\" font-size=\"14.00\">input:</text>\n",
       "<polyline fill=\"none\" stroke=\"black\" points=\"215,-272.5 283,-272.5 \"/>\n",
       "<text text-anchor=\"middle\" x=\"249\" y=\"-257.3\" font-family=\"Times,serif\" font-size=\"14.00\">output:</text>\n",
       "<polyline fill=\"none\" stroke=\"black\" points=\"283,-249.5 283,-295.5 \"/>\n",
       "<text text-anchor=\"middle\" x=\"329\" y=\"-280.3\" font-family=\"Times,serif\" font-size=\"14.00\">(None, 10)</text>\n",
       "<polyline fill=\"none\" stroke=\"black\" points=\"283,-272.5 375,-272.5 \"/>\n",
       "<text text-anchor=\"middle\" x=\"329\" y=\"-257.3\" font-family=\"Times,serif\" font-size=\"14.00\">(None, 50)</text>\n",
       "</g>\n",
       "<!-- 139879172666752&#45;&gt;139879172282784 -->\n",
       "<g id=\"edge6\" class=\"edge\">\n",
       "<title>139879172666752-&gt;139879172282784</title>\n",
       "<path fill=\"none\" stroke=\"black\" d=\"M231,-332.37C231,-324.15 231,-314.66 231,-305.73\"/>\n",
       "<polygon fill=\"black\" stroke=\"black\" points=\"234.5,-305.61 231,-295.61 227.5,-305.61 234.5,-305.61\"/>\n",
       "</g>\n",
       "<!-- 139879172283696 -->\n",
       "<g id=\"node8\" class=\"node\">\n",
       "<title>139879172283696</title>\n",
       "<polygon fill=\"none\" stroke=\"black\" points=\"82.5,-166.5 82.5,-212.5 379.5,-212.5 379.5,-166.5 82.5,-166.5\"/>\n",
       "<text text-anchor=\"middle\" x=\"146.5\" y=\"-185.8\" font-family=\"Times,serif\" font-size=\"14.00\">dense_3: Dense</text>\n",
       "<polyline fill=\"none\" stroke=\"black\" points=\"210.5,-166.5 210.5,-212.5 \"/>\n",
       "<text text-anchor=\"middle\" x=\"244.5\" y=\"-197.3\" font-family=\"Times,serif\" font-size=\"14.00\">input:</text>\n",
       "<polyline fill=\"none\" stroke=\"black\" points=\"210.5,-189.5 278.5,-189.5 \"/>\n",
       "<text text-anchor=\"middle\" x=\"244.5\" y=\"-174.3\" font-family=\"Times,serif\" font-size=\"14.00\">output:</text>\n",
       "<polyline fill=\"none\" stroke=\"black\" points=\"278.5,-166.5 278.5,-212.5 \"/>\n",
       "<text text-anchor=\"middle\" x=\"329\" y=\"-197.3\" font-family=\"Times,serif\" font-size=\"14.00\">(None, 50)</text>\n",
       "<polyline fill=\"none\" stroke=\"black\" points=\"278.5,-189.5 379.5,-189.5 \"/>\n",
       "<text text-anchor=\"middle\" x=\"329\" y=\"-174.3\" font-family=\"Times,serif\" font-size=\"14.00\">(None, 100)</text>\n",
       "</g>\n",
       "<!-- 139879172282784&#45;&gt;139879172283696 -->\n",
       "<g id=\"edge7\" class=\"edge\">\n",
       "<title>139879172282784-&gt;139879172283696</title>\n",
       "<path fill=\"none\" stroke=\"black\" d=\"M231,-249.37C231,-241.15 231,-231.66 231,-222.73\"/>\n",
       "<polygon fill=\"black\" stroke=\"black\" points=\"234.5,-222.61 231,-212.61 227.5,-222.61 234.5,-222.61\"/>\n",
       "</g>\n",
       "<!-- 139879172280816 -->\n",
       "<g id=\"node9\" class=\"node\">\n",
       "<title>139879172280816</title>\n",
       "<polygon fill=\"none\" stroke=\"black\" points=\"82.5,-83.5 82.5,-129.5 379.5,-129.5 379.5,-83.5 82.5,-83.5\"/>\n",
       "<text text-anchor=\"middle\" x=\"146.5\" y=\"-102.8\" font-family=\"Times,serif\" font-size=\"14.00\">dense_4: Dense</text>\n",
       "<polyline fill=\"none\" stroke=\"black\" points=\"210.5,-83.5 210.5,-129.5 \"/>\n",
       "<text text-anchor=\"middle\" x=\"244.5\" y=\"-114.3\" font-family=\"Times,serif\" font-size=\"14.00\">input:</text>\n",
       "<polyline fill=\"none\" stroke=\"black\" points=\"210.5,-106.5 278.5,-106.5 \"/>\n",
       "<text text-anchor=\"middle\" x=\"244.5\" y=\"-91.3\" font-family=\"Times,serif\" font-size=\"14.00\">output:</text>\n",
       "<polyline fill=\"none\" stroke=\"black\" points=\"278.5,-83.5 278.5,-129.5 \"/>\n",
       "<text text-anchor=\"middle\" x=\"329\" y=\"-114.3\" font-family=\"Times,serif\" font-size=\"14.00\">(None, 100)</text>\n",
       "<polyline fill=\"none\" stroke=\"black\" points=\"278.5,-106.5 379.5,-106.5 \"/>\n",
       "<text text-anchor=\"middle\" x=\"329\" y=\"-91.3\" font-family=\"Times,serif\" font-size=\"14.00\">(None, 200)</text>\n",
       "</g>\n",
       "<!-- 139879172283696&#45;&gt;139879172280816 -->\n",
       "<g id=\"edge8\" class=\"edge\">\n",
       "<title>139879172283696-&gt;139879172280816</title>\n",
       "<path fill=\"none\" stroke=\"black\" d=\"M231,-166.37C231,-158.15 231,-148.66 231,-139.73\"/>\n",
       "<polygon fill=\"black\" stroke=\"black\" points=\"234.5,-139.61 231,-129.61 227.5,-139.61 234.5,-139.61\"/>\n",
       "</g>\n",
       "<!-- 139879172688672 -->\n",
       "<g id=\"node10\" class=\"node\">\n",
       "<title>139879172688672</title>\n",
       "<polygon fill=\"none\" stroke=\"black\" points=\"78,-0.5 78,-46.5 384,-46.5 384,-0.5 78,-0.5\"/>\n",
       "<text text-anchor=\"middle\" x=\"142\" y=\"-19.8\" font-family=\"Times,serif\" font-size=\"14.00\">dense_5: Dense</text>\n",
       "<polyline fill=\"none\" stroke=\"black\" points=\"206,-0.5 206,-46.5 \"/>\n",
       "<text text-anchor=\"middle\" x=\"240\" y=\"-31.3\" font-family=\"Times,serif\" font-size=\"14.00\">input:</text>\n",
       "<polyline fill=\"none\" stroke=\"black\" points=\"206,-23.5 274,-23.5 \"/>\n",
       "<text text-anchor=\"middle\" x=\"240\" y=\"-8.3\" font-family=\"Times,serif\" font-size=\"14.00\">output:</text>\n",
       "<polyline fill=\"none\" stroke=\"black\" points=\"274,-0.5 274,-46.5 \"/>\n",
       "<text text-anchor=\"middle\" x=\"329\" y=\"-31.3\" font-family=\"Times,serif\" font-size=\"14.00\">(None, 200)</text>\n",
       "<polyline fill=\"none\" stroke=\"black\" points=\"274,-23.5 384,-23.5 \"/>\n",
       "<text text-anchor=\"middle\" x=\"329\" y=\"-8.3\" font-family=\"Times,serif\" font-size=\"14.00\">(None, 2500)</text>\n",
       "</g>\n",
       "<!-- 139879172280816&#45;&gt;139879172688672 -->\n",
       "<g id=\"edge9\" class=\"edge\">\n",
       "<title>139879172280816-&gt;139879172688672</title>\n",
       "<path fill=\"none\" stroke=\"black\" d=\"M231,-83.37C231,-75.15 231,-65.66 231,-56.73\"/>\n",
       "<polygon fill=\"black\" stroke=\"black\" points=\"234.5,-56.61 231,-46.61 227.5,-56.61 234.5,-56.61\"/>\n",
       "</g>\n",
       "</g>\n",
       "</svg>"
      ],
      "text/plain": [
       "<IPython.core.display.SVG object>"
      ]
     },
     "execution_count": 8,
     "metadata": {},
     "output_type": "execute_result"
    }
   ],
   "source": [
    "model.summary()\n",
    "\n",
    "SVG(\n",
    "    tf.keras.utils.model_to_dot(model, show_shapes=True).create(prog='dot',\n",
    "                                                                format='svg'))\n",
    "                                                         \n",
    "#tf.keras.utils.plot_model(model,\n",
    "                          #to_file='Résultats/Résultats 2/model_multiple_circles.pdf',\n",
    "                          #show_shapes=True)"
   ]
  },
  {
   "cell_type": "markdown",
   "id": "a757a649",
   "metadata": {},
   "source": [
    "### Training the NN "
   ]
  },
  {
   "cell_type": "code",
   "execution_count": 25,
   "id": "08460984",
   "metadata": {
    "scrolled": true
   },
   "outputs": [
    {
     "name": "stdout",
     "output_type": "stream",
     "text": [
      "Epoch 1/50\n",
      "63/63 [==============================] - 1s 16ms/step - loss: 0.0016 - val_loss: 0.0017\n",
      "Epoch 2/50\n",
      "63/63 [==============================] - 1s 15ms/step - loss: 0.0015 - val_loss: 0.0019\n",
      "Epoch 3/50\n",
      "63/63 [==============================] - 1s 15ms/step - loss: 0.0014 - val_loss: 0.0024\n",
      "Epoch 4/50\n",
      "63/63 [==============================] - 1s 15ms/step - loss: 0.0015 - val_loss: 0.0018\n",
      "Epoch 5/50\n",
      "63/63 [==============================] - 1s 15ms/step - loss: 0.0014 - val_loss: 0.0019\n",
      "Epoch 6/50\n",
      "63/63 [==============================] - 1s 15ms/step - loss: 0.0013 - val_loss: 0.0016\n",
      "Epoch 7/50\n",
      "63/63 [==============================] - 1s 15ms/step - loss: 0.0013 - val_loss: 0.0027\n",
      "Epoch 8/50\n",
      "63/63 [==============================] - 1s 15ms/step - loss: 0.0013 - val_loss: 0.0014\n",
      "Epoch 9/50\n",
      "63/63 [==============================] - 1s 15ms/step - loss: 0.0012 - val_loss: 0.0016\n",
      "Epoch 10/50\n",
      "63/63 [==============================] - 1s 15ms/step - loss: 0.0011 - val_loss: 0.0023\n",
      "Epoch 11/50\n",
      "63/63 [==============================] - 1s 15ms/step - loss: 0.0012 - val_loss: 0.0017\n",
      "Epoch 12/50\n",
      "63/63 [==============================] - 1s 15ms/step - loss: 0.0012 - val_loss: 0.0014\n",
      "Epoch 13/50\n",
      "63/63 [==============================] - 1s 15ms/step - loss: 0.0012 - val_loss: 0.0013\n",
      "Epoch 14/50\n",
      "63/63 [==============================] - 1s 15ms/step - loss: 0.0011 - val_loss: 0.0013\n",
      "Epoch 15/50\n",
      "63/63 [==============================] - 1s 15ms/step - loss: 0.0011 - val_loss: 0.0020\n",
      "Epoch 16/50\n",
      "63/63 [==============================] - 1s 15ms/step - loss: 0.0010 - val_loss: 0.0017\n",
      "Epoch 17/50\n",
      "63/63 [==============================] - 1s 15ms/step - loss: 9.2769e-04 - val_loss: 8.1248e-04\n",
      "Epoch 18/50\n",
      "63/63 [==============================] - 1s 15ms/step - loss: 9.9855e-04 - val_loss: 9.2694e-04\n",
      "Epoch 19/50\n",
      "63/63 [==============================] - 1s 14ms/step - loss: 9.5861e-04 - val_loss: 0.0011\n",
      "Epoch 20/50\n",
      "63/63 [==============================] - 1s 15ms/step - loss: 9.0190e-04 - val_loss: 9.9202e-04\n",
      "Epoch 21/50\n",
      "63/63 [==============================] - 1s 15ms/step - loss: 9.5091e-04 - val_loss: 0.0012\n",
      "Epoch 22/50\n",
      "63/63 [==============================] - 1s 15ms/step - loss: 8.8298e-04 - val_loss: 0.0011\n",
      "Epoch 23/50\n",
      "63/63 [==============================] - 1s 15ms/step - loss: 8.7205e-04 - val_loss: 7.5726e-04\n",
      "Epoch 24/50\n",
      "63/63 [==============================] - 1s 15ms/step - loss: 8.7648e-04 - val_loss: 0.0013\n",
      "Epoch 25/50\n",
      "63/63 [==============================] - 1s 15ms/step - loss: 8.1730e-04 - val_loss: 7.0120e-04\n",
      "Epoch 26/50\n",
      "63/63 [==============================] - 1s 14ms/step - loss: 8.4705e-04 - val_loss: 6.7608e-04\n",
      "Epoch 27/50\n",
      "63/63 [==============================] - 1s 15ms/step - loss: 9.0580e-04 - val_loss: 0.0020\n",
      "Epoch 28/50\n",
      "63/63 [==============================] - 1s 15ms/step - loss: 9.5199e-04 - val_loss: 8.6709e-04\n",
      "Epoch 29/50\n",
      "63/63 [==============================] - 1s 15ms/step - loss: 7.7763e-04 - val_loss: 0.0011\n",
      "Epoch 30/50\n",
      "63/63 [==============================] - 1s 15ms/step - loss: 6.8733e-04 - val_loss: 0.0012\n",
      "Epoch 31/50\n",
      "63/63 [==============================] - 1s 15ms/step - loss: 7.3566e-04 - val_loss: 6.6357e-04\n",
      "Epoch 32/50\n",
      "63/63 [==============================] - 1s 15ms/step - loss: 7.5773e-04 - val_loss: 8.6795e-04\n",
      "Epoch 33/50\n",
      "63/63 [==============================] - 1s 15ms/step - loss: 7.1479e-04 - val_loss: 0.0010\n",
      "Epoch 34/50\n",
      "63/63 [==============================] - 1s 15ms/step - loss: 7.1255e-04 - val_loss: 0.0011\n",
      "Epoch 35/50\n",
      "63/63 [==============================] - 1s 15ms/step - loss: 6.5743e-04 - val_loss: 5.7671e-04\n",
      "Epoch 36/50\n",
      "63/63 [==============================] - 1s 15ms/step - loss: 6.3063e-04 - val_loss: 6.7539e-04\n",
      "Epoch 37/50\n",
      "63/63 [==============================] - 1s 15ms/step - loss: 7.0168e-04 - val_loss: 6.0611e-04\n",
      "Epoch 38/50\n",
      "63/63 [==============================] - 1s 14ms/step - loss: 6.3834e-04 - val_loss: 5.2734e-04\n",
      "Epoch 39/50\n",
      "63/63 [==============================] - 1s 15ms/step - loss: 6.3200e-04 - val_loss: 0.0018\n",
      "Epoch 40/50\n",
      "63/63 [==============================] - 1s 15ms/step - loss: 6.1738e-04 - val_loss: 0.0013\n",
      "Epoch 41/50\n",
      "63/63 [==============================] - 1s 14ms/step - loss: 5.7042e-04 - val_loss: 7.0576e-04\n",
      "Epoch 42/50\n",
      "63/63 [==============================] - 1s 15ms/step - loss: 6.3278e-04 - val_loss: 9.1302e-04\n",
      "Epoch 43/50\n",
      "63/63 [==============================] - 1s 15ms/step - loss: 5.6861e-04 - val_loss: 8.3799e-04\n",
      "Epoch 44/50\n",
      "63/63 [==============================] - 1s 15ms/step - loss: 6.0262e-04 - val_loss: 5.6742e-04\n",
      "Epoch 45/50\n",
      "63/63 [==============================] - 1s 15ms/step - loss: 5.6488e-04 - val_loss: 6.7247e-04\n",
      "Epoch 46/50\n",
      "63/63 [==============================] - 1s 14ms/step - loss: 5.6679e-04 - val_loss: 5.6865e-04\n",
      "Epoch 47/50\n",
      "63/63 [==============================] - 1s 15ms/step - loss: 6.1874e-04 - val_loss: 6.8287e-04\n",
      "Epoch 48/50\n",
      "63/63 [==============================] - 1s 15ms/step - loss: 5.2994e-04 - val_loss: 6.4062e-04\n",
      "Epoch 49/50\n",
      "63/63 [==============================] - 1s 15ms/step - loss: 5.4511e-04 - val_loss: 6.1268e-04\n",
      "Epoch 50/50\n",
      "63/63 [==============================] - 1s 15ms/step - loss: 5.4113e-04 - val_loss: 0.0013\n"
     ]
    }
   ],
   "source": [
    "history = model.fit(data_train,\n",
    "                    PI_train,\n",
    "                    epochs=50,\n",
    "                    validation_data=(data_test, PI_test))\n"
   ]
  },
  {
   "cell_type": "markdown",
   "id": "e81076d5",
   "metadata": {},
   "source": [
    "We can save the model"
   ]
  },
  {
   "cell_type": "code",
   "execution_count": 40,
   "id": "cc8060a3",
   "metadata": {
    "scrolled": true
   },
   "outputs": [
    {
     "name": "stdout",
     "output_type": "stream",
     "text": [
      "INFO:tensorflow:Assets written to: Saved_Model/model_torus/assets\n"
     ]
    }
   ],
   "source": [
    "model.save('Saved_Model/model_torus')"
   ]
  },
  {
   "cell_type": "markdown",
   "id": "f758228c",
   "metadata": {},
   "source": [
    "### Study the results to see how the training went "
   ]
  },
  {
   "cell_type": "code",
   "execution_count": 26,
   "id": "69ec82ae",
   "metadata": {
    "scrolled": false
   },
   "outputs": [],
   "source": [
    "prediction = model.predict(data_test)"
   ]
  },
  {
   "cell_type": "code",
   "execution_count": 57,
   "id": "4d278a13",
   "metadata": {},
   "outputs": [
    {
     "data": {
      "image/png": "[encoded data removed]",
      "text/plain": [
       "<Figure size 432x288 with 18 Axes>"
      ]
     },
     "metadata": {
      "needs_background": "light"
     },
     "output_type": "display_data"
    }
   ],
   "source": [
    "for i in range(9):\n",
    "    plt.subplot(3, 3, i + 1)\n",
    "    plt.imshow(np.flip(np.reshape(prediction[i], [PI_size, PI_size]), 0),\n",
    "               vmin=0,\n",
    "               vmax=1,\n",
    "               cmap='jet')\n",
    "    plt.colorbar()\n",
    "\n",
    "plt.suptitle('The corresponding predicted PI')    \n",
    "#plt.savefig(\"Résultats/Résultats 4/torus_pred.pdf\")"
   ]
  },
  {
   "cell_type": "code",
   "execution_count": 58,
   "id": "e4a3f593",
   "metadata": {},
   "outputs": [
    {
     "data": {
      "image/png": "[encoded data removed]",
      "text/plain": [
       "<Figure size 432x288 with 18 Axes>"
      ]
     },
     "metadata": {
      "needs_background": "light"
     },
     "output_type": "display_data"
    }
   ],
   "source": [
    "for i in range(9):\n",
    "    plt.subplot(3, 3, i + 1)\n",
    "    plt.imshow(np.flip(np.reshape(PI_test[i], [PI_size, PI_size]), 0),\n",
    "               vmin=0,\n",
    "               vmax=1,\n",
    "               cmap='jet')\n",
    "    plt.colorbar()\n",
    "    \n",
    "plt.suptitle('The corresponding true PI')    \n",
    "#plt.savefig(\"Résultats/Résultats 4/torus_true.pdf\")"
   ]
  },
  {
   "cell_type": "code",
   "execution_count": 30,
   "id": "8259569a",
   "metadata": {},
   "outputs": [
    {
     "data": {
      "image/png": "[encoded data removed]",
      "text/plain": [
       "<Figure size 432x288 with 9 Axes>"
      ]
     },
     "metadata": {
      "needs_background": "light"
     },
     "output_type": "display_data"
    }
   ],
   "source": [
    "fig = plt.figure()\n",
    "\n",
    "for i in range(9):\n",
    "    ax = fig.add_subplot(3, 3, i+1, projection='3d')\n",
    "    ax.scatter3D(data_test[i,:,0], data_test[i,:,1], data_test[i,:,2],c='red',s=1)\n",
    "    #plt.xlim(-1,1)\n",
    "    #plt.ylim(-1,1)\n",
    "    #ax.set_zlim(-1,1)\n",
    "    \n",
    "plt.suptitle('The corresponding point clouds')    \n",
    "#plt.savefig(\"Résultats/Résultats 3/simple_spheres.pdf\")"
   ]
  },
  {
   "cell_type": "markdown",
   "id": "ff94042a",
   "metadata": {},
   "source": [
    "### Plot of the evolution of the loss"
   ]
  },
  {
   "cell_type": "code",
   "execution_count": 20,
   "id": "29e02166",
   "metadata": {
    "scrolled": true
   },
   "outputs": [
    {
     "name": "stdout",
     "output_type": "stream",
     "text": [
      "32/32 [==============================] - 0s 3ms/step - loss: 0.0036\n"
     ]
    }
   ],
   "source": [
    "loss = model.evaluate(data_test, PI_test, verbose=1)"
   ]
  },
  {
   "cell_type": "code",
   "execution_count": 31,
   "id": "339836de",
   "metadata": {},
   "outputs": [
    {
     "data": {
      "image/png": "[encoded data removed]",
      "text/plain": [
       "<Figure size 432x288 with 1 Axes>"
      ]
     },
     "metadata": {
      "needs_background": "light"
     },
     "output_type": "display_data"
    }
   ],
   "source": [
    "history_dict = history.history\n",
    "\n",
    "loss = history_dict['loss']\n",
    "val_loss = history_dict['val_loss']\n",
    "\n",
    "\n",
    "epochs = range(1, len(loss) + 1)\n",
    "\n",
    "# \"bo\" is for \"blue dot\"\n",
    "plt.plot(epochs[:], loss[:], 'bo', label='Training loss')\n",
    "# b is for \"solid blue line\"\n",
    "plt.plot(epochs[:], val_loss[:], 'b', label='Validation loss')\n",
    "plt.title('Training and validation loss')\n",
    "plt.xlabel('Epochs')\n",
    "plt.ylabel('Loss')\n",
    "plt.legend()\n",
    "\n",
    "#plt.savefig(\"Résultats/Résultats 2/training_loss.pdf\")\n",
    "plt.show()"
   ]
  },
  {
   "cell_type": "markdown",
   "id": "9f826869",
   "metadata": {},
   "source": [
    "---"
   ]
  },
  {
   "cell_type": "markdown",
   "id": "4e4d6ed5",
   "metadata": {},
   "source": [
    "## We can compute the MMD of the predited PIs"
   ]
  },
  {
   "cell_type": "code",
   "execution_count": 4,
   "id": "e8f3fe74",
   "metadata": {},
   "outputs": [],
   "source": [
    "#In this file is the function that computes the MMD statistic\n",
    "import MMD"
   ]
  },
  {
   "cell_type": "code",
   "execution_count": 46,
   "id": "a05eac45",
   "metadata": {},
   "outputs": [],
   "source": [
    "def create_torus(N_points, r, R):\n",
    "    X = np.zeros((N_points, 3))\n",
    "    for i in range(N_points):\n",
    "        theta = np.random.random() * 2 * np.pi\n",
    "        phi = np.random.random() * 2 * np.pi\n",
    "        X[i, 0] = (R + r * np.cos(theta)) * np.cos(phi)\n",
    "        X[i, 1] = (R + r * np.cos(theta)) * np.sin(phi)\n",
    "        X[i, 2] = r * np.sin(theta)\n",
    "        #X[i] = [x,y,z]\n",
    "    return np.array(X)\n"
   ]
  },
  {
   "cell_type": "markdown",
   "id": "c8d1112f",
   "metadata": {},
   "source": [
    "We first generate new data"
   ]
  },
  {
   "cell_type": "code",
   "execution_count": 47,
   "id": "687c40b5",
   "metadata": {},
   "outputs": [
    {
     "name": "stderr",
     "output_type": "stream",
     "text": [
      "Generating dataset : 100%|██████████| 100/100 [00:00<00:00, 320.99it/s]\n"
     ]
    }
   ],
   "source": [
    "data_test = np.zeros((100,N_points,3))\n",
    "r_test = np.zeros((100,))\n",
    "\n",
    "for i in tqdm(range(100), desc='Generating dataset : '):\n",
    "    R = np.random.uniform(4, 6)\n",
    "    r = np.random.uniform(R / 2, (R + 1) / 2)\n",
    "    data_test[i] = create_torus(N_points, r, R)\n"
   ]
  },
  {
   "cell_type": "markdown",
   "id": "690199ab",
   "metadata": {},
   "source": [
    "Compute their real PIs"
   ]
  },
  {
   "cell_type": "code",
   "execution_count": 48,
   "id": "6f971def",
   "metadata": {},
   "outputs": [],
   "source": [
    "PI_true = np.zeros((100,PI_size*PI_size))\n",
    "\n",
    "PI = gd.representations.PersistenceImage(bandwidth=4e-1,\n",
    "                                         weight=lambda x: x[1]**2,\n",
    "                                         resolution=[PI_size, PI_size],\n",
    "                                         im_range=[0, 2.5, 0, 15])\n",
    "\n",
    "for i in range(100):\n",
    "    rcX = gd.AlphaComplex(points=data_test[i]).create_simplex_tree()\n",
    "    dgmX = rcX.persistence()\n",
    "\n",
    "    pi = PI.fit_transform([rcX.persistence_intervals_in_dimension(1)])\n",
    "    PI_true[i] = pi[0]\n",
    "PI_true /= np.max(PI_true)"
   ]
  },
  {
   "cell_type": "markdown",
   "id": "ad9dc749",
   "metadata": {},
   "source": [
    "Compute their predited PIs using our NN"
   ]
  },
  {
   "cell_type": "code",
   "execution_count": 49,
   "id": "96c594e9",
   "metadata": {},
   "outputs": [],
   "source": [
    "PI_test_NN = model.predict(data_test)"
   ]
  },
  {
   "cell_type": "markdown",
   "id": "1902b3c3",
   "metadata": {},
   "source": [
    "This is the fonction that computes the p-value of the MMD test using a permutation test. "
   ]
  },
  {
   "cell_type": "code",
   "execution_count": 38,
   "id": "29a1b1a0",
   "metadata": {},
   "outputs": [],
   "source": [
    "def compute_pvalue(X, Y, n_permut, verbose):\n",
    "    from scipy.spatial.distance import pdist\n",
    "    import numpy as np\n",
    "    import matplotlib.pyplot as plt\n",
    "    sigma = np.median(pdist(np.concatenate((X, Y)))) / 2\n",
    "\n",
    "    our_mmd = MMD.compute_mmd(X, Y, sigma)\n",
    "    both_distrib = np.concatenate((X, Y))\n",
    "    mmds = []\n",
    "    if verbose == 1:\n",
    "        print(\"True MMD = \", our_mmd)\n",
    "\n",
    "        for i in tqdm(range(n_permut)):\n",
    "            xy = np.random.permutation(both_distrib)\n",
    "            mmds.append(MMD.compute_mmd(xy[X.shape[0]:], xy[:X.shape[0]], sigma))\n",
    "        mmds = np.array(mmds)\n",
    "        plt.hist(mmds, bins=20)\n",
    "    else:\n",
    "        for i in range(n_permut):\n",
    "            xy = np.random.permutation(both_distrib)\n",
    "            mmds.append(MMD.compute_mmd(xy[X.shape[0]:], xy[:X.shape[0]], sigma))\n",
    "        mmds = np.array(mmds)\n",
    "    return (our_mmd < mmds).mean()"
   ]
  },
  {
   "cell_type": "code",
   "execution_count": 51,
   "id": "164c34f4",
   "metadata": {},
   "outputs": [
    {
     "name": "stderr",
     "output_type": "stream",
     "text": [
      "  2%|▏         | 20/1000 [00:00<00:04, 197.90it/s]"
     ]
    },
    {
     "name": "stdout",
     "output_type": "stream",
     "text": [
      "True MMD =  0.20280448969694953\n"
     ]
    },
    {
     "name": "stderr",
     "output_type": "stream",
     "text": [
      "100%|██████████| 1000/1000 [00:05<00:00, 193.51it/s]\n"
     ]
    },
    {
     "data": {
      "text/plain": [
       "0.999"
      ]
     },
     "execution_count": 51,
     "metadata": {},
     "output_type": "execute_result"
    },
    {
     "data": {
      "image/png": "[encoded data removed]",
      "text/plain": [
       "<Figure size 432x288 with 1 Axes>"
      ]
     },
     "metadata": {
      "needs_background": "light"
     },
     "output_type": "display_data"
    }
   ],
   "source": [
    "compute_pvalue(PI_test_NN,PI_true/np.max(PI_true),1000,1)"
   ]
  },
  {
   "cell_type": "markdown",
   "id": "5e653ed1",
   "metadata": {},
   "source": [
    "The p-value is 0.999"
   ]
  },
  {
   "cell_type": "markdown",
   "id": "768de145",
   "metadata": {},
   "source": [
    "### We can also do the Kolmogorov-Smirnov test on each pixel\n"
   ]
  },
  {
   "cell_type": "markdown",
   "id": "2de6b3de",
   "metadata": {},
   "source": [
    "We test if the PI computed with the NN and the PI computed with Gudhi have the same pixel distribution. \n",
    "$$(H_0) : \\mathcal{D}_{\\text{NN}} = \\mathcal{D}_{\\text{Gudhi}}$$\n",
    "We use for that the Kolmogorov-Smirnov test on each pixels to see the pixels that don't have the same distribution"
   ]
  },
  {
   "cell_type": "code",
   "execution_count": 41,
   "id": "942279f2",
   "metadata": {},
   "outputs": [],
   "source": [
    "from scipy.stats import ks_2samp"
   ]
  },
  {
   "cell_type": "markdown",
   "id": "793a6b18",
   "metadata": {},
   "source": [
    "We compute the p-value of the KS test for each pixel "
   ]
  },
  {
   "cell_type": "code",
   "execution_count": 52,
   "id": "a17f0302",
   "metadata": {},
   "outputs": [],
   "source": [
    "p_value_ks = np.zeros(PI_test_NN[0].shape)\n",
    "for i in range(len(p_value_ks)):\n",
    "    p_value_ks[i] = ks_2samp(PI_test_NN[:, i], PI_true[:, i])[0]"
   ]
  },
  {
   "cell_type": "markdown",
   "id": "f889a739",
   "metadata": {},
   "source": [
    "We plot the heatmap of these p-values"
   ]
  },
  {
   "cell_type": "code",
   "execution_count": 56,
   "id": "c1f46067",
   "metadata": {},
   "outputs": [
    {
     "data": {
      "image/png": "[encoded data removed]",
      "text/plain": [
       "<Figure size 432x288 with 2 Axes>"
      ]
     },
     "metadata": {
      "needs_background": "light"
     },
     "output_type": "display_data"
    }
   ],
   "source": [
    "plt.imshow(np.flip(np.reshape(p_value_ks, [PI_size, PI_size]), 0),\n",
    "           vmin=0,\n",
    "           vmax=1,\n",
    "           cmap='gist_rainbow')\n",
    "plt.colorbar()\n",
    "plt.title(\"Heatmap of the p-values of the KS test on each pixels\")\n",
    "\n",
    "#plt.savefig(\"Résultats/Résultats 4/heatmap_p_value_test_ks_torus.pdf\")"
   ]
  }
 ],
 "metadata": {
  "kernelspec": {
   "display_name": "Python 3 (ipykernel)",
   "language": "python",
   "name": "python3"
  },
  "language_info": {
   "codemirror_mode": {
    "name": "ipython",
    "version": 3
   },
   "file_extension": ".py",
   "mimetype": "text/x-python",
   "name": "python",
   "nbconvert_exporter": "python",
   "pygments_lexer": "ipython3",
   "version": "3.8.10"
  }
 },
 "nbformat": 4,
 "nbformat_minor": 5
}
