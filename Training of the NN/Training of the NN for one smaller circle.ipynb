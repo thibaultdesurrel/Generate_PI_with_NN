{
 "cells": [
  {
   "cell_type": "markdown",
   "id": "87e76a08",
   "metadata": {},
   "source": [
    "# Training of the NN for one smaller circle"
   ]
  },
  {
   "cell_type": "markdown",
   "id": "62973446",
   "metadata": {},
   "source": [
    "This notebook is the definition and the training of the NN that predicts PI for the multiple circles dataset"
   ]
  },
  {
   "cell_type": "code",
   "execution_count": null,
   "id": "edd65fd7",
   "metadata": {},
   "outputs": [],
   "source": [
    "import matplotlib.pyplot as plt\n",
    "import numpy as np\n",
    "\n",
    "import tensorflow as tf\n",
    "from IPython.display import SVG\n",
    "\n",
    "import gudhi as gd\n",
    "import gudhi.representations\n",
    "\n",
    "from tqdm import tqdm\n",
    "import os"
   ]
  },
  {
   "cell_type": "markdown",
   "id": "8b5b74f0",
   "metadata": {},
   "source": [
    "### Load the data"
   ]
  },
  {
   "cell_type": "code",
   "execution_count": 2,
   "id": "136617d9",
   "metadata": {},
   "outputs": [],
   "source": [
    "#data = np.load('data/PI_data_multiple_circle.npz')\n",
    "data = np.load('data/PI_data_smaller_circle.npz')\n",
    "\n",
    "data_train = data[\"data_train\"]\n",
    "PI_train = data[\"PI_train\"]\n",
    "data_test = data[\"data_test\"]\n",
    "PI_test = data[\"PI_test\"]"
   ]
  },
  {
   "cell_type": "code",
   "execution_count": 3,
   "id": "4ebe6050",
   "metadata": {},
   "outputs": [],
   "source": [
    "N_sets_train = data_train.shape[0]\n",
    "N_sets_test = data_test.shape[0]\n",
    "N_points = data_train.shape[1]\n",
    "PI_size = int(np.sqrt(PI_train.shape[1]))\n",
    "dim = 2"
   ]
  },
  {
   "cell_type": "code",
   "execution_count": 4,
   "id": "97654626",
   "metadata": {},
   "outputs": [
    {
     "name": "stdout",
     "output_type": "stream",
     "text": [
      "N_sets_train :  1000\n",
      "N_sets_test :  100\n",
      "N_points :  500\n",
      "PI_size :  50\n"
     ]
    }
   ],
   "source": [
    "print(\"N_sets_train : \", N_sets_train)\n",
    "print(\"N_sets_test : \", N_sets_test)\n",
    "print(\"N_points : \", N_points)\n",
    "print(\"PI_size : \", PI_size)"
   ]
  },
  {
   "cell_type": "markdown",
   "id": "36e63f83",
   "metadata": {},
   "source": [
    "We normalize the PIs"
   ]
  },
  {
   "cell_type": "code",
   "execution_count": 5,
   "id": "2fd51477",
   "metadata": {},
   "outputs": [],
   "source": [
    "PI_train /= max(np.max(PI_train), np.max(PI_test))\n",
    "PI_test /= max(np.max(PI_test), np.max(PI_test))"
   ]
  },
  {
   "cell_type": "markdown",
   "id": "8c07647a",
   "metadata": {},
   "source": [
    "### Definition of the NN"
   ]
  },
  {
   "cell_type": "code",
   "execution_count": 6,
   "id": "57932e4a",
   "metadata": {},
   "outputs": [],
   "source": [
    "class FullyConnected2(tf.keras.layers.Layer):\n",
    "    def __init__(self, N_input, N_output):\n",
    "        super(FullyConnected2, self).__init__()\n",
    "        self.gamma = self.add_weight(name='gamma',\n",
    "                                     shape=(N_input, N_output),\n",
    "                                     initializer=\"random_normal\",\n",
    "                                     trainable=True)\n",
    "\n",
    "    def call(self, inputs):\n",
    "        return tf.einsum(\"ijk,kl->ijl\", inputs, self.gamma)"
   ]
  },
  {
   "cell_type": "code",
   "execution_count": 11,
   "id": "e6406ec5",
   "metadata": {},
   "outputs": [],
   "source": [
    "#V2\n",
    "\n",
    "inputs = tf.keras.Input(shape=(N_points, dim))\n",
    "\n",
    "FC_layer_2_30 = FullyConnected2(dim, 30)\n",
    "x = FC_layer_2_30(inputs)\n",
    "x = tf.keras.activations.relu(x)\n",
    "\n",
    "x = tf.keras.layers.Dense(20, activation='relu')(x)\n",
    "\n",
    "\n",
    "x = tf.keras.layers.Dense(10, activation='relu')(x)\n",
    "\n",
    "\n",
    "Adder = tf.keras.layers.Lambda(lambda x: tf.math.reduce_max(x, axis=1),\n",
    "                               output_shape=(lambda shape:\n",
    "                                             (shape[0], shape[2])))\n",
    "x = Adder(x)\n",
    "\n",
    "x = tf.keras.layers.Dense(25, activation='relu')(x)\n",
    "\n",
    "x = tf.keras.layers.Dense(50, activation='relu')(x)\n",
    "\n",
    "x = tf.keras.layers.Dense(100, activation='relu')(x)\n",
    "\n",
    "x = tf.keras.layers.Dense(200, activation='relu')(x)\n",
    "\n",
    "outputs = tf.keras.layers.Dense(PI_size * PI_size, activation='sigmoid')(x)\n",
    "model = tf.keras.Model(inputs=inputs, outputs=outputs)\n",
    "adam = tf.keras.optimizers.Nadam(learning_rate=5e-3)  #5e-3 learning_rate optimal d'après moi\n",
    "model.compile(optimizer=adam, loss=\"mse\")  #contrastive_loss"
   ]
  },
  {
   "cell_type": "code",
   "execution_count": 197,
   "id": "6b246a35",
   "metadata": {
    "collapsed": true
   },
   "outputs": [
    {
     "name": "stdout",
     "output_type": "stream",
     "text": [
      "Model: \"model_35\"\n",
      "_________________________________________________________________\n",
      "Layer (type)                 Output Shape              Param #   \n",
      "=================================================================\n",
      "input_37 (InputLayer)        [(None, 600, 2)]          0         \n",
      "_________________________________________________________________\n",
      "fully_connected2_35 (FullyCo (None, 600, 30)           60        \n",
      "_________________________________________________________________\n",
      "tf.nn.relu_43 (TFOpLambda)   (None, 600, 30)           0         \n",
      "_________________________________________________________________\n",
      "dense_188 (Dense)            (None, 600, 20)           620       \n",
      "_________________________________________________________________\n",
      "dense_189 (Dense)            (None, 600, 10)           210       \n",
      "_________________________________________________________________\n",
      "lambda_35 (Lambda)           (None, 10)                0         \n",
      "_________________________________________________________________\n",
      "dense_190 (Dense)            (None, 50)                550       \n",
      "_________________________________________________________________\n",
      "dense_191 (Dense)            (None, 100)               5100      \n",
      "_________________________________________________________________\n",
      "dense_192 (Dense)            (None, 200)               20200     \n",
      "_________________________________________________________________\n",
      "dense_193 (Dense)            (None, 2500)              502500    \n",
      "=================================================================\n",
      "Total params: 529,240\n",
      "Trainable params: 529,240\n",
      "Non-trainable params: 0\n",
      "_________________________________________________________________\n"
     ]
    }
   ],
   "source": [
    "model.summary()\n",
    "\n",
    "SVG(\n",
    "    tf.keras.utils.model_to_dot(model, show_shapes=True).create(prog='dot',\n",
    "                                                                format='svg'))\n",
    "                                                         \n",
    "#tf.keras.utils.plot_model(model,\n",
    "#                          to_file='Résultats/Résultats 2/model_multiple_circles.pdf',\n",
    "#                          show_shapes=True)"
   ]
  },
  {
   "cell_type": "markdown",
   "id": "a757a649",
   "metadata": {},
   "source": [
    "### Training the NN "
   ]
  },
  {
   "cell_type": "code",
   "execution_count": 12,
   "id": "08460984",
   "metadata": {
    "scrolled": true
   },
   "outputs": [
    {
     "name": "stdout",
     "output_type": "stream",
     "text": [
      "Epoch 1/100\n",
      "32/32 [==============================] - 2s 22ms/step - loss: 0.0485 - val_loss: 0.0037\n",
      "Epoch 2/100\n",
      "32/32 [==============================] - 0s 14ms/step - loss: 0.0033 - val_loss: 0.0037\n",
      "Epoch 3/100\n",
      "32/32 [==============================] - 0s 14ms/step - loss: 0.0033 - val_loss: 0.0037\n",
      "Epoch 4/100\n",
      "32/32 [==============================] - 0s 15ms/step - loss: 0.0033 - val_loss: 0.0037\n",
      "Epoch 5/100\n",
      "32/32 [==============================] - 1s 16ms/step - loss: 0.0033 - val_loss: 0.0037\n",
      "Epoch 6/100\n",
      "32/32 [==============================] - 1s 16ms/step - loss: 0.0033 - val_loss: 0.0037\n",
      "Epoch 7/100\n",
      "32/32 [==============================] - 1s 16ms/step - loss: 0.0033 - val_loss: 0.0037\n",
      "Epoch 8/100\n",
      " 1/32 [..............................] - ETA: 0s - loss: 0.0024"
     ]
    },
    {
     "ename": "KeyboardInterrupt",
     "evalue": "",
     "output_type": "error",
     "traceback": [
      "\u001b[0;31m---------------------------------------------------------------------------\u001b[0m",
      "\u001b[0;31mKeyboardInterrupt\u001b[0m                         Traceback (most recent call last)",
      "\u001b[0;32m<ipython-input-12-1d3be1972a9d>\u001b[0m in \u001b[0;36m<module>\u001b[0;34m\u001b[0m\n\u001b[1;32m      6\u001b[0m \u001b[0;31m#save_weights_only=True,\u001b[0m\u001b[0;34m\u001b[0m\u001b[0;34m\u001b[0m\u001b[0;34m\u001b[0m\u001b[0m\n\u001b[1;32m      7\u001b[0m \u001b[0;31m#verbose=1)\u001b[0m\u001b[0;34m\u001b[0m\u001b[0;34m\u001b[0m\u001b[0;34m\u001b[0m\u001b[0m\n\u001b[0;32m----> 8\u001b[0;31m history = model.fit(data_train[:1000],\n\u001b[0m\u001b[1;32m      9\u001b[0m                     \u001b[0mPI_train\u001b[0m\u001b[0;34m[\u001b[0m\u001b[0;34m:\u001b[0m\u001b[0;36m1000\u001b[0m\u001b[0;34m]\u001b[0m\u001b[0;34m,\u001b[0m\u001b[0;34m\u001b[0m\u001b[0;34m\u001b[0m\u001b[0m\n\u001b[1;32m     10\u001b[0m                     \u001b[0mepochs\u001b[0m\u001b[0;34m=\u001b[0m\u001b[0;36m100\u001b[0m\u001b[0;34m,\u001b[0m\u001b[0;34m\u001b[0m\u001b[0;34m\u001b[0m\u001b[0m\n",
      "\u001b[0;32m~/.local/lib/python3.8/site-packages/tensorflow/python/keras/engine/training.py\u001b[0m in \u001b[0;36mfit\u001b[0;34m(self, x, y, batch_size, epochs, verbose, callbacks, validation_split, validation_data, shuffle, class_weight, sample_weight, initial_epoch, steps_per_epoch, validation_steps, validation_batch_size, validation_freq, max_queue_size, workers, use_multiprocessing)\u001b[0m\n\u001b[1;32m   1186\u001b[0m               \u001b[0mlogs\u001b[0m \u001b[0;34m=\u001b[0m \u001b[0mtmp_logs\u001b[0m  \u001b[0;31m# No error, now safe to assign to logs.\u001b[0m\u001b[0;34m\u001b[0m\u001b[0;34m\u001b[0m\u001b[0m\n\u001b[1;32m   1187\u001b[0m               \u001b[0mend_step\u001b[0m \u001b[0;34m=\u001b[0m \u001b[0mstep\u001b[0m \u001b[0;34m+\u001b[0m \u001b[0mdata_handler\u001b[0m\u001b[0;34m.\u001b[0m\u001b[0mstep_increment\u001b[0m\u001b[0;34m\u001b[0m\u001b[0;34m\u001b[0m\u001b[0m\n\u001b[0;32m-> 1188\u001b[0;31m               \u001b[0mcallbacks\u001b[0m\u001b[0;34m.\u001b[0m\u001b[0mon_train_batch_end\u001b[0m\u001b[0;34m(\u001b[0m\u001b[0mend_step\u001b[0m\u001b[0;34m,\u001b[0m \u001b[0mlogs\u001b[0m\u001b[0;34m)\u001b[0m\u001b[0;34m\u001b[0m\u001b[0;34m\u001b[0m\u001b[0m\n\u001b[0m\u001b[1;32m   1189\u001b[0m               \u001b[0;32mif\u001b[0m \u001b[0mself\u001b[0m\u001b[0;34m.\u001b[0m\u001b[0mstop_training\u001b[0m\u001b[0;34m:\u001b[0m\u001b[0;34m\u001b[0m\u001b[0;34m\u001b[0m\u001b[0m\n\u001b[1;32m   1190\u001b[0m                 \u001b[0;32mbreak\u001b[0m\u001b[0;34m\u001b[0m\u001b[0;34m\u001b[0m\u001b[0m\n",
      "\u001b[0;32m~/.local/lib/python3.8/site-packages/tensorflow/python/keras/callbacks.py\u001b[0m in \u001b[0;36mon_train_batch_end\u001b[0;34m(self, batch, logs)\u001b[0m\n\u001b[1;32m    455\u001b[0m     \"\"\"\n\u001b[1;32m    456\u001b[0m     \u001b[0;32mif\u001b[0m \u001b[0mself\u001b[0m\u001b[0;34m.\u001b[0m\u001b[0m_should_call_train_batch_hooks\u001b[0m\u001b[0;34m:\u001b[0m\u001b[0;34m\u001b[0m\u001b[0;34m\u001b[0m\u001b[0m\n\u001b[0;32m--> 457\u001b[0;31m       \u001b[0mself\u001b[0m\u001b[0;34m.\u001b[0m\u001b[0m_call_batch_hook\u001b[0m\u001b[0;34m(\u001b[0m\u001b[0mModeKeys\u001b[0m\u001b[0;34m.\u001b[0m\u001b[0mTRAIN\u001b[0m\u001b[0;34m,\u001b[0m \u001b[0;34m'end'\u001b[0m\u001b[0;34m,\u001b[0m \u001b[0mbatch\u001b[0m\u001b[0;34m,\u001b[0m \u001b[0mlogs\u001b[0m\u001b[0;34m=\u001b[0m\u001b[0mlogs\u001b[0m\u001b[0;34m)\u001b[0m\u001b[0;34m\u001b[0m\u001b[0;34m\u001b[0m\u001b[0m\n\u001b[0m\u001b[1;32m    458\u001b[0m \u001b[0;34m\u001b[0m\u001b[0m\n\u001b[1;32m    459\u001b[0m   \u001b[0;32mdef\u001b[0m \u001b[0mon_test_batch_begin\u001b[0m\u001b[0;34m(\u001b[0m\u001b[0mself\u001b[0m\u001b[0;34m,\u001b[0m \u001b[0mbatch\u001b[0m\u001b[0;34m,\u001b[0m \u001b[0mlogs\u001b[0m\u001b[0;34m=\u001b[0m\u001b[0;32mNone\u001b[0m\u001b[0;34m)\u001b[0m\u001b[0;34m:\u001b[0m\u001b[0;34m\u001b[0m\u001b[0;34m\u001b[0m\u001b[0m\n",
      "\u001b[0;32m~/.local/lib/python3.8/site-packages/tensorflow/python/keras/callbacks.py\u001b[0m in \u001b[0;36m_call_batch_hook\u001b[0;34m(self, mode, hook, batch, logs)\u001b[0m\n\u001b[1;32m    315\u001b[0m       \u001b[0mself\u001b[0m\u001b[0;34m.\u001b[0m\u001b[0m_call_batch_begin_hook\u001b[0m\u001b[0;34m(\u001b[0m\u001b[0mmode\u001b[0m\u001b[0;34m,\u001b[0m \u001b[0mbatch\u001b[0m\u001b[0;34m,\u001b[0m \u001b[0mlogs\u001b[0m\u001b[0;34m)\u001b[0m\u001b[0;34m\u001b[0m\u001b[0;34m\u001b[0m\u001b[0m\n\u001b[1;32m    316\u001b[0m     \u001b[0;32melif\u001b[0m \u001b[0mhook\u001b[0m \u001b[0;34m==\u001b[0m \u001b[0;34m'end'\u001b[0m\u001b[0;34m:\u001b[0m\u001b[0;34m\u001b[0m\u001b[0;34m\u001b[0m\u001b[0m\n\u001b[0;32m--> 317\u001b[0;31m       \u001b[0mself\u001b[0m\u001b[0;34m.\u001b[0m\u001b[0m_call_batch_end_hook\u001b[0m\u001b[0;34m(\u001b[0m\u001b[0mmode\u001b[0m\u001b[0;34m,\u001b[0m \u001b[0mbatch\u001b[0m\u001b[0;34m,\u001b[0m \u001b[0mlogs\u001b[0m\u001b[0;34m)\u001b[0m\u001b[0;34m\u001b[0m\u001b[0;34m\u001b[0m\u001b[0m\n\u001b[0m\u001b[1;32m    318\u001b[0m     \u001b[0;32melse\u001b[0m\u001b[0;34m:\u001b[0m\u001b[0;34m\u001b[0m\u001b[0;34m\u001b[0m\u001b[0m\n\u001b[1;32m    319\u001b[0m       \u001b[0;32mraise\u001b[0m \u001b[0mValueError\u001b[0m\u001b[0;34m(\u001b[0m\u001b[0;34m'Unrecognized hook: {}'\u001b[0m\u001b[0;34m.\u001b[0m\u001b[0mformat\u001b[0m\u001b[0;34m(\u001b[0m\u001b[0mhook\u001b[0m\u001b[0;34m)\u001b[0m\u001b[0;34m)\u001b[0m\u001b[0;34m\u001b[0m\u001b[0;34m\u001b[0m\u001b[0m\n",
      "\u001b[0;32m~/.local/lib/python3.8/site-packages/tensorflow/python/keras/callbacks.py\u001b[0m in \u001b[0;36m_call_batch_end_hook\u001b[0;34m(self, mode, batch, logs)\u001b[0m\n\u001b[1;32m    335\u001b[0m       \u001b[0mself\u001b[0m\u001b[0;34m.\u001b[0m\u001b[0m_batch_times\u001b[0m\u001b[0;34m.\u001b[0m\u001b[0mappend\u001b[0m\u001b[0;34m(\u001b[0m\u001b[0mbatch_time\u001b[0m\u001b[0;34m)\u001b[0m\u001b[0;34m\u001b[0m\u001b[0;34m\u001b[0m\u001b[0m\n\u001b[1;32m    336\u001b[0m \u001b[0;34m\u001b[0m\u001b[0m\n\u001b[0;32m--> 337\u001b[0;31m     \u001b[0mself\u001b[0m\u001b[0;34m.\u001b[0m\u001b[0m_call_batch_hook_helper\u001b[0m\u001b[0;34m(\u001b[0m\u001b[0mhook_name\u001b[0m\u001b[0;34m,\u001b[0m \u001b[0mbatch\u001b[0m\u001b[0;34m,\u001b[0m \u001b[0mlogs\u001b[0m\u001b[0;34m)\u001b[0m\u001b[0;34m\u001b[0m\u001b[0;34m\u001b[0m\u001b[0m\n\u001b[0m\u001b[1;32m    338\u001b[0m \u001b[0;34m\u001b[0m\u001b[0m\n\u001b[1;32m    339\u001b[0m     \u001b[0;32mif\u001b[0m \u001b[0mlen\u001b[0m\u001b[0;34m(\u001b[0m\u001b[0mself\u001b[0m\u001b[0;34m.\u001b[0m\u001b[0m_batch_times\u001b[0m\u001b[0;34m)\u001b[0m \u001b[0;34m>=\u001b[0m \u001b[0mself\u001b[0m\u001b[0;34m.\u001b[0m\u001b[0m_num_batches_for_timing_check\u001b[0m\u001b[0;34m:\u001b[0m\u001b[0;34m\u001b[0m\u001b[0;34m\u001b[0m\u001b[0m\n",
      "\u001b[0;32m~/.local/lib/python3.8/site-packages/tensorflow/python/keras/callbacks.py\u001b[0m in \u001b[0;36m_call_batch_hook_helper\u001b[0;34m(self, hook_name, batch, logs)\u001b[0m\n\u001b[1;32m    373\u001b[0m     \u001b[0;32mfor\u001b[0m \u001b[0mcallback\u001b[0m \u001b[0;32min\u001b[0m \u001b[0mself\u001b[0m\u001b[0;34m.\u001b[0m\u001b[0mcallbacks\u001b[0m\u001b[0;34m:\u001b[0m\u001b[0;34m\u001b[0m\u001b[0;34m\u001b[0m\u001b[0m\n\u001b[1;32m    374\u001b[0m       \u001b[0mhook\u001b[0m \u001b[0;34m=\u001b[0m \u001b[0mgetattr\u001b[0m\u001b[0;34m(\u001b[0m\u001b[0mcallback\u001b[0m\u001b[0;34m,\u001b[0m \u001b[0mhook_name\u001b[0m\u001b[0;34m)\u001b[0m\u001b[0;34m\u001b[0m\u001b[0;34m\u001b[0m\u001b[0m\n\u001b[0;32m--> 375\u001b[0;31m       \u001b[0mhook\u001b[0m\u001b[0;34m(\u001b[0m\u001b[0mbatch\u001b[0m\u001b[0;34m,\u001b[0m \u001b[0mlogs\u001b[0m\u001b[0;34m)\u001b[0m\u001b[0;34m\u001b[0m\u001b[0;34m\u001b[0m\u001b[0m\n\u001b[0m\u001b[1;32m    376\u001b[0m \u001b[0;34m\u001b[0m\u001b[0m\n\u001b[1;32m    377\u001b[0m     \u001b[0;32mif\u001b[0m \u001b[0mself\u001b[0m\u001b[0;34m.\u001b[0m\u001b[0m_check_timing\u001b[0m\u001b[0;34m:\u001b[0m\u001b[0;34m\u001b[0m\u001b[0;34m\u001b[0m\u001b[0m\n",
      "\u001b[0;32m~/.local/lib/python3.8/site-packages/tensorflow/python/keras/callbacks.py\u001b[0m in \u001b[0;36mon_train_batch_end\u001b[0;34m(self, batch, logs)\u001b[0m\n\u001b[1;32m   1027\u001b[0m \u001b[0;34m\u001b[0m\u001b[0m\n\u001b[1;32m   1028\u001b[0m   \u001b[0;32mdef\u001b[0m \u001b[0mon_train_batch_end\u001b[0m\u001b[0;34m(\u001b[0m\u001b[0mself\u001b[0m\u001b[0;34m,\u001b[0m \u001b[0mbatch\u001b[0m\u001b[0;34m,\u001b[0m \u001b[0mlogs\u001b[0m\u001b[0;34m=\u001b[0m\u001b[0;32mNone\u001b[0m\u001b[0;34m)\u001b[0m\u001b[0;34m:\u001b[0m\u001b[0;34m\u001b[0m\u001b[0;34m\u001b[0m\u001b[0m\n\u001b[0;32m-> 1029\u001b[0;31m     \u001b[0mself\u001b[0m\u001b[0;34m.\u001b[0m\u001b[0m_batch_update_progbar\u001b[0m\u001b[0;34m(\u001b[0m\u001b[0mbatch\u001b[0m\u001b[0;34m,\u001b[0m \u001b[0mlogs\u001b[0m\u001b[0;34m)\u001b[0m\u001b[0;34m\u001b[0m\u001b[0;34m\u001b[0m\u001b[0m\n\u001b[0m\u001b[1;32m   1030\u001b[0m \u001b[0;34m\u001b[0m\u001b[0m\n\u001b[1;32m   1031\u001b[0m   \u001b[0;32mdef\u001b[0m \u001b[0mon_test_batch_end\u001b[0m\u001b[0;34m(\u001b[0m\u001b[0mself\u001b[0m\u001b[0;34m,\u001b[0m \u001b[0mbatch\u001b[0m\u001b[0;34m,\u001b[0m \u001b[0mlogs\u001b[0m\u001b[0;34m=\u001b[0m\u001b[0;32mNone\u001b[0m\u001b[0;34m)\u001b[0m\u001b[0;34m:\u001b[0m\u001b[0;34m\u001b[0m\u001b[0;34m\u001b[0m\u001b[0m\n",
      "\u001b[0;32m~/.local/lib/python3.8/site-packages/tensorflow/python/keras/callbacks.py\u001b[0m in \u001b[0;36m_batch_update_progbar\u001b[0;34m(self, batch, logs)\u001b[0m\n\u001b[1;32m   1099\u001b[0m     \u001b[0;32mif\u001b[0m \u001b[0mself\u001b[0m\u001b[0;34m.\u001b[0m\u001b[0mverbose\u001b[0m \u001b[0;34m==\u001b[0m \u001b[0;36m1\u001b[0m\u001b[0;34m:\u001b[0m\u001b[0;34m\u001b[0m\u001b[0;34m\u001b[0m\u001b[0m\n\u001b[1;32m   1100\u001b[0m       \u001b[0;31m# Only block async when verbose = 1.\u001b[0m\u001b[0;34m\u001b[0m\u001b[0;34m\u001b[0m\u001b[0;34m\u001b[0m\u001b[0m\n\u001b[0;32m-> 1101\u001b[0;31m       \u001b[0mlogs\u001b[0m \u001b[0;34m=\u001b[0m \u001b[0mtf_utils\u001b[0m\u001b[0;34m.\u001b[0m\u001b[0msync_to_numpy_or_python_type\u001b[0m\u001b[0;34m(\u001b[0m\u001b[0mlogs\u001b[0m\u001b[0;34m)\u001b[0m\u001b[0;34m\u001b[0m\u001b[0;34m\u001b[0m\u001b[0m\n\u001b[0m\u001b[1;32m   1102\u001b[0m       \u001b[0mself\u001b[0m\u001b[0;34m.\u001b[0m\u001b[0mprogbar\u001b[0m\u001b[0;34m.\u001b[0m\u001b[0mupdate\u001b[0m\u001b[0;34m(\u001b[0m\u001b[0mself\u001b[0m\u001b[0;34m.\u001b[0m\u001b[0mseen\u001b[0m\u001b[0;34m,\u001b[0m \u001b[0mlist\u001b[0m\u001b[0;34m(\u001b[0m\u001b[0mlogs\u001b[0m\u001b[0;34m.\u001b[0m\u001b[0mitems\u001b[0m\u001b[0;34m(\u001b[0m\u001b[0;34m)\u001b[0m\u001b[0;34m)\u001b[0m\u001b[0;34m,\u001b[0m \u001b[0mfinalize\u001b[0m\u001b[0;34m=\u001b[0m\u001b[0;32mFalse\u001b[0m\u001b[0;34m)\u001b[0m\u001b[0;34m\u001b[0m\u001b[0;34m\u001b[0m\u001b[0m\n\u001b[1;32m   1103\u001b[0m \u001b[0;34m\u001b[0m\u001b[0m\n",
      "\u001b[0;32m~/.local/lib/python3.8/site-packages/tensorflow/python/keras/utils/tf_utils.py\u001b[0m in \u001b[0;36msync_to_numpy_or_python_type\u001b[0;34m(tensors)\u001b[0m\n\u001b[1;32m    517\u001b[0m     \u001b[0;32mreturn\u001b[0m \u001b[0mt\u001b[0m  \u001b[0;31m# Don't turn ragged or sparse tensors to NumPy.\u001b[0m\u001b[0;34m\u001b[0m\u001b[0;34m\u001b[0m\u001b[0m\n\u001b[1;32m    518\u001b[0m \u001b[0;34m\u001b[0m\u001b[0m\n\u001b[0;32m--> 519\u001b[0;31m   \u001b[0;32mreturn\u001b[0m \u001b[0mnest\u001b[0m\u001b[0;34m.\u001b[0m\u001b[0mmap_structure\u001b[0m\u001b[0;34m(\u001b[0m\u001b[0m_to_single_numpy_or_python_type\u001b[0m\u001b[0;34m,\u001b[0m \u001b[0mtensors\u001b[0m\u001b[0;34m)\u001b[0m\u001b[0;34m\u001b[0m\u001b[0;34m\u001b[0m\u001b[0m\n\u001b[0m\u001b[1;32m    520\u001b[0m \u001b[0;34m\u001b[0m\u001b[0m\n\u001b[1;32m    521\u001b[0m \u001b[0;34m\u001b[0m\u001b[0m\n",
      "\u001b[0;32m~/.local/lib/python3.8/site-packages/tensorflow/python/util/nest.py\u001b[0m in \u001b[0;36mmap_structure\u001b[0;34m(func, *structure, **kwargs)\u001b[0m\n\u001b[1;32m    865\u001b[0m \u001b[0;34m\u001b[0m\u001b[0m\n\u001b[1;32m    866\u001b[0m   return pack_sequence_as(\n\u001b[0;32m--> 867\u001b[0;31m       \u001b[0mstructure\u001b[0m\u001b[0;34m[\u001b[0m\u001b[0;36m0\u001b[0m\u001b[0;34m]\u001b[0m\u001b[0;34m,\u001b[0m \u001b[0;34m[\u001b[0m\u001b[0mfunc\u001b[0m\u001b[0;34m(\u001b[0m\u001b[0;34m*\u001b[0m\u001b[0mx\u001b[0m\u001b[0;34m)\u001b[0m \u001b[0;32mfor\u001b[0m \u001b[0mx\u001b[0m \u001b[0;32min\u001b[0m \u001b[0mentries\u001b[0m\u001b[0;34m]\u001b[0m\u001b[0;34m,\u001b[0m\u001b[0;34m\u001b[0m\u001b[0;34m\u001b[0m\u001b[0m\n\u001b[0m\u001b[1;32m    868\u001b[0m       expand_composites=expand_composites)\n\u001b[1;32m    869\u001b[0m \u001b[0;34m\u001b[0m\u001b[0m\n",
      "\u001b[0;31mKeyboardInterrupt\u001b[0m: "
     ]
    }
   ],
   "source": [
    "\n",
    "history = model.fit(data_train[:1000],\n",
    "                    PI_train[:1000],\n",
    "                    epochs=100,\n",
    "                    validation_data=(data_test, PI_test))\n"
   ]
  },
  {
   "cell_type": "markdown",
   "id": "0e1cd1ca",
   "metadata": {},
   "source": [
    "We can save the model"
   ]
  },
  {
   "cell_type": "code",
   "execution_count": 188,
   "id": "cc8060a3",
   "metadata": {
    "scrolled": true
   },
   "outputs": [
    {
     "name": "stdout",
     "output_type": "stream",
     "text": [
      "INFO:tensorflow:Assets written to: Saved_Model/model_2_multiple_cricles/assets\n"
     ]
    }
   ],
   "source": [
    "model.save('Saved_Model/model_2_multiple_cricles')"
   ]
  },
  {
   "cell_type": "markdown",
   "id": "5b47e37d",
   "metadata": {},
   "source": [
    "### Study the results to see how the training went "
   ]
  },
  {
   "cell_type": "code",
   "execution_count": 9,
   "id": "69ec82ae",
   "metadata": {
    "scrolled": false
   },
   "outputs": [],
   "source": [
    "prediction = model.predict(data_test)"
   ]
  },
  {
   "cell_type": "code",
   "execution_count": 10,
   "id": "4d278a13",
   "metadata": {},
   "outputs": [
    {
     "data": {
      "image/png": "[encoded data removed]",
      "text/plain": [
       "<Figure size 432x288 with 18 Axes>"
      ]
     },
     "metadata": {
      "needs_background": "light"
     },
     "output_type": "display_data"
    }
   ],
   "source": [
    "for i in range(9):\n",
    "    plt.subplot(3, 3, i + 1)\n",
    "    plt.imshow(np.flip(np.reshape(prediction[i], [PI_size, PI_size]), 0),\n",
    "               vmin=0,\n",
    "               vmax=1,\n",
    "               cmap='jet')\n",
    "    plt.colorbar()\n",
    "    \n",
    "plt.suptitle('The corresponding predicted PI')    \n",
    "#plt.savefig(\"Résultats/Résultats 2/multiple_circles_predicted.pdf\")"
   ]
  },
  {
   "cell_type": "code",
   "execution_count": 14,
   "id": "e4a3f593",
   "metadata": {},
   "outputs": [
    {
     "data": {
      "image/png": "[encoded data removed]",
      "text/plain": [
       "<Figure size 432x288 with 18 Axes>"
      ]
     },
     "metadata": {
      "needs_background": "light"
     },
     "output_type": "display_data"
    }
   ],
   "source": [
    "for i in range(9):\n",
    "    plt.subplot(3, 3, i + 1)\n",
    "    plt.imshow(np.flip(np.reshape(PI_test[i], [PI_size, PI_size]), 0),\n",
    "               vmin=0,\n",
    "               vmax=1,\n",
    "               cmap='jet')\n",
    "    plt.colorbar()\n",
    "    \n",
    "plt.suptitle('The corresponding true PI')\n",
    "#plt.savefig(\"Résultats/Résultats 2/multiple_circles_true.pdf\")"
   ]
  },
  {
   "cell_type": "code",
   "execution_count": 3,
   "id": "8259569a",
   "metadata": {
    "scrolled": true
   },
   "outputs": [
    {
     "ename": "NameError",
     "evalue": "name 'plt' is not defined",
     "output_type": "error",
     "traceback": [
      "\u001b[0;31m---------------------------------------------------------------------------\u001b[0m",
      "\u001b[0;31mNameError\u001b[0m                                 Traceback (most recent call last)",
      "\u001b[0;32m/tmp/ipykernel_8542/3811409856.py\u001b[0m in \u001b[0;36m<module>\u001b[0;34m\u001b[0m\n\u001b[1;32m      1\u001b[0m \u001b[0;32mfor\u001b[0m \u001b[0mi\u001b[0m \u001b[0;32min\u001b[0m \u001b[0mrange\u001b[0m\u001b[0;34m(\u001b[0m\u001b[0;36m9\u001b[0m\u001b[0;34m)\u001b[0m\u001b[0;34m:\u001b[0m\u001b[0;34m\u001b[0m\u001b[0;34m\u001b[0m\u001b[0m\n\u001b[0;32m----> 2\u001b[0;31m     \u001b[0mplt\u001b[0m\u001b[0;34m.\u001b[0m\u001b[0msubplot\u001b[0m\u001b[0;34m(\u001b[0m\u001b[0;36m3\u001b[0m\u001b[0;34m,\u001b[0m \u001b[0;36m3\u001b[0m\u001b[0;34m,\u001b[0m \u001b[0mi\u001b[0m \u001b[0;34m+\u001b[0m \u001b[0;36m1\u001b[0m\u001b[0;34m)\u001b[0m\u001b[0;34m\u001b[0m\u001b[0;34m\u001b[0m\u001b[0m\n\u001b[0m\u001b[1;32m      3\u001b[0m     \u001b[0mplt\u001b[0m\u001b[0;34m.\u001b[0m\u001b[0mscatter\u001b[0m\u001b[0;34m(\u001b[0m\u001b[0mdata_test\u001b[0m\u001b[0;34m[\u001b[0m\u001b[0mi\u001b[0m\u001b[0;34m,\u001b[0m \u001b[0;34m:\u001b[0m\u001b[0;34m,\u001b[0m \u001b[0;36m0\u001b[0m\u001b[0;34m]\u001b[0m\u001b[0;34m,\u001b[0m \u001b[0mdata_test\u001b[0m\u001b[0;34m[\u001b[0m\u001b[0mi\u001b[0m\u001b[0;34m,\u001b[0m \u001b[0;34m:\u001b[0m\u001b[0;34m,\u001b[0m \u001b[0;36m1\u001b[0m\u001b[0;34m]\u001b[0m\u001b[0;34m,\u001b[0m \u001b[0ms\u001b[0m\u001b[0;34m=\u001b[0m\u001b[0;36m3\u001b[0m\u001b[0;34m)\u001b[0m\u001b[0;34m\u001b[0m\u001b[0;34m\u001b[0m\u001b[0m\n\u001b[1;32m      4\u001b[0m     \u001b[0mplt\u001b[0m\u001b[0;34m.\u001b[0m\u001b[0mxlim\u001b[0m\u001b[0;34m(\u001b[0m\u001b[0;34m-\u001b[0m\u001b[0;36m1\u001b[0m\u001b[0;34m,\u001b[0m\u001b[0;36m1\u001b[0m\u001b[0;34m)\u001b[0m\u001b[0;34m\u001b[0m\u001b[0;34m\u001b[0m\u001b[0m\n\u001b[1;32m      5\u001b[0m     \u001b[0mplt\u001b[0m\u001b[0;34m.\u001b[0m\u001b[0mylim\u001b[0m\u001b[0;34m(\u001b[0m\u001b[0;34m-\u001b[0m\u001b[0;36m1\u001b[0m\u001b[0;34m,\u001b[0m\u001b[0;36m1\u001b[0m\u001b[0;34m)\u001b[0m\u001b[0;34m\u001b[0m\u001b[0;34m\u001b[0m\u001b[0m\n",
      "\u001b[0;31mNameError\u001b[0m: name 'plt' is not defined"
     ]
    }
   ],
   "source": [
    "for i in range(9):\n",
    "    plt.subplot(3, 3, i + 1)\n",
    "    plt.scatter(data_test[i, :, 0], data_test[i, :, 1], s=3)\n",
    "    plt.xlim(-1,1)\n",
    "    plt.ylim(-1,1)\n",
    "\n",
    "plt.suptitle('The corresponding point clouds')\n",
    "#plt.savefig(\"Résultats/Résultats 2/multiple_circles.pdf\")"
   ]
  },
  {
   "cell_type": "markdown",
   "id": "ff94042a",
   "metadata": {},
   "source": [
    "### Evaluation of the model and plot of the evolution of the loss "
   ]
  },
  {
   "cell_type": "markdown",
   "id": "bd945c8e",
   "metadata": {},
   "source": [
    "MSE on the test data"
   ]
  },
  {
   "cell_type": "code",
   "execution_count": 40,
   "id": "34ea55a3",
   "metadata": {},
   "outputs": [
    {
     "data": {
      "text/plain": [
       "0.00027772533108296214"
      ]
     },
     "execution_count": 40,
     "metadata": {},
     "output_type": "execute_result"
    }
   ],
   "source": [
    "(np.square(prediction - PI_test)).mean(axis=None)"
   ]
  },
  {
   "cell_type": "code",
   "execution_count": 41,
   "id": "29e02166",
   "metadata": {
    "scrolled": true
   },
   "outputs": [
    {
     "name": "stdout",
     "output_type": "stream",
     "text": [
      "32/32 [==============================] - 0s 3ms/step - loss: 1.8345e-04\n"
     ]
    }
   ],
   "source": [
    "loss = model.evaluate(data_test, PI_test, verbose=1)"
   ]
  },
  {
   "cell_type": "markdown",
   "id": "f8eeb2c4",
   "metadata": {},
   "source": [
    "Plot of the evolution of the loss"
   ]
  },
  {
   "cell_type": "code",
   "execution_count": 54,
   "id": "339836de",
   "metadata": {},
   "outputs": [
    {
     "data": {
      "image/png": "[encoded data removed]",
      "text/plain": [
       "<Figure size 432x288 with 1 Axes>"
      ]
     },
     "metadata": {
      "needs_background": "light"
     },
     "output_type": "display_data"
    }
   ],
   "source": [
    "history_dict = history.history\n",
    "\n",
    "loss = history_dict['loss']\n",
    "val_loss = history_dict['val_loss']\n",
    "\n",
    "epochs = range(1, len(loss) + 1)\n",
    "\n",
    "# \"bo\" is for \"blue dot\"\n",
    "plt.plot(epochs[:], loss[:], 'bo', label='Training loss')\n",
    "# b is for \"solid blue line\"\n",
    "plt.plot(epochs[:], val_loss[:], 'b', label='Validation loss')\n",
    "plt.title('Training and validation loss')\n",
    "plt.xlabel('Epochs')\n",
    "plt.ylabel('Loss')\n",
    "plt.legend()\n",
    "\n",
    "#plt.savefig(\"Résultats/Résultats 2/training_loss.pdf\")\n",
    "plt.show()"
   ]
  },
  {
   "cell_type": "markdown",
   "id": "fc352c09",
   "metadata": {},
   "source": [
    "## Classifier"
   ]
  },
  {
   "cell_type": "code",
   "execution_count": 26,
   "id": "9aa574d1",
   "metadata": {},
   "outputs": [],
   "source": [
    "data = np.load('data/PI_data_smaller_circle_reg.npz')\n",
    "\n",
    "r_reg_train = data[\"r_train\"]\n",
    "data_train_reg = data[\"data_train\"]\n",
    "r_reg_test = data[\"r_test\"]\n",
    "data_test_reg = data[\"data_test\"]"
   ]
  },
  {
   "cell_type": "code",
   "execution_count": 104,
   "id": "39c05d8a",
   "metadata": {},
   "outputs": [],
   "source": [
    "inputs = tf.keras.Input(shape=(PI_size * PI_size))\n",
    "\n",
    "x = tf.keras.layers.Dense(100, activation='relu')(inputs)\n",
    "\n",
    "x = tf.keras.layers.Dense(50, activation='relu')(x)\n",
    "\n",
    "outputs = tf.keras.layers.Dense(1)(x)\n",
    "\n",
    "model_reg = tf.keras.Model(inputs=inputs, outputs=outputs)\n",
    "model_reg.compile(loss=\"mean_squared_error\" , optimizer=\"adam\", metrics=[\"mean_squared_error\"])\n"
   ]
  },
  {
   "cell_type": "code",
   "execution_count": 105,
   "id": "653c7a18",
   "metadata": {},
   "outputs": [],
   "source": [
    "PI_train_reg = model.predict(data_train_reg)\n",
    "PI_test_reg = model.predict(data_test_reg)"
   ]
  },
  {
   "cell_type": "code",
   "execution_count": 106,
   "id": "7b6acb8e",
   "metadata": {},
   "outputs": [
    {
     "name": "stdout",
     "output_type": "stream",
     "text": [
      "Epoch 1/100\n",
      "32/32 [==============================] - 0s 5ms/step - loss: 0.0400 - mean_squared_error: 0.0400 - val_loss: 0.0067 - val_mean_squared_error: 0.0067\n",
      "Epoch 2/100\n",
      "32/32 [==============================] - 0s 3ms/step - loss: 0.0063 - mean_squared_error: 0.0063 - val_loss: 0.0054 - val_mean_squared_error: 0.0054\n",
      "Epoch 3/100\n",
      "32/32 [==============================] - 0s 3ms/step - loss: 0.0056 - mean_squared_error: 0.0056 - val_loss: 0.0051 - val_mean_squared_error: 0.0051\n",
      "Epoch 4/100\n",
      "32/32 [==============================] - 0s 3ms/step - loss: 0.0052 - mean_squared_error: 0.0052 - val_loss: 0.0045 - val_mean_squared_error: 0.0045\n",
      "Epoch 5/100\n",
      "32/32 [==============================] - 0s 3ms/step - loss: 0.0047 - mean_squared_error: 0.0047 - val_loss: 0.0042 - val_mean_squared_error: 0.0042\n",
      "Epoch 6/100\n",
      "32/32 [==============================] - 0s 3ms/step - loss: 0.0044 - mean_squared_error: 0.0044 - val_loss: 0.0038 - val_mean_squared_error: 0.0038\n",
      "Epoch 7/100\n",
      "32/32 [==============================] - 0s 3ms/step - loss: 0.0039 - mean_squared_error: 0.0039 - val_loss: 0.0034 - val_mean_squared_error: 0.0034\n",
      "Epoch 8/100\n",
      "32/32 [==============================] - 0s 3ms/step - loss: 0.0035 - mean_squared_error: 0.0035 - val_loss: 0.0032 - val_mean_squared_error: 0.0032\n",
      "Epoch 9/100\n",
      "32/32 [==============================] - 0s 3ms/step - loss: 0.0031 - mean_squared_error: 0.0031 - val_loss: 0.0027 - val_mean_squared_error: 0.0027\n",
      "Epoch 10/100\n",
      "32/32 [==============================] - 0s 3ms/step - loss: 0.0025 - mean_squared_error: 0.0025 - val_loss: 0.0023 - val_mean_squared_error: 0.0023\n",
      "Epoch 11/100\n",
      "32/32 [==============================] - 0s 3ms/step - loss: 0.0020 - mean_squared_error: 0.0020 - val_loss: 0.0017 - val_mean_squared_error: 0.0017\n",
      "Epoch 12/100\n",
      "32/32 [==============================] - 0s 3ms/step - loss: 0.0015 - mean_squared_error: 0.0015 - val_loss: 0.0012 - val_mean_squared_error: 0.0012\n",
      "Epoch 13/100\n",
      "32/32 [==============================] - 0s 3ms/step - loss: 0.0010 - mean_squared_error: 0.0010 - val_loss: 8.4351e-04 - val_mean_squared_error: 8.4351e-04\n",
      "Epoch 14/100\n",
      "32/32 [==============================] - 0s 3ms/step - loss: 7.8398e-04 - mean_squared_error: 7.8398e-04 - val_loss: 6.3533e-04 - val_mean_squared_error: 6.3533e-04\n",
      "Epoch 15/100\n",
      "32/32 [==============================] - 0s 3ms/step - loss: 5.7428e-04 - mean_squared_error: 5.7428e-04 - val_loss: 5.5493e-04 - val_mean_squared_error: 5.5493e-04\n",
      "Epoch 16/100\n",
      "32/32 [==============================] - 0s 3ms/step - loss: 4.3755e-04 - mean_squared_error: 4.3755e-04 - val_loss: 3.4335e-04 - val_mean_squared_error: 3.4335e-04\n",
      "Epoch 17/100\n",
      "32/32 [==============================] - 0s 3ms/step - loss: 3.1196e-04 - mean_squared_error: 3.1196e-04 - val_loss: 3.0608e-04 - val_mean_squared_error: 3.0608e-04\n",
      "Epoch 18/100\n",
      "32/32 [==============================] - 0s 3ms/step - loss: 4.1996e-04 - mean_squared_error: 4.1996e-04 - val_loss: 3.6146e-04 - val_mean_squared_error: 3.6146e-04\n",
      "Epoch 19/100\n",
      "32/32 [==============================] - 0s 3ms/step - loss: 2.3672e-04 - mean_squared_error: 2.3672e-04 - val_loss: 1.5779e-04 - val_mean_squared_error: 1.5779e-04\n",
      "Epoch 20/100\n",
      "32/32 [==============================] - 0s 3ms/step - loss: 1.5416e-04 - mean_squared_error: 1.5416e-04 - val_loss: 1.5172e-04 - val_mean_squared_error: 1.5172e-04\n",
      "Epoch 21/100\n",
      "32/32 [==============================] - 0s 3ms/step - loss: 1.5779e-04 - mean_squared_error: 1.5779e-04 - val_loss: 1.0104e-04 - val_mean_squared_error: 1.0104e-04\n",
      "Epoch 22/100\n",
      "32/32 [==============================] - 0s 3ms/step - loss: 1.0840e-04 - mean_squared_error: 1.0840e-04 - val_loss: 1.0858e-04 - val_mean_squared_error: 1.0858e-04\n",
      "Epoch 23/100\n",
      "32/32 [==============================] - 0s 3ms/step - loss: 9.6295e-05 - mean_squared_error: 9.6295e-05 - val_loss: 1.3281e-04 - val_mean_squared_error: 1.3281e-04\n",
      "Epoch 24/100\n",
      "32/32 [==============================] - 0s 3ms/step - loss: 9.1961e-05 - mean_squared_error: 9.1961e-05 - val_loss: 8.7178e-05 - val_mean_squared_error: 8.7178e-05\n",
      "Epoch 25/100\n",
      "32/32 [==============================] - 0s 3ms/step - loss: 7.5922e-05 - mean_squared_error: 7.5922e-05 - val_loss: 5.6752e-05 - val_mean_squared_error: 5.6752e-05\n",
      "Epoch 26/100\n",
      "32/32 [==============================] - 0s 3ms/step - loss: 6.7301e-05 - mean_squared_error: 6.7301e-05 - val_loss: 5.7816e-05 - val_mean_squared_error: 5.7816e-05\n",
      "Epoch 27/100\n",
      "32/32 [==============================] - 0s 3ms/step - loss: 8.3333e-05 - mean_squared_error: 8.3333e-05 - val_loss: 7.6980e-05 - val_mean_squared_error: 7.6980e-05\n",
      "Epoch 28/100\n",
      "32/32 [==============================] - 0s 3ms/step - loss: 6.2416e-05 - mean_squared_error: 6.2416e-05 - val_loss: 5.8841e-05 - val_mean_squared_error: 5.8841e-05\n",
      "Epoch 29/100\n",
      "32/32 [==============================] - 0s 3ms/step - loss: 5.0168e-05 - mean_squared_error: 5.0168e-05 - val_loss: 3.3874e-05 - val_mean_squared_error: 3.3874e-05\n",
      "Epoch 30/100\n",
      "32/32 [==============================] - 0s 3ms/step - loss: 4.8381e-05 - mean_squared_error: 4.8381e-05 - val_loss: 1.1220e-04 - val_mean_squared_error: 1.1220e-04\n",
      "Epoch 31/100\n",
      "32/32 [==============================] - 0s 3ms/step - loss: 6.9425e-05 - mean_squared_error: 6.9425e-05 - val_loss: 1.0747e-04 - val_mean_squared_error: 1.0747e-04\n",
      "Epoch 32/100\n",
      "32/32 [==============================] - 0s 3ms/step - loss: 1.0810e-04 - mean_squared_error: 1.0810e-04 - val_loss: 8.9918e-05 - val_mean_squared_error: 8.9918e-05\n",
      "Epoch 33/100\n",
      "32/32 [==============================] - 0s 3ms/step - loss: 5.1373e-05 - mean_squared_error: 5.1373e-05 - val_loss: 5.2238e-05 - val_mean_squared_error: 5.2238e-05\n",
      "Epoch 34/100\n",
      "32/32 [==============================] - 0s 3ms/step - loss: 4.0730e-05 - mean_squared_error: 4.0730e-05 - val_loss: 6.4470e-05 - val_mean_squared_error: 6.4470e-05\n",
      "Epoch 35/100\n",
      "32/32 [==============================] - 0s 3ms/step - loss: 5.1672e-05 - mean_squared_error: 5.1672e-05 - val_loss: 4.2859e-05 - val_mean_squared_error: 4.2859e-05\n",
      "Epoch 36/100\n",
      "32/32 [==============================] - 0s 3ms/step - loss: 4.7596e-05 - mean_squared_error: 4.7596e-05 - val_loss: 8.3969e-05 - val_mean_squared_error: 8.3969e-05\n",
      "Epoch 37/100\n",
      "32/32 [==============================] - 0s 3ms/step - loss: 6.6067e-05 - mean_squared_error: 6.6067e-05 - val_loss: 7.0761e-05 - val_mean_squared_error: 7.0761e-05\n",
      "Epoch 38/100\n",
      "32/32 [==============================] - 0s 3ms/step - loss: 9.4407e-05 - mean_squared_error: 9.4407e-05 - val_loss: 4.5954e-05 - val_mean_squared_error: 4.5954e-05\n",
      "Epoch 39/100\n",
      "32/32 [==============================] - 0s 3ms/step - loss: 4.3778e-05 - mean_squared_error: 4.3778e-05 - val_loss: 6.5344e-05 - val_mean_squared_error: 6.5344e-05\n",
      "Epoch 40/100\n",
      "32/32 [==============================] - 0s 3ms/step - loss: 6.4091e-05 - mean_squared_error: 6.4091e-05 - val_loss: 1.1921e-04 - val_mean_squared_error: 1.1921e-04\n",
      "Epoch 41/100\n",
      "32/32 [==============================] - 0s 3ms/step - loss: 1.0510e-04 - mean_squared_error: 1.0510e-04 - val_loss: 1.6924e-04 - val_mean_squared_error: 1.6924e-04\n",
      "Epoch 42/100\n",
      "32/32 [==============================] - 0s 3ms/step - loss: 1.9168e-04 - mean_squared_error: 1.9168e-04 - val_loss: 1.6468e-04 - val_mean_squared_error: 1.6468e-04\n",
      "Epoch 43/100\n",
      "32/32 [==============================] - 0s 3ms/step - loss: 6.4139e-05 - mean_squared_error: 6.4139e-05 - val_loss: 4.9031e-05 - val_mean_squared_error: 4.9031e-05\n",
      "Epoch 44/100\n",
      "32/32 [==============================] - 0s 3ms/step - loss: 2.9364e-05 - mean_squared_error: 2.9364e-05 - val_loss: 2.6928e-05 - val_mean_squared_error: 2.6928e-05\n",
      "Epoch 45/100\n",
      "32/32 [==============================] - 0s 3ms/step - loss: 4.8244e-05 - mean_squared_error: 4.8244e-05 - val_loss: 2.5856e-04 - val_mean_squared_error: 2.5856e-04\n",
      "Epoch 46/100\n",
      "32/32 [==============================] - 0s 3ms/step - loss: 1.3836e-04 - mean_squared_error: 1.3836e-04 - val_loss: 4.0888e-04 - val_mean_squared_error: 4.0888e-04\n",
      "Epoch 47/100\n",
      "32/32 [==============================] - 0s 3ms/step - loss: 2.5013e-04 - mean_squared_error: 2.5013e-04 - val_loss: 9.7101e-05 - val_mean_squared_error: 9.7101e-05\n",
      "Epoch 48/100\n",
      "32/32 [==============================] - 0s 3ms/step - loss: 7.3880e-05 - mean_squared_error: 7.3880e-05 - val_loss: 8.8147e-05 - val_mean_squared_error: 8.8147e-05\n",
      "Epoch 49/100\n",
      "32/32 [==============================] - 0s 3ms/step - loss: 9.8137e-05 - mean_squared_error: 9.8137e-05 - val_loss: 3.7641e-05 - val_mean_squared_error: 3.7641e-05\n",
      "Epoch 50/100\n",
      "32/32 [==============================] - 0s 3ms/step - loss: 3.6688e-05 - mean_squared_error: 3.6688e-05 - val_loss: 7.7017e-05 - val_mean_squared_error: 7.7017e-05\n",
      "Epoch 51/100\n",
      "32/32 [==============================] - 0s 3ms/step - loss: 5.0156e-05 - mean_squared_error: 5.0156e-05 - val_loss: 6.1117e-05 - val_mean_squared_error: 6.1117e-05\n",
      "Epoch 52/100\n",
      "32/32 [==============================] - 0s 6ms/step - loss: 3.7577e-05 - mean_squared_error: 3.7577e-05 - val_loss: 2.2193e-05 - val_mean_squared_error: 2.2193e-05\n",
      "Epoch 53/100\n",
      "32/32 [==============================] - 0s 6ms/step - loss: 7.7922e-05 - mean_squared_error: 7.7922e-05 - val_loss: 5.2928e-05 - val_mean_squared_error: 5.2928e-05\n",
      "Epoch 54/100\n",
      "32/32 [==============================] - 0s 6ms/step - loss: 1.4734e-04 - mean_squared_error: 1.4734e-04 - val_loss: 2.8922e-04 - val_mean_squared_error: 2.8922e-04\n",
      "Epoch 55/100\n",
      "32/32 [==============================] - 0s 6ms/step - loss: 2.2255e-04 - mean_squared_error: 2.2255e-04 - val_loss: 1.0255e-04 - val_mean_squared_error: 1.0255e-04\n",
      "Epoch 56/100\n",
      "32/32 [==============================] - 0s 4ms/step - loss: 2.2455e-04 - mean_squared_error: 2.2455e-04 - val_loss: 0.0011 - val_mean_squared_error: 0.0011\n",
      "Epoch 57/100\n",
      "32/32 [==============================] - 0s 4ms/step - loss: 2.7561e-04 - mean_squared_error: 2.7561e-04 - val_loss: 9.8994e-05 - val_mean_squared_error: 9.8994e-05\n",
      "Epoch 58/100\n",
      "32/32 [==============================] - 0s 5ms/step - loss: 1.1284e-04 - mean_squared_error: 1.1284e-04 - val_loss: 2.8277e-04 - val_mean_squared_error: 2.8277e-04\n",
      "Epoch 59/100\n",
      "32/32 [==============================] - 0s 5ms/step - loss: 1.1110e-04 - mean_squared_error: 1.1110e-04 - val_loss: 5.7600e-05 - val_mean_squared_error: 5.7600e-05\n",
      "Epoch 60/100\n",
      "32/32 [==============================] - 0s 4ms/step - loss: 3.3675e-05 - mean_squared_error: 3.3675e-05 - val_loss: 2.4684e-05 - val_mean_squared_error: 2.4684e-05\n",
      "Epoch 61/100\n",
      "32/32 [==============================] - 0s 4ms/step - loss: 2.0598e-05 - mean_squared_error: 2.0598e-05 - val_loss: 4.7047e-05 - val_mean_squared_error: 4.7047e-05\n",
      "Epoch 62/100\n",
      "32/32 [==============================] - 0s 4ms/step - loss: 4.1077e-05 - mean_squared_error: 4.1077e-05 - val_loss: 2.9086e-05 - val_mean_squared_error: 2.9086e-05\n",
      "Epoch 63/100\n",
      "32/32 [==============================] - 0s 4ms/step - loss: 2.7570e-05 - mean_squared_error: 2.7570e-05 - val_loss: 1.7297e-05 - val_mean_squared_error: 1.7297e-05\n",
      "Epoch 64/100\n",
      "32/32 [==============================] - 0s 5ms/step - loss: 2.0558e-05 - mean_squared_error: 2.0558e-05 - val_loss: 2.4796e-05 - val_mean_squared_error: 2.4796e-05\n",
      "Epoch 65/100\n",
      "32/32 [==============================] - 0s 5ms/step - loss: 1.8557e-05 - mean_squared_error: 1.8557e-05 - val_loss: 1.5682e-05 - val_mean_squared_error: 1.5682e-05\n",
      "Epoch 66/100\n",
      "32/32 [==============================] - 0s 4ms/step - loss: 1.8800e-05 - mean_squared_error: 1.8800e-05 - val_loss: 4.2617e-05 - val_mean_squared_error: 4.2617e-05\n",
      "Epoch 67/100\n",
      "32/32 [==============================] - 0s 4ms/step - loss: 4.2522e-05 - mean_squared_error: 4.2522e-05 - val_loss: 3.4276e-05 - val_mean_squared_error: 3.4276e-05\n",
      "Epoch 68/100\n",
      "32/32 [==============================] - 0s 5ms/step - loss: 2.8700e-05 - mean_squared_error: 2.8700e-05 - val_loss: 1.5527e-05 - val_mean_squared_error: 1.5527e-05\n",
      "Epoch 69/100\n",
      "32/32 [==============================] - 0s 4ms/step - loss: 1.8605e-05 - mean_squared_error: 1.8605e-05 - val_loss: 3.1625e-05 - val_mean_squared_error: 3.1625e-05\n",
      "Epoch 70/100\n",
      "32/32 [==============================] - 0s 4ms/step - loss: 1.0256e-04 - mean_squared_error: 1.0256e-04 - val_loss: 4.2067e-04 - val_mean_squared_error: 4.2067e-04\n",
      "Epoch 71/100\n",
      "32/32 [==============================] - 0s 5ms/step - loss: 1.9373e-04 - mean_squared_error: 1.9373e-04 - val_loss: 7.8947e-05 - val_mean_squared_error: 7.8947e-05\n",
      "Epoch 72/100\n",
      "32/32 [==============================] - 0s 4ms/step - loss: 1.0538e-04 - mean_squared_error: 1.0538e-04 - val_loss: 7.3630e-05 - val_mean_squared_error: 7.3630e-05\n",
      "Epoch 73/100\n",
      "32/32 [==============================] - 0s 4ms/step - loss: 5.9945e-05 - mean_squared_error: 5.9945e-05 - val_loss: 3.9391e-05 - val_mean_squared_error: 3.9391e-05\n",
      "Epoch 74/100\n",
      "32/32 [==============================] - 0s 4ms/step - loss: 8.8448e-05 - mean_squared_error: 8.8448e-05 - val_loss: 5.9632e-05 - val_mean_squared_error: 5.9632e-05\n",
      "Epoch 75/100\n",
      "32/32 [==============================] - 0s 5ms/step - loss: 1.3665e-04 - mean_squared_error: 1.3665e-04 - val_loss: 8.6258e-05 - val_mean_squared_error: 8.6258e-05\n",
      "Epoch 76/100\n",
      "32/32 [==============================] - 0s 4ms/step - loss: 8.1485e-05 - mean_squared_error: 8.1485e-05 - val_loss: 3.7287e-05 - val_mean_squared_error: 3.7287e-05\n",
      "Epoch 77/100\n",
      "32/32 [==============================] - 0s 5ms/step - loss: 3.3254e-05 - mean_squared_error: 3.3254e-05 - val_loss: 9.5903e-05 - val_mean_squared_error: 9.5903e-05\n",
      "Epoch 78/100\n",
      "32/32 [==============================] - 0s 4ms/step - loss: 9.3742e-05 - mean_squared_error: 9.3742e-05 - val_loss: 1.2070e-04 - val_mean_squared_error: 1.2070e-04\n",
      "Epoch 79/100\n",
      "32/32 [==============================] - 0s 4ms/step - loss: 8.5059e-05 - mean_squared_error: 8.5059e-05 - val_loss: 1.0002e-04 - val_mean_squared_error: 1.0002e-04\n",
      "Epoch 80/100\n",
      "32/32 [==============================] - 0s 4ms/step - loss: 7.6116e-05 - mean_squared_error: 7.6116e-05 - val_loss: 8.5162e-05 - val_mean_squared_error: 8.5162e-05\n",
      "Epoch 81/100\n",
      "32/32 [==============================] - 0s 10ms/step - loss: 9.1448e-05 - mean_squared_error: 9.1448e-05 - val_loss: 1.9411e-04 - val_mean_squared_error: 1.9411e-04\n",
      "Epoch 82/100\n",
      "32/32 [==============================] - 0s 3ms/step - loss: 1.3887e-04 - mean_squared_error: 1.3887e-04 - val_loss: 2.1451e-04 - val_mean_squared_error: 2.1451e-04\n",
      "Epoch 83/100\n",
      "32/32 [==============================] - 0s 3ms/step - loss: 1.4622e-04 - mean_squared_error: 1.4622e-04 - val_loss: 1.0426e-04 - val_mean_squared_error: 1.0426e-04\n",
      "Epoch 84/100\n",
      "32/32 [==============================] - 0s 3ms/step - loss: 1.4216e-04 - mean_squared_error: 1.4216e-04 - val_loss: 4.3353e-05 - val_mean_squared_error: 4.3353e-05\n",
      "Epoch 85/100\n",
      "32/32 [==============================] - 0s 3ms/step - loss: 6.5430e-05 - mean_squared_error: 6.5430e-05 - val_loss: 1.4154e-04 - val_mean_squared_error: 1.4154e-04\n",
      "Epoch 86/100\n",
      "32/32 [==============================] - 0s 3ms/step - loss: 6.7908e-05 - mean_squared_error: 6.7908e-05 - val_loss: 3.5244e-05 - val_mean_squared_error: 3.5244e-05\n",
      "Epoch 87/100\n",
      "32/32 [==============================] - 0s 3ms/step - loss: 2.7502e-05 - mean_squared_error: 2.7502e-05 - val_loss: 3.7928e-05 - val_mean_squared_error: 3.7928e-05\n",
      "Epoch 88/100\n",
      "32/32 [==============================] - 0s 3ms/step - loss: 2.4218e-05 - mean_squared_error: 2.4218e-05 - val_loss: 3.4742e-05 - val_mean_squared_error: 3.4742e-05\n",
      "Epoch 89/100\n",
      "32/32 [==============================] - 0s 3ms/step - loss: 1.9446e-05 - mean_squared_error: 1.9446e-05 - val_loss: 3.4060e-05 - val_mean_squared_error: 3.4060e-05\n",
      "Epoch 90/100\n",
      "32/32 [==============================] - 0s 3ms/step - loss: 2.0758e-05 - mean_squared_error: 2.0758e-05 - val_loss: 2.2102e-05 - val_mean_squared_error: 2.2102e-05\n",
      "Epoch 91/100\n",
      "32/32 [==============================] - 0s 3ms/step - loss: 1.8543e-05 - mean_squared_error: 1.8543e-05 - val_loss: 4.9285e-05 - val_mean_squared_error: 4.9285e-05\n",
      "Epoch 92/100\n",
      "32/32 [==============================] - 0s 3ms/step - loss: 2.3635e-05 - mean_squared_error: 2.3635e-05 - val_loss: 2.3448e-05 - val_mean_squared_error: 2.3448e-05\n",
      "Epoch 93/100\n",
      "32/32 [==============================] - 0s 3ms/step - loss: 3.0895e-05 - mean_squared_error: 3.0895e-05 - val_loss: 6.2313e-05 - val_mean_squared_error: 6.2313e-05\n",
      "Epoch 94/100\n"
     ]
    },
    {
     "name": "stdout",
     "output_type": "stream",
     "text": [
      "32/32 [==============================] - 0s 3ms/step - loss: 6.1061e-05 - mean_squared_error: 6.1061e-05 - val_loss: 3.8946e-05 - val_mean_squared_error: 3.8946e-05\n",
      "Epoch 95/100\n",
      "32/32 [==============================] - 0s 3ms/step - loss: 3.1145e-05 - mean_squared_error: 3.1145e-05 - val_loss: 3.3973e-05 - val_mean_squared_error: 3.3973e-05\n",
      "Epoch 96/100\n",
      "32/32 [==============================] - 0s 3ms/step - loss: 2.4370e-05 - mean_squared_error: 2.4370e-05 - val_loss: 1.9778e-05 - val_mean_squared_error: 1.9778e-05\n",
      "Epoch 97/100\n",
      "32/32 [==============================] - 0s 3ms/step - loss: 3.2811e-05 - mean_squared_error: 3.2811e-05 - val_loss: 9.6201e-05 - val_mean_squared_error: 9.6201e-05\n",
      "Epoch 98/100\n",
      "32/32 [==============================] - 0s 3ms/step - loss: 5.8372e-05 - mean_squared_error: 5.8372e-05 - val_loss: 8.5442e-05 - val_mean_squared_error: 8.5442e-05\n",
      "Epoch 99/100\n",
      "32/32 [==============================] - 0s 3ms/step - loss: 4.4296e-05 - mean_squared_error: 4.4296e-05 - val_loss: 4.0049e-05 - val_mean_squared_error: 4.0049e-05\n",
      "Epoch 100/100\n",
      "32/32 [==============================] - 0s 3ms/step - loss: 1.9368e-05 - mean_squared_error: 1.9368e-05 - val_loss: 2.7903e-05 - val_mean_squared_error: 2.7903e-05\n"
     ]
    }
   ],
   "source": [
    "history_reg = model_reg.fit(PI_train_reg,\n",
    "                                  r_reg_train,\n",
    "                                  epochs=100,\n",
    "                                  validation_data=(PI_test_reg, r_reg_test))"
   ]
  },
  {
   "cell_type": "code",
   "execution_count": 107,
   "id": "4a36e3d4",
   "metadata": {},
   "outputs": [
    {
     "name": "stdout",
     "output_type": "stream",
     "text": [
      "4/4 - 0s - loss: 2.7903e-05 - mean_squared_error: 2.7903e-05\n",
      "\n",
      "MSE: 2.7902540750801563e-05\n"
     ]
    }
   ],
   "source": [
    "test_loss, test_acc = model_reg.evaluate(PI_test_reg,  r_reg_test, verbose=2)\n",
    "\n",
    "print('\\nMSE:', test_acc)\n"
   ]
  },
  {
   "cell_type": "markdown",
   "id": "9508bac6",
   "metadata": {},
   "source": [
    "MSE of the regreseur trained on Gudhi : 5e-6\n",
    "\n",
    "\n",
    "| Number of point clouds for training \t| Accuracy \t|\n",
    "|:-----------------------------------:\t|:--------:\t|\n",
    "|                 200                 \t|   8.5e-5    \t|\n",
    "|                 300                 \t|   7.5e-5    \t|\n",
    "|                 400                 \t|   5.5e-5    \t|\n",
    "|                 500                 \t|   2e-5    \t|\n",
    "|                 600                 \t|   1.4e-5    \t|\n",
    "|                 750                 \t|   3.5e-5    \t|\n",
    "|                 1000                 \t|   2.7e-5    \t|\n"
   ]
  },
  {
   "cell_type": "code",
   "execution_count": 31,
   "id": "778c0c37",
   "metadata": {},
   "outputs": [
    {
     "data": {
      "image/png": "[encoded data removed]",
      "text/plain": [
       "<Figure size 432x288 with 1 Axes>"
      ]
     },
     "metadata": {
      "needs_background": "light"
     },
     "output_type": "display_data"
    }
   ],
   "source": [
    "mse = [8.5,7.5,5.5,2,1.4,3.4,2.7]\n",
    "number_sets = [200,300,400,500,600,750,1000]\n",
    "\n",
    "plt.plot(number_sets,mse,'o-')\n",
    "plt.title(\"MSE of the regresseur depending on the number of training sets\")\n",
    "plt.ylabel(\"MSE of the regresseur - 10e-5\")\n",
    "plt.xlabel(\"Number of point cloud used for training\")\n",
    "\n",
    "for x,y in zip(number_sets,mse):\n",
    "\n",
    "    label = \"{:.1f}e-5\".format(y)\n",
    "\n",
    "    plt.annotate(label, # this is the text\n",
    "                 (x,y), # this is the point to label\n",
    "                 textcoords=\"offset points\", # how to position the text\n",
    "                 xytext=(7,0), # distance from text to points (x,y)\n",
    "                 ha='left') # horizontal alignment can be left, right or center\n",
    "\n",
    "#plt.savefig(\"Résultats/Résultats 4/mse_number_training_set_smaller_cir.pdf\")"
   ]
  }
 ],
 "metadata": {
  "kernelspec": {
   "display_name": "Python 3 (ipykernel)",
   "language": "python",
   "name": "python3"
  },
  "language_info": {
   "codemirror_mode": {
    "name": "ipython",
    "version": 3
   },
   "file_extension": ".py",
   "mimetype": "text/x-python",
   "name": "python",
   "nbconvert_exporter": "python",
   "pygments_lexer": "ipython3",
   "version": "3.8.10"
  }
 },
 "nbformat": 4,
 "nbformat_minor": 5
}
