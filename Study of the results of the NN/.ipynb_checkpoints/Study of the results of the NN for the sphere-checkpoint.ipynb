{
 "cells": [
  {
   "cell_type": "markdown",
   "id": "c0627c39",
   "metadata": {},
   "source": [
    "# Study of the results of the NN for the sphere"
   ]
  },
  {
   "cell_type": "markdown",
   "id": "82756694",
   "metadata": {},
   "source": [
    "This notebook studies the results of the NN trained to predict PI from the smaller circle dataset. \n",
    "   1. We compare the regression results between a classifier trained on real PIs and trained on predicted PIs."
   ]
  },
  {
   "cell_type": "markdown",
   "id": "ae715e17",
   "metadata": {},
   "source": [
    "---"
   ]
  },
  {
   "cell_type": "code",
   "execution_count": 1,
   "id": "8403d472",
   "metadata": {},
   "outputs": [],
   "source": [
    "import matplotlib.pyplot as plt\n",
    "import numpy as np\n",
    "\n",
    "import tensorflow as tf\n",
    "from IPython.display import SVG\n",
    "\n",
    "import gudhi as gd\n",
    "import gudhi.representations\n",
    "\n",
    "from tqdm import tqdm\n",
    "from time import time\n",
    "\n",
    "from scipy.stats import ks_2samp\n",
    "from sklearn.metrics import r2_score\n"
   ]
  },
  {
   "cell_type": "markdown",
   "id": "4032c238",
   "metadata": {},
   "source": [
    "### Load the NN"
   ]
  },
  {
   "cell_type": "code",
   "execution_count": 2,
   "id": "ccadde6f",
   "metadata": {},
   "outputs": [
    {
     "name": "stdout",
     "output_type": "stream",
     "text": [
      "Model: \"model\"\n",
      "_________________________________________________________________\n",
      "Layer (type)                 Output Shape              Param #   \n",
      "=================================================================\n",
      "input_1 (InputLayer)         [(None, 500, 3)]          0         \n",
      "_________________________________________________________________\n",
      "fully_connected2 (FullyConne (None, 500, 30)           90        \n",
      "_________________________________________________________________\n",
      "tf.nn.relu (TFOpLambda)      (None, 500, 30)           0         \n",
      "_________________________________________________________________\n",
      "dense (Dense)                (None, 500, 20)           620       \n",
      "_________________________________________________________________\n",
      "dense_1 (Dense)              (None, 500, 10)           210       \n",
      "_________________________________________________________________\n",
      "lambda (Lambda)              (None, 10)                0         \n",
      "_________________________________________________________________\n",
      "dense_2 (Dense)              (None, 50)                550       \n",
      "_________________________________________________________________\n",
      "dense_3 (Dense)              (None, 100)               5100      \n",
      "_________________________________________________________________\n",
      "dense_4 (Dense)              (None, 200)               20200     \n",
      "_________________________________________________________________\n",
      "dense_5 (Dense)              (None, 2500)              502500    \n",
      "=================================================================\n",
      "Total params: 529,270\n",
      "Trainable params: 529,270\n",
      "Non-trainable params: 0\n",
      "_________________________________________________________________\n"
     ]
    },
    {
     "data": {
      "image/svg+xml": [
       "<svg xmlns=\"http://www.w3.org/2000/svg\" xmlns:xlink=\"http://www.w3.org/1999/xlink\" width=\"627pt\" height=\"1069pt\" viewBox=\"0.00 0.00 470.00 802.00\">\n",
       "<g id=\"graph0\" class=\"graph\" transform=\"scale(0.75 0.75) rotate(0) translate(4 798)\">\n",
       "<title>G</title>\n",
       "<polygon fill=\"white\" stroke=\"transparent\" points=\"-4,4 -4,-798 466,-798 466,4 -4,4\"/>\n",
       "<!-- 140628317391696 -->\n",
       "<g id=\"node1\" class=\"node\">\n",
       "<title>140628317391696</title>\n",
       "<polygon fill=\"none\" stroke=\"black\" points=\"53.5,-747.5 53.5,-793.5 408.5,-793.5 408.5,-747.5 53.5,-747.5\"/>\n",
       "<text text-anchor=\"middle\" x=\"132.5\" y=\"-766.8\" font-family=\"Times,serif\" font-size=\"14.00\">input_1: InputLayer</text>\n",
       "<polyline fill=\"none\" stroke=\"black\" points=\"211.5,-747.5 211.5,-793.5 \"/>\n",
       "<text text-anchor=\"middle\" x=\"245.5\" y=\"-778.3\" font-family=\"Times,serif\" font-size=\"14.00\">input:</text>\n",
       "<polyline fill=\"none\" stroke=\"black\" points=\"211.5,-770.5 279.5,-770.5 \"/>\n",
       "<text text-anchor=\"middle\" x=\"245.5\" y=\"-755.3\" font-family=\"Times,serif\" font-size=\"14.00\">output:</text>\n",
       "<polyline fill=\"none\" stroke=\"black\" points=\"279.5,-747.5 279.5,-793.5 \"/>\n",
       "<text text-anchor=\"middle\" x=\"344\" y=\"-778.3\" font-family=\"Times,serif\" font-size=\"14.00\">[(None, 500, 3)]</text>\n",
       "<polyline fill=\"none\" stroke=\"black\" points=\"279.5,-770.5 408.5,-770.5 \"/>\n",
       "<text text-anchor=\"middle\" x=\"344\" y=\"-755.3\" font-family=\"Times,serif\" font-size=\"14.00\">[(None, 500, 3)]</text>\n",
       "</g>\n",
       "<!-- 140628317392128 -->\n",
       "<g id=\"node2\" class=\"node\">\n",
       "<title>140628317392128</title>\n",
       "<polygon fill=\"none\" stroke=\"black\" points=\"0,-664.5 0,-710.5 462,-710.5 462,-664.5 0,-664.5\"/>\n",
       "<text text-anchor=\"middle\" x=\"133\" y=\"-683.8\" font-family=\"Times,serif\" font-size=\"14.00\">fully_connected2: FullyConnected2</text>\n",
       "<polyline fill=\"none\" stroke=\"black\" points=\"266,-664.5 266,-710.5 \"/>\n",
       "<text text-anchor=\"middle\" x=\"300\" y=\"-695.3\" font-family=\"Times,serif\" font-size=\"14.00\">input:</text>\n",
       "<polyline fill=\"none\" stroke=\"black\" points=\"266,-687.5 334,-687.5 \"/>\n",
       "<text text-anchor=\"middle\" x=\"300\" y=\"-672.3\" font-family=\"Times,serif\" font-size=\"14.00\">output:</text>\n",
       "<polyline fill=\"none\" stroke=\"black\" points=\"334,-664.5 334,-710.5 \"/>\n",
       "<text text-anchor=\"middle\" x=\"398\" y=\"-695.3\" font-family=\"Times,serif\" font-size=\"14.00\">(None, 500, 3)</text>\n",
       "<polyline fill=\"none\" stroke=\"black\" points=\"334,-687.5 462,-687.5 \"/>\n",
       "<text text-anchor=\"middle\" x=\"398\" y=\"-672.3\" font-family=\"Times,serif\" font-size=\"14.00\">(None, 500, 30)</text>\n",
       "</g>\n",
       "<!-- 140628317391696&#45;&gt;140628317392128 -->\n",
       "<g id=\"edge1\" class=\"edge\">\n",
       "<title>140628317391696-&gt;140628317392128</title>\n",
       "<path fill=\"none\" stroke=\"black\" d=\"M231,-747.37C231,-739.15 231,-729.66 231,-720.73\"/>\n",
       "<polygon fill=\"black\" stroke=\"black\" points=\"234.5,-720.61 231,-710.61 227.5,-720.61 234.5,-720.61\"/>\n",
       "</g>\n",
       "<!-- 140628308689536 -->\n",
       "<g id=\"node3\" class=\"node\">\n",
       "<title>140628308689536</title>\n",
       "<polygon fill=\"none\" stroke=\"black\" points=\"39,-581.5 39,-627.5 423,-627.5 423,-581.5 39,-581.5\"/>\n",
       "<text text-anchor=\"middle\" x=\"133\" y=\"-600.8\" font-family=\"Times,serif\" font-size=\"14.00\">tf.nn.relu: TFOpLambda</text>\n",
       "<polyline fill=\"none\" stroke=\"black\" points=\"227,-581.5 227,-627.5 \"/>\n",
       "<text text-anchor=\"middle\" x=\"261\" y=\"-612.3\" font-family=\"Times,serif\" font-size=\"14.00\">input:</text>\n",
       "<polyline fill=\"none\" stroke=\"black\" points=\"227,-604.5 295,-604.5 \"/>\n",
       "<text text-anchor=\"middle\" x=\"261\" y=\"-589.3\" font-family=\"Times,serif\" font-size=\"14.00\">output:</text>\n",
       "<polyline fill=\"none\" stroke=\"black\" points=\"295,-581.5 295,-627.5 \"/>\n",
       "<text text-anchor=\"middle\" x=\"359\" y=\"-612.3\" font-family=\"Times,serif\" font-size=\"14.00\">(None, 500, 30)</text>\n",
       "<polyline fill=\"none\" stroke=\"black\" points=\"295,-604.5 423,-604.5 \"/>\n",
       "<text text-anchor=\"middle\" x=\"359\" y=\"-589.3\" font-family=\"Times,serif\" font-size=\"14.00\">(None, 500, 30)</text>\n",
       "</g>\n",
       "<!-- 140628317392128&#45;&gt;140628308689536 -->\n",
       "<g id=\"edge2\" class=\"edge\">\n",
       "<title>140628317392128-&gt;140628308689536</title>\n",
       "<path fill=\"none\" stroke=\"black\" d=\"M231,-664.37C231,-656.15 231,-646.66 231,-637.73\"/>\n",
       "<polygon fill=\"black\" stroke=\"black\" points=\"234.5,-637.61 231,-627.61 227.5,-637.61 234.5,-637.61\"/>\n",
       "</g>\n",
       "<!-- 140628308690256 -->\n",
       "<g id=\"node4\" class=\"node\">\n",
       "<title>140628308690256</title>\n",
       "<polygon fill=\"none\" stroke=\"black\" points=\"77,-498.5 77,-544.5 385,-544.5 385,-498.5 77,-498.5\"/>\n",
       "<text text-anchor=\"middle\" x=\"133\" y=\"-517.8\" font-family=\"Times,serif\" font-size=\"14.00\">dense: Dense</text>\n",
       "<polyline fill=\"none\" stroke=\"black\" points=\"189,-498.5 189,-544.5 \"/>\n",
       "<text text-anchor=\"middle\" x=\"223\" y=\"-529.3\" font-family=\"Times,serif\" font-size=\"14.00\">input:</text>\n",
       "<polyline fill=\"none\" stroke=\"black\" points=\"189,-521.5 257,-521.5 \"/>\n",
       "<text text-anchor=\"middle\" x=\"223\" y=\"-506.3\" font-family=\"Times,serif\" font-size=\"14.00\">output:</text>\n",
       "<polyline fill=\"none\" stroke=\"black\" points=\"257,-498.5 257,-544.5 \"/>\n",
       "<text text-anchor=\"middle\" x=\"321\" y=\"-529.3\" font-family=\"Times,serif\" font-size=\"14.00\">(None, 500, 30)</text>\n",
       "<polyline fill=\"none\" stroke=\"black\" points=\"257,-521.5 385,-521.5 \"/>\n",
       "<text text-anchor=\"middle\" x=\"321\" y=\"-506.3\" font-family=\"Times,serif\" font-size=\"14.00\">(None, 500, 20)</text>\n",
       "</g>\n",
       "<!-- 140628308689536&#45;&gt;140628308690256 -->\n",
       "<g id=\"edge3\" class=\"edge\">\n",
       "<title>140628308689536-&gt;140628308690256</title>\n",
       "<path fill=\"none\" stroke=\"black\" d=\"M231,-581.37C231,-573.15 231,-563.66 231,-554.73\"/>\n",
       "<polygon fill=\"black\" stroke=\"black\" points=\"234.5,-554.61 231,-544.61 227.5,-554.61 234.5,-554.61\"/>\n",
       "</g>\n",
       "<!-- 140628308691504 -->\n",
       "<g id=\"node5\" class=\"node\">\n",
       "<title>140628308691504</title>\n",
       "<polygon fill=\"none\" stroke=\"black\" points=\"69,-415.5 69,-461.5 393,-461.5 393,-415.5 69,-415.5\"/>\n",
       "<text text-anchor=\"middle\" x=\"133\" y=\"-434.8\" font-family=\"Times,serif\" font-size=\"14.00\">dense_1: Dense</text>\n",
       "<polyline fill=\"none\" stroke=\"black\" points=\"197,-415.5 197,-461.5 \"/>\n",
       "<text text-anchor=\"middle\" x=\"231\" y=\"-446.3\" font-family=\"Times,serif\" font-size=\"14.00\">input:</text>\n",
       "<polyline fill=\"none\" stroke=\"black\" points=\"197,-438.5 265,-438.5 \"/>\n",
       "<text text-anchor=\"middle\" x=\"231\" y=\"-423.3\" font-family=\"Times,serif\" font-size=\"14.00\">output:</text>\n",
       "<polyline fill=\"none\" stroke=\"black\" points=\"265,-415.5 265,-461.5 \"/>\n",
       "<text text-anchor=\"middle\" x=\"329\" y=\"-446.3\" font-family=\"Times,serif\" font-size=\"14.00\">(None, 500, 20)</text>\n",
       "<polyline fill=\"none\" stroke=\"black\" points=\"265,-438.5 393,-438.5 \"/>\n",
       "<text text-anchor=\"middle\" x=\"329\" y=\"-423.3\" font-family=\"Times,serif\" font-size=\"14.00\">(None, 500, 10)</text>\n",
       "</g>\n",
       "<!-- 140628308690256&#45;&gt;140628308691504 -->\n",
       "<g id=\"edge4\" class=\"edge\">\n",
       "<title>140628308690256-&gt;140628308691504</title>\n",
       "<path fill=\"none\" stroke=\"black\" d=\"M231,-498.37C231,-490.15 231,-480.66 231,-471.73\"/>\n",
       "<polygon fill=\"black\" stroke=\"black\" points=\"234.5,-471.61 231,-461.61 227.5,-471.61 234.5,-471.61\"/>\n",
       "</g>\n",
       "<!-- 140628308691552 -->\n",
       "<g id=\"node6\" class=\"node\">\n",
       "<title>140628308691552</title>\n",
       "<polygon fill=\"none\" stroke=\"black\" points=\"65.5,-332.5 65.5,-378.5 396.5,-378.5 396.5,-332.5 65.5,-332.5\"/>\n",
       "<text text-anchor=\"middle\" x=\"133\" y=\"-351.8\" font-family=\"Times,serif\" font-size=\"14.00\">lambda: Lambda</text>\n",
       "<polyline fill=\"none\" stroke=\"black\" points=\"200.5,-332.5 200.5,-378.5 \"/>\n",
       "<text text-anchor=\"middle\" x=\"234.5\" y=\"-363.3\" font-family=\"Times,serif\" font-size=\"14.00\">input:</text>\n",
       "<polyline fill=\"none\" stroke=\"black\" points=\"200.5,-355.5 268.5,-355.5 \"/>\n",
       "<text text-anchor=\"middle\" x=\"234.5\" y=\"-340.3\" font-family=\"Times,serif\" font-size=\"14.00\">output:</text>\n",
       "<polyline fill=\"none\" stroke=\"black\" points=\"268.5,-332.5 268.5,-378.5 \"/>\n",
       "<text text-anchor=\"middle\" x=\"332.5\" y=\"-363.3\" font-family=\"Times,serif\" font-size=\"14.00\">(None, 500, 10)</text>\n",
       "<polyline fill=\"none\" stroke=\"black\" points=\"268.5,-355.5 396.5,-355.5 \"/>\n",
       "<text text-anchor=\"middle\" x=\"332.5\" y=\"-340.3\" font-family=\"Times,serif\" font-size=\"14.00\">(None, 10)</text>\n",
       "</g>\n",
       "<!-- 140628308691504&#45;&gt;140628308691552 -->\n",
       "<g id=\"edge5\" class=\"edge\">\n",
       "<title>140628308691504-&gt;140628308691552</title>\n",
       "<path fill=\"none\" stroke=\"black\" d=\"M231,-415.37C231,-407.15 231,-397.66 231,-388.73\"/>\n",
       "<polygon fill=\"black\" stroke=\"black\" points=\"234.5,-388.61 231,-378.61 227.5,-388.61 234.5,-388.61\"/>\n",
       "</g>\n",
       "<!-- 140628308165968 -->\n",
       "<g id=\"node7\" class=\"node\">\n",
       "<title>140628308165968</title>\n",
       "<polygon fill=\"none\" stroke=\"black\" points=\"87,-249.5 87,-295.5 375,-295.5 375,-249.5 87,-249.5\"/>\n",
       "<text text-anchor=\"middle\" x=\"151\" y=\"-268.8\" font-family=\"Times,serif\" font-size=\"14.00\">dense_2: Dense</text>\n",
       "<polyline fill=\"none\" stroke=\"black\" points=\"215,-249.5 215,-295.5 \"/>\n",
       "<text text-anchor=\"middle\" x=\"249\" y=\"-280.3\" font-family=\"Times,serif\" font-size=\"14.00\">input:</text>\n",
       "<polyline fill=\"none\" stroke=\"black\" points=\"215,-272.5 283,-272.5 \"/>\n",
       "<text text-anchor=\"middle\" x=\"249\" y=\"-257.3\" font-family=\"Times,serif\" font-size=\"14.00\">output:</text>\n",
       "<polyline fill=\"none\" stroke=\"black\" points=\"283,-249.5 283,-295.5 \"/>\n",
       "<text text-anchor=\"middle\" x=\"329\" y=\"-280.3\" font-family=\"Times,serif\" font-size=\"14.00\">(None, 10)</text>\n",
       "<polyline fill=\"none\" stroke=\"black\" points=\"283,-272.5 375,-272.5 \"/>\n",
       "<text text-anchor=\"middle\" x=\"329\" y=\"-257.3\" font-family=\"Times,serif\" font-size=\"14.00\">(None, 50)</text>\n",
       "</g>\n",
       "<!-- 140628308691552&#45;&gt;140628308165968 -->\n",
       "<g id=\"edge6\" class=\"edge\">\n",
       "<title>140628308691552-&gt;140628308165968</title>\n",
       "<path fill=\"none\" stroke=\"black\" d=\"M231,-332.37C231,-324.15 231,-314.66 231,-305.73\"/>\n",
       "<polygon fill=\"black\" stroke=\"black\" points=\"234.5,-305.61 231,-295.61 227.5,-305.61 234.5,-305.61\"/>\n",
       "</g>\n",
       "<!-- 140628308167744 -->\n",
       "<g id=\"node8\" class=\"node\">\n",
       "<title>140628308167744</title>\n",
       "<polygon fill=\"none\" stroke=\"black\" points=\"82.5,-166.5 82.5,-212.5 379.5,-212.5 379.5,-166.5 82.5,-166.5\"/>\n",
       "<text text-anchor=\"middle\" x=\"146.5\" y=\"-185.8\" font-family=\"Times,serif\" font-size=\"14.00\">dense_3: Dense</text>\n",
       "<polyline fill=\"none\" stroke=\"black\" points=\"210.5,-166.5 210.5,-212.5 \"/>\n",
       "<text text-anchor=\"middle\" x=\"244.5\" y=\"-197.3\" font-family=\"Times,serif\" font-size=\"14.00\">input:</text>\n",
       "<polyline fill=\"none\" stroke=\"black\" points=\"210.5,-189.5 278.5,-189.5 \"/>\n",
       "<text text-anchor=\"middle\" x=\"244.5\" y=\"-174.3\" font-family=\"Times,serif\" font-size=\"14.00\">output:</text>\n",
       "<polyline fill=\"none\" stroke=\"black\" points=\"278.5,-166.5 278.5,-212.5 \"/>\n",
       "<text text-anchor=\"middle\" x=\"329\" y=\"-197.3\" font-family=\"Times,serif\" font-size=\"14.00\">(None, 50)</text>\n",
       "<polyline fill=\"none\" stroke=\"black\" points=\"278.5,-189.5 379.5,-189.5 \"/>\n",
       "<text text-anchor=\"middle\" x=\"329\" y=\"-174.3\" font-family=\"Times,serif\" font-size=\"14.00\">(None, 100)</text>\n",
       "</g>\n",
       "<!-- 140628308165968&#45;&gt;140628308167744 -->\n",
       "<g id=\"edge7\" class=\"edge\">\n",
       "<title>140628308165968-&gt;140628308167744</title>\n",
       "<path fill=\"none\" stroke=\"black\" d=\"M231,-249.37C231,-241.15 231,-231.66 231,-222.73\"/>\n",
       "<polygon fill=\"black\" stroke=\"black\" points=\"234.5,-222.61 231,-212.61 227.5,-222.61 234.5,-222.61\"/>\n",
       "</g>\n",
       "<!-- 140628308218448 -->\n",
       "<g id=\"node9\" class=\"node\">\n",
       "<title>140628308218448</title>\n",
       "<polygon fill=\"none\" stroke=\"black\" points=\"82.5,-83.5 82.5,-129.5 379.5,-129.5 379.5,-83.5 82.5,-83.5\"/>\n",
       "<text text-anchor=\"middle\" x=\"146.5\" y=\"-102.8\" font-family=\"Times,serif\" font-size=\"14.00\">dense_4: Dense</text>\n",
       "<polyline fill=\"none\" stroke=\"black\" points=\"210.5,-83.5 210.5,-129.5 \"/>\n",
       "<text text-anchor=\"middle\" x=\"244.5\" y=\"-114.3\" font-family=\"Times,serif\" font-size=\"14.00\">input:</text>\n",
       "<polyline fill=\"none\" stroke=\"black\" points=\"210.5,-106.5 278.5,-106.5 \"/>\n",
       "<text text-anchor=\"middle\" x=\"244.5\" y=\"-91.3\" font-family=\"Times,serif\" font-size=\"14.00\">output:</text>\n",
       "<polyline fill=\"none\" stroke=\"black\" points=\"278.5,-83.5 278.5,-129.5 \"/>\n",
       "<text text-anchor=\"middle\" x=\"329\" y=\"-114.3\" font-family=\"Times,serif\" font-size=\"14.00\">(None, 100)</text>\n",
       "<polyline fill=\"none\" stroke=\"black\" points=\"278.5,-106.5 379.5,-106.5 \"/>\n",
       "<text text-anchor=\"middle\" x=\"329\" y=\"-91.3\" font-family=\"Times,serif\" font-size=\"14.00\">(None, 200)</text>\n",
       "</g>\n",
       "<!-- 140628308167744&#45;&gt;140628308218448 -->\n",
       "<g id=\"edge8\" class=\"edge\">\n",
       "<title>140628308167744-&gt;140628308218448</title>\n",
       "<path fill=\"none\" stroke=\"black\" d=\"M231,-166.37C231,-158.15 231,-148.66 231,-139.73\"/>\n",
       "<polygon fill=\"black\" stroke=\"black\" points=\"234.5,-139.61 231,-129.61 227.5,-139.61 234.5,-139.61\"/>\n",
       "</g>\n",
       "<!-- 140628308219936 -->\n",
       "<g id=\"node10\" class=\"node\">\n",
       "<title>140628308219936</title>\n",
       "<polygon fill=\"none\" stroke=\"black\" points=\"78,-0.5 78,-46.5 384,-46.5 384,-0.5 78,-0.5\"/>\n",
       "<text text-anchor=\"middle\" x=\"142\" y=\"-19.8\" font-family=\"Times,serif\" font-size=\"14.00\">dense_5: Dense</text>\n",
       "<polyline fill=\"none\" stroke=\"black\" points=\"206,-0.5 206,-46.5 \"/>\n",
       "<text text-anchor=\"middle\" x=\"240\" y=\"-31.3\" font-family=\"Times,serif\" font-size=\"14.00\">input:</text>\n",
       "<polyline fill=\"none\" stroke=\"black\" points=\"206,-23.5 274,-23.5 \"/>\n",
       "<text text-anchor=\"middle\" x=\"240\" y=\"-8.3\" font-family=\"Times,serif\" font-size=\"14.00\">output:</text>\n",
       "<polyline fill=\"none\" stroke=\"black\" points=\"274,-0.5 274,-46.5 \"/>\n",
       "<text text-anchor=\"middle\" x=\"329\" y=\"-31.3\" font-family=\"Times,serif\" font-size=\"14.00\">(None, 200)</text>\n",
       "<polyline fill=\"none\" stroke=\"black\" points=\"274,-23.5 384,-23.5 \"/>\n",
       "<text text-anchor=\"middle\" x=\"329\" y=\"-8.3\" font-family=\"Times,serif\" font-size=\"14.00\">(None, 2500)</text>\n",
       "</g>\n",
       "<!-- 140628308218448&#45;&gt;140628308219936 -->\n",
       "<g id=\"edge9\" class=\"edge\">\n",
       "<title>140628308218448-&gt;140628308219936</title>\n",
       "<path fill=\"none\" stroke=\"black\" d=\"M231,-83.37C231,-75.15 231,-65.66 231,-56.73\"/>\n",
       "<polygon fill=\"black\" stroke=\"black\" points=\"234.5,-56.61 231,-46.61 227.5,-56.61 234.5,-56.61\"/>\n",
       "</g>\n",
       "</g>\n",
       "</svg>"
      ],
      "text/plain": [
       "<IPython.core.display.SVG object>"
      ]
     },
     "execution_count": 2,
     "metadata": {},
     "output_type": "execute_result"
    }
   ],
   "source": [
    "model_PI = tf.keras.models.load_model('../Trained_NN/model_spheres/')\n",
    "model_PI.summary()\n",
    "\n",
    "SVG(\n",
    "    tf.keras.utils.model_to_dot(model_PI,\n",
    "                                show_shapes=True).create(prog='dot',\n",
    "                                                         format='svg'))\n",
    "#tf.keras.utils.plot_model(model_PI,\n",
    "#to_file='dot_img_file.pdf',\n",
    "#show_shapes=True,\n",
    "#rankdir='LR')"
   ]
  },
  {
   "cell_type": "markdown",
   "id": "a0432255",
   "metadata": {},
   "source": [
    "## Regression "
   ]
  },
  {
   "cell_type": "markdown",
   "id": "fc825ba0",
   "metadata": {},
   "source": [
    "We first load the data that will be used as training and testing data for the regression."
   ]
  },
  {
   "cell_type": "code",
   "execution_count": 3,
   "id": "f0529801",
   "metadata": {},
   "outputs": [],
   "source": [
    "data = np.load('data/PI_data_sphere_reg.npz')\n",
    "\n",
    "#data = np.load('PI_data_1000_dynamical_alpha.npz')\n",
    "\n",
    "r_train_gudhi = data[\"r_train\"]\n",
    "PI_train_gudhi = data[\"PI_train\"]\n",
    "r_test_gudhi = data[\"r_test\"]\n",
    "PI_test_gudhi = data[\"PI_test\"]"
   ]
  },
  {
   "cell_type": "code",
   "execution_count": 4,
   "id": "652a3e02",
   "metadata": {},
   "outputs": [],
   "source": [
    "N_sets_train = r_train_gudhi.shape[0]\n",
    "N_sets_test = r_test_gudhi.shape[0]\n",
    "PI_size = int(np.sqrt(PI_train_gudhi.shape[1]))"
   ]
  },
  {
   "cell_type": "code",
   "execution_count": 5,
   "id": "95f21564",
   "metadata": {},
   "outputs": [
    {
     "name": "stdout",
     "output_type": "stream",
     "text": [
      "N_sets_train :  9999\n",
      "N_sets_test :  999\n",
      "PI_size :  50\n"
     ]
    }
   ],
   "source": [
    "print(\"N_sets_train : \", N_sets_train)\n",
    "print(\"N_sets_test : \", N_sets_test)\n",
    "print(\"PI_size : \", PI_size)"
   ]
  },
  {
   "cell_type": "markdown",
   "id": "216c4e37",
   "metadata": {},
   "source": [
    "We want to compare the regression results between the true PIs and the predited PIs. For that, we create 2 models : ```model_reg_NN``` will be trained with the PI computed by the NN and ```model_reg_gudhi``` will be trained with the PI computed by Gudhi. We will then compare their accuracy on new data."
   ]
  },
  {
   "cell_type": "code",
   "execution_count": 6,
   "id": "180381df",
   "metadata": {},
   "outputs": [],
   "source": [
    "def create_model():\n",
    "    inputs = tf.keras.Input(shape=(PI_size * PI_size))\n",
    "\n",
    "    x = tf.keras.layers.Dense(100, activation='relu')(inputs)\n",
    "\n",
    "    x = tf.keras.layers.Dense(50, activation='relu')(x)\n",
    "\n",
    "    outputs = tf.keras.layers.Dense(1)(x)\n",
    "\n",
    "    model_reg = tf.keras.Model(inputs=inputs, outputs=outputs)\n",
    "    model_reg.compile(loss=\"mean_squared_error\" , optimizer=\"adam\", metrics=[\"mean_squared_error\"])\n",
    "    return model_reg"
   ]
  },
  {
   "cell_type": "code",
   "execution_count": 7,
   "id": "f39d1694",
   "metadata": {},
   "outputs": [
    {
     "name": "stdout",
     "output_type": "stream",
     "text": [
      "Model: \"model\"\n",
      "_________________________________________________________________\n",
      "Layer (type)                 Output Shape              Param #   \n",
      "=================================================================\n",
      "input_1 (InputLayer)         [(None, 2500)]            0         \n",
      "_________________________________________________________________\n",
      "dense (Dense)                (None, 100)               250100    \n",
      "_________________________________________________________________\n",
      "dense_1 (Dense)              (None, 50)                5050      \n",
      "_________________________________________________________________\n",
      "dense_2 (Dense)              (None, 1)                 51        \n",
      "=================================================================\n",
      "Total params: 255,201\n",
      "Trainable params: 255,201\n",
      "Non-trainable params: 0\n",
      "_________________________________________________________________\n"
     ]
    }
   ],
   "source": [
    "model_reg_NN = create_model()\n",
    "model_reg_gudhi = create_model()\n",
    "\n",
    "model_reg_NN.summary()\n"
   ]
  },
  {
   "cell_type": "markdown",
   "id": "0a94cf93",
   "metadata": {},
   "source": [
    "### Fit the regression model ```model_reg_gudhi```"
   ]
  },
  {
   "cell_type": "code",
   "execution_count": 8,
   "id": "17695531",
   "metadata": {
    "scrolled": true
   },
   "outputs": [
    {
     "name": "stdout",
     "output_type": "stream",
     "text": [
      "Epoch 1/100\n",
      "313/313 [==============================] - 1s 2ms/step - loss: 0.0380 - mean_squared_error: 0.0380 - val_loss: 8.6790e-04 - val_mean_squared_error: 8.6790e-04\n",
      "Epoch 2/100\n",
      "313/313 [==============================] - 1s 2ms/step - loss: 0.0016 - mean_squared_error: 0.0016 - val_loss: 0.0024 - val_mean_squared_error: 0.0024\n",
      "Epoch 3/100\n",
      "313/313 [==============================] - 1s 2ms/step - loss: 9.9127e-04 - mean_squared_error: 9.9127e-04 - val_loss: 3.1406e-04 - val_mean_squared_error: 3.1406e-04\n",
      "Epoch 4/100\n",
      "313/313 [==============================] - 1s 2ms/step - loss: 0.0018 - mean_squared_error: 0.0018 - val_loss: 2.3429e-04 - val_mean_squared_error: 2.3429e-04\n",
      "Epoch 5/100\n",
      "313/313 [==============================] - 1s 2ms/step - loss: 0.0041 - mean_squared_error: 0.0041 - val_loss: 2.8719e-04 - val_mean_squared_error: 2.8719e-04\n",
      "Epoch 6/100\n",
      "313/313 [==============================] - 1s 2ms/step - loss: 4.8760e-04 - mean_squared_error: 4.8760e-04 - val_loss: 4.4014e-04 - val_mean_squared_error: 4.4014e-04\n",
      "Epoch 7/100\n",
      "313/313 [==============================] - 1s 2ms/step - loss: 4.1138e-04 - mean_squared_error: 4.1138e-04 - val_loss: 1.5752e-04 - val_mean_squared_error: 1.5752e-04\n",
      "Epoch 8/100\n",
      "313/313 [==============================] - 1s 2ms/step - loss: 2.8025e-04 - mean_squared_error: 2.8025e-04 - val_loss: 2.1203e-04 - val_mean_squared_error: 2.1203e-04\n",
      "Epoch 9/100\n",
      "313/313 [==============================] - 1s 2ms/step - loss: 0.0016 - mean_squared_error: 0.0016 - val_loss: 0.0019 - val_mean_squared_error: 0.0019\n",
      "Epoch 10/100\n",
      "313/313 [==============================] - 1s 2ms/step - loss: 7.1721e-04 - mean_squared_error: 7.1721e-04 - val_loss: 5.9172e-04 - val_mean_squared_error: 5.9172e-04\n",
      "Epoch 11/100\n",
      "313/313 [==============================] - 1s 2ms/step - loss: 3.2913e-04 - mean_squared_error: 3.2913e-04 - val_loss: 1.3629e-04 - val_mean_squared_error: 1.3629e-04\n",
      "Epoch 12/100\n",
      "313/313 [==============================] - 1s 2ms/step - loss: 2.6007e-04 - mean_squared_error: 2.6007e-04 - val_loss: 1.3414e-04 - val_mean_squared_error: 1.3414e-04\n",
      "Epoch 13/100\n",
      "313/313 [==============================] - 1s 2ms/step - loss: 3.9939e-04 - mean_squared_error: 3.9939e-04 - val_loss: 2.4176e-04 - val_mean_squared_error: 2.4176e-04\n",
      "Epoch 14/100\n",
      "313/313 [==============================] - 1s 2ms/step - loss: 4.2990e-04 - mean_squared_error: 4.2990e-04 - val_loss: 2.9429e-04 - val_mean_squared_error: 2.9429e-04\n",
      "Epoch 15/100\n",
      "313/313 [==============================] - 1s 2ms/step - loss: 0.0011 - mean_squared_error: 0.0011 - val_loss: 3.0670e-04 - val_mean_squared_error: 3.0670e-04\n",
      "Epoch 16/100\n",
      "313/313 [==============================] - 1s 2ms/step - loss: 2.3350e-04 - mean_squared_error: 2.3350e-04 - val_loss: 2.2602e-04 - val_mean_squared_error: 2.2602e-04\n",
      "Epoch 17/100\n",
      "313/313 [==============================] - 1s 2ms/step - loss: 1.9971e-04 - mean_squared_error: 1.9971e-04 - val_loss: 1.1890e-04 - val_mean_squared_error: 1.1890e-04\n",
      "Epoch 18/100\n",
      "313/313 [==============================] - 1s 2ms/step - loss: 1.5270e-04 - mean_squared_error: 1.5270e-04 - val_loss: 2.0024e-04 - val_mean_squared_error: 2.0024e-04\n",
      "Epoch 19/100\n",
      "313/313 [==============================] - 1s 2ms/step - loss: 1.3092e-04 - mean_squared_error: 1.3092e-04 - val_loss: 9.8693e-05 - val_mean_squared_error: 9.8693e-05\n",
      "Epoch 20/100\n",
      "313/313 [==============================] - 1s 2ms/step - loss: 1.2700e-04 - mean_squared_error: 1.2700e-04 - val_loss: 1.3049e-04 - val_mean_squared_error: 1.3049e-04\n",
      "Epoch 21/100\n",
      "313/313 [==============================] - 1s 2ms/step - loss: 1.1202e-04 - mean_squared_error: 1.1202e-04 - val_loss: 5.0797e-04 - val_mean_squared_error: 5.0797e-04\n",
      "Epoch 22/100\n",
      "313/313 [==============================] - 1s 2ms/step - loss: 1.1374e-04 - mean_squared_error: 1.1374e-04 - val_loss: 1.0855e-04 - val_mean_squared_error: 1.0855e-04\n",
      "Epoch 23/100\n",
      "313/313 [==============================] - 1s 2ms/step - loss: 9.8908e-05 - mean_squared_error: 9.8908e-05 - val_loss: 8.0703e-05 - val_mean_squared_error: 8.0703e-05\n",
      "Epoch 24/100\n",
      "313/313 [==============================] - 1s 2ms/step - loss: 1.0866e-04 - mean_squared_error: 1.0866e-04 - val_loss: 8.6098e-05 - val_mean_squared_error: 8.6098e-05\n",
      "Epoch 25/100\n",
      "313/313 [==============================] - 1s 2ms/step - loss: 9.1107e-05 - mean_squared_error: 9.1107e-05 - val_loss: 6.6536e-05 - val_mean_squared_error: 6.6536e-05\n",
      "Epoch 26/100\n",
      "313/313 [==============================] - 1s 2ms/step - loss: 9.5544e-05 - mean_squared_error: 9.5544e-05 - val_loss: 7.3583e-05 - val_mean_squared_error: 7.3583e-05\n",
      "Epoch 27/100\n",
      "313/313 [==============================] - 1s 2ms/step - loss: 9.3616e-05 - mean_squared_error: 9.3616e-05 - val_loss: 1.4403e-04 - val_mean_squared_error: 1.4403e-04\n",
      "Epoch 28/100\n",
      "313/313 [==============================] - 1s 2ms/step - loss: 8.6083e-05 - mean_squared_error: 8.6083e-05 - val_loss: 9.8560e-05 - val_mean_squared_error: 9.8560e-05\n",
      "Epoch 29/100\n",
      "313/313 [==============================] - 1s 2ms/step - loss: 9.0530e-04 - mean_squared_error: 9.0530e-04 - val_loss: 9.3097e-05 - val_mean_squared_error: 9.3097e-05\n",
      "Epoch 30/100\n",
      "313/313 [==============================] - 1s 2ms/step - loss: 1.1822e-04 - mean_squared_error: 1.1822e-04 - val_loss: 7.8565e-05 - val_mean_squared_error: 7.8565e-05\n",
      "Epoch 31/100\n",
      "313/313 [==============================] - 1s 2ms/step - loss: 1.1188e-04 - mean_squared_error: 1.1188e-04 - val_loss: 1.0926e-04 - val_mean_squared_error: 1.0926e-04\n",
      "Epoch 32/100\n",
      "313/313 [==============================] - 1s 2ms/step - loss: 1.0439e-04 - mean_squared_error: 1.0439e-04 - val_loss: 7.4870e-05 - val_mean_squared_error: 7.4870e-05\n",
      "Epoch 33/100\n",
      "313/313 [==============================] - 1s 2ms/step - loss: 1.3986e-04 - mean_squared_error: 1.3986e-04 - val_loss: 2.4340e-04 - val_mean_squared_error: 2.4340e-04\n",
      "Epoch 34/100\n",
      "313/313 [==============================] - 1s 2ms/step - loss: 9.4371e-05 - mean_squared_error: 9.4371e-05 - val_loss: 1.0230e-04 - val_mean_squared_error: 1.0230e-04\n",
      "Epoch 35/100\n",
      "313/313 [==============================] - 1s 2ms/step - loss: 8.2825e-05 - mean_squared_error: 8.2825e-05 - val_loss: 8.5998e-05 - val_mean_squared_error: 8.5998e-05\n",
      "Epoch 36/100\n",
      "313/313 [==============================] - 1s 2ms/step - loss: 9.0708e-05 - mean_squared_error: 9.0708e-05 - val_loss: 6.8180e-05 - val_mean_squared_error: 6.8180e-05\n",
      "Epoch 37/100\n",
      "313/313 [==============================] - 1s 2ms/step - loss: 9.7332e-05 - mean_squared_error: 9.7332e-05 - val_loss: 6.0835e-05 - val_mean_squared_error: 6.0835e-05\n",
      "Epoch 38/100\n",
      "313/313 [==============================] - 1s 2ms/step - loss: 1.1085e-04 - mean_squared_error: 1.1085e-04 - val_loss: 1.0231e-04 - val_mean_squared_error: 1.0231e-04\n",
      "Epoch 39/100\n",
      "313/313 [==============================] - 1s 2ms/step - loss: 7.1538e-05 - mean_squared_error: 7.1538e-05 - val_loss: 1.0072e-04 - val_mean_squared_error: 1.0072e-04\n",
      "Epoch 40/100\n",
      "313/313 [==============================] - 1s 2ms/step - loss: 8.3742e-05 - mean_squared_error: 8.3742e-05 - val_loss: 6.7695e-05 - val_mean_squared_error: 6.7695e-05\n",
      "Epoch 41/100\n",
      "313/313 [==============================] - 1s 2ms/step - loss: 1.0670e-04 - mean_squared_error: 1.0670e-04 - val_loss: 1.8017e-04 - val_mean_squared_error: 1.8017e-04\n",
      "Epoch 42/100\n",
      "313/313 [==============================] - 1s 2ms/step - loss: 1.7301e-04 - mean_squared_error: 1.7301e-04 - val_loss: 7.7186e-05 - val_mean_squared_error: 7.7186e-05\n",
      "Epoch 43/100\n",
      "313/313 [==============================] - 1s 2ms/step - loss: 9.1810e-05 - mean_squared_error: 9.1810e-05 - val_loss: 9.9442e-05 - val_mean_squared_error: 9.9442e-05\n",
      "Epoch 44/100\n",
      "313/313 [==============================] - 1s 2ms/step - loss: 7.8220e-05 - mean_squared_error: 7.8220e-05 - val_loss: 5.3790e-05 - val_mean_squared_error: 5.3790e-05\n",
      "Epoch 45/100\n",
      "313/313 [==============================] - 1s 2ms/step - loss: 7.3852e-05 - mean_squared_error: 7.3852e-05 - val_loss: 5.8330e-05 - val_mean_squared_error: 5.8330e-05\n",
      "Epoch 46/100\n",
      "313/313 [==============================] - 1s 2ms/step - loss: 7.0585e-05 - mean_squared_error: 7.0585e-05 - val_loss: 6.7860e-05 - val_mean_squared_error: 6.7860e-05\n"
     ]
    },
    {
     "name": "stdout",
     "output_type": "stream",
     "text": [
      "Epoch 47/100\n",
      "313/313 [==============================] - 1s 2ms/step - loss: 8.4582e-05 - mean_squared_error: 8.4582e-05 - val_loss: 7.0175e-05 - val_mean_squared_error: 7.0175e-05\n",
      "Epoch 48/100\n",
      "313/313 [==============================] - 1s 2ms/step - loss: 7.3155e-05 - mean_squared_error: 7.3155e-05 - val_loss: 5.3883e-05 - val_mean_squared_error: 5.3883e-05\n",
      "Epoch 49/100\n",
      "313/313 [==============================] - 1s 2ms/step - loss: 8.0079e-05 - mean_squared_error: 8.0079e-05 - val_loss: 9.4061e-05 - val_mean_squared_error: 9.4061e-05\n",
      "Epoch 50/100\n",
      "313/313 [==============================] - 1s 2ms/step - loss: 6.4828e-05 - mean_squared_error: 6.4828e-05 - val_loss: 9.3597e-05 - val_mean_squared_error: 9.3597e-05\n",
      "Epoch 51/100\n",
      "313/313 [==============================] - 1s 2ms/step - loss: 7.2130e-05 - mean_squared_error: 7.2130e-05 - val_loss: 1.3297e-04 - val_mean_squared_error: 1.3297e-04\n",
      "Epoch 52/100\n",
      "313/313 [==============================] - 1s 2ms/step - loss: 7.7829e-05 - mean_squared_error: 7.7829e-05 - val_loss: 9.1167e-05 - val_mean_squared_error: 9.1167e-05\n",
      "Epoch 53/100\n",
      "313/313 [==============================] - 1s 2ms/step - loss: 6.2141e-05 - mean_squared_error: 6.2141e-05 - val_loss: 5.4855e-05 - val_mean_squared_error: 5.4855e-05\n",
      "Epoch 54/100\n",
      "313/313 [==============================] - 1s 2ms/step - loss: 6.2091e-05 - mean_squared_error: 6.2091e-05 - val_loss: 4.0964e-05 - val_mean_squared_error: 4.0964e-05\n",
      "Epoch 55/100\n",
      "313/313 [==============================] - 1s 2ms/step - loss: 6.0346e-05 - mean_squared_error: 6.0346e-05 - val_loss: 4.5041e-05 - val_mean_squared_error: 4.5041e-05\n",
      "Epoch 56/100\n",
      "313/313 [==============================] - 1s 2ms/step - loss: 5.9087e-05 - mean_squared_error: 5.9087e-05 - val_loss: 8.1196e-05 - val_mean_squared_error: 8.1196e-05\n",
      "Epoch 57/100\n",
      "313/313 [==============================] - 1s 2ms/step - loss: 6.6625e-05 - mean_squared_error: 6.6625e-05 - val_loss: 6.7495e-05 - val_mean_squared_error: 6.7495e-05\n",
      "Epoch 58/100\n",
      "313/313 [==============================] - 1s 2ms/step - loss: 7.1794e-05 - mean_squared_error: 7.1794e-05 - val_loss: 3.6750e-05 - val_mean_squared_error: 3.6750e-05\n",
      "Epoch 59/100\n",
      "313/313 [==============================] - 1s 2ms/step - loss: 6.7804e-05 - mean_squared_error: 6.7804e-05 - val_loss: 5.2654e-05 - val_mean_squared_error: 5.2654e-05\n",
      "Epoch 60/100\n",
      "313/313 [==============================] - 1s 2ms/step - loss: 5.0979e-05 - mean_squared_error: 5.0979e-05 - val_loss: 4.3401e-05 - val_mean_squared_error: 4.3401e-05\n",
      "Epoch 61/100\n",
      "313/313 [==============================] - 1s 2ms/step - loss: 6.8329e-05 - mean_squared_error: 6.8329e-05 - val_loss: 3.8611e-05 - val_mean_squared_error: 3.8611e-05\n",
      "Epoch 62/100\n",
      "313/313 [==============================] - 1s 2ms/step - loss: 6.0518e-05 - mean_squared_error: 6.0518e-05 - val_loss: 3.7563e-05 - val_mean_squared_error: 3.7563e-05\n",
      "Epoch 63/100\n",
      "313/313 [==============================] - 1s 2ms/step - loss: 5.3212e-05 - mean_squared_error: 5.3212e-05 - val_loss: 8.3447e-05 - val_mean_squared_error: 8.3447e-05\n",
      "Epoch 64/100\n",
      "313/313 [==============================] - 1s 2ms/step - loss: 7.4973e-05 - mean_squared_error: 7.4973e-05 - val_loss: 4.1739e-05 - val_mean_squared_error: 4.1739e-05\n",
      "Epoch 65/100\n",
      "313/313 [==============================] - 1s 2ms/step - loss: 4.9326e-05 - mean_squared_error: 4.9326e-05 - val_loss: 3.7369e-05 - val_mean_squared_error: 3.7369e-05\n",
      "Epoch 66/100\n",
      "313/313 [==============================] - 1s 2ms/step - loss: 5.5515e-05 - mean_squared_error: 5.5515e-05 - val_loss: 5.3384e-05 - val_mean_squared_error: 5.3384e-05\n",
      "Epoch 67/100\n",
      "313/313 [==============================] - 1s 2ms/step - loss: 6.5301e-05 - mean_squared_error: 6.5301e-05 - val_loss: 3.6239e-05 - val_mean_squared_error: 3.6239e-05\n",
      "Epoch 68/100\n",
      "313/313 [==============================] - 1s 2ms/step - loss: 6.6824e-05 - mean_squared_error: 6.6824e-05 - val_loss: 4.3189e-05 - val_mean_squared_error: 4.3189e-05\n",
      "Epoch 69/100\n",
      "313/313 [==============================] - 1s 2ms/step - loss: 5.1655e-05 - mean_squared_error: 5.1655e-05 - val_loss: 3.4732e-05 - val_mean_squared_error: 3.4732e-05\n",
      "Epoch 70/100\n",
      "313/313 [==============================] - 1s 2ms/step - loss: 5.4580e-05 - mean_squared_error: 5.4580e-05 - val_loss: 5.4213e-05 - val_mean_squared_error: 5.4213e-05\n",
      "Epoch 71/100\n",
      "313/313 [==============================] - 1s 2ms/step - loss: 4.9942e-05 - mean_squared_error: 4.9942e-05 - val_loss: 4.2650e-05 - val_mean_squared_error: 4.2650e-05\n",
      "Epoch 72/100\n",
      "313/313 [==============================] - 1s 2ms/step - loss: 5.8552e-05 - mean_squared_error: 5.8552e-05 - val_loss: 4.7126e-05 - val_mean_squared_error: 4.7126e-05\n",
      "Epoch 73/100\n",
      "313/313 [==============================] - 1s 2ms/step - loss: 6.6759e-05 - mean_squared_error: 6.6759e-05 - val_loss: 5.2890e-05 - val_mean_squared_error: 5.2890e-05\n",
      "Epoch 74/100\n",
      "313/313 [==============================] - 1s 2ms/step - loss: 5.5161e-05 - mean_squared_error: 5.5161e-05 - val_loss: 7.3312e-05 - val_mean_squared_error: 7.3312e-05\n",
      "Epoch 75/100\n",
      "313/313 [==============================] - 1s 2ms/step - loss: 5.3093e-05 - mean_squared_error: 5.3093e-05 - val_loss: 4.8513e-05 - val_mean_squared_error: 4.8513e-05\n",
      "Epoch 76/100\n",
      "313/313 [==============================] - 1s 2ms/step - loss: 5.0711e-05 - mean_squared_error: 5.0711e-05 - val_loss: 4.3253e-05 - val_mean_squared_error: 4.3253e-05\n",
      "Epoch 77/100\n",
      "313/313 [==============================] - 1s 2ms/step - loss: 5.8474e-05 - mean_squared_error: 5.8474e-05 - val_loss: 9.9204e-05 - val_mean_squared_error: 9.9204e-05\n",
      "Epoch 78/100\n",
      "313/313 [==============================] - 1s 2ms/step - loss: 6.2920e-05 - mean_squared_error: 6.2920e-05 - val_loss: 5.8322e-05 - val_mean_squared_error: 5.8322e-05\n",
      "Epoch 79/100\n",
      "313/313 [==============================] - 1s 2ms/step - loss: 5.9049e-05 - mean_squared_error: 5.9049e-05 - val_loss: 5.5562e-05 - val_mean_squared_error: 5.5562e-05\n",
      "Epoch 80/100\n",
      "313/313 [==============================] - 1s 2ms/step - loss: 4.6443e-05 - mean_squared_error: 4.6443e-05 - val_loss: 3.5942e-05 - val_mean_squared_error: 3.5942e-05\n",
      "Epoch 81/100\n",
      "313/313 [==============================] - 1s 2ms/step - loss: 4.6582e-05 - mean_squared_error: 4.6582e-05 - val_loss: 7.6209e-05 - val_mean_squared_error: 7.6209e-05\n",
      "Epoch 82/100\n",
      "313/313 [==============================] - 1s 2ms/step - loss: 5.6476e-05 - mean_squared_error: 5.6476e-05 - val_loss: 9.0447e-05 - val_mean_squared_error: 9.0447e-05\n",
      "Epoch 83/100\n",
      "313/313 [==============================] - 1s 2ms/step - loss: 5.2626e-05 - mean_squared_error: 5.2626e-05 - val_loss: 3.6482e-05 - val_mean_squared_error: 3.6482e-05\n",
      "Epoch 84/100\n",
      "313/313 [==============================] - 1s 2ms/step - loss: 4.8575e-05 - mean_squared_error: 4.8575e-05 - val_loss: 3.6846e-05 - val_mean_squared_error: 3.6846e-05\n",
      "Epoch 85/100\n",
      "313/313 [==============================] - 1s 2ms/step - loss: 6.4816e-05 - mean_squared_error: 6.4816e-05 - val_loss: 3.5021e-05 - val_mean_squared_error: 3.5021e-05\n",
      "Epoch 86/100\n",
      "313/313 [==============================] - 1s 2ms/step - loss: 5.3870e-05 - mean_squared_error: 5.3870e-05 - val_loss: 1.6185e-04 - val_mean_squared_error: 1.6185e-04\n",
      "Epoch 87/100\n",
      "313/313 [==============================] - 1s 2ms/step - loss: 6.4000e-05 - mean_squared_error: 6.4000e-05 - val_loss: 5.3040e-05 - val_mean_squared_error: 5.3040e-05\n",
      "Epoch 88/100\n",
      "313/313 [==============================] - 1s 2ms/step - loss: 4.9837e-05 - mean_squared_error: 4.9837e-05 - val_loss: 4.1293e-05 - val_mean_squared_error: 4.1293e-05\n",
      "Epoch 89/100\n",
      "313/313 [==============================] - 1s 2ms/step - loss: 5.5218e-05 - mean_squared_error: 5.5218e-05 - val_loss: 3.3925e-05 - val_mean_squared_error: 3.3925e-05\n",
      "Epoch 90/100\n",
      "313/313 [==============================] - 1s 2ms/step - loss: 6.5973e-05 - mean_squared_error: 6.5973e-05 - val_loss: 9.8568e-05 - val_mean_squared_error: 9.8568e-05\n",
      "Epoch 91/100\n",
      "313/313 [==============================] - 1s 2ms/step - loss: 5.5612e-05 - mean_squared_error: 5.5612e-05 - val_loss: 1.0864e-04 - val_mean_squared_error: 1.0864e-04\n",
      "Epoch 92/100\n",
      "313/313 [==============================] - 1s 2ms/step - loss: 5.4890e-05 - mean_squared_error: 5.4890e-05 - val_loss: 3.6408e-05 - val_mean_squared_error: 3.6408e-05\n",
      "Epoch 93/100\n",
      "313/313 [==============================] - 1s 2ms/step - loss: 4.7653e-05 - mean_squared_error: 4.7653e-05 - val_loss: 9.6145e-05 - val_mean_squared_error: 9.6145e-05\n",
      "Epoch 94/100\n",
      "313/313 [==============================] - 1s 2ms/step - loss: 5.7033e-05 - mean_squared_error: 5.7033e-05 - val_loss: 3.7954e-05 - val_mean_squared_error: 3.7954e-05\n",
      "Epoch 95/100\n",
      "313/313 [==============================] - 1s 2ms/step - loss: 4.4833e-05 - mean_squared_error: 4.4833e-05 - val_loss: 7.9666e-05 - val_mean_squared_error: 7.9666e-05\n",
      "Epoch 96/100\n",
      "313/313 [==============================] - 1s 2ms/step - loss: 5.0206e-05 - mean_squared_error: 5.0206e-05 - val_loss: 6.9587e-05 - val_mean_squared_error: 6.9587e-05\n",
      "Epoch 97/100\n",
      "313/313 [==============================] - 1s 2ms/step - loss: 5.5298e-05 - mean_squared_error: 5.5298e-05 - val_loss: 7.7732e-05 - val_mean_squared_error: 7.7732e-05\n",
      "Epoch 98/100\n",
      "313/313 [==============================] - 1s 2ms/step - loss: 5.6723e-05 - mean_squared_error: 5.6723e-05 - val_loss: 4.9787e-05 - val_mean_squared_error: 4.9787e-05\n",
      "Epoch 99/100\n",
      "313/313 [==============================] - 1s 2ms/step - loss: 5.5864e-05 - mean_squared_error: 5.5864e-05 - val_loss: 3.2798e-05 - val_mean_squared_error: 3.2798e-05\n",
      "Epoch 100/100\n",
      "313/313 [==============================] - 1s 2ms/step - loss: 5.4736e-05 - mean_squared_error: 5.4736e-05 - val_loss: 5.2549e-05 - val_mean_squared_error: 5.2549e-05\n"
     ]
    }
   ],
   "source": [
    "history_gudhi = model_reg_gudhi.fit(PI_train_gudhi,\n",
    "                            r_train_gudhi,\n",
    "                            epochs=100,\n",
    "                            validation_data=(PI_test_gudhi, r_test_gudhi))"
   ]
  },
  {
   "cell_type": "markdown",
   "id": "54ca5327",
   "metadata": {},
   "source": [
    "We compute the $R^2$ coefficient and the MSE score of the regression trained on real PIs. "
   ]
  },
  {
   "cell_type": "code",
   "execution_count": 21,
   "id": "9af4ede6",
   "metadata": {},
   "outputs": [
    {
     "name": "stdout",
     "output_type": "stream",
     "text": [
      "32/32 - 0s - loss: 5.2549e-05 - mean_squared_error: 5.2549e-05\n"
     ]
    }
   ],
   "source": [
    "r_predicted_gudhi = model_reg_gudhi.predict(PI_test_gudhi)\n",
    "test_loss_g, test_acc_g = model_reg_gudhi.evaluate(PI_test_gudhi,  r_test_gudhi, verbose=2)\n",
    "r2_g = r2_score(r_test_gudhi,r_predicted_gudhi)\n",
    "print(\"r2 = \", r2_g)"
   ]
  },
  {
   "cell_type": "markdown",
   "id": "a4db0ac8",
   "metadata": {},
   "source": [
    "We plot the regression trained on true PIs"
   ]
  },
  {
   "cell_type": "code",
   "execution_count": 24,
   "id": "7437b9c9",
   "metadata": {
    "scrolled": true
   },
   "outputs": [
    {
     "data": {
      "image/png": "[encoded data removed]",
      "text/plain": [
       "<Figure size 432x288 with 1 Axes>"
      ]
     },
     "metadata": {
      "needs_background": "light"
     },
     "output_type": "display_data"
    }
   ],
   "source": [
    "plt.plot(r_test_gudhi,r_predicted_gudhi,'bo',markersize=2)\n",
    "plt.xlabel(\"True radius\")\n",
    "plt.ylabel(\"Predicted radius\")\n",
    "plt.title(\"MSE : {:e}, R² = {:2f}\".format(test_acc_g,r2_g),fontsize=20)\n",
    "plt.savefig(\"Résultats/Résultats 3/regression_diameter_sphere_gudhi.pdf\")"
   ]
  },
  {
   "cell_type": "markdown",
   "id": "8842c7b5",
   "metadata": {},
   "source": [
    " ### Generate data for the training of ```model_reg_NN```  "
   ]
  },
  {
   "cell_type": "code",
   "execution_count": 10,
   "id": "d95c6071",
   "metadata": {},
   "outputs": [],
   "source": [
    "def create_sphere(N_points, r, x_0, y_0, z_0):\n",
    "    X = []\n",
    "    for i in range(N_points):\n",
    "        theta = (2 * np.random.uniform() - 1) * np.pi / 2\n",
    "        phi = (2 * np.random.uniform() - 1) * np.pi\n",
    "        x = x_0 + r * np.cos(theta) * np.cos(phi)\n",
    "        y = y_0 + r * np.cos(theta) * np.sin(phi)\n",
    "        z = z_0 + r * np.sin(theta)\n",
    "        X.append([x, y, z])\n",
    "    return np.array(X)\n"
   ]
  },
  {
   "cell_type": "code",
   "execution_count": 11,
   "id": "0a95593f",
   "metadata": {},
   "outputs": [
    {
     "name": "stderr",
     "output_type": "stream",
     "text": [
      "Generating dataset : 100%|██████████| 9999/9999 [00:54<00:00, 182.70it/s]\n"
     ]
    }
   ],
   "source": [
    "N_points = 500\n",
    "data_train_NN = np.zeros((N_sets_train, N_points, 3))\n",
    "r_train_NN = np.zeros((N_sets_train,))\n",
    "\n",
    "for i in tqdm(range(N_sets_train), desc='Generating dataset : '):\n",
    "    r = np.random.random()\n",
    "    data_train_NN[i] = create_sphere(N_points, r,0,0,0) \n",
    "    r_train_NN[i] = r"
   ]
  },
  {
   "cell_type": "code",
   "execution_count": 12,
   "id": "9f0d91d2",
   "metadata": {},
   "outputs": [],
   "source": [
    "PI_train_NN = model_PI.predict(data_train_NN)"
   ]
  },
  {
   "cell_type": "code",
   "execution_count": 13,
   "id": "16b4a17a",
   "metadata": {},
   "outputs": [
    {
     "name": "stderr",
     "output_type": "stream",
     "text": [
      "Generating dataset : 100%|██████████| 999/999 [00:05<00:00, 182.10it/s]\n"
     ]
    }
   ],
   "source": [
    "N_points = 500\n",
    "data_test_NN = np.zeros((N_sets_test, N_points, 3))\n",
    "r_test_NN = np.zeros((N_sets_test,))\n",
    "\n",
    "for i in tqdm(range(N_sets_test), desc='Generating dataset : '):\n",
    "    r = np.random.random()\n",
    "    data_test_NN[i] = create_sphere(N_points, r,0,0,0)\n",
    "    r_test_NN[i] = r"
   ]
  },
  {
   "cell_type": "code",
   "execution_count": 14,
   "id": "d240924b",
   "metadata": {},
   "outputs": [],
   "source": [
    "PI_test_NN = model_PI.predict(data_test_NN)"
   ]
  },
  {
   "cell_type": "markdown",
   "id": "6092dada",
   "metadata": {},
   "source": [
    "### Fit the regression model ```model_reg_NN```"
   ]
  },
  {
   "cell_type": "code",
   "execution_count": 15,
   "id": "0681b2b0",
   "metadata": {
    "scrolled": true
   },
   "outputs": [
    {
     "name": "stdout",
     "output_type": "stream",
     "text": [
      "Epoch 1/50\n",
      "313/313 [==============================] - 1s 2ms/step - loss: 0.0039 - mean_squared_error: 0.0039 - val_loss: 3.0001e-04 - val_mean_squared_error: 3.0001e-04\n",
      "Epoch 2/50\n",
      "313/313 [==============================] - 1s 2ms/step - loss: 1.4547e-04 - mean_squared_error: 1.4547e-04 - val_loss: 5.2047e-05 - val_mean_squared_error: 5.2047e-05\n",
      "Epoch 3/50\n",
      "313/313 [==============================] - 1s 2ms/step - loss: 5.4153e-05 - mean_squared_error: 5.4153e-05 - val_loss: 3.1309e-05 - val_mean_squared_error: 3.1309e-05\n",
      "Epoch 4/50\n",
      "313/313 [==============================] - 1s 2ms/step - loss: 4.5307e-05 - mean_squared_error: 4.5307e-05 - val_loss: 7.6465e-05 - val_mean_squared_error: 7.6465e-05\n",
      "Epoch 5/50\n",
      "313/313 [==============================] - 1s 2ms/step - loss: 7.3612e-05 - mean_squared_error: 7.3612e-05 - val_loss: 7.7155e-05 - val_mean_squared_error: 7.7155e-05\n",
      "Epoch 6/50\n",
      "313/313 [==============================] - 1s 2ms/step - loss: 1.0058e-04 - mean_squared_error: 1.0058e-04 - val_loss: 4.1514e-05 - val_mean_squared_error: 4.1514e-05\n",
      "Epoch 7/50\n",
      "313/313 [==============================] - 1s 2ms/step - loss: 5.0615e-05 - mean_squared_error: 5.0615e-05 - val_loss: 3.8424e-05 - val_mean_squared_error: 3.8424e-05\n",
      "Epoch 8/50\n",
      "313/313 [==============================] - 1s 2ms/step - loss: 6.0218e-05 - mean_squared_error: 6.0218e-05 - val_loss: 5.0980e-05 - val_mean_squared_error: 5.0980e-05\n",
      "Epoch 9/50\n",
      "220/313 [====================>.........] - ETA: 0s - loss: 4.2232e-05 - mean_squared_error: 4.2232e-05"
     ]
    },
    {
     "ename": "KeyboardInterrupt",
     "evalue": "",
     "output_type": "error",
     "traceback": [
      "\u001b[0;31m---------------------------------------------------------------------------\u001b[0m",
      "\u001b[0;31mKeyboardInterrupt\u001b[0m                         Traceback (most recent call last)",
      "\u001b[0;32m<ipython-input-15-1b8a50acfa1e>\u001b[0m in \u001b[0;36m<module>\u001b[0;34m\u001b[0m\n\u001b[0;32m----> 1\u001b[0;31m history_NN = model_reg_NN.fit(PI_train_NN,\n\u001b[0m\u001b[1;32m      2\u001b[0m                             \u001b[0mr_train_NN\u001b[0m\u001b[0;34m,\u001b[0m\u001b[0;34m\u001b[0m\u001b[0;34m\u001b[0m\u001b[0m\n\u001b[1;32m      3\u001b[0m                             \u001b[0mepochs\u001b[0m\u001b[0;34m=\u001b[0m\u001b[0;36m50\u001b[0m\u001b[0;34m,\u001b[0m\u001b[0;34m\u001b[0m\u001b[0;34m\u001b[0m\u001b[0m\n\u001b[1;32m      4\u001b[0m                             validation_data=(PI_test_NN, r_test_NN))\n",
      "\u001b[0;32m~/.local/lib/python3.8/site-packages/tensorflow/python/keras/engine/training.py\u001b[0m in \u001b[0;36mfit\u001b[0;34m(self, x, y, batch_size, epochs, verbose, callbacks, validation_split, validation_data, shuffle, class_weight, sample_weight, initial_epoch, steps_per_epoch, validation_steps, validation_batch_size, validation_freq, max_queue_size, workers, use_multiprocessing)\u001b[0m\n\u001b[1;32m   1181\u001b[0m                 _r=1):\n\u001b[1;32m   1182\u001b[0m               \u001b[0mcallbacks\u001b[0m\u001b[0;34m.\u001b[0m\u001b[0mon_train_batch_begin\u001b[0m\u001b[0;34m(\u001b[0m\u001b[0mstep\u001b[0m\u001b[0;34m)\u001b[0m\u001b[0;34m\u001b[0m\u001b[0;34m\u001b[0m\u001b[0m\n\u001b[0;32m-> 1183\u001b[0;31m               \u001b[0mtmp_logs\u001b[0m \u001b[0;34m=\u001b[0m \u001b[0mself\u001b[0m\u001b[0;34m.\u001b[0m\u001b[0mtrain_function\u001b[0m\u001b[0;34m(\u001b[0m\u001b[0miterator\u001b[0m\u001b[0;34m)\u001b[0m\u001b[0;34m\u001b[0m\u001b[0;34m\u001b[0m\u001b[0m\n\u001b[0m\u001b[1;32m   1184\u001b[0m               \u001b[0;32mif\u001b[0m \u001b[0mdata_handler\u001b[0m\u001b[0;34m.\u001b[0m\u001b[0mshould_sync\u001b[0m\u001b[0;34m:\u001b[0m\u001b[0;34m\u001b[0m\u001b[0;34m\u001b[0m\u001b[0m\n\u001b[1;32m   1185\u001b[0m                 \u001b[0mcontext\u001b[0m\u001b[0;34m.\u001b[0m\u001b[0masync_wait\u001b[0m\u001b[0;34m(\u001b[0m\u001b[0;34m)\u001b[0m\u001b[0;34m\u001b[0m\u001b[0;34m\u001b[0m\u001b[0m\n",
      "\u001b[0;32m~/.local/lib/python3.8/site-packages/tensorflow/python/eager/def_function.py\u001b[0m in \u001b[0;36m__call__\u001b[0;34m(self, *args, **kwds)\u001b[0m\n\u001b[1;32m    887\u001b[0m \u001b[0;34m\u001b[0m\u001b[0m\n\u001b[1;32m    888\u001b[0m       \u001b[0;32mwith\u001b[0m \u001b[0mOptionalXlaContext\u001b[0m\u001b[0;34m(\u001b[0m\u001b[0mself\u001b[0m\u001b[0;34m.\u001b[0m\u001b[0m_jit_compile\u001b[0m\u001b[0;34m)\u001b[0m\u001b[0;34m:\u001b[0m\u001b[0;34m\u001b[0m\u001b[0;34m\u001b[0m\u001b[0m\n\u001b[0;32m--> 889\u001b[0;31m         \u001b[0mresult\u001b[0m \u001b[0;34m=\u001b[0m \u001b[0mself\u001b[0m\u001b[0;34m.\u001b[0m\u001b[0m_call\u001b[0m\u001b[0;34m(\u001b[0m\u001b[0;34m*\u001b[0m\u001b[0margs\u001b[0m\u001b[0;34m,\u001b[0m \u001b[0;34m**\u001b[0m\u001b[0mkwds\u001b[0m\u001b[0;34m)\u001b[0m\u001b[0;34m\u001b[0m\u001b[0;34m\u001b[0m\u001b[0m\n\u001b[0m\u001b[1;32m    890\u001b[0m \u001b[0;34m\u001b[0m\u001b[0m\n\u001b[1;32m    891\u001b[0m       \u001b[0mnew_tracing_count\u001b[0m \u001b[0;34m=\u001b[0m \u001b[0mself\u001b[0m\u001b[0;34m.\u001b[0m\u001b[0mexperimental_get_tracing_count\u001b[0m\u001b[0;34m(\u001b[0m\u001b[0;34m)\u001b[0m\u001b[0;34m\u001b[0m\u001b[0;34m\u001b[0m\u001b[0m\n",
      "\u001b[0;32m~/.local/lib/python3.8/site-packages/tensorflow/python/eager/def_function.py\u001b[0m in \u001b[0;36m_call\u001b[0;34m(self, *args, **kwds)\u001b[0m\n\u001b[1;32m    915\u001b[0m       \u001b[0;31m# In this case we have created variables on the first call, so we run the\u001b[0m\u001b[0;34m\u001b[0m\u001b[0;34m\u001b[0m\u001b[0;34m\u001b[0m\u001b[0m\n\u001b[1;32m    916\u001b[0m       \u001b[0;31m# defunned version which is guaranteed to never create variables.\u001b[0m\u001b[0;34m\u001b[0m\u001b[0;34m\u001b[0m\u001b[0;34m\u001b[0m\u001b[0m\n\u001b[0;32m--> 917\u001b[0;31m       \u001b[0;32mreturn\u001b[0m \u001b[0mself\u001b[0m\u001b[0;34m.\u001b[0m\u001b[0m_stateless_fn\u001b[0m\u001b[0;34m(\u001b[0m\u001b[0;34m*\u001b[0m\u001b[0margs\u001b[0m\u001b[0;34m,\u001b[0m \u001b[0;34m**\u001b[0m\u001b[0mkwds\u001b[0m\u001b[0;34m)\u001b[0m  \u001b[0;31m# pylint: disable=not-callable\u001b[0m\u001b[0;34m\u001b[0m\u001b[0;34m\u001b[0m\u001b[0m\n\u001b[0m\u001b[1;32m    918\u001b[0m     \u001b[0;32melif\u001b[0m \u001b[0mself\u001b[0m\u001b[0;34m.\u001b[0m\u001b[0m_stateful_fn\u001b[0m \u001b[0;32mis\u001b[0m \u001b[0;32mnot\u001b[0m \u001b[0;32mNone\u001b[0m\u001b[0;34m:\u001b[0m\u001b[0;34m\u001b[0m\u001b[0;34m\u001b[0m\u001b[0m\n\u001b[1;32m    919\u001b[0m       \u001b[0;31m# Release the lock early so that multiple threads can perform the call\u001b[0m\u001b[0;34m\u001b[0m\u001b[0;34m\u001b[0m\u001b[0;34m\u001b[0m\u001b[0m\n",
      "\u001b[0;32m~/.local/lib/python3.8/site-packages/tensorflow/python/eager/function.py\u001b[0m in \u001b[0;36m__call__\u001b[0;34m(self, *args, **kwargs)\u001b[0m\n\u001b[1;32m   3021\u001b[0m       (graph_function,\n\u001b[1;32m   3022\u001b[0m        filtered_flat_args) = self._maybe_define_function(args, kwargs)\n\u001b[0;32m-> 3023\u001b[0;31m     return graph_function._call_flat(\n\u001b[0m\u001b[1;32m   3024\u001b[0m         filtered_flat_args, captured_inputs=graph_function.captured_inputs)  # pylint: disable=protected-access\n\u001b[1;32m   3025\u001b[0m \u001b[0;34m\u001b[0m\u001b[0m\n",
      "\u001b[0;32m~/.local/lib/python3.8/site-packages/tensorflow/python/eager/function.py\u001b[0m in \u001b[0;36m_call_flat\u001b[0;34m(self, args, captured_inputs, cancellation_manager)\u001b[0m\n\u001b[1;32m   1958\u001b[0m         and executing_eagerly):\n\u001b[1;32m   1959\u001b[0m       \u001b[0;31m# No tape is watching; skip to running the function.\u001b[0m\u001b[0;34m\u001b[0m\u001b[0;34m\u001b[0m\u001b[0;34m\u001b[0m\u001b[0m\n\u001b[0;32m-> 1960\u001b[0;31m       return self._build_call_outputs(self._inference_function.call(\n\u001b[0m\u001b[1;32m   1961\u001b[0m           ctx, args, cancellation_manager=cancellation_manager))\n\u001b[1;32m   1962\u001b[0m     forward_backward = self._select_forward_and_backward_functions(\n",
      "\u001b[0;32m~/.local/lib/python3.8/site-packages/tensorflow/python/eager/function.py\u001b[0m in \u001b[0;36mcall\u001b[0;34m(self, ctx, args, cancellation_manager)\u001b[0m\n\u001b[1;32m    589\u001b[0m       \u001b[0;32mwith\u001b[0m \u001b[0m_InterpolateFunctionError\u001b[0m\u001b[0;34m(\u001b[0m\u001b[0mself\u001b[0m\u001b[0;34m)\u001b[0m\u001b[0;34m:\u001b[0m\u001b[0;34m\u001b[0m\u001b[0;34m\u001b[0m\u001b[0m\n\u001b[1;32m    590\u001b[0m         \u001b[0;32mif\u001b[0m \u001b[0mcancellation_manager\u001b[0m \u001b[0;32mis\u001b[0m \u001b[0;32mNone\u001b[0m\u001b[0;34m:\u001b[0m\u001b[0;34m\u001b[0m\u001b[0;34m\u001b[0m\u001b[0m\n\u001b[0;32m--> 591\u001b[0;31m           outputs = execute.execute(\n\u001b[0m\u001b[1;32m    592\u001b[0m               \u001b[0mstr\u001b[0m\u001b[0;34m(\u001b[0m\u001b[0mself\u001b[0m\u001b[0;34m.\u001b[0m\u001b[0msignature\u001b[0m\u001b[0;34m.\u001b[0m\u001b[0mname\u001b[0m\u001b[0;34m)\u001b[0m\u001b[0;34m,\u001b[0m\u001b[0;34m\u001b[0m\u001b[0;34m\u001b[0m\u001b[0m\n\u001b[1;32m    593\u001b[0m               \u001b[0mnum_outputs\u001b[0m\u001b[0;34m=\u001b[0m\u001b[0mself\u001b[0m\u001b[0;34m.\u001b[0m\u001b[0m_num_outputs\u001b[0m\u001b[0;34m,\u001b[0m\u001b[0;34m\u001b[0m\u001b[0;34m\u001b[0m\u001b[0m\n",
      "\u001b[0;32m~/.local/lib/python3.8/site-packages/tensorflow/python/eager/execute.py\u001b[0m in \u001b[0;36mquick_execute\u001b[0;34m(op_name, num_outputs, inputs, attrs, ctx, name)\u001b[0m\n\u001b[1;32m     57\u001b[0m   \u001b[0;32mtry\u001b[0m\u001b[0;34m:\u001b[0m\u001b[0;34m\u001b[0m\u001b[0;34m\u001b[0m\u001b[0m\n\u001b[1;32m     58\u001b[0m     \u001b[0mctx\u001b[0m\u001b[0;34m.\u001b[0m\u001b[0mensure_initialized\u001b[0m\u001b[0;34m(\u001b[0m\u001b[0;34m)\u001b[0m\u001b[0;34m\u001b[0m\u001b[0;34m\u001b[0m\u001b[0m\n\u001b[0;32m---> 59\u001b[0;31m     tensors = pywrap_tfe.TFE_Py_Execute(ctx._handle, device_name, op_name,\n\u001b[0m\u001b[1;32m     60\u001b[0m                                         inputs, attrs, num_outputs)\n\u001b[1;32m     61\u001b[0m   \u001b[0;32mexcept\u001b[0m \u001b[0mcore\u001b[0m\u001b[0;34m.\u001b[0m\u001b[0m_NotOkStatusException\u001b[0m \u001b[0;32mas\u001b[0m \u001b[0me\u001b[0m\u001b[0;34m:\u001b[0m\u001b[0;34m\u001b[0m\u001b[0;34m\u001b[0m\u001b[0m\n",
      "\u001b[0;31mKeyboardInterrupt\u001b[0m: "
     ]
    }
   ],
   "source": [
    "history_NN = model_reg_NN.fit(PI_train_NN,\n",
    "                            r_train_NN,\n",
    "                            epochs=50,\n",
    "                            validation_data=(PI_test_NN, r_test_NN))"
   ]
  },
  {
   "cell_type": "markdown",
   "id": "5508b7f9",
   "metadata": {},
   "source": [
    "### We generated test data for ```model_reg_NN ```"
   ]
  },
  {
   "cell_type": "code",
   "execution_count": 17,
   "id": "68be5759",
   "metadata": {},
   "outputs": [
    {
     "name": "stderr",
     "output_type": "stream",
     "text": [
      "Generating dataset : 100%|██████████| 100/100 [00:00<00:00, 175.40it/s]\n"
     ]
    }
   ],
   "source": [
    "data_test = np.zeros((100,N_points,3))\n",
    "r_test = np.zeros((100,))\n",
    "\n",
    "for i in tqdm(range(100), desc='Generating dataset : '):\n",
    "    r = np.random.random()\n",
    "    data_test[i] = create_sphere(N_points, r,0,0,0) \n",
    "    r_test[i] = r"
   ]
  },
  {
   "cell_type": "code",
   "execution_count": 18,
   "id": "b5142440",
   "metadata": {},
   "outputs": [],
   "source": [
    "PI_test = model_PI.predict(data_test)"
   ]
  },
  {
   "cell_type": "markdown",
   "id": "f4dca459",
   "metadata": {},
   "source": [
    "We compute the $R^2$ coefficient and the MSE score of the regression trained on predicted PIs. "
   ]
  },
  {
   "cell_type": "code",
   "execution_count": 6,
   "id": "76c4120b",
   "metadata": {},
   "outputs": [
    {
     "ename": "NameError",
     "evalue": "name 'model_reg_NN' is not defined",
     "output_type": "error",
     "traceback": [
      "\u001b[0;31m---------------------------------------------------------------------------\u001b[0m",
      "\u001b[0;31mNameError\u001b[0m                                 Traceback (most recent call last)",
      "\u001b[0;32m/tmp/ipykernel_16396/2941212509.py\u001b[0m in \u001b[0;36m<module>\u001b[0;34m\u001b[0m\n\u001b[0;32m----> 1\u001b[0;31m \u001b[0mr_predicted_NN\u001b[0m \u001b[0;34m=\u001b[0m \u001b[0mmodel_reg_NN\u001b[0m\u001b[0;34m.\u001b[0m\u001b[0mpredict\u001b[0m\u001b[0;34m(\u001b[0m\u001b[0mPI_test\u001b[0m\u001b[0;34m)\u001b[0m\u001b[0;34m\u001b[0m\u001b[0;34m\u001b[0m\u001b[0m\n\u001b[0m\u001b[1;32m      2\u001b[0m \u001b[0mtest_loss\u001b[0m\u001b[0;34m,\u001b[0m \u001b[0mtest_acc\u001b[0m \u001b[0;34m=\u001b[0m \u001b[0mmodel_reg_NN\u001b[0m\u001b[0;34m.\u001b[0m\u001b[0mevaluate\u001b[0m\u001b[0;34m(\u001b[0m\u001b[0mPI_test\u001b[0m\u001b[0;34m,\u001b[0m  \u001b[0mr_test\u001b[0m\u001b[0;34m,\u001b[0m \u001b[0mverbose\u001b[0m\u001b[0;34m=\u001b[0m\u001b[0;36m2\u001b[0m\u001b[0;34m)\u001b[0m\u001b[0;34m\u001b[0m\u001b[0;34m\u001b[0m\u001b[0m\n\u001b[1;32m      3\u001b[0m \u001b[0mr2\u001b[0m \u001b[0;34m=\u001b[0m \u001b[0mr2_score\u001b[0m\u001b[0;34m(\u001b[0m\u001b[0mr_test\u001b[0m\u001b[0;34m,\u001b[0m\u001b[0mr_predicted_NN\u001b[0m\u001b[0;34m)\u001b[0m\u001b[0;34m\u001b[0m\u001b[0;34m\u001b[0m\u001b[0m\n\u001b[1;32m      4\u001b[0m \u001b[0mprint\u001b[0m\u001b[0;34m(\u001b[0m\u001b[0;34m\"r2 = \"\u001b[0m\u001b[0;34m,\u001b[0m\u001b[0mr2\u001b[0m\u001b[0;34m)\u001b[0m\u001b[0;34m\u001b[0m\u001b[0;34m\u001b[0m\u001b[0m\n",
      "\u001b[0;31mNameError\u001b[0m: name 'model_reg_NN' is not defined"
     ]
    }
   ],
   "source": [
    "r_predicted_NN = model_reg_NN.predict(PI_test)\n",
    "test_loss, test_acc = model_reg_NN.evaluate(PI_test,  r_test, verbose=2)\n",
    "r2 = r2_score(r_test,r_predicted_NN)\n",
    "print(\"r2 = \",r2)"
   ]
  },
  {
   "cell_type": "markdown",
   "id": "661423e6",
   "metadata": {},
   "source": [
    "We plot the regression trained on predicted PIs."
   ]
  },
  {
   "cell_type": "code",
   "execution_count": 20,
   "id": "b2e047a0",
   "metadata": {},
   "outputs": [
    {
     "data": {
      "text/plain": [
       "Text(0.5, 1.0, 'MSE : 2.299375e-05, R² = 0.999692')"
      ]
     },
     "execution_count": 20,
     "metadata": {},
     "output_type": "execute_result"
    },
    {
     "data": {
      "image/png": "[encoded data removed]",
      "text/plain": [
       "<Figure size 432x288 with 1 Axes>"
      ]
     },
     "metadata": {
      "needs_background": "light"
     },
     "output_type": "display_data"
    }
   ],
   "source": [
    "plt.plot(r_test,r_predicted_NN,'bo',markersize=2)\n",
    "plt.xlabel(\"True radius\")\n",
    "plt.ylabel(\"Predicted radius\")\n",
    "plt.title(\"MSE : {:e}, R² = {:2f}\".format(test_acc,r2),fontsize=20)\n",
    "#plt.savefig(\"Résultats/Résultats 3/regression_diameter_sphere.pdf\")"
   ]
  },
  {
   "cell_type": "code",
   "execution_count": 25,
   "id": "0b3a968d",
   "metadata": {},
   "outputs": [
    {
     "data": {
      "text/plain": [
       "0.011668218178594425"
      ]
     },
     "execution_count": 25,
     "metadata": {},
     "output_type": "execute_result"
    }
   ],
   "source": [
    "np.max(np.abs(r_predicted_NN.flatten()-r_test))"
   ]
  }
 ],
 "metadata": {
  "kernelspec": {
   "display_name": "Python 3 (ipykernel)",
   "language": "python",
   "name": "python3"
  },
  "language_info": {
   "codemirror_mode": {
    "name": "ipython",
    "version": 3
   },
   "file_extension": ".py",
   "mimetype": "text/x-python",
   "name": "python",
   "nbconvert_exporter": "python",
   "pygments_lexer": "ipython3",
   "version": "3.8.10"
  }
 },
 "nbformat": 4,
 "nbformat_minor": 5
}
