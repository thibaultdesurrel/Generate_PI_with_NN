{
 "cells": [
  {
   "cell_type": "markdown",
   "id": "c0627c39",
   "metadata": {},
   "source": [
    "# Study of the results of the NN for multiple noisy circles"
   ]
  },
  {
   "cell_type": "markdown",
   "id": "74096b79",
   "metadata": {},
   "source": [
    "This notebook studies teh results of the NN trained to predict PI from the multiple noisy circles dataset using the DTM filtration. \n",
    "   1. We compare the time of calculation of PIs between Gudhi and the NN,\n",
    "   2. we look at the p-values of the Kolmogorov-Smirnov test on each pixels,\n",
    "   3. we compare the classification results between a classifier trained on real PIs and trained on predicted PIs."
   ]
  },
  {
   "cell_type": "markdown",
   "id": "ae715e17",
   "metadata": {},
   "source": [
    "---"
   ]
  },
  {
   "cell_type": "code",
   "execution_count": 1,
   "id": "8403d472",
   "metadata": {},
   "outputs": [],
   "source": [
    "import matplotlib.pyplot as plt\n",
    "import numpy as np\n",
    "\n",
    "import tensorflow as tf\n",
    "from IPython.display import SVG\n",
    "\n",
    "import gudhi as gd\n",
    "import gudhi.representations\n",
    "import velour2\n",
    "\n",
    "from tqdm import tqdm\n",
    "from time import time\n",
    "\n",
    "from scipy.stats import ks_2samp"
   ]
  },
  {
   "cell_type": "code",
   "execution_count": 2,
   "id": "dac5fb4e",
   "metadata": {},
   "outputs": [],
   "source": [
    "from multiple_noisy_circle import create_random_circle, create_1_circle, create_2_circle, create_3_circle"
   ]
  },
  {
   "cell_type": "markdown",
   "id": "4032c238",
   "metadata": {},
   "source": [
    "### Load the NN"
   ]
  },
  {
   "cell_type": "code",
   "execution_count": 26,
   "id": "ccadde6f",
   "metadata": {},
   "outputs": [
    {
     "name": "stdout",
     "output_type": "stream",
     "text": [
      "Model: \"model_8\"\n",
      "_________________________________________________________________\n",
      "Layer (type)                 Output Shape              Param #   \n",
      "=================================================================\n",
      "input_9 (InputLayer)         [(None, 600, 2)]          0         \n",
      "_________________________________________________________________\n",
      "fully_connected2_8 (FullyCon (None, 600, 30)           60        \n",
      "_________________________________________________________________\n",
      "tf.nn.relu_8 (TFOpLambda)    (None, 600, 30)           0         \n",
      "_________________________________________________________________\n",
      "dense_49 (Dense)             (None, 600, 20)           620       \n",
      "_________________________________________________________________\n",
      "dense_50 (Dense)             (None, 600, 10)           210       \n",
      "_________________________________________________________________\n",
      "lambda_8 (Lambda)            (None, 10)                0         \n",
      "_________________________________________________________________\n",
      "dense_51 (Dense)             (None, 50)                550       \n",
      "_________________________________________________________________\n",
      "dense_52 (Dense)             (None, 100)               5100      \n",
      "_________________________________________________________________\n",
      "dense_53 (Dense)             (None, 200)               20200     \n",
      "_________________________________________________________________\n",
      "dense_54 (Dense)             (None, 2500)              502500    \n",
      "=================================================================\n",
      "Total params: 529,240\n",
      "Trainable params: 529,240\n",
      "Non-trainable params: 0\n",
      "_________________________________________________________________\n"
     ]
    },
    {
     "data": {
      "image/svg+xml": [
       "<svg xmlns=\"http://www.w3.org/2000/svg\" xmlns:xlink=\"http://www.w3.org/1999/xlink\" width=\"648pt\" height=\"1069pt\" viewBox=\"0.00 0.00 486.00 802.00\">\n",
       "<g id=\"graph0\" class=\"graph\" transform=\"scale(0.75 0.75) rotate(0) translate(4 798)\">\n",
       "<title>G</title>\n",
       "<polygon fill=\"white\" stroke=\"transparent\" points=\"-4,4 -4,-798 482,-798 482,4 -4,4\"/>\n",
       "<!-- 140209493695024 -->\n",
       "<g id=\"node1\" class=\"node\">\n",
       "<title>140209493695024</title>\n",
       "<polygon fill=\"none\" stroke=\"black\" points=\"61.5,-747.5 61.5,-793.5 416.5,-793.5 416.5,-747.5 61.5,-747.5\"/>\n",
       "<text text-anchor=\"middle\" x=\"140.5\" y=\"-766.8\" font-family=\"Times,serif\" font-size=\"14.00\">input_9: InputLayer</text>\n",
       "<polyline fill=\"none\" stroke=\"black\" points=\"219.5,-747.5 219.5,-793.5 \"/>\n",
       "<text text-anchor=\"middle\" x=\"253.5\" y=\"-778.3\" font-family=\"Times,serif\" font-size=\"14.00\">input:</text>\n",
       "<polyline fill=\"none\" stroke=\"black\" points=\"219.5,-770.5 287.5,-770.5 \"/>\n",
       "<text text-anchor=\"middle\" x=\"253.5\" y=\"-755.3\" font-family=\"Times,serif\" font-size=\"14.00\">output:</text>\n",
       "<polyline fill=\"none\" stroke=\"black\" points=\"287.5,-747.5 287.5,-793.5 \"/>\n",
       "<text text-anchor=\"middle\" x=\"352\" y=\"-778.3\" font-family=\"Times,serif\" font-size=\"14.00\">[(None, 600, 2)]</text>\n",
       "<polyline fill=\"none\" stroke=\"black\" points=\"287.5,-770.5 416.5,-770.5 \"/>\n",
       "<text text-anchor=\"middle\" x=\"352\" y=\"-755.3\" font-family=\"Times,serif\" font-size=\"14.00\">[(None, 600, 2)]</text>\n",
       "</g>\n",
       "<!-- 140209493696416 -->\n",
       "<g id=\"node2\" class=\"node\">\n",
       "<title>140209493696416</title>\n",
       "<polygon fill=\"none\" stroke=\"black\" points=\"0,-664.5 0,-710.5 478,-710.5 478,-664.5 0,-664.5\"/>\n",
       "<text text-anchor=\"middle\" x=\"141\" y=\"-683.8\" font-family=\"Times,serif\" font-size=\"14.00\">fully_connected2_8: FullyConnected2</text>\n",
       "<polyline fill=\"none\" stroke=\"black\" points=\"282,-664.5 282,-710.5 \"/>\n",
       "<text text-anchor=\"middle\" x=\"316\" y=\"-695.3\" font-family=\"Times,serif\" font-size=\"14.00\">input:</text>\n",
       "<polyline fill=\"none\" stroke=\"black\" points=\"282,-687.5 350,-687.5 \"/>\n",
       "<text text-anchor=\"middle\" x=\"316\" y=\"-672.3\" font-family=\"Times,serif\" font-size=\"14.00\">output:</text>\n",
       "<polyline fill=\"none\" stroke=\"black\" points=\"350,-664.5 350,-710.5 \"/>\n",
       "<text text-anchor=\"middle\" x=\"414\" y=\"-695.3\" font-family=\"Times,serif\" font-size=\"14.00\">(None, 600, 2)</text>\n",
       "<polyline fill=\"none\" stroke=\"black\" points=\"350,-687.5 478,-687.5 \"/>\n",
       "<text text-anchor=\"middle\" x=\"414\" y=\"-672.3\" font-family=\"Times,serif\" font-size=\"14.00\">(None, 600, 30)</text>\n",
       "</g>\n",
       "<!-- 140209493695024&#45;&gt;140209493696416 -->\n",
       "<g id=\"edge1\" class=\"edge\">\n",
       "<title>140209493695024-&gt;140209493696416</title>\n",
       "<path fill=\"none\" stroke=\"black\" d=\"M239,-747.37C239,-739.15 239,-729.66 239,-720.73\"/>\n",
       "<polygon fill=\"black\" stroke=\"black\" points=\"242.5,-720.61 239,-710.61 235.5,-720.61 242.5,-720.61\"/>\n",
       "</g>\n",
       "<!-- 140209493693536 -->\n",
       "<g id=\"node3\" class=\"node\">\n",
       "<title>140209493693536</title>\n",
       "<polygon fill=\"none\" stroke=\"black\" points=\"39,-581.5 39,-627.5 439,-627.5 439,-581.5 39,-581.5\"/>\n",
       "<text text-anchor=\"middle\" x=\"141\" y=\"-600.8\" font-family=\"Times,serif\" font-size=\"14.00\">tf.nn.relu_8: TFOpLambda</text>\n",
       "<polyline fill=\"none\" stroke=\"black\" points=\"243,-581.5 243,-627.5 \"/>\n",
       "<text text-anchor=\"middle\" x=\"277\" y=\"-612.3\" font-family=\"Times,serif\" font-size=\"14.00\">input:</text>\n",
       "<polyline fill=\"none\" stroke=\"black\" points=\"243,-604.5 311,-604.5 \"/>\n",
       "<text text-anchor=\"middle\" x=\"277\" y=\"-589.3\" font-family=\"Times,serif\" font-size=\"14.00\">output:</text>\n",
       "<polyline fill=\"none\" stroke=\"black\" points=\"311,-581.5 311,-627.5 \"/>\n",
       "<text text-anchor=\"middle\" x=\"375\" y=\"-612.3\" font-family=\"Times,serif\" font-size=\"14.00\">(None, 600, 30)</text>\n",
       "<polyline fill=\"none\" stroke=\"black\" points=\"311,-604.5 439,-604.5 \"/>\n",
       "<text text-anchor=\"middle\" x=\"375\" y=\"-589.3\" font-family=\"Times,serif\" font-size=\"14.00\">(None, 600, 30)</text>\n",
       "</g>\n",
       "<!-- 140209493696416&#45;&gt;140209493693536 -->\n",
       "<g id=\"edge2\" class=\"edge\">\n",
       "<title>140209493696416-&gt;140209493693536</title>\n",
       "<path fill=\"none\" stroke=\"black\" d=\"M239,-664.37C239,-656.15 239,-646.66 239,-637.73\"/>\n",
       "<polygon fill=\"black\" stroke=\"black\" points=\"242.5,-637.61 239,-627.61 235.5,-637.61 242.5,-637.61\"/>\n",
       "</g>\n",
       "<!-- 140209493693248 -->\n",
       "<g id=\"node4\" class=\"node\">\n",
       "<title>140209493693248</title>\n",
       "<polygon fill=\"none\" stroke=\"black\" points=\"72.5,-498.5 72.5,-544.5 405.5,-544.5 405.5,-498.5 72.5,-498.5\"/>\n",
       "<text text-anchor=\"middle\" x=\"141\" y=\"-517.8\" font-family=\"Times,serif\" font-size=\"14.00\">dense_49: Dense</text>\n",
       "<polyline fill=\"none\" stroke=\"black\" points=\"209.5,-498.5 209.5,-544.5 \"/>\n",
       "<text text-anchor=\"middle\" x=\"243.5\" y=\"-529.3\" font-family=\"Times,serif\" font-size=\"14.00\">input:</text>\n",
       "<polyline fill=\"none\" stroke=\"black\" points=\"209.5,-521.5 277.5,-521.5 \"/>\n",
       "<text text-anchor=\"middle\" x=\"243.5\" y=\"-506.3\" font-family=\"Times,serif\" font-size=\"14.00\">output:</text>\n",
       "<polyline fill=\"none\" stroke=\"black\" points=\"277.5,-498.5 277.5,-544.5 \"/>\n",
       "<text text-anchor=\"middle\" x=\"341.5\" y=\"-529.3\" font-family=\"Times,serif\" font-size=\"14.00\">(None, 600, 30)</text>\n",
       "<polyline fill=\"none\" stroke=\"black\" points=\"277.5,-521.5 405.5,-521.5 \"/>\n",
       "<text text-anchor=\"middle\" x=\"341.5\" y=\"-506.3\" font-family=\"Times,serif\" font-size=\"14.00\">(None, 600, 20)</text>\n",
       "</g>\n",
       "<!-- 140209493693536&#45;&gt;140209493693248 -->\n",
       "<g id=\"edge3\" class=\"edge\">\n",
       "<title>140209493693536-&gt;140209493693248</title>\n",
       "<path fill=\"none\" stroke=\"black\" d=\"M239,-581.37C239,-573.15 239,-563.66 239,-554.73\"/>\n",
       "<polygon fill=\"black\" stroke=\"black\" points=\"242.5,-554.61 239,-544.61 235.5,-554.61 242.5,-554.61\"/>\n",
       "</g>\n",
       "<!-- 140209488429312 -->\n",
       "<g id=\"node5\" class=\"node\">\n",
       "<title>140209488429312</title>\n",
       "<polygon fill=\"none\" stroke=\"black\" points=\"72.5,-415.5 72.5,-461.5 405.5,-461.5 405.5,-415.5 72.5,-415.5\"/>\n",
       "<text text-anchor=\"middle\" x=\"141\" y=\"-434.8\" font-family=\"Times,serif\" font-size=\"14.00\">dense_50: Dense</text>\n",
       "<polyline fill=\"none\" stroke=\"black\" points=\"209.5,-415.5 209.5,-461.5 \"/>\n",
       "<text text-anchor=\"middle\" x=\"243.5\" y=\"-446.3\" font-family=\"Times,serif\" font-size=\"14.00\">input:</text>\n",
       "<polyline fill=\"none\" stroke=\"black\" points=\"209.5,-438.5 277.5,-438.5 \"/>\n",
       "<text text-anchor=\"middle\" x=\"243.5\" y=\"-423.3\" font-family=\"Times,serif\" font-size=\"14.00\">output:</text>\n",
       "<polyline fill=\"none\" stroke=\"black\" points=\"277.5,-415.5 277.5,-461.5 \"/>\n",
       "<text text-anchor=\"middle\" x=\"341.5\" y=\"-446.3\" font-family=\"Times,serif\" font-size=\"14.00\">(None, 600, 20)</text>\n",
       "<polyline fill=\"none\" stroke=\"black\" points=\"277.5,-438.5 405.5,-438.5 \"/>\n",
       "<text text-anchor=\"middle\" x=\"341.5\" y=\"-423.3\" font-family=\"Times,serif\" font-size=\"14.00\">(None, 600, 10)</text>\n",
       "</g>\n",
       "<!-- 140209493693248&#45;&gt;140209488429312 -->\n",
       "<g id=\"edge4\" class=\"edge\">\n",
       "<title>140209493693248-&gt;140209488429312</title>\n",
       "<path fill=\"none\" stroke=\"black\" d=\"M239,-498.37C239,-490.15 239,-480.66 239,-471.73\"/>\n",
       "<polygon fill=\"black\" stroke=\"black\" points=\"242.5,-471.61 239,-461.61 235.5,-471.61 242.5,-471.61\"/>\n",
       "</g>\n",
       "<!-- 140213636353616 -->\n",
       "<g id=\"node6\" class=\"node\">\n",
       "<title>140213636353616</title>\n",
       "<polygon fill=\"none\" stroke=\"black\" points=\"65.5,-332.5 65.5,-378.5 412.5,-378.5 412.5,-332.5 65.5,-332.5\"/>\n",
       "<text text-anchor=\"middle\" x=\"141\" y=\"-351.8\" font-family=\"Times,serif\" font-size=\"14.00\">lambda_8: Lambda</text>\n",
       "<polyline fill=\"none\" stroke=\"black\" points=\"216.5,-332.5 216.5,-378.5 \"/>\n",
       "<text text-anchor=\"middle\" x=\"250.5\" y=\"-363.3\" font-family=\"Times,serif\" font-size=\"14.00\">input:</text>\n",
       "<polyline fill=\"none\" stroke=\"black\" points=\"216.5,-355.5 284.5,-355.5 \"/>\n",
       "<text text-anchor=\"middle\" x=\"250.5\" y=\"-340.3\" font-family=\"Times,serif\" font-size=\"14.00\">output:</text>\n",
       "<polyline fill=\"none\" stroke=\"black\" points=\"284.5,-332.5 284.5,-378.5 \"/>\n",
       "<text text-anchor=\"middle\" x=\"348.5\" y=\"-363.3\" font-family=\"Times,serif\" font-size=\"14.00\">(None, 600, 10)</text>\n",
       "<polyline fill=\"none\" stroke=\"black\" points=\"284.5,-355.5 412.5,-355.5 \"/>\n",
       "<text text-anchor=\"middle\" x=\"348.5\" y=\"-340.3\" font-family=\"Times,serif\" font-size=\"14.00\">(None, 10)</text>\n",
       "</g>\n",
       "<!-- 140209488429312&#45;&gt;140213636353616 -->\n",
       "<g id=\"edge5\" class=\"edge\">\n",
       "<title>140209488429312-&gt;140213636353616</title>\n",
       "<path fill=\"none\" stroke=\"black\" d=\"M239,-415.37C239,-407.15 239,-397.66 239,-388.73\"/>\n",
       "<polygon fill=\"black\" stroke=\"black\" points=\"242.5,-388.61 239,-378.61 235.5,-388.61 242.5,-388.61\"/>\n",
       "</g>\n",
       "<!-- 140213618049376 -->\n",
       "<g id=\"node7\" class=\"node\">\n",
       "<title>140213618049376</title>\n",
       "<polygon fill=\"none\" stroke=\"black\" points=\"90.5,-249.5 90.5,-295.5 387.5,-295.5 387.5,-249.5 90.5,-249.5\"/>\n",
       "<text text-anchor=\"middle\" x=\"159\" y=\"-268.8\" font-family=\"Times,serif\" font-size=\"14.00\">dense_51: Dense</text>\n",
       "<polyline fill=\"none\" stroke=\"black\" points=\"227.5,-249.5 227.5,-295.5 \"/>\n",
       "<text text-anchor=\"middle\" x=\"261.5\" y=\"-280.3\" font-family=\"Times,serif\" font-size=\"14.00\">input:</text>\n",
       "<polyline fill=\"none\" stroke=\"black\" points=\"227.5,-272.5 295.5,-272.5 \"/>\n",
       "<text text-anchor=\"middle\" x=\"261.5\" y=\"-257.3\" font-family=\"Times,serif\" font-size=\"14.00\">output:</text>\n",
       "<polyline fill=\"none\" stroke=\"black\" points=\"295.5,-249.5 295.5,-295.5 \"/>\n",
       "<text text-anchor=\"middle\" x=\"341.5\" y=\"-280.3\" font-family=\"Times,serif\" font-size=\"14.00\">(None, 10)</text>\n",
       "<polyline fill=\"none\" stroke=\"black\" points=\"295.5,-272.5 387.5,-272.5 \"/>\n",
       "<text text-anchor=\"middle\" x=\"341.5\" y=\"-257.3\" font-family=\"Times,serif\" font-size=\"14.00\">(None, 50)</text>\n",
       "</g>\n",
       "<!-- 140213636353616&#45;&gt;140213618049376 -->\n",
       "<g id=\"edge6\" class=\"edge\">\n",
       "<title>140213636353616-&gt;140213618049376</title>\n",
       "<path fill=\"none\" stroke=\"black\" d=\"M239,-332.37C239,-324.15 239,-314.66 239,-305.73\"/>\n",
       "<polygon fill=\"black\" stroke=\"black\" points=\"242.5,-305.61 239,-295.61 235.5,-305.61 242.5,-305.61\"/>\n",
       "</g>\n",
       "<!-- 140213618051632 -->\n",
       "<g id=\"node8\" class=\"node\">\n",
       "<title>140213618051632</title>\n",
       "<polygon fill=\"none\" stroke=\"black\" points=\"86,-166.5 86,-212.5 392,-212.5 392,-166.5 86,-166.5\"/>\n",
       "<text text-anchor=\"middle\" x=\"154.5\" y=\"-185.8\" font-family=\"Times,serif\" font-size=\"14.00\">dense_52: Dense</text>\n",
       "<polyline fill=\"none\" stroke=\"black\" points=\"223,-166.5 223,-212.5 \"/>\n",
       "<text text-anchor=\"middle\" x=\"257\" y=\"-197.3\" font-family=\"Times,serif\" font-size=\"14.00\">input:</text>\n",
       "<polyline fill=\"none\" stroke=\"black\" points=\"223,-189.5 291,-189.5 \"/>\n",
       "<text text-anchor=\"middle\" x=\"257\" y=\"-174.3\" font-family=\"Times,serif\" font-size=\"14.00\">output:</text>\n",
       "<polyline fill=\"none\" stroke=\"black\" points=\"291,-166.5 291,-212.5 \"/>\n",
       "<text text-anchor=\"middle\" x=\"341.5\" y=\"-197.3\" font-family=\"Times,serif\" font-size=\"14.00\">(None, 50)</text>\n",
       "<polyline fill=\"none\" stroke=\"black\" points=\"291,-189.5 392,-189.5 \"/>\n",
       "<text text-anchor=\"middle\" x=\"341.5\" y=\"-174.3\" font-family=\"Times,serif\" font-size=\"14.00\">(None, 100)</text>\n",
       "</g>\n",
       "<!-- 140213618049376&#45;&gt;140213618051632 -->\n",
       "<g id=\"edge7\" class=\"edge\">\n",
       "<title>140213618049376-&gt;140213618051632</title>\n",
       "<path fill=\"none\" stroke=\"black\" d=\"M239,-249.37C239,-241.15 239,-231.66 239,-222.73\"/>\n",
       "<polygon fill=\"black\" stroke=\"black\" points=\"242.5,-222.61 239,-212.61 235.5,-222.61 242.5,-222.61\"/>\n",
       "</g>\n",
       "<!-- 140213617980368 -->\n",
       "<g id=\"node9\" class=\"node\">\n",
       "<title>140213617980368</title>\n",
       "<polygon fill=\"none\" stroke=\"black\" points=\"86,-83.5 86,-129.5 392,-129.5 392,-83.5 86,-83.5\"/>\n",
       "<text text-anchor=\"middle\" x=\"154.5\" y=\"-102.8\" font-family=\"Times,serif\" font-size=\"14.00\">dense_53: Dense</text>\n",
       "<polyline fill=\"none\" stroke=\"black\" points=\"223,-83.5 223,-129.5 \"/>\n",
       "<text text-anchor=\"middle\" x=\"257\" y=\"-114.3\" font-family=\"Times,serif\" font-size=\"14.00\">input:</text>\n",
       "<polyline fill=\"none\" stroke=\"black\" points=\"223,-106.5 291,-106.5 \"/>\n",
       "<text text-anchor=\"middle\" x=\"257\" y=\"-91.3\" font-family=\"Times,serif\" font-size=\"14.00\">output:</text>\n",
       "<polyline fill=\"none\" stroke=\"black\" points=\"291,-83.5 291,-129.5 \"/>\n",
       "<text text-anchor=\"middle\" x=\"341.5\" y=\"-114.3\" font-family=\"Times,serif\" font-size=\"14.00\">(None, 100)</text>\n",
       "<polyline fill=\"none\" stroke=\"black\" points=\"291,-106.5 392,-106.5 \"/>\n",
       "<text text-anchor=\"middle\" x=\"341.5\" y=\"-91.3\" font-family=\"Times,serif\" font-size=\"14.00\">(None, 200)</text>\n",
       "</g>\n",
       "<!-- 140213618051632&#45;&gt;140213617980368 -->\n",
       "<g id=\"edge8\" class=\"edge\">\n",
       "<title>140213618051632-&gt;140213617980368</title>\n",
       "<path fill=\"none\" stroke=\"black\" d=\"M239,-166.37C239,-158.15 239,-148.66 239,-139.73\"/>\n",
       "<polygon fill=\"black\" stroke=\"black\" points=\"242.5,-139.61 239,-129.61 235.5,-139.61 242.5,-139.61\"/>\n",
       "</g>\n",
       "<!-- 140213617981856 -->\n",
       "<g id=\"node10\" class=\"node\">\n",
       "<title>140213617981856</title>\n",
       "<polygon fill=\"none\" stroke=\"black\" points=\"81.5,-0.5 81.5,-46.5 396.5,-46.5 396.5,-0.5 81.5,-0.5\"/>\n",
       "<text text-anchor=\"middle\" x=\"150\" y=\"-19.8\" font-family=\"Times,serif\" font-size=\"14.00\">dense_54: Dense</text>\n",
       "<polyline fill=\"none\" stroke=\"black\" points=\"218.5,-0.5 218.5,-46.5 \"/>\n",
       "<text text-anchor=\"middle\" x=\"252.5\" y=\"-31.3\" font-family=\"Times,serif\" font-size=\"14.00\">input:</text>\n",
       "<polyline fill=\"none\" stroke=\"black\" points=\"218.5,-23.5 286.5,-23.5 \"/>\n",
       "<text text-anchor=\"middle\" x=\"252.5\" y=\"-8.3\" font-family=\"Times,serif\" font-size=\"14.00\">output:</text>\n",
       "<polyline fill=\"none\" stroke=\"black\" points=\"286.5,-0.5 286.5,-46.5 \"/>\n",
       "<text text-anchor=\"middle\" x=\"341.5\" y=\"-31.3\" font-family=\"Times,serif\" font-size=\"14.00\">(None, 200)</text>\n",
       "<polyline fill=\"none\" stroke=\"black\" points=\"286.5,-23.5 396.5,-23.5 \"/>\n",
       "<text text-anchor=\"middle\" x=\"341.5\" y=\"-8.3\" font-family=\"Times,serif\" font-size=\"14.00\">(None, 2500)</text>\n",
       "</g>\n",
       "<!-- 140213617980368&#45;&gt;140213617981856 -->\n",
       "<g id=\"edge9\" class=\"edge\">\n",
       "<title>140213617980368-&gt;140213617981856</title>\n",
       "<path fill=\"none\" stroke=\"black\" d=\"M239,-83.37C239,-75.15 239,-65.66 239,-56.73\"/>\n",
       "<polygon fill=\"black\" stroke=\"black\" points=\"242.5,-56.61 239,-46.61 235.5,-56.61 242.5,-56.61\"/>\n",
       "</g>\n",
       "</g>\n",
       "</svg>"
      ],
      "text/plain": [
       "<IPython.core.display.SVG object>"
      ]
     },
     "execution_count": 26,
     "metadata": {},
     "output_type": "execute_result"
    }
   ],
   "source": [
    "model_PI = tf.keras.models.load_model('../Trained_NN/model_multiple_noisy_circles/')\n",
    "model_PI.summary()\n",
    "\n",
    "SVG(\n",
    "    tf.keras.utils.model_to_dot(model_PI,\n",
    "                                show_shapes=True).create(prog='dot',\n",
    "                                                         format='svg'))\n",
    "#tf.keras.utils.plot_model(model_PI,\n",
    "#to_file='dot_img_file.pdf',\n",
    "#show_shapes=True,\n",
    "#rankdir='LR')"
   ]
  },
  {
   "cell_type": "markdown",
   "id": "0efc94fa",
   "metadata": {},
   "source": [
    "## Comparaison of calculation time\n"
   ]
  },
  {
   "cell_type": "markdown",
   "id": "788e9e3c",
   "metadata": {},
   "source": [
    "We start by generating new data"
   ]
  },
  {
   "cell_type": "code",
   "execution_count": 4,
   "id": "20a92141",
   "metadata": {},
   "outputs": [],
   "source": [
    "N_sets = 10\n",
    "N_points = 600\n",
    "PI_size = 50\n",
    "\n",
    "m = 0.1\n",
    "p = 2\n",
    "dimension_max = 2\n",
    "filtration_max = 1"
   ]
  },
  {
   "cell_type": "code",
   "execution_count": 5,
   "id": "3e43e7e6",
   "metadata": {},
   "outputs": [
    {
     "name": "stderr",
     "output_type": "stream",
     "text": [
      "Generating dataset : 100%|██████████| 10/10 [00:00<00:00, 159.57it/s]\n"
     ]
    }
   ],
   "source": [
    "data_sets = np.zeros((N_sets, N_points, 2))\n",
    "\n",
    "for i in tqdm(range(N_sets), desc='Generating dataset : '):\n",
    "    data_sets[i] = create_random_circle(N_points)"
   ]
  },
  {
   "cell_type": "markdown",
   "id": "6aff01ef",
   "metadata": {},
   "source": [
    "We can plot the points clouds"
   ]
  },
  {
   "cell_type": "code",
   "execution_count": 6,
   "id": "817cf97d",
   "metadata": {},
   "outputs": [
    {
     "data": {
      "image/png": "[encoded data removed]",
      "text/plain": [
       "<Figure size 432x288 with 9 Axes>"
      ]
     },
     "metadata": {
      "needs_background": "light"
     },
     "output_type": "display_data"
    }
   ],
   "source": [
    "for i in range(9):\n",
    "    plt.subplot(3, 3, i + 1)\n",
    "    plt.scatter(data_sets[i, :, 0], data_sets[i, :, 1], s=3)"
   ]
  },
  {
   "cell_type": "markdown",
   "id": "a9bb5e7f",
   "metadata": {},
   "source": [
    "### Compute their PI with the NN and save the time it took the NN"
   ]
  },
  {
   "cell_type": "code",
   "execution_count": 7,
   "id": "d3df20f1",
   "metadata": {},
   "outputs": [
    {
     "name": "stdout",
     "output_type": "stream",
     "text": [
      "Time taken by the NN = 0.34813809394836426 seconds\n"
     ]
    }
   ],
   "source": [
    "starttimeNN = time()\n",
    "PI_NN = model_PI.predict(data_sets)\n",
    "timeNN = time() - starttimeNN\n",
    "print('Time taken by the NN = {} seconds'.format(timeNN))"
   ]
  },
  {
   "cell_type": "markdown",
   "id": "519af9fd",
   "metadata": {},
   "source": [
    "We can plot the predicted PIs"
   ]
  },
  {
   "cell_type": "code",
   "execution_count": 8,
   "id": "c1bdac48",
   "metadata": {},
   "outputs": [
    {
     "data": {
      "image/png": "[encoded data removed]",
      "text/plain": [
       "<Figure size 432x288 with 9 Axes>"
      ]
     },
     "metadata": {
      "needs_background": "light"
     },
     "output_type": "display_data"
    }
   ],
   "source": [
    "for i in range(9):\n",
    "    plt.subplot(3, 3, i + 1)\n",
    "    plt.imshow(np.flip(np.reshape(PI_NN[i], [PI_size, PI_size]), 0),\n",
    "               vmin=0,\n",
    "               vmax=1,\n",
    "               cmap='jet')"
   ]
  },
  {
   "cell_type": "markdown",
   "id": "8b07d2cb",
   "metadata": {},
   "source": [
    "### Compute their PI with Gudhi and save the time it took Gudhi"
   ]
  },
  {
   "cell_type": "code",
   "execution_count": 9,
   "id": "f9c45a85",
   "metadata": {},
   "outputs": [
    {
     "name": "stdout",
     "output_type": "stream",
     "text": [
      "Time taken by Gudhi = 135.19370102882385 seconds\n"
     ]
    }
   ],
   "source": [
    "PI_gudhi = np.zeros((N_sets, PI_size * PI_size))\n",
    "\n",
    "starttimeG = time()\n",
    "for i in range(N_sets):\n",
    "    st_DTM = velour2.DTMFiltration(\n",
    "        data_sets[i], m, p, dimension_max=dimension_max, filtration_max=filtration_max)\n",
    "\n",
    "    dgmX = st_DTM.persistence()\n",
    "\n",
    "    PI = gd.representations.PersistenceImage(bandwidth=4e-2,\n",
    "                                             weight=lambda x: 10 *\n",
    "                                             np.tanh(x[1]),\n",
    "                                             resolution=[PI_size, PI_size], im_range=[0, 1, 0, 0.5])\n",
    "    pi = PI.fit_transform([st_DTM.persistence_intervals_in_dimension(1)])\n",
    "\n",
    "    PI_gudhi[i] = pi[0]\n",
    "timeG = time() - starttimeG\n",
    "PI_gudhi /= np.max(PI_gudhi)\n",
    "print('Time taken by Gudhi = {} seconds'.format(timeG))"
   ]
  },
  {
   "cell_type": "markdown",
   "id": "3fac2d2d",
   "metadata": {},
   "source": [
    "We can plot the true PIs"
   ]
  },
  {
   "cell_type": "code",
   "execution_count": 10,
   "id": "48facb5e",
   "metadata": {
    "scrolled": true
   },
   "outputs": [
    {
     "data": {
      "image/png": "[encoded data removed]",
      "text/plain": [
       "<Figure size 432x288 with 9 Axes>"
      ]
     },
     "metadata": {
      "needs_background": "light"
     },
     "output_type": "display_data"
    }
   ],
   "source": [
    "for i in range(9):\n",
    "    plt.subplot(3, 3, i + 1)\n",
    "    plt.imshow(np.flip(\n",
    "        np.reshape(PI_gudhi[i] / np.max(PI_gudhi), [PI_size, PI_size]), 0),\n",
    "               vmin=0,\n",
    "               vmax=1,\n",
    "               cmap='jet')"
   ]
  },
  {
   "cell_type": "markdown",
   "id": "fd6e5217",
   "metadata": {},
   "source": [
    "We compute the MSE between the true and predicted PIs."
   ]
  },
  {
   "cell_type": "code",
   "execution_count": 11,
   "id": "adff26bb",
   "metadata": {},
   "outputs": [
    {
     "data": {
      "text/plain": [
       "0.00887103534692287"
      ]
     },
     "execution_count": 11,
     "metadata": {},
     "output_type": "execute_result"
    }
   ],
   "source": [
    "(np.square(PI_NN - PI_gudhi)).mean(axis=None)"
   ]
  },
  {
   "cell_type": "markdown",
   "id": "f051183a",
   "metadata": {},
   "source": [
    "## Time Results"
   ]
  },
  {
   "cell_type": "markdown",
   "id": "5617fab4",
   "metadata": {},
   "source": [
    "|Number of point clouds  | Time taken by the NN in sec | Time taken by Gudhi in sec| Mean Squared Error |\n",
    "|:----------------:|:--------------------:|:-------------------:|:------------------:|\n",
    "|        10        |        0.04463       |       231       |       0.00235     |\n"
   ]
  },
  {
   "cell_type": "markdown",
   "id": "9a789983",
   "metadata": {},
   "source": [
    "## Kolmogorov-Smirnov test "
   ]
  },
  {
   "cell_type": "markdown",
   "id": "84312a10",
   "metadata": {},
   "source": [
    "We test if the PI computed with the NN and the PI computed with Gudhi have the same distribution. \n",
    "$$(H_0) : D_{\\text{NN}} = D_{\\text{G}}$$\n",
    "We use for that the Kolmogorov-Smirnov test. "
   ]
  },
  {
   "cell_type": "markdown",
   "id": "bfbbc0ee",
   "metadata": {},
   "source": [
    "We start by loading the data already computed beacause the the true PIs take too much time to compute using the DTM filtration."
   ]
  },
  {
   "cell_type": "code",
   "execution_count": 27,
   "id": "43ab7aef",
   "metadata": {},
   "outputs": [],
   "source": [
    "data = np.load('data/PI_data_multiple_noisy_circle_classif.npz')\n",
    "\n",
    "data_train_classif = data[\"data_train\"]\n",
    "PI_train_gudhi = data[\"PI_train\"]\n",
    "PI_test_gudhi = data[\"PI_test\"]\n",
    "data_test_classif = data[\"data_test\"]\n"
   ]
  },
  {
   "cell_type": "code",
   "execution_count": 28,
   "id": "e4484dc3",
   "metadata": {},
   "outputs": [],
   "source": [
    "PI_train_NN = model_PI.predict(data_train_classif)"
   ]
  },
  {
   "cell_type": "code",
   "execution_count": 30,
   "id": "b8b7bb1a",
   "metadata": {},
   "outputs": [],
   "source": [
    "p_value_ks = np.zeros(PI_NN[0].shape)\n",
    "for i in range(len(p_value_ks)):\n",
    "    p_value_ks[i] = ks_2samp(PI_train_NN[:, i], PI_train_gudhi[:, i]/np.max(PI_train_gudhi))[0]"
   ]
  },
  {
   "cell_type": "code",
   "execution_count": 23,
   "id": "8c8ec87a",
   "metadata": {
    "scrolled": true
   },
   "outputs": [
    {
     "data": {
      "text/plain": [
       "Text(0.5, 1.0, 'Histogram of the p-values for the KS test on each pixels')"
      ]
     },
     "execution_count": 23,
     "metadata": {},
     "output_type": "execute_result"
    },
    {
     "data": {
      "image/png": "[encoded data removed]",
      "text/plain": [
       "<Figure size 432x288 with 1 Axes>"
      ]
     },
     "metadata": {
      "needs_background": "light"
     },
     "output_type": "display_data"
    }
   ],
   "source": [
    "plt.hist(p_value_ks)\n",
    "plt.vlines(0.05, 0, 800, linestyle='--', colors='red')\n",
    "plt.ylim(0, 717)\n",
    "plt.title(\"Histogram of the p-values for the KS test on each pixels\")\n",
    "#plt.savefig(\"Résultats/Résultats 4/hist_p_value_test_ks_noisy_circles.pdf\")"
   ]
  },
  {
   "cell_type": "markdown",
   "id": "8252712d",
   "metadata": {},
   "source": [
    "No p-value is under 0.05, so all the KS tests are validated or at least we can not rejet $H_0$."
   ]
  },
  {
   "cell_type": "code",
   "execution_count": 31,
   "id": "e1764b80",
   "metadata": {
    "scrolled": true
   },
   "outputs": [
    {
     "data": {
      "text/plain": [
       "Text(0.5, 1.0, 'Heatmap of the p-values of the KS test on each pixels')"
      ]
     },
     "execution_count": 31,
     "metadata": {},
     "output_type": "execute_result"
    },
    {
     "data": {
      "image/png": "[encoded data removed]",
      "text/plain": [
       "<Figure size 432x288 with 2 Axes>"
      ]
     },
     "metadata": {
      "needs_background": "light"
     },
     "output_type": "display_data"
    }
   ],
   "source": [
    "plt.imshow(np.flip(np.reshape(p_value_ks, [PI_size, PI_size]), 0),\n",
    "           vmin=0,\n",
    "           vmax=1,\n",
    "           cmap='gist_rainbow')\n",
    "plt.colorbar()\n",
    "plt.title(\"Heatmap of the p-values of the KS test on each pixels\")\n",
    "#plt.savefig(\"Résultats/Résultats 4/heatmap_p_value_test_ks_noisy_circles.pdf\")"
   ]
  },
  {
   "cell_type": "markdown",
   "id": "83f3288a",
   "metadata": {},
   "source": [
    "-------"
   ]
  },
  {
   "cell_type": "markdown",
   "id": "216c4e37",
   "metadata": {},
   "source": [
    "# Classification "
   ]
  },
  {
   "cell_type": "markdown",
   "id": "52f47a50",
   "metadata": {},
   "source": [
    "We want to compare the classification results between the true PIs and the predited PIs. For that, we create 2 models : ```model_classif_NN``` will be trained with the PI computed by the NN and ```model_classif_gudhi``` will be trained with the PI computed by Gudhi. We will then compare their accuracy on new data."
   ]
  },
  {
   "cell_type": "code",
   "execution_count": 26,
   "id": "180381df",
   "metadata": {},
   "outputs": [],
   "source": [
    "def create_model():\n",
    "    inputs = tf.keras.Input(shape=(PI_size * PI_size))\n",
    "\n",
    "    x = tf.keras.layers.Dense(100, activation='relu')(inputs)\n",
    "\n",
    "    x = tf.keras.layers.Dense(50, activation='relu')(x)\n",
    "\n",
    "    outputs = tf.keras.layers.Dense(3)(x)\n",
    "\n",
    "    model_classif = tf.keras.Model(inputs=inputs, outputs=outputs)\n",
    "    model_classif.compile(\n",
    "        optimizer='adam',\n",
    "        loss=tf.keras.losses.SparseCategoricalCrossentropy(from_logits=True),\n",
    "        metrics=['accuracy'])\n",
    "    return model_classif"
   ]
  },
  {
   "cell_type": "code",
   "execution_count": 27,
   "id": "f39d1694",
   "metadata": {},
   "outputs": [
    {
     "name": "stdout",
     "output_type": "stream",
     "text": [
      "Model: \"model\"\n",
      "_________________________________________________________________\n",
      "Layer (type)                 Output Shape              Param #   \n",
      "=================================================================\n",
      "input_1 (InputLayer)         [(None, 2500)]            0         \n",
      "_________________________________________________________________\n",
      "dense (Dense)                (None, 100)               250100    \n",
      "_________________________________________________________________\n",
      "dense_1 (Dense)              (None, 50)                5050      \n",
      "_________________________________________________________________\n",
      "dense_2 (Dense)              (None, 3)                 153       \n",
      "=================================================================\n",
      "Total params: 255,303\n",
      "Trainable params: 255,303\n",
      "Non-trainable params: 0\n",
      "_________________________________________________________________\n"
     ]
    }
   ],
   "source": [
    "model_classif_NN = create_model()\n",
    "model_classif_gudhi = create_model()\n",
    "\n",
    "model_classif_NN.summary()\n",
    "\n",
    "#SVG(\n",
    "#    tf.keras.utils.model_to_dot(model_classif,\n",
    "#                                show_shapes=True).create(prog='dot',\n",
    "#                                                         format='svg'))\n",
    "\n",
    "#tf.keras.utils.plot_model(model_classif,\n",
    "#                          to_file='Résultats/Résultats 2/model_classif_multip.pdf',\n",
    "#                          show_shapes=True,\n",
    "#                          rankdir='LR')"
   ]
  },
  {
   "cell_type": "markdown",
   "id": "b8793e3b",
   "metadata": {},
   "source": [
    "### Load data for the training of ```model_classif_gudhi```"
   ]
  },
  {
   "cell_type": "code",
   "execution_count": 39,
   "id": "823c26dc",
   "metadata": {},
   "outputs": [],
   "source": [
    "data = np.load('data/PI_data_multiple_noisy_circle_classif.npz')\n",
    "\n",
    "#data = np.load('PI_data_1000_dynamical_alpha.npz')\n",
    "\n",
    "label_train_classif = data[\"label_train\"]\n",
    "data_train_classif = data[\"data_train\"]\n",
    "PI_train_gudhi = data[\"PI_train\"]\n",
    "label_test_classif = data[\"label_test\"]\n",
    "PI_test_gudhi = data[\"PI_test\"]\n",
    "data_test_classif = data[\"data_test\"]"
   ]
  },
  {
   "cell_type": "code",
   "execution_count": 40,
   "id": "7c688b4c",
   "metadata": {},
   "outputs": [],
   "source": [
    "N_sets_train = PI_train_gudhi.shape[0]\n",
    "N_sets_test = PI_test_gudhi.shape[0]\n",
    "PI_size = int(np.sqrt(PI_train_gudhi.shape[1]))"
   ]
  },
  {
   "cell_type": "code",
   "execution_count": 41,
   "id": "90396b67",
   "metadata": {
    "scrolled": true
   },
   "outputs": [
    {
     "name": "stdout",
     "output_type": "stream",
     "text": [
      "N_sets_train :  999\n",
      "N_sets_test :  99\n",
      "PI_size :  50\n"
     ]
    }
   ],
   "source": [
    "print(\"N_sets_train : \", N_sets_train)\n",
    "print(\"N_sets_test : \", N_sets_test)\n",
    "print(\"PI_size : \", PI_size)"
   ]
  },
  {
   "cell_type": "code",
   "execution_count": 42,
   "id": "d6f5873f",
   "metadata": {},
   "outputs": [],
   "source": [
    "PI_train_gudhi /= max(np.max(PI_train_gudhi), np.max(PI_test_gudhi))\n",
    "PI_test_gudhi /= max(np.max(PI_train_gudhi), np.max(PI_test_gudhi))"
   ]
  },
  {
   "cell_type": "code",
   "execution_count": 45,
   "id": "32310582",
   "metadata": {},
   "outputs": [],
   "source": [
    "label_train_classif -= 1\n",
    "label_test_classif -= 1"
   ]
  },
  {
   "cell_type": "markdown",
   "id": "0a94cf93",
   "metadata": {},
   "source": [
    "### Fit the classification model ```model_classif_gudhi```"
   ]
  },
  {
   "cell_type": "code",
   "execution_count": 28,
   "id": "17695531",
   "metadata": {
    "scrolled": true
   },
   "outputs": [
    {
     "name": "stdout",
     "output_type": "stream",
     "text": [
      "Epoch 1/100\n",
      "32/32 [==============================] - 1s 6ms/step - loss: 0.3145 - accuracy: 0.9730 - val_loss: 0.0334 - val_accuracy: 0.9899\n",
      "Epoch 2/100\n",
      "32/32 [==============================] - 0s 3ms/step - loss: 0.0179 - accuracy: 0.9990 - val_loss: 0.0233 - val_accuracy: 0.9899\n",
      "Epoch 3/100\n",
      "32/32 [==============================] - 0s 3ms/step - loss: 0.0081 - accuracy: 1.0000 - val_loss: 0.0075 - val_accuracy: 1.0000\n",
      "Epoch 4/100\n",
      "32/32 [==============================] - 0s 3ms/step - loss: 0.0053 - accuracy: 1.0000 - val_loss: 0.0056 - val_accuracy: 1.0000\n",
      "Epoch 5/100\n",
      "32/32 [==============================] - 0s 3ms/step - loss: 0.0035 - accuracy: 1.0000 - val_loss: 0.0042 - val_accuracy: 1.0000\n",
      "Epoch 6/100\n",
      "32/32 [==============================] - 0s 3ms/step - loss: 0.0025 - accuracy: 1.0000 - val_loss: 0.0033 - val_accuracy: 1.0000\n",
      "Epoch 7/100\n",
      "32/32 [==============================] - 0s 3ms/step - loss: 0.0019 - accuracy: 1.0000 - val_loss: 0.0023 - val_accuracy: 1.0000\n",
      "Epoch 8/100\n",
      "32/32 [==============================] - 0s 3ms/step - loss: 0.0015 - accuracy: 1.0000 - val_loss: 0.0019 - val_accuracy: 1.0000\n",
      "Epoch 9/100\n",
      "32/32 [==============================] - 0s 3ms/step - loss: 0.0012 - accuracy: 1.0000 - val_loss: 0.0014 - val_accuracy: 1.0000\n",
      "Epoch 10/100\n",
      "32/32 [==============================] - 0s 3ms/step - loss: 9.3494e-04 - accuracy: 1.0000 - val_loss: 0.0010 - val_accuracy: 1.0000\n",
      "Epoch 11/100\n",
      "32/32 [==============================] - 0s 3ms/step - loss: 7.6684e-04 - accuracy: 1.0000 - val_loss: 0.0010 - val_accuracy: 1.0000\n",
      "Epoch 12/100\n",
      "32/32 [==============================] - 0s 3ms/step - loss: 6.2895e-04 - accuracy: 1.0000 - val_loss: 8.6639e-04 - val_accuracy: 1.0000\n",
      "Epoch 13/100\n",
      "32/32 [==============================] - 0s 3ms/step - loss: 5.4790e-04 - accuracy: 1.0000 - val_loss: 7.4375e-04 - val_accuracy: 1.0000\n",
      "Epoch 14/100\n",
      "32/32 [==============================] - 0s 3ms/step - loss: 4.5930e-04 - accuracy: 1.0000 - val_loss: 6.2382e-04 - val_accuracy: 1.0000\n",
      "Epoch 15/100\n",
      "32/32 [==============================] - 0s 3ms/step - loss: 3.9441e-04 - accuracy: 1.0000 - val_loss: 6.6731e-04 - val_accuracy: 1.0000\n",
      "Epoch 16/100\n",
      "32/32 [==============================] - 0s 3ms/step - loss: 3.4032e-04 - accuracy: 1.0000 - val_loss: 5.3735e-04 - val_accuracy: 1.0000\n",
      "Epoch 17/100\n",
      "32/32 [==============================] - 0s 3ms/step - loss: 2.9988e-04 - accuracy: 1.0000 - val_loss: 4.7720e-04 - val_accuracy: 1.0000\n",
      "Epoch 18/100\n",
      "32/32 [==============================] - 0s 3ms/step - loss: 2.6829e-04 - accuracy: 1.0000 - val_loss: 4.6705e-04 - val_accuracy: 1.0000\n",
      "Epoch 19/100\n",
      "32/32 [==============================] - 0s 3ms/step - loss: 2.3163e-04 - accuracy: 1.0000 - val_loss: 6.2729e-04 - val_accuracy: 1.0000\n",
      "Epoch 20/100\n",
      "32/32 [==============================] - 0s 3ms/step - loss: 2.1601e-04 - accuracy: 1.0000 - val_loss: 3.8997e-04 - val_accuracy: 1.0000\n",
      "Epoch 21/100\n",
      "32/32 [==============================] - 0s 3ms/step - loss: 1.9041e-04 - accuracy: 1.0000 - val_loss: 3.8863e-04 - val_accuracy: 1.0000\n",
      "Epoch 22/100\n",
      "32/32 [==============================] - 0s 3ms/step - loss: 1.7069e-04 - accuracy: 1.0000 - val_loss: 3.3131e-04 - val_accuracy: 1.0000\n",
      "Epoch 23/100\n",
      "32/32 [==============================] - 0s 3ms/step - loss: 1.5435e-04 - accuracy: 1.0000 - val_loss: 2.4345e-04 - val_accuracy: 1.0000\n",
      "Epoch 24/100\n",
      "32/32 [==============================] - 0s 3ms/step - loss: 1.4256e-04 - accuracy: 1.0000 - val_loss: 2.7558e-04 - val_accuracy: 1.0000\n",
      "Epoch 25/100\n",
      "32/32 [==============================] - 0s 3ms/step - loss: 1.3045e-04 - accuracy: 1.0000 - val_loss: 2.9999e-04 - val_accuracy: 1.0000\n",
      "Epoch 26/100\n",
      "32/32 [==============================] - 0s 3ms/step - loss: 1.1658e-04 - accuracy: 1.0000 - val_loss: 2.3205e-04 - val_accuracy: 1.0000\n",
      "Epoch 27/100\n",
      "32/32 [==============================] - 0s 3ms/step - loss: 1.0861e-04 - accuracy: 1.0000 - val_loss: 2.2745e-04 - val_accuracy: 1.0000\n",
      "Epoch 28/100\n",
      "32/32 [==============================] - 0s 3ms/step - loss: 9.8893e-05 - accuracy: 1.0000 - val_loss: 2.2967e-04 - val_accuracy: 1.0000\n",
      "Epoch 29/100\n",
      "32/32 [==============================] - 0s 3ms/step - loss: 9.3836e-05 - accuracy: 1.0000 - val_loss: 2.3465e-04 - val_accuracy: 1.0000\n",
      "Epoch 30/100\n",
      "32/32 [==============================] - 0s 3ms/step - loss: 8.6927e-05 - accuracy: 1.0000 - val_loss: 1.9375e-04 - val_accuracy: 1.0000\n",
      "Epoch 31/100\n",
      "32/32 [==============================] - 0s 3ms/step - loss: 7.9531e-05 - accuracy: 1.0000 - val_loss: 1.7008e-04 - val_accuracy: 1.0000\n",
      "Epoch 32/100\n",
      "32/32 [==============================] - 0s 3ms/step - loss: 7.5430e-05 - accuracy: 1.0000 - val_loss: 1.8622e-04 - val_accuracy: 1.0000\n",
      "Epoch 33/100\n",
      "32/32 [==============================] - 0s 3ms/step - loss: 6.8590e-05 - accuracy: 1.0000 - val_loss: 1.7137e-04 - val_accuracy: 1.0000\n",
      "Epoch 34/100\n",
      "32/32 [==============================] - 0s 3ms/step - loss: 6.4863e-05 - accuracy: 1.0000 - val_loss: 1.4461e-04 - val_accuracy: 1.0000\n",
      "Epoch 35/100\n",
      "32/32 [==============================] - 0s 3ms/step - loss: 6.0299e-05 - accuracy: 1.0000 - val_loss: 1.9368e-04 - val_accuracy: 1.0000\n",
      "Epoch 36/100\n",
      "32/32 [==============================] - 0s 3ms/step - loss: 5.6951e-05 - accuracy: 1.0000 - val_loss: 1.7453e-04 - val_accuracy: 1.0000\n",
      "Epoch 37/100\n",
      "32/32 [==============================] - 0s 3ms/step - loss: 5.2766e-05 - accuracy: 1.0000 - val_loss: 1.3632e-04 - val_accuracy: 1.0000\n",
      "Epoch 38/100\n",
      "32/32 [==============================] - 0s 3ms/step - loss: 5.0151e-05 - accuracy: 1.0000 - val_loss: 1.4235e-04 - val_accuracy: 1.0000\n",
      "Epoch 39/100\n",
      "32/32 [==============================] - 0s 3ms/step - loss: 4.7685e-05 - accuracy: 1.0000 - val_loss: 1.4505e-04 - val_accuracy: 1.0000\n",
      "Epoch 40/100\n",
      "32/32 [==============================] - 0s 3ms/step - loss: 4.5455e-05 - accuracy: 1.0000 - val_loss: 1.1529e-04 - val_accuracy: 1.0000\n",
      "Epoch 41/100\n",
      "32/32 [==============================] - 0s 3ms/step - loss: 4.2428e-05 - accuracy: 1.0000 - val_loss: 1.3047e-04 - val_accuracy: 1.0000\n",
      "Epoch 42/100\n",
      "32/32 [==============================] - 0s 3ms/step - loss: 4.0325e-05 - accuracy: 1.0000 - val_loss: 1.1308e-04 - val_accuracy: 1.0000\n",
      "Epoch 43/100\n",
      "32/32 [==============================] - 0s 3ms/step - loss: 3.7306e-05 - accuracy: 1.0000 - val_loss: 1.1660e-04 - val_accuracy: 1.0000\n",
      "Epoch 44/100\n",
      "32/32 [==============================] - 0s 3ms/step - loss: 3.5862e-05 - accuracy: 1.0000 - val_loss: 1.0853e-04 - val_accuracy: 1.0000\n",
      "Epoch 45/100\n",
      "32/32 [==============================] - 0s 3ms/step - loss: 3.3975e-05 - accuracy: 1.0000 - val_loss: 1.0401e-04 - val_accuracy: 1.0000\n",
      "Epoch 46/100\n",
      "32/32 [==============================] - 0s 3ms/step - loss: 3.2334e-05 - accuracy: 1.0000 - val_loss: 9.5636e-05 - val_accuracy: 1.0000\n",
      "Epoch 47/100\n",
      "32/32 [==============================] - 0s 3ms/step - loss: 3.1437e-05 - accuracy: 1.0000 - val_loss: 9.9103e-05 - val_accuracy: 1.0000\n",
      "Epoch 48/100\n",
      "32/32 [==============================] - 0s 3ms/step - loss: 2.9099e-05 - accuracy: 1.0000 - val_loss: 9.0264e-05 - val_accuracy: 1.0000\n",
      "Epoch 49/100\n",
      "32/32 [==============================] - 0s 3ms/step - loss: 2.8210e-05 - accuracy: 1.0000 - val_loss: 7.8918e-05 - val_accuracy: 1.0000\n",
      "Epoch 50/100\n",
      "32/32 [==============================] - 0s 3ms/step - loss: 2.7604e-05 - accuracy: 1.0000 - val_loss: 1.1717e-04 - val_accuracy: 1.0000\n",
      "Epoch 51/100\n",
      "32/32 [==============================] - 0s 3ms/step - loss: 2.6562e-05 - accuracy: 1.0000 - val_loss: 8.5606e-05 - val_accuracy: 1.0000\n",
      "Epoch 52/100\n",
      "32/32 [==============================] - 0s 3ms/step - loss: 2.4113e-05 - accuracy: 1.0000 - val_loss: 8.1244e-05 - val_accuracy: 1.0000\n",
      "Epoch 53/100\n",
      "32/32 [==============================] - 0s 3ms/step - loss: 2.2826e-05 - accuracy: 1.0000 - val_loss: 7.7869e-05 - val_accuracy: 1.0000\n",
      "Epoch 54/100\n",
      "32/32 [==============================] - 0s 3ms/step - loss: 2.2625e-05 - accuracy: 1.0000 - val_loss: 5.0104e-05 - val_accuracy: 1.0000\n",
      "Epoch 55/100\n",
      "32/32 [==============================] - 0s 3ms/step - loss: 2.1576e-05 - accuracy: 1.0000 - val_loss: 6.0658e-05 - val_accuracy: 1.0000\n",
      "Epoch 56/100\n",
      "32/32 [==============================] - 0s 3ms/step - loss: 1.9678e-05 - accuracy: 1.0000 - val_loss: 5.9742e-05 - val_accuracy: 1.0000\n",
      "Epoch 57/100\n",
      "32/32 [==============================] - 0s 3ms/step - loss: 1.8885e-05 - accuracy: 1.0000 - val_loss: 5.9218e-05 - val_accuracy: 1.0000\n",
      "Epoch 58/100\n",
      "32/32 [==============================] - 0s 3ms/step - loss: 1.8013e-05 - accuracy: 1.0000 - val_loss: 6.3996e-05 - val_accuracy: 1.0000\n",
      "Epoch 59/100\n",
      "32/32 [==============================] - 0s 3ms/step - loss: 1.7346e-05 - accuracy: 1.0000 - val_loss: 6.0405e-05 - val_accuracy: 1.0000\n",
      "Epoch 60/100\n",
      "32/32 [==============================] - 0s 3ms/step - loss: 1.6589e-05 - accuracy: 1.0000 - val_loss: 5.8515e-05 - val_accuracy: 1.0000\n",
      "Epoch 61/100\n",
      "32/32 [==============================] - 0s 3ms/step - loss: 1.5969e-05 - accuracy: 1.0000 - val_loss: 5.7292e-05 - val_accuracy: 1.0000\n",
      "Epoch 62/100\n",
      "32/32 [==============================] - 0s 3ms/step - loss: 1.5246e-05 - accuracy: 1.0000 - val_loss: 5.3762e-05 - val_accuracy: 1.0000\n",
      "Epoch 63/100\n",
      "32/32 [==============================] - 0s 3ms/step - loss: 1.4655e-05 - accuracy: 1.0000 - val_loss: 5.2486e-05 - val_accuracy: 1.0000\n",
      "Epoch 64/100\n",
      "32/32 [==============================] - 0s 3ms/step - loss: 1.4094e-05 - accuracy: 1.0000 - val_loss: 5.2367e-05 - val_accuracy: 1.0000\n",
      "Epoch 65/100\n",
      "32/32 [==============================] - 0s 3ms/step - loss: 1.3612e-05 - accuracy: 1.0000 - val_loss: 4.7304e-05 - val_accuracy: 1.0000\n",
      "Epoch 66/100\n",
      "32/32 [==============================] - 0s 3ms/step - loss: 1.2988e-05 - accuracy: 1.0000 - val_loss: 4.6990e-05 - val_accuracy: 1.0000\n",
      "Epoch 67/100\n",
      "32/32 [==============================] - 0s 3ms/step - loss: 1.2583e-05 - accuracy: 1.0000 - val_loss: 4.5669e-05 - val_accuracy: 1.0000\n",
      "Epoch 68/100\n",
      "32/32 [==============================] - 0s 3ms/step - loss: 1.2043e-05 - accuracy: 1.0000 - val_loss: 4.4151e-05 - val_accuracy: 1.0000\n",
      "Epoch 69/100\n",
      "32/32 [==============================] - 0s 3ms/step - loss: 1.1552e-05 - accuracy: 1.0000 - val_loss: 4.2991e-05 - val_accuracy: 1.0000\n",
      "Epoch 70/100\n",
      "32/32 [==============================] - 0s 3ms/step - loss: 1.1187e-05 - accuracy: 1.0000 - val_loss: 4.1422e-05 - val_accuracy: 1.0000\n",
      "Epoch 71/100\n",
      "32/32 [==============================] - 0s 3ms/step - loss: 1.0786e-05 - accuracy: 1.0000 - val_loss: 4.0379e-05 - val_accuracy: 1.0000\n",
      "Epoch 72/100\n",
      "32/32 [==============================] - 0s 3ms/step - loss: 1.0404e-05 - accuracy: 1.0000 - val_loss: 3.8759e-05 - val_accuracy: 1.0000\n",
      "Epoch 73/100\n",
      "32/32 [==============================] - 0s 3ms/step - loss: 1.0372e-05 - accuracy: 1.0000 - val_loss: 4.8741e-05 - val_accuracy: 1.0000\n",
      "Epoch 74/100\n",
      "32/32 [==============================] - 0s 3ms/step - loss: 9.9273e-06 - accuracy: 1.0000 - val_loss: 3.7666e-05 - val_accuracy: 1.0000\n",
      "Epoch 75/100\n",
      "32/32 [==============================] - 0s 3ms/step - loss: 9.3004e-06 - accuracy: 1.0000 - val_loss: 3.7321e-05 - val_accuracy: 1.0000\n",
      "Epoch 76/100\n",
      "32/32 [==============================] - 0s 3ms/step - loss: 8.8984e-06 - accuracy: 1.0000 - val_loss: 3.4035e-05 - val_accuracy: 1.0000\n",
      "Epoch 77/100\n",
      "32/32 [==============================] - 0s 3ms/step - loss: 8.7018e-06 - accuracy: 1.0000 - val_loss: 3.1328e-05 - val_accuracy: 1.0000\n",
      "Epoch 78/100\n",
      "32/32 [==============================] - 0s 3ms/step - loss: 8.2635e-06 - accuracy: 1.0000 - val_loss: 3.1284e-05 - val_accuracy: 1.0000\n",
      "Epoch 79/100\n",
      "32/32 [==============================] - 0s 3ms/step - loss: 7.9971e-06 - accuracy: 1.0000 - val_loss: 2.9820e-05 - val_accuracy: 1.0000\n",
      "Epoch 80/100\n",
      "32/32 [==============================] - 0s 3ms/step - loss: 7.7161e-06 - accuracy: 1.0000 - val_loss: 2.9732e-05 - val_accuracy: 1.0000\n",
      "Epoch 81/100\n",
      "32/32 [==============================] - 0s 3ms/step - loss: 7.4960e-06 - accuracy: 1.0000 - val_loss: 2.7796e-05 - val_accuracy: 1.0000\n",
      "Epoch 82/100\n",
      "32/32 [==============================] - 0s 3ms/step - loss: 7.2761e-06 - accuracy: 1.0000 - val_loss: 2.8279e-05 - val_accuracy: 1.0000\n",
      "Epoch 83/100\n",
      "32/32 [==============================] - 0s 3ms/step - loss: 6.9786e-06 - accuracy: 1.0000 - val_loss: 2.6807e-05 - val_accuracy: 1.0000\n",
      "Epoch 84/100\n",
      "32/32 [==============================] - 0s 3ms/step - loss: 6.7714e-06 - accuracy: 1.0000 - val_loss: 2.6453e-05 - val_accuracy: 1.0000\n",
      "Epoch 85/100\n",
      "32/32 [==============================] - 0s 3ms/step - loss: 6.5782e-06 - accuracy: 1.0000 - val_loss: 2.6618e-05 - val_accuracy: 1.0000\n",
      "Epoch 86/100\n",
      "32/32 [==============================] - 0s 3ms/step - loss: 6.3707e-06 - accuracy: 1.0000 - val_loss: 2.5739e-05 - val_accuracy: 1.0000\n",
      "Epoch 87/100\n",
      "32/32 [==============================] - 0s 3ms/step - loss: 6.1294e-06 - accuracy: 1.0000 - val_loss: 2.5140e-05 - val_accuracy: 1.0000\n",
      "Epoch 88/100\n",
      "32/32 [==============================] - 0s 3ms/step - loss: 5.9599e-06 - accuracy: 1.0000 - val_loss: 2.4408e-05 - val_accuracy: 1.0000\n",
      "Epoch 89/100\n",
      "32/32 [==============================] - 0s 3ms/step - loss: 5.7590e-06 - accuracy: 1.0000 - val_loss: 2.3535e-05 - val_accuracy: 1.0000\n",
      "Epoch 90/100\n",
      "32/32 [==============================] - 0s 3ms/step - loss: 5.5890e-06 - accuracy: 1.0000 - val_loss: 2.3250e-05 - val_accuracy: 1.0000\n",
      "Epoch 91/100\n",
      "32/32 [==============================] - 0s 3ms/step - loss: 5.4316e-06 - accuracy: 1.0000 - val_loss: 2.2607e-05 - val_accuracy: 1.0000\n",
      "Epoch 92/100\n",
      "32/32 [==============================] - 0s 3ms/step - loss: 5.2452e-06 - accuracy: 1.0000 - val_loss: 2.1804e-05 - val_accuracy: 1.0000\n",
      "Epoch 93/100\n",
      "32/32 [==============================] - 0s 3ms/step - loss: 5.1183e-06 - accuracy: 1.0000 - val_loss: 2.1062e-05 - val_accuracy: 1.0000\n",
      "Epoch 94/100\n",
      "32/32 [==============================] - 0s 3ms/step - loss: 4.9968e-06 - accuracy: 1.0000 - val_loss: 2.5006e-05 - val_accuracy: 1.0000\n",
      "Epoch 95/100\n",
      "32/32 [==============================] - 0s 3ms/step - loss: 4.8772e-06 - accuracy: 1.0000 - val_loss: 2.1614e-05 - val_accuracy: 1.0000\n",
      "Epoch 96/100\n",
      "32/32 [==============================] - 0s 3ms/step - loss: 4.6824e-06 - accuracy: 1.0000 - val_loss: 2.0314e-05 - val_accuracy: 1.0000\n",
      "Epoch 97/100\n",
      "32/32 [==============================] - 0s 2ms/step - loss: 4.5032e-06 - accuracy: 1.0000 - val_loss: 1.9150e-05 - val_accuracy: 1.0000\n",
      "Epoch 98/100\n",
      "32/32 [==============================] - 0s 2ms/step - loss: 4.3360e-06 - accuracy: 1.0000 - val_loss: 1.7852e-05 - val_accuracy: 1.0000\n",
      "Epoch 99/100\n",
      "32/32 [==============================] - 0s 2ms/step - loss: 4.1829e-06 - accuracy: 1.0000 - val_loss: 1.7701e-05 - val_accuracy: 1.0000\n",
      "Epoch 100/100\n",
      "32/32 [==============================] - 0s 3ms/step - loss: 4.0572e-06 - accuracy: 1.0000 - val_loss: 1.6841e-05 - val_accuracy: 1.0000\n"
     ]
    }
   ],
   "source": [
    "history_gudhi = model_classif_gudhi.fit(PI_train_gudhi,\n",
    "                                        label_train_gudhi,\n",
    "                                        epochs=100,\n",
    "                                        validation_data=(PI_test_gudhi,\n",
    "                                                         label_test_gudhi))"
   ]
  },
  {
   "cell_type": "code",
   "execution_count": 29,
   "id": "659a8983",
   "metadata": {
    "scrolled": true
   },
   "outputs": [
    {
     "name": "stdout",
     "output_type": "stream",
     "text": [
      "4/4 - 0s - loss: 1.6841e-05 - accuracy: 1.0000\n",
      "\n",
      "Test accuracy: 1.0\n"
     ]
    }
   ],
   "source": [
    "test_loss_gudhi, test_acc_gudhi = model_classif_gudhi.evaluate(\n",
    "    PI_test_gudhi, label_test_gudhi, verbose=2)\n",
    "\n",
    "print('\\nTest accuracy:', test_acc_gudhi)"
   ]
  },
  {
   "cell_type": "markdown",
   "id": "8842c7b5",
   "metadata": {},
   "source": [
    " ### Predite the PIs for the training of ```model_classif_NN```  "
   ]
  },
  {
   "cell_type": "code",
   "execution_count": 34,
   "id": "9f0d91d2",
   "metadata": {},
   "outputs": [],
   "source": [
    "PI_train_NN = model_PI.predict(data_train_classif)"
   ]
  },
  {
   "cell_type": "code",
   "execution_count": 35,
   "id": "d240924b",
   "metadata": {},
   "outputs": [],
   "source": [
    "PI_test_NN = model_PI.predict(data_test_classif)"
   ]
  },
  {
   "cell_type": "markdown",
   "id": "b0cdf2c3",
   "metadata": {},
   "source": [
    "### Fit the classification model ```model_classif_NN```"
   ]
  },
  {
   "cell_type": "code",
   "execution_count": 47,
   "id": "0681b2b0",
   "metadata": {},
   "outputs": [
    {
     "name": "stdout",
     "output_type": "stream",
     "text": [
      "Epoch 1/100\n",
      "32/32 [==============================] - 0s 3ms/step - loss: 0.2017 - accuracy: 0.9119 - val_loss: 0.2372 - val_accuracy: 0.8990\n",
      "Epoch 2/100\n",
      "32/32 [==============================] - 0s 3ms/step - loss: 0.1981 - accuracy: 0.9059 - val_loss: 0.2429 - val_accuracy: 0.8990\n",
      "Epoch 3/100\n",
      "32/32 [==============================] - 0s 3ms/step - loss: 0.1966 - accuracy: 0.9069 - val_loss: 0.2387 - val_accuracy: 0.8990\n",
      "Epoch 4/100\n",
      "32/32 [==============================] - 0s 3ms/step - loss: 0.1992 - accuracy: 0.9119 - val_loss: 0.2417 - val_accuracy: 0.8889\n",
      "Epoch 5/100\n",
      "32/32 [==============================] - 0s 3ms/step - loss: 0.1956 - accuracy: 0.9129 - val_loss: 0.2493 - val_accuracy: 0.8889\n",
      "Epoch 6/100\n",
      "32/32 [==============================] - 0s 3ms/step - loss: 0.2054 - accuracy: 0.9089 - val_loss: 0.2580 - val_accuracy: 0.8889\n",
      "Epoch 7/100\n",
      "32/32 [==============================] - 0s 3ms/step - loss: 0.1964 - accuracy: 0.9079 - val_loss: 0.2586 - val_accuracy: 0.8889\n",
      "Epoch 8/100\n",
      "32/32 [==============================] - 0s 3ms/step - loss: 0.2060 - accuracy: 0.9069 - val_loss: 0.2434 - val_accuracy: 0.8889\n",
      "Epoch 9/100\n",
      "32/32 [==============================] - 0s 3ms/step - loss: 0.1961 - accuracy: 0.9099 - val_loss: 0.2519 - val_accuracy: 0.8889\n",
      "Epoch 10/100\n",
      "32/32 [==============================] - 0s 3ms/step - loss: 0.2206 - accuracy: 0.9039 - val_loss: 0.2574 - val_accuracy: 0.8889\n",
      "Epoch 11/100\n",
      "32/32 [==============================] - 0s 3ms/step - loss: 0.2028 - accuracy: 0.9109 - val_loss: 0.2248 - val_accuracy: 0.8990\n",
      "Epoch 12/100\n",
      "32/32 [==============================] - 0s 3ms/step - loss: 0.1980 - accuracy: 0.9069 - val_loss: 0.2193 - val_accuracy: 0.8687\n",
      "Epoch 13/100\n",
      "32/32 [==============================] - 0s 3ms/step - loss: 0.1950 - accuracy: 0.9129 - val_loss: 0.2454 - val_accuracy: 0.8990\n",
      "Epoch 14/100\n",
      "32/32 [==============================] - 0s 3ms/step - loss: 0.1977 - accuracy: 0.9079 - val_loss: 0.2368 - val_accuracy: 0.8990\n",
      "Epoch 15/100\n",
      "32/32 [==============================] - 0s 3ms/step - loss: 0.1939 - accuracy: 0.9129 - val_loss: 0.2704 - val_accuracy: 0.8788\n",
      "Epoch 16/100\n",
      "32/32 [==============================] - 0s 3ms/step - loss: 0.1954 - accuracy: 0.9119 - val_loss: 0.2308 - val_accuracy: 0.8889\n",
      "Epoch 17/100\n",
      "32/32 [==============================] - 0s 3ms/step - loss: 0.1956 - accuracy: 0.9079 - val_loss: 0.2265 - val_accuracy: 0.8889\n",
      "Epoch 18/100\n",
      "32/32 [==============================] - 0s 3ms/step - loss: 0.1975 - accuracy: 0.9099 - val_loss: 0.2321 - val_accuracy: 0.8990\n",
      "Epoch 19/100\n",
      "32/32 [==============================] - 0s 3ms/step - loss: 0.1984 - accuracy: 0.9099 - val_loss: 0.2269 - val_accuracy: 0.8990\n",
      "Epoch 20/100\n",
      "32/32 [==============================] - 0s 3ms/step - loss: 0.1968 - accuracy: 0.9089 - val_loss: 0.2258 - val_accuracy: 0.8788\n",
      "Epoch 21/100\n",
      "32/32 [==============================] - 0s 3ms/step - loss: 0.1982 - accuracy: 0.9109 - val_loss: 0.2211 - val_accuracy: 0.8687\n",
      "Epoch 22/100\n",
      "32/32 [==============================] - 0s 3ms/step - loss: 0.1980 - accuracy: 0.9069 - val_loss: 0.2225 - val_accuracy: 0.8788\n",
      "Epoch 23/100\n",
      "32/32 [==============================] - 0s 3ms/step - loss: 0.1980 - accuracy: 0.9119 - val_loss: 0.2313 - val_accuracy: 0.8990\n",
      "Epoch 24/100\n",
      "32/32 [==============================] - 0s 3ms/step - loss: 0.1941 - accuracy: 0.9109 - val_loss: 0.2321 - val_accuracy: 0.8889\n",
      "Epoch 25/100\n",
      "32/32 [==============================] - 0s 3ms/step - loss: 0.1946 - accuracy: 0.9109 - val_loss: 0.2240 - val_accuracy: 0.8788\n",
      "Epoch 26/100\n",
      "32/32 [==============================] - 0s 3ms/step - loss: 0.1943 - accuracy: 0.9189 - val_loss: 0.2213 - val_accuracy: 0.8889\n",
      "Epoch 27/100\n",
      "32/32 [==============================] - 0s 3ms/step - loss: 0.2005 - accuracy: 0.9049 - val_loss: 0.2272 - val_accuracy: 0.8990\n",
      "Epoch 28/100\n",
      "32/32 [==============================] - 0s 3ms/step - loss: 0.1932 - accuracy: 0.9109 - val_loss: 0.2270 - val_accuracy: 0.8788\n",
      "Epoch 29/100\n",
      "32/32 [==============================] - 0s 3ms/step - loss: 0.1948 - accuracy: 0.9139 - val_loss: 0.2248 - val_accuracy: 0.8889\n",
      "Epoch 30/100\n",
      "32/32 [==============================] - 0s 3ms/step - loss: 0.1959 - accuracy: 0.9079 - val_loss: 0.2393 - val_accuracy: 0.8990\n",
      "Epoch 31/100\n",
      "32/32 [==============================] - 0s 3ms/step - loss: 0.1989 - accuracy: 0.9149 - val_loss: 0.2266 - val_accuracy: 0.8990\n",
      "Epoch 32/100\n",
      "32/32 [==============================] - 0s 3ms/step - loss: 0.1931 - accuracy: 0.9119 - val_loss: 0.2443 - val_accuracy: 0.8889\n",
      "Epoch 33/100\n",
      "32/32 [==============================] - 0s 3ms/step - loss: 0.1918 - accuracy: 0.9109 - val_loss: 0.2463 - val_accuracy: 0.8889\n",
      "Epoch 34/100\n",
      "32/32 [==============================] - 0s 3ms/step - loss: 0.2161 - accuracy: 0.8969 - val_loss: 0.2625 - val_accuracy: 0.8788\n",
      "Epoch 35/100\n",
      "32/32 [==============================] - 0s 3ms/step - loss: 0.1984 - accuracy: 0.9119 - val_loss: 0.2295 - val_accuracy: 0.8990\n",
      "Epoch 36/100\n",
      "32/32 [==============================] - 0s 3ms/step - loss: 0.2018 - accuracy: 0.9149 - val_loss: 0.2188 - val_accuracy: 0.8889\n",
      "Epoch 37/100\n",
      "32/32 [==============================] - 0s 3ms/step - loss: 0.1978 - accuracy: 0.9199 - val_loss: 0.2267 - val_accuracy: 0.8889\n",
      "Epoch 38/100\n",
      "32/32 [==============================] - 0s 3ms/step - loss: 0.1970 - accuracy: 0.9129 - val_loss: 0.2248 - val_accuracy: 0.8889\n",
      "Epoch 39/100\n",
      "32/32 [==============================] - 0s 3ms/step - loss: 0.1999 - accuracy: 0.9099 - val_loss: 0.2428 - val_accuracy: 0.8889\n",
      "Epoch 40/100\n",
      "32/32 [==============================] - 0s 3ms/step - loss: 0.1936 - accuracy: 0.9119 - val_loss: 0.2383 - val_accuracy: 0.8990\n",
      "Epoch 41/100\n",
      "32/32 [==============================] - 0s 3ms/step - loss: 0.1899 - accuracy: 0.9169 - val_loss: 0.2288 - val_accuracy: 0.8889\n",
      "Epoch 42/100\n",
      "32/32 [==============================] - 0s 3ms/step - loss: 0.1930 - accuracy: 0.9169 - val_loss: 0.2201 - val_accuracy: 0.8788\n",
      "Epoch 43/100\n",
      "32/32 [==============================] - 0s 3ms/step - loss: 0.1910 - accuracy: 0.9179 - val_loss: 0.2339 - val_accuracy: 0.8990\n",
      "Epoch 44/100\n",
      "32/32 [==============================] - 0s 3ms/step - loss: 0.1901 - accuracy: 0.9149 - val_loss: 0.2346 - val_accuracy: 0.8990\n",
      "Epoch 45/100\n",
      "32/32 [==============================] - 0s 3ms/step - loss: 0.1906 - accuracy: 0.9119 - val_loss: 0.2262 - val_accuracy: 0.8788\n",
      "Epoch 46/100\n",
      "32/32 [==============================] - 0s 3ms/step - loss: 0.1912 - accuracy: 0.9079 - val_loss: 0.2429 - val_accuracy: 0.8889\n",
      "Epoch 47/100\n",
      "32/32 [==============================] - 0s 3ms/step - loss: 0.1900 - accuracy: 0.9129 - val_loss: 0.2562 - val_accuracy: 0.8788\n",
      "Epoch 48/100\n",
      "32/32 [==============================] - 0s 3ms/step - loss: 0.1979 - accuracy: 0.9139 - val_loss: 0.2220 - val_accuracy: 0.8788\n",
      "Epoch 49/100\n",
      "32/32 [==============================] - 0s 3ms/step - loss: 0.1949 - accuracy: 0.9149 - val_loss: 0.2238 - val_accuracy: 0.8485\n",
      "Epoch 50/100\n",
      "32/32 [==============================] - 0s 3ms/step - loss: 0.1950 - accuracy: 0.9099 - val_loss: 0.2214 - val_accuracy: 0.8788\n",
      "Epoch 51/100\n",
      "32/32 [==============================] - 0s 3ms/step - loss: 0.1931 - accuracy: 0.9139 - val_loss: 0.2247 - val_accuracy: 0.8990\n",
      "Epoch 52/100\n",
      "32/32 [==============================] - 0s 3ms/step - loss: 0.1903 - accuracy: 0.9139 - val_loss: 0.2350 - val_accuracy: 0.8990\n",
      "Epoch 53/100\n",
      "32/32 [==============================] - 0s 3ms/step - loss: 0.1897 - accuracy: 0.9159 - val_loss: 0.2333 - val_accuracy: 0.8990\n",
      "Epoch 54/100\n",
      "32/32 [==============================] - 0s 3ms/step - loss: 0.1907 - accuracy: 0.9129 - val_loss: 0.2482 - val_accuracy: 0.8889\n",
      "Epoch 55/100\n",
      "32/32 [==============================] - 0s 3ms/step - loss: 0.1961 - accuracy: 0.9169 - val_loss: 0.2271 - val_accuracy: 0.8990\n",
      "Epoch 56/100\n",
      "32/32 [==============================] - 0s 3ms/step - loss: 0.1929 - accuracy: 0.9089 - val_loss: 0.2225 - val_accuracy: 0.8889\n",
      "Epoch 57/100\n",
      "32/32 [==============================] - 0s 3ms/step - loss: 0.1913 - accuracy: 0.9139 - val_loss: 0.2189 - val_accuracy: 0.8788\n",
      "Epoch 58/100\n",
      "32/32 [==============================] - 0s 3ms/step - loss: 0.1969 - accuracy: 0.9119 - val_loss: 0.2205 - val_accuracy: 0.9091\n"
     ]
    },
    {
     "name": "stdout",
     "output_type": "stream",
     "text": [
      "Epoch 59/100\n",
      "32/32 [==============================] - 0s 3ms/step - loss: 0.2133 - accuracy: 0.9059 - val_loss: 0.2354 - val_accuracy: 0.8990\n",
      "Epoch 60/100\n",
      "32/32 [==============================] - 0s 3ms/step - loss: 0.1890 - accuracy: 0.9109 - val_loss: 0.2218 - val_accuracy: 0.8788\n",
      "Epoch 61/100\n",
      "32/32 [==============================] - 0s 3ms/step - loss: 0.1942 - accuracy: 0.9139 - val_loss: 0.2360 - val_accuracy: 0.8889\n",
      "Epoch 62/100\n",
      "32/32 [==============================] - 0s 3ms/step - loss: 0.1907 - accuracy: 0.9109 - val_loss: 0.2353 - val_accuracy: 0.8889\n",
      "Epoch 63/100\n",
      "32/32 [==============================] - 0s 3ms/step - loss: 0.1912 - accuracy: 0.9139 - val_loss: 0.2318 - val_accuracy: 0.8889\n",
      "Epoch 64/100\n",
      "32/32 [==============================] - 0s 3ms/step - loss: 0.1890 - accuracy: 0.9149 - val_loss: 0.2205 - val_accuracy: 0.8990\n",
      "Epoch 65/100\n",
      "32/32 [==============================] - 0s 3ms/step - loss: 0.1884 - accuracy: 0.9149 - val_loss: 0.2515 - val_accuracy: 0.8788\n",
      "Epoch 66/100\n",
      "32/32 [==============================] - 0s 3ms/step - loss: 0.1911 - accuracy: 0.9169 - val_loss: 0.2433 - val_accuracy: 0.8889\n",
      "Epoch 67/100\n",
      "32/32 [==============================] - 0s 3ms/step - loss: 0.1914 - accuracy: 0.9089 - val_loss: 0.2474 - val_accuracy: 0.8788\n",
      "Epoch 68/100\n",
      "32/32 [==============================] - 0s 3ms/step - loss: 0.1900 - accuracy: 0.9179 - val_loss: 0.2554 - val_accuracy: 0.8687\n",
      "Epoch 69/100\n",
      "32/32 [==============================] - 0s 3ms/step - loss: 0.1898 - accuracy: 0.9169 - val_loss: 0.2268 - val_accuracy: 0.8889\n",
      "Epoch 70/100\n",
      "32/32 [==============================] - 0s 3ms/step - loss: 0.1865 - accuracy: 0.9139 - val_loss: 0.2213 - val_accuracy: 0.9091\n",
      "Epoch 71/100\n",
      "32/32 [==============================] - 0s 3ms/step - loss: 0.1867 - accuracy: 0.9139 - val_loss: 0.2194 - val_accuracy: 0.8788\n",
      "Epoch 72/100\n",
      "32/32 [==============================] - 0s 3ms/step - loss: 0.1899 - accuracy: 0.9059 - val_loss: 0.2345 - val_accuracy: 0.8889\n",
      "Epoch 73/100\n",
      "32/32 [==============================] - 0s 3ms/step - loss: 0.1864 - accuracy: 0.9139 - val_loss: 0.2218 - val_accuracy: 0.8889\n",
      "Epoch 74/100\n",
      "32/32 [==============================] - 0s 3ms/step - loss: 0.1881 - accuracy: 0.9179 - val_loss: 0.2161 - val_accuracy: 0.8889\n",
      "Epoch 75/100\n",
      "32/32 [==============================] - 0s 3ms/step - loss: 0.1956 - accuracy: 0.9129 - val_loss: 0.2254 - val_accuracy: 0.8990\n",
      "Epoch 76/100\n",
      "32/32 [==============================] - 0s 3ms/step - loss: 0.1870 - accuracy: 0.9179 - val_loss: 0.2162 - val_accuracy: 0.8990\n",
      "Epoch 77/100\n",
      "32/32 [==============================] - 0s 3ms/step - loss: 0.1864 - accuracy: 0.9189 - val_loss: 0.2170 - val_accuracy: 0.8889\n",
      "Epoch 78/100\n",
      "32/32 [==============================] - 0s 3ms/step - loss: 0.1922 - accuracy: 0.9119 - val_loss: 0.2157 - val_accuracy: 0.8889\n",
      "Epoch 79/100\n",
      "32/32 [==============================] - 0s 3ms/step - loss: 0.1921 - accuracy: 0.9089 - val_loss: 0.2425 - val_accuracy: 0.8788\n",
      "Epoch 80/100\n",
      "32/32 [==============================] - 0s 3ms/step - loss: 0.1910 - accuracy: 0.9209 - val_loss: 0.2399 - val_accuracy: 0.8889\n",
      "Epoch 81/100\n",
      "32/32 [==============================] - 0s 3ms/step - loss: 0.1886 - accuracy: 0.9129 - val_loss: 0.2172 - val_accuracy: 0.8889\n",
      "Epoch 82/100\n",
      "32/32 [==============================] - 0s 3ms/step - loss: 0.1907 - accuracy: 0.9189 - val_loss: 0.2135 - val_accuracy: 0.8889\n",
      "Epoch 83/100\n",
      "32/32 [==============================] - 0s 3ms/step - loss: 0.1859 - accuracy: 0.9119 - val_loss: 0.2243 - val_accuracy: 0.8990\n",
      "Epoch 84/100\n",
      "32/32 [==============================] - 0s 3ms/step - loss: 0.1866 - accuracy: 0.9109 - val_loss: 0.2370 - val_accuracy: 0.8889\n",
      "Epoch 85/100\n",
      "32/32 [==============================] - 0s 2ms/step - loss: 0.1850 - accuracy: 0.9139 - val_loss: 0.2244 - val_accuracy: 0.9091\n",
      "Epoch 86/100\n",
      "32/32 [==============================] - 0s 3ms/step - loss: 0.1877 - accuracy: 0.9159 - val_loss: 0.2415 - val_accuracy: 0.8788\n",
      "Epoch 87/100\n",
      "32/32 [==============================] - 0s 3ms/step - loss: 0.1854 - accuracy: 0.9189 - val_loss: 0.2394 - val_accuracy: 0.8889\n",
      "Epoch 88/100\n",
      "32/32 [==============================] - 0s 3ms/step - loss: 0.1891 - accuracy: 0.9189 - val_loss: 0.2237 - val_accuracy: 0.9091\n",
      "Epoch 89/100\n",
      "32/32 [==============================] - 0s 3ms/step - loss: 0.1830 - accuracy: 0.9169 - val_loss: 0.2228 - val_accuracy: 0.8990\n",
      "Epoch 90/100\n",
      "32/32 [==============================] - 0s 3ms/step - loss: 0.1860 - accuracy: 0.9149 - val_loss: 0.2160 - val_accuracy: 0.8990\n",
      "Epoch 91/100\n",
      "32/32 [==============================] - 0s 3ms/step - loss: 0.1888 - accuracy: 0.9249 - val_loss: 0.2420 - val_accuracy: 0.8788\n",
      "Epoch 92/100\n",
      "32/32 [==============================] - 0s 3ms/step - loss: 0.1835 - accuracy: 0.9189 - val_loss: 0.2257 - val_accuracy: 0.8990\n",
      "Epoch 93/100\n",
      "32/32 [==============================] - 0s 3ms/step - loss: 0.1884 - accuracy: 0.9159 - val_loss: 0.2433 - val_accuracy: 0.8788\n",
      "Epoch 94/100\n",
      "32/32 [==============================] - 0s 3ms/step - loss: 0.1894 - accuracy: 0.9139 - val_loss: 0.2203 - val_accuracy: 0.9091\n",
      "Epoch 95/100\n",
      "32/32 [==============================] - 0s 3ms/step - loss: 0.1906 - accuracy: 0.9159 - val_loss: 0.2275 - val_accuracy: 0.8889\n",
      "Epoch 96/100\n",
      "32/32 [==============================] - 0s 3ms/step - loss: 0.1860 - accuracy: 0.9149 - val_loss: 0.2236 - val_accuracy: 0.9091\n",
      "Epoch 97/100\n",
      "32/32 [==============================] - 0s 3ms/step - loss: 0.1841 - accuracy: 0.9209 - val_loss: 0.2215 - val_accuracy: 0.9091\n",
      "Epoch 98/100\n",
      "32/32 [==============================] - 0s 3ms/step - loss: 0.1874 - accuracy: 0.9229 - val_loss: 0.2182 - val_accuracy: 0.8990\n",
      "Epoch 99/100\n",
      "32/32 [==============================] - 0s 3ms/step - loss: 0.1875 - accuracy: 0.9159 - val_loss: 0.2958 - val_accuracy: 0.8485\n",
      "Epoch 100/100\n",
      "32/32 [==============================] - 0s 3ms/step - loss: 0.1984 - accuracy: 0.9169 - val_loss: 0.2396 - val_accuracy: 0.8788\n"
     ]
    }
   ],
   "source": [
    "history_NN = model_classif_NN.fit(PI_train_NN,\n",
    "                                  label_train_classif,\n",
    "                                  epochs=100,\n",
    "                                  validation_data=(PI_test_NN, label_test_classif))"
   ]
  },
  {
   "cell_type": "code",
   "execution_count": 49,
   "id": "7f6e95b7",
   "metadata": {},
   "outputs": [
    {
     "name": "stdout",
     "output_type": "stream",
     "text": [
      "4/4 - 0s - loss: 0.2396 - accuracy: 0.8788\n",
      "\n",
      "Test accuracy: 0.8787878751754761\n"
     ]
    }
   ],
   "source": [
    "test_loss, test_acc = model_classif_NN.evaluate(PI_test_NN,\n",
    "                                                label_test_classif,\n",
    "                                                verbose=2)\n",
    "\n",
    "print('\\nTest accuracy:', test_acc)"
   ]
  },
  {
   "cell_type": "markdown",
   "id": "54848b0e",
   "metadata": {},
   "source": [
    "| Test accuracy for PI computed by Gudhi \t| Test accuracy for PI computed by NN \t|\n",
    "|:--------------------------------------:\t|:-----------------------------------:\t|\n",
    "|                   100%                  \t|                 87%                 \t|"
   ]
  }
 ],
 "metadata": {
  "kernelspec": {
   "display_name": "Python 3 (ipykernel)",
   "language": "python",
   "name": "python3"
  },
  "language_info": {
   "codemirror_mode": {
    "name": "ipython",
    "version": 3
   },
   "file_extension": ".py",
   "mimetype": "text/x-python",
   "name": "python",
   "nbconvert_exporter": "python",
   "pygments_lexer": "ipython3",
   "version": "3.8.10"
  }
 },
 "nbformat": 4,
 "nbformat_minor": 5
}
