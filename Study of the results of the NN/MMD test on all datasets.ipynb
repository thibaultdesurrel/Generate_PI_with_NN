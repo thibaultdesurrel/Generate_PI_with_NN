{
 "cells": [
  {
   "cell_type": "markdown",
   "id": "ccb592a2",
   "metadata": {},
   "source": [
    "# MMD test on all datasets "
   ]
  },
  {
   "cell_type": "markdown",
   "id": "257eb2c3",
   "metadata": {},
   "source": [
    "In this notebook, we do the MMD test on all the dataset we have trained a NN on. "
   ]
  },
  {
   "cell_type": "markdown",
   "id": "2c35cb41",
   "metadata": {},
   "source": [
    "We have : $$ \\begin{eqnarray}\n",
    "                X_1,...,X_n &\\sim \\mathcal{D}_{\\text{NN}} \\\\\n",
    "                Y_1,...,Y_n &\\sim \\mathcal{D}_{\\text{Gudhi}}\\end{eqnarray}\n",
    "            $$\n",
    "            \n",
    "\n",
    " and we want to test $$ H_0 : \\mathcal{D}_{\\text{NN}} = \\mathcal{D}_{\\text{Gudhi}}$$\n",
    "    We use a gaussian kernel : $k(X_i,Y_j) = \\exp{\\left(-\\frac{\\Vert X_i - Y_j\\Vert^2}{2\\sigma^2}\\right)}$ where Gretton *et al*. recommend to set the parameter $\\sigma$ to be the median distance between points in the aggregated sample and we compute $\\widehat{MMD}$ :\n",
    "     $$\\widehat{MMD} = \\frac{1}{n^2}\\sum\\limits_{i,j = 1}^n k(X_i,X_j) + \\frac{1}{n^2}\\sum\\limits_{i,j = 1}^n k(Y_i,Y_j) - \\frac{2}{n^2}\\sum\\limits_{i,j = 1}^n k(X_i,Y_j) $$\n",
    "    We compute the p-value with a permutation test."
   ]
  },
  {
   "cell_type": "code",
   "execution_count": 1,
   "id": "d6b81185",
   "metadata": {},
   "outputs": [
    {
     "name": "stderr",
     "output_type": "stream",
     "text": [
      "2021-07-23 17:25:36.867224: I tensorflow/stream_executor/platform/default/dso_loader.cc:53] Successfully opened dynamic library libcudart.so.11.0\n"
     ]
    }
   ],
   "source": [
    "import matplotlib.pyplot as plt\n",
    "import numpy as np\n",
    "\n",
    "import tensorflow as tf\n",
    "from IPython.display import SVG\n",
    "\n",
    "import gudhi as gd\n",
    "import gudhi.representations\n",
    "\n",
    "from scipy.spatial.distance import pdist\n",
    "\n",
    "from tqdm import tqdm\n",
    "from multiple_circle import create_random_circle"
   ]
  },
  {
   "cell_type": "markdown",
   "id": "77459a8a",
   "metadata": {},
   "source": [
    "This is the fonction that computes the MMD statistic given two samples and a $\\sigma$"
   ]
  },
  {
   "cell_type": "code",
   "execution_count": 2,
   "id": "1929f954",
   "metadata": {},
   "outputs": [],
   "source": [
    "def compute_mmd(X, Y, sigma):\n",
    "    xx = np.matmul(X, X.transpose())\n",
    "    yy = np.matmul(Y, Y.transpose())\n",
    "    xy = np.matmul(X, Y.transpose())\n",
    "\n",
    "    rx = np.broadcast_to(np.expand_dims(np.diag(xx), 0), xx.shape)\n",
    "    ry = np.broadcast_to(np.expand_dims(np.diag(yy), 0), yy.shape)\n",
    "\n",
    "    dxx = rx.transpose() + rx - 2. * xx\n",
    "    dyy = ry.transpose() + rx - 2. * yy\n",
    "    dxy = rx.transpose() + ry - 2. * xy\n",
    "    #print(np.max(xx),np.max(xy),np.max(yy))\n",
    "    XX = np.exp(dxx / (-2 * sigma**2))\n",
    "    YY = np.exp(dyy / (-2 * sigma**2))\n",
    "    XY = np.exp(dxy / (-2 * sigma**2))\n",
    "\n",
    "    return (XX + YY - 2. * XY).mean()"
   ]
  },
  {
   "cell_type": "markdown",
   "id": "e63df4bd",
   "metadata": {},
   "source": [
    "This fonction computes the p-value of the MMD test using a permutation test."
   ]
  },
  {
   "cell_type": "code",
   "execution_count": 3,
   "id": "af0dc7df",
   "metadata": {},
   "outputs": [],
   "source": [
    "def compute_pvalue(X, Y, n_permut):\n",
    "    sigma = np.median(pdist(np.concatenate((X, Y)))) / 2\n",
    "\n",
    "    our_mmd = compute_mmd(X, Y, sigma)\n",
    "    both_distrib = np.concatenate((X, Y))\n",
    "\n",
    "    print(\"True MMD = \", our_mmd)\n",
    "    mmds = []\n",
    "    for i in tqdm(range(n_permut)):\n",
    "        xy = np.random.permutation(both_distrib)\n",
    "        mmds.append(compute_mmd(xy[X.shape[0]:], xy[:X.shape[0]], sigma))\n",
    "    mmds = np.array(mmds)\n",
    "    plt.hist(mmds, bins=20)\n",
    "    return (our_mmd < mmds).mean()"
   ]
  },
  {
   "cell_type": "markdown",
   "id": "a376e5a6",
   "metadata": {},
   "source": [
    "---"
   ]
  },
  {
   "cell_type": "markdown",
   "id": "f90e47bd",
   "metadata": {},
   "source": [
    "## For the dynamical system "
   ]
  },
  {
   "cell_type": "markdown",
   "id": "f5bf2b44",
   "metadata": {},
   "source": [
    "We compute some new orbites, thier true peristence images and thier predicted one and then we do the MMD test."
   ]
  },
  {
   "cell_type": "code",
   "execution_count": null,
   "id": "1210582c",
   "metadata": {},
   "outputs": [],
   "source": [
    "model_PI = tf.keras.models.load_model(\n",
    "    'Saved_Model/model_1_alpha_complex_normalized/')\n",
    "model_PI.summary()"
   ]
  },
  {
   "cell_type": "code",
   "execution_count": 139,
   "id": "f8dfad2b",
   "metadata": {},
   "outputs": [],
   "source": [
    "N_sets = 100\n",
    "N_points = 500\n",
    "PI_size = 50"
   ]
  },
  {
   "cell_type": "code",
   "execution_count": 140,
   "id": "a668e2eb",
   "metadata": {},
   "outputs": [],
   "source": [
    "def create_orbit(N_points, r):\n",
    "    X = np.empty([N_points, 2])\n",
    "    x, y = np.random.uniform(), np.random.uniform()\n",
    "    for i in range(N_points):\n",
    "        X[i, :] = [x, y]\n",
    "        x = (X[i, 0] + r * X[i, 1] * (1 - X[i, 1])) % 1.\n",
    "        y = (X[i, 1] + r * x * (1 - x)) % 1.\n",
    "\n",
    "    return X"
   ]
  },
  {
   "cell_type": "code",
   "execution_count": 141,
   "id": "55b6b2bf",
   "metadata": {},
   "outputs": [
    {
     "name": "stderr",
     "output_type": "stream",
     "text": [
      "Generating dataset : 100%|██████████| 100/100 [00:00<00:00, 522.22it/s]\n"
     ]
    }
   ],
   "source": [
    "data_sets = np.zeros((N_sets, N_points, 2))\n",
    "\n",
    "r_list = [3.4, 4.1]\n",
    "\n",
    "for i in tqdm(range(N_sets), desc='Generating dataset : '):\n",
    "    #Generate the orbit\n",
    "    r = np.random.choice(r_list)\n",
    "    data_sets[i] = create_orbit(N_points, r)"
   ]
  },
  {
   "cell_type": "code",
   "execution_count": 143,
   "id": "42a87b41",
   "metadata": {},
   "outputs": [],
   "source": [
    "PI_gudhi = np.zeros((N_sets, PI_size * PI_size))\n",
    "\n",
    "for i in range(N_sets):\n",
    "    rcX = gd.AlphaComplex(points=data_sets[i]).create_simplex_tree()\n",
    "    dgmX = rcX.persistence()\n",
    "\n",
    "    PI = gd.representations.PersistenceImage(bandwidth=5e-3,\n",
    "                                             weight=lambda x: x[1]**2,\n",
    "                                             resolution=[50, 50],\n",
    "                                             im_range=[0, 0.03, 0, 0.03])\n",
    "    pi = PI.fit_transform([rcX.persistence_intervals_in_dimension(1)])\n",
    "    PI_gudhi[i] = pi[0]\n",
    "PI_gudhi /= np.max(PI_gudhi)"
   ]
  },
  {
   "cell_type": "code",
   "execution_count": 144,
   "id": "f1198062",
   "metadata": {},
   "outputs": [],
   "source": [
    "PI_NN = model_PI.predict(data_sets)"
   ]
  },
  {
   "cell_type": "code",
   "execution_count": 147,
   "id": "bb277d51",
   "metadata": {
    "scrolled": false
   },
   "outputs": [
    {
     "name": "stderr",
     "output_type": "stream",
     "text": [
      "  2%|▏         | 16/1000 [00:00<00:06, 154.95it/s]"
     ]
    },
    {
     "name": "stdout",
     "output_type": "stream",
     "text": [
      "True MMD =  0.14030701725614292\n"
     ]
    },
    {
     "name": "stderr",
     "output_type": "stream",
     "text": [
      "100%|██████████| 1000/1000 [00:06<00:00, 151.95it/s]\n"
     ]
    },
    {
     "data": {
      "text/plain": [
       "1.0"
      ]
     },
     "execution_count": 147,
     "metadata": {},
     "output_type": "execute_result"
    },
    {
     "data": {
      "image/png": "[encoded data removed]",
      "text/plain": [
       "<Figure size 432x288 with 1 Axes>"
      ]
     },
     "metadata": {
      "needs_background": "light"
     },
     "output_type": "display_data"
    }
   ],
   "source": [
    "compute_pvalue(PI_NN, PI_gudhi, 1000)"
   ]
  },
  {
   "cell_type": "markdown",
   "id": "8eab0d7b",
   "metadata": {},
   "source": [
    "The MMD est 1."
   ]
  },
  {
   "cell_type": "markdown",
   "id": "c09f38e3",
   "metadata": {},
   "source": [
    "---"
   ]
  },
  {
   "cell_type": "markdown",
   "id": "79977184",
   "metadata": {},
   "source": [
    "## For the multiple circles dataset "
   ]
  },
  {
   "cell_type": "code",
   "execution_count": 14,
   "id": "5ec73cdc",
   "metadata": {},
   "outputs": [
    {
     "name": "stdout",
     "output_type": "stream",
     "text": [
      "Model: \"model\"\n",
      "_________________________________________________________________\n",
      "Layer (type)                 Output Shape              Param #   \n",
      "=================================================================\n",
      "input_1 (InputLayer)         [(None, 600, 2)]          0         \n",
      "_________________________________________________________________\n",
      "fully_connected2 (FullyConne (None, 600, 30)           60        \n",
      "_________________________________________________________________\n",
      "tf.nn.relu (TFOpLambda)      (None, 600, 30)           0         \n",
      "_________________________________________________________________\n",
      "dense (Dense)                (None, 600, 20)           620       \n",
      "_________________________________________________________________\n",
      "dense_1 (Dense)              (None, 600, 10)           210       \n",
      "_________________________________________________________________\n",
      "lambda (Lambda)              (None, 10)                0         \n",
      "_________________________________________________________________\n",
      "dense_2 (Dense)              (None, 50)                550       \n",
      "_________________________________________________________________\n",
      "dense_3 (Dense)              (None, 100)               5100      \n",
      "_________________________________________________________________\n",
      "dense_4 (Dense)              (None, 200)               20200     \n",
      "_________________________________________________________________\n",
      "dense_5 (Dense)              (None, 2500)              502500    \n",
      "=================================================================\n",
      "Total params: 529,240\n",
      "Trainable params: 529,240\n",
      "Non-trainable params: 0\n",
      "_________________________________________________________________\n"
     ]
    }
   ],
   "source": [
    "model_PI = tf.keras.models.load_model('Saved_Model/model_2_multiple_cricles/')\n",
    "model_PI.summary()"
   ]
  },
  {
   "cell_type": "code",
   "execution_count": 15,
   "id": "a1da343d",
   "metadata": {},
   "outputs": [],
   "source": [
    "N_sets = 100\n",
    "N_points = 600\n",
    "PI_size = 50"
   ]
  },
  {
   "cell_type": "code",
   "execution_count": 24,
   "id": "02997d4c",
   "metadata": {},
   "outputs": [
    {
     "name": "stderr",
     "output_type": "stream",
     "text": [
      "Generating dataset : 100%|██████████| 100/100 [00:00<00:00, 271.77it/s]\n"
     ]
    }
   ],
   "source": [
    "data_sets = np.zeros((N_sets, N_points, 2))\n",
    "\n",
    "for i in tqdm(range(N_sets), desc='Generating dataset : '):\n",
    "    data_sets[i] = create_random_circle(N_points)"
   ]
  },
  {
   "cell_type": "code",
   "execution_count": 17,
   "id": "6f7b82cf",
   "metadata": {},
   "outputs": [
    {
     "data": {
      "image/png": "[encoded data removed]",
      "text/plain": [
       "<Figure size 432x288 with 9 Axes>"
      ]
     },
     "metadata": {
      "needs_background": "light"
     },
     "output_type": "display_data"
    }
   ],
   "source": [
    "for i in range(9):\n",
    "    plt.subplot(3, 3, i + 1)\n",
    "    plt.scatter(data_sets[i, :, 0], data_sets[i, :, 1], s=3)"
   ]
  },
  {
   "cell_type": "code",
   "execution_count": 18,
   "id": "154468c4",
   "metadata": {},
   "outputs": [],
   "source": [
    "PI_NN = model_PI.predict(data_sets)"
   ]
  },
  {
   "cell_type": "code",
   "execution_count": 19,
   "id": "083fceea",
   "metadata": {},
   "outputs": [
    {
     "data": {
      "image/png": "[encoded data removed]",
      "text/plain": [
       "<Figure size 432x288 with 9 Axes>"
      ]
     },
     "metadata": {
      "needs_background": "light"
     },
     "output_type": "display_data"
    }
   ],
   "source": [
    "for i in range(9):\n",
    "    plt.subplot(3, 3, i + 1)\n",
    "    plt.imshow(np.flip(np.reshape(PI_NN[i], [PI_size, PI_size]), 0),\n",
    "               vmin=0,\n",
    "               vmax=1,\n",
    "               cmap='jet')"
   ]
  },
  {
   "cell_type": "code",
   "execution_count": 20,
   "id": "e1146a21",
   "metadata": {},
   "outputs": [],
   "source": [
    "PI_gudhi = np.zeros((N_sets, PI_size * PI_size))\n",
    "\n",
    "for i in range(N_sets):\n",
    "    rcX = gd.AlphaComplex(points=data_sets[i]).create_simplex_tree()\n",
    "    dgmX = rcX.persistence()\n",
    "\n",
    "    PI = gd.representations.PersistenceImage(\n",
    "        bandwidth=1,\n",
    "        weight=lambda x: 10 * np.tanh(x[1]),\n",
    "        resolution=[PI_size, PI_size],\n",
    "        im_range=[0, 5, 0, 25])\n",
    "    pi = PI.fit_transform([rcX.persistence_intervals_in_dimension(1)])\n",
    "    PI_gudhi[i] = pi[0]\n",
    "PI_gudhi /= np.max(PI_gudhi)"
   ]
  },
  {
   "cell_type": "code",
   "execution_count": 21,
   "id": "69187c0f",
   "metadata": {},
   "outputs": [
    {
     "data": {
      "image/png": "[encoded data removed]",
      "text/plain": [
       "<Figure size 432x288 with 9 Axes>"
      ]
     },
     "metadata": {
      "needs_background": "light"
     },
     "output_type": "display_data"
    }
   ],
   "source": [
    "for i in range(9):\n",
    "    plt.subplot(3, 3, i + 1)\n",
    "    plt.imshow(np.flip(\n",
    "        np.reshape(PI_gudhi[i] / np.max(PI_gudhi), [PI_size, PI_size]), 0),\n",
    "               vmin=0,\n",
    "               vmax=1,\n",
    "               cmap='jet')"
   ]
  },
  {
   "cell_type": "code",
   "execution_count": 22,
   "id": "78740940",
   "metadata": {},
   "outputs": [
    {
     "data": {
      "text/plain": [
       "0.001601593231838284"
      ]
     },
     "execution_count": 22,
     "metadata": {},
     "output_type": "execute_result"
    }
   ],
   "source": [
    "(np.square(PI_NN - PI_gudhi)).mean(axis=None)"
   ]
  },
  {
   "cell_type": "code",
   "execution_count": 23,
   "id": "2e05b334",
   "metadata": {},
   "outputs": [
    {
     "name": "stderr",
     "output_type": "stream",
     "text": [
      "  1%|▏         | 13/1000 [00:00<00:07, 125.77it/s]"
     ]
    },
    {
     "name": "stdout",
     "output_type": "stream",
     "text": [
      "True MMD =  0.29095165600529793\n"
     ]
    },
    {
     "name": "stderr",
     "output_type": "stream",
     "text": [
      "100%|██████████| 1000/1000 [00:07<00:00, 138.24it/s]\n"
     ]
    },
    {
     "data": {
      "text/plain": [
       "1.0"
      ]
     },
     "execution_count": 23,
     "metadata": {},
     "output_type": "execute_result"
    },
    {
     "data": {
      "image/png": "[encoded data removed]",
      "text/plain": [
       "<Figure size 432x288 with 1 Axes>"
      ]
     },
     "metadata": {
      "needs_background": "light"
     },
     "output_type": "display_data"
    }
   ],
   "source": [
    "compute_pvalue(PI_NN, PI_gudhi, 1000)"
   ]
  },
  {
   "cell_type": "markdown",
   "id": "d97220c2",
   "metadata": {},
   "source": [
    "## Only one circle"
   ]
  },
  {
   "cell_type": "code",
   "execution_count": 4,
   "id": "e82328aa",
   "metadata": {},
   "outputs": [
    {
     "name": "stderr",
     "output_type": "stream",
     "text": [
      "2021-07-23 17:26:18.858661: I tensorflow/stream_executor/platform/default/dso_loader.cc:53] Successfully opened dynamic library libcuda.so.1\n",
      "2021-07-23 17:26:19.084320: I tensorflow/stream_executor/cuda/cuda_gpu_executor.cc:937] successful NUMA node read from SysFS had negative value (-1), but there must be at least one NUMA node, so returning NUMA node zero\n",
      "2021-07-23 17:26:19.084876: I tensorflow/core/common_runtime/gpu/gpu_device.cc:1733] Found device 0 with properties: \n",
      "pciBusID: 0000:01:00.0 name: NVIDIA GeForce GTX 960M computeCapability: 5.0\n",
      "coreClock: 1.176GHz coreCount: 5 deviceMemorySize: 1.96GiB deviceMemoryBandwidth: 74.65GiB/s\n",
      "2021-07-23 17:26:19.084900: I tensorflow/stream_executor/platform/default/dso_loader.cc:53] Successfully opened dynamic library libcudart.so.11.0\n",
      "2021-07-23 17:26:19.085101: W tensorflow/stream_executor/platform/default/dso_loader.cc:64] Could not load dynamic library 'libcublas.so.11'; dlerror: libcublas.so.11: cannot open shared object file: No such file or directory; LD_LIBRARY_PATH: /usr/local/cuda/lib64:/usr/local/cuda-10.1/lib64:/usr/local/cuda/extras/CUPTI/lib64:\n",
      "2021-07-23 17:26:19.085186: W tensorflow/stream_executor/platform/default/dso_loader.cc:64] Could not load dynamic library 'libcublasLt.so.11'; dlerror: libcublasLt.so.11: cannot open shared object file: No such file or directory; LD_LIBRARY_PATH: /usr/local/cuda/lib64:/usr/local/cuda-10.1/lib64:/usr/local/cuda/extras/CUPTI/lib64:\n",
      "2021-07-23 17:26:19.258021: I tensorflow/stream_executor/platform/default/dso_loader.cc:53] Successfully opened dynamic library libcufft.so.10\n",
      "2021-07-23 17:26:19.324466: I tensorflow/stream_executor/platform/default/dso_loader.cc:53] Successfully opened dynamic library libcurand.so.10\n",
      "2021-07-23 17:26:19.324641: W tensorflow/stream_executor/platform/default/dso_loader.cc:64] Could not load dynamic library 'libcusolver.so.11'; dlerror: libcusolver.so.11: cannot open shared object file: No such file or directory; LD_LIBRARY_PATH: /usr/local/cuda/lib64:/usr/local/cuda-10.1/lib64:/usr/local/cuda/extras/CUPTI/lib64:\n",
      "2021-07-23 17:26:19.324728: W tensorflow/stream_executor/platform/default/dso_loader.cc:64] Could not load dynamic library 'libcusparse.so.11'; dlerror: libcusparse.so.11: cannot open shared object file: No such file or directory; LD_LIBRARY_PATH: /usr/local/cuda/lib64:/usr/local/cuda-10.1/lib64:/usr/local/cuda/extras/CUPTI/lib64:\n",
      "2021-07-23 17:26:19.324808: W tensorflow/stream_executor/platform/default/dso_loader.cc:64] Could not load dynamic library 'libcudnn.so.8'; dlerror: libcudnn.so.8: cannot open shared object file: No such file or directory; LD_LIBRARY_PATH: /usr/local/cuda/lib64:/usr/local/cuda-10.1/lib64:/usr/local/cuda/extras/CUPTI/lib64:\n",
      "2021-07-23 17:26:19.324820: W tensorflow/core/common_runtime/gpu/gpu_device.cc:1766] Cannot dlopen some GPU libraries. Please make sure the missing libraries mentioned above are installed properly if you would like to use GPU. Follow the guide at https://www.tensorflow.org/install/gpu for how to download and setup the required libraries for your platform.\n",
      "Skipping registering GPU devices...\n",
      "2021-07-23 17:26:19.325345: I tensorflow/core/platform/cpu_feature_guard.cc:142] This TensorFlow binary is optimized with oneAPI Deep Neural Network Library (oneDNN) to use the following CPU instructions in performance-critical operations:  AVX2 FMA\n",
      "To enable them in other operations, rebuild TensorFlow with the appropriate compiler flags.\n",
      "2021-07-23 17:26:19.325661: I tensorflow/core/common_runtime/gpu/gpu_device.cc:1258] Device interconnect StreamExecutor with strength 1 edge matrix:\n",
      "2021-07-23 17:26:19.325671: I tensorflow/core/common_runtime/gpu/gpu_device.cc:1264]      \n"
     ]
    }
   ],
   "source": [
    "model_PI = tf.keras.models.load_model('Saved_Model/model_smaller_cricles/')"
   ]
  },
  {
   "cell_type": "code",
   "execution_count": 5,
   "id": "9aa8cdf8",
   "metadata": {},
   "outputs": [],
   "source": [
    "N_sets = 100\n",
    "N_points = 500\n",
    "PI_size = 50"
   ]
  },
  {
   "cell_type": "code",
   "execution_count": 6,
   "id": "8815607e",
   "metadata": {},
   "outputs": [],
   "source": [
    "def create_circle(N_points, r, x_0, y_0):\n",
    "    X = []\n",
    "    for i in range(N_points): #On fait un cercle\n",
    "        theta = np.random.uniform()*2*np.pi\n",
    "        X.append([(r*np.cos(theta))+x_0,(r*np.sin(theta)+y_0)])\n",
    "    return np.array(X)"
   ]
  },
  {
   "cell_type": "code",
   "execution_count": 14,
   "id": "7ed81c29",
   "metadata": {},
   "outputs": [
    {
     "name": "stderr",
     "output_type": "stream",
     "text": [
      "Generating dataset : 100%|███████████████████| 100/100 [00:00<00:00, 347.22it/s]\n"
     ]
    }
   ],
   "source": [
    "data_sets = np.zeros((N_sets, N_points, 2))\n",
    "\n",
    "for i in tqdm(range(N_sets), desc='Generating dataset : '):\n",
    "    r = np.random.random()\n",
    "    data_sets[i] = create_circle(N_points,r,0,0)"
   ]
  },
  {
   "cell_type": "code",
   "execution_count": 15,
   "id": "514e0bbd",
   "metadata": {},
   "outputs": [
    {
     "data": {
      "image/png": "[encoded data removed]",
      "text/plain": [
       "<Figure size 432x288 with 9 Axes>"
      ]
     },
     "metadata": {
      "needs_background": "light"
     },
     "output_type": "display_data"
    }
   ],
   "source": [
    "for i in range(9):\n",
    "    plt.subplot(3, 3, i + 1)\n",
    "    plt.scatter(data_sets[i, :, 0], data_sets[i, :, 1], s=3)\n",
    "    plt.axis(\"equal\")\n",
    "    plt.xlim(-1,1)\n",
    "    plt.ylim(-1,1)"
   ]
  },
  {
   "cell_type": "code",
   "execution_count": 16,
   "id": "fa68f009",
   "metadata": {},
   "outputs": [],
   "source": [
    "PI_NN = model_PI.predict(data_sets)"
   ]
  },
  {
   "cell_type": "code",
   "execution_count": 17,
   "id": "5b6a8421",
   "metadata": {},
   "outputs": [
    {
     "data": {
      "image/png": "[encoded data removed]",
      "text/plain": [
       "<Figure size 432x288 with 9 Axes>"
      ]
     },
     "metadata": {
      "needs_background": "light"
     },
     "output_type": "display_data"
    }
   ],
   "source": [
    "for i in range(9):\n",
    "    plt.subplot(3, 3, i + 1)\n",
    "    plt.imshow(np.flip(np.reshape(PI_NN[i], [PI_size, PI_size]), 0),\n",
    "               vmin=0,\n",
    "               vmax=1,\n",
    "               cmap='jet')"
   ]
  },
  {
   "cell_type": "code",
   "execution_count": 18,
   "id": "90ccc6c1",
   "metadata": {},
   "outputs": [],
   "source": [
    "PI_gudhi = np.zeros((N_sets, PI_size * PI_size))\n",
    "\n",
    "PI = gd.representations.PersistenceImage(bandwidth=1e-1,\n",
    "                                             weight=lambda x: x[1]**(1),\n",
    "                                             resolution=[PI_size, PI_size], im_range=[0, 1, 0, 1])\n",
    "for i in range(N_sets):\n",
    "    rcX = gd.AlphaComplex(points=data_sets[i]).create_simplex_tree()\n",
    "    dgmX = rcX.persistence()\n",
    "\n",
    "    pi = PI.fit_transform([rcX.persistence_intervals_in_dimension(1)])\n",
    "    PI_gudhi[i] = pi[0]\n",
    "PI_gudhi /= np.max(PI_gudhi)"
   ]
  },
  {
   "cell_type": "code",
   "execution_count": 19,
   "id": "eaa64e36",
   "metadata": {},
   "outputs": [
    {
     "data": {
      "image/png": "[encoded data removed]",
      "text/plain": [
       "<Figure size 432x288 with 9 Axes>"
      ]
     },
     "metadata": {
      "needs_background": "light"
     },
     "output_type": "display_data"
    }
   ],
   "source": [
    "for i in range(9):\n",
    "    plt.subplot(3, 3, i + 1)\n",
    "    plt.imshow(np.flip(\n",
    "        np.reshape(PI_gudhi[i] / np.max(PI_gudhi), [PI_size, PI_size]), 0),\n",
    "               vmin=0,\n",
    "               vmax=1,\n",
    "               cmap='jet')"
   ]
  },
  {
   "cell_type": "code",
   "execution_count": 20,
   "id": "04e824b9",
   "metadata": {},
   "outputs": [
    {
     "name": "stderr",
     "output_type": "stream",
     "text": [
      "  2%|▋                                       | 17/1000 [00:00<00:06, 163.73it/s]"
     ]
    },
    {
     "name": "stdout",
     "output_type": "stream",
     "text": [
      "True MMD =  0.043212095574657876\n"
     ]
    },
    {
     "name": "stderr",
     "output_type": "stream",
     "text": [
      "100%|██████████████████████████████████████| 1000/1000 [00:05<00:00, 168.91it/s]\n"
     ]
    },
    {
     "data": {
      "text/plain": [
       "1.0"
      ]
     },
     "execution_count": 20,
     "metadata": {},
     "output_type": "execute_result"
    },
    {
     "data": {
      "image/png": "[encoded data removed]",
      "text/plain": [
       "<Figure size 432x288 with 1 Axes>"
      ]
     },
     "metadata": {
      "needs_background": "light"
     },
     "output_type": "display_data"
    }
   ],
   "source": [
    "compute_pvalue(PI_NN, PI_gudhi, 1000)"
   ]
  },
  {
   "cell_type": "markdown",
   "id": "40f63a3f",
   "metadata": {},
   "source": [
    "## Whitney embedding "
   ]
  },
  {
   "cell_type": "code",
   "execution_count": 24,
   "id": "d4a5f744",
   "metadata": {},
   "outputs": [],
   "source": [
    "model_PI = tf.keras.models.load_model(\n",
    "    'Saved_Model/model_withney_embedding_dynamical_syst/')"
   ]
  },
  {
   "cell_type": "code",
   "execution_count": 19,
   "id": "edd7d152",
   "metadata": {},
   "outputs": [],
   "source": [
    "def create_orbit(N_points, r):\n",
    "    X = np.empty([N_points, 2])\n",
    "    x, y = np.random.uniform(), np.random.uniform()\n",
    "    for i in range(N_points):\n",
    "        X[i, :] = [x, y]\n",
    "        x = (X[i, 0] + r * X[i, 1] * (1 - X[i, 1])) % 1.\n",
    "        y = (X[i, 1] + r * x * (1 - x)) % 1.\n",
    "\n",
    "    return X"
   ]
  },
  {
   "cell_type": "code",
   "execution_count": 27,
   "id": "51ef1af6",
   "metadata": {},
   "outputs": [
    {
     "name": "stderr",
     "output_type": "stream",
     "text": [
      "Generating dataset : 100%|██████████| 100/100 [00:00<00:00, 521.17it/s]\n"
     ]
    }
   ],
   "source": [
    "N_sets = 100\n",
    "N_points = 500\n",
    "data_sets = np.zeros((N_sets, N_points, 2))\n",
    "\n",
    "r_list = [3.4, 4.1]\n",
    "\n",
    "for i in tqdm(range(N_sets), desc='Generating dataset : '):\n",
    "    #Generate the orbit\n",
    "    r = np.random.choice(r_list)\n",
    "    data_sets[i] = create_orbit(N_points, r)"
   ]
  },
  {
   "cell_type": "code",
   "execution_count": 28,
   "id": "bb6f256a",
   "metadata": {},
   "outputs": [],
   "source": [
    "def embedding_withney(data):\n",
    "    new_data = np.zeros((data.shape[0],data.shape[1],4))\n",
    "    for i in range(data.shape[0]):\n",
    "        for j in range(data.shape[1]):\n",
    "            u = (1 + data[i,j,0]**2)*(1 + data[i,j,1]**2)\n",
    "            new_data[i,j,0] = 1/u\n",
    "            new_data[i,j,1] = data[i,j,0] - 2*data[i,j,0]/u\n",
    "            new_data[i,j,2] = data[i,j,0]*data[i,j,1]/u\n",
    "            new_data[i,j,3] = data[i,j,1]\n",
    "    return new_data\n",
    "        "
   ]
  },
  {
   "cell_type": "code",
   "execution_count": 29,
   "id": "e0f5ee9d",
   "metadata": {},
   "outputs": [],
   "source": [
    "PI_NN = model_PI.predict(embedding_withney(data_sets))\n"
   ]
  },
  {
   "cell_type": "code",
   "execution_count": 33,
   "id": "0092cf8a",
   "metadata": {},
   "outputs": [],
   "source": [
    "PI_gudhi = np.zeros((N_sets, 50 * 50))\n",
    "\n",
    "for i in range(N_sets):\n",
    "    rcX = gd.AlphaComplex(points=data_sets[i]).create_simplex_tree()\n",
    "    dgmX = rcX.persistence()\n",
    "\n",
    "    PI = gd.representations.PersistenceImage(bandwidth=5e-3,\n",
    "                                             weight=lambda x: x[1]**2,\n",
    "                                             resolution=[50, 50],\n",
    "                                             im_range=[0, 0.03, 0, 0.03])\n",
    "    pi = PI.fit_transform([rcX.persistence_intervals_in_dimension(1)])\n",
    "    PI_gudhi[i] = pi[0]\n",
    "PI_gudhi /= np.max(PI_gudhi)"
   ]
  },
  {
   "cell_type": "code",
   "execution_count": 37,
   "id": "4c6212f1",
   "metadata": {},
   "outputs": [
    {
     "name": "stderr",
     "output_type": "stream",
     "text": [
      "  1%|▏         | 13/1000 [00:00<00:07, 125.81it/s]"
     ]
    },
    {
     "name": "stdout",
     "output_type": "stream",
     "text": [
      "True MMD =  68.23174954292553\n"
     ]
    },
    {
     "name": "stderr",
     "output_type": "stream",
     "text": [
      "100%|██████████| 1000/1000 [00:06<00:00, 147.57it/s]\n"
     ]
    },
    {
     "data": {
      "text/plain": [
       "0.998"
      ]
     },
     "execution_count": 37,
     "metadata": {},
     "output_type": "execute_result"
    },
    {
     "data": {
      "image/png": "[encoded data removed]",
      "text/plain": [
       "<Figure size 432x288 with 1 Axes>"
      ]
     },
     "metadata": {
      "needs_background": "light"
     },
     "output_type": "display_data"
    }
   ],
   "source": [
    "compute_pvalue(PI_NN,PI_gudhi,1000)"
   ]
  },
  {
   "cell_type": "markdown",
   "id": "2e83c3f8",
   "metadata": {},
   "source": [
    "## Only one noisy circle"
   ]
  },
  {
   "cell_type": "code",
   "execution_count": 43,
   "id": "733e5a9a",
   "metadata": {},
   "outputs": [],
   "source": [
    "model_PI = tf.keras.models.load_model(\n",
    "    'Saved_Model/model_noisy_cricles/')"
   ]
  },
  {
   "cell_type": "code",
   "execution_count": 44,
   "id": "681072ed",
   "metadata": {},
   "outputs": [],
   "source": [
    "def create_noisy_circle(N_points, r, x_0, y_0,eps):\n",
    "    X = []\n",
    "    for i in range(N_points): #On fait un cercle\n",
    "        theta = np.random.uniform()*2*np.pi\n",
    "        x = r*np.cos(theta)+x_0 + eps*(np.random.random() - 1/2)\n",
    "        y = r*np.sin(theta)+y_0 + eps*(np.random.random() - 1/2)\n",
    "        X.append([x,y])\n",
    "    return np.array(X)"
   ]
  },
  {
   "cell_type": "code",
   "execution_count": 48,
   "id": "acc3291e",
   "metadata": {},
   "outputs": [],
   "source": [
    "N_sets = 100\n",
    "N_points = 500\n",
    "\n",
    "circles = np.zeros((N_sets, N_points, 2))\n",
    "for i in range(N_sets):\n",
    "    eps = 0.5*np.random.random()\n",
    "    r = np.random.random()\n",
    "    circles[i] = create_noisy_circle(N_points,r,0,0,eps)"
   ]
  },
  {
   "cell_type": "code",
   "execution_count": 49,
   "id": "519933b1",
   "metadata": {},
   "outputs": [],
   "source": [
    "PI_noisy_NN = model_PI.predict(circles)\n",
    "PI_size = int(np.sqrt(PI_noisy_NN.shape[1]))"
   ]
  },
  {
   "cell_type": "code",
   "execution_count": 52,
   "id": "81b079ed",
   "metadata": {},
   "outputs": [],
   "source": [
    "PI_gudhi = np.zeros((N_sets, PI_size * PI_size))\n",
    "\n",
    "for i in range(N_sets):\n",
    "    rcX = gd.AlphaComplex(points=circles[i]).create_simplex_tree()\n",
    "    dgmX = rcX.persistence()\n",
    "\n",
    "    PI = gd.representations.PersistenceImage(bandwidth=1e-1,\n",
    "                                             weight=lambda x: x[1]**(1),\n",
    "                                             resolution=[PI_size, PI_size], im_range=[0, 1, 0, 1])\n",
    "    pi = PI.fit_transform([rcX.persistence_intervals_in_dimension(1)])\n",
    "    PI_gudhi[i] = pi[0]\n",
    "PI_gudhi/=np.max(PI_gudhi)"
   ]
  },
  {
   "cell_type": "code",
   "execution_count": 54,
   "id": "153aa7dd",
   "metadata": {},
   "outputs": [
    {
     "name": "stderr",
     "output_type": "stream",
     "text": [
      "  2%|▏         | 16/1000 [00:00<00:06, 159.20it/s]"
     ]
    },
    {
     "name": "stdout",
     "output_type": "stream",
     "text": [
      "True MMD =  17774.651594095674\n"
     ]
    },
    {
     "name": "stderr",
     "output_type": "stream",
     "text": [
      "100%|██████████| 1000/1000 [00:06<00:00, 159.50it/s]\n"
     ]
    },
    {
     "data": {
      "text/plain": [
       "0.512"
      ]
     },
     "execution_count": 54,
     "metadata": {},
     "output_type": "execute_result"
    },
    {
     "data": {
      "image/png": "[encoded data removed]",
      "text/plain": [
       "<Figure size 432x288 with 1 Axes>"
      ]
     },
     "metadata": {
      "needs_background": "light"
     },
     "output_type": "display_data"
    }
   ],
   "source": [
    "compute_pvalue(PI_noisy_NN,PI_gudhi,1000)"
   ]
  },
  {
   "cell_type": "markdown",
   "id": "bcf361da",
   "metadata": {},
   "source": [
    "#### Test de KS"
   ]
  },
  {
   "cell_type": "code",
   "execution_count": 29,
   "id": "6c7ecc0c",
   "metadata": {},
   "outputs": [],
   "source": [
    "from scipy.stats import ks_2samp"
   ]
  },
  {
   "cell_type": "code",
   "execution_count": 56,
   "id": "66de2266",
   "metadata": {},
   "outputs": [],
   "source": [
    "p_value_ks = np.zeros(PI_NN[0].shape)\n",
    "for i in range(len(p_value_ks)):\n",
    "    p_value_ks[i] = ks_2samp(PI_noisy_NN[:, i], PI_gudhi[:, i])[0]"
   ]
  },
  {
   "cell_type": "code",
   "execution_count": 58,
   "id": "0d65acc1",
   "metadata": {},
   "outputs": [
    {
     "data": {
      "image/png": "[encoded data removed]",
      "text/plain": [
       "<Figure size 432x288 with 2 Axes>"
      ]
     },
     "metadata": {
      "needs_background": "light"
     },
     "output_type": "display_data"
    }
   ],
   "source": [
    "plt.imshow(np.flip(np.reshape(p_value_ks, [PI_size, PI_size]), 0),\n",
    "           vmin=0,\n",
    "           vmax=1,\n",
    "           cmap='gist_rainbow')\n",
    "plt.colorbar()\n",
    "plt.title(\"Heatmap of the p-values of the KS test on each pixels\")\n",
    "plt.savefig(\"Résultats/Résultats 4/heatmap_p_value_test_one_noisy_circle.pdf\")"
   ]
  },
  {
   "cell_type": "markdown",
   "id": "232fdcd9",
   "metadata": {},
   "source": [
    "## Multiple noisy circles"
   ]
  },
  {
   "cell_type": "code",
   "execution_count": 4,
   "id": "09ce1528",
   "metadata": {},
   "outputs": [],
   "source": [
    "model_PI = tf.keras.models.load_model(\n",
    "    'Saved_Model/model_multiple_noisy_cricles2/')"
   ]
  },
  {
   "cell_type": "code",
   "execution_count": 5,
   "id": "1b10c015",
   "metadata": {},
   "outputs": [],
   "source": [
    "from multiple_noisy_circle import create_random_circle"
   ]
  },
  {
   "cell_type": "code",
   "execution_count": 6,
   "id": "f3022ec0",
   "metadata": {},
   "outputs": [],
   "source": [
    "data = np.load('data/PI_data_multiple_noisy_circle_classif.npz')\n",
    "\n",
    "data_train_classif = data[\"data_train\"]\n",
    "PI_train_gudhi = data[\"PI_train\"]\n",
    "PI_test_gudhi = data[\"PI_test\"]\n",
    "data_test_classif = data[\"data_test\"]"
   ]
  },
  {
   "cell_type": "code",
   "execution_count": 7,
   "id": "19a0b5c7",
   "metadata": {},
   "outputs": [],
   "source": [
    "PI_NN = model_PI.predict(data_train_classif)"
   ]
  },
  {
   "cell_type": "code",
   "execution_count": 8,
   "id": "cde3fb0b",
   "metadata": {},
   "outputs": [],
   "source": [
    "PI_train_gudhi/=np.max(PI_train_gudhi)"
   ]
  },
  {
   "cell_type": "code",
   "execution_count": 9,
   "id": "0aa7662f",
   "metadata": {},
   "outputs": [
    {
     "data": {
      "image/png": "[encoded data removed]",
      "text/plain": [
       "<Figure size 432x288 with 9 Axes>"
      ]
     },
     "metadata": {
      "needs_background": "light"
     },
     "output_type": "display_data"
    }
   ],
   "source": [
    "for i in range(9):\n",
    "    plt.subplot(3, 3, i + 1)\n",
    "    plt.scatter(data_train_classif[i, :, 0], data_train_classif[i, :, 1], s=3)\n",
    "plt.savefig(\"Résultats/Résultats 4/multiple_noisy_circles_9.pdf\")"
   ]
  },
  {
   "cell_type": "code",
   "execution_count": 10,
   "id": "ad587135",
   "metadata": {},
   "outputs": [
    {
     "data": {
      "image/png": "[encoded data removed]",
      "text/plain": [
       "<Figure size 432x288 with 9 Axes>"
      ]
     },
     "metadata": {
      "needs_background": "light"
     },
     "output_type": "display_data"
    }
   ],
   "source": [
    "for i in range(9):\n",
    "    plt.subplot(3, 3, i + 1)\n",
    "    plt.imshow(np.flip(\n",
    "        np.reshape(PI_NN[i], [50, 50]), 0),\n",
    "               vmin=0,\n",
    "               vmax=1,\n",
    "               cmap='jet')\n",
    "plt.savefig(\"Résultats/Résultats 4/multiple_noisy_circles_predicted.pdf\")"
   ]
  },
  {
   "cell_type": "code",
   "execution_count": 11,
   "id": "09726d5e",
   "metadata": {},
   "outputs": [
    {
     "data": {
      "image/png": "[encoded data removed]",
      "text/plain": [
       "<Figure size 432x288 with 9 Axes>"
      ]
     },
     "metadata": {
      "needs_background": "light"
     },
     "output_type": "display_data"
    }
   ],
   "source": [
    "for i in range(9):\n",
    "    plt.subplot(3, 3, i + 1)\n",
    "    plt.imshow(np.flip(\n",
    "        np.reshape(PI_train_gudhi[i], [50, 50]), 0),\n",
    "               vmin=0,\n",
    "               vmax=1,\n",
    "               cmap='jet')\n",
    "plt.savefig(\"Résultats/Résultats 4/multiple_noisy_circles_true.pdf\")"
   ]
  },
  {
   "cell_type": "code",
   "execution_count": 14,
   "id": "3fb79025",
   "metadata": {},
   "outputs": [
    {
     "name": "stderr",
     "output_type": "stream",
     "text": [
      "  2%|▏         | 21/1000 [00:00<00:04, 206.83it/s]"
     ]
    },
    {
     "name": "stdout",
     "output_type": "stream",
     "text": [
      "True MMD =  0.019739014809436753\n"
     ]
    },
    {
     "name": "stderr",
     "output_type": "stream",
     "text": [
      "100%|██████████| 1000/1000 [00:04<00:00, 200.10it/s]\n"
     ]
    },
    {
     "data": {
      "text/plain": [
       "1.0"
      ]
     },
     "execution_count": 14,
     "metadata": {},
     "output_type": "execute_result"
    },
    {
     "data": {
      "image/png": "[encoded data removed]",
      "text/plain": [
       "<Figure size 432x288 with 1 Axes>"
      ]
     },
     "metadata": {
      "needs_background": "light"
     },
     "output_type": "display_data"
    }
   ],
   "source": [
    "compute_pvalue(PI_NN[:100],PI_train_gudhi[:100]/np.max(PI_test_gudhi),1000)"
   ]
  },
  {
   "cell_type": "code",
   "execution_count": 35,
   "id": "7acdcf09",
   "metadata": {},
   "outputs": [
    {
     "data": {
      "text/plain": [
       "0.1061061061061061"
      ]
     },
     "execution_count": 35,
     "metadata": {},
     "output_type": "execute_result"
    }
   ],
   "source": [
    "p_value_ks = np.zeros(PI_NN[0].shape)\n",
    "for i in range(len(p_value_ks)):\n",
    "    p_value_ks[i] = ks_2samp(PI_NN[:, i], PI_train_gudhi[:, i])[0]\n",
    "np.min(p_value_ks)"
   ]
  },
  {
   "cell_type": "code",
   "execution_count": 36,
   "id": "693fc0b1",
   "metadata": {},
   "outputs": [
    {
     "data": {
      "image/png": "[encoded data removed]",
      "text/plain": [
       "<Figure size 432x288 with 2 Axes>"
      ]
     },
     "metadata": {
      "needs_background": "light"
     },
     "output_type": "display_data"
    }
   ],
   "source": [
    "plt.imshow(np.flip(np.reshape(p_value_ks, [50, 50]), 0),\n",
    "           vmin=0,\n",
    "           vmax=1,\n",
    "           cmap='gist_rainbow')\n",
    "plt.colorbar()\n",
    "plt.title(\"Heatmap of the p-values of the KS test on each pixels\")\n",
    "plt.savefig(\"Résultats/Résultats 4/heatmap_p_value_test_multiple_noisy_circle.pdf\")"
   ]
  },
  {
   "cell_type": "markdown",
   "id": "5225cec3",
   "metadata": {},
   "source": [
    "# MMD for LS"
   ]
  },
  {
   "cell_type": "markdown",
   "id": "a15fd4f4",
   "metadata": {},
   "source": [
    "### Dynamical Systems"
   ]
  },
  {
   "cell_type": "code",
   "execution_count": 4,
   "id": "afadb92c",
   "metadata": {},
   "outputs": [],
   "source": [
    "model_LS = tf.keras.models.load_model(\n",
    "    'Saved_Model/model_LS_dynamical_system/')"
   ]
  },
  {
   "cell_type": "code",
   "execution_count": 5,
   "id": "440f59c1",
   "metadata": {},
   "outputs": [],
   "source": [
    "data = np.load('data/LS_data_1000_dynamical_alpha_classif.npz')\n",
    "\n",
    "#data = np.load('PI_data_1000_dynamical_alpha.npz')\n",
    "data_train = data[\"data_train\"]\n",
    "r_train_gudhi = data[\"r_train\"]\n",
    "LS_train_gudhi = data[\"LS_train\"]\n",
    "data_test\n",
    "r_test_gudhi = data[\"r_test\"]\n",
    "LS_test_gudhi = data[\"LS_test\"]"
   ]
  },
  {
   "cell_type": "code",
   "execution_count": 6,
   "id": "7c2ac699",
   "metadata": {},
   "outputs": [],
   "source": [
    "N_sets_train = LS_train_gudhi.shape[0]\n",
    "N_sets_test = LS_test_gudhi.shape[0]\n",
    "LS_res = int(len(LS_train_gudhi[0])/5)\n",
    "N_points = 500"
   ]
  },
  {
   "cell_type": "code",
   "execution_count": 7,
   "id": "0d7c81f3",
   "metadata": {},
   "outputs": [
    {
     "name": "stdout",
     "output_type": "stream",
     "text": [
      "N_sets_train :  2000\n",
      "N_sets_test :  200\n",
      "LS_res :  500\n"
     ]
    }
   ],
   "source": [
    "print(\"N_sets_train : \", N_sets_train)\n",
    "print(\"N_sets_test : \", N_sets_test)\n",
    "print(\"LS_res : \", LS_res)"
   ]
  },
  {
   "cell_type": "code",
   "execution_count": 8,
   "id": "2a5c7fb3",
   "metadata": {},
   "outputs": [],
   "source": [
    "LS_train_gudhi /= np.max(LS_train_gudhi)\n",
    "LS_test_gudhi /= np.max(LS_test_gudhi)"
   ]
  },
  {
   "cell_type": "code",
   "execution_count": 9,
   "id": "88e77c56",
   "metadata": {},
   "outputs": [],
   "source": [
    "LS_NN = model_LS.predict(data_train)"
   ]
  },
  {
   "cell_type": "code",
   "execution_count": 10,
   "id": "5a35cd06",
   "metadata": {},
   "outputs": [
    {
     "name": "stderr",
     "output_type": "stream",
     "text": [
      "  1%|          | 11/1000 [00:00<00:09, 107.66it/s]"
     ]
    },
    {
     "name": "stdout",
     "output_type": "stream",
     "text": [
      "True MMD =  109.17020558802695\n"
     ]
    },
    {
     "name": "stderr",
     "output_type": "stream",
     "text": [
      "100%|██████████| 1000/1000 [00:06<00:00, 157.58it/s]\n"
     ]
    },
    {
     "data": {
      "text/plain": [
       "0.998"
      ]
     },
     "execution_count": 10,
     "metadata": {},
     "output_type": "execute_result"
    },
    {
     "data": {
      "image/png": "[encoded data removed]",
      "text/plain": [
       "<Figure size 432x288 with 1 Axes>"
      ]
     },
     "metadata": {
      "needs_background": "light"
     },
     "output_type": "display_data"
    }
   ],
   "source": [
    "compute_pvalue(LS_NN[:100],LS_train_gudhi[:100],1000)"
   ]
  },
  {
   "cell_type": "markdown",
   "id": "108d677e",
   "metadata": {},
   "source": [
    "## Multiple circles"
   ]
  },
  {
   "cell_type": "code",
   "execution_count": 12,
   "id": "433400c9",
   "metadata": {},
   "outputs": [],
   "source": [
    "model_LS = tf.keras.models.load_model('Saved_Model/model_LS_multiple_circles/')\n"
   ]
  },
  {
   "cell_type": "code",
   "execution_count": 21,
   "id": "7f301768",
   "metadata": {},
   "outputs": [],
   "source": [
    "data = np.load('data/PI_data_multiple_circle_LS_classif.npz')\n",
    "\n",
    "#data = np.load('PI_data_1000_dynamical_alpha.npz')\n",
    "data_train = data[\"data_train\"]\n",
    "label_train_gudhi = data[\"label_train\"]\n",
    "LS_train_gudhi = data[\"PI_train\"]\n",
    "label_test_gudhi = data[\"label_test\"]\n",
    "LS_test_gudhi = data[\"PI_test\"]"
   ]
  },
  {
   "cell_type": "code",
   "execution_count": 22,
   "id": "356cd92d",
   "metadata": {},
   "outputs": [],
   "source": [
    "N_sets_train = LS_train_gudhi.shape[0]\n",
    "N_sets_test = LS_test_gudhi.shape[0]\n",
    "LS_res = int(len(LS_train_gudhi[0])/5)\n",
    "N_points = 600"
   ]
  },
  {
   "cell_type": "code",
   "execution_count": 23,
   "id": "29006369",
   "metadata": {},
   "outputs": [
    {
     "name": "stdout",
     "output_type": "stream",
     "text": [
      "N_sets_train :  1998\n",
      "N_sets_test :  198\n",
      "LS_res :  800\n"
     ]
    }
   ],
   "source": [
    "print(\"N_sets_train : \", N_sets_train)\n",
    "print(\"N_sets_test : \", N_sets_test)\n",
    "print(\"LS_res : \", LS_res)"
   ]
  },
  {
   "cell_type": "code",
   "execution_count": 24,
   "id": "504293e4",
   "metadata": {},
   "outputs": [],
   "source": [
    "LS_train_gudhi /= np.max(LS_train_gudhi)\n",
    "LS_test_gudhi /= np.max(LS_test_gudhi)"
   ]
  },
  {
   "cell_type": "code",
   "execution_count": 25,
   "id": "7c6209a3",
   "metadata": {},
   "outputs": [],
   "source": [
    "LS_NN = model_LS.predict(data_train)"
   ]
  },
  {
   "cell_type": "code",
   "execution_count": 26,
   "id": "47548a3e",
   "metadata": {},
   "outputs": [
    {
     "name": "stderr",
     "output_type": "stream",
     "text": [
      "  1%|▏         | 14/1000 [00:00<00:08, 122.35it/s]"
     ]
    },
    {
     "name": "stdout",
     "output_type": "stream",
     "text": [
      "True MMD =  0.3766877740425671\n"
     ]
    },
    {
     "name": "stderr",
     "output_type": "stream",
     "text": [
      "100%|██████████| 1000/1000 [00:09<00:00, 105.93it/s]\n"
     ]
    },
    {
     "data": {
      "text/plain": [
       "1.0"
      ]
     },
     "execution_count": 26,
     "metadata": {},
     "output_type": "execute_result"
    },
    {
     "data": {
      "image/png": "[encoded data removed]",
      "text/plain": [
       "<Figure size 432x288 with 1 Axes>"
      ]
     },
     "metadata": {
      "needs_background": "light"
     },
     "output_type": "display_data"
    }
   ],
   "source": [
    "compute_pvalue(LS_NN[:100],LS_train_gudhi[:100],1000)"
   ]
  }
 ],
 "metadata": {
  "kernelspec": {
   "display_name": "Python 3 (ipykernel)",
   "language": "python",
   "name": "python3"
  },
  "language_info": {
   "codemirror_mode": {
    "name": "ipython",
    "version": 3
   },
   "file_extension": ".py",
   "mimetype": "text/x-python",
   "name": "python",
   "nbconvert_exporter": "python",
   "pygments_lexer": "ipython3",
   "version": "3.8.10"
  }
 },
 "nbformat": 4,
 "nbformat_minor": 5
}
