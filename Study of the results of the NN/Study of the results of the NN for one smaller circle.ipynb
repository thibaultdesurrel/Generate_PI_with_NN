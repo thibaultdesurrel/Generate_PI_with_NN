{
 "cells": [
  {
   "cell_type": "markdown",
   "id": "c0627c39",
   "metadata": {},
   "source": [
    "# Study of the results of the NN for for one smaller circle     "
   ]
  },
  {
   "cell_type": "markdown",
   "id": "4fd4e38d",
   "metadata": {},
   "source": [
    "This notebook studies the results of the NN trained to predict PI from the smaller circle dataset. \n",
    "   1. We compare the regression results between a classifier trained on real PIs and trained on predicted PIs.\n",
    "   2. we look at the p-values of the Kolmogorov-Smirnov test on each pixels,\n",
    "   "
   ]
  },
  {
   "cell_type": "markdown",
   "id": "ae715e17",
   "metadata": {},
   "source": [
    "---"
   ]
  },
  {
   "cell_type": "code",
   "execution_count": 22,
   "id": "8403d472",
   "metadata": {},
   "outputs": [],
   "source": [
    "import matplotlib.pyplot as plt\n",
    "import numpy as np\n",
    "\n",
    "import tensorflow as tf\n",
    "from IPython.display import SVG\n",
    "\n",
    "import gudhi as gd\n",
    "import gudhi.representations\n",
    "\n",
    "from tqdm import tqdm\n",
    "from time import time\n",
    "\n",
    "from scipy.stats import ks_2samp\n",
    "from sklearn.metrics import r2_score\n"
   ]
  },
  {
   "cell_type": "markdown",
   "id": "4032c238",
   "metadata": {},
   "source": [
    "### Load the NN"
   ]
  },
  {
   "cell_type": "code",
   "execution_count": 23,
   "id": "ccadde6f",
   "metadata": {},
   "outputs": [
    {
     "name": "stderr",
     "output_type": "stream",
     "text": [
      "2021-08-03 15:55:01.515478: I tensorflow/stream_executor/platform/default/dso_loader.cc:53] Successfully opened dynamic library libcuda.so.1\n",
      "2021-08-03 15:55:01.580999: I tensorflow/stream_executor/cuda/cuda_gpu_executor.cc:937] successful NUMA node read from SysFS had negative value (-1), but there must be at least one NUMA node, so returning NUMA node zero\n",
      "2021-08-03 15:55:01.581662: I tensorflow/core/common_runtime/gpu/gpu_device.cc:1733] Found device 0 with properties: \n",
      "pciBusID: 0000:01:00.0 name: NVIDIA GeForce GTX 960M computeCapability: 5.0\n",
      "coreClock: 1.176GHz coreCount: 5 deviceMemorySize: 1.96GiB deviceMemoryBandwidth: 74.65GiB/s\n",
      "2021-08-03 15:55:01.581721: I tensorflow/stream_executor/platform/default/dso_loader.cc:53] Successfully opened dynamic library libcudart.so.11.0\n",
      "2021-08-03 15:55:01.582204: W tensorflow/stream_executor/platform/default/dso_loader.cc:64] Could not load dynamic library 'libcublas.so.11'; dlerror: libcublas.so.11: cannot open shared object file: No such file or directory; LD_LIBRARY_PATH: /usr/local/cuda/lib64:/usr/local/cuda-10.1/lib64:/usr/local/cuda/extras/CUPTI/lib64:\n",
      "2021-08-03 15:55:01.582446: W tensorflow/stream_executor/platform/default/dso_loader.cc:64] Could not load dynamic library 'libcublasLt.so.11'; dlerror: libcublasLt.so.11: cannot open shared object file: No such file or directory; LD_LIBRARY_PATH: /usr/local/cuda/lib64:/usr/local/cuda-10.1/lib64:/usr/local/cuda/extras/CUPTI/lib64:\n",
      "2021-08-03 15:55:01.586350: I tensorflow/stream_executor/platform/default/dso_loader.cc:53] Successfully opened dynamic library libcufft.so.10\n",
      "2021-08-03 15:55:01.587242: I tensorflow/stream_executor/platform/default/dso_loader.cc:53] Successfully opened dynamic library libcurand.so.10\n",
      "2021-08-03 15:55:01.587507: W tensorflow/stream_executor/platform/default/dso_loader.cc:64] Could not load dynamic library 'libcusolver.so.11'; dlerror: libcusolver.so.11: cannot open shared object file: No such file or directory; LD_LIBRARY_PATH: /usr/local/cuda/lib64:/usr/local/cuda-10.1/lib64:/usr/local/cuda/extras/CUPTI/lib64:\n",
      "2021-08-03 15:55:01.587739: W tensorflow/stream_executor/platform/default/dso_loader.cc:64] Could not load dynamic library 'libcusparse.so.11'; dlerror: libcusparse.so.11: cannot open shared object file: No such file or directory; LD_LIBRARY_PATH: /usr/local/cuda/lib64:/usr/local/cuda-10.1/lib64:/usr/local/cuda/extras/CUPTI/lib64:\n",
      "2021-08-03 15:55:01.587976: W tensorflow/stream_executor/platform/default/dso_loader.cc:64] Could not load dynamic library 'libcudnn.so.8'; dlerror: libcudnn.so.8: cannot open shared object file: No such file or directory; LD_LIBRARY_PATH: /usr/local/cuda/lib64:/usr/local/cuda-10.1/lib64:/usr/local/cuda/extras/CUPTI/lib64:\n",
      "2021-08-03 15:55:01.587998: W tensorflow/core/common_runtime/gpu/gpu_device.cc:1766] Cannot dlopen some GPU libraries. Please make sure the missing libraries mentioned above are installed properly if you would like to use GPU. Follow the guide at https://www.tensorflow.org/install/gpu for how to download and setup the required libraries for your platform.\n",
      "Skipping registering GPU devices...\n",
      "2021-08-03 15:55:01.588750: I tensorflow/core/platform/cpu_feature_guard.cc:142] This TensorFlow binary is optimized with oneAPI Deep Neural Network Library (oneDNN) to use the following CPU instructions in performance-critical operations:  AVX2 FMA\n",
      "To enable them in other operations, rebuild TensorFlow with the appropriate compiler flags.\n",
      "2021-08-03 15:55:01.589438: I tensorflow/core/common_runtime/gpu/gpu_device.cc:1258] Device interconnect StreamExecutor with strength 1 edge matrix:\n",
      "2021-08-03 15:55:01.589475: I tensorflow/core/common_runtime/gpu/gpu_device.cc:1264]      \n"
     ]
    },
    {
     "name": "stdout",
     "output_type": "stream",
     "text": [
      "Model: \"model\"\n",
      "_________________________________________________________________\n",
      "Layer (type)                 Output Shape              Param #   \n",
      "=================================================================\n",
      "input_1 (InputLayer)         [(None, 500, 2)]          0         \n",
      "_________________________________________________________________\n",
      "fully_connected2 (FullyConne (None, 500, 30)           60        \n",
      "_________________________________________________________________\n",
      "tf.nn.relu (TFOpLambda)      (None, 500, 30)           0         \n",
      "_________________________________________________________________\n",
      "dense (Dense)                (None, 500, 20)           620       \n",
      "_________________________________________________________________\n",
      "dense_1 (Dense)              (None, 500, 10)           210       \n",
      "_________________________________________________________________\n",
      "lambda (Lambda)              (None, 10)                0         \n",
      "_________________________________________________________________\n",
      "dense_2 (Dense)              (None, 50)                550       \n",
      "_________________________________________________________________\n",
      "dense_3 (Dense)              (None, 100)               5100      \n",
      "_________________________________________________________________\n",
      "dense_4 (Dense)              (None, 200)               20200     \n",
      "_________________________________________________________________\n",
      "dense_5 (Dense)              (None, 2500)              502500    \n",
      "=================================================================\n",
      "Total params: 529,240\n",
      "Trainable params: 529,240\n",
      "Non-trainable params: 0\n",
      "_________________________________________________________________\n"
     ]
    },
    {
     "data": {
      "image/svg+xml": [
       "<svg xmlns=\"http://www.w3.org/2000/svg\" xmlns:xlink=\"http://www.w3.org/1999/xlink\" width=\"627pt\" height=\"1069pt\" viewBox=\"0.00 0.00 470.00 802.00\">\n",
       "<g id=\"graph0\" class=\"graph\" transform=\"scale(0.75 0.75) rotate(0) translate(4 798)\">\n",
       "<title>G</title>\n",
       "<polygon fill=\"white\" stroke=\"transparent\" points=\"-4,4 -4,-798 466,-798 466,4 -4,4\"/>\n",
       "<!-- 140452685960336 -->\n",
       "<g id=\"node1\" class=\"node\">\n",
       "<title>140452685960336</title>\n",
       "<polygon fill=\"none\" stroke=\"black\" points=\"53.5,-747.5 53.5,-793.5 408.5,-793.5 408.5,-747.5 53.5,-747.5\"/>\n",
       "<text text-anchor=\"middle\" x=\"132.5\" y=\"-766.8\" font-family=\"Times,serif\" font-size=\"14.00\">input_1: InputLayer</text>\n",
       "<polyline fill=\"none\" stroke=\"black\" points=\"211.5,-747.5 211.5,-793.5 \"/>\n",
       "<text text-anchor=\"middle\" x=\"245.5\" y=\"-778.3\" font-family=\"Times,serif\" font-size=\"14.00\">input:</text>\n",
       "<polyline fill=\"none\" stroke=\"black\" points=\"211.5,-770.5 279.5,-770.5 \"/>\n",
       "<text text-anchor=\"middle\" x=\"245.5\" y=\"-755.3\" font-family=\"Times,serif\" font-size=\"14.00\">output:</text>\n",
       "<polyline fill=\"none\" stroke=\"black\" points=\"279.5,-747.5 279.5,-793.5 \"/>\n",
       "<text text-anchor=\"middle\" x=\"344\" y=\"-778.3\" font-family=\"Times,serif\" font-size=\"14.00\">[(None, 500, 2)]</text>\n",
       "<polyline fill=\"none\" stroke=\"black\" points=\"279.5,-770.5 408.5,-770.5 \"/>\n",
       "<text text-anchor=\"middle\" x=\"344\" y=\"-755.3\" font-family=\"Times,serif\" font-size=\"14.00\">[(None, 500, 2)]</text>\n",
       "</g>\n",
       "<!-- 140452685961920 -->\n",
       "<g id=\"node2\" class=\"node\">\n",
       "<title>140452685961920</title>\n",
       "<polygon fill=\"none\" stroke=\"black\" points=\"0,-664.5 0,-710.5 462,-710.5 462,-664.5 0,-664.5\"/>\n",
       "<text text-anchor=\"middle\" x=\"133\" y=\"-683.8\" font-family=\"Times,serif\" font-size=\"14.00\">fully_connected2: FullyConnected2</text>\n",
       "<polyline fill=\"none\" stroke=\"black\" points=\"266,-664.5 266,-710.5 \"/>\n",
       "<text text-anchor=\"middle\" x=\"300\" y=\"-695.3\" font-family=\"Times,serif\" font-size=\"14.00\">input:</text>\n",
       "<polyline fill=\"none\" stroke=\"black\" points=\"266,-687.5 334,-687.5 \"/>\n",
       "<text text-anchor=\"middle\" x=\"300\" y=\"-672.3\" font-family=\"Times,serif\" font-size=\"14.00\">output:</text>\n",
       "<polyline fill=\"none\" stroke=\"black\" points=\"334,-664.5 334,-710.5 \"/>\n",
       "<text text-anchor=\"middle\" x=\"398\" y=\"-695.3\" font-family=\"Times,serif\" font-size=\"14.00\">(None, 500, 2)</text>\n",
       "<polyline fill=\"none\" stroke=\"black\" points=\"334,-687.5 462,-687.5 \"/>\n",
       "<text text-anchor=\"middle\" x=\"398\" y=\"-672.3\" font-family=\"Times,serif\" font-size=\"14.00\">(None, 500, 30)</text>\n",
       "</g>\n",
       "<!-- 140452685960336&#45;&gt;140452685961920 -->\n",
       "<g id=\"edge1\" class=\"edge\">\n",
       "<title>140452685960336-&gt;140452685961920</title>\n",
       "<path fill=\"none\" stroke=\"black\" d=\"M231,-747.37C231,-739.15 231,-729.66 231,-720.73\"/>\n",
       "<polygon fill=\"black\" stroke=\"black\" points=\"234.5,-720.61 231,-710.61 227.5,-720.61 234.5,-720.61\"/>\n",
       "</g>\n",
       "<!-- 140452686473440 -->\n",
       "<g id=\"node3\" class=\"node\">\n",
       "<title>140452686473440</title>\n",
       "<polygon fill=\"none\" stroke=\"black\" points=\"39,-581.5 39,-627.5 423,-627.5 423,-581.5 39,-581.5\"/>\n",
       "<text text-anchor=\"middle\" x=\"133\" y=\"-600.8\" font-family=\"Times,serif\" font-size=\"14.00\">tf.nn.relu: TFOpLambda</text>\n",
       "<polyline fill=\"none\" stroke=\"black\" points=\"227,-581.5 227,-627.5 \"/>\n",
       "<text text-anchor=\"middle\" x=\"261\" y=\"-612.3\" font-family=\"Times,serif\" font-size=\"14.00\">input:</text>\n",
       "<polyline fill=\"none\" stroke=\"black\" points=\"227,-604.5 295,-604.5 \"/>\n",
       "<text text-anchor=\"middle\" x=\"261\" y=\"-589.3\" font-family=\"Times,serif\" font-size=\"14.00\">output:</text>\n",
       "<polyline fill=\"none\" stroke=\"black\" points=\"295,-581.5 295,-627.5 \"/>\n",
       "<text text-anchor=\"middle\" x=\"359\" y=\"-612.3\" font-family=\"Times,serif\" font-size=\"14.00\">(None, 500, 30)</text>\n",
       "<polyline fill=\"none\" stroke=\"black\" points=\"295,-604.5 423,-604.5 \"/>\n",
       "<text text-anchor=\"middle\" x=\"359\" y=\"-589.3\" font-family=\"Times,serif\" font-size=\"14.00\">(None, 500, 30)</text>\n",
       "</g>\n",
       "<!-- 140452685961920&#45;&gt;140452686473440 -->\n",
       "<g id=\"edge2\" class=\"edge\">\n",
       "<title>140452685961920-&gt;140452686473440</title>\n",
       "<path fill=\"none\" stroke=\"black\" d=\"M231,-664.37C231,-656.15 231,-646.66 231,-637.73\"/>\n",
       "<polygon fill=\"black\" stroke=\"black\" points=\"234.5,-637.61 231,-627.61 227.5,-637.61 234.5,-637.61\"/>\n",
       "</g>\n",
       "<!-- 140452686471664 -->\n",
       "<g id=\"node4\" class=\"node\">\n",
       "<title>140452686471664</title>\n",
       "<polygon fill=\"none\" stroke=\"black\" points=\"77,-498.5 77,-544.5 385,-544.5 385,-498.5 77,-498.5\"/>\n",
       "<text text-anchor=\"middle\" x=\"133\" y=\"-517.8\" font-family=\"Times,serif\" font-size=\"14.00\">dense: Dense</text>\n",
       "<polyline fill=\"none\" stroke=\"black\" points=\"189,-498.5 189,-544.5 \"/>\n",
       "<text text-anchor=\"middle\" x=\"223\" y=\"-529.3\" font-family=\"Times,serif\" font-size=\"14.00\">input:</text>\n",
       "<polyline fill=\"none\" stroke=\"black\" points=\"189,-521.5 257,-521.5 \"/>\n",
       "<text text-anchor=\"middle\" x=\"223\" y=\"-506.3\" font-family=\"Times,serif\" font-size=\"14.00\">output:</text>\n",
       "<polyline fill=\"none\" stroke=\"black\" points=\"257,-498.5 257,-544.5 \"/>\n",
       "<text text-anchor=\"middle\" x=\"321\" y=\"-529.3\" font-family=\"Times,serif\" font-size=\"14.00\">(None, 500, 30)</text>\n",
       "<polyline fill=\"none\" stroke=\"black\" points=\"257,-521.5 385,-521.5 \"/>\n",
       "<text text-anchor=\"middle\" x=\"321\" y=\"-506.3\" font-family=\"Times,serif\" font-size=\"14.00\">(None, 500, 20)</text>\n",
       "</g>\n",
       "<!-- 140452686473440&#45;&gt;140452686471664 -->\n",
       "<g id=\"edge3\" class=\"edge\">\n",
       "<title>140452686473440-&gt;140452686471664</title>\n",
       "<path fill=\"none\" stroke=\"black\" d=\"M231,-581.37C231,-573.15 231,-563.66 231,-554.73\"/>\n",
       "<polygon fill=\"black\" stroke=\"black\" points=\"234.5,-554.61 231,-544.61 227.5,-554.61 234.5,-554.61\"/>\n",
       "</g>\n",
       "<!-- 140452686036176 -->\n",
       "<g id=\"node5\" class=\"node\">\n",
       "<title>140452686036176</title>\n",
       "<polygon fill=\"none\" stroke=\"black\" points=\"69,-415.5 69,-461.5 393,-461.5 393,-415.5 69,-415.5\"/>\n",
       "<text text-anchor=\"middle\" x=\"133\" y=\"-434.8\" font-family=\"Times,serif\" font-size=\"14.00\">dense_1: Dense</text>\n",
       "<polyline fill=\"none\" stroke=\"black\" points=\"197,-415.5 197,-461.5 \"/>\n",
       "<text text-anchor=\"middle\" x=\"231\" y=\"-446.3\" font-family=\"Times,serif\" font-size=\"14.00\">input:</text>\n",
       "<polyline fill=\"none\" stroke=\"black\" points=\"197,-438.5 265,-438.5 \"/>\n",
       "<text text-anchor=\"middle\" x=\"231\" y=\"-423.3\" font-family=\"Times,serif\" font-size=\"14.00\">output:</text>\n",
       "<polyline fill=\"none\" stroke=\"black\" points=\"265,-415.5 265,-461.5 \"/>\n",
       "<text text-anchor=\"middle\" x=\"329\" y=\"-446.3\" font-family=\"Times,serif\" font-size=\"14.00\">(None, 500, 20)</text>\n",
       "<polyline fill=\"none\" stroke=\"black\" points=\"265,-438.5 393,-438.5 \"/>\n",
       "<text text-anchor=\"middle\" x=\"329\" y=\"-423.3\" font-family=\"Times,serif\" font-size=\"14.00\">(None, 500, 10)</text>\n",
       "</g>\n",
       "<!-- 140452686471664&#45;&gt;140452686036176 -->\n",
       "<g id=\"edge4\" class=\"edge\">\n",
       "<title>140452686471664-&gt;140452686036176</title>\n",
       "<path fill=\"none\" stroke=\"black\" d=\"M231,-498.37C231,-490.15 231,-480.66 231,-471.73\"/>\n",
       "<polygon fill=\"black\" stroke=\"black\" points=\"234.5,-471.61 231,-461.61 227.5,-471.61 234.5,-471.61\"/>\n",
       "</g>\n",
       "<!-- 140452686034208 -->\n",
       "<g id=\"node6\" class=\"node\">\n",
       "<title>140452686034208</title>\n",
       "<polygon fill=\"none\" stroke=\"black\" points=\"65.5,-332.5 65.5,-378.5 396.5,-378.5 396.5,-332.5 65.5,-332.5\"/>\n",
       "<text text-anchor=\"middle\" x=\"133\" y=\"-351.8\" font-family=\"Times,serif\" font-size=\"14.00\">lambda: Lambda</text>\n",
       "<polyline fill=\"none\" stroke=\"black\" points=\"200.5,-332.5 200.5,-378.5 \"/>\n",
       "<text text-anchor=\"middle\" x=\"234.5\" y=\"-363.3\" font-family=\"Times,serif\" font-size=\"14.00\">input:</text>\n",
       "<polyline fill=\"none\" stroke=\"black\" points=\"200.5,-355.5 268.5,-355.5 \"/>\n",
       "<text text-anchor=\"middle\" x=\"234.5\" y=\"-340.3\" font-family=\"Times,serif\" font-size=\"14.00\">output:</text>\n",
       "<polyline fill=\"none\" stroke=\"black\" points=\"268.5,-332.5 268.5,-378.5 \"/>\n",
       "<text text-anchor=\"middle\" x=\"332.5\" y=\"-363.3\" font-family=\"Times,serif\" font-size=\"14.00\">(None, 500, 10)</text>\n",
       "<polyline fill=\"none\" stroke=\"black\" points=\"268.5,-355.5 396.5,-355.5 \"/>\n",
       "<text text-anchor=\"middle\" x=\"332.5\" y=\"-340.3\" font-family=\"Times,serif\" font-size=\"14.00\">(None, 10)</text>\n",
       "</g>\n",
       "<!-- 140452686036176&#45;&gt;140452686034208 -->\n",
       "<g id=\"edge5\" class=\"edge\">\n",
       "<title>140452686036176-&gt;140452686034208</title>\n",
       "<path fill=\"none\" stroke=\"black\" d=\"M231,-415.37C231,-407.15 231,-397.66 231,-388.73\"/>\n",
       "<polygon fill=\"black\" stroke=\"black\" points=\"234.5,-388.61 231,-378.61 227.5,-388.61 234.5,-388.61\"/>\n",
       "</g>\n",
       "<!-- 140452686033344 -->\n",
       "<g id=\"node7\" class=\"node\">\n",
       "<title>140452686033344</title>\n",
       "<polygon fill=\"none\" stroke=\"black\" points=\"87,-249.5 87,-295.5 375,-295.5 375,-249.5 87,-249.5\"/>\n",
       "<text text-anchor=\"middle\" x=\"151\" y=\"-268.8\" font-family=\"Times,serif\" font-size=\"14.00\">dense_2: Dense</text>\n",
       "<polyline fill=\"none\" stroke=\"black\" points=\"215,-249.5 215,-295.5 \"/>\n",
       "<text text-anchor=\"middle\" x=\"249\" y=\"-280.3\" font-family=\"Times,serif\" font-size=\"14.00\">input:</text>\n",
       "<polyline fill=\"none\" stroke=\"black\" points=\"215,-272.5 283,-272.5 \"/>\n",
       "<text text-anchor=\"middle\" x=\"249\" y=\"-257.3\" font-family=\"Times,serif\" font-size=\"14.00\">output:</text>\n",
       "<polyline fill=\"none\" stroke=\"black\" points=\"283,-249.5 283,-295.5 \"/>\n",
       "<text text-anchor=\"middle\" x=\"329\" y=\"-280.3\" font-family=\"Times,serif\" font-size=\"14.00\">(None, 10)</text>\n",
       "<polyline fill=\"none\" stroke=\"black\" points=\"283,-272.5 375,-272.5 \"/>\n",
       "<text text-anchor=\"middle\" x=\"329\" y=\"-257.3\" font-family=\"Times,serif\" font-size=\"14.00\">(None, 50)</text>\n",
       "</g>\n",
       "<!-- 140452686034208&#45;&gt;140452686033344 -->\n",
       "<g id=\"edge6\" class=\"edge\">\n",
       "<title>140452686034208-&gt;140452686033344</title>\n",
       "<path fill=\"none\" stroke=\"black\" d=\"M231,-332.37C231,-324.15 231,-314.66 231,-305.73\"/>\n",
       "<polygon fill=\"black\" stroke=\"black\" points=\"234.5,-305.61 231,-295.61 227.5,-305.61 234.5,-305.61\"/>\n",
       "</g>\n",
       "<!-- 140452685272304 -->\n",
       "<g id=\"node8\" class=\"node\">\n",
       "<title>140452685272304</title>\n",
       "<polygon fill=\"none\" stroke=\"black\" points=\"82.5,-166.5 82.5,-212.5 379.5,-212.5 379.5,-166.5 82.5,-166.5\"/>\n",
       "<text text-anchor=\"middle\" x=\"146.5\" y=\"-185.8\" font-family=\"Times,serif\" font-size=\"14.00\">dense_3: Dense</text>\n",
       "<polyline fill=\"none\" stroke=\"black\" points=\"210.5,-166.5 210.5,-212.5 \"/>\n",
       "<text text-anchor=\"middle\" x=\"244.5\" y=\"-197.3\" font-family=\"Times,serif\" font-size=\"14.00\">input:</text>\n",
       "<polyline fill=\"none\" stroke=\"black\" points=\"210.5,-189.5 278.5,-189.5 \"/>\n",
       "<text text-anchor=\"middle\" x=\"244.5\" y=\"-174.3\" font-family=\"Times,serif\" font-size=\"14.00\">output:</text>\n",
       "<polyline fill=\"none\" stroke=\"black\" points=\"278.5,-166.5 278.5,-212.5 \"/>\n",
       "<text text-anchor=\"middle\" x=\"329\" y=\"-197.3\" font-family=\"Times,serif\" font-size=\"14.00\">(None, 50)</text>\n",
       "<polyline fill=\"none\" stroke=\"black\" points=\"278.5,-189.5 379.5,-189.5 \"/>\n",
       "<text text-anchor=\"middle\" x=\"329\" y=\"-174.3\" font-family=\"Times,serif\" font-size=\"14.00\">(None, 100)</text>\n",
       "</g>\n",
       "<!-- 140452686033344&#45;&gt;140452685272304 -->\n",
       "<g id=\"edge7\" class=\"edge\">\n",
       "<title>140452686033344-&gt;140452685272304</title>\n",
       "<path fill=\"none\" stroke=\"black\" d=\"M231,-249.37C231,-241.15 231,-231.66 231,-222.73\"/>\n",
       "<polygon fill=\"black\" stroke=\"black\" points=\"234.5,-222.61 231,-212.61 227.5,-222.61 234.5,-222.61\"/>\n",
       "</g>\n",
       "<!-- 140452685273792 -->\n",
       "<g id=\"node9\" class=\"node\">\n",
       "<title>140452685273792</title>\n",
       "<polygon fill=\"none\" stroke=\"black\" points=\"82.5,-83.5 82.5,-129.5 379.5,-129.5 379.5,-83.5 82.5,-83.5\"/>\n",
       "<text text-anchor=\"middle\" x=\"146.5\" y=\"-102.8\" font-family=\"Times,serif\" font-size=\"14.00\">dense_4: Dense</text>\n",
       "<polyline fill=\"none\" stroke=\"black\" points=\"210.5,-83.5 210.5,-129.5 \"/>\n",
       "<text text-anchor=\"middle\" x=\"244.5\" y=\"-114.3\" font-family=\"Times,serif\" font-size=\"14.00\">input:</text>\n",
       "<polyline fill=\"none\" stroke=\"black\" points=\"210.5,-106.5 278.5,-106.5 \"/>\n",
       "<text text-anchor=\"middle\" x=\"244.5\" y=\"-91.3\" font-family=\"Times,serif\" font-size=\"14.00\">output:</text>\n",
       "<polyline fill=\"none\" stroke=\"black\" points=\"278.5,-83.5 278.5,-129.5 \"/>\n",
       "<text text-anchor=\"middle\" x=\"329\" y=\"-114.3\" font-family=\"Times,serif\" font-size=\"14.00\">(None, 100)</text>\n",
       "<polyline fill=\"none\" stroke=\"black\" points=\"278.5,-106.5 379.5,-106.5 \"/>\n",
       "<text text-anchor=\"middle\" x=\"329\" y=\"-91.3\" font-family=\"Times,serif\" font-size=\"14.00\">(None, 200)</text>\n",
       "</g>\n",
       "<!-- 140452685272304&#45;&gt;140452685273792 -->\n",
       "<g id=\"edge8\" class=\"edge\">\n",
       "<title>140452685272304-&gt;140452685273792</title>\n",
       "<path fill=\"none\" stroke=\"black\" d=\"M231,-166.37C231,-158.15 231,-148.66 231,-139.73\"/>\n",
       "<polygon fill=\"black\" stroke=\"black\" points=\"234.5,-139.61 231,-129.61 227.5,-139.61 234.5,-139.61\"/>\n",
       "</g>\n",
       "<!-- 140452685274896 -->\n",
       "<g id=\"node10\" class=\"node\">\n",
       "<title>140452685274896</title>\n",
       "<polygon fill=\"none\" stroke=\"black\" points=\"78,-0.5 78,-46.5 384,-46.5 384,-0.5 78,-0.5\"/>\n",
       "<text text-anchor=\"middle\" x=\"142\" y=\"-19.8\" font-family=\"Times,serif\" font-size=\"14.00\">dense_5: Dense</text>\n",
       "<polyline fill=\"none\" stroke=\"black\" points=\"206,-0.5 206,-46.5 \"/>\n",
       "<text text-anchor=\"middle\" x=\"240\" y=\"-31.3\" font-family=\"Times,serif\" font-size=\"14.00\">input:</text>\n",
       "<polyline fill=\"none\" stroke=\"black\" points=\"206,-23.5 274,-23.5 \"/>\n",
       "<text text-anchor=\"middle\" x=\"240\" y=\"-8.3\" font-family=\"Times,serif\" font-size=\"14.00\">output:</text>\n",
       "<polyline fill=\"none\" stroke=\"black\" points=\"274,-0.5 274,-46.5 \"/>\n",
       "<text text-anchor=\"middle\" x=\"329\" y=\"-31.3\" font-family=\"Times,serif\" font-size=\"14.00\">(None, 200)</text>\n",
       "<polyline fill=\"none\" stroke=\"black\" points=\"274,-23.5 384,-23.5 \"/>\n",
       "<text text-anchor=\"middle\" x=\"329\" y=\"-8.3\" font-family=\"Times,serif\" font-size=\"14.00\">(None, 2500)</text>\n",
       "</g>\n",
       "<!-- 140452685273792&#45;&gt;140452685274896 -->\n",
       "<g id=\"edge9\" class=\"edge\">\n",
       "<title>140452685273792-&gt;140452685274896</title>\n",
       "<path fill=\"none\" stroke=\"black\" d=\"M231,-83.37C231,-75.15 231,-65.66 231,-56.73\"/>\n",
       "<polygon fill=\"black\" stroke=\"black\" points=\"234.5,-56.61 231,-46.61 227.5,-56.61 234.5,-56.61\"/>\n",
       "</g>\n",
       "</g>\n",
       "</svg>"
      ],
      "text/plain": [
       "<IPython.core.display.SVG object>"
      ]
     },
     "execution_count": 23,
     "metadata": {},
     "output_type": "execute_result"
    }
   ],
   "source": [
    "model_PI = tf.keras.models.load_model('../Trained_NN/model_smaller_circles/')\n",
    "model_PI.summary()"
   ]
  },
  {
   "cell_type": "markdown",
   "id": "10eadf38",
   "metadata": {},
   "source": [
    "## Regression "
   ]
  },
  {
   "cell_type": "markdown",
   "id": "aec71113",
   "metadata": {},
   "source": [
    "We first load the data that will be used as training and testing data for the regression."
   ]
  },
  {
   "cell_type": "code",
   "execution_count": 24,
   "id": "f0529801",
   "metadata": {},
   "outputs": [],
   "source": [
    "data = np.load('data/PI_data_smaller_circle_reg.npz')\n",
    "\n",
    "#data = np.load('PI_data_1000_dynamical_alpha.npz')\n",
    "\n",
    "r_train_gudhi = data[\"r_train\"]\n",
    "PI_train_gudhi = data[\"PI_train\"]\n",
    "r_test_gudhi = data[\"r_test\"]\n",
    "PI_test_gudhi = data[\"PI_test\"]"
   ]
  },
  {
   "cell_type": "code",
   "execution_count": 25,
   "id": "652a3e02",
   "metadata": {},
   "outputs": [],
   "source": [
    "N_sets_train = r_train_gudhi.shape[0]\n",
    "N_sets_test = r_test_gudhi.shape[0]\n",
    "PI_size = int(np.sqrt(PI_train_gudhi.shape[1]))"
   ]
  },
  {
   "cell_type": "code",
   "execution_count": 26,
   "id": "95f21564",
   "metadata": {},
   "outputs": [
    {
     "name": "stdout",
     "output_type": "stream",
     "text": [
      "N_sets_train :  1000\n",
      "N_sets_test :  100\n",
      "PI_size :  50\n"
     ]
    }
   ],
   "source": [
    "print(\"N_sets_train : \", N_sets_train)\n",
    "print(\"N_sets_test : \", N_sets_test)\n",
    "print(\"PI_size : \", PI_size)"
   ]
  },
  {
   "cell_type": "markdown",
   "id": "216c4e37",
   "metadata": {},
   "source": [
    "We want to compare the regression results between the true PIs and the predited PIs. For that, we create 2 models : ```model_reg_NN``` will be trained with the PI computed by the NN and ```model_reg_gudhi``` will be trained with the PI computed by Gudhi. We will then compare their accuracy on new data."
   ]
  },
  {
   "cell_type": "code",
   "execution_count": 6,
   "id": "180381df",
   "metadata": {},
   "outputs": [],
   "source": [
    "def create_model():\n",
    "    inputs = tf.keras.Input(shape=(PI_size * PI_size))\n",
    "\n",
    "    x = tf.keras.layers.Dense(100, activation='relu')(inputs)\n",
    "\n",
    "    x = tf.keras.layers.Dense(50, activation='relu')(x)\n",
    "\n",
    "    outputs = tf.keras.layers.Dense(1)(x)\n",
    "\n",
    "    model_reg = tf.keras.Model(inputs=inputs, outputs=outputs)\n",
    "    model_reg.compile(loss=\"mean_squared_error\" , optimizer=\"adam\", metrics=[\"mean_squared_error\"])\n",
    "    return model_reg"
   ]
  },
  {
   "cell_type": "code",
   "execution_count": 7,
   "id": "f39d1694",
   "metadata": {},
   "outputs": [
    {
     "name": "stdout",
     "output_type": "stream",
     "text": [
      "Model: \"model\"\n",
      "_________________________________________________________________\n",
      "Layer (type)                 Output Shape              Param #   \n",
      "=================================================================\n",
      "input_1 (InputLayer)         [(None, 2500)]            0         \n",
      "_________________________________________________________________\n",
      "dense (Dense)                (None, 100)               250100    \n",
      "_________________________________________________________________\n",
      "dense_1 (Dense)              (None, 50)                5050      \n",
      "_________________________________________________________________\n",
      "dense_2 (Dense)              (None, 1)                 51        \n",
      "=================================================================\n",
      "Total params: 255,201\n",
      "Trainable params: 255,201\n",
      "Non-trainable params: 0\n",
      "_________________________________________________________________\n"
     ]
    }
   ],
   "source": [
    "model_reg_NN = create_model()\n",
    "model_reg_gudhi = create_model()\n",
    "\n",
    "model_reg_NN.summary()\n",
    "\n",
    "\n",
    "#SVG(\n",
    "#    tf.keras.utils.model_to_dot(model_classif,\n",
    "#                                show_shapes=True).create(prog='dot',\n",
    "#                                                         format='svg'))\n",
    "                                                        \n",
    "#tf.keras.utils.plot_model(model_classif,\n",
    "#                          to_file='Résultats/Résultats 2/model_classif_multip.pdf',\n",
    "#                          show_shapes=True,\n",
    "#                          rankdir='LR')"
   ]
  },
  {
   "cell_type": "markdown",
   "id": "0a94cf93",
   "metadata": {},
   "source": [
    "### Fit the regression model ```model_reg_gudhi```"
   ]
  },
  {
   "cell_type": "code",
   "execution_count": 8,
   "id": "17695531",
   "metadata": {
    "scrolled": true
   },
   "outputs": [
    {
     "name": "stdout",
     "output_type": "stream",
     "text": [
      "Epoch 1/100\n",
      "32/32 [==============================] - 1s 7ms/step - loss: 0.2823 - mean_squared_error: 0.2823 - val_loss: 0.0079 - val_mean_squared_error: 0.0079\n",
      "Epoch 2/100\n",
      "32/32 [==============================] - 0s 3ms/step - loss: 0.0061 - mean_squared_error: 0.0061 - val_loss: 0.0026 - val_mean_squared_error: 0.0026\n",
      "Epoch 3/100\n",
      "32/32 [==============================] - 0s 3ms/step - loss: 0.0015 - mean_squared_error: 0.0015 - val_loss: 8.0960e-04 - val_mean_squared_error: 8.0960e-04\n",
      "Epoch 4/100\n",
      "32/32 [==============================] - 0s 3ms/step - loss: 4.2672e-04 - mean_squared_error: 4.2672e-04 - val_loss: 4.4896e-04 - val_mean_squared_error: 4.4896e-04\n",
      "Epoch 5/100\n",
      "32/32 [==============================] - 0s 3ms/step - loss: 2.4874e-04 - mean_squared_error: 2.4874e-04 - val_loss: 3.1794e-04 - val_mean_squared_error: 3.1794e-04\n",
      "Epoch 6/100\n",
      "32/32 [==============================] - 0s 3ms/step - loss: 2.4804e-04 - mean_squared_error: 2.4804e-04 - val_loss: 1.9848e-04 - val_mean_squared_error: 1.9848e-04\n",
      "Epoch 7/100\n",
      "32/32 [==============================] - 0s 3ms/step - loss: 3.6343e-04 - mean_squared_error: 3.6343e-04 - val_loss: 2.6097e-04 - val_mean_squared_error: 2.6097e-04\n",
      "Epoch 8/100\n",
      "32/32 [==============================] - 0s 3ms/step - loss: 2.2854e-04 - mean_squared_error: 2.2854e-04 - val_loss: 2.4206e-04 - val_mean_squared_error: 2.4206e-04\n",
      "Epoch 9/100\n",
      "32/32 [==============================] - 0s 3ms/step - loss: 1.4985e-04 - mean_squared_error: 1.4985e-04 - val_loss: 1.3472e-04 - val_mean_squared_error: 1.3472e-04\n",
      "Epoch 10/100\n",
      "32/32 [==============================] - 0s 3ms/step - loss: 1.3725e-04 - mean_squared_error: 1.3725e-04 - val_loss: 2.5897e-04 - val_mean_squared_error: 2.5897e-04\n",
      "Epoch 11/100\n",
      "32/32 [==============================] - 0s 3ms/step - loss: 1.8629e-04 - mean_squared_error: 1.8629e-04 - val_loss: 1.5947e-04 - val_mean_squared_error: 1.5947e-04\n",
      "Epoch 12/100\n",
      "32/32 [==============================] - 0s 3ms/step - loss: 1.7108e-04 - mean_squared_error: 1.7108e-04 - val_loss: 1.3302e-04 - val_mean_squared_error: 1.3302e-04\n",
      "Epoch 13/100\n",
      "32/32 [==============================] - 0s 3ms/step - loss: 9.4853e-05 - mean_squared_error: 9.4853e-05 - val_loss: 6.7715e-05 - val_mean_squared_error: 6.7715e-05\n",
      "Epoch 14/100\n",
      "32/32 [==============================] - 0s 2ms/step - loss: 3.2483e-04 - mean_squared_error: 3.2483e-04 - val_loss: 7.4776e-04 - val_mean_squared_error: 7.4776e-04\n",
      "Epoch 15/100\n",
      "32/32 [==============================] - 0s 2ms/step - loss: 0.0033 - mean_squared_error: 0.0033 - val_loss: 0.0095 - val_mean_squared_error: 0.0095\n",
      "Epoch 16/100\n",
      "32/32 [==============================] - 0s 3ms/step - loss: 0.0063 - mean_squared_error: 0.0063 - val_loss: 0.0012 - val_mean_squared_error: 0.0012\n",
      "Epoch 17/100\n",
      "32/32 [==============================] - 0s 2ms/step - loss: 6.7046e-04 - mean_squared_error: 6.7046e-04 - val_loss: 5.3045e-04 - val_mean_squared_error: 5.3045e-04\n",
      "Epoch 18/100\n",
      "32/32 [==============================] - 0s 3ms/step - loss: 3.7019e-04 - mean_squared_error: 3.7019e-04 - val_loss: 8.3698e-05 - val_mean_squared_error: 8.3698e-05\n",
      "Epoch 19/100\n",
      "32/32 [==============================] - 0s 3ms/step - loss: 2.6471e-04 - mean_squared_error: 2.6471e-04 - val_loss: 4.3371e-04 - val_mean_squared_error: 4.3371e-04\n",
      "Epoch 20/100\n",
      "32/32 [==============================] - 0s 3ms/step - loss: 1.0747e-04 - mean_squared_error: 1.0747e-04 - val_loss: 6.5047e-05 - val_mean_squared_error: 6.5047e-05\n",
      "Epoch 21/100\n",
      "32/32 [==============================] - 0s 3ms/step - loss: 5.1808e-05 - mean_squared_error: 5.1808e-05 - val_loss: 3.8816e-05 - val_mean_squared_error: 3.8816e-05\n",
      "Epoch 22/100\n",
      "32/32 [==============================] - 0s 2ms/step - loss: 5.0447e-05 - mean_squared_error: 5.0447e-05 - val_loss: 4.6800e-05 - val_mean_squared_error: 4.6800e-05\n",
      "Epoch 23/100\n",
      "32/32 [==============================] - 0s 2ms/step - loss: 6.7690e-05 - mean_squared_error: 6.7690e-05 - val_loss: 5.2413e-05 - val_mean_squared_error: 5.2413e-05\n",
      "Epoch 24/100\n",
      "32/32 [==============================] - 0s 3ms/step - loss: 6.1496e-05 - mean_squared_error: 6.1496e-05 - val_loss: 5.1052e-05 - val_mean_squared_error: 5.1052e-05\n",
      "Epoch 25/100\n",
      "32/32 [==============================] - 0s 2ms/step - loss: 4.2039e-05 - mean_squared_error: 4.2039e-05 - val_loss: 4.1638e-05 - val_mean_squared_error: 4.1638e-05\n",
      "Epoch 26/100\n",
      "32/32 [==============================] - 0s 3ms/step - loss: 3.2258e-05 - mean_squared_error: 3.2258e-05 - val_loss: 3.0358e-05 - val_mean_squared_error: 3.0358e-05\n",
      "Epoch 27/100\n",
      "32/32 [==============================] - 0s 3ms/step - loss: 3.1221e-05 - mean_squared_error: 3.1221e-05 - val_loss: 4.4948e-05 - val_mean_squared_error: 4.4948e-05\n",
      "Epoch 28/100\n",
      "32/32 [==============================] - 0s 2ms/step - loss: 4.1769e-05 - mean_squared_error: 4.1769e-05 - val_loss: 4.1600e-05 - val_mean_squared_error: 4.1600e-05\n",
      "Epoch 29/100\n",
      "32/32 [==============================] - 0s 3ms/step - loss: 5.3096e-05 - mean_squared_error: 5.3096e-05 - val_loss: 3.2579e-05 - val_mean_squared_error: 3.2579e-05\n",
      "Epoch 30/100\n",
      "32/32 [==============================] - 0s 3ms/step - loss: 3.0816e-05 - mean_squared_error: 3.0816e-05 - val_loss: 4.7472e-05 - val_mean_squared_error: 4.7472e-05\n",
      "Epoch 31/100\n",
      "32/32 [==============================] - 0s 3ms/step - loss: 1.0900e-04 - mean_squared_error: 1.0900e-04 - val_loss: 3.2908e-04 - val_mean_squared_error: 3.2908e-04\n",
      "Epoch 32/100\n",
      "32/32 [==============================] - 0s 3ms/step - loss: 4.4283e-04 - mean_squared_error: 4.4283e-04 - val_loss: 3.6911e-04 - val_mean_squared_error: 3.6911e-04\n",
      "Epoch 33/100\n",
      "32/32 [==============================] - 0s 3ms/step - loss: 5.8897e-04 - mean_squared_error: 5.8897e-04 - val_loss: 0.0022 - val_mean_squared_error: 0.0022\n",
      "Epoch 34/100\n",
      "32/32 [==============================] - 0s 3ms/step - loss: 0.0011 - mean_squared_error: 0.0011 - val_loss: 4.1056e-04 - val_mean_squared_error: 4.1056e-04\n",
      "Epoch 35/100\n",
      "32/32 [==============================] - 0s 3ms/step - loss: 7.8847e-04 - mean_squared_error: 7.8847e-04 - val_loss: 6.1308e-04 - val_mean_squared_error: 6.1308e-04\n",
      "Epoch 36/100\n",
      "32/32 [==============================] - 0s 3ms/step - loss: 0.0014 - mean_squared_error: 0.0014 - val_loss: 0.0029 - val_mean_squared_error: 0.0029\n",
      "Epoch 37/100\n",
      "32/32 [==============================] - 0s 3ms/step - loss: 0.0033 - mean_squared_error: 0.0033 - val_loss: 0.0021 - val_mean_squared_error: 0.0021\n",
      "Epoch 38/100\n",
      "32/32 [==============================] - 0s 3ms/step - loss: 0.0026 - mean_squared_error: 0.0026 - val_loss: 9.6695e-04 - val_mean_squared_error: 9.6695e-04\n",
      "Epoch 39/100\n",
      "32/32 [==============================] - 0s 3ms/step - loss: 5.7166e-04 - mean_squared_error: 5.7166e-04 - val_loss: 3.3974e-04 - val_mean_squared_error: 3.3974e-04\n",
      "Epoch 40/100\n",
      "32/32 [==============================] - 0s 3ms/step - loss: 2.5576e-04 - mean_squared_error: 2.5576e-04 - val_loss: 1.1088e-04 - val_mean_squared_error: 1.1088e-04\n",
      "Epoch 41/100\n",
      "32/32 [==============================] - 0s 3ms/step - loss: 1.2677e-04 - mean_squared_error: 1.2677e-04 - val_loss: 1.0960e-04 - val_mean_squared_error: 1.0960e-04\n",
      "Epoch 42/100\n",
      "32/32 [==============================] - 0s 3ms/step - loss: 1.2469e-04 - mean_squared_error: 1.2469e-04 - val_loss: 1.5025e-04 - val_mean_squared_error: 1.5025e-04\n",
      "Epoch 43/100\n",
      "32/32 [==============================] - 0s 3ms/step - loss: 1.4338e-04 - mean_squared_error: 1.4338e-04 - val_loss: 7.0507e-05 - val_mean_squared_error: 7.0507e-05\n",
      "Epoch 44/100\n",
      "32/32 [==============================] - 0s 3ms/step - loss: 8.8583e-05 - mean_squared_error: 8.8583e-05 - val_loss: 6.0238e-05 - val_mean_squared_error: 6.0238e-05\n",
      "Epoch 45/100\n",
      "32/32 [==============================] - 0s 3ms/step - loss: 6.4739e-05 - mean_squared_error: 6.4739e-05 - val_loss: 5.9547e-05 - val_mean_squared_error: 5.9547e-05\n",
      "Epoch 46/100\n",
      "32/32 [==============================] - 0s 3ms/step - loss: 5.2498e-05 - mean_squared_error: 5.2498e-05 - val_loss: 5.4604e-05 - val_mean_squared_error: 5.4604e-05\n",
      "Epoch 47/100\n",
      "32/32 [==============================] - 0s 3ms/step - loss: 6.0407e-05 - mean_squared_error: 6.0407e-05 - val_loss: 7.5291e-05 - val_mean_squared_error: 7.5291e-05\n"
     ]
    },
    {
     "name": "stdout",
     "output_type": "stream",
     "text": [
      "Epoch 48/100\n",
      "32/32 [==============================] - 0s 2ms/step - loss: 5.3123e-05 - mean_squared_error: 5.3123e-05 - val_loss: 1.5701e-04 - val_mean_squared_error: 1.5701e-04\n",
      "Epoch 49/100\n",
      "32/32 [==============================] - 0s 3ms/step - loss: 2.0485e-04 - mean_squared_error: 2.0485e-04 - val_loss: 2.5929e-04 - val_mean_squared_error: 2.5929e-04\n",
      "Epoch 50/100\n",
      "32/32 [==============================] - 0s 3ms/step - loss: 2.6648e-04 - mean_squared_error: 2.6648e-04 - val_loss: 1.9974e-04 - val_mean_squared_error: 1.9974e-04\n",
      "Epoch 51/100\n",
      "32/32 [==============================] - 0s 3ms/step - loss: 1.8743e-04 - mean_squared_error: 1.8743e-04 - val_loss: 1.8864e-04 - val_mean_squared_error: 1.8864e-04\n",
      "Epoch 52/100\n",
      "32/32 [==============================] - 0s 3ms/step - loss: 7.8314e-05 - mean_squared_error: 7.8314e-05 - val_loss: 4.8371e-05 - val_mean_squared_error: 4.8371e-05\n",
      "Epoch 53/100\n",
      "32/32 [==============================] - 0s 3ms/step - loss: 6.9954e-05 - mean_squared_error: 6.9954e-05 - val_loss: 2.3725e-04 - val_mean_squared_error: 2.3725e-04\n",
      "Epoch 54/100\n",
      "32/32 [==============================] - 0s 3ms/step - loss: 9.8207e-05 - mean_squared_error: 9.8207e-05 - val_loss: 6.9653e-05 - val_mean_squared_error: 6.9653e-05\n",
      "Epoch 55/100\n",
      "32/32 [==============================] - 0s 3ms/step - loss: 8.4386e-05 - mean_squared_error: 8.4386e-05 - val_loss: 4.7271e-05 - val_mean_squared_error: 4.7271e-05\n",
      "Epoch 56/100\n",
      "32/32 [==============================] - 0s 3ms/step - loss: 4.0717e-05 - mean_squared_error: 4.0717e-05 - val_loss: 3.7315e-05 - val_mean_squared_error: 3.7315e-05\n",
      "Epoch 57/100\n",
      "32/32 [==============================] - 0s 2ms/step - loss: 5.1867e-05 - mean_squared_error: 5.1867e-05 - val_loss: 5.0411e-05 - val_mean_squared_error: 5.0411e-05\n",
      "Epoch 58/100\n",
      "32/32 [==============================] - 0s 3ms/step - loss: 1.6782e-04 - mean_squared_error: 1.6782e-04 - val_loss: 4.9128e-04 - val_mean_squared_error: 4.9128e-04\n",
      "Epoch 59/100\n",
      "32/32 [==============================] - 0s 3ms/step - loss: 5.8557e-04 - mean_squared_error: 5.8557e-04 - val_loss: 0.0020 - val_mean_squared_error: 0.0020\n",
      "Epoch 60/100\n",
      "32/32 [==============================] - 0s 3ms/step - loss: 0.0015 - mean_squared_error: 0.0015 - val_loss: 4.2851e-04 - val_mean_squared_error: 4.2851e-04\n",
      "Epoch 61/100\n",
      "32/32 [==============================] - 0s 3ms/step - loss: 3.8091e-04 - mean_squared_error: 3.8091e-04 - val_loss: 4.1696e-04 - val_mean_squared_error: 4.1696e-04\n",
      "Epoch 62/100\n",
      "32/32 [==============================] - 0s 3ms/step - loss: 4.1876e-04 - mean_squared_error: 4.1876e-04 - val_loss: 4.1066e-04 - val_mean_squared_error: 4.1066e-04\n",
      "Epoch 63/100\n",
      "32/32 [==============================] - 0s 3ms/step - loss: 6.6071e-04 - mean_squared_error: 6.6071e-04 - val_loss: 5.4833e-04 - val_mean_squared_error: 5.4833e-04\n",
      "Epoch 64/100\n",
      "32/32 [==============================] - 0s 3ms/step - loss: 0.0011 - mean_squared_error: 0.0011 - val_loss: 4.9508e-04 - val_mean_squared_error: 4.9508e-04\n",
      "Epoch 65/100\n",
      "32/32 [==============================] - 0s 3ms/step - loss: 3.6915e-04 - mean_squared_error: 3.6915e-04 - val_loss: 3.7153e-04 - val_mean_squared_error: 3.7153e-04\n",
      "Epoch 66/100\n",
      "32/32 [==============================] - 0s 3ms/step - loss: 2.9314e-04 - mean_squared_error: 2.9314e-04 - val_loss: 4.7138e-04 - val_mean_squared_error: 4.7138e-04\n",
      "Epoch 67/100\n",
      "32/32 [==============================] - 0s 3ms/step - loss: 0.0021 - mean_squared_error: 0.0021 - val_loss: 0.0018 - val_mean_squared_error: 0.0018\n",
      "Epoch 68/100\n",
      "32/32 [==============================] - 0s 3ms/step - loss: 0.0038 - mean_squared_error: 0.0038 - val_loss: 0.0011 - val_mean_squared_error: 0.0011\n",
      "Epoch 69/100\n",
      "32/32 [==============================] - 0s 3ms/step - loss: 0.0023 - mean_squared_error: 0.0023 - val_loss: 9.6171e-04 - val_mean_squared_error: 9.6171e-04\n",
      "Epoch 70/100\n",
      "32/32 [==============================] - 0s 3ms/step - loss: 7.2109e-04 - mean_squared_error: 7.2109e-04 - val_loss: 4.1405e-04 - val_mean_squared_error: 4.1405e-04\n",
      "Epoch 71/100\n",
      "32/32 [==============================] - 0s 3ms/step - loss: 2.0343e-04 - mean_squared_error: 2.0343e-04 - val_loss: 7.7221e-05 - val_mean_squared_error: 7.7221e-05\n",
      "Epoch 72/100\n",
      "32/32 [==============================] - 0s 3ms/step - loss: 7.3275e-05 - mean_squared_error: 7.3275e-05 - val_loss: 7.5110e-05 - val_mean_squared_error: 7.5110e-05\n",
      "Epoch 73/100\n",
      "32/32 [==============================] - 0s 3ms/step - loss: 4.5528e-05 - mean_squared_error: 4.5528e-05 - val_loss: 3.4406e-05 - val_mean_squared_error: 3.4406e-05\n",
      "Epoch 74/100\n",
      "32/32 [==============================] - 0s 3ms/step - loss: 5.5274e-05 - mean_squared_error: 5.5274e-05 - val_loss: 6.4817e-05 - val_mean_squared_error: 6.4817e-05\n",
      "Epoch 75/100\n",
      "32/32 [==============================] - 0s 3ms/step - loss: 4.1929e-05 - mean_squared_error: 4.1929e-05 - val_loss: 3.2488e-05 - val_mean_squared_error: 3.2488e-05\n",
      "Epoch 76/100\n",
      "32/32 [==============================] - 0s 3ms/step - loss: 2.6433e-05 - mean_squared_error: 2.6433e-05 - val_loss: 1.9553e-05 - val_mean_squared_error: 1.9553e-05\n",
      "Epoch 77/100\n",
      "32/32 [==============================] - 0s 3ms/step - loss: 1.5729e-05 - mean_squared_error: 1.5729e-05 - val_loss: 2.8287e-05 - val_mean_squared_error: 2.8287e-05\n",
      "Epoch 78/100\n",
      "32/32 [==============================] - 0s 3ms/step - loss: 2.1617e-05 - mean_squared_error: 2.1617e-05 - val_loss: 3.3762e-05 - val_mean_squared_error: 3.3762e-05\n",
      "Epoch 79/100\n",
      "32/32 [==============================] - 0s 3ms/step - loss: 2.0972e-05 - mean_squared_error: 2.0972e-05 - val_loss: 1.4481e-05 - val_mean_squared_error: 1.4481e-05\n",
      "Epoch 80/100\n",
      "32/32 [==============================] - 0s 3ms/step - loss: 1.9695e-05 - mean_squared_error: 1.9695e-05 - val_loss: 1.8695e-05 - val_mean_squared_error: 1.8695e-05\n",
      "Epoch 81/100\n",
      "32/32 [==============================] - 0s 3ms/step - loss: 1.4368e-05 - mean_squared_error: 1.4368e-05 - val_loss: 1.9029e-05 - val_mean_squared_error: 1.9029e-05\n",
      "Epoch 82/100\n",
      "32/32 [==============================] - 0s 3ms/step - loss: 1.4143e-05 - mean_squared_error: 1.4143e-05 - val_loss: 1.1988e-05 - val_mean_squared_error: 1.1988e-05\n",
      "Epoch 83/100\n",
      "32/32 [==============================] - 0s 3ms/step - loss: 1.2269e-05 - mean_squared_error: 1.2269e-05 - val_loss: 1.0138e-05 - val_mean_squared_error: 1.0138e-05\n",
      "Epoch 84/100\n",
      "32/32 [==============================] - 0s 3ms/step - loss: 1.0043e-05 - mean_squared_error: 1.0043e-05 - val_loss: 1.0731e-05 - val_mean_squared_error: 1.0731e-05\n",
      "Epoch 85/100\n",
      "32/32 [==============================] - 0s 3ms/step - loss: 1.3920e-05 - mean_squared_error: 1.3920e-05 - val_loss: 1.1509e-05 - val_mean_squared_error: 1.1509e-05\n",
      "Epoch 86/100\n",
      "32/32 [==============================] - 0s 3ms/step - loss: 1.0479e-05 - mean_squared_error: 1.0479e-05 - val_loss: 8.3284e-06 - val_mean_squared_error: 8.3284e-06\n",
      "Epoch 87/100\n",
      "32/32 [==============================] - 0s 3ms/step - loss: 8.1661e-06 - mean_squared_error: 8.1661e-06 - val_loss: 9.2261e-06 - val_mean_squared_error: 9.2261e-06\n",
      "Epoch 88/100\n",
      "32/32 [==============================] - 0s 3ms/step - loss: 1.3909e-05 - mean_squared_error: 1.3909e-05 - val_loss: 8.4948e-06 - val_mean_squared_error: 8.4948e-06\n",
      "Epoch 89/100\n",
      "32/32 [==============================] - 0s 3ms/step - loss: 1.4502e-05 - mean_squared_error: 1.4502e-05 - val_loss: 2.2265e-05 - val_mean_squared_error: 2.2265e-05\n",
      "Epoch 90/100\n",
      "32/32 [==============================] - 0s 3ms/step - loss: 3.0744e-05 - mean_squared_error: 3.0744e-05 - val_loss: 1.7937e-05 - val_mean_squared_error: 1.7937e-05\n",
      "Epoch 91/100\n",
      "32/32 [==============================] - 0s 2ms/step - loss: 2.3790e-05 - mean_squared_error: 2.3790e-05 - val_loss: 8.2512e-05 - val_mean_squared_error: 8.2512e-05\n",
      "Epoch 92/100\n",
      "32/32 [==============================] - 0s 2ms/step - loss: 3.5594e-05 - mean_squared_error: 3.5594e-05 - val_loss: 9.5586e-05 - val_mean_squared_error: 9.5586e-05\n",
      "Epoch 93/100\n",
      "32/32 [==============================] - 0s 2ms/step - loss: 9.2850e-05 - mean_squared_error: 9.2850e-05 - val_loss: 6.0169e-05 - val_mean_squared_error: 6.0169e-05\n",
      "Epoch 94/100\n",
      "32/32 [==============================] - 0s 2ms/step - loss: 7.3933e-05 - mean_squared_error: 7.3933e-05 - val_loss: 2.9000e-05 - val_mean_squared_error: 2.9000e-05\n",
      "Epoch 95/100\n",
      "32/32 [==============================] - 0s 2ms/step - loss: 2.1306e-05 - mean_squared_error: 2.1306e-05 - val_loss: 9.0652e-06 - val_mean_squared_error: 9.0652e-06\n",
      "Epoch 96/100\n",
      "32/32 [==============================] - 0s 3ms/step - loss: 2.3378e-05 - mean_squared_error: 2.3378e-05 - val_loss: 5.1079e-05 - val_mean_squared_error: 5.1079e-05\n",
      "Epoch 97/100\n",
      "32/32 [==============================] - 0s 3ms/step - loss: 8.5931e-05 - mean_squared_error: 8.5931e-05 - val_loss: 1.5888e-04 - val_mean_squared_error: 1.5888e-04\n",
      "Epoch 98/100\n",
      "32/32 [==============================] - 0s 3ms/step - loss: 7.2644e-05 - mean_squared_error: 7.2644e-05 - val_loss: 7.5581e-05 - val_mean_squared_error: 7.5581e-05\n",
      "Epoch 99/100\n",
      "32/32 [==============================] - 0s 3ms/step - loss: 4.9286e-05 - mean_squared_error: 4.9286e-05 - val_loss: 4.6745e-05 - val_mean_squared_error: 4.6745e-05\n",
      "Epoch 100/100\n",
      "32/32 [==============================] - 0s 2ms/step - loss: 6.0501e-05 - mean_squared_error: 6.0501e-05 - val_loss: 7.6450e-05 - val_mean_squared_error: 7.6450e-05\n"
     ]
    }
   ],
   "source": [
    "history_gudhi = model_reg_gudhi.fit(PI_train_gudhi,\n",
    "                            r_train_gudhi,\n",
    "                            epochs=100,\n",
    "                            validation_data=(PI_test_gudhi, r_test_gudhi))"
   ]
  },
  {
   "cell_type": "markdown",
   "id": "df07fed5",
   "metadata": {},
   "source": [
    "We compute the $R^2$ coefficient and the MSE score of the regression trained on real PIs. "
   ]
  },
  {
   "cell_type": "code",
   "execution_count": 28,
   "id": "3f6ce627",
   "metadata": {},
   "outputs": [
    {
     "name": "stdout",
     "output_type": "stream",
     "text": [
      "4/4 - 0s - loss: 2.7103e-15 - mean_squared_error: 2.7103e-15\n"
     ]
    }
   ],
   "source": [
    "r_pred_gudhi = model_reg_gudhi.predict(PI_test_gudhi)\n",
    "test_loss_g, test_acc_g = model_reg_gudhi.evaluate(PI_test_gudhi,  r_test_gudhi, verbose=2)\n",
    "r2_g = r2_score(r_test_gudhi,r_pred_gudhi)\n",
    "print(\"R2 = \",r2_g)"
   ]
  },
  {
   "cell_type": "markdown",
   "id": "a6ffa55a",
   "metadata": {},
   "source": [
    "We plot the regression trained on true PIs"
   ]
  },
  {
   "cell_type": "code",
   "execution_count": 30,
   "id": "5841f330",
   "metadata": {},
   "outputs": [
    {
     "data": {
      "image/png": "[encoded data removed]",
      "text/plain": [
       "<Figure size 432x288 with 1 Axes>"
      ]
     },
     "metadata": {
      "needs_background": "light"
     },
     "output_type": "display_data"
    }
   ],
   "source": [
    "plt.plot(r_test_gudhi,r_pred_gudhi,'bo',markersize=2)\n",
    "plt.xlabel(\"True radius\")\n",
    "plt.ylabel(\"Predicted radius\")\n",
    "plt.title(\"MSE : {:e}, R² = {:2f}\".format(test_acc_g,r2_g),fontsize=20)\n",
    "plt.savefig(\"Résultats/Résultats 3/regression_diameter_circle_gudhi.pdf\")"
   ]
  },
  {
   "cell_type": "markdown",
   "id": "8842c7b5",
   "metadata": {},
   "source": [
    " ### Generate data for the training of ```model_reg_NN```  "
   ]
  },
  {
   "cell_type": "code",
   "execution_count": 27,
   "id": "d95c6071",
   "metadata": {},
   "outputs": [],
   "source": [
    "def create_circle(N_points, r, x_0, y_0):\n",
    "    X = []\n",
    "    for i in range(N_points): #On fait un cercle\n",
    "        theta = np.random.uniform()*2*np.pi\n",
    "        X.append([(r*np.cos(theta))+x_0,(r*np.sin(theta)+y_0)])\n",
    "    return np.array(X)"
   ]
  },
  {
   "cell_type": "code",
   "execution_count": 38,
   "id": "0a95593f",
   "metadata": {},
   "outputs": [
    {
     "name": "stderr",
     "output_type": "stream",
     "text": [
      "Generating dataset : 100%|█████████████████| 1000/1000 [00:02<00:00, 374.91it/s]\n"
     ]
    }
   ],
   "source": [
    "N_points = 500\n",
    "data_train_NN = np.zeros((N_sets_train, N_points, 2))\n",
    "r_train_NN = np.zeros((N_sets_train,))\n",
    "\n",
    "for i in tqdm(range(N_sets_train), desc='Generating dataset : '):\n",
    "    r = np.random.random()\n",
    "    data_train_NN[i] = create_circle(N_points, r,0,0) \n",
    "    r_train_NN[i] = r"
   ]
  },
  {
   "cell_type": "code",
   "execution_count": 41,
   "id": "9f0d91d2",
   "metadata": {},
   "outputs": [
    {
     "name": "stderr",
     "output_type": "stream",
     "text": [
      "2021-08-03 15:58:18.618582: I tensorflow/compiler/mlir/mlir_graph_optimization_pass.cc:176] None of the MLIR Optimization Passes are enabled (registered 2)\n",
      "2021-08-03 15:58:18.638904: I tensorflow/core/platform/profile_utils/cpu_utils.cc:114] CPU Frequency: 2599990000 Hz\n"
     ]
    }
   ],
   "source": [
    "PI_train_NN = model_PI.predict(data_train_NN)"
   ]
  },
  {
   "cell_type": "code",
   "execution_count": 13,
   "id": "16b4a17a",
   "metadata": {},
   "outputs": [
    {
     "name": "stderr",
     "output_type": "stream",
     "text": [
      "Generating dataset : 100%|██████████| 100/100 [00:00<00:00, 338.66it/s]\n"
     ]
    }
   ],
   "source": [
    "N_points = 500\n",
    "data_test_NN = np.zeros((N_sets_test, N_points, 2))\n",
    "r_test_NN = np.zeros((N_sets_test,))\n",
    "\n",
    "for i in tqdm(range(N_sets_test), desc='Generating dataset : '):\n",
    "    r = np.random.random()\n",
    "    data_test_NN[i] = create_circle(N_points, r,0,0) \n",
    "    r_test_NN[i] = r"
   ]
  },
  {
   "cell_type": "code",
   "execution_count": 14,
   "id": "d240924b",
   "metadata": {},
   "outputs": [],
   "source": [
    "PI_test_NN = model_PI.predict(data_test_NN)"
   ]
  },
  {
   "cell_type": "markdown",
   "id": "cca77b4c",
   "metadata": {},
   "source": [
    "### Fit the regression model ```model_reg_NN```"
   ]
  },
  {
   "cell_type": "code",
   "execution_count": 15,
   "id": "0681b2b0",
   "metadata": {
    "scrolled": true
   },
   "outputs": [
    {
     "name": "stdout",
     "output_type": "stream",
     "text": [
      "Epoch 1/50\n",
      "32/32 [==============================] - 0s 5ms/step - loss: 0.0338 - mean_squared_error: 0.0338 - val_loss: 0.0021 - val_mean_squared_error: 0.0021\n",
      "Epoch 2/50\n",
      "32/32 [==============================] - 0s 3ms/step - loss: 0.0016 - mean_squared_error: 0.0016 - val_loss: 9.7111e-04 - val_mean_squared_error: 9.7111e-04\n",
      "Epoch 3/50\n",
      "32/32 [==============================] - 0s 2ms/step - loss: 9.4019e-04 - mean_squared_error: 9.4019e-04 - val_loss: 7.1302e-04 - val_mean_squared_error: 7.1302e-04\n",
      "Epoch 4/50\n",
      "32/32 [==============================] - 0s 2ms/step - loss: 7.7801e-04 - mean_squared_error: 7.7801e-04 - val_loss: 5.8328e-04 - val_mean_squared_error: 5.8328e-04\n",
      "Epoch 5/50\n",
      "32/32 [==============================] - 0s 3ms/step - loss: 6.5067e-04 - mean_squared_error: 6.5067e-04 - val_loss: 4.7468e-04 - val_mean_squared_error: 4.7468e-04\n",
      "Epoch 6/50\n",
      "32/32 [==============================] - 0s 3ms/step - loss: 5.4115e-04 - mean_squared_error: 5.4115e-04 - val_loss: 3.7553e-04 - val_mean_squared_error: 3.7553e-04\n",
      "Epoch 7/50\n",
      "32/32 [==============================] - 0s 2ms/step - loss: 4.2825e-04 - mean_squared_error: 4.2825e-04 - val_loss: 2.8490e-04 - val_mean_squared_error: 2.8490e-04\n",
      "Epoch 8/50\n",
      "32/32 [==============================] - 0s 3ms/step - loss: 3.2764e-04 - mean_squared_error: 3.2764e-04 - val_loss: 2.2572e-04 - val_mean_squared_error: 2.2572e-04\n",
      "Epoch 9/50\n",
      "32/32 [==============================] - 0s 3ms/step - loss: 2.4382e-04 - mean_squared_error: 2.4382e-04 - val_loss: 1.7619e-04 - val_mean_squared_error: 1.7619e-04\n",
      "Epoch 10/50\n",
      "32/32 [==============================] - 0s 3ms/step - loss: 1.8278e-04 - mean_squared_error: 1.8278e-04 - val_loss: 1.4431e-04 - val_mean_squared_error: 1.4431e-04\n",
      "Epoch 11/50\n",
      "32/32 [==============================] - 0s 3ms/step - loss: 1.4171e-04 - mean_squared_error: 1.4171e-04 - val_loss: 1.0198e-04 - val_mean_squared_error: 1.0198e-04\n",
      "Epoch 12/50\n",
      "32/32 [==============================] - 0s 3ms/step - loss: 1.0662e-04 - mean_squared_error: 1.0662e-04 - val_loss: 9.2295e-05 - val_mean_squared_error: 9.2295e-05\n",
      "Epoch 13/50\n",
      "32/32 [==============================] - 0s 2ms/step - loss: 8.2753e-05 - mean_squared_error: 8.2753e-05 - val_loss: 5.1013e-05 - val_mean_squared_error: 5.1013e-05\n",
      "Epoch 14/50\n",
      "32/32 [==============================] - 0s 3ms/step - loss: 5.8098e-05 - mean_squared_error: 5.8098e-05 - val_loss: 5.5671e-05 - val_mean_squared_error: 5.5671e-05\n",
      "Epoch 15/50\n",
      "32/32 [==============================] - 0s 2ms/step - loss: 5.6965e-05 - mean_squared_error: 5.6965e-05 - val_loss: 3.1069e-05 - val_mean_squared_error: 3.1069e-05\n",
      "Epoch 16/50\n",
      "32/32 [==============================] - 0s 2ms/step - loss: 4.1651e-05 - mean_squared_error: 4.1651e-05 - val_loss: 2.4770e-05 - val_mean_squared_error: 2.4770e-05\n",
      "Epoch 17/50\n",
      "32/32 [==============================] - 0s 2ms/step - loss: 3.4477e-05 - mean_squared_error: 3.4477e-05 - val_loss: 2.3963e-05 - val_mean_squared_error: 2.3963e-05\n",
      "Epoch 18/50\n",
      "32/32 [==============================] - 0s 3ms/step - loss: 3.0985e-05 - mean_squared_error: 3.0985e-05 - val_loss: 2.3189e-05 - val_mean_squared_error: 2.3189e-05\n",
      "Epoch 19/50\n",
      "32/32 [==============================] - 0s 2ms/step - loss: 3.2819e-05 - mean_squared_error: 3.2819e-05 - val_loss: 2.6479e-05 - val_mean_squared_error: 2.6479e-05\n",
      "Epoch 20/50\n",
      "32/32 [==============================] - 0s 3ms/step - loss: 2.9264e-05 - mean_squared_error: 2.9264e-05 - val_loss: 2.4776e-05 - val_mean_squared_error: 2.4776e-05\n",
      "Epoch 21/50\n",
      "32/32 [==============================] - 0s 3ms/step - loss: 2.5209e-05 - mean_squared_error: 2.5209e-05 - val_loss: 2.2040e-05 - val_mean_squared_error: 2.2040e-05\n",
      "Epoch 22/50\n",
      "32/32 [==============================] - 0s 2ms/step - loss: 2.3496e-05 - mean_squared_error: 2.3496e-05 - val_loss: 2.5521e-05 - val_mean_squared_error: 2.5521e-05\n",
      "Epoch 23/50\n",
      "32/32 [==============================] - 0s 3ms/step - loss: 2.2291e-05 - mean_squared_error: 2.2291e-05 - val_loss: 1.9355e-05 - val_mean_squared_error: 1.9355e-05\n",
      "Epoch 24/50\n",
      "32/32 [==============================] - 0s 3ms/step - loss: 1.8642e-05 - mean_squared_error: 1.8642e-05 - val_loss: 1.5874e-05 - val_mean_squared_error: 1.5874e-05\n",
      "Epoch 25/50\n",
      "32/32 [==============================] - 0s 3ms/step - loss: 1.6075e-05 - mean_squared_error: 1.6075e-05 - val_loss: 1.5177e-05 - val_mean_squared_error: 1.5177e-05\n",
      "Epoch 26/50\n",
      "32/32 [==============================] - 0s 3ms/step - loss: 1.7239e-05 - mean_squared_error: 1.7239e-05 - val_loss: 1.3592e-05 - val_mean_squared_error: 1.3592e-05\n",
      "Epoch 27/50\n",
      "32/32 [==============================] - 0s 2ms/step - loss: 1.6229e-05 - mean_squared_error: 1.6229e-05 - val_loss: 1.7758e-05 - val_mean_squared_error: 1.7758e-05\n",
      "Epoch 28/50\n",
      "32/32 [==============================] - 0s 2ms/step - loss: 1.5246e-05 - mean_squared_error: 1.5246e-05 - val_loss: 1.2369e-05 - val_mean_squared_error: 1.2369e-05\n",
      "Epoch 29/50\n",
      "32/32 [==============================] - 0s 2ms/step - loss: 1.7190e-05 - mean_squared_error: 1.7190e-05 - val_loss: 2.5464e-05 - val_mean_squared_error: 2.5464e-05\n",
      "Epoch 30/50\n",
      "32/32 [==============================] - 0s 3ms/step - loss: 1.8295e-05 - mean_squared_error: 1.8295e-05 - val_loss: 1.2568e-05 - val_mean_squared_error: 1.2568e-05\n",
      "Epoch 31/50\n",
      "32/32 [==============================] - 0s 3ms/step - loss: 1.3344e-05 - mean_squared_error: 1.3344e-05 - val_loss: 1.0917e-05 - val_mean_squared_error: 1.0917e-05\n",
      "Epoch 32/50\n",
      "32/32 [==============================] - 0s 3ms/step - loss: 1.9205e-05 - mean_squared_error: 1.9205e-05 - val_loss: 3.0322e-05 - val_mean_squared_error: 3.0322e-05\n",
      "Epoch 33/50\n",
      "32/32 [==============================] - 0s 3ms/step - loss: 2.0952e-05 - mean_squared_error: 2.0952e-05 - val_loss: 9.7758e-06 - val_mean_squared_error: 9.7758e-06\n",
      "Epoch 34/50\n",
      "32/32 [==============================] - 0s 3ms/step - loss: 1.2987e-05 - mean_squared_error: 1.2987e-05 - val_loss: 1.5683e-05 - val_mean_squared_error: 1.5683e-05\n",
      "Epoch 35/50\n",
      "32/32 [==============================] - 0s 2ms/step - loss: 1.1677e-05 - mean_squared_error: 1.1677e-05 - val_loss: 1.0092e-05 - val_mean_squared_error: 1.0092e-05\n",
      "Epoch 36/50\n",
      "32/32 [==============================] - 0s 3ms/step - loss: 1.2126e-05 - mean_squared_error: 1.2126e-05 - val_loss: 8.8417e-06 - val_mean_squared_error: 8.8417e-06\n",
      "Epoch 37/50\n",
      "32/32 [==============================] - 0s 2ms/step - loss: 1.3033e-05 - mean_squared_error: 1.3033e-05 - val_loss: 7.5094e-06 - val_mean_squared_error: 7.5094e-06\n",
      "Epoch 38/50\n",
      "32/32 [==============================] - 0s 2ms/step - loss: 1.0406e-05 - mean_squared_error: 1.0406e-05 - val_loss: 1.9375e-05 - val_mean_squared_error: 1.9375e-05\n",
      "Epoch 39/50\n",
      "32/32 [==============================] - 0s 3ms/step - loss: 1.2259e-05 - mean_squared_error: 1.2259e-05 - val_loss: 2.2058e-05 - val_mean_squared_error: 2.2058e-05\n",
      "Epoch 40/50\n",
      "32/32 [==============================] - 0s 2ms/step - loss: 4.0210e-05 - mean_squared_error: 4.0210e-05 - val_loss: 4.7165e-05 - val_mean_squared_error: 4.7165e-05\n",
      "Epoch 41/50\n",
      "32/32 [==============================] - 0s 3ms/step - loss: 2.0522e-05 - mean_squared_error: 2.0522e-05 - val_loss: 1.3696e-05 - val_mean_squared_error: 1.3696e-05\n",
      "Epoch 42/50\n",
      "32/32 [==============================] - 0s 2ms/step - loss: 1.2247e-05 - mean_squared_error: 1.2247e-05 - val_loss: 1.0541e-05 - val_mean_squared_error: 1.0541e-05\n",
      "Epoch 43/50\n",
      "32/32 [==============================] - 0s 2ms/step - loss: 1.3765e-05 - mean_squared_error: 1.3765e-05 - val_loss: 5.6269e-05 - val_mean_squared_error: 5.6269e-05\n",
      "Epoch 44/50\n",
      "32/32 [==============================] - 0s 2ms/step - loss: 2.9920e-05 - mean_squared_error: 2.9920e-05 - val_loss: 3.2023e-05 - val_mean_squared_error: 3.2023e-05\n",
      "Epoch 45/50\n",
      "32/32 [==============================] - 0s 3ms/step - loss: 2.4585e-05 - mean_squared_error: 2.4585e-05 - val_loss: 2.7771e-05 - val_mean_squared_error: 2.7771e-05\n",
      "Epoch 46/50\n",
      "32/32 [==============================] - 0s 3ms/step - loss: 1.8185e-05 - mean_squared_error: 1.8185e-05 - val_loss: 1.0083e-05 - val_mean_squared_error: 1.0083e-05\n",
      "Epoch 47/50\n",
      "32/32 [==============================] - 0s 2ms/step - loss: 2.0512e-05 - mean_squared_error: 2.0512e-05 - val_loss: 6.2167e-05 - val_mean_squared_error: 6.2167e-05\n",
      "Epoch 48/50\n",
      "32/32 [==============================] - 0s 2ms/step - loss: 4.8063e-05 - mean_squared_error: 4.8063e-05 - val_loss: 1.0967e-04 - val_mean_squared_error: 1.0967e-04\n",
      "Epoch 49/50\n",
      "32/32 [==============================] - 0s 3ms/step - loss: 7.0620e-05 - mean_squared_error: 7.0620e-05 - val_loss: 1.7861e-05 - val_mean_squared_error: 1.7861e-05\n",
      "Epoch 50/50\n",
      "32/32 [==============================] - 0s 2ms/step - loss: 4.2914e-05 - mean_squared_error: 4.2914e-05 - val_loss: 8.9224e-05 - val_mean_squared_error: 8.9224e-05\n"
     ]
    }
   ],
   "source": [
    "history_NN = model_reg_NN.fit(PI_train_NN,\n",
    "                            r_train_NN,\n",
    "                            epochs=50,\n",
    "                            validation_data=(PI_test_NN, r_test_NN))"
   ]
  },
  {
   "cell_type": "code",
   "execution_count": 16,
   "id": "7f6e95b7",
   "metadata": {},
   "outputs": [
    {
     "name": "stdout",
     "output_type": "stream",
     "text": [
      "4/4 - 0s - loss: 8.9224e-05 - mean_squared_error: 8.9224e-05\n",
      "\n",
      "MSE: 8.92237076186575e-05\n"
     ]
    }
   ],
   "source": [
    "test_loss, test_acc = model_reg_NN.evaluate(PI_test_NN,  r_test_NN, verbose=2)\n",
    "\n",
    "print('\\nMSE:', test_acc)"
   ]
  },
  {
   "cell_type": "markdown",
   "id": "dd6c82de",
   "metadata": {},
   "source": [
    "### We generated test data for ```model_reg_NN ```"
   ]
  },
  {
   "cell_type": "code",
   "execution_count": 17,
   "id": "68be5759",
   "metadata": {},
   "outputs": [
    {
     "name": "stderr",
     "output_type": "stream",
     "text": [
      "Generating dataset : 100%|██████████| 100/100 [00:00<00:00, 327.95it/s]\n"
     ]
    }
   ],
   "source": [
    "data_test = np.zeros((100,N_points,2))\n",
    "r_test = np.zeros((100,))\n",
    "\n",
    "for i in tqdm(range(100), desc='Generating dataset : '):\n",
    "    r = np.random.random()\n",
    "    data_test[i] = create_circle(N_points, r,0,0) \n",
    "    r_test[i] = r"
   ]
  },
  {
   "cell_type": "code",
   "execution_count": 21,
   "id": "b5142440",
   "metadata": {},
   "outputs": [],
   "source": [
    "PI_test_NN = model_PI.predict(data_test)"
   ]
  },
  {
   "cell_type": "markdown",
   "id": "0cc959d9",
   "metadata": {},
   "source": [
    "We compute the $R^2$ coefficient and the MSE score of the regression trained on predicted PIs. "
   ]
  },
  {
   "cell_type": "code",
   "execution_count": 22,
   "id": "76c4120b",
   "metadata": {},
   "outputs": [
    {
     "name": "stdout",
     "output_type": "stream",
     "text": [
      "4/4 - 0s - loss: 9.7981e-05 - mean_squared_error: 9.7981e-05\n"
     ]
    }
   ],
   "source": [
    "r_predicted_NN = model_reg_NN.predict(PI_test_NN)\n",
    "test_loss, test_acc = model_reg_NN.evaluate(PI_test_NN,  r_test, verbose=2)\n",
    "r2 = r2_score(r_test,r_predicted_NN)\n",
    "print(\"r2 = \", r2)"
   ]
  },
  {
   "cell_type": "markdown",
   "id": "93b89dea",
   "metadata": {},
   "source": [
    "We plot the regression trained on predicted PIs."
   ]
  },
  {
   "cell_type": "code",
   "execution_count": 23,
   "id": "b2e047a0",
   "metadata": {},
   "outputs": [
    {
     "data": {
      "text/plain": [
       "Text(0.5, 1.0, 'MSE : 9.798066e-05, R² = 0.998819')"
      ]
     },
     "execution_count": 23,
     "metadata": {},
     "output_type": "execute_result"
    },
    {
     "data": {
      "image/png": "[encoded data removed]",
      "text/plain": [
       "<Figure size 432x288 with 1 Axes>"
      ]
     },
     "metadata": {
      "needs_background": "light"
     },
     "output_type": "display_data"
    }
   ],
   "source": [
    "plt.plot(r_test,r_predicted_NN,'bo',markersize=2)\n",
    "plt.xlabel(\"True radius\")\n",
    "plt.ylabel(\"Predicted radius\")\n",
    "plt.title(\"MSE : {:e}, R² = {:2f}\".format(test_acc,r2),fontsize=20)\n",
    "\n",
    "#plt.savefig(\"Résultats/Résultats 3/regression_diameter_circle.pdf\")"
   ]
  },
  {
   "cell_type": "code",
   "execution_count": 23,
   "id": "0b3a968d",
   "metadata": {
    "scrolled": true
   },
   "outputs": [
    {
     "data": {
      "text/plain": [
       "0.011792451414098792"
      ]
     },
     "execution_count": 23,
     "metadata": {},
     "output_type": "execute_result"
    }
   ],
   "source": [
    "np.max(np.abs(r_predicted_NN.flatten()-r_test))"
   ]
  },
  {
   "cell_type": "markdown",
   "id": "4ab908cd",
   "metadata": {},
   "source": [
    "## Kolmogorov-Smirnov test "
   ]
  },
  {
   "cell_type": "markdown",
   "id": "d34c9649",
   "metadata": {},
   "source": [
    "We test if the PI computed with the NN and the PI computed with Gudhi have the same pixel distribution. \n",
    "$$(H_0) : \\mathcal{D}_{\\text{NN}} = \\mathcal{D}_{\\text{Gudhi}}$$\n",
    "We use for that the Kolmogorov-Smirnov test on each pixels to see the pixels that don't have the same distribution"
   ]
  },
  {
   "cell_type": "markdown",
   "id": "be04e17a",
   "metadata": {},
   "source": [
    "We start by generating new data to do the KS test"
   ]
  },
  {
   "cell_type": "code",
   "execution_count": 9,
   "id": "a3ddb6f8",
   "metadata": {
    "scrolled": true
   },
   "outputs": [
    {
     "name": "stderr",
     "output_type": "stream",
     "text": [
      "2021-07-23 12:16:00.814309: I tensorflow/compiler/mlir/mlir_graph_optimization_pass.cc:176] None of the MLIR Optimization Passes are enabled (registered 2)\n",
      "2021-07-23 12:16:00.878804: I tensorflow/core/platform/profile_utils/cpu_utils.cc:114] CPU Frequency: 2599990000 Hz\n"
     ]
    }
   ],
   "source": [
    "PI_train_NN = model_PI.predict(data_train_NN)"
   ]
  },
  {
   "cell_type": "code",
   "execution_count": 10,
   "id": "0ebd4fed",
   "metadata": {},
   "outputs": [
    {
     "name": "stdout",
     "output_type": "stream",
     "text": [
      "Time taken by Gudhi = 50.30605626106262 seconds\n"
     ]
    }
   ],
   "source": [
    "PI_gudhi = np.zeros((len(data_train_NN), PI_size * PI_size))\n",
    "\n",
    "starttimeG = time()\n",
    "for i in range(len(data_train_NN)):\n",
    "    rcX = gd.AlphaComplex(points=data_train_NN[i]).create_simplex_tree()\n",
    "    dgmX = rcX.persistence()\n",
    "\n",
    "    PI = gd.representations.PersistenceImage(bandwidth=1e-1,\n",
    "                                             weight=lambda x: x[1]**(1),\n",
    "                                             resolution=[PI_size, PI_size], im_range=[0, 1, 0, 1])\n",
    "    pi = PI.fit_transform([rcX.persistence_intervals_in_dimension(1)])\n",
    "    PI_gudhi[i] = pi[0]\n",
    "timeG = time() - starttimeG\n",
    "PI_gudhi /= np.max(PI_gudhi)\n",
    "print('Time taken by Gudhi = {} seconds'.format(timeG))"
   ]
  },
  {
   "cell_type": "code",
   "execution_count": 11,
   "id": "0e4ca1e0",
   "metadata": {},
   "outputs": [],
   "source": [
    "p_value_ks = np.zeros(PI_train_NN[0].shape)\n",
    "for i in range(len(p_value_ks)):\n",
    "    p_value_ks[i] = ks_2samp(PI_train_NN[:, i], PI_gudhi[:, i])[0]"
   ]
  },
  {
   "cell_type": "code",
   "execution_count": 12,
   "id": "067a2633",
   "metadata": {},
   "outputs": [
    {
     "data": {
      "text/plain": [
       "Text(0.5, 1.0, 'Histogram of the p-values for the KS test on each pixels')"
      ]
     },
     "execution_count": 12,
     "metadata": {},
     "output_type": "execute_result"
    },
    {
     "data": {
      "image/png": "[encoded data removed]",
      "text/plain": [
       "<Figure size 432x288 with 1 Axes>"
      ]
     },
     "metadata": {
      "needs_background": "light"
     },
     "output_type": "display_data"
    }
   ],
   "source": [
    "plt.hist(p_value_ks)\n",
    "plt.vlines(0.05, 0, 800, linestyle='--', colors='red')\n",
    "plt.ylim(0, 717)\n",
    "plt.title(\"Histogram of the p-values for the KS test on each pixels\")\n",
    "#plt.savefig(\"Résultats/Résultats 4/hist_p_value_test_ks_noisy_circles.pdf\")"
   ]
  },
  {
   "cell_type": "markdown",
   "id": "1b6f7617",
   "metadata": {},
   "source": [
    "Some pixels have a p-value $\\leq$ 0.05 so we can rejet $H_0$ for some pixels, but for a verry small amount."
   ]
  },
  {
   "cell_type": "code",
   "execution_count": 20,
   "id": "5e92b7a8",
   "metadata": {},
   "outputs": [
    {
     "data": {
      "image/png": "[encoded data removed]",
      "text/plain": [
       "<Figure size 432x288 with 2 Axes>"
      ]
     },
     "metadata": {
      "needs_background": "light"
     },
     "output_type": "display_data"
    }
   ],
   "source": [
    "plt.imshow(np.flip(np.reshape(p_value_ks, [PI_size, PI_size]), 0),\n",
    "           vmin=0,\n",
    "           vmax=1,\n",
    "           cmap='gist_rainbow')\n",
    "plt.colorbar()\n",
    "plt.title(\"Heatmap of the p-values of the KS test on each pixels\")\n",
    "plt.savefig(\"Rapports/Rapport_PRe/Images/heatmap_p_value_test_ks_smaller_circles.pdf\")"
   ]
  },
  {
   "cell_type": "code",
   "execution_count": 40,
   "id": "a6eaa549",
   "metadata": {
    "scrolled": true
   },
   "outputs": [
    {
     "data": {
      "image/png": "[encoded data removed]",
      "text/plain": [
       "<Figure size 432x288 with 18 Axes>"
      ]
     },
     "metadata": {
      "needs_background": "light"
     },
     "output_type": "display_data"
    }
   ],
   "source": [
    "for i in range(9):\n",
    "    plt.subplot(3, 3, i + 1)\n",
    "    plt.imshow(np.flip(np.reshape(PI_train_NN[i], [PI_size, PI_size]), 0),\n",
    "               vmin=0,\n",
    "               vmax=1,\n",
    "               cmap='jet')\n",
    "    plt.colorbar()"
   ]
  },
  {
   "cell_type": "code",
   "execution_count": 41,
   "id": "dfd5ca16",
   "metadata": {},
   "outputs": [
    {
     "data": {
      "image/png": "[encoded data removed]",
      "text/plain": [
       "<Figure size 432x288 with 18 Axes>"
      ]
     },
     "metadata": {
      "needs_background": "light"
     },
     "output_type": "display_data"
    }
   ],
   "source": [
    "for i in range(9):\n",
    "    plt.subplot(3, 3, i + 1)\n",
    "    plt.imshow(np.flip(np.reshape(PI_gudhi[i], [PI_size, PI_size]), 0),\n",
    "               vmin=0,\n",
    "               vmax=1,\n",
    "               cmap='jet')\n",
    "    plt.colorbar()"
   ]
  },
  {
   "cell_type": "code",
   "execution_count": 47,
   "id": "58b5b525",
   "metadata": {},
   "outputs": [
    {
     "data": {
      "text/plain": [
       "9.035410451200591e-05"
      ]
     },
     "execution_count": 47,
     "metadata": {},
     "output_type": "execute_result"
    }
   ],
   "source": [
    "(np.square(PI_train_NN - PI_gudhi)).mean(axis=None)"
   ]
  }
 ],
 "metadata": {
  "kernelspec": {
   "display_name": "Python 3 (ipykernel)",
   "language": "python",
   "name": "python3"
  },
  "language_info": {
   "codemirror_mode": {
    "name": "ipython",
    "version": 3
   },
   "file_extension": ".py",
   "mimetype": "text/x-python",
   "name": "python",
   "nbconvert_exporter": "python",
   "pygments_lexer": "ipython3",
   "version": "3.8.10"
  }
 },
 "nbformat": 4,
 "nbformat_minor": 5
}
