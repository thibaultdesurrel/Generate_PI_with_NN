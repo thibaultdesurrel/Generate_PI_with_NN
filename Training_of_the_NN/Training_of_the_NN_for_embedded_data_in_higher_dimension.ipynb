{
 "cells": [
  {
   "cell_type": "markdown",
   "id": "87e76a08",
   "metadata": {},
   "source": [
    "# Training of the NN for embedded data in higher dimension"
   ]
  },
  {
   "cell_type": "markdown",
   "id": "edf61c29",
   "metadata": {},
   "source": [
    "This notebook is the definition and the training of the NN that predicts PI for embedded data in higher dimension. We use the dynamical system data (so 2D data) what we embed in dimension 4 using the Whitney embedding and in dimension 10 using a random matrix."
   ]
  },
  {
   "cell_type": "code",
   "execution_count": 16,
   "id": "edd65fd7",
   "metadata": {},
   "outputs": [],
   "source": [
    "import matplotlib.pyplot as plt\n",
    "import numpy as np\n",
    "\n",
    "import tensorflow as tf\n",
    "from IPython.display import SVG\n",
    "from tensorflow_addons.losses import contrastive_loss\n",
    "from tensorflow.image import ssim_multiscale\n",
    "import gudhi as gd\n",
    "import gudhi.representations\n",
    "\n",
    "from tqdm import tqdm\n",
    "import os"
   ]
  },
  {
   "cell_type": "markdown",
   "id": "8b5b74f0",
   "metadata": {},
   "source": [
    "### Load the original data"
   ]
  },
  {
   "cell_type": "code",
   "execution_count": 17,
   "id": "136617d9",
   "metadata": {},
   "outputs": [],
   "source": [
    "#data = np.load('data/PI_data_noisy_circle.npz')\n",
    "\n",
    "data = np.load('PI_data_1000_dynamical_alpha.npz')\n",
    "\n",
    "data_train = data[\"data_train\"]\n",
    "PI_train = data[\"PI_train\"]\n",
    "data_test = data[\"data_test\"]\n",
    "PI_test = data[\"PI_test\"]"
   ]
  },
  {
   "cell_type": "code",
   "execution_count": 18,
   "id": "4ebe6050",
   "metadata": {},
   "outputs": [],
   "source": [
    "N_sets_train = data_train.shape[0]\n",
    "N_sets_test = data_test.shape[0]\n",
    "N_points = data_train.shape[1]\n",
    "PI_size = int(np.sqrt(PI_train.shape[1]))\n",
    "dim = 2"
   ]
  },
  {
   "cell_type": "code",
   "execution_count": 19,
   "id": "97654626",
   "metadata": {},
   "outputs": [
    {
     "name": "stdout",
     "output_type": "stream",
     "text": [
      "N_sets_train :  1000\n",
      "N_sets_test :  100\n",
      "N_points :  500\n",
      "PI_size :  50\n"
     ]
    }
   ],
   "source": [
    "print(\"N_sets_train : \", N_sets_train)\n",
    "print(\"N_sets_test : \", N_sets_test)\n",
    "print(\"N_points : \", N_points)\n",
    "print(\"PI_size : \", PI_size)"
   ]
  },
  {
   "cell_type": "markdown",
   "id": "079e14ec",
   "metadata": {},
   "source": [
    "We normalize the PIs"
   ]
  },
  {
   "cell_type": "code",
   "execution_count": 20,
   "id": "2fd51477",
   "metadata": {},
   "outputs": [],
   "source": [
    "PI_train /= max(np.max(PI_train), np.max(PI_test))\n",
    "PI_test /= max(np.max(PI_train), np.max(PI_test))"
   ]
  },
  {
   "cell_type": "markdown",
   "id": "454189ed",
   "metadata": {},
   "source": [
    "### We embed the data from 2D to 4D using the Whitney embedding "
   ]
  },
  {
   "cell_type": "markdown",
   "id": "c111e7bc",
   "metadata": {},
   "source": [
    "The Whitney embedding is defined as followed :\n",
    "    $$\\alpha_2(x_1,x_2) = \\left( \\frac{1}{(1 + x_1^2)(1 + x_2^2)},x_1 - \\frac{2x_1}{(1 + x_1^2)(1 + x_2^2)},\\frac{x_1x_2}{(1 + x_1^2)(1 + x_2^2)},x_2 \\right)$$"
   ]
  },
  {
   "cell_type": "code",
   "execution_count": 21,
   "id": "1c181d3a",
   "metadata": {},
   "outputs": [],
   "source": [
    "def embedding_withney(data):\n",
    "    new_data = np.zeros((data.shape[0],data.shape[1],4))\n",
    "    for i in range(data.shape[0]):\n",
    "        for j in range(data.shape[1]):\n",
    "            u = (1 + data[i,j,0]**2)*(1 + data[i,j,1]**2)\n",
    "            new_data[i,j,0] = 1/u\n",
    "            new_data[i,j,1] = data[i,j,0] - 2*data[i,j,0]/u\n",
    "            new_data[i,j,2] = data[i,j,0]*data[i,j,1]/u\n",
    "            new_data[i,j,3] = data[i,j,1]\n",
    "    return new_data\n",
    "        "
   ]
  },
  {
   "cell_type": "code",
   "execution_count": 22,
   "id": "58720658",
   "metadata": {},
   "outputs": [],
   "source": [
    "new_data_train = embedding_withney(data_train)"
   ]
  },
  {
   "cell_type": "code",
   "execution_count": 23,
   "id": "62c6c3ba",
   "metadata": {},
   "outputs": [],
   "source": [
    "new_data_test = embedding_withney(data_test)"
   ]
  },
  {
   "cell_type": "code",
   "execution_count": 1,
   "id": "6ffefd78",
   "metadata": {},
   "outputs": [],
   "source": [
    "dim = 4"
   ]
  },
  {
   "cell_type": "markdown",
   "id": "495ed362",
   "metadata": {},
   "source": [
    "### We embed the data from 2D to 10D using a linear tranformation (matrix mulitplication) "
   ]
  },
  {
   "cell_type": "markdown",
   "id": "926aa896",
   "metadata": {},
   "source": [
    "We embed the 2D data in 10D simply by multipling the data by a fixed random $2 \\times 10$ matrix "
   ]
  },
  {
   "cell_type": "code",
   "execution_count": 43,
   "id": "0bf1b27b",
   "metadata": {},
   "outputs": [],
   "source": [
    "def embedding_linear(data,M):\n",
    "    new_data = np.zeros((data.shape[0],data.shape[1],M.shape[1]))\n",
    "    for i in range(data.shape[0]):\n",
    "        new_data[i] = np.matmul(data[i],M)\n",
    "    return new_data"
   ]
  },
  {
   "cell_type": "code",
   "execution_count": 44,
   "id": "ff189fea",
   "metadata": {},
   "outputs": [],
   "source": [
    "M = np.random.random((2,10))"
   ]
  },
  {
   "cell_type": "code",
   "execution_count": 46,
   "id": "526c64b1",
   "metadata": {},
   "outputs": [],
   "source": [
    "new_data_train = embedding_linear(data_train,M)"
   ]
  },
  {
   "cell_type": "code",
   "execution_count": 47,
   "id": "d1cc3609",
   "metadata": {},
   "outputs": [],
   "source": [
    "new_data_test = embedding_linear(data_test,M)"
   ]
  },
  {
   "cell_type": "code",
   "execution_count": 48,
   "id": "b8629c5b",
   "metadata": {},
   "outputs": [],
   "source": [
    "dim = 10"
   ]
  },
  {
   "cell_type": "markdown",
   "id": "8c07647a",
   "metadata": {},
   "source": [
    "### Defintion of the NN"
   ]
  },
  {
   "cell_type": "code",
   "execution_count": 25,
   "id": "57932e4a",
   "metadata": {},
   "outputs": [],
   "source": [
    "class FullyConnected2(tf.keras.layers.Layer):\n",
    "    def __init__(self, N_input, N_output):\n",
    "        super(FullyConnected2, self).__init__()\n",
    "        self.gamma = self.add_weight(name='gamma',\n",
    "                                     shape=(N_input, N_output),\n",
    "                                     initializer=\"random_normal\",\n",
    "                                     trainable=True)\n",
    "\n",
    "    def call(self, inputs):\n",
    "        return tf.einsum(\"ijk,kl->ijl\", inputs, self.gamma)"
   ]
  },
  {
   "cell_type": "code",
   "execution_count": 41,
   "id": "e6406ec5",
   "metadata": {},
   "outputs": [],
   "source": [
    "#V2\n",
    "\n",
    "inputs = tf.keras.Input(shape=(N_points, dim))\n",
    "\n",
    "FC_layer_2_30 = FullyConnected2(dim, 30)\n",
    "x = FC_layer_2_30(inputs)\n",
    "x = tf.keras.activations.relu(x)\n",
    "\n",
    "x = tf.keras.layers.Dense(20, activation='relu')(x)\n",
    "\n",
    "x = tf.keras.layers.Dense(10, activation='relu')(x)\n",
    "\n",
    "\n",
    "Adder = tf.keras.layers.Lambda(lambda x: tf.math.reduce_sum(x, axis=1),\n",
    "                               output_shape=(lambda shape:\n",
    "                                             (shape[0], shape[2])))\n",
    "x = Adder(x)\n",
    "\n",
    "#x = tf.keras.layers.Dense(25, activation='relu')(x)\n",
    "\n",
    "#x = tf.keras.layers.Dense(50, activation='relu')(x)\n",
    "\n",
    "#x = tf.keras.layers.Dense(100, activation='relu')(x)\n",
    "\n",
    "#x = tf.keras.layers.Dense(200, activation='relu')(x)\n",
    "\n",
    "outputs = tf.keras.layers.Dense(PI_size * PI_size, activation='sigmoid')(x)\n",
    "model = tf.keras.Model(inputs=inputs, outputs=outputs)\n",
    "adam = tf.keras.optimizers.Adamax(\n",
    "    learning_rate=5e-3)  #5e-3 learning_rate optimal d'après moi\n",
    "model.compile(optimizer=adam, loss=\"mse\")  #contrastive_loss"
   ]
  },
  {
   "cell_type": "code",
   "execution_count": 12,
   "id": "6b246a35",
   "metadata": {
    "scrolled": false
   },
   "outputs": [
    {
     "name": "stdout",
     "output_type": "stream",
     "text": [
      "Model: \"model\"\n",
      "_________________________________________________________________\n",
      "Layer (type)                 Output Shape              Param #   \n",
      "=================================================================\n",
      "input_1 (InputLayer)         [(None, 500, 4)]          0         \n",
      "_________________________________________________________________\n",
      "fully_connected2 (FullyConne (None, 500, 30)           120       \n",
      "_________________________________________________________________\n",
      "tf.nn.relu (TFOpLambda)      (None, 500, 30)           0         \n",
      "_________________________________________________________________\n",
      "dense (Dense)                (None, 500, 20)           620       \n",
      "_________________________________________________________________\n",
      "dense_1 (Dense)              (None, 500, 10)           210       \n",
      "_________________________________________________________________\n",
      "lambda (Lambda)              (None, 10)                0         \n",
      "_________________________________________________________________\n",
      "dense_2 (Dense)              (None, 50)                550       \n",
      "_________________________________________________________________\n",
      "dense_3 (Dense)              (None, 100)               5100      \n",
      "_________________________________________________________________\n",
      "dense_4 (Dense)              (None, 200)               20200     \n",
      "_________________________________________________________________\n",
      "dense_5 (Dense)              (None, 2500)              502500    \n",
      "=================================================================\n",
      "Total params: 529,300\n",
      "Trainable params: 529,300\n",
      "Non-trainable params: 0\n",
      "_________________________________________________________________\n"
     ]
    },
    {
     "data": {
      "image/svg+xml": [
       "<svg xmlns=\"http://www.w3.org/2000/svg\" xmlns:xlink=\"http://www.w3.org/1999/xlink\" width=\"627pt\" height=\"1069pt\" viewBox=\"0.00 0.00 470.00 802.00\">\n",
       "<g id=\"graph0\" class=\"graph\" transform=\"scale(0.75 0.75) rotate(0) translate(4 798)\">\n",
       "<title>G</title>\n",
       "<polygon fill=\"white\" stroke=\"transparent\" points=\"-4,4 -4,-798 466,-798 466,4 -4,4\"/>\n",
       "<!-- 140473816393520 -->\n",
       "<g id=\"node1\" class=\"node\">\n",
       "<title>140473816393520</title>\n",
       "<polygon fill=\"none\" stroke=\"black\" points=\"53.5,-747.5 53.5,-793.5 408.5,-793.5 408.5,-747.5 53.5,-747.5\"/>\n",
       "<text text-anchor=\"middle\" x=\"132.5\" y=\"-766.8\" font-family=\"Times,serif\" font-size=\"14.00\">input_1: InputLayer</text>\n",
       "<polyline fill=\"none\" stroke=\"black\" points=\"211.5,-747.5 211.5,-793.5 \"/>\n",
       "<text text-anchor=\"middle\" x=\"245.5\" y=\"-778.3\" font-family=\"Times,serif\" font-size=\"14.00\">input:</text>\n",
       "<polyline fill=\"none\" stroke=\"black\" points=\"211.5,-770.5 279.5,-770.5 \"/>\n",
       "<text text-anchor=\"middle\" x=\"245.5\" y=\"-755.3\" font-family=\"Times,serif\" font-size=\"14.00\">output:</text>\n",
       "<polyline fill=\"none\" stroke=\"black\" points=\"279.5,-747.5 279.5,-793.5 \"/>\n",
       "<text text-anchor=\"middle\" x=\"344\" y=\"-778.3\" font-family=\"Times,serif\" font-size=\"14.00\">[(None, 500, 4)]</text>\n",
       "<polyline fill=\"none\" stroke=\"black\" points=\"279.5,-770.5 408.5,-770.5 \"/>\n",
       "<text text-anchor=\"middle\" x=\"344\" y=\"-755.3\" font-family=\"Times,serif\" font-size=\"14.00\">[(None, 500, 4)]</text>\n",
       "</g>\n",
       "<!-- 140473816393424 -->\n",
       "<g id=\"node2\" class=\"node\">\n",
       "<title>140473816393424</title>\n",
       "<polygon fill=\"none\" stroke=\"black\" points=\"0,-664.5 0,-710.5 462,-710.5 462,-664.5 0,-664.5\"/>\n",
       "<text text-anchor=\"middle\" x=\"133\" y=\"-683.8\" font-family=\"Times,serif\" font-size=\"14.00\">fully_connected2: FullyConnected2</text>\n",
       "<polyline fill=\"none\" stroke=\"black\" points=\"266,-664.5 266,-710.5 \"/>\n",
       "<text text-anchor=\"middle\" x=\"300\" y=\"-695.3\" font-family=\"Times,serif\" font-size=\"14.00\">input:</text>\n",
       "<polyline fill=\"none\" stroke=\"black\" points=\"266,-687.5 334,-687.5 \"/>\n",
       "<text text-anchor=\"middle\" x=\"300\" y=\"-672.3\" font-family=\"Times,serif\" font-size=\"14.00\">output:</text>\n",
       "<polyline fill=\"none\" stroke=\"black\" points=\"334,-664.5 334,-710.5 \"/>\n",
       "<text text-anchor=\"middle\" x=\"398\" y=\"-695.3\" font-family=\"Times,serif\" font-size=\"14.00\">(None, 500, 4)</text>\n",
       "<polyline fill=\"none\" stroke=\"black\" points=\"334,-687.5 462,-687.5 \"/>\n",
       "<text text-anchor=\"middle\" x=\"398\" y=\"-672.3\" font-family=\"Times,serif\" font-size=\"14.00\">(None, 500, 30)</text>\n",
       "</g>\n",
       "<!-- 140473816393520&#45;&gt;140473816393424 -->\n",
       "<g id=\"edge1\" class=\"edge\">\n",
       "<title>140473816393520-&gt;140473816393424</title>\n",
       "<path fill=\"none\" stroke=\"black\" d=\"M231,-747.37C231,-739.15 231,-729.66 231,-720.73\"/>\n",
       "<polygon fill=\"black\" stroke=\"black\" points=\"234.5,-720.61 231,-710.61 227.5,-720.61 234.5,-720.61\"/>\n",
       "</g>\n",
       "<!-- 140473772055088 -->\n",
       "<g id=\"node3\" class=\"node\">\n",
       "<title>140473772055088</title>\n",
       "<polygon fill=\"none\" stroke=\"black\" points=\"39,-581.5 39,-627.5 423,-627.5 423,-581.5 39,-581.5\"/>\n",
       "<text text-anchor=\"middle\" x=\"133\" y=\"-600.8\" font-family=\"Times,serif\" font-size=\"14.00\">tf.nn.relu: TFOpLambda</text>\n",
       "<polyline fill=\"none\" stroke=\"black\" points=\"227,-581.5 227,-627.5 \"/>\n",
       "<text text-anchor=\"middle\" x=\"261\" y=\"-612.3\" font-family=\"Times,serif\" font-size=\"14.00\">input:</text>\n",
       "<polyline fill=\"none\" stroke=\"black\" points=\"227,-604.5 295,-604.5 \"/>\n",
       "<text text-anchor=\"middle\" x=\"261\" y=\"-589.3\" font-family=\"Times,serif\" font-size=\"14.00\">output:</text>\n",
       "<polyline fill=\"none\" stroke=\"black\" points=\"295,-581.5 295,-627.5 \"/>\n",
       "<text text-anchor=\"middle\" x=\"359\" y=\"-612.3\" font-family=\"Times,serif\" font-size=\"14.00\">(None, 500, 30)</text>\n",
       "<polyline fill=\"none\" stroke=\"black\" points=\"295,-604.5 423,-604.5 \"/>\n",
       "<text text-anchor=\"middle\" x=\"359\" y=\"-589.3\" font-family=\"Times,serif\" font-size=\"14.00\">(None, 500, 30)</text>\n",
       "</g>\n",
       "<!-- 140473816393424&#45;&gt;140473772055088 -->\n",
       "<g id=\"edge2\" class=\"edge\">\n",
       "<title>140473816393424-&gt;140473772055088</title>\n",
       "<path fill=\"none\" stroke=\"black\" d=\"M231,-664.37C231,-656.15 231,-646.66 231,-637.73\"/>\n",
       "<polygon fill=\"black\" stroke=\"black\" points=\"234.5,-637.61 231,-627.61 227.5,-637.61 234.5,-637.61\"/>\n",
       "</g>\n",
       "<!-- 140473772054416 -->\n",
       "<g id=\"node4\" class=\"node\">\n",
       "<title>140473772054416</title>\n",
       "<polygon fill=\"none\" stroke=\"black\" points=\"77,-498.5 77,-544.5 385,-544.5 385,-498.5 77,-498.5\"/>\n",
       "<text text-anchor=\"middle\" x=\"133\" y=\"-517.8\" font-family=\"Times,serif\" font-size=\"14.00\">dense: Dense</text>\n",
       "<polyline fill=\"none\" stroke=\"black\" points=\"189,-498.5 189,-544.5 \"/>\n",
       "<text text-anchor=\"middle\" x=\"223\" y=\"-529.3\" font-family=\"Times,serif\" font-size=\"14.00\">input:</text>\n",
       "<polyline fill=\"none\" stroke=\"black\" points=\"189,-521.5 257,-521.5 \"/>\n",
       "<text text-anchor=\"middle\" x=\"223\" y=\"-506.3\" font-family=\"Times,serif\" font-size=\"14.00\">output:</text>\n",
       "<polyline fill=\"none\" stroke=\"black\" points=\"257,-498.5 257,-544.5 \"/>\n",
       "<text text-anchor=\"middle\" x=\"321\" y=\"-529.3\" font-family=\"Times,serif\" font-size=\"14.00\">(None, 500, 30)</text>\n",
       "<polyline fill=\"none\" stroke=\"black\" points=\"257,-521.5 385,-521.5 \"/>\n",
       "<text text-anchor=\"middle\" x=\"321\" y=\"-506.3\" font-family=\"Times,serif\" font-size=\"14.00\">(None, 500, 20)</text>\n",
       "</g>\n",
       "<!-- 140473772055088&#45;&gt;140473772054416 -->\n",
       "<g id=\"edge3\" class=\"edge\">\n",
       "<title>140473772055088-&gt;140473772054416</title>\n",
       "<path fill=\"none\" stroke=\"black\" d=\"M231,-581.37C231,-573.15 231,-563.66 231,-554.73\"/>\n",
       "<polygon fill=\"black\" stroke=\"black\" points=\"234.5,-554.61 231,-544.61 227.5,-554.61 234.5,-554.61\"/>\n",
       "</g>\n",
       "<!-- 140473772054320 -->\n",
       "<g id=\"node5\" class=\"node\">\n",
       "<title>140473772054320</title>\n",
       "<polygon fill=\"none\" stroke=\"black\" points=\"69,-415.5 69,-461.5 393,-461.5 393,-415.5 69,-415.5\"/>\n",
       "<text text-anchor=\"middle\" x=\"133\" y=\"-434.8\" font-family=\"Times,serif\" font-size=\"14.00\">dense_1: Dense</text>\n",
       "<polyline fill=\"none\" stroke=\"black\" points=\"197,-415.5 197,-461.5 \"/>\n",
       "<text text-anchor=\"middle\" x=\"231\" y=\"-446.3\" font-family=\"Times,serif\" font-size=\"14.00\">input:</text>\n",
       "<polyline fill=\"none\" stroke=\"black\" points=\"197,-438.5 265,-438.5 \"/>\n",
       "<text text-anchor=\"middle\" x=\"231\" y=\"-423.3\" font-family=\"Times,serif\" font-size=\"14.00\">output:</text>\n",
       "<polyline fill=\"none\" stroke=\"black\" points=\"265,-415.5 265,-461.5 \"/>\n",
       "<text text-anchor=\"middle\" x=\"329\" y=\"-446.3\" font-family=\"Times,serif\" font-size=\"14.00\">(None, 500, 20)</text>\n",
       "<polyline fill=\"none\" stroke=\"black\" points=\"265,-438.5 393,-438.5 \"/>\n",
       "<text text-anchor=\"middle\" x=\"329\" y=\"-423.3\" font-family=\"Times,serif\" font-size=\"14.00\">(None, 500, 10)</text>\n",
       "</g>\n",
       "<!-- 140473772054416&#45;&gt;140473772054320 -->\n",
       "<g id=\"edge4\" class=\"edge\">\n",
       "<title>140473772054416-&gt;140473772054320</title>\n",
       "<path fill=\"none\" stroke=\"black\" d=\"M231,-498.37C231,-490.15 231,-480.66 231,-471.73\"/>\n",
       "<polygon fill=\"black\" stroke=\"black\" points=\"234.5,-471.61 231,-461.61 227.5,-471.61 234.5,-471.61\"/>\n",
       "</g>\n",
       "<!-- 140473772055760 -->\n",
       "<g id=\"node6\" class=\"node\">\n",
       "<title>140473772055760</title>\n",
       "<polygon fill=\"none\" stroke=\"black\" points=\"65.5,-332.5 65.5,-378.5 396.5,-378.5 396.5,-332.5 65.5,-332.5\"/>\n",
       "<text text-anchor=\"middle\" x=\"133\" y=\"-351.8\" font-family=\"Times,serif\" font-size=\"14.00\">lambda: Lambda</text>\n",
       "<polyline fill=\"none\" stroke=\"black\" points=\"200.5,-332.5 200.5,-378.5 \"/>\n",
       "<text text-anchor=\"middle\" x=\"234.5\" y=\"-363.3\" font-family=\"Times,serif\" font-size=\"14.00\">input:</text>\n",
       "<polyline fill=\"none\" stroke=\"black\" points=\"200.5,-355.5 268.5,-355.5 \"/>\n",
       "<text text-anchor=\"middle\" x=\"234.5\" y=\"-340.3\" font-family=\"Times,serif\" font-size=\"14.00\">output:</text>\n",
       "<polyline fill=\"none\" stroke=\"black\" points=\"268.5,-332.5 268.5,-378.5 \"/>\n",
       "<text text-anchor=\"middle\" x=\"332.5\" y=\"-363.3\" font-family=\"Times,serif\" font-size=\"14.00\">(None, 500, 10)</text>\n",
       "<polyline fill=\"none\" stroke=\"black\" points=\"268.5,-355.5 396.5,-355.5 \"/>\n",
       "<text text-anchor=\"middle\" x=\"332.5\" y=\"-340.3\" font-family=\"Times,serif\" font-size=\"14.00\">(None, 10)</text>\n",
       "</g>\n",
       "<!-- 140473772054320&#45;&gt;140473772055760 -->\n",
       "<g id=\"edge5\" class=\"edge\">\n",
       "<title>140473772054320-&gt;140473772055760</title>\n",
       "<path fill=\"none\" stroke=\"black\" d=\"M231,-415.37C231,-407.15 231,-397.66 231,-388.73\"/>\n",
       "<polygon fill=\"black\" stroke=\"black\" points=\"234.5,-388.61 231,-378.61 227.5,-388.61 234.5,-388.61\"/>\n",
       "</g>\n",
       "<!-- 140473754381616 -->\n",
       "<g id=\"node7\" class=\"node\">\n",
       "<title>140473754381616</title>\n",
       "<polygon fill=\"none\" stroke=\"black\" points=\"87,-249.5 87,-295.5 375,-295.5 375,-249.5 87,-249.5\"/>\n",
       "<text text-anchor=\"middle\" x=\"151\" y=\"-268.8\" font-family=\"Times,serif\" font-size=\"14.00\">dense_2: Dense</text>\n",
       "<polyline fill=\"none\" stroke=\"black\" points=\"215,-249.5 215,-295.5 \"/>\n",
       "<text text-anchor=\"middle\" x=\"249\" y=\"-280.3\" font-family=\"Times,serif\" font-size=\"14.00\">input:</text>\n",
       "<polyline fill=\"none\" stroke=\"black\" points=\"215,-272.5 283,-272.5 \"/>\n",
       "<text text-anchor=\"middle\" x=\"249\" y=\"-257.3\" font-family=\"Times,serif\" font-size=\"14.00\">output:</text>\n",
       "<polyline fill=\"none\" stroke=\"black\" points=\"283,-249.5 283,-295.5 \"/>\n",
       "<text text-anchor=\"middle\" x=\"329\" y=\"-280.3\" font-family=\"Times,serif\" font-size=\"14.00\">(None, 10)</text>\n",
       "<polyline fill=\"none\" stroke=\"black\" points=\"283,-272.5 375,-272.5 \"/>\n",
       "<text text-anchor=\"middle\" x=\"329\" y=\"-257.3\" font-family=\"Times,serif\" font-size=\"14.00\">(None, 50)</text>\n",
       "</g>\n",
       "<!-- 140473772055760&#45;&gt;140473754381616 -->\n",
       "<g id=\"edge6\" class=\"edge\">\n",
       "<title>140473772055760-&gt;140473754381616</title>\n",
       "<path fill=\"none\" stroke=\"black\" d=\"M231,-332.37C231,-324.15 231,-314.66 231,-305.73\"/>\n",
       "<polygon fill=\"black\" stroke=\"black\" points=\"234.5,-305.61 231,-295.61 227.5,-305.61 234.5,-305.61\"/>\n",
       "</g>\n",
       "<!-- 140473754745392 -->\n",
       "<g id=\"node8\" class=\"node\">\n",
       "<title>140473754745392</title>\n",
       "<polygon fill=\"none\" stroke=\"black\" points=\"82.5,-166.5 82.5,-212.5 379.5,-212.5 379.5,-166.5 82.5,-166.5\"/>\n",
       "<text text-anchor=\"middle\" x=\"146.5\" y=\"-185.8\" font-family=\"Times,serif\" font-size=\"14.00\">dense_3: Dense</text>\n",
       "<polyline fill=\"none\" stroke=\"black\" points=\"210.5,-166.5 210.5,-212.5 \"/>\n",
       "<text text-anchor=\"middle\" x=\"244.5\" y=\"-197.3\" font-family=\"Times,serif\" font-size=\"14.00\">input:</text>\n",
       "<polyline fill=\"none\" stroke=\"black\" points=\"210.5,-189.5 278.5,-189.5 \"/>\n",
       "<text text-anchor=\"middle\" x=\"244.5\" y=\"-174.3\" font-family=\"Times,serif\" font-size=\"14.00\">output:</text>\n",
       "<polyline fill=\"none\" stroke=\"black\" points=\"278.5,-166.5 278.5,-212.5 \"/>\n",
       "<text text-anchor=\"middle\" x=\"329\" y=\"-197.3\" font-family=\"Times,serif\" font-size=\"14.00\">(None, 50)</text>\n",
       "<polyline fill=\"none\" stroke=\"black\" points=\"278.5,-189.5 379.5,-189.5 \"/>\n",
       "<text text-anchor=\"middle\" x=\"329\" y=\"-174.3\" font-family=\"Times,serif\" font-size=\"14.00\">(None, 100)</text>\n",
       "</g>\n",
       "<!-- 140473754381616&#45;&gt;140473754745392 -->\n",
       "<g id=\"edge7\" class=\"edge\">\n",
       "<title>140473754381616-&gt;140473754745392</title>\n",
       "<path fill=\"none\" stroke=\"black\" d=\"M231,-249.37C231,-241.15 231,-231.66 231,-222.73\"/>\n",
       "<polygon fill=\"black\" stroke=\"black\" points=\"234.5,-222.61 231,-212.61 227.5,-222.61 234.5,-222.61\"/>\n",
       "</g>\n",
       "<!-- 140473754744048 -->\n",
       "<g id=\"node9\" class=\"node\">\n",
       "<title>140473754744048</title>\n",
       "<polygon fill=\"none\" stroke=\"black\" points=\"82.5,-83.5 82.5,-129.5 379.5,-129.5 379.5,-83.5 82.5,-83.5\"/>\n",
       "<text text-anchor=\"middle\" x=\"146.5\" y=\"-102.8\" font-family=\"Times,serif\" font-size=\"14.00\">dense_4: Dense</text>\n",
       "<polyline fill=\"none\" stroke=\"black\" points=\"210.5,-83.5 210.5,-129.5 \"/>\n",
       "<text text-anchor=\"middle\" x=\"244.5\" y=\"-114.3\" font-family=\"Times,serif\" font-size=\"14.00\">input:</text>\n",
       "<polyline fill=\"none\" stroke=\"black\" points=\"210.5,-106.5 278.5,-106.5 \"/>\n",
       "<text text-anchor=\"middle\" x=\"244.5\" y=\"-91.3\" font-family=\"Times,serif\" font-size=\"14.00\">output:</text>\n",
       "<polyline fill=\"none\" stroke=\"black\" points=\"278.5,-83.5 278.5,-129.5 \"/>\n",
       "<text text-anchor=\"middle\" x=\"329\" y=\"-114.3\" font-family=\"Times,serif\" font-size=\"14.00\">(None, 100)</text>\n",
       "<polyline fill=\"none\" stroke=\"black\" points=\"278.5,-106.5 379.5,-106.5 \"/>\n",
       "<text text-anchor=\"middle\" x=\"329\" y=\"-91.3\" font-family=\"Times,serif\" font-size=\"14.00\">(None, 200)</text>\n",
       "</g>\n",
       "<!-- 140473754745392&#45;&gt;140473754744048 -->\n",
       "<g id=\"edge8\" class=\"edge\">\n",
       "<title>140473754745392-&gt;140473754744048</title>\n",
       "<path fill=\"none\" stroke=\"black\" d=\"M231,-166.37C231,-158.15 231,-148.66 231,-139.73\"/>\n",
       "<polygon fill=\"black\" stroke=\"black\" points=\"234.5,-139.61 231,-129.61 227.5,-139.61 234.5,-139.61\"/>\n",
       "</g>\n",
       "<!-- 140473754379792 -->\n",
       "<g id=\"node10\" class=\"node\">\n",
       "<title>140473754379792</title>\n",
       "<polygon fill=\"none\" stroke=\"black\" points=\"78,-0.5 78,-46.5 384,-46.5 384,-0.5 78,-0.5\"/>\n",
       "<text text-anchor=\"middle\" x=\"142\" y=\"-19.8\" font-family=\"Times,serif\" font-size=\"14.00\">dense_5: Dense</text>\n",
       "<polyline fill=\"none\" stroke=\"black\" points=\"206,-0.5 206,-46.5 \"/>\n",
       "<text text-anchor=\"middle\" x=\"240\" y=\"-31.3\" font-family=\"Times,serif\" font-size=\"14.00\">input:</text>\n",
       "<polyline fill=\"none\" stroke=\"black\" points=\"206,-23.5 274,-23.5 \"/>\n",
       "<text text-anchor=\"middle\" x=\"240\" y=\"-8.3\" font-family=\"Times,serif\" font-size=\"14.00\">output:</text>\n",
       "<polyline fill=\"none\" stroke=\"black\" points=\"274,-0.5 274,-46.5 \"/>\n",
       "<text text-anchor=\"middle\" x=\"329\" y=\"-31.3\" font-family=\"Times,serif\" font-size=\"14.00\">(None, 200)</text>\n",
       "<polyline fill=\"none\" stroke=\"black\" points=\"274,-23.5 384,-23.5 \"/>\n",
       "<text text-anchor=\"middle\" x=\"329\" y=\"-8.3\" font-family=\"Times,serif\" font-size=\"14.00\">(None, 2500)</text>\n",
       "</g>\n",
       "<!-- 140473754744048&#45;&gt;140473754379792 -->\n",
       "<g id=\"edge9\" class=\"edge\">\n",
       "<title>140473754744048-&gt;140473754379792</title>\n",
       "<path fill=\"none\" stroke=\"black\" d=\"M231,-83.37C231,-75.15 231,-65.66 231,-56.73\"/>\n",
       "<polygon fill=\"black\" stroke=\"black\" points=\"234.5,-56.61 231,-46.61 227.5,-56.61 234.5,-56.61\"/>\n",
       "</g>\n",
       "</g>\n",
       "</svg>"
      ],
      "text/plain": [
       "<IPython.core.display.SVG object>"
      ]
     },
     "execution_count": 12,
     "metadata": {},
     "output_type": "execute_result"
    }
   ],
   "source": [
    "model.summary()\n",
    "\n",
    "SVG(\n",
    "    tf.keras.utils.model_to_dot(model, show_shapes=True).create(prog='dot',\n",
    "                                                                format='svg'))\n",
    "                                                         \n",
    "#tf.keras.utils.plot_model(model,\n",
    "#                          to_file='Résultats/Résultats 2/model_multiple_circles.pdf',\n",
    "#                          show_shapes=True)"
   ]
  },
  {
   "cell_type": "markdown",
   "id": "a757a649",
   "metadata": {},
   "source": [
    "### Training the NN "
   ]
  },
  {
   "cell_type": "code",
   "execution_count": 43,
   "id": "08460984",
   "metadata": {
    "scrolled": true
   },
   "outputs": [
    {
     "name": "stdout",
     "output_type": "stream",
     "text": [
      "Epoch 1/100\n",
      "32/32 [==============================] - 0s 7ms/step - loss: 0.0021 - val_loss: 0.0025\n",
      "Epoch 2/100\n",
      "32/32 [==============================] - 0s 6ms/step - loss: 0.0019 - val_loss: 0.0024\n",
      "Epoch 3/100\n",
      "32/32 [==============================] - 0s 6ms/step - loss: 0.0020 - val_loss: 0.0025\n",
      "Epoch 4/100\n",
      "32/32 [==============================] - 0s 6ms/step - loss: 0.0019 - val_loss: 0.0030\n",
      "Epoch 5/100\n",
      "32/32 [==============================] - 0s 6ms/step - loss: 0.0019 - val_loss: 0.0029\n",
      "Epoch 6/100\n",
      "32/32 [==============================] - 0s 6ms/step - loss: 0.0020 - val_loss: 0.0030\n",
      "Epoch 7/100\n",
      "32/32 [==============================] - 0s 6ms/step - loss: 0.0020 - val_loss: 0.0023\n",
      "Epoch 8/100\n",
      "32/32 [==============================] - 0s 6ms/step - loss: 0.0019 - val_loss: 0.0032\n",
      "Epoch 9/100\n",
      "32/32 [==============================] - 0s 6ms/step - loss: 0.0021 - val_loss: 0.0023\n",
      "Epoch 10/100\n",
      "32/32 [==============================] - 0s 6ms/step - loss: 0.0019 - val_loss: 0.0022\n",
      "Epoch 11/100\n",
      "32/32 [==============================] - 0s 6ms/step - loss: 0.0020 - val_loss: 0.0026\n",
      "Epoch 12/100\n",
      "32/32 [==============================] - 0s 6ms/step - loss: 0.0021 - val_loss: 0.0024\n",
      "Epoch 13/100\n",
      "32/32 [==============================] - 0s 6ms/step - loss: 0.0020 - val_loss: 0.0023\n",
      "Epoch 14/100\n",
      "32/32 [==============================] - 0s 6ms/step - loss: 0.0019 - val_loss: 0.0022\n",
      "Epoch 15/100\n",
      "32/32 [==============================] - 0s 6ms/step - loss: 0.0018 - val_loss: 0.0024\n",
      "Epoch 16/100\n",
      "32/32 [==============================] - 0s 6ms/step - loss: 0.0021 - val_loss: 0.0024\n",
      "Epoch 17/100\n",
      "32/32 [==============================] - 0s 6ms/step - loss: 0.0018 - val_loss: 0.0022\n",
      "Epoch 18/100\n",
      "32/32 [==============================] - 0s 6ms/step - loss: 0.0019 - val_loss: 0.0022\n",
      "Epoch 19/100\n",
      "32/32 [==============================] - 0s 6ms/step - loss: 0.0018 - val_loss: 0.0022\n",
      "Epoch 20/100\n",
      "32/32 [==============================] - 0s 6ms/step - loss: 0.0018 - val_loss: 0.0024\n",
      "Epoch 21/100\n",
      "32/32 [==============================] - 0s 6ms/step - loss: 0.0018 - val_loss: 0.0022\n",
      "Epoch 22/100\n",
      "32/32 [==============================] - 0s 6ms/step - loss: 0.0018 - val_loss: 0.0021\n",
      "Epoch 23/100\n",
      "32/32 [==============================] - 0s 6ms/step - loss: 0.0018 - val_loss: 0.0021\n",
      "Epoch 24/100\n",
      "32/32 [==============================] - 0s 6ms/step - loss: 0.0017 - val_loss: 0.0022\n",
      "Epoch 25/100\n",
      "32/32 [==============================] - 0s 6ms/step - loss: 0.0018 - val_loss: 0.0022\n",
      "Epoch 26/100\n",
      "32/32 [==============================] - 0s 6ms/step - loss: 0.0018 - val_loss: 0.0023\n",
      "Epoch 27/100\n",
      "32/32 [==============================] - 0s 6ms/step - loss: 0.0018 - val_loss: 0.0023\n",
      "Epoch 28/100\n",
      "32/32 [==============================] - 0s 6ms/step - loss: 0.0018 - val_loss: 0.0021\n",
      "Epoch 29/100\n",
      "32/32 [==============================] - 0s 6ms/step - loss: 0.0018 - val_loss: 0.0021\n",
      "Epoch 30/100\n",
      "32/32 [==============================] - 0s 6ms/step - loss: 0.0018 - val_loss: 0.0021\n",
      "Epoch 31/100\n",
      "32/32 [==============================] - 0s 6ms/step - loss: 0.0018 - val_loss: 0.0021\n",
      "Epoch 32/100\n",
      "32/32 [==============================] - 0s 6ms/step - loss: 0.0018 - val_loss: 0.0025\n",
      "Epoch 33/100\n",
      "32/32 [==============================] - 0s 6ms/step - loss: 0.0017 - val_loss: 0.0022\n",
      "Epoch 34/100\n",
      "32/32 [==============================] - 0s 6ms/step - loss: 0.0018 - val_loss: 0.0020\n",
      "Epoch 35/100\n",
      "32/32 [==============================] - 0s 6ms/step - loss: 0.0017 - val_loss: 0.0023\n",
      "Epoch 36/100\n",
      "32/32 [==============================] - 0s 6ms/step - loss: 0.0018 - val_loss: 0.0024\n",
      "Epoch 37/100\n",
      "32/32 [==============================] - 0s 7ms/step - loss: 0.0018 - val_loss: 0.0025\n",
      "Epoch 38/100\n",
      "32/32 [==============================] - 0s 6ms/step - loss: 0.0017 - val_loss: 0.0020\n",
      "Epoch 39/100\n",
      "32/32 [==============================] - 0s 6ms/step - loss: 0.0017 - val_loss: 0.0022\n",
      "Epoch 40/100\n",
      "32/32 [==============================] - 0s 6ms/step - loss: 0.0017 - val_loss: 0.0019\n",
      "Epoch 41/100\n",
      "32/32 [==============================] - 0s 6ms/step - loss: 0.0017 - val_loss: 0.0019\n",
      "Epoch 42/100\n",
      "32/32 [==============================] - 0s 6ms/step - loss: 0.0016 - val_loss: 0.0025\n",
      "Epoch 43/100\n",
      "32/32 [==============================] - 0s 6ms/step - loss: 0.0017 - val_loss: 0.0020\n",
      "Epoch 44/100\n",
      "32/32 [==============================] - 0s 6ms/step - loss: 0.0017 - val_loss: 0.0020\n",
      "Epoch 45/100\n",
      "32/32 [==============================] - 0s 6ms/step - loss: 0.0017 - val_loss: 0.0020\n",
      "Epoch 46/100\n",
      "32/32 [==============================] - 0s 6ms/step - loss: 0.0017 - val_loss: 0.0023\n",
      "Epoch 47/100\n",
      "32/32 [==============================] - 0s 6ms/step - loss: 0.0018 - val_loss: 0.0020\n",
      "Epoch 48/100\n",
      "32/32 [==============================] - 0s 6ms/step - loss: 0.0016 - val_loss: 0.0019\n",
      "Epoch 49/100\n",
      "32/32 [==============================] - 0s 6ms/step - loss: 0.0015 - val_loss: 0.0019\n",
      "Epoch 50/100\n",
      "32/32 [==============================] - 0s 6ms/step - loss: 0.0016 - val_loss: 0.0020\n",
      "Epoch 51/100\n",
      "32/32 [==============================] - 0s 6ms/step - loss: 0.0016 - val_loss: 0.0021\n",
      "Epoch 52/100\n",
      "32/32 [==============================] - 0s 6ms/step - loss: 0.0017 - val_loss: 0.0019\n",
      "Epoch 53/100\n",
      "32/32 [==============================] - 0s 6ms/step - loss: 0.0016 - val_loss: 0.0024\n",
      "Epoch 54/100\n",
      "32/32 [==============================] - 0s 6ms/step - loss: 0.0016 - val_loss: 0.0021\n",
      "Epoch 55/100\n",
      "32/32 [==============================] - 0s 6ms/step - loss: 0.0016 - val_loss: 0.0018\n",
      "Epoch 56/100\n",
      "32/32 [==============================] - 0s 6ms/step - loss: 0.0015 - val_loss: 0.0018\n",
      "Epoch 57/100\n",
      "32/32 [==============================] - 0s 6ms/step - loss: 0.0016 - val_loss: 0.0018\n",
      "Epoch 58/100\n",
      "32/32 [==============================] - 0s 6ms/step - loss: 0.0015 - val_loss: 0.0017\n",
      "Epoch 59/100\n",
      "32/32 [==============================] - 0s 6ms/step - loss: 0.0015 - val_loss: 0.0018\n",
      "Epoch 60/100\n",
      "32/32 [==============================] - 0s 6ms/step - loss: 0.0015 - val_loss: 0.0018\n",
      "Epoch 61/100\n",
      "32/32 [==============================] - 0s 6ms/step - loss: 0.0017 - val_loss: 0.0017\n",
      "Epoch 62/100\n",
      "32/32 [==============================] - 0s 6ms/step - loss: 0.0015 - val_loss: 0.0018\n",
      "Epoch 63/100\n",
      "32/32 [==============================] - 0s 6ms/step - loss: 0.0014 - val_loss: 0.0018\n",
      "Epoch 64/100\n",
      "32/32 [==============================] - 0s 6ms/step - loss: 0.0014 - val_loss: 0.0018\n",
      "Epoch 65/100\n",
      "32/32 [==============================] - 0s 6ms/step - loss: 0.0014 - val_loss: 0.0017\n",
      "Epoch 66/100\n",
      "32/32 [==============================] - 0s 7ms/step - loss: 0.0014 - val_loss: 0.0018\n",
      "Epoch 67/100\n",
      "32/32 [==============================] - 0s 6ms/step - loss: 0.0015 - val_loss: 0.0016\n",
      "Epoch 68/100\n",
      "32/32 [==============================] - 0s 6ms/step - loss: 0.0014 - val_loss: 0.0016\n",
      "Epoch 69/100\n",
      "32/32 [==============================] - 0s 7ms/step - loss: 0.0014 - val_loss: 0.0016\n",
      "Epoch 70/100\n",
      "32/32 [==============================] - 0s 6ms/step - loss: 0.0014 - val_loss: 0.0016\n",
      "Epoch 71/100\n",
      "32/32 [==============================] - 0s 6ms/step - loss: 0.0014 - val_loss: 0.0016\n",
      "Epoch 72/100\n",
      "32/32 [==============================] - 0s 6ms/step - loss: 0.0014 - val_loss: 0.0017\n",
      "Epoch 73/100\n",
      "32/32 [==============================] - 0s 6ms/step - loss: 0.0014 - val_loss: 0.0018\n",
      "Epoch 74/100\n",
      "32/32 [==============================] - 0s 6ms/step - loss: 0.0014 - val_loss: 0.0020\n",
      "Epoch 75/100\n",
      "32/32 [==============================] - 0s 6ms/step - loss: 0.0016 - val_loss: 0.0016\n",
      "Epoch 76/100\n",
      "32/32 [==============================] - 0s 6ms/step - loss: 0.0015 - val_loss: 0.0021\n",
      "Epoch 77/100\n",
      "32/32 [==============================] - 0s 6ms/step - loss: 0.0016 - val_loss: 0.0016\n",
      "Epoch 78/100\n",
      "32/32 [==============================] - 0s 6ms/step - loss: 0.0014 - val_loss: 0.0024\n",
      "Epoch 79/100\n",
      "32/32 [==============================] - 0s 6ms/step - loss: 0.0014 - val_loss: 0.0017\n",
      "Epoch 80/100\n",
      "32/32 [==============================] - 0s 6ms/step - loss: 0.0015 - val_loss: 0.0020\n",
      "Epoch 81/100\n",
      "32/32 [==============================] - 0s 6ms/step - loss: 0.0014 - val_loss: 0.0015\n",
      "Epoch 82/100\n",
      "32/32 [==============================] - 0s 6ms/step - loss: 0.0013 - val_loss: 0.0016\n",
      "Epoch 83/100\n"
     ]
    },
    {
     "name": "stdout",
     "output_type": "stream",
     "text": [
      "32/32 [==============================] - 0s 6ms/step - loss: 0.0013 - val_loss: 0.0017\n",
      "Epoch 84/100\n",
      "32/32 [==============================] - 0s 6ms/step - loss: 0.0013 - val_loss: 0.0015\n",
      "Epoch 85/100\n",
      "32/32 [==============================] - 0s 7ms/step - loss: 0.0013 - val_loss: 0.0016\n",
      "Epoch 86/100\n",
      "32/32 [==============================] - 0s 6ms/step - loss: 0.0013 - val_loss: 0.0014\n",
      "Epoch 87/100\n",
      "32/32 [==============================] - 0s 6ms/step - loss: 0.0013 - val_loss: 0.0016\n",
      "Epoch 88/100\n",
      "32/32 [==============================] - 0s 6ms/step - loss: 0.0014 - val_loss: 0.0018\n",
      "Epoch 89/100\n",
      "32/32 [==============================] - 0s 6ms/step - loss: 0.0013 - val_loss: 0.0016\n",
      "Epoch 90/100\n",
      "32/32 [==============================] - 0s 6ms/step - loss: 0.0014 - val_loss: 0.0020\n",
      "Epoch 91/100\n",
      "32/32 [==============================] - 0s 6ms/step - loss: 0.0014 - val_loss: 0.0016\n",
      "Epoch 92/100\n",
      "32/32 [==============================] - 0s 6ms/step - loss: 0.0013 - val_loss: 0.0023\n",
      "Epoch 93/100\n",
      "32/32 [==============================] - 0s 6ms/step - loss: 0.0014 - val_loss: 0.0017\n",
      "Epoch 94/100\n",
      "32/32 [==============================] - 0s 6ms/step - loss: 0.0015 - val_loss: 0.0015\n",
      "Epoch 95/100\n",
      "32/32 [==============================] - 0s 6ms/step - loss: 0.0013 - val_loss: 0.0021\n",
      "Epoch 96/100\n",
      "32/32 [==============================] - 0s 6ms/step - loss: 0.0013 - val_loss: 0.0016\n",
      "Epoch 97/100\n",
      "32/32 [==============================] - 0s 6ms/step - loss: 0.0014 - val_loss: 0.0014\n",
      "Epoch 98/100\n",
      "32/32 [==============================] - 0s 6ms/step - loss: 0.0013 - val_loss: 0.0014\n",
      "Epoch 99/100\n",
      "32/32 [==============================] - 0s 6ms/step - loss: 0.0015 - val_loss: 0.0024\n",
      "Epoch 100/100\n",
      "32/32 [==============================] - 0s 5ms/step - loss: 0.0015 - val_loss: 0.0018\n"
     ]
    }
   ],
   "source": [
    "history = model.fit(new_data_train,\n",
    "                    PI_train,\n",
    "                    epochs=100,\n",
    "                    validation_data=(new_data_test, PI_test))\n"
   ]
  },
  {
   "cell_type": "markdown",
   "id": "01918823",
   "metadata": {},
   "source": [
    "We can save the model"
   ]
  },
  {
   "cell_type": "code",
   "execution_count": 46,
   "id": "cc8060a3",
   "metadata": {
    "scrolled": true
   },
   "outputs": [
    {
     "name": "stdout",
     "output_type": "stream",
     "text": [
      "INFO:tensorflow:Assets written to: Saved_Model/model_withney_embedding_dynamical_syst/assets\n"
     ]
    }
   ],
   "source": [
    "model.save('Saved_Model/model_withney_embedding_dynamical_syst')"
   ]
  },
  {
   "cell_type": "markdown",
   "id": "c18c8e35",
   "metadata": {},
   "source": [
    "### Study the results to see how the training went "
   ]
  },
  {
   "cell_type": "code",
   "execution_count": 44,
   "id": "69ec82ae",
   "metadata": {
    "scrolled": false
   },
   "outputs": [],
   "source": [
    "prediction = model.predict(new_data_test)"
   ]
  },
  {
   "cell_type": "code",
   "execution_count": 45,
   "id": "4d278a13",
   "metadata": {},
   "outputs": [
    {
     "data": {
      "image/png": "[encoded data removed]",
      "text/plain": [
       "<Figure size 432x288 with 18 Axes>"
      ]
     },
     "metadata": {
      "needs_background": "light"
     },
     "output_type": "display_data"
    }
   ],
   "source": [
    "for i in range(9):\n",
    "    plt.subplot(3, 3, i + 1)\n",
    "    plt.imshow(np.flip(np.reshape(prediction[20 + i], [PI_size, PI_size]), 0),\n",
    "               vmin=0,\n",
    "               vmax=1,\n",
    "               cmap='jet')\n",
    "    plt.colorbar()\n",
    "    \n",
    "plt.suptitle('The corresponding predicted PI')\n",
    "#plt.savefig(\"Résultats/Résultats 3/withney_predicted.pdf\")"
   ]
  },
  {
   "cell_type": "code",
   "execution_count": 39,
   "id": "e4a3f593",
   "metadata": {},
   "outputs": [
    {
     "data": {
      "image/png": "[encoded data removed]",
      "text/plain": [
       "<Figure size 432x288 with 18 Axes>"
      ]
     },
     "metadata": {
      "needs_background": "light"
     },
     "output_type": "display_data"
    }
   ],
   "source": [
    "for i in range(9):\n",
    "    plt.subplot(3, 3, i + 1)\n",
    "    plt.imshow(np.flip(np.reshape(PI_test[20 + i], [PI_size, PI_size]), 0),\n",
    "               vmin=0,\n",
    "               vmax=1,\n",
    "               cmap='jet')\n",
    "    plt.colorbar()\n",
    "\n",
    "plt.suptitle('The corresponding true PI')\n",
    "#plt.savefig(\"Résultats/Résultats 3/withney_true.pdf\")"
   ]
  },
  {
   "cell_type": "code",
   "execution_count": 61,
   "id": "8259569a",
   "metadata": {},
   "outputs": [
    {
     "data": {
      "image/png": "[encoded data removed]",
      "text/plain": [
       "<Figure size 432x288 with 9 Axes>"
      ]
     },
     "metadata": {
      "needs_background": "light"
     },
     "output_type": "display_data"
    }
   ],
   "source": [
    "for i in range(9):\n",
    "    plt.subplot(3, 3, i + 1)\n",
    "    plt.scatter(data_test[20 + i, :, 0], data_test[20 + i, :, 1], s=3)\n",
    "\n",
    "plt.suptitle('The corresponding point cloud')\n",
    "#plt.savefig(\"Résultats/Résultats 2/multiple_circles.pdf\")"
   ]
  },
  {
   "cell_type": "markdown",
   "id": "ff94042a",
   "metadata": {},
   "source": [
    "### Plot of the evolution of the loss"
   ]
  },
  {
   "cell_type": "code",
   "execution_count": 58,
   "id": "29e02166",
   "metadata": {
    "scrolled": true
   },
   "outputs": [
    {
     "name": "stdout",
     "output_type": "stream",
     "text": [
      "4/4 [==============================] - 0s 3ms/step - loss: 0.0061\n"
     ]
    }
   ],
   "source": [
    "loss = model.evaluate(new_data_test, PI_test, verbose=1)"
   ]
  },
  {
   "cell_type": "code",
   "execution_count": 56,
   "id": "339836de",
   "metadata": {},
   "outputs": [
    {
     "data": {
      "image/png": "[encoded data removed]",
      "text/plain": [
       "<Figure size 432x288 with 1 Axes>"
      ]
     },
     "metadata": {
      "needs_background": "light"
     },
     "output_type": "display_data"
    }
   ],
   "source": [
    "history_dict = history.history\n",
    "\n",
    "loss = history_dict['loss']\n",
    "val_loss = history_dict['val_loss']\n",
    "\n",
    "epochs = range(1, len(loss) + 1)\n",
    "\n",
    "# \"bo\" is for \"blue dot\"\n",
    "plt.plot(epochs[:], loss[:], 'bo', label='Training loss')\n",
    "# b is for \"solid blue line\"\n",
    "plt.plot(epochs[:], val_loss[:], 'b', label='Validation loss')\n",
    "plt.title('Training and validation loss')\n",
    "plt.xlabel('Epochs')\n",
    "plt.ylabel('Loss')\n",
    "plt.legend()\n",
    "\n",
    "#plt.savefig(\"Résultats/Résultats 2/training_loss.pdf\")\n",
    "plt.show()"
   ]
  }
 ],
 "metadata": {
  "kernelspec": {
   "display_name": "Python 3 (ipykernel)",
   "language": "python",
   "name": "python3"
  },
  "language_info": {
   "codemirror_mode": {
    "name": "ipython",
    "version": 3
   },
   "file_extension": ".py",
   "mimetype": "text/x-python",
   "name": "python",
   "nbconvert_exporter": "python",
   "pygments_lexer": "ipython3",
   "version": "3.8.10"
  }
 },
 "nbformat": 4,
 "nbformat_minor": 5
}
