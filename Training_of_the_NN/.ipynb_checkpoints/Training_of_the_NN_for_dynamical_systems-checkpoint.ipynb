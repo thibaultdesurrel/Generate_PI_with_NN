{
 "cells": [
  {
   "cell_type": "markdown",
   "id": "87e76a08",
   "metadata": {},
   "source": [
    "# Persistence Images using ML for dynamical systems"
   ]
  },
  {
   "cell_type": "markdown",
   "id": "c4c7c52e",
   "metadata": {},
   "source": [
    "This notebook is the definition and the training of the NN that predicts PI for the dynamical systems "
   ]
  },
  {
   "cell_type": "code",
   "execution_count": null,
   "id": "edd65fd7",
   "metadata": {},
   "outputs": [],
   "source": [
    "import matplotlib.pyplot as plt\n",
    "import numpy as np\n",
    "\n",
    "import tensorflow as tf\n",
    "from IPython.display import SVG\n",
    "\n",
    "import gudhi as gd\n",
    "import gudhi.representations\n",
    "\n",
    "from tqdm import tqdm\n",
    "import os"
   ]
  },
  {
   "cell_type": "markdown",
   "id": "8b5b74f0",
   "metadata": {},
   "source": [
    "### Load the data"
   ]
  },
  {
   "cell_type": "code",
   "execution_count": null,
   "id": "136617d9",
   "metadata": {},
   "outputs": [],
   "source": [
    "#data = np.load('data/PI_data_multiple_circle.npz')\n",
    "data = np.load('data/PI_data_10000_dynamical_alpha.npz')\n",
    "\n",
    "data_train = data[\"data_train\"]\n",
    "PI_train = data[\"PI_train\"]\n",
    "data_test = data[\"data_test\"]\n",
    "PI_test = data[\"PI_test\"]"
   ]
  },
  {
   "cell_type": "code",
   "execution_count": null,
   "id": "4ebe6050",
   "metadata": {},
   "outputs": [],
   "source": [
    "N_sets_train = data_train.shape[0]\n",
    "N_sets_test = data_test.shape[0]\n",
    "N_points = data_train.shape[1]\n",
    "PI_size = int(np.sqrt(PI_train.shape[1]))\n",
    "dim = 2"
   ]
  },
  {
   "cell_type": "code",
   "execution_count": null,
   "id": "97654626",
   "metadata": {},
   "outputs": [],
   "source": [
    "print(\"N_sets_train : \", N_sets_train)\n",
    "print(\"N_sets_test : \", N_sets_test)\n",
    "print(\"N_points : \", N_points)\n",
    "print(\"PI_size : \", PI_size)"
   ]
  },
  {
   "cell_type": "markdown",
   "id": "a768fe87",
   "metadata": {},
   "source": [
    "We normalize the PIs"
   ]
  },
  {
   "cell_type": "code",
   "execution_count": null,
   "id": "2fd51477",
   "metadata": {},
   "outputs": [],
   "source": [
    "PI_train /= max(np.max(PI_train), np.max(PI_test))\n",
    "PI_test /= max(np.max(PI_test), np.max(PI_test))"
   ]
  },
  {
   "cell_type": "markdown",
   "id": "8c07647a",
   "metadata": {},
   "source": [
    "### Definiton of the NN"
   ]
  },
  {
   "cell_type": "code",
   "execution_count": null,
   "id": "57932e4a",
   "metadata": {},
   "outputs": [],
   "source": [
    "class FullyConnected2(tf.keras.layers.Layer):\n",
    "    def __init__(self, N_input, N_output):\n",
    "        super(FullyConnected2, self).__init__()\n",
    "        self.gamma = self.add_weight(name='gamma',\n",
    "                                     shape=(N_input, N_output),\n",
    "                                     initializer=\"random_normal\",\n",
    "                                     trainable=True)\n",
    "\n",
    "    def call(self, inputs):\n",
    "        return tf.einsum(\"ijk,kl->ijl\", inputs, self.gamma)"
   ]
  },
  {
   "cell_type": "code",
   "execution_count": null,
   "id": "e6406ec5",
   "metadata": {},
   "outputs": [],
   "source": [
    "#V2\n",
    "\n",
    "inputs = tf.keras.Input(shape=(N_points, dim))\n",
    "\n",
    "#x = tf.keras.layers.Dense(30, activation='relu')(inputs)\n",
    "\n",
    "FC_layer_2_30 = FullyConnected2(dim, 30)\n",
    "x = FC_layer_2_30(inputs)\n",
    "x = tf.keras.activations.relu(x)\n",
    "\n",
    "#x = tf.keras.layers.Dense(35, activation='relu')(x)\n",
    "\n",
    "\n",
    "x = tf.keras.layers.Dense(20, activation='relu')(x)\n",
    "#FC_layer_30_20 = FullyConnected2(30, 20)\n",
    "#x = FC_layer_30_20(x)\n",
    "#x = tf.keras.activations.relu(x)\n",
    "\n",
    "x = tf.keras.layers.Dense(10, activation='relu')(x)\n",
    "#FC_layer_20_10 = FullyConnected2(20, 10)\n",
    "#x = FC_layer_20_10(x)\n",
    "#x = tf.keras.activations.relu(x)\n",
    "\n",
    "Adder = tf.keras.layers.Lambda(lambda x: tf.math.reduce_sum(x, axis=1),\n",
    "                               output_shape=(lambda shape:\n",
    "                                             (shape[0], shape[2])))\n",
    "x = Adder(x)\n",
    "#x = tf.keras.activations.relu(x)\n",
    "\n",
    "#x = tf.keras.layers.Dense(25, activation='relu')(x)\n",
    "\n",
    "#x = tf.keras.layers.Dense(50, activation='relu')(x)\n",
    "\n",
    "#x = tf.keras.layers.Dense(100, activation='relu')(x)\n",
    "\n",
    "#x = tf.keras.layers.Dense(200, activation='relu')(x)\n",
    "\n",
    "outputs = tf.keras.layers.Dense(PI_size * PI_size, activation='sigmoid')(x)\n",
    "model = tf.keras.Model(inputs=inputs, outputs=outputs)\n",
    "adam = tf.keras.optimizers.Adamax(learning_rate=5e-3)  #5e-3 learning_rate optimal d'après moi\n",
    "model.compile(optimizer=adam, loss=\"mse\")  #contrastive_loss"
   ]
  },
  {
   "cell_type": "code",
   "execution_count": null,
   "id": "6b246a35",
   "metadata": {},
   "outputs": [],
   "source": [
    "model.summary()\n",
    "\n",
    "SVG(\n",
    "    tf.keras.utils.model_to_dot(model, show_shapes=True).create(prog='dot',\n",
    "                                                                format='svg'))\n",
    "                                                         \n",
    "#tf.keras.utils.plot_model(model,\n",
    "#                          to_file='Résultats/Résultats 2/model_multiple_circles.pdf',\n",
    "#                          show_shapes=True)"
   ]
  },
  {
   "cell_type": "markdown",
   "id": "a757a649",
   "metadata": {},
   "source": [
    "### Train the model "
   ]
  },
  {
   "cell_type": "code",
   "execution_count": null,
   "id": "08460984",
   "metadata": {
    "scrolled": true
   },
   "outputs": [],
   "source": [
    "history = model.fit(data_train[:1000],\n",
    "                    PI_train[:1000],\n",
    "                    epochs=100,\n",
    "                    validation_data=(data_test, PI_test))"
   ]
  },
  {
   "cell_type": "markdown",
   "id": "4a33d6ac",
   "metadata": {},
   "source": [
    "We can save the model"
   ]
  },
  {
   "cell_type": "code",
   "execution_count": null,
   "id": "cc8060a3",
   "metadata": {},
   "outputs": [],
   "source": [
    "model.save('Saved_Model/model_2_multiple_cricles')"
   ]
  },
  {
   "cell_type": "markdown",
   "id": "906a4738",
   "metadata": {},
   "source": [
    "### Study the results to see how the training went "
   ]
  },
  {
   "cell_type": "code",
   "execution_count": null,
   "id": "69ec82ae",
   "metadata": {
    "scrolled": false
   },
   "outputs": [],
   "source": [
    "prediction = model.predict(data_test)"
   ]
  },
  {
   "cell_type": "code",
   "execution_count": null,
   "id": "94b7b5fc",
   "metadata": {},
   "outputs": [],
   "source": [
    "for i in range(9):\n",
    "    plt.subplot(3, 3, i + 1)\n",
    "    plt.scatter(data_test[i, :, 0], data_test[i, :, 1], s=3)\n",
    "\n",
    "plt.suptitle('The orbits')\n",
    "#plt.savefig(\"Résultats/Résultats 2/multiple_circles.pdf\")"
   ]
  },
  {
   "cell_type": "code",
   "execution_count": null,
   "id": "4d278a13",
   "metadata": {},
   "outputs": [],
   "source": [
    "for i in range(9):\n",
    "    plt.subplot(3, 3, i + 1)\n",
    "    plt.imshow(np.flip(np.reshape(prediction[i], [PI_size, PI_size]), 0),\n",
    "               vmin=0,\n",
    "               vmax=1,\n",
    "               cmap='jet')\n",
    "    plt.colorbar()\n",
    "    \n",
    "plt.suptitle('The corresponding predicted PI')\n",
    "\n",
    "#plt.savefig(\"Résultats/Résultats 2/multiple_circles_predicted.pdf\")"
   ]
  },
  {
   "cell_type": "code",
   "execution_count": null,
   "id": "e4a3f593",
   "metadata": {},
   "outputs": [],
   "source": [
    "for i in range(9):\n",
    "    plt.subplot(3, 3, i + 1)\n",
    "    plt.imshow(np.flip(np.reshape(PI_test[i], [PI_size, PI_size]), 0),\n",
    "               vmin=0,\n",
    "               vmax=1,\n",
    "               cmap='jet')\n",
    "    plt.colorbar()\n",
    "plt.suptitle('The corresponding true PI')\n",
    "\n",
    "#plt.savefig(\"Résultats/Résultats 2/multiple_circles_true.pdf\")"
   ]
  },
  {
   "cell_type": "markdown",
   "id": "ff94042a",
   "metadata": {},
   "source": [
    "### Evaluation of the model and plot of the evolution of the loss "
   ]
  },
  {
   "cell_type": "markdown",
   "id": "0bc8e271",
   "metadata": {},
   "source": [
    "MSE on the test data"
   ]
  },
  {
   "cell_type": "code",
   "execution_count": null,
   "id": "34ea55a3",
   "metadata": {},
   "outputs": [],
   "source": [
    "(np.square(prediction - PI_test)).mean(axis=None)"
   ]
  },
  {
   "cell_type": "code",
   "execution_count": null,
   "id": "29e02166",
   "metadata": {
    "scrolled": true
   },
   "outputs": [],
   "source": [
    "loss = model.evaluate(data_test, PI_test, verbose=1)"
   ]
  },
  {
   "cell_type": "markdown",
   "id": "250bc123",
   "metadata": {},
   "source": [
    "Plot of the evolution of the loss"
   ]
  },
  {
   "cell_type": "code",
   "execution_count": null,
   "id": "339836de",
   "metadata": {},
   "outputs": [],
   "source": [
    "history_dict = history.history\n",
    "\n",
    "loss = history_dict['loss']\n",
    "val_loss = history_dict['val_loss']\n",
    "\n",
    "epochs = range(1, len(loss) + 1)\n",
    "\n",
    "# \"bo\" is for \"blue dot\"\n",
    "plt.plot(epochs[:], loss[:], 'bo', label='Training loss')\n",
    "# b is for \"solid blue line\"\n",
    "plt.plot(epochs[:], val_loss[:], 'b', label='Validation loss')\n",
    "plt.title('Training and validation loss')\n",
    "plt.xlabel('Epochs')\n",
    "plt.ylabel('Loss')\n",
    "plt.legend()\n",
    "\n",
    "#plt.savefig(\"Résultats/Résultats 2/training_loss.pdf\")\n",
    "plt.show()"
   ]
  },
  {
   "cell_type": "markdown",
   "id": "fc352c09",
   "metadata": {},
   "source": [
    "## Classifier"
   ]
  },
  {
   "cell_type": "code",
   "execution_count": null,
   "id": "9aa574d1",
   "metadata": {},
   "outputs": [],
   "source": [
    "data = np.load('data/PI_data_1000_dynamical_classif.npz')\n",
    "\n",
    "label_classif_train = data[\"label_train\"]\n",
    "data_train_classif = data[\"data_train\"]\n",
    "label_classif_test = data[\"label_test\"]\n",
    "data_test_classif = data[\"data_test\"]"
   ]
  },
  {
   "cell_type": "code",
   "execution_count": null,
   "id": "39c05d8a",
   "metadata": {},
   "outputs": [],
   "source": [
    "inputs = tf.keras.Input(shape=(PI_size * PI_size))\n",
    "\n",
    "x = tf.keras.layers.Dense(50, activation='relu')(inputs)\n",
    "outputs = tf.keras.layers.Dense(2)(x)\n",
    "\n",
    "model_classif = tf.keras.Model(inputs=inputs, outputs=outputs)\n",
    "model_classif.compile(\n",
    "    optimizer='adam',\n",
    "    loss=tf.keras.losses.SparseCategoricalCrossentropy(from_logits=True),\n",
    "    metrics=['accuracy'])\n"
   ]
  },
  {
   "cell_type": "code",
   "execution_count": null,
   "id": "653c7a18",
   "metadata": {},
   "outputs": [],
   "source": [
    "PI_train_classif = model.predict(data_train_classif)\n",
    "PI_test_classif = model.predict(data_test_classif)"
   ]
  },
  {
   "cell_type": "code",
   "execution_count": null,
   "id": "7b6acb8e",
   "metadata": {},
   "outputs": [],
   "source": [
    "history_classif = model_classif.fit(PI_train_classif,\n",
    "                                  label_classif_train,\n",
    "                                  epochs=100,\n",
    "                                  validation_data=(PI_test_classif, label_classif_test))"
   ]
  },
  {
   "cell_type": "code",
   "execution_count": null,
   "id": "4a36e3d4",
   "metadata": {},
   "outputs": [],
   "source": [
    "test_loss, test_acc = model_classif.evaluate(PI_test_classif,\n",
    "                                                label_classif_test,\n",
    "                                                verbose=2)\n",
    "\n",
    "print('\\nTest accuracy:', test_acc)"
   ]
  },
  {
   "cell_type": "markdown",
   "id": "9508bac6",
   "metadata": {},
   "source": [
    "Accuracy of the classifier trained on Gudhi : 97%\n",
    "\n",
    "\n",
    "| Number of point clouds for training \t| Accuracy \t|\n",
    "|:-----------------------------------:\t|:--------:\t|\n",
    "|                 500                 \t|   46%    \t|\n",
    "|                 750                 \t|   71%    \t|\n",
    "|                 850                 \t|   73%    \t|\n",
    "|                 1000                 \t|   80%    \t|\n",
    "|                 1500                 \t|   78%    \t|\n",
    "|                 2000                 \t|      100%    \t|\n",
    "|                 2500                 \t|      99%    \t|\n",
    "|                 3000                 \t|     100%     \t|\n",
    "|                 5000                \t|    100%   |"
   ]
  },
  {
   "cell_type": "code",
   "execution_count": null,
   "id": "778c0c37",
   "metadata": {},
   "outputs": [],
   "source": [
    "acc = [46,71,73,80,78,100,99,100]\n",
    "number_sets = [500,750,850,1000,1500,2000,2500,3000]\n",
    "\n",
    "plt.plot(number_sets,acc,'o-')\n",
    "plt.title(\"Accuracy of the classifier depending on the number of training sets\")\n",
    "plt.ylabel(\"acc. of the classifier\")\n",
    "plt.xlabel(\"Number of point cloud used for training\")\n",
    "\n",
    "plt.annotate(\"46.0\", # this is the text\n",
    "                 (500,46), # this is the point to label\n",
    "                 textcoords=\"offset points\", # how to position the text\n",
    "                 xytext=(11,0), # distance from text to points (x,y)\n",
    "                 ha='left') # horizontal alignment can be left, right or center\n",
    "\n",
    "plt.annotate(\"71.0\", # this is the text\n",
    "                 (750,71), # this is the point to label\n",
    "                 textcoords=\"offset points\", # how to position the text\n",
    "                 xytext=(-27,-3), # distance from text to points (x,y)\n",
    "                 ha='left') # horizontal alignment can be left, right or center\n",
    "\n",
    "\n",
    "\n",
    "\n",
    "for x,y in zip(number_sets[2:],acc[2:]):\n",
    "\n",
    "    label = \"{:.1f}\".format(y)\n",
    "\n",
    "    plt.annotate(label, # this is the text\n",
    "                 (x,y), # this is the point to label\n",
    "                 textcoords=\"offset points\", # how to position the text\n",
    "                 xytext=(-5,-14), # distance from text to points (x,y)\n",
    "                 ha='left') # horizontal alignment can be left, right or center\n",
    "\n",
    "plt.savefig(\"Résultats/Résultats 4/acc_number_training_set_syst_dyn.pdf\")\n"
   ]
  }
 ],
 "metadata": {
  "kernelspec": {
   "display_name": "Python 3 (ipykernel)",
   "language": "python",
   "name": "python3"
  },
  "language_info": {
   "codemirror_mode": {
    "name": "ipython",
    "version": 3
   },
   "file_extension": ".py",
   "mimetype": "text/x-python",
   "name": "python",
   "nbconvert_exporter": "python",
   "pygments_lexer": "ipython3",
   "version": "3.8.10"
  }
 },
 "nbformat": 4,
 "nbformat_minor": 5
}
