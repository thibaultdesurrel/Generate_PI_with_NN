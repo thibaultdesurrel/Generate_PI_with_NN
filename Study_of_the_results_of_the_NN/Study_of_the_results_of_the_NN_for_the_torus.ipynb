{
 "cells": [
  {
   "cell_type": "markdown",
   "id": "c0627c39",
   "metadata": {},
   "source": [
    "# Study of the results of the NN for the torus"
   ]
  },
  {
   "cell_type": "markdown",
   "id": "a27231d4",
   "metadata": {},
   "source": [
    "This notebook studies the results of the NN trained to predict PI from the torus dataset. \n",
    "   1. We compare the regression results between a classifier trained on real PIs and trained on predicted PIs.\n",
    "   2. we look at the p-values of the Kolmogorov-Smirnov test on each pixels,\n",
    "   "
   ]
  },
  {
   "cell_type": "markdown",
   "id": "ae715e17",
   "metadata": {},
   "source": [
    "---"
   ]
  },
  {
   "cell_type": "code",
   "execution_count": 1,
   "id": "8403d472",
   "metadata": {},
   "outputs": [],
   "source": [
    "import matplotlib.pyplot as plt\n",
    "import numpy as np\n",
    "\n",
    "import tensorflow as tf\n",
    "from IPython.display import SVG\n",
    "\n",
    "import gudhi as gd\n",
    "import gudhi.representations\n",
    "\n",
    "from tqdm import tqdm\n",
    "from time import time\n",
    "\n",
    "from scipy.stats import ks_2samp\n",
    "from sklearn.metrics import r2_score\n"
   ]
  },
  {
   "cell_type": "markdown",
   "id": "4032c238",
   "metadata": {},
   "source": [
    "### Load the NN"
   ]
  },
  {
   "cell_type": "code",
   "execution_count": 2,
   "id": "ccadde6f",
   "metadata": {},
   "outputs": [
    {
     "name": "stdout",
     "output_type": "stream",
     "text": [
      "Model: \"model_4\"\n",
      "_________________________________________________________________\n",
      "Layer (type)                 Output Shape              Param #   \n",
      "=================================================================\n",
      "input_5 (InputLayer)         [(None, 500, 3)]          0         \n",
      "_________________________________________________________________\n",
      "fully_connected2_4 (FullyCon (None, 500, 50)           150       \n",
      "_________________________________________________________________\n",
      "tf.nn.relu_4 (TFOpLambda)    (None, 500, 50)           0         \n",
      "_________________________________________________________________\n",
      "dense_27 (Dense)             (None, 500, 35)           1785      \n",
      "_________________________________________________________________\n",
      "dense_28 (Dense)             (None, 500, 20)           720       \n",
      "_________________________________________________________________\n",
      "dense_29 (Dense)             (None, 500, 10)           210       \n",
      "_________________________________________________________________\n",
      "lambda_4 (Lambda)            (None, 10)                0         \n",
      "_________________________________________________________________\n",
      "dense_30 (Dense)             (None, 50)                550       \n",
      "_________________________________________________________________\n",
      "dense_31 (Dense)             (None, 100)               5100      \n",
      "_________________________________________________________________\n",
      "dense_32 (Dense)             (None, 200)               20200     \n",
      "_________________________________________________________________\n",
      "dense_33 (Dense)             (None, 2500)              502500    \n",
      "=================================================================\n",
      "Total params: 531,215\n",
      "Trainable params: 531,215\n",
      "Non-trainable params: 0\n",
      "_________________________________________________________________\n"
     ]
    },
    {
     "data": {
      "image/svg+xml": [
       "<svg xmlns=\"http://www.w3.org/2000/svg\" xmlns:xlink=\"http://www.w3.org/1999/xlink\" width=\"648pt\" height=\"1180pt\" viewBox=\"0.00 0.00 486.00 885.00\">\n",
       "<g id=\"graph0\" class=\"graph\" transform=\"scale(0.75 0.75) rotate(0) translate(4 881)\">\n",
       "<title>G</title>\n",
       "<polygon fill=\"white\" stroke=\"transparent\" points=\"-4,4 -4,-881 482,-881 482,4 -4,4\"/>\n",
       "<!-- 139804759362432 -->\n",
       "<g id=\"node1\" class=\"node\">\n",
       "<title>139804759362432</title>\n",
       "<polygon fill=\"none\" stroke=\"black\" points=\"61.5,-830.5 61.5,-876.5 416.5,-876.5 416.5,-830.5 61.5,-830.5\"/>\n",
       "<text text-anchor=\"middle\" x=\"140.5\" y=\"-849.8\" font-family=\"Times,serif\" font-size=\"14.00\">input_5: InputLayer</text>\n",
       "<polyline fill=\"none\" stroke=\"black\" points=\"219.5,-830.5 219.5,-876.5 \"/>\n",
       "<text text-anchor=\"middle\" x=\"253.5\" y=\"-861.3\" font-family=\"Times,serif\" font-size=\"14.00\">input:</text>\n",
       "<polyline fill=\"none\" stroke=\"black\" points=\"219.5,-853.5 287.5,-853.5 \"/>\n",
       "<text text-anchor=\"middle\" x=\"253.5\" y=\"-838.3\" font-family=\"Times,serif\" font-size=\"14.00\">output:</text>\n",
       "<polyline fill=\"none\" stroke=\"black\" points=\"287.5,-830.5 287.5,-876.5 \"/>\n",
       "<text text-anchor=\"middle\" x=\"352\" y=\"-861.3\" font-family=\"Times,serif\" font-size=\"14.00\">[(None, 500, 3)]</text>\n",
       "<polyline fill=\"none\" stroke=\"black\" points=\"287.5,-853.5 416.5,-853.5 \"/>\n",
       "<text text-anchor=\"middle\" x=\"352\" y=\"-838.3\" font-family=\"Times,serif\" font-size=\"14.00\">[(None, 500, 3)]</text>\n",
       "</g>\n",
       "<!-- 139804759360464 -->\n",
       "<g id=\"node2\" class=\"node\">\n",
       "<title>139804759360464</title>\n",
       "<polygon fill=\"none\" stroke=\"black\" points=\"0,-747.5 0,-793.5 478,-793.5 478,-747.5 0,-747.5\"/>\n",
       "<text text-anchor=\"middle\" x=\"141\" y=\"-766.8\" font-family=\"Times,serif\" font-size=\"14.00\">fully_connected2_4: FullyConnected2</text>\n",
       "<polyline fill=\"none\" stroke=\"black\" points=\"282,-747.5 282,-793.5 \"/>\n",
       "<text text-anchor=\"middle\" x=\"316\" y=\"-778.3\" font-family=\"Times,serif\" font-size=\"14.00\">input:</text>\n",
       "<polyline fill=\"none\" stroke=\"black\" points=\"282,-770.5 350,-770.5 \"/>\n",
       "<text text-anchor=\"middle\" x=\"316\" y=\"-755.3\" font-family=\"Times,serif\" font-size=\"14.00\">output:</text>\n",
       "<polyline fill=\"none\" stroke=\"black\" points=\"350,-747.5 350,-793.5 \"/>\n",
       "<text text-anchor=\"middle\" x=\"414\" y=\"-778.3\" font-family=\"Times,serif\" font-size=\"14.00\">(None, 500, 3)</text>\n",
       "<polyline fill=\"none\" stroke=\"black\" points=\"350,-770.5 478,-770.5 \"/>\n",
       "<text text-anchor=\"middle\" x=\"414\" y=\"-755.3\" font-family=\"Times,serif\" font-size=\"14.00\">(None, 500, 50)</text>\n",
       "</g>\n",
       "<!-- 139804759362432&#45;&gt;139804759360464 -->\n",
       "<g id=\"edge1\" class=\"edge\">\n",
       "<title>139804759362432-&gt;139804759360464</title>\n",
       "<path fill=\"none\" stroke=\"black\" d=\"M239,-830.37C239,-822.15 239,-812.66 239,-803.73\"/>\n",
       "<polygon fill=\"black\" stroke=\"black\" points=\"242.5,-803.61 239,-793.61 235.5,-803.61 242.5,-803.61\"/>\n",
       "</g>\n",
       "<!-- 139804616254128 -->\n",
       "<g id=\"node3\" class=\"node\">\n",
       "<title>139804616254128</title>\n",
       "<polygon fill=\"none\" stroke=\"black\" points=\"39,-664.5 39,-710.5 439,-710.5 439,-664.5 39,-664.5\"/>\n",
       "<text text-anchor=\"middle\" x=\"141\" y=\"-683.8\" font-family=\"Times,serif\" font-size=\"14.00\">tf.nn.relu_4: TFOpLambda</text>\n",
       "<polyline fill=\"none\" stroke=\"black\" points=\"243,-664.5 243,-710.5 \"/>\n",
       "<text text-anchor=\"middle\" x=\"277\" y=\"-695.3\" font-family=\"Times,serif\" font-size=\"14.00\">input:</text>\n",
       "<polyline fill=\"none\" stroke=\"black\" points=\"243,-687.5 311,-687.5 \"/>\n",
       "<text text-anchor=\"middle\" x=\"277\" y=\"-672.3\" font-family=\"Times,serif\" font-size=\"14.00\">output:</text>\n",
       "<polyline fill=\"none\" stroke=\"black\" points=\"311,-664.5 311,-710.5 \"/>\n",
       "<text text-anchor=\"middle\" x=\"375\" y=\"-695.3\" font-family=\"Times,serif\" font-size=\"14.00\">(None, 500, 50)</text>\n",
       "<polyline fill=\"none\" stroke=\"black\" points=\"311,-687.5 439,-687.5 \"/>\n",
       "<text text-anchor=\"middle\" x=\"375\" y=\"-672.3\" font-family=\"Times,serif\" font-size=\"14.00\">(None, 500, 50)</text>\n",
       "</g>\n",
       "<!-- 139804759360464&#45;&gt;139804616254128 -->\n",
       "<g id=\"edge2\" class=\"edge\">\n",
       "<title>139804759360464-&gt;139804616254128</title>\n",
       "<path fill=\"none\" stroke=\"black\" d=\"M239,-747.37C239,-739.15 239,-729.66 239,-720.73\"/>\n",
       "<polygon fill=\"black\" stroke=\"black\" points=\"242.5,-720.61 239,-710.61 235.5,-720.61 242.5,-720.61\"/>\n",
       "</g>\n",
       "<!-- 139804616254848 -->\n",
       "<g id=\"node4\" class=\"node\">\n",
       "<title>139804616254848</title>\n",
       "<polygon fill=\"none\" stroke=\"black\" points=\"72.5,-581.5 72.5,-627.5 405.5,-627.5 405.5,-581.5 72.5,-581.5\"/>\n",
       "<text text-anchor=\"middle\" x=\"141\" y=\"-600.8\" font-family=\"Times,serif\" font-size=\"14.00\">dense_27: Dense</text>\n",
       "<polyline fill=\"none\" stroke=\"black\" points=\"209.5,-581.5 209.5,-627.5 \"/>\n",
       "<text text-anchor=\"middle\" x=\"243.5\" y=\"-612.3\" font-family=\"Times,serif\" font-size=\"14.00\">input:</text>\n",
       "<polyline fill=\"none\" stroke=\"black\" points=\"209.5,-604.5 277.5,-604.5 \"/>\n",
       "<text text-anchor=\"middle\" x=\"243.5\" y=\"-589.3\" font-family=\"Times,serif\" font-size=\"14.00\">output:</text>\n",
       "<polyline fill=\"none\" stroke=\"black\" points=\"277.5,-581.5 277.5,-627.5 \"/>\n",
       "<text text-anchor=\"middle\" x=\"341.5\" y=\"-612.3\" font-family=\"Times,serif\" font-size=\"14.00\">(None, 500, 50)</text>\n",
       "<polyline fill=\"none\" stroke=\"black\" points=\"277.5,-604.5 405.5,-604.5 \"/>\n",
       "<text text-anchor=\"middle\" x=\"341.5\" y=\"-589.3\" font-family=\"Times,serif\" font-size=\"14.00\">(None, 500, 35)</text>\n",
       "</g>\n",
       "<!-- 139804616254128&#45;&gt;139804616254848 -->\n",
       "<g id=\"edge3\" class=\"edge\">\n",
       "<title>139804616254128-&gt;139804616254848</title>\n",
       "<path fill=\"none\" stroke=\"black\" d=\"M239,-664.37C239,-656.15 239,-646.66 239,-637.73\"/>\n",
       "<polygon fill=\"black\" stroke=\"black\" points=\"242.5,-637.61 239,-627.61 235.5,-637.61 242.5,-637.61\"/>\n",
       "</g>\n",
       "<!-- 139804616256096 -->\n",
       "<g id=\"node5\" class=\"node\">\n",
       "<title>139804616256096</title>\n",
       "<polygon fill=\"none\" stroke=\"black\" points=\"72.5,-498.5 72.5,-544.5 405.5,-544.5 405.5,-498.5 72.5,-498.5\"/>\n",
       "<text text-anchor=\"middle\" x=\"141\" y=\"-517.8\" font-family=\"Times,serif\" font-size=\"14.00\">dense_28: Dense</text>\n",
       "<polyline fill=\"none\" stroke=\"black\" points=\"209.5,-498.5 209.5,-544.5 \"/>\n",
       "<text text-anchor=\"middle\" x=\"243.5\" y=\"-529.3\" font-family=\"Times,serif\" font-size=\"14.00\">input:</text>\n",
       "<polyline fill=\"none\" stroke=\"black\" points=\"209.5,-521.5 277.5,-521.5 \"/>\n",
       "<text text-anchor=\"middle\" x=\"243.5\" y=\"-506.3\" font-family=\"Times,serif\" font-size=\"14.00\">output:</text>\n",
       "<polyline fill=\"none\" stroke=\"black\" points=\"277.5,-498.5 277.5,-544.5 \"/>\n",
       "<text text-anchor=\"middle\" x=\"341.5\" y=\"-529.3\" font-family=\"Times,serif\" font-size=\"14.00\">(None, 500, 35)</text>\n",
       "<polyline fill=\"none\" stroke=\"black\" points=\"277.5,-521.5 405.5,-521.5 \"/>\n",
       "<text text-anchor=\"middle\" x=\"341.5\" y=\"-506.3\" font-family=\"Times,serif\" font-size=\"14.00\">(None, 500, 20)</text>\n",
       "</g>\n",
       "<!-- 139804616254848&#45;&gt;139804616256096 -->\n",
       "<g id=\"edge4\" class=\"edge\">\n",
       "<title>139804616254848-&gt;139804616256096</title>\n",
       "<path fill=\"none\" stroke=\"black\" d=\"M239,-581.37C239,-573.15 239,-563.66 239,-554.73\"/>\n",
       "<polygon fill=\"black\" stroke=\"black\" points=\"242.5,-554.61 239,-544.61 235.5,-554.61 242.5,-554.61\"/>\n",
       "</g>\n",
       "<!-- 139804615729504 -->\n",
       "<g id=\"node6\" class=\"node\">\n",
       "<title>139804615729504</title>\n",
       "<polygon fill=\"none\" stroke=\"black\" points=\"72.5,-415.5 72.5,-461.5 405.5,-461.5 405.5,-415.5 72.5,-415.5\"/>\n",
       "<text text-anchor=\"middle\" x=\"141\" y=\"-434.8\" font-family=\"Times,serif\" font-size=\"14.00\">dense_29: Dense</text>\n",
       "<polyline fill=\"none\" stroke=\"black\" points=\"209.5,-415.5 209.5,-461.5 \"/>\n",
       "<text text-anchor=\"middle\" x=\"243.5\" y=\"-446.3\" font-family=\"Times,serif\" font-size=\"14.00\">input:</text>\n",
       "<polyline fill=\"none\" stroke=\"black\" points=\"209.5,-438.5 277.5,-438.5 \"/>\n",
       "<text text-anchor=\"middle\" x=\"243.5\" y=\"-423.3\" font-family=\"Times,serif\" font-size=\"14.00\">output:</text>\n",
       "<polyline fill=\"none\" stroke=\"black\" points=\"277.5,-415.5 277.5,-461.5 \"/>\n",
       "<text text-anchor=\"middle\" x=\"341.5\" y=\"-446.3\" font-family=\"Times,serif\" font-size=\"14.00\">(None, 500, 20)</text>\n",
       "<polyline fill=\"none\" stroke=\"black\" points=\"277.5,-438.5 405.5,-438.5 \"/>\n",
       "<text text-anchor=\"middle\" x=\"341.5\" y=\"-423.3\" font-family=\"Times,serif\" font-size=\"14.00\">(None, 500, 10)</text>\n",
       "</g>\n",
       "<!-- 139804616256096&#45;&gt;139804615729504 -->\n",
       "<g id=\"edge5\" class=\"edge\">\n",
       "<title>139804616256096-&gt;139804615729504</title>\n",
       "<path fill=\"none\" stroke=\"black\" d=\"M239,-498.37C239,-490.15 239,-480.66 239,-471.73\"/>\n",
       "<polygon fill=\"black\" stroke=\"black\" points=\"242.5,-471.61 239,-461.61 235.5,-471.61 242.5,-471.61\"/>\n",
       "</g>\n",
       "<!-- 139804615730800 -->\n",
       "<g id=\"node7\" class=\"node\">\n",
       "<title>139804615730800</title>\n",
       "<polygon fill=\"none\" stroke=\"black\" points=\"65.5,-332.5 65.5,-378.5 412.5,-378.5 412.5,-332.5 65.5,-332.5\"/>\n",
       "<text text-anchor=\"middle\" x=\"141\" y=\"-351.8\" font-family=\"Times,serif\" font-size=\"14.00\">lambda_4: Lambda</text>\n",
       "<polyline fill=\"none\" stroke=\"black\" points=\"216.5,-332.5 216.5,-378.5 \"/>\n",
       "<text text-anchor=\"middle\" x=\"250.5\" y=\"-363.3\" font-family=\"Times,serif\" font-size=\"14.00\">input:</text>\n",
       "<polyline fill=\"none\" stroke=\"black\" points=\"216.5,-355.5 284.5,-355.5 \"/>\n",
       "<text text-anchor=\"middle\" x=\"250.5\" y=\"-340.3\" font-family=\"Times,serif\" font-size=\"14.00\">output:</text>\n",
       "<polyline fill=\"none\" stroke=\"black\" points=\"284.5,-332.5 284.5,-378.5 \"/>\n",
       "<text text-anchor=\"middle\" x=\"348.5\" y=\"-363.3\" font-family=\"Times,serif\" font-size=\"14.00\">(None, 500, 10)</text>\n",
       "<polyline fill=\"none\" stroke=\"black\" points=\"284.5,-355.5 412.5,-355.5 \"/>\n",
       "<text text-anchor=\"middle\" x=\"348.5\" y=\"-340.3\" font-family=\"Times,serif\" font-size=\"14.00\">(None, 10)</text>\n",
       "</g>\n",
       "<!-- 139804615729504&#45;&gt;139804615730800 -->\n",
       "<g id=\"edge6\" class=\"edge\">\n",
       "<title>139804615729504-&gt;139804615730800</title>\n",
       "<path fill=\"none\" stroke=\"black\" d=\"M239,-415.37C239,-407.15 239,-397.66 239,-388.73\"/>\n",
       "<polygon fill=\"black\" stroke=\"black\" points=\"242.5,-388.61 239,-378.61 235.5,-388.61 242.5,-388.61\"/>\n",
       "</g>\n",
       "<!-- 139804615732096 -->\n",
       "<g id=\"node8\" class=\"node\">\n",
       "<title>139804615732096</title>\n",
       "<polygon fill=\"none\" stroke=\"black\" points=\"90.5,-249.5 90.5,-295.5 387.5,-295.5 387.5,-249.5 90.5,-249.5\"/>\n",
       "<text text-anchor=\"middle\" x=\"159\" y=\"-268.8\" font-family=\"Times,serif\" font-size=\"14.00\">dense_30: Dense</text>\n",
       "<polyline fill=\"none\" stroke=\"black\" points=\"227.5,-249.5 227.5,-295.5 \"/>\n",
       "<text text-anchor=\"middle\" x=\"261.5\" y=\"-280.3\" font-family=\"Times,serif\" font-size=\"14.00\">input:</text>\n",
       "<polyline fill=\"none\" stroke=\"black\" points=\"227.5,-272.5 295.5,-272.5 \"/>\n",
       "<text text-anchor=\"middle\" x=\"261.5\" y=\"-257.3\" font-family=\"Times,serif\" font-size=\"14.00\">output:</text>\n",
       "<polyline fill=\"none\" stroke=\"black\" points=\"295.5,-249.5 295.5,-295.5 \"/>\n",
       "<text text-anchor=\"middle\" x=\"341.5\" y=\"-280.3\" font-family=\"Times,serif\" font-size=\"14.00\">(None, 10)</text>\n",
       "<polyline fill=\"none\" stroke=\"black\" points=\"295.5,-272.5 387.5,-272.5 \"/>\n",
       "<text text-anchor=\"middle\" x=\"341.5\" y=\"-257.3\" font-family=\"Times,serif\" font-size=\"14.00\">(None, 50)</text>\n",
       "</g>\n",
       "<!-- 139804615730800&#45;&gt;139804615732096 -->\n",
       "<g id=\"edge7\" class=\"edge\">\n",
       "<title>139804615730800-&gt;139804615732096</title>\n",
       "<path fill=\"none\" stroke=\"black\" d=\"M239,-332.37C239,-324.15 239,-314.66 239,-305.73\"/>\n",
       "<polygon fill=\"black\" stroke=\"black\" points=\"242.5,-305.61 239,-295.61 235.5,-305.61 242.5,-305.61\"/>\n",
       "</g>\n",
       "<!-- 139804615778992 -->\n",
       "<g id=\"node9\" class=\"node\">\n",
       "<title>139804615778992</title>\n",
       "<polygon fill=\"none\" stroke=\"black\" points=\"86,-166.5 86,-212.5 392,-212.5 392,-166.5 86,-166.5\"/>\n",
       "<text text-anchor=\"middle\" x=\"154.5\" y=\"-185.8\" font-family=\"Times,serif\" font-size=\"14.00\">dense_31: Dense</text>\n",
       "<polyline fill=\"none\" stroke=\"black\" points=\"223,-166.5 223,-212.5 \"/>\n",
       "<text text-anchor=\"middle\" x=\"257\" y=\"-197.3\" font-family=\"Times,serif\" font-size=\"14.00\">input:</text>\n",
       "<polyline fill=\"none\" stroke=\"black\" points=\"223,-189.5 291,-189.5 \"/>\n",
       "<text text-anchor=\"middle\" x=\"257\" y=\"-174.3\" font-family=\"Times,serif\" font-size=\"14.00\">output:</text>\n",
       "<polyline fill=\"none\" stroke=\"black\" points=\"291,-166.5 291,-212.5 \"/>\n",
       "<text text-anchor=\"middle\" x=\"341.5\" y=\"-197.3\" font-family=\"Times,serif\" font-size=\"14.00\">(None, 50)</text>\n",
       "<polyline fill=\"none\" stroke=\"black\" points=\"291,-189.5 392,-189.5 \"/>\n",
       "<text text-anchor=\"middle\" x=\"341.5\" y=\"-174.3\" font-family=\"Times,serif\" font-size=\"14.00\">(None, 100)</text>\n",
       "</g>\n",
       "<!-- 139804615732096&#45;&gt;139804615778992 -->\n",
       "<g id=\"edge8\" class=\"edge\">\n",
       "<title>139804615732096-&gt;139804615778992</title>\n",
       "<path fill=\"none\" stroke=\"black\" d=\"M239,-249.37C239,-241.15 239,-231.66 239,-222.73\"/>\n",
       "<polygon fill=\"black\" stroke=\"black\" points=\"242.5,-222.61 239,-212.61 235.5,-222.61 242.5,-222.61\"/>\n",
       "</g>\n",
       "<!-- 139804615780480 -->\n",
       "<g id=\"node10\" class=\"node\">\n",
       "<title>139804615780480</title>\n",
       "<polygon fill=\"none\" stroke=\"black\" points=\"86,-83.5 86,-129.5 392,-129.5 392,-83.5 86,-83.5\"/>\n",
       "<text text-anchor=\"middle\" x=\"154.5\" y=\"-102.8\" font-family=\"Times,serif\" font-size=\"14.00\">dense_32: Dense</text>\n",
       "<polyline fill=\"none\" stroke=\"black\" points=\"223,-83.5 223,-129.5 \"/>\n",
       "<text text-anchor=\"middle\" x=\"257\" y=\"-114.3\" font-family=\"Times,serif\" font-size=\"14.00\">input:</text>\n",
       "<polyline fill=\"none\" stroke=\"black\" points=\"223,-106.5 291,-106.5 \"/>\n",
       "<text text-anchor=\"middle\" x=\"257\" y=\"-91.3\" font-family=\"Times,serif\" font-size=\"14.00\">output:</text>\n",
       "<polyline fill=\"none\" stroke=\"black\" points=\"291,-83.5 291,-129.5 \"/>\n",
       "<text text-anchor=\"middle\" x=\"341.5\" y=\"-114.3\" font-family=\"Times,serif\" font-size=\"14.00\">(None, 100)</text>\n",
       "<polyline fill=\"none\" stroke=\"black\" points=\"291,-106.5 392,-106.5 \"/>\n",
       "<text text-anchor=\"middle\" x=\"341.5\" y=\"-91.3\" font-family=\"Times,serif\" font-size=\"14.00\">(None, 200)</text>\n",
       "</g>\n",
       "<!-- 139804615778992&#45;&gt;139804615780480 -->\n",
       "<g id=\"edge9\" class=\"edge\">\n",
       "<title>139804615778992-&gt;139804615780480</title>\n",
       "<path fill=\"none\" stroke=\"black\" d=\"M239,-166.37C239,-158.15 239,-148.66 239,-139.73\"/>\n",
       "<polygon fill=\"black\" stroke=\"black\" points=\"242.5,-139.61 239,-129.61 235.5,-139.61 242.5,-139.61\"/>\n",
       "</g>\n",
       "<!-- 139804615781968 -->\n",
       "<g id=\"node11\" class=\"node\">\n",
       "<title>139804615781968</title>\n",
       "<polygon fill=\"none\" stroke=\"black\" points=\"81.5,-0.5 81.5,-46.5 396.5,-46.5 396.5,-0.5 81.5,-0.5\"/>\n",
       "<text text-anchor=\"middle\" x=\"150\" y=\"-19.8\" font-family=\"Times,serif\" font-size=\"14.00\">dense_33: Dense</text>\n",
       "<polyline fill=\"none\" stroke=\"black\" points=\"218.5,-0.5 218.5,-46.5 \"/>\n",
       "<text text-anchor=\"middle\" x=\"252.5\" y=\"-31.3\" font-family=\"Times,serif\" font-size=\"14.00\">input:</text>\n",
       "<polyline fill=\"none\" stroke=\"black\" points=\"218.5,-23.5 286.5,-23.5 \"/>\n",
       "<text text-anchor=\"middle\" x=\"252.5\" y=\"-8.3\" font-family=\"Times,serif\" font-size=\"14.00\">output:</text>\n",
       "<polyline fill=\"none\" stroke=\"black\" points=\"286.5,-0.5 286.5,-46.5 \"/>\n",
       "<text text-anchor=\"middle\" x=\"341.5\" y=\"-31.3\" font-family=\"Times,serif\" font-size=\"14.00\">(None, 200)</text>\n",
       "<polyline fill=\"none\" stroke=\"black\" points=\"286.5,-23.5 396.5,-23.5 \"/>\n",
       "<text text-anchor=\"middle\" x=\"341.5\" y=\"-8.3\" font-family=\"Times,serif\" font-size=\"14.00\">(None, 2500)</text>\n",
       "</g>\n",
       "<!-- 139804615780480&#45;&gt;139804615781968 -->\n",
       "<g id=\"edge10\" class=\"edge\">\n",
       "<title>139804615780480-&gt;139804615781968</title>\n",
       "<path fill=\"none\" stroke=\"black\" d=\"M239,-83.37C239,-75.15 239,-65.66 239,-56.73\"/>\n",
       "<polygon fill=\"black\" stroke=\"black\" points=\"242.5,-56.61 239,-46.61 235.5,-56.61 242.5,-56.61\"/>\n",
       "</g>\n",
       "</g>\n",
       "</svg>"
      ],
      "text/plain": [
       "<IPython.core.display.SVG object>"
      ]
     },
     "execution_count": 2,
     "metadata": {},
     "output_type": "execute_result"
    }
   ],
   "source": [
    "model_PI = tf.keras.models.load_model('../Trained_NN/model_torus/')\n",
    "model_PI.summary()\n",
    "\n",
    "SVG(\n",
    "    tf.keras.utils.model_to_dot(model_PI,\n",
    "                                show_shapes=True).create(prog='dot',\n",
    "                                                         format='svg'))\n",
    "#tf.keras.utils.plot_model(model_PI,\n",
    "#to_file='dot_img_file.pdf',\n",
    "#show_shapes=True,\n",
    "#rankdir='LR')"
   ]
  },
  {
   "cell_type": "markdown",
   "id": "17d599f3",
   "metadata": {},
   "source": [
    "## Regression"
   ]
  },
  {
   "cell_type": "markdown",
   "id": "b3ad30e2",
   "metadata": {},
   "source": [
    "We first load the data that will be used as training and testing data for the regression for the radii."
   ]
  },
  {
   "cell_type": "code",
   "execution_count": 3,
   "id": "f0529801",
   "metadata": {},
   "outputs": [],
   "source": [
    "data = np.load('data/PI_data_torus_reg.npz')\n",
    "\n",
    "#data = np.load('PI_data_1000_dynamical_alpha.npz')\n",
    "\n",
    "data_train = data[\"data_train\"]\n",
    "r_train_gudhi = data[\"r_train\"]\n",
    "R_train_gudhi = data[\"R_train\"]\n",
    "PI_train_gudhi = data[\"PI_train\"]\n",
    "\n",
    "data_test = data[\"data_test\"]\n",
    "r_test_gudhi = data[\"r_test\"]\n",
    "R_test_gudhi = data[\"R_test\"]\n",
    "PI_test_gudhi = data[\"PI_test\"]\n",
    "\n",
    "PI_train_gudhi /= max(np.max(PI_train_gudhi), np.max(PI_test_gudhi))\n",
    "PI_test_gudhi /= max(np.max(PI_train_gudhi), np.max(PI_test_gudhi))"
   ]
  },
  {
   "cell_type": "code",
   "execution_count": 4,
   "id": "652a3e02",
   "metadata": {},
   "outputs": [],
   "source": [
    "N_sets_train = r_train_gudhi.shape[0]\n",
    "N_sets_test = r_test_gudhi.shape[0]\n",
    "PI_size = int(np.sqrt(PI_train_gudhi.shape[1]))\n",
    "N_points = data_train.shape[1]"
   ]
  },
  {
   "cell_type": "code",
   "execution_count": 5,
   "id": "95f21564",
   "metadata": {},
   "outputs": [
    {
     "name": "stdout",
     "output_type": "stream",
     "text": [
      "N_sets_train :  2000\n",
      "N_sets_test :  200\n",
      "PI_size :  50\n"
     ]
    }
   ],
   "source": [
    "print(\"N_sets_train : \", N_sets_train)\n",
    "print(\"N_sets_test : \", N_sets_test)\n",
    "print(\"PI_size : \", PI_size)"
   ]
  },
  {
   "cell_type": "code",
   "execution_count": 6,
   "id": "663929a2",
   "metadata": {},
   "outputs": [],
   "source": [
    "radii_train = np.stack((r_train_gudhi,R_train_gudhi),1)\n",
    "radii_test = np.stack((r_test_gudhi,R_test_gudhi),1)"
   ]
  },
  {
   "cell_type": "markdown",
   "id": "216c4e37",
   "metadata": {},
   "source": [
    "We want to compare the regression results between the true PIs and the predited PIs. For that, we create 2 models : ```model_reg_NN``` will be trained with the PI computed by the NN and ```model_reg_gudhi``` will be trained with the PI computed by Gudhi. We will then compare their accuracy on new data."
   ]
  },
  {
   "cell_type": "code",
   "execution_count": 7,
   "id": "180381df",
   "metadata": {},
   "outputs": [],
   "source": [
    "def create_model():\n",
    "    inputs = tf.keras.Input(shape=(PI_size * PI_size))\n",
    "\n",
    "    x = tf.keras.layers.Dense(100, activation='relu')(inputs)\n",
    "\n",
    "    x = tf.keras.layers.Dense(50, activation='relu')(x)\n",
    "\n",
    "    outputs = tf.keras.layers.Dense(2)(x)\n",
    "\n",
    "    model_reg = tf.keras.Model(inputs=inputs, outputs=outputs)\n",
    "    model_reg.compile(loss=\"mean_squared_error\" , optimizer=\"adam\", metrics=[\"mean_squared_error\"])\n",
    "    return model_reg"
   ]
  },
  {
   "cell_type": "code",
   "execution_count": 9,
   "id": "f39d1694",
   "metadata": {},
   "outputs": [
    {
     "name": "stdout",
     "output_type": "stream",
     "text": [
      "Model: \"model\"\n",
      "_________________________________________________________________\n",
      "Layer (type)                 Output Shape              Param #   \n",
      "=================================================================\n",
      "input_1 (InputLayer)         [(None, 2500)]            0         \n",
      "_________________________________________________________________\n",
      "dense (Dense)                (None, 100)               250100    \n",
      "_________________________________________________________________\n",
      "dense_1 (Dense)              (None, 50)                5050      \n",
      "_________________________________________________________________\n",
      "dense_2 (Dense)              (None, 2)                 102       \n",
      "=================================================================\n",
      "Total params: 255,252\n",
      "Trainable params: 255,252\n",
      "Non-trainable params: 0\n",
      "_________________________________________________________________\n"
     ]
    }
   ],
   "source": [
    "model_reg_NN = create_model()\n",
    "model_reg_gudhi = create_model()\n",
    "\n",
    "model_reg_NN.summary()\n"
   ]
  },
  {
   "cell_type": "markdown",
   "id": "0a94cf93",
   "metadata": {},
   "source": [
    "### Fit the regression model ```model_regression_gudhi```"
   ]
  },
  {
   "cell_type": "code",
   "execution_count": 10,
   "id": "17695531",
   "metadata": {
    "scrolled": true
   },
   "outputs": [
    {
     "name": "stdout",
     "output_type": "stream",
     "text": [
      "Epoch 1/100\n",
      "63/63 [==============================] - 1s 4ms/step - loss: 2.2473 - mean_squared_error: 2.2473 - val_loss: 0.3058 - val_mean_squared_error: 0.3058\n",
      "Epoch 2/100\n",
      "63/63 [==============================] - 0s 2ms/step - loss: 0.1413 - mean_squared_error: 0.1413 - val_loss: 0.3116 - val_mean_squared_error: 0.3116\n",
      "Epoch 3/100\n",
      "63/63 [==============================] - 0s 2ms/step - loss: 0.0931 - mean_squared_error: 0.0931 - val_loss: 0.3129 - val_mean_squared_error: 0.3129\n",
      "Epoch 4/100\n",
      "63/63 [==============================] - 0s 2ms/step - loss: 0.0645 - mean_squared_error: 0.0645 - val_loss: 0.2282 - val_mean_squared_error: 0.2282\n",
      "Epoch 5/100\n",
      "63/63 [==============================] - 0s 2ms/step - loss: 0.0458 - mean_squared_error: 0.0458 - val_loss: 0.2301 - val_mean_squared_error: 0.2301\n",
      "Epoch 6/100\n",
      "63/63 [==============================] - 0s 2ms/step - loss: 0.0372 - mean_squared_error: 0.0372 - val_loss: 0.2152 - val_mean_squared_error: 0.2152\n",
      "Epoch 7/100\n",
      "63/63 [==============================] - 0s 2ms/step - loss: 0.0305 - mean_squared_error: 0.0305 - val_loss: 0.2274 - val_mean_squared_error: 0.2274\n",
      "Epoch 8/100\n",
      "63/63 [==============================] - 0s 2ms/step - loss: 0.0271 - mean_squared_error: 0.0271 - val_loss: 0.2074 - val_mean_squared_error: 0.2074\n",
      "Epoch 9/100\n",
      "63/63 [==============================] - 0s 2ms/step - loss: 0.0240 - mean_squared_error: 0.0240 - val_loss: 0.2008 - val_mean_squared_error: 0.2008\n",
      "Epoch 10/100\n",
      "63/63 [==============================] - 0s 2ms/step - loss: 0.0212 - mean_squared_error: 0.0212 - val_loss: 0.1970 - val_mean_squared_error: 0.1970\n",
      "Epoch 11/100\n",
      "63/63 [==============================] - 0s 2ms/step - loss: 0.0191 - mean_squared_error: 0.0191 - val_loss: 0.2269 - val_mean_squared_error: 0.2269\n",
      "Epoch 12/100\n",
      "63/63 [==============================] - 0s 2ms/step - loss: 0.0177 - mean_squared_error: 0.0177 - val_loss: 0.2210 - val_mean_squared_error: 0.2210\n",
      "Epoch 13/100\n",
      "63/63 [==============================] - 0s 2ms/step - loss: 0.0163 - mean_squared_error: 0.0163 - val_loss: 0.1881 - val_mean_squared_error: 0.1881\n",
      "Epoch 14/100\n",
      "63/63 [==============================] - 0s 2ms/step - loss: 0.0157 - mean_squared_error: 0.0157 - val_loss: 0.2298 - val_mean_squared_error: 0.2298\n",
      "Epoch 15/100\n",
      "63/63 [==============================] - 0s 2ms/step - loss: 0.0144 - mean_squared_error: 0.0144 - val_loss: 0.1987 - val_mean_squared_error: 0.1987\n",
      "Epoch 16/100\n",
      "63/63 [==============================] - 0s 2ms/step - loss: 0.0128 - mean_squared_error: 0.0128 - val_loss: 0.2005 - val_mean_squared_error: 0.2005\n",
      "Epoch 17/100\n",
      "63/63 [==============================] - 0s 2ms/step - loss: 0.0122 - mean_squared_error: 0.0122 - val_loss: 0.1804 - val_mean_squared_error: 0.1804\n",
      "Epoch 18/100\n",
      "63/63 [==============================] - 0s 2ms/step - loss: 0.0124 - mean_squared_error: 0.0124 - val_loss: 0.1726 - val_mean_squared_error: 0.1726\n",
      "Epoch 19/100\n",
      "63/63 [==============================] - 0s 2ms/step - loss: 0.0107 - mean_squared_error: 0.0107 - val_loss: 0.1796 - val_mean_squared_error: 0.1796\n",
      "Epoch 20/100\n",
      "63/63 [==============================] - 0s 2ms/step - loss: 0.0105 - mean_squared_error: 0.0105 - val_loss: 0.1904 - val_mean_squared_error: 0.1904\n",
      "Epoch 21/100\n",
      "63/63 [==============================] - 0s 2ms/step - loss: 0.0101 - mean_squared_error: 0.0101 - val_loss: 0.1834 - val_mean_squared_error: 0.1834\n",
      "Epoch 22/100\n",
      "63/63 [==============================] - 0s 2ms/step - loss: 0.0093 - mean_squared_error: 0.0093 - val_loss: 0.1573 - val_mean_squared_error: 0.1573\n",
      "Epoch 23/100\n",
      "63/63 [==============================] - 0s 2ms/step - loss: 0.0103 - mean_squared_error: 0.0103 - val_loss: 0.1555 - val_mean_squared_error: 0.1555\n",
      "Epoch 24/100\n",
      "63/63 [==============================] - 0s 2ms/step - loss: 0.0092 - mean_squared_error: 0.0092 - val_loss: 0.1570 - val_mean_squared_error: 0.1570\n",
      "Epoch 25/100\n",
      "63/63 [==============================] - 0s 2ms/step - loss: 0.0085 - mean_squared_error: 0.0085 - val_loss: 0.1731 - val_mean_squared_error: 0.1731\n",
      "Epoch 26/100\n",
      "63/63 [==============================] - 0s 2ms/step - loss: 0.0081 - mean_squared_error: 0.0081 - val_loss: 0.2005 - val_mean_squared_error: 0.2005\n",
      "Epoch 27/100\n",
      "63/63 [==============================] - 0s 2ms/step - loss: 0.0085 - mean_squared_error: 0.0085 - val_loss: 0.1813 - val_mean_squared_error: 0.1813\n",
      "Epoch 28/100\n",
      "63/63 [==============================] - 0s 2ms/step - loss: 0.0074 - mean_squared_error: 0.0074 - val_loss: 0.1688 - val_mean_squared_error: 0.1688\n",
      "Epoch 29/100\n",
      "63/63 [==============================] - 0s 2ms/step - loss: 0.0067 - mean_squared_error: 0.0067 - val_loss: 0.1923 - val_mean_squared_error: 0.1923\n",
      "Epoch 30/100\n",
      "63/63 [==============================] - 0s 2ms/step - loss: 0.0072 - mean_squared_error: 0.0072 - val_loss: 0.1815 - val_mean_squared_error: 0.1815\n",
      "Epoch 31/100\n",
      "63/63 [==============================] - 0s 2ms/step - loss: 0.0066 - mean_squared_error: 0.0066 - val_loss: 0.1883 - val_mean_squared_error: 0.1883\n",
      "Epoch 32/100\n",
      "63/63 [==============================] - 0s 2ms/step - loss: 0.0065 - mean_squared_error: 0.0065 - val_loss: 0.1600 - val_mean_squared_error: 0.1600\n",
      "Epoch 33/100\n",
      "63/63 [==============================] - 0s 2ms/step - loss: 0.0066 - mean_squared_error: 0.0066 - val_loss: 0.1692 - val_mean_squared_error: 0.1692\n",
      "Epoch 34/100\n",
      "63/63 [==============================] - 0s 2ms/step - loss: 0.0057 - mean_squared_error: 0.0057 - val_loss: 0.1451 - val_mean_squared_error: 0.1451\n",
      "Epoch 35/100\n",
      "63/63 [==============================] - 0s 2ms/step - loss: 0.0060 - mean_squared_error: 0.0060 - val_loss: 0.1796 - val_mean_squared_error: 0.1796\n",
      "Epoch 36/100\n",
      "63/63 [==============================] - 0s 2ms/step - loss: 0.0056 - mean_squared_error: 0.0056 - val_loss: 0.1373 - val_mean_squared_error: 0.1373\n",
      "Epoch 37/100\n",
      "63/63 [==============================] - 0s 2ms/step - loss: 0.0051 - mean_squared_error: 0.0051 - val_loss: 0.1672 - val_mean_squared_error: 0.1672\n",
      "Epoch 38/100\n",
      "63/63 [==============================] - 0s 2ms/step - loss: 0.0058 - mean_squared_error: 0.0058 - val_loss: 0.1540 - val_mean_squared_error: 0.1540\n",
      "Epoch 39/100\n",
      "63/63 [==============================] - 0s 2ms/step - loss: 0.0061 - mean_squared_error: 0.0061 - val_loss: 0.1622 - val_mean_squared_error: 0.1622\n",
      "Epoch 40/100\n",
      "63/63 [==============================] - 0s 2ms/step - loss: 0.0048 - mean_squared_error: 0.0048 - val_loss: 0.1557 - val_mean_squared_error: 0.1557\n",
      "Epoch 41/100\n",
      "63/63 [==============================] - 0s 2ms/step - loss: 0.0050 - mean_squared_error: 0.0050 - val_loss: 0.1208 - val_mean_squared_error: 0.1208\n",
      "Epoch 42/100\n",
      "63/63 [==============================] - 0s 2ms/step - loss: 0.0050 - mean_squared_error: 0.0050 - val_loss: 0.1269 - val_mean_squared_error: 0.1269\n",
      "Epoch 43/100\n",
      "63/63 [==============================] - 0s 2ms/step - loss: 0.0058 - mean_squared_error: 0.0058 - val_loss: 0.1389 - val_mean_squared_error: 0.1389\n",
      "Epoch 44/100\n",
      "63/63 [==============================] - 0s 2ms/step - loss: 0.0045 - mean_squared_error: 0.0045 - val_loss: 0.1398 - val_mean_squared_error: 0.1398\n",
      "Epoch 45/100\n",
      "63/63 [==============================] - 0s 2ms/step - loss: 0.0052 - mean_squared_error: 0.0052 - val_loss: 0.1407 - val_mean_squared_error: 0.1407\n",
      "Epoch 46/100\n",
      "63/63 [==============================] - 0s 2ms/step - loss: 0.0041 - mean_squared_error: 0.0041 - val_loss: 0.1406 - val_mean_squared_error: 0.1406\n",
      "Epoch 47/100\n",
      "63/63 [==============================] - 0s 2ms/step - loss: 0.0050 - mean_squared_error: 0.0050 - val_loss: 0.1474 - val_mean_squared_error: 0.1474\n",
      "Epoch 48/100\n",
      "63/63 [==============================] - 0s 2ms/step - loss: 0.0054 - mean_squared_error: 0.0054 - val_loss: 0.1437 - val_mean_squared_error: 0.1437\n",
      "Epoch 49/100\n",
      "63/63 [==============================] - 0s 2ms/step - loss: 0.0042 - mean_squared_error: 0.0042 - val_loss: 0.1442 - val_mean_squared_error: 0.1442\n",
      "Epoch 50/100\n",
      "63/63 [==============================] - 0s 2ms/step - loss: 0.0050 - mean_squared_error: 0.0050 - val_loss: 0.0956 - val_mean_squared_error: 0.0956\n",
      "Epoch 51/100\n",
      "63/63 [==============================] - 0s 2ms/step - loss: 0.0051 - mean_squared_error: 0.0051 - val_loss: 0.1577 - val_mean_squared_error: 0.1577\n",
      "Epoch 52/100\n",
      "63/63 [==============================] - 0s 2ms/step - loss: 0.0034 - mean_squared_error: 0.0034 - val_loss: 0.1569 - val_mean_squared_error: 0.1569\n",
      "Epoch 53/100\n",
      "63/63 [==============================] - 0s 2ms/step - loss: 0.0035 - mean_squared_error: 0.0035 - val_loss: 0.1601 - val_mean_squared_error: 0.1601\n",
      "Epoch 54/100\n",
      "63/63 [==============================] - 0s 2ms/step - loss: 0.0037 - mean_squared_error: 0.0037 - val_loss: 0.1514 - val_mean_squared_error: 0.1514\n",
      "Epoch 55/100\n",
      "63/63 [==============================] - 0s 2ms/step - loss: 0.0034 - mean_squared_error: 0.0034 - val_loss: 0.1294 - val_mean_squared_error: 0.1294\n",
      "Epoch 56/100\n",
      "63/63 [==============================] - 0s 2ms/step - loss: 0.0030 - mean_squared_error: 0.0030 - val_loss: 0.1217 - val_mean_squared_error: 0.1217\n",
      "Epoch 57/100\n",
      "63/63 [==============================] - 0s 2ms/step - loss: 0.0030 - mean_squared_error: 0.0030 - val_loss: 0.1320 - val_mean_squared_error: 0.1320\n",
      "Epoch 58/100\n",
      "63/63 [==============================] - 0s 2ms/step - loss: 0.0033 - mean_squared_error: 0.0033 - val_loss: 0.1138 - val_mean_squared_error: 0.1138\n",
      "Epoch 59/100\n",
      "63/63 [==============================] - 0s 2ms/step - loss: 0.0031 - mean_squared_error: 0.0031 - val_loss: 0.1289 - val_mean_squared_error: 0.1289\n",
      "Epoch 60/100\n",
      "63/63 [==============================] - 0s 2ms/step - loss: 0.0030 - mean_squared_error: 0.0030 - val_loss: 0.0901 - val_mean_squared_error: 0.0901\n",
      "Epoch 61/100\n",
      "63/63 [==============================] - 0s 2ms/step - loss: 0.0030 - mean_squared_error: 0.0030 - val_loss: 0.1242 - val_mean_squared_error: 0.1242\n",
      "Epoch 62/100\n",
      "63/63 [==============================] - 0s 2ms/step - loss: 0.0037 - mean_squared_error: 0.0037 - val_loss: 0.1283 - val_mean_squared_error: 0.1283\n",
      "Epoch 63/100\n",
      "63/63 [==============================] - 0s 2ms/step - loss: 0.0039 - mean_squared_error: 0.0039 - val_loss: 0.1519 - val_mean_squared_error: 0.1519\n",
      "Epoch 64/100\n",
      "63/63 [==============================] - 0s 2ms/step - loss: 0.0026 - mean_squared_error: 0.0026 - val_loss: 0.0993 - val_mean_squared_error: 0.0993\n",
      "Epoch 65/100\n",
      "63/63 [==============================] - 0s 2ms/step - loss: 0.0025 - mean_squared_error: 0.0025 - val_loss: 0.1191 - val_mean_squared_error: 0.1191\n",
      "Epoch 66/100\n",
      "63/63 [==============================] - 0s 2ms/step - loss: 0.0024 - mean_squared_error: 0.0024 - val_loss: 0.0907 - val_mean_squared_error: 0.0907\n",
      "Epoch 67/100\n",
      "63/63 [==============================] - 0s 2ms/step - loss: 0.0024 - mean_squared_error: 0.0024 - val_loss: 0.0986 - val_mean_squared_error: 0.0986\n",
      "Epoch 68/100\n",
      "63/63 [==============================] - 0s 2ms/step - loss: 0.0030 - mean_squared_error: 0.0030 - val_loss: 0.0967 - val_mean_squared_error: 0.0967\n",
      "Epoch 69/100\n",
      "63/63 [==============================] - 0s 2ms/step - loss: 0.0039 - mean_squared_error: 0.0039 - val_loss: 0.1079 - val_mean_squared_error: 0.1079\n",
      "Epoch 70/100\n",
      "63/63 [==============================] - 0s 2ms/step - loss: 0.0022 - mean_squared_error: 0.0022 - val_loss: 0.1249 - val_mean_squared_error: 0.1249\n",
      "Epoch 71/100\n",
      "63/63 [==============================] - 0s 2ms/step - loss: 0.0022 - mean_squared_error: 0.0022 - val_loss: 0.1094 - val_mean_squared_error: 0.1094\n",
      "Epoch 72/100\n",
      "63/63 [==============================] - 0s 2ms/step - loss: 0.0026 - mean_squared_error: 0.0026 - val_loss: 0.1390 - val_mean_squared_error: 0.1390\n",
      "Epoch 73/100\n",
      "63/63 [==============================] - 0s 2ms/step - loss: 0.0025 - mean_squared_error: 0.0025 - val_loss: 0.0872 - val_mean_squared_error: 0.0872\n",
      "Epoch 74/100\n",
      "63/63 [==============================] - 0s 2ms/step - loss: 0.0022 - mean_squared_error: 0.0022 - val_loss: 0.1140 - val_mean_squared_error: 0.1140\n",
      "Epoch 75/100\n",
      "63/63 [==============================] - 0s 2ms/step - loss: 0.0026 - mean_squared_error: 0.0026 - val_loss: 0.1303 - val_mean_squared_error: 0.1303\n",
      "Epoch 76/100\n",
      "63/63 [==============================] - 0s 2ms/step - loss: 0.0039 - mean_squared_error: 0.0039 - val_loss: 0.0878 - val_mean_squared_error: 0.0878\n",
      "Epoch 77/100\n",
      "63/63 [==============================] - 0s 2ms/step - loss: 0.0027 - mean_squared_error: 0.0027 - val_loss: 0.1314 - val_mean_squared_error: 0.1314\n",
      "Epoch 78/100\n",
      "63/63 [==============================] - 0s 2ms/step - loss: 0.0021 - mean_squared_error: 0.0021 - val_loss: 0.0948 - val_mean_squared_error: 0.0948\n",
      "Epoch 79/100\n",
      "63/63 [==============================] - 0s 2ms/step - loss: 0.0020 - mean_squared_error: 0.0020 - val_loss: 0.0952 - val_mean_squared_error: 0.0952\n",
      "Epoch 80/100\n",
      "63/63 [==============================] - 0s 2ms/step - loss: 0.0025 - mean_squared_error: 0.0025 - val_loss: 0.1289 - val_mean_squared_error: 0.1289\n",
      "Epoch 81/100\n",
      "63/63 [==============================] - 0s 2ms/step - loss: 0.0019 - mean_squared_error: 0.0019 - val_loss: 0.0877 - val_mean_squared_error: 0.0877\n",
      "Epoch 82/100\n",
      "63/63 [==============================] - 0s 2ms/step - loss: 0.0029 - mean_squared_error: 0.0029 - val_loss: 0.1135 - val_mean_squared_error: 0.1135\n",
      "Epoch 83/100\n",
      "63/63 [==============================] - 0s 2ms/step - loss: 0.0020 - mean_squared_error: 0.0020 - val_loss: 0.1142 - val_mean_squared_error: 0.1142\n",
      "Epoch 84/100\n",
      "63/63 [==============================] - 0s 2ms/step - loss: 0.0019 - mean_squared_error: 0.0019 - val_loss: 0.1049 - val_mean_squared_error: 0.1049\n",
      "Epoch 85/100\n",
      "63/63 [==============================] - 0s 2ms/step - loss: 0.0022 - mean_squared_error: 0.0022 - val_loss: 0.0880 - val_mean_squared_error: 0.0880\n",
      "Epoch 86/100\n",
      "63/63 [==============================] - 0s 2ms/step - loss: 0.0017 - mean_squared_error: 0.0017 - val_loss: 0.0796 - val_mean_squared_error: 0.0796\n",
      "Epoch 87/100\n",
      "63/63 [==============================] - 0s 2ms/step - loss: 0.0023 - mean_squared_error: 0.0023 - val_loss: 0.1180 - val_mean_squared_error: 0.1180\n",
      "Epoch 88/100\n",
      "63/63 [==============================] - 0s 2ms/step - loss: 0.0021 - mean_squared_error: 0.0021 - val_loss: 0.0949 - val_mean_squared_error: 0.0949\n",
      "Epoch 89/100\n",
      "63/63 [==============================] - 0s 2ms/step - loss: 0.0019 - mean_squared_error: 0.0019 - val_loss: 0.0985 - val_mean_squared_error: 0.0985\n",
      "Epoch 90/100\n",
      "63/63 [==============================] - 0s 2ms/step - loss: 0.0014 - mean_squared_error: 0.0014 - val_loss: 0.0816 - val_mean_squared_error: 0.0816\n",
      "Epoch 91/100\n",
      "63/63 [==============================] - 0s 2ms/step - loss: 0.0028 - mean_squared_error: 0.0028 - val_loss: 0.0963 - val_mean_squared_error: 0.0963\n",
      "Epoch 92/100\n",
      "63/63 [==============================] - 0s 2ms/step - loss: 0.0034 - mean_squared_error: 0.0034 - val_loss: 0.1420 - val_mean_squared_error: 0.1420\n",
      "Epoch 93/100\n",
      "63/63 [==============================] - 0s 2ms/step - loss: 0.0019 - mean_squared_error: 0.0019 - val_loss: 0.0904 - val_mean_squared_error: 0.0904\n",
      "Epoch 94/100\n",
      "63/63 [==============================] - 0s 2ms/step - loss: 0.0019 - mean_squared_error: 0.0019 - val_loss: 0.0836 - val_mean_squared_error: 0.0836\n",
      "Epoch 95/100\n",
      "63/63 [==============================] - 0s 2ms/step - loss: 0.0013 - mean_squared_error: 0.0013 - val_loss: 0.0975 - val_mean_squared_error: 0.0975\n",
      "Epoch 96/100\n",
      "63/63 [==============================] - 0s 2ms/step - loss: 0.0015 - mean_squared_error: 0.0015 - val_loss: 0.0794 - val_mean_squared_error: 0.0794\n",
      "Epoch 97/100\n",
      "63/63 [==============================] - 0s 2ms/step - loss: 0.0023 - mean_squared_error: 0.0023 - val_loss: 0.0911 - val_mean_squared_error: 0.0911\n",
      "Epoch 98/100\n",
      "63/63 [==============================] - 0s 2ms/step - loss: 0.0013 - mean_squared_error: 0.0013 - val_loss: 0.0961 - val_mean_squared_error: 0.0961\n",
      "Epoch 99/100\n",
      "63/63 [==============================] - 0s 2ms/step - loss: 0.0012 - mean_squared_error: 0.0012 - val_loss: 0.0881 - val_mean_squared_error: 0.0881\n",
      "Epoch 100/100\n",
      "63/63 [==============================] - 0s 2ms/step - loss: 0.0013 - mean_squared_error: 0.0013 - val_loss: 0.0844 - val_mean_squared_error: 0.0844\n"
     ]
    }
   ],
   "source": [
    "history_gudhi = model_reg_gudhi.fit(PI_train_gudhi,\n",
    "                            radii_train,\n",
    "                            epochs=100,\n",
    "                            validation_data=(PI_test_gudhi, radii_test))"
   ]
  },
  {
   "cell_type": "markdown",
   "id": "238090fd",
   "metadata": {},
   "source": [
    "We compute the $R^2$ coefficient and the MSE score of the regression trained on real PIs. "
   ]
  },
  {
   "cell_type": "code",
   "execution_count": 12,
   "id": "a8064677",
   "metadata": {},
   "outputs": [
    {
     "name": "stdout",
     "output_type": "stream",
     "text": [
      "7/7 - 0s - loss: 0.0844 - mean_squared_error: 0.0844\n",
      "0.6630692592136469\n"
     ]
    }
   ],
   "source": [
    "radii_predicted_gudhi = model_reg_gudhi.predict(PI_test_gudhi)\n",
    "test_loss, test_acc = model_reg_gudhi.evaluate(PI_test_gudhi,  radii_test, verbose=2)\n",
    "r2 = r2_score(radii_test,radii_predicted_gudhi)\n",
    "print(\"r2 = \",r2)\n"
   ]
  },
  {
   "cell_type": "markdown",
   "id": "9da4fe71",
   "metadata": {},
   "source": [
    "We plot the regression for both radii trained on true PIs."
   ]
  },
  {
   "cell_type": "code",
   "execution_count": 14,
   "id": "cd6a248e",
   "metadata": {},
   "outputs": [
    {
     "data": {
      "image/png": "[encoded data removed]",
      "text/plain": [
       "<Figure size 432x288 with 2 Axes>"
      ]
     },
     "metadata": {
      "needs_background": "light"
     },
     "output_type": "display_data"
    }
   ],
   "source": [
    "plt.subplot(2,1,1)\n",
    "plt.plot(radii_predicted_gudhi[:,0],radii_test[:,0],'bo',markersize=2)\n",
    "plt.xlabel(\"True radius\")\n",
    "plt.ylabel(\"Predicted radius\")\n",
    "plt.title(\"MSE : {:e}, R² = {:2f}\".format(test_acc,r2),fontsize=20)\n",
    "\n",
    "plt.subplot(2,1,2)\n",
    "plt.plot(radii_predicted_gudhi[:,1],radii_test[:,1],'bo',markersize=2)\n",
    "plt.xlabel(\"True radius\")\n",
    "plt.ylabel(\"Predicted radius\")\n",
    "#plt.title(\"MSE : {:e}, R² = {:2f}\".format(test_acc,r2),fontsize=20)\n",
    "\n",
    "plt.savefig(\"Résultats/Résultats 4/regression_radii_torus_gudhi.pdf\")"
   ]
  },
  {
   "cell_type": "markdown",
   "id": "8842c7b5",
   "metadata": {},
   "source": [
    " ### Generate data for the training of ```model_reg_NN```  "
   ]
  },
  {
   "cell_type": "code",
   "execution_count": 15,
   "id": "9f0d91d2",
   "metadata": {},
   "outputs": [],
   "source": [
    "PI_train_NN = model_PI.predict(data_train)"
   ]
  },
  {
   "cell_type": "code",
   "execution_count": 16,
   "id": "d240924b",
   "metadata": {},
   "outputs": [],
   "source": [
    "PI_test_NN = model_PI.predict(data_test)"
   ]
  },
  {
   "cell_type": "markdown",
   "id": "0ee61d80",
   "metadata": {},
   "source": [
    "### Fit the regression model ```model_reg_NN```"
   ]
  },
  {
   "cell_type": "code",
   "execution_count": 17,
   "id": "0681b2b0",
   "metadata": {
    "scrolled": true
   },
   "outputs": [
    {
     "name": "stdout",
     "output_type": "stream",
     "text": [
      "Epoch 1/50\n",
      "63/63 [==============================] - 0s 4ms/step - loss: 3.0902 - mean_squared_error: 3.0902 - val_loss: 0.2019 - val_mean_squared_error: 0.2019\n",
      "Epoch 2/50\n",
      "63/63 [==============================] - 0s 3ms/step - loss: 0.1280 - mean_squared_error: 0.1280 - val_loss: 0.1025 - val_mean_squared_error: 0.1025\n",
      "Epoch 3/50\n",
      "63/63 [==============================] - 0s 3ms/step - loss: 0.0684 - mean_squared_error: 0.0684 - val_loss: 0.0599 - val_mean_squared_error: 0.0599\n",
      "Epoch 4/50\n",
      "63/63 [==============================] - 0s 3ms/step - loss: 0.0387 - mean_squared_error: 0.0387 - val_loss: 0.0334 - val_mean_squared_error: 0.0334\n",
      "Epoch 5/50\n",
      "63/63 [==============================] - 0s 3ms/step - loss: 0.0223 - mean_squared_error: 0.0223 - val_loss: 0.0224 - val_mean_squared_error: 0.0224\n",
      "Epoch 6/50\n",
      "63/63 [==============================] - 0s 3ms/step - loss: 0.0150 - mean_squared_error: 0.0150 - val_loss: 0.0177 - val_mean_squared_error: 0.0177\n",
      "Epoch 7/50\n",
      "63/63 [==============================] - 0s 3ms/step - loss: 0.0118 - mean_squared_error: 0.0118 - val_loss: 0.0150 - val_mean_squared_error: 0.0150\n",
      "Epoch 8/50\n",
      "63/63 [==============================] - 0s 3ms/step - loss: 0.0102 - mean_squared_error: 0.0102 - val_loss: 0.0136 - val_mean_squared_error: 0.0136\n",
      "Epoch 9/50\n",
      "63/63 [==============================] - 0s 3ms/step - loss: 0.0092 - mean_squared_error: 0.0092 - val_loss: 0.0131 - val_mean_squared_error: 0.0131\n",
      "Epoch 10/50\n",
      "63/63 [==============================] - 0s 2ms/step - loss: 0.0079 - mean_squared_error: 0.0079 - val_loss: 0.0118 - val_mean_squared_error: 0.0118\n",
      "Epoch 11/50\n",
      "63/63 [==============================] - 0s 2ms/step - loss: 0.0075 - mean_squared_error: 0.0075 - val_loss: 0.0112 - val_mean_squared_error: 0.0112\n",
      "Epoch 12/50\n",
      "63/63 [==============================] - 0s 2ms/step - loss: 0.0071 - mean_squared_error: 0.0071 - val_loss: 0.0105 - val_mean_squared_error: 0.0105\n",
      "Epoch 13/50\n",
      "63/63 [==============================] - 0s 3ms/step - loss: 0.0065 - mean_squared_error: 0.0065 - val_loss: 0.0101 - val_mean_squared_error: 0.0101\n",
      "Epoch 14/50\n",
      "63/63 [==============================] - 0s 2ms/step - loss: 0.0061 - mean_squared_error: 0.0061 - val_loss: 0.0095 - val_mean_squared_error: 0.0095\n",
      "Epoch 15/50\n",
      "63/63 [==============================] - 0s 2ms/step - loss: 0.0058 - mean_squared_error: 0.0058 - val_loss: 0.0094 - val_mean_squared_error: 0.0094\n",
      "Epoch 16/50\n",
      "63/63 [==============================] - 0s 2ms/step - loss: 0.0061 - mean_squared_error: 0.0061 - val_loss: 0.0086 - val_mean_squared_error: 0.0086\n",
      "Epoch 17/50\n",
      "63/63 [==============================] - 0s 2ms/step - loss: 0.0057 - mean_squared_error: 0.0057 - val_loss: 0.0087 - val_mean_squared_error: 0.0087\n",
      "Epoch 18/50\n",
      "63/63 [==============================] - 0s 2ms/step - loss: 0.0053 - mean_squared_error: 0.0053 - val_loss: 0.0089 - val_mean_squared_error: 0.0089\n",
      "Epoch 19/50\n",
      "63/63 [==============================] - 0s 2ms/step - loss: 0.0054 - mean_squared_error: 0.0054 - val_loss: 0.0078 - val_mean_squared_error: 0.0078\n",
      "Epoch 20/50\n",
      "63/63 [==============================] - 0s 3ms/step - loss: 0.0047 - mean_squared_error: 0.0047 - val_loss: 0.0074 - val_mean_squared_error: 0.0074\n",
      "Epoch 21/50\n",
      "63/63 [==============================] - 0s 3ms/step - loss: 0.0048 - mean_squared_error: 0.0048 - val_loss: 0.0075 - val_mean_squared_error: 0.0075\n",
      "Epoch 22/50\n",
      "63/63 [==============================] - 0s 2ms/step - loss: 0.0045 - mean_squared_error: 0.0045 - val_loss: 0.0077 - val_mean_squared_error: 0.0077\n",
      "Epoch 23/50\n",
      "63/63 [==============================] - 0s 3ms/step - loss: 0.0045 - mean_squared_error: 0.0045 - val_loss: 0.0073 - val_mean_squared_error: 0.0073\n",
      "Epoch 24/50\n",
      "63/63 [==============================] - 0s 3ms/step - loss: 0.0043 - mean_squared_error: 0.0043 - val_loss: 0.0070 - val_mean_squared_error: 0.0070\n",
      "Epoch 25/50\n",
      "63/63 [==============================] - 0s 2ms/step - loss: 0.0041 - mean_squared_error: 0.0041 - val_loss: 0.0066 - val_mean_squared_error: 0.0066\n",
      "Epoch 26/50\n",
      "63/63 [==============================] - 0s 3ms/step - loss: 0.0045 - mean_squared_error: 0.0045 - val_loss: 0.0067 - val_mean_squared_error: 0.0067\n",
      "Epoch 27/50\n",
      "63/63 [==============================] - 0s 2ms/step - loss: 0.0043 - mean_squared_error: 0.0043 - val_loss: 0.0066 - val_mean_squared_error: 0.0066\n",
      "Epoch 28/50\n",
      "63/63 [==============================] - 0s 3ms/step - loss: 0.0042 - mean_squared_error: 0.0042 - val_loss: 0.0063 - val_mean_squared_error: 0.0063\n",
      "Epoch 29/50\n",
      "63/63 [==============================] - 0s 3ms/step - loss: 0.0041 - mean_squared_error: 0.0041 - val_loss: 0.0065 - val_mean_squared_error: 0.0065\n",
      "Epoch 30/50\n",
      "63/63 [==============================] - 0s 3ms/step - loss: 0.0039 - mean_squared_error: 0.0039 - val_loss: 0.0063 - val_mean_squared_error: 0.0063\n",
      "Epoch 31/50\n",
      "63/63 [==============================] - 0s 2ms/step - loss: 0.0037 - mean_squared_error: 0.0037 - val_loss: 0.0057 - val_mean_squared_error: 0.0057\n",
      "Epoch 32/50\n",
      "63/63 [==============================] - 0s 3ms/step - loss: 0.0037 - mean_squared_error: 0.0037 - val_loss: 0.0067 - val_mean_squared_error: 0.0067\n",
      "Epoch 33/50\n",
      "63/63 [==============================] - 0s 2ms/step - loss: 0.0038 - mean_squared_error: 0.0038 - val_loss: 0.0054 - val_mean_squared_error: 0.0054\n",
      "Epoch 34/50\n",
      "63/63 [==============================] - 0s 3ms/step - loss: 0.0038 - mean_squared_error: 0.0038 - val_loss: 0.0058 - val_mean_squared_error: 0.0058\n",
      "Epoch 35/50\n",
      "63/63 [==============================] - 0s 3ms/step - loss: 0.0037 - mean_squared_error: 0.0037 - val_loss: 0.0054 - val_mean_squared_error: 0.0054\n",
      "Epoch 36/50\n",
      "63/63 [==============================] - 0s 3ms/step - loss: 0.0037 - mean_squared_error: 0.0037 - val_loss: 0.0057 - val_mean_squared_error: 0.0057\n",
      "Epoch 37/50\n",
      "63/63 [==============================] - 0s 2ms/step - loss: 0.0037 - mean_squared_error: 0.0037 - val_loss: 0.0054 - val_mean_squared_error: 0.0054\n",
      "Epoch 38/50\n",
      "63/63 [==============================] - 0s 2ms/step - loss: 0.0034 - mean_squared_error: 0.0034 - val_loss: 0.0051 - val_mean_squared_error: 0.0051\n",
      "Epoch 39/50\n",
      "63/63 [==============================] - 0s 3ms/step - loss: 0.0033 - mean_squared_error: 0.0033 - val_loss: 0.0057 - val_mean_squared_error: 0.0057\n",
      "Epoch 40/50\n",
      "63/63 [==============================] - 0s 3ms/step - loss: 0.0030 - mean_squared_error: 0.0030 - val_loss: 0.0051 - val_mean_squared_error: 0.0051\n",
      "Epoch 41/50\n",
      "63/63 [==============================] - 0s 2ms/step - loss: 0.0034 - mean_squared_error: 0.0034 - val_loss: 0.0048 - val_mean_squared_error: 0.0048\n",
      "Epoch 42/50\n",
      "63/63 [==============================] - 0s 2ms/step - loss: 0.0032 - mean_squared_error: 0.0032 - val_loss: 0.0043 - val_mean_squared_error: 0.0043\n",
      "Epoch 43/50\n",
      "63/63 [==============================] - 0s 2ms/step - loss: 0.0032 - mean_squared_error: 0.0032 - val_loss: 0.0047 - val_mean_squared_error: 0.0047\n",
      "Epoch 44/50\n",
      "63/63 [==============================] - 0s 3ms/step - loss: 0.0031 - mean_squared_error: 0.0031 - val_loss: 0.0041 - val_mean_squared_error: 0.0041\n",
      "Epoch 45/50\n",
      "63/63 [==============================] - 0s 2ms/step - loss: 0.0032 - mean_squared_error: 0.0032 - val_loss: 0.0043 - val_mean_squared_error: 0.0043\n",
      "Epoch 46/50\n",
      "63/63 [==============================] - 0s 2ms/step - loss: 0.0033 - mean_squared_error: 0.0033 - val_loss: 0.0046 - val_mean_squared_error: 0.0046\n",
      "Epoch 47/50\n",
      "63/63 [==============================] - 0s 3ms/step - loss: 0.0029 - mean_squared_error: 0.0029 - val_loss: 0.0042 - val_mean_squared_error: 0.0042\n",
      "Epoch 48/50\n",
      "63/63 [==============================] - 0s 2ms/step - loss: 0.0034 - mean_squared_error: 0.0034 - val_loss: 0.0043 - val_mean_squared_error: 0.0043\n",
      "Epoch 49/50\n",
      "63/63 [==============================] - 0s 2ms/step - loss: 0.0028 - mean_squared_error: 0.0028 - val_loss: 0.0042 - val_mean_squared_error: 0.0042\n",
      "Epoch 50/50\n",
      "63/63 [==============================] - 0s 2ms/step - loss: 0.0035 - mean_squared_error: 0.0035 - val_loss: 0.0040 - val_mean_squared_error: 0.0040\n"
     ]
    }
   ],
   "source": [
    "history_NN = model_reg_NN.fit(PI_train_NN,\n",
    "                            radii_train,\n",
    "                            epochs=50,\n",
    "                            validation_data=(PI_test_NN, radii_test))"
   ]
  },
  {
   "cell_type": "code",
   "execution_count": 18,
   "id": "7f6e95b7",
   "metadata": {},
   "outputs": [
    {
     "name": "stdout",
     "output_type": "stream",
     "text": [
      "7/7 - 0s - loss: 0.0040 - mean_squared_error: 0.0040\n",
      "\n",
      "MSE: 0.004014887847006321\n"
     ]
    }
   ],
   "source": [
    "test_loss, test_acc = model_reg_NN.evaluate(PI_test_NN,  radii_test, verbose=2)\n",
    "\n",
    "print('\\nMSE:', test_acc)"
   ]
  },
  {
   "cell_type": "markdown",
   "id": "109cde89",
   "metadata": {},
   "source": [
    "### We generated test data for ```model_reg_NN ```"
   ]
  },
  {
   "cell_type": "code",
   "execution_count": null,
   "id": "e4015f18",
   "metadata": {},
   "outputs": [],
   "source": [
    "def create_torus(N_points, r, R):\n",
    "    X = np.zeros((N_points, 3))\n",
    "    for i in range(N_points):\n",
    "        theta = np.random.random() * 2 * np.pi\n",
    "        phi = np.random.random() * 2 * np.pi\n",
    "        X[i, 0] = (R + r * np.cos(theta)) * np.cos(phi)\n",
    "        X[i, 1] = (R + r * np.cos(theta)) * np.sin(phi)\n",
    "        X[i, 2] = r * np.sin(theta)\n",
    "        #X[i] = [x,y,z]\n",
    "    return np.array(X)\n"
   ]
  },
  {
   "cell_type": "code",
   "execution_count": 24,
   "id": "68be5759",
   "metadata": {},
   "outputs": [
    {
     "name": "stderr",
     "output_type": "stream",
     "text": [
      "Generating dataset : 100%|██████████| 200/200 [00:00<00:00, 320.69it/s]\n"
     ]
    }
   ],
   "source": [
    "data_test = np.zeros((200,N_points,3))\n",
    "r_test = np.zeros((200,))\n",
    "R_test = np.zeros((200,))\n",
    "for i in tqdm(range(200), desc='Generating dataset : '):\n",
    "    R = np.random.uniform(4, 6)\n",
    "    r = np.random.uniform(R / 2, (R + 1) / 2)\n",
    "    data_test[i] = create_torus(N_points, r, R)\n",
    "    R_test[i] = R\n",
    "    r_test[i] = r\n",
    "radii_test = np.stack((r_test,R_test),1)"
   ]
  },
  {
   "cell_type": "code",
   "execution_count": 25,
   "id": "b5142440",
   "metadata": {},
   "outputs": [],
   "source": [
    "PI_test = model_PI.predict(data_test)"
   ]
  },
  {
   "cell_type": "markdown",
   "id": "4534a58f",
   "metadata": {},
   "source": [
    "We compute the $R^2$ coefficient and the MSE score of the regression trained on predicted PIs. "
   ]
  },
  {
   "cell_type": "code",
   "execution_count": 26,
   "id": "76c4120b",
   "metadata": {},
   "outputs": [
    {
     "name": "stdout",
     "output_type": "stream",
     "text": [
      "7/7 - 0s - loss: 0.0028 - mean_squared_error: 0.0028\n"
     ]
    }
   ],
   "source": [
    "radii_predicted_NN = model_reg_NN.predict(PI_test)\n",
    "test_loss, test_acc = model_reg_NN.evaluate(PI_test,  radii_test, verbose=2)\n",
    "r2 = r2_score(radii_test,radii_predicted_NN)\n"
   ]
  },
  {
   "cell_type": "markdown",
   "id": "ddfd38a3",
   "metadata": {},
   "source": [
    "We plot the regression trained on predicted PIs."
   ]
  },
  {
   "cell_type": "code",
   "execution_count": 27,
   "id": "b2e047a0",
   "metadata": {},
   "outputs": [
    {
     "data": {
      "text/plain": [
       "Text(0, 0.5, 'Predicted radius')"
      ]
     },
     "execution_count": 27,
     "metadata": {},
     "output_type": "execute_result"
    },
    {
     "data": {
      "image/png": "[encoded data removed]",
      "text/plain": [
       "<Figure size 432x288 with 2 Axes>"
      ]
     },
     "metadata": {
      "needs_background": "light"
     },
     "output_type": "display_data"
    }
   ],
   "source": [
    "plt.subplot(2,1,1)\n",
    "plt.plot(radii_predicted_NN[:,0],r_test,'bo',markersize=2)\n",
    "plt.xlabel(\"True radius\")\n",
    "plt.ylabel(\"Predicted radius\")\n",
    "plt.title(\"MSE : {:e}, R² = {:2f}\".format(test_acc,r2),fontsize=20)\n",
    "\n",
    "plt.subplot(2,1,2)\n",
    "plt.plot(radii_predicted_NN[:,1],R_test,'bo',markersize=2)\n",
    "plt.xlabel(\"True radius\")\n",
    "plt.ylabel(\"Predicted radius\")\n",
    "#plt.title(\"MSE : {:e}, R² = {:2f}\".format(test_acc,r2),fontsize=20)\n",
    "\n",
    "\n",
    "#plt.savefig(\"Résultats/Résultats 4/regression_radii_torus_NN.pdf\")"
   ]
  }
 ],
 "metadata": {
  "kernelspec": {
   "display_name": "Python 3 (ipykernel)",
   "language": "python",
   "name": "python3"
  },
  "language_info": {
   "codemirror_mode": {
    "name": "ipython",
    "version": 3
   },
   "file_extension": ".py",
   "mimetype": "text/x-python",
   "name": "python",
   "nbconvert_exporter": "python",
   "pygments_lexer": "ipython3",
   "version": "3.8.10"
  }
 },
 "nbformat": 4,
 "nbformat_minor": 5
}
