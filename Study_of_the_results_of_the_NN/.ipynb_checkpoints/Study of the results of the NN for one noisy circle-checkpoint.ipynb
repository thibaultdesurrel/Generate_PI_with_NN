{
 "cells": [
  {
   "cell_type": "markdown",
   "id": "c0627c39",
   "metadata": {},
   "source": [
    "# Study of the results of the NN for one noisy circle"
   ]
  },
  {
   "cell_type": "markdown",
   "id": "7947586e",
   "metadata": {},
   "source": [
    "This notebook studies the results of the NN trained to predict PI from the noisy circle dataset. \n",
    "   1. We compare the regression results between a classifier trained on real PIs and trained on predicted PIs.\n",
    "   2. we look at the p-values of the Kolmogorov-Smirnov test on each pixels,\n",
    "   "
   ]
  },
  {
   "cell_type": "markdown",
   "id": "ae715e17",
   "metadata": {},
   "source": [
    "---"
   ]
  },
  {
   "cell_type": "code",
   "execution_count": 1,
   "id": "8403d472",
   "metadata": {},
   "outputs": [],
   "source": [
    "import matplotlib.pyplot as plt\n",
    "import numpy as np\n",
    "\n",
    "import tensorflow as tf\n",
    "from IPython.display import SVG\n",
    "\n",
    "import gudhi as gd\n",
    "import gudhi.representations\n",
    "\n",
    "from tqdm import tqdm\n",
    "from time import time\n",
    "\n",
    "from scipy.stats import ks_2samp\n",
    "from sklearn.metrics import r2_score\n"
   ]
  },
  {
   "cell_type": "markdown",
   "id": "4032c238",
   "metadata": {},
   "source": [
    "### Load the NN"
   ]
  },
  {
   "cell_type": "code",
   "execution_count": 2,
   "id": "ccadde6f",
   "metadata": {},
   "outputs": [
    {
     "name": "stdout",
     "output_type": "stream",
     "text": [
      "Model: \"model\"\n",
      "_________________________________________________________________\n",
      "Layer (type)                 Output Shape              Param #   \n",
      "=================================================================\n",
      "input_1 (InputLayer)         [(None, 500, 2)]          0         \n",
      "_________________________________________________________________\n",
      "fully_connected2 (FullyConne (None, 500, 30)           60        \n",
      "_________________________________________________________________\n",
      "tf.nn.relu (TFOpLambda)      (None, 500, 30)           0         \n",
      "_________________________________________________________________\n",
      "dense (Dense)                (None, 500, 20)           620       \n",
      "_________________________________________________________________\n",
      "dense_1 (Dense)              (None, 500, 10)           210       \n",
      "_________________________________________________________________\n",
      "lambda (Lambda)              (None, 10)                0         \n",
      "_________________________________________________________________\n",
      "dense_2 (Dense)              (None, 50)                550       \n",
      "_________________________________________________________________\n",
      "dense_3 (Dense)              (None, 100)               5100      \n",
      "_________________________________________________________________\n",
      "dense_4 (Dense)              (None, 200)               20200     \n",
      "_________________________________________________________________\n",
      "dense_5 (Dense)              (None, 2500)              502500    \n",
      "=================================================================\n",
      "Total params: 529,240\n",
      "Trainable params: 529,240\n",
      "Non-trainable params: 0\n",
      "_________________________________________________________________\n"
     ]
    },
    {
     "data": {
      "image/svg+xml": [
       "<svg xmlns=\"http://www.w3.org/2000/svg\" xmlns:xlink=\"http://www.w3.org/1999/xlink\" width=\"627pt\" height=\"1069pt\" viewBox=\"0.00 0.00 470.00 802.00\">\n",
       "<g id=\"graph0\" class=\"graph\" transform=\"scale(0.75 0.75) rotate(0) translate(4 798)\">\n",
       "<title>G</title>\n",
       "<polygon fill=\"white\" stroke=\"transparent\" points=\"-4,4 -4,-798 466,-798 466,4 -4,4\"/>\n",
       "<!-- 140291618904864 -->\n",
       "<g id=\"node1\" class=\"node\">\n",
       "<title>140291618904864</title>\n",
       "<polygon fill=\"none\" stroke=\"black\" points=\"53.5,-747.5 53.5,-793.5 408.5,-793.5 408.5,-747.5 53.5,-747.5\"/>\n",
       "<text text-anchor=\"middle\" x=\"132.5\" y=\"-766.8\" font-family=\"Times,serif\" font-size=\"14.00\">input_1: InputLayer</text>\n",
       "<polyline fill=\"none\" stroke=\"black\" points=\"211.5,-747.5 211.5,-793.5 \"/>\n",
       "<text text-anchor=\"middle\" x=\"245.5\" y=\"-778.3\" font-family=\"Times,serif\" font-size=\"14.00\">input:</text>\n",
       "<polyline fill=\"none\" stroke=\"black\" points=\"211.5,-770.5 279.5,-770.5 \"/>\n",
       "<text text-anchor=\"middle\" x=\"245.5\" y=\"-755.3\" font-family=\"Times,serif\" font-size=\"14.00\">output:</text>\n",
       "<polyline fill=\"none\" stroke=\"black\" points=\"279.5,-747.5 279.5,-793.5 \"/>\n",
       "<text text-anchor=\"middle\" x=\"344\" y=\"-778.3\" font-family=\"Times,serif\" font-size=\"14.00\">[(None, 500, 2)]</text>\n",
       "<polyline fill=\"none\" stroke=\"black\" points=\"279.5,-770.5 408.5,-770.5 \"/>\n",
       "<text text-anchor=\"middle\" x=\"344\" y=\"-755.3\" font-family=\"Times,serif\" font-size=\"14.00\">[(None, 500, 2)]</text>\n",
       "</g>\n",
       "<!-- 140291618905344 -->\n",
       "<g id=\"node2\" class=\"node\">\n",
       "<title>140291618905344</title>\n",
       "<polygon fill=\"none\" stroke=\"black\" points=\"0,-664.5 0,-710.5 462,-710.5 462,-664.5 0,-664.5\"/>\n",
       "<text text-anchor=\"middle\" x=\"133\" y=\"-683.8\" font-family=\"Times,serif\" font-size=\"14.00\">fully_connected2: FullyConnected2</text>\n",
       "<polyline fill=\"none\" stroke=\"black\" points=\"266,-664.5 266,-710.5 \"/>\n",
       "<text text-anchor=\"middle\" x=\"300\" y=\"-695.3\" font-family=\"Times,serif\" font-size=\"14.00\">input:</text>\n",
       "<polyline fill=\"none\" stroke=\"black\" points=\"266,-687.5 334,-687.5 \"/>\n",
       "<text text-anchor=\"middle\" x=\"300\" y=\"-672.3\" font-family=\"Times,serif\" font-size=\"14.00\">output:</text>\n",
       "<polyline fill=\"none\" stroke=\"black\" points=\"334,-664.5 334,-710.5 \"/>\n",
       "<text text-anchor=\"middle\" x=\"398\" y=\"-695.3\" font-family=\"Times,serif\" font-size=\"14.00\">(None, 500, 2)</text>\n",
       "<polyline fill=\"none\" stroke=\"black\" points=\"334,-687.5 462,-687.5 \"/>\n",
       "<text text-anchor=\"middle\" x=\"398\" y=\"-672.3\" font-family=\"Times,serif\" font-size=\"14.00\">(None, 500, 30)</text>\n",
       "</g>\n",
       "<!-- 140291618904864&#45;&gt;140291618905344 -->\n",
       "<g id=\"edge1\" class=\"edge\">\n",
       "<title>140291618904864-&gt;140291618905344</title>\n",
       "<path fill=\"none\" stroke=\"black\" d=\"M231,-747.37C231,-739.15 231,-729.66 231,-720.73\"/>\n",
       "<polygon fill=\"black\" stroke=\"black\" points=\"234.5,-720.61 231,-710.61 227.5,-720.61 234.5,-720.61\"/>\n",
       "</g>\n",
       "<!-- 140291551453824 -->\n",
       "<g id=\"node3\" class=\"node\">\n",
       "<title>140291551453824</title>\n",
       "<polygon fill=\"none\" stroke=\"black\" points=\"39,-581.5 39,-627.5 423,-627.5 423,-581.5 39,-581.5\"/>\n",
       "<text text-anchor=\"middle\" x=\"133\" y=\"-600.8\" font-family=\"Times,serif\" font-size=\"14.00\">tf.nn.relu: TFOpLambda</text>\n",
       "<polyline fill=\"none\" stroke=\"black\" points=\"227,-581.5 227,-627.5 \"/>\n",
       "<text text-anchor=\"middle\" x=\"261\" y=\"-612.3\" font-family=\"Times,serif\" font-size=\"14.00\">input:</text>\n",
       "<polyline fill=\"none\" stroke=\"black\" points=\"227,-604.5 295,-604.5 \"/>\n",
       "<text text-anchor=\"middle\" x=\"261\" y=\"-589.3\" font-family=\"Times,serif\" font-size=\"14.00\">output:</text>\n",
       "<polyline fill=\"none\" stroke=\"black\" points=\"295,-581.5 295,-627.5 \"/>\n",
       "<text text-anchor=\"middle\" x=\"359\" y=\"-612.3\" font-family=\"Times,serif\" font-size=\"14.00\">(None, 500, 30)</text>\n",
       "<polyline fill=\"none\" stroke=\"black\" points=\"295,-604.5 423,-604.5 \"/>\n",
       "<text text-anchor=\"middle\" x=\"359\" y=\"-589.3\" font-family=\"Times,serif\" font-size=\"14.00\">(None, 500, 30)</text>\n",
       "</g>\n",
       "<!-- 140291618905344&#45;&gt;140291551453824 -->\n",
       "<g id=\"edge2\" class=\"edge\">\n",
       "<title>140291618905344-&gt;140291551453824</title>\n",
       "<path fill=\"none\" stroke=\"black\" d=\"M231,-664.37C231,-656.15 231,-646.66 231,-637.73\"/>\n",
       "<polygon fill=\"black\" stroke=\"black\" points=\"234.5,-637.61 231,-627.61 227.5,-637.61 234.5,-637.61\"/>\n",
       "</g>\n",
       "<!-- 140291551454544 -->\n",
       "<g id=\"node4\" class=\"node\">\n",
       "<title>140291551454544</title>\n",
       "<polygon fill=\"none\" stroke=\"black\" points=\"77,-498.5 77,-544.5 385,-544.5 385,-498.5 77,-498.5\"/>\n",
       "<text text-anchor=\"middle\" x=\"133\" y=\"-517.8\" font-family=\"Times,serif\" font-size=\"14.00\">dense: Dense</text>\n",
       "<polyline fill=\"none\" stroke=\"black\" points=\"189,-498.5 189,-544.5 \"/>\n",
       "<text text-anchor=\"middle\" x=\"223\" y=\"-529.3\" font-family=\"Times,serif\" font-size=\"14.00\">input:</text>\n",
       "<polyline fill=\"none\" stroke=\"black\" points=\"189,-521.5 257,-521.5 \"/>\n",
       "<text text-anchor=\"middle\" x=\"223\" y=\"-506.3\" font-family=\"Times,serif\" font-size=\"14.00\">output:</text>\n",
       "<polyline fill=\"none\" stroke=\"black\" points=\"257,-498.5 257,-544.5 \"/>\n",
       "<text text-anchor=\"middle\" x=\"321\" y=\"-529.3\" font-family=\"Times,serif\" font-size=\"14.00\">(None, 500, 30)</text>\n",
       "<polyline fill=\"none\" stroke=\"black\" points=\"257,-521.5 385,-521.5 \"/>\n",
       "<text text-anchor=\"middle\" x=\"321\" y=\"-506.3\" font-family=\"Times,serif\" font-size=\"14.00\">(None, 500, 20)</text>\n",
       "</g>\n",
       "<!-- 140291551453824&#45;&gt;140291551454544 -->\n",
       "<g id=\"edge3\" class=\"edge\">\n",
       "<title>140291551453824-&gt;140291551454544</title>\n",
       "<path fill=\"none\" stroke=\"black\" d=\"M231,-581.37C231,-573.15 231,-563.66 231,-554.73\"/>\n",
       "<polygon fill=\"black\" stroke=\"black\" points=\"234.5,-554.61 231,-544.61 227.5,-554.61 234.5,-554.61\"/>\n",
       "</g>\n",
       "<!-- 140291551455792 -->\n",
       "<g id=\"node5\" class=\"node\">\n",
       "<title>140291551455792</title>\n",
       "<polygon fill=\"none\" stroke=\"black\" points=\"69,-415.5 69,-461.5 393,-461.5 393,-415.5 69,-415.5\"/>\n",
       "<text text-anchor=\"middle\" x=\"133\" y=\"-434.8\" font-family=\"Times,serif\" font-size=\"14.00\">dense_1: Dense</text>\n",
       "<polyline fill=\"none\" stroke=\"black\" points=\"197,-415.5 197,-461.5 \"/>\n",
       "<text text-anchor=\"middle\" x=\"231\" y=\"-446.3\" font-family=\"Times,serif\" font-size=\"14.00\">input:</text>\n",
       "<polyline fill=\"none\" stroke=\"black\" points=\"197,-438.5 265,-438.5 \"/>\n",
       "<text text-anchor=\"middle\" x=\"231\" y=\"-423.3\" font-family=\"Times,serif\" font-size=\"14.00\">output:</text>\n",
       "<polyline fill=\"none\" stroke=\"black\" points=\"265,-415.5 265,-461.5 \"/>\n",
       "<text text-anchor=\"middle\" x=\"329\" y=\"-446.3\" font-family=\"Times,serif\" font-size=\"14.00\">(None, 500, 20)</text>\n",
       "<polyline fill=\"none\" stroke=\"black\" points=\"265,-438.5 393,-438.5 \"/>\n",
       "<text text-anchor=\"middle\" x=\"329\" y=\"-423.3\" font-family=\"Times,serif\" font-size=\"14.00\">(None, 500, 10)</text>\n",
       "</g>\n",
       "<!-- 140291551454544&#45;&gt;140291551455792 -->\n",
       "<g id=\"edge4\" class=\"edge\">\n",
       "<title>140291551454544-&gt;140291551455792</title>\n",
       "<path fill=\"none\" stroke=\"black\" d=\"M231,-498.37C231,-490.15 231,-480.66 231,-471.73\"/>\n",
       "<polygon fill=\"black\" stroke=\"black\" points=\"234.5,-471.61 231,-461.61 227.5,-471.61 234.5,-471.61\"/>\n",
       "</g>\n",
       "<!-- 140291551455840 -->\n",
       "<g id=\"node6\" class=\"node\">\n",
       "<title>140291551455840</title>\n",
       "<polygon fill=\"none\" stroke=\"black\" points=\"65.5,-332.5 65.5,-378.5 396.5,-378.5 396.5,-332.5 65.5,-332.5\"/>\n",
       "<text text-anchor=\"middle\" x=\"133\" y=\"-351.8\" font-family=\"Times,serif\" font-size=\"14.00\">lambda: Lambda</text>\n",
       "<polyline fill=\"none\" stroke=\"black\" points=\"200.5,-332.5 200.5,-378.5 \"/>\n",
       "<text text-anchor=\"middle\" x=\"234.5\" y=\"-363.3\" font-family=\"Times,serif\" font-size=\"14.00\">input:</text>\n",
       "<polyline fill=\"none\" stroke=\"black\" points=\"200.5,-355.5 268.5,-355.5 \"/>\n",
       "<text text-anchor=\"middle\" x=\"234.5\" y=\"-340.3\" font-family=\"Times,serif\" font-size=\"14.00\">output:</text>\n",
       "<polyline fill=\"none\" stroke=\"black\" points=\"268.5,-332.5 268.5,-378.5 \"/>\n",
       "<text text-anchor=\"middle\" x=\"332.5\" y=\"-363.3\" font-family=\"Times,serif\" font-size=\"14.00\">(None, 500, 10)</text>\n",
       "<polyline fill=\"none\" stroke=\"black\" points=\"268.5,-355.5 396.5,-355.5 \"/>\n",
       "<text text-anchor=\"middle\" x=\"332.5\" y=\"-340.3\" font-family=\"Times,serif\" font-size=\"14.00\">(None, 10)</text>\n",
       "</g>\n",
       "<!-- 140291551455792&#45;&gt;140291551455840 -->\n",
       "<g id=\"edge5\" class=\"edge\">\n",
       "<title>140291551455792-&gt;140291551455840</title>\n",
       "<path fill=\"none\" stroke=\"black\" d=\"M231,-415.37C231,-407.15 231,-397.66 231,-388.73\"/>\n",
       "<polygon fill=\"black\" stroke=\"black\" points=\"234.5,-388.61 231,-378.61 227.5,-388.61 234.5,-388.61\"/>\n",
       "</g>\n",
       "<!-- 140291550938448 -->\n",
       "<g id=\"node7\" class=\"node\">\n",
       "<title>140291550938448</title>\n",
       "<polygon fill=\"none\" stroke=\"black\" points=\"87,-249.5 87,-295.5 375,-295.5 375,-249.5 87,-249.5\"/>\n",
       "<text text-anchor=\"middle\" x=\"151\" y=\"-268.8\" font-family=\"Times,serif\" font-size=\"14.00\">dense_2: Dense</text>\n",
       "<polyline fill=\"none\" stroke=\"black\" points=\"215,-249.5 215,-295.5 \"/>\n",
       "<text text-anchor=\"middle\" x=\"249\" y=\"-280.3\" font-family=\"Times,serif\" font-size=\"14.00\">input:</text>\n",
       "<polyline fill=\"none\" stroke=\"black\" points=\"215,-272.5 283,-272.5 \"/>\n",
       "<text text-anchor=\"middle\" x=\"249\" y=\"-257.3\" font-family=\"Times,serif\" font-size=\"14.00\">output:</text>\n",
       "<polyline fill=\"none\" stroke=\"black\" points=\"283,-249.5 283,-295.5 \"/>\n",
       "<text text-anchor=\"middle\" x=\"329\" y=\"-280.3\" font-family=\"Times,serif\" font-size=\"14.00\">(None, 10)</text>\n",
       "<polyline fill=\"none\" stroke=\"black\" points=\"283,-272.5 375,-272.5 \"/>\n",
       "<text text-anchor=\"middle\" x=\"329\" y=\"-257.3\" font-family=\"Times,serif\" font-size=\"14.00\">(None, 50)</text>\n",
       "</g>\n",
       "<!-- 140291551455840&#45;&gt;140291550938448 -->\n",
       "<g id=\"edge6\" class=\"edge\">\n",
       "<title>140291551455840-&gt;140291550938448</title>\n",
       "<path fill=\"none\" stroke=\"black\" d=\"M231,-332.37C231,-324.15 231,-314.66 231,-305.73\"/>\n",
       "<polygon fill=\"black\" stroke=\"black\" points=\"234.5,-305.61 231,-295.61 227.5,-305.61 234.5,-305.61\"/>\n",
       "</g>\n",
       "<!-- 140291550940224 -->\n",
       "<g id=\"node8\" class=\"node\">\n",
       "<title>140291550940224</title>\n",
       "<polygon fill=\"none\" stroke=\"black\" points=\"82.5,-166.5 82.5,-212.5 379.5,-212.5 379.5,-166.5 82.5,-166.5\"/>\n",
       "<text text-anchor=\"middle\" x=\"146.5\" y=\"-185.8\" font-family=\"Times,serif\" font-size=\"14.00\">dense_3: Dense</text>\n",
       "<polyline fill=\"none\" stroke=\"black\" points=\"210.5,-166.5 210.5,-212.5 \"/>\n",
       "<text text-anchor=\"middle\" x=\"244.5\" y=\"-197.3\" font-family=\"Times,serif\" font-size=\"14.00\">input:</text>\n",
       "<polyline fill=\"none\" stroke=\"black\" points=\"210.5,-189.5 278.5,-189.5 \"/>\n",
       "<text text-anchor=\"middle\" x=\"244.5\" y=\"-174.3\" font-family=\"Times,serif\" font-size=\"14.00\">output:</text>\n",
       "<polyline fill=\"none\" stroke=\"black\" points=\"278.5,-166.5 278.5,-212.5 \"/>\n",
       "<text text-anchor=\"middle\" x=\"329\" y=\"-197.3\" font-family=\"Times,serif\" font-size=\"14.00\">(None, 50)</text>\n",
       "<polyline fill=\"none\" stroke=\"black\" points=\"278.5,-189.5 379.5,-189.5 \"/>\n",
       "<text text-anchor=\"middle\" x=\"329\" y=\"-174.3\" font-family=\"Times,serif\" font-size=\"14.00\">(None, 100)</text>\n",
       "</g>\n",
       "<!-- 140291550938448&#45;&gt;140291550940224 -->\n",
       "<g id=\"edge7\" class=\"edge\">\n",
       "<title>140291550938448-&gt;140291550940224</title>\n",
       "<path fill=\"none\" stroke=\"black\" d=\"M231,-249.37C231,-241.15 231,-231.66 231,-222.73\"/>\n",
       "<polygon fill=\"black\" stroke=\"black\" points=\"234.5,-222.61 231,-212.61 227.5,-222.61 234.5,-222.61\"/>\n",
       "</g>\n",
       "<!-- 140291550990928 -->\n",
       "<g id=\"node9\" class=\"node\">\n",
       "<title>140291550990928</title>\n",
       "<polygon fill=\"none\" stroke=\"black\" points=\"82.5,-83.5 82.5,-129.5 379.5,-129.5 379.5,-83.5 82.5,-83.5\"/>\n",
       "<text text-anchor=\"middle\" x=\"146.5\" y=\"-102.8\" font-family=\"Times,serif\" font-size=\"14.00\">dense_4: Dense</text>\n",
       "<polyline fill=\"none\" stroke=\"black\" points=\"210.5,-83.5 210.5,-129.5 \"/>\n",
       "<text text-anchor=\"middle\" x=\"244.5\" y=\"-114.3\" font-family=\"Times,serif\" font-size=\"14.00\">input:</text>\n",
       "<polyline fill=\"none\" stroke=\"black\" points=\"210.5,-106.5 278.5,-106.5 \"/>\n",
       "<text text-anchor=\"middle\" x=\"244.5\" y=\"-91.3\" font-family=\"Times,serif\" font-size=\"14.00\">output:</text>\n",
       "<polyline fill=\"none\" stroke=\"black\" points=\"278.5,-83.5 278.5,-129.5 \"/>\n",
       "<text text-anchor=\"middle\" x=\"329\" y=\"-114.3\" font-family=\"Times,serif\" font-size=\"14.00\">(None, 100)</text>\n",
       "<polyline fill=\"none\" stroke=\"black\" points=\"278.5,-106.5 379.5,-106.5 \"/>\n",
       "<text text-anchor=\"middle\" x=\"329\" y=\"-91.3\" font-family=\"Times,serif\" font-size=\"14.00\">(None, 200)</text>\n",
       "</g>\n",
       "<!-- 140291550940224&#45;&gt;140291550990928 -->\n",
       "<g id=\"edge8\" class=\"edge\">\n",
       "<title>140291550940224-&gt;140291550990928</title>\n",
       "<path fill=\"none\" stroke=\"black\" d=\"M231,-166.37C231,-158.15 231,-148.66 231,-139.73\"/>\n",
       "<polygon fill=\"black\" stroke=\"black\" points=\"234.5,-139.61 231,-129.61 227.5,-139.61 234.5,-139.61\"/>\n",
       "</g>\n",
       "<!-- 140291550992416 -->\n",
       "<g id=\"node10\" class=\"node\">\n",
       "<title>140291550992416</title>\n",
       "<polygon fill=\"none\" stroke=\"black\" points=\"78,-0.5 78,-46.5 384,-46.5 384,-0.5 78,-0.5\"/>\n",
       "<text text-anchor=\"middle\" x=\"142\" y=\"-19.8\" font-family=\"Times,serif\" font-size=\"14.00\">dense_5: Dense</text>\n",
       "<polyline fill=\"none\" stroke=\"black\" points=\"206,-0.5 206,-46.5 \"/>\n",
       "<text text-anchor=\"middle\" x=\"240\" y=\"-31.3\" font-family=\"Times,serif\" font-size=\"14.00\">input:</text>\n",
       "<polyline fill=\"none\" stroke=\"black\" points=\"206,-23.5 274,-23.5 \"/>\n",
       "<text text-anchor=\"middle\" x=\"240\" y=\"-8.3\" font-family=\"Times,serif\" font-size=\"14.00\">output:</text>\n",
       "<polyline fill=\"none\" stroke=\"black\" points=\"274,-0.5 274,-46.5 \"/>\n",
       "<text text-anchor=\"middle\" x=\"329\" y=\"-31.3\" font-family=\"Times,serif\" font-size=\"14.00\">(None, 200)</text>\n",
       "<polyline fill=\"none\" stroke=\"black\" points=\"274,-23.5 384,-23.5 \"/>\n",
       "<text text-anchor=\"middle\" x=\"329\" y=\"-8.3\" font-family=\"Times,serif\" font-size=\"14.00\">(None, 2500)</text>\n",
       "</g>\n",
       "<!-- 140291550990928&#45;&gt;140291550992416 -->\n",
       "<g id=\"edge9\" class=\"edge\">\n",
       "<title>140291550990928-&gt;140291550992416</title>\n",
       "<path fill=\"none\" stroke=\"black\" d=\"M231,-83.37C231,-75.15 231,-65.66 231,-56.73\"/>\n",
       "<polygon fill=\"black\" stroke=\"black\" points=\"234.5,-56.61 231,-46.61 227.5,-56.61 234.5,-56.61\"/>\n",
       "</g>\n",
       "</g>\n",
       "</svg>"
      ],
      "text/plain": [
       "<IPython.core.display.SVG object>"
      ]
     },
     "execution_count": 2,
     "metadata": {},
     "output_type": "execute_result"
    }
   ],
   "source": [
    "model_PI = tf.keras.models.load_model('../Trained_NN/model_noisy_cricles/')\n",
    "model_PI.summary()\n"
   ]
  },
  {
   "cell_type": "markdown",
   "id": "e9c91e5f",
   "metadata": {},
   "source": [
    "## Regression "
   ]
  },
  {
   "cell_type": "markdown",
   "id": "cd8f4cfb",
   "metadata": {},
   "source": [
    "We first load the data that will be used as training and testing data for the regression."
   ]
  },
  {
   "cell_type": "code",
   "execution_count": 3,
   "id": "f0529801",
   "metadata": {},
   "outputs": [],
   "source": [
    "data = np.load('data/PI_data_noisy_circle_reg.npz')\n",
    "\n",
    "#data = np.load('PI_data_1000_dynamical_alpha.npz')\n",
    "\n",
    "r_train_gudhi = data[\"r_train\"]\n",
    "PI_train_gudhi = data[\"PI_train\"]\n",
    "r_test_gudhi = data[\"r_test\"]\n",
    "PI_test_gudhi = data[\"PI_test\"]"
   ]
  },
  {
   "cell_type": "code",
   "execution_count": 4,
   "id": "652a3e02",
   "metadata": {},
   "outputs": [],
   "source": [
    "N_sets_train = r_train_gudhi.shape[0]\n",
    "N_sets_test = r_test_gudhi.shape[0]\n",
    "PI_size = int(np.sqrt(PI_train_gudhi.shape[1]))"
   ]
  },
  {
   "cell_type": "code",
   "execution_count": 5,
   "id": "95f21564",
   "metadata": {},
   "outputs": [
    {
     "name": "stdout",
     "output_type": "stream",
     "text": [
      "N_sets_train :  2000\n",
      "N_sets_test :  200\n",
      "PI_size :  50\n"
     ]
    }
   ],
   "source": [
    "print(\"N_sets_train : \", N_sets_train)\n",
    "print(\"N_sets_test : \", N_sets_test)\n",
    "print(\"PI_size : \", PI_size)"
   ]
  },
  {
   "cell_type": "markdown",
   "id": "216c4e37",
   "metadata": {},
   "source": [
    "We want to compare the regression results between the true PIs and the predited PIs. For that, we create 2 models : ```model_reg_NN``` will be trained with the PI computed by the NN and ```model_reg_gudhi``` will be trained with the PI computed by Gudhi. We will then compare their accuracy on new data."
   ]
  },
  {
   "cell_type": "code",
   "execution_count": 6,
   "id": "180381df",
   "metadata": {},
   "outputs": [],
   "source": [
    "def create_model():\n",
    "    inputs = tf.keras.Input(shape=(PI_size * PI_size))\n",
    "\n",
    "    x = tf.keras.layers.Dense(100, activation='relu')(inputs)\n",
    "\n",
    "    x = tf.keras.layers.Dense(50, activation='relu')(x)\n",
    "\n",
    "    outputs = tf.keras.layers.Dense(1)(x)\n",
    "\n",
    "    model_reg = tf.keras.Model(inputs=inputs, outputs=outputs)\n",
    "    model_reg.compile(loss=\"mean_squared_error\" , optimizer=\"adam\", metrics=[\"mean_squared_error\"])\n",
    "    return model_reg"
   ]
  },
  {
   "cell_type": "code",
   "execution_count": 7,
   "id": "f39d1694",
   "metadata": {},
   "outputs": [
    {
     "name": "stdout",
     "output_type": "stream",
     "text": [
      "Model: \"model\"\n",
      "_________________________________________________________________\n",
      "Layer (type)                 Output Shape              Param #   \n",
      "=================================================================\n",
      "input_1 (InputLayer)         [(None, 2500)]            0         \n",
      "_________________________________________________________________\n",
      "dense (Dense)                (None, 100)               250100    \n",
      "_________________________________________________________________\n",
      "dense_1 (Dense)              (None, 50)                5050      \n",
      "_________________________________________________________________\n",
      "dense_2 (Dense)              (None, 1)                 51        \n",
      "=================================================================\n",
      "Total params: 255,201\n",
      "Trainable params: 255,201\n",
      "Non-trainable params: 0\n",
      "_________________________________________________________________\n"
     ]
    }
   ],
   "source": [
    "model_reg_NN = create_model()\n",
    "model_reg_gudhi = create_model()\n",
    "\n",
    "model_reg_NN.summary()\n",
    "\n",
    "\n",
    "#SVG(\n",
    "#    tf.keras.utils.model_to_dot(model_classif,\n",
    "#                                show_shapes=True).create(prog='dot',\n",
    "#                                                         format='svg'))\n",
    "                                                        \n",
    "#tf.keras.utils.plot_model(model_classif,\n",
    "#                          to_file='Résultats/Résultats 2/model_classif_multip.pdf',\n",
    "#                          show_shapes=True,\n",
    "#                          rankdir='LR')"
   ]
  },
  {
   "cell_type": "markdown",
   "id": "0a94cf93",
   "metadata": {},
   "source": [
    "### Fit the regression model ```model_reg_gudhi```"
   ]
  },
  {
   "cell_type": "code",
   "execution_count": 8,
   "id": "17695531",
   "metadata": {
    "scrolled": true
   },
   "outputs": [
    {
     "name": "stdout",
     "output_type": "stream",
     "text": [
      "Epoch 1/100\n",
      "63/63 [==============================] - 1s 4ms/step - loss: 0.0691 - mean_squared_error: 0.0691 - val_loss: 0.0187 - val_mean_squared_error: 0.0187\n",
      "Epoch 2/100\n",
      "63/63 [==============================] - 0s 2ms/step - loss: 0.0232 - mean_squared_error: 0.0232 - val_loss: 0.0181 - val_mean_squared_error: 0.0181\n",
      "Epoch 3/100\n",
      "63/63 [==============================] - 0s 2ms/step - loss: 0.0227 - mean_squared_error: 0.0227 - val_loss: 0.0172 - val_mean_squared_error: 0.0172\n",
      "Epoch 4/100\n",
      "63/63 [==============================] - 0s 2ms/step - loss: 0.0235 - mean_squared_error: 0.0235 - val_loss: 0.0150 - val_mean_squared_error: 0.0150\n",
      "Epoch 5/100\n",
      "63/63 [==============================] - 0s 2ms/step - loss: 0.0198 - mean_squared_error: 0.0198 - val_loss: 0.0121 - val_mean_squared_error: 0.0121\n",
      "Epoch 6/100\n",
      "63/63 [==============================] - 0s 2ms/step - loss: 0.0198 - mean_squared_error: 0.0198 - val_loss: 0.0143 - val_mean_squared_error: 0.0143\n",
      "Epoch 7/100\n",
      "63/63 [==============================] - 0s 2ms/step - loss: 0.0187 - mean_squared_error: 0.0187 - val_loss: 0.0117 - val_mean_squared_error: 0.0117\n",
      "Epoch 8/100\n",
      "63/63 [==============================] - 0s 2ms/step - loss: 0.0184 - mean_squared_error: 0.0184 - val_loss: 0.0134 - val_mean_squared_error: 0.0134\n",
      "Epoch 9/100\n",
      "63/63 [==============================] - 0s 2ms/step - loss: 0.0183 - mean_squared_error: 0.0183 - val_loss: 0.0109 - val_mean_squared_error: 0.0109\n",
      "Epoch 10/100\n",
      "63/63 [==============================] - 0s 2ms/step - loss: 0.0164 - mean_squared_error: 0.0164 - val_loss: 0.0122 - val_mean_squared_error: 0.0122\n",
      "Epoch 11/100\n",
      "63/63 [==============================] - 0s 2ms/step - loss: 0.0165 - mean_squared_error: 0.0165 - val_loss: 0.0093 - val_mean_squared_error: 0.0093\n",
      "Epoch 12/100\n",
      "63/63 [==============================] - 0s 2ms/step - loss: 0.0146 - mean_squared_error: 0.0146 - val_loss: 0.0092 - val_mean_squared_error: 0.0092\n",
      "Epoch 13/100\n",
      "63/63 [==============================] - 0s 2ms/step - loss: 0.0147 - mean_squared_error: 0.0147 - val_loss: 0.0095 - val_mean_squared_error: 0.0095\n",
      "Epoch 14/100\n",
      "63/63 [==============================] - 0s 2ms/step - loss: 0.0141 - mean_squared_error: 0.0141 - val_loss: 0.0087 - val_mean_squared_error: 0.0087\n",
      "Epoch 15/100\n",
      "63/63 [==============================] - 0s 3ms/step - loss: 0.0137 - mean_squared_error: 0.0137 - val_loss: 0.0075 - val_mean_squared_error: 0.0075\n",
      "Epoch 16/100\n",
      "63/63 [==============================] - 0s 2ms/step - loss: 0.0131 - mean_squared_error: 0.0131 - val_loss: 0.0086 - val_mean_squared_error: 0.0086\n",
      "Epoch 17/100\n",
      "63/63 [==============================] - 0s 3ms/step - loss: 0.0129 - mean_squared_error: 0.0129 - val_loss: 0.0072 - val_mean_squared_error: 0.0072\n",
      "Epoch 18/100\n",
      "63/63 [==============================] - 0s 2ms/step - loss: 0.0128 - mean_squared_error: 0.0128 - val_loss: 0.0077 - val_mean_squared_error: 0.0077\n",
      "Epoch 19/100\n",
      "63/63 [==============================] - 0s 3ms/step - loss: 0.0123 - mean_squared_error: 0.0123 - val_loss: 0.0074 - val_mean_squared_error: 0.0074\n",
      "Epoch 20/100\n",
      "63/63 [==============================] - 0s 2ms/step - loss: 0.0120 - mean_squared_error: 0.0120 - val_loss: 0.0064 - val_mean_squared_error: 0.0064\n",
      "Epoch 21/100\n",
      "63/63 [==============================] - 0s 2ms/step - loss: 0.0133 - mean_squared_error: 0.0133 - val_loss: 0.0075 - val_mean_squared_error: 0.0075\n",
      "Epoch 22/100\n",
      "63/63 [==============================] - 0s 2ms/step - loss: 0.0124 - mean_squared_error: 0.0124 - val_loss: 0.0059 - val_mean_squared_error: 0.0059\n",
      "Epoch 23/100\n",
      "63/63 [==============================] - 0s 3ms/step - loss: 0.0116 - mean_squared_error: 0.0116 - val_loss: 0.0067 - val_mean_squared_error: 0.0067\n",
      "Epoch 24/100\n",
      "63/63 [==============================] - 0s 2ms/step - loss: 0.0117 - mean_squared_error: 0.0117 - val_loss: 0.0066 - val_mean_squared_error: 0.0066\n",
      "Epoch 25/100\n",
      "63/63 [==============================] - 0s 2ms/step - loss: 0.0114 - mean_squared_error: 0.0114 - val_loss: 0.0052 - val_mean_squared_error: 0.0052\n",
      "Epoch 26/100\n",
      "63/63 [==============================] - 0s 2ms/step - loss: 0.0103 - mean_squared_error: 0.0103 - val_loss: 0.0057 - val_mean_squared_error: 0.0057\n",
      "Epoch 27/100\n",
      "63/63 [==============================] - 0s 2ms/step - loss: 0.0110 - mean_squared_error: 0.0110 - val_loss: 0.0058 - val_mean_squared_error: 0.0058\n",
      "Epoch 28/100\n",
      "63/63 [==============================] - 0s 2ms/step - loss: 0.0101 - mean_squared_error: 0.0101 - val_loss: 0.0060 - val_mean_squared_error: 0.0060\n",
      "Epoch 29/100\n",
      "63/63 [==============================] - 0s 2ms/step - loss: 0.0105 - mean_squared_error: 0.0105 - val_loss: 0.0042 - val_mean_squared_error: 0.0042\n",
      "Epoch 30/100\n",
      "63/63 [==============================] - 0s 2ms/step - loss: 0.0102 - mean_squared_error: 0.0102 - val_loss: 0.0053 - val_mean_squared_error: 0.0053\n",
      "Epoch 31/100\n",
      "63/63 [==============================] - 0s 2ms/step - loss: 0.0095 - mean_squared_error: 0.0095 - val_loss: 0.0062 - val_mean_squared_error: 0.0062\n",
      "Epoch 32/100\n",
      "63/63 [==============================] - 0s 2ms/step - loss: 0.0103 - mean_squared_error: 0.0103 - val_loss: 0.0070 - val_mean_squared_error: 0.0070\n",
      "Epoch 33/100\n",
      "63/63 [==============================] - 0s 2ms/step - loss: 0.0097 - mean_squared_error: 0.0097 - val_loss: 0.0049 - val_mean_squared_error: 0.0049\n",
      "Epoch 34/100\n",
      "63/63 [==============================] - 0s 2ms/step - loss: 0.0097 - mean_squared_error: 0.0097 - val_loss: 0.0072 - val_mean_squared_error: 0.0072\n",
      "Epoch 35/100\n",
      "63/63 [==============================] - 0s 2ms/step - loss: 0.0096 - mean_squared_error: 0.0096 - val_loss: 0.0042 - val_mean_squared_error: 0.0042\n",
      "Epoch 36/100\n",
      "63/63 [==============================] - 0s 2ms/step - loss: 0.0094 - mean_squared_error: 0.0094 - val_loss: 0.0045 - val_mean_squared_error: 0.0045\n",
      "Epoch 37/100\n",
      "63/63 [==============================] - 0s 2ms/step - loss: 0.0093 - mean_squared_error: 0.0093 - val_loss: 0.0043 - val_mean_squared_error: 0.0043\n",
      "Epoch 38/100\n",
      "63/63 [==============================] - 0s 2ms/step - loss: 0.0093 - mean_squared_error: 0.0093 - val_loss: 0.0041 - val_mean_squared_error: 0.0041\n",
      "Epoch 39/100\n",
      "63/63 [==============================] - 0s 2ms/step - loss: 0.0088 - mean_squared_error: 0.0088 - val_loss: 0.0050 - val_mean_squared_error: 0.0050\n",
      "Epoch 40/100\n",
      "63/63 [==============================] - 0s 2ms/step - loss: 0.0090 - mean_squared_error: 0.0090 - val_loss: 0.0054 - val_mean_squared_error: 0.0054\n",
      "Epoch 41/100\n",
      "63/63 [==============================] - 0s 2ms/step - loss: 0.0092 - mean_squared_error: 0.0092 - val_loss: 0.0036 - val_mean_squared_error: 0.0036\n",
      "Epoch 42/100\n",
      "63/63 [==============================] - 0s 2ms/step - loss: 0.0086 - mean_squared_error: 0.0086 - val_loss: 0.0044 - val_mean_squared_error: 0.0044\n",
      "Epoch 43/100\n",
      "63/63 [==============================] - 0s 2ms/step - loss: 0.0084 - mean_squared_error: 0.0084 - val_loss: 0.0035 - val_mean_squared_error: 0.0035\n",
      "Epoch 44/100\n",
      "63/63 [==============================] - 0s 2ms/step - loss: 0.0090 - mean_squared_error: 0.0090 - val_loss: 0.0039 - val_mean_squared_error: 0.0039\n",
      "Epoch 45/100\n",
      "63/63 [==============================] - 0s 2ms/step - loss: 0.0086 - mean_squared_error: 0.0086 - val_loss: 0.0054 - val_mean_squared_error: 0.0054\n",
      "Epoch 46/100\n",
      "63/63 [==============================] - 0s 3ms/step - loss: 0.0090 - mean_squared_error: 0.0090 - val_loss: 0.0046 - val_mean_squared_error: 0.0046\n",
      "Epoch 47/100\n",
      "63/63 [==============================] - 0s 2ms/step - loss: 0.0086 - mean_squared_error: 0.0086 - val_loss: 0.0036 - val_mean_squared_error: 0.0036\n",
      "Epoch 48/100\n",
      "63/63 [==============================] - 0s 2ms/step - loss: 0.0083 - mean_squared_error: 0.0083 - val_loss: 0.0037 - val_mean_squared_error: 0.0037\n",
      "Epoch 49/100\n",
      "63/63 [==============================] - 0s 2ms/step - loss: 0.0082 - mean_squared_error: 0.0082 - val_loss: 0.0039 - val_mean_squared_error: 0.0039\n",
      "Epoch 50/100\n",
      "63/63 [==============================] - 0s 2ms/step - loss: 0.0085 - mean_squared_error: 0.0085 - val_loss: 0.0049 - val_mean_squared_error: 0.0049\n",
      "Epoch 51/100\n",
      "63/63 [==============================] - 0s 2ms/step - loss: 0.0084 - mean_squared_error: 0.0084 - val_loss: 0.0055 - val_mean_squared_error: 0.0055\n",
      "Epoch 52/100\n",
      "63/63 [==============================] - 0s 2ms/step - loss: 0.0078 - mean_squared_error: 0.0078 - val_loss: 0.0038 - val_mean_squared_error: 0.0038\n",
      "Epoch 53/100\n",
      "63/63 [==============================] - 0s 2ms/step - loss: 0.0082 - mean_squared_error: 0.0082 - val_loss: 0.0043 - val_mean_squared_error: 0.0043\n",
      "Epoch 54/100\n",
      "63/63 [==============================] - 0s 3ms/step - loss: 0.0082 - mean_squared_error: 0.0082 - val_loss: 0.0047 - val_mean_squared_error: 0.0047\n",
      "Epoch 55/100\n",
      "63/63 [==============================] - 0s 2ms/step - loss: 0.0086 - mean_squared_error: 0.0086 - val_loss: 0.0047 - val_mean_squared_error: 0.0047\n",
      "Epoch 56/100\n",
      "63/63 [==============================] - 0s 2ms/step - loss: 0.0080 - mean_squared_error: 0.0080 - val_loss: 0.0039 - val_mean_squared_error: 0.0039\n",
      "Epoch 57/100\n",
      "63/63 [==============================] - 0s 3ms/step - loss: 0.0078 - mean_squared_error: 0.0078 - val_loss: 0.0032 - val_mean_squared_error: 0.0032\n",
      "Epoch 58/100\n",
      "63/63 [==============================] - 0s 2ms/step - loss: 0.0077 - mean_squared_error: 0.0077 - val_loss: 0.0042 - val_mean_squared_error: 0.0042\n",
      "Epoch 59/100\n",
      "63/63 [==============================] - 0s 2ms/step - loss: 0.0082 - mean_squared_error: 0.0082 - val_loss: 0.0031 - val_mean_squared_error: 0.0031\n",
      "Epoch 60/100\n",
      "63/63 [==============================] - 0s 2ms/step - loss: 0.0079 - mean_squared_error: 0.0079 - val_loss: 0.0038 - val_mean_squared_error: 0.0038\n",
      "Epoch 61/100\n",
      "63/63 [==============================] - 0s 2ms/step - loss: 0.0080 - mean_squared_error: 0.0080 - val_loss: 0.0032 - val_mean_squared_error: 0.0032\n",
      "Epoch 62/100\n",
      "63/63 [==============================] - 0s 2ms/step - loss: 0.0080 - mean_squared_error: 0.0080 - val_loss: 0.0046 - val_mean_squared_error: 0.0046\n",
      "Epoch 63/100\n",
      "63/63 [==============================] - 0s 2ms/step - loss: 0.0080 - mean_squared_error: 0.0080 - val_loss: 0.0036 - val_mean_squared_error: 0.0036\n",
      "Epoch 64/100\n",
      "63/63 [==============================] - 0s 2ms/step - loss: 0.0076 - mean_squared_error: 0.0076 - val_loss: 0.0029 - val_mean_squared_error: 0.0029\n",
      "Epoch 65/100\n",
      "63/63 [==============================] - 0s 2ms/step - loss: 0.0074 - mean_squared_error: 0.0074 - val_loss: 0.0034 - val_mean_squared_error: 0.0034\n",
      "Epoch 66/100\n",
      "63/63 [==============================] - 0s 2ms/step - loss: 0.0075 - mean_squared_error: 0.0075 - val_loss: 0.0026 - val_mean_squared_error: 0.0026\n",
      "Epoch 67/100\n",
      "63/63 [==============================] - 0s 2ms/step - loss: 0.0074 - mean_squared_error: 0.0074 - val_loss: 0.0041 - val_mean_squared_error: 0.0041\n",
      "Epoch 68/100\n",
      "63/63 [==============================] - 0s 2ms/step - loss: 0.0073 - mean_squared_error: 0.0073 - val_loss: 0.0030 - val_mean_squared_error: 0.0030\n",
      "Epoch 69/100\n",
      "63/63 [==============================] - 0s 2ms/step - loss: 0.0070 - mean_squared_error: 0.0070 - val_loss: 0.0032 - val_mean_squared_error: 0.0032\n",
      "Epoch 70/100\n",
      "63/63 [==============================] - 0s 2ms/step - loss: 0.0073 - mean_squared_error: 0.0073 - val_loss: 0.0024 - val_mean_squared_error: 0.0024\n",
      "Epoch 71/100\n",
      "63/63 [==============================] - 0s 2ms/step - loss: 0.0069 - mean_squared_error: 0.0069 - val_loss: 0.0044 - val_mean_squared_error: 0.0044\n",
      "Epoch 72/100\n",
      "63/63 [==============================] - 0s 2ms/step - loss: 0.0068 - mean_squared_error: 0.0068 - val_loss: 0.0026 - val_mean_squared_error: 0.0026\n",
      "Epoch 73/100\n",
      "63/63 [==============================] - 0s 2ms/step - loss: 0.0069 - mean_squared_error: 0.0069 - val_loss: 0.0029 - val_mean_squared_error: 0.0029\n",
      "Epoch 74/100\n",
      "63/63 [==============================] - 0s 2ms/step - loss: 0.0077 - mean_squared_error: 0.0077 - val_loss: 0.0032 - val_mean_squared_error: 0.0032\n",
      "Epoch 75/100\n",
      "63/63 [==============================] - 0s 2ms/step - loss: 0.0072 - mean_squared_error: 0.0072 - val_loss: 0.0039 - val_mean_squared_error: 0.0039\n",
      "Epoch 76/100\n",
      "63/63 [==============================] - 0s 3ms/step - loss: 0.0070 - mean_squared_error: 0.0070 - val_loss: 0.0044 - val_mean_squared_error: 0.0044\n",
      "Epoch 77/100\n",
      "63/63 [==============================] - 0s 2ms/step - loss: 0.0071 - mean_squared_error: 0.0071 - val_loss: 0.0034 - val_mean_squared_error: 0.0034\n",
      "Epoch 78/100\n",
      "63/63 [==============================] - 0s 2ms/step - loss: 0.0069 - mean_squared_error: 0.0069 - val_loss: 0.0031 - val_mean_squared_error: 0.0031\n",
      "Epoch 79/100\n",
      "63/63 [==============================] - 0s 2ms/step - loss: 0.0069 - mean_squared_error: 0.0069 - val_loss: 0.0025 - val_mean_squared_error: 0.0025\n",
      "Epoch 80/100\n",
      "63/63 [==============================] - 0s 2ms/step - loss: 0.0072 - mean_squared_error: 0.0072 - val_loss: 0.0024 - val_mean_squared_error: 0.0024\n",
      "Epoch 81/100\n",
      "63/63 [==============================] - 0s 2ms/step - loss: 0.0069 - mean_squared_error: 0.0069 - val_loss: 0.0032 - val_mean_squared_error: 0.0032\n",
      "Epoch 82/100\n",
      "63/63 [==============================] - 0s 3ms/step - loss: 0.0068 - mean_squared_error: 0.0068 - val_loss: 0.0033 - val_mean_squared_error: 0.0033\n",
      "Epoch 83/100\n",
      "63/63 [==============================] - 0s 2ms/step - loss: 0.0071 - mean_squared_error: 0.0071 - val_loss: 0.0038 - val_mean_squared_error: 0.0038\n",
      "Epoch 84/100\n",
      "63/63 [==============================] - 0s 2ms/step - loss: 0.0067 - mean_squared_error: 0.0067 - val_loss: 0.0025 - val_mean_squared_error: 0.0025\n",
      "Epoch 85/100\n",
      "63/63 [==============================] - 0s 2ms/step - loss: 0.0064 - mean_squared_error: 0.0064 - val_loss: 0.0029 - val_mean_squared_error: 0.0029\n",
      "Epoch 86/100\n",
      "63/63 [==============================] - 0s 2ms/step - loss: 0.0069 - mean_squared_error: 0.0069 - val_loss: 0.0032 - val_mean_squared_error: 0.0032\n",
      "Epoch 87/100\n",
      "63/63 [==============================] - 0s 2ms/step - loss: 0.0077 - mean_squared_error: 0.0077 - val_loss: 0.0026 - val_mean_squared_error: 0.0026\n",
      "Epoch 88/100\n",
      "63/63 [==============================] - 0s 2ms/step - loss: 0.0068 - mean_squared_error: 0.0068 - val_loss: 0.0025 - val_mean_squared_error: 0.0025\n",
      "Epoch 89/100\n",
      "63/63 [==============================] - 0s 2ms/step - loss: 0.0064 - mean_squared_error: 0.0064 - val_loss: 0.0026 - val_mean_squared_error: 0.0026\n",
      "Epoch 90/100\n",
      "63/63 [==============================] - 0s 2ms/step - loss: 0.0067 - mean_squared_error: 0.0067 - val_loss: 0.0024 - val_mean_squared_error: 0.0024\n",
      "Epoch 91/100\n",
      "63/63 [==============================] - 0s 2ms/step - loss: 0.0063 - mean_squared_error: 0.0063 - val_loss: 0.0024 - val_mean_squared_error: 0.0024\n",
      "Epoch 92/100\n",
      "63/63 [==============================] - 0s 2ms/step - loss: 0.0064 - mean_squared_error: 0.0064 - val_loss: 0.0025 - val_mean_squared_error: 0.0025\n",
      "Epoch 93/100\n",
      "63/63 [==============================] - 0s 2ms/step - loss: 0.0062 - mean_squared_error: 0.0062 - val_loss: 0.0023 - val_mean_squared_error: 0.0023\n",
      "Epoch 94/100\n",
      "63/63 [==============================] - 0s 3ms/step - loss: 0.0062 - mean_squared_error: 0.0062 - val_loss: 0.0023 - val_mean_squared_error: 0.0023\n",
      "Epoch 95/100\n",
      "63/63 [==============================] - 0s 2ms/step - loss: 0.0063 - mean_squared_error: 0.0063 - val_loss: 0.0035 - val_mean_squared_error: 0.0035\n",
      "Epoch 96/100\n",
      "63/63 [==============================] - 0s 2ms/step - loss: 0.0062 - mean_squared_error: 0.0062 - val_loss: 0.0021 - val_mean_squared_error: 0.0021\n",
      "Epoch 97/100\n",
      "63/63 [==============================] - 0s 2ms/step - loss: 0.0062 - mean_squared_error: 0.0062 - val_loss: 0.0023 - val_mean_squared_error: 0.0023\n",
      "Epoch 98/100\n",
      "63/63 [==============================] - 0s 2ms/step - loss: 0.0061 - mean_squared_error: 0.0061 - val_loss: 0.0024 - val_mean_squared_error: 0.0024\n",
      "Epoch 99/100\n",
      "63/63 [==============================] - 0s 2ms/step - loss: 0.0063 - mean_squared_error: 0.0063 - val_loss: 0.0029 - val_mean_squared_error: 0.0029\n",
      "Epoch 100/100\n",
      "63/63 [==============================] - 0s 2ms/step - loss: 0.0063 - mean_squared_error: 0.0063 - val_loss: 0.0037 - val_mean_squared_error: 0.0037\n"
     ]
    }
   ],
   "source": [
    "history_gudhi = model_reg_gudhi.fit(PI_train_gudhi,\n",
    "                            r_train_gudhi,\n",
    "                            epochs=100,\n",
    "                            validation_data=(PI_test_gudhi, r_test_gudhi))"
   ]
  },
  {
   "cell_type": "markdown",
   "id": "51706182",
   "metadata": {},
   "source": [
    "We compute the $R^2$ coefficient and the MSE score of the regression trained on real PIs. "
   ]
  },
  {
   "cell_type": "code",
   "execution_count": 10,
   "id": "3f6ce627",
   "metadata": {},
   "outputs": [
    {
     "name": "stdout",
     "output_type": "stream",
     "text": [
      "7/7 - 0s - loss: 0.0037 - mean_squared_error: 0.0037\n"
     ]
    }
   ],
   "source": [
    "r_pred_gudhi = model_reg_gudhi.predict(PI_test_gudhi)\n",
    "test_loss_g, test_acc_g = model_reg_gudhi.evaluate(PI_test_gudhi,  r_test_gudhi, verbose=2)\n",
    "r2_g = r2_score(r_test_gudhi,r_pred_gudhi)\n",
    "print(\"r2 =\", r2_g)"
   ]
  },
  {
   "cell_type": "markdown",
   "id": "a695f50e",
   "metadata": {},
   "source": [
    "We plot the regression trained on true PIs"
   ]
  },
  {
   "cell_type": "code",
   "execution_count": 27,
   "id": "5841f330",
   "metadata": {},
   "outputs": [
    {
     "data": {
      "image/png": "[encoded data removed]",
      "text/plain": [
       "<Figure size 432x288 with 1 Axes>"
      ]
     },
     "metadata": {
      "needs_background": "light"
     },
     "output_type": "display_data"
    }
   ],
   "source": [
    "plt.plot(r_test_gudhi,r_pred_gudhi,'bo',markersize=2)\n",
    "plt.xlabel(\"True radius\")\n",
    "plt.ylabel(\"Predicted radius\")\n",
    "plt.title(\"MSE : {:e}, R² = {:2f}\".format(test_acc_g,r2_g),fontsize=20)\n",
    "plt.savefig(\"Résultats/Résultats 3/regression_diameter_noisy_circle_gudhi.pdf\")"
   ]
  },
  {
   "cell_type": "markdown",
   "id": "8842c7b5",
   "metadata": {},
   "source": [
    " ### Generate data for the training of ```model_reg_NN```  "
   ]
  },
  {
   "cell_type": "code",
   "execution_count": 14,
   "id": "d95c6071",
   "metadata": {},
   "outputs": [],
   "source": [
    "def create_noisy_circle(N_points, r, x_0, y_0,eps):\n",
    "    X = []\n",
    "    for i in range(N_points): #On fait un cercle\n",
    "        theta = np.random.uniform()*2*np.pi\n",
    "        x = r*np.cos(theta)+x_0 + eps*(np.random.random() - 1/2)\n",
    "        y = r*np.sin(theta)+y_0 + eps*(np.random.random() - 1/2)\n",
    "        X.append([x,y])\n",
    "    return np.array(X)"
   ]
  },
  {
   "cell_type": "code",
   "execution_count": 15,
   "id": "0a95593f",
   "metadata": {},
   "outputs": [
    {
     "name": "stderr",
     "output_type": "stream",
     "text": [
      "Generating dataset : 100%|██████████| 2000/2000 [00:07<00:00, 262.70it/s]\n"
     ]
    }
   ],
   "source": [
    "N_points = 500\n",
    "data_train_NN = np.zeros((N_sets_train, N_points, 2))\n",
    "r_train_NN = np.zeros((N_sets_train,))\n",
    "\n",
    "for i in tqdm(range(N_sets_train), desc='Generating dataset : '):\n",
    "    r = np.random.random()\n",
    "    eps = 0.5 * np.random.random()\n",
    "    data_train_NN[i] = create_noisy_circle(N_points, r,0,0,eps) \n",
    "    r_train_NN[i] = r"
   ]
  },
  {
   "cell_type": "code",
   "execution_count": 17,
   "id": "9f0d91d2",
   "metadata": {},
   "outputs": [],
   "source": [
    "PI_train_NN = model_PI.predict(data_train_NN)"
   ]
  },
  {
   "cell_type": "code",
   "execution_count": 16,
   "id": "16b4a17a",
   "metadata": {},
   "outputs": [
    {
     "name": "stderr",
     "output_type": "stream",
     "text": [
      "Generating dataset : 100%|██████████| 200/200 [00:00<00:00, 260.45it/s]\n"
     ]
    }
   ],
   "source": [
    "N_points = 500\n",
    "data_test_NN = np.zeros((N_sets_test, N_points, 2))\n",
    "r_test_NN = np.zeros((N_sets_test,))\n",
    "\n",
    "for i in tqdm(range(N_sets_test), desc='Generating dataset : '):\n",
    "    r = np.random.random()\n",
    "    eps = 0.5 * np.random.random()\n",
    "    data_test_NN[i] = create_noisy_circle(N_points, r,0,0,eps) \n",
    "    r_test_NN[i] = r"
   ]
  },
  {
   "cell_type": "code",
   "execution_count": 18,
   "id": "d240924b",
   "metadata": {},
   "outputs": [],
   "source": [
    "PI_test_NN = model_PI.predict(data_test_NN)"
   ]
  },
  {
   "cell_type": "markdown",
   "id": "4d698d85",
   "metadata": {},
   "source": [
    "### Fit the regression model ```model_reg_NN```"
   ]
  },
  {
   "cell_type": "code",
   "execution_count": 20,
   "id": "0681b2b0",
   "metadata": {
    "scrolled": true
   },
   "outputs": [
    {
     "name": "stdout",
     "output_type": "stream",
     "text": [
      "Epoch 1/50\n",
      "63/63 [==============================] - 0s 3ms/step - loss: 0.0037 - mean_squared_error: 0.0037 - val_loss: 0.0037 - val_mean_squared_error: 0.0037\n",
      "Epoch 2/50\n",
      "63/63 [==============================] - 0s 2ms/step - loss: 0.0035 - mean_squared_error: 0.0035 - val_loss: 0.0030 - val_mean_squared_error: 0.0030\n",
      "Epoch 3/50\n",
      "63/63 [==============================] - 0s 2ms/step - loss: 0.0035 - mean_squared_error: 0.0035 - val_loss: 0.0032 - val_mean_squared_error: 0.0032\n",
      "Epoch 4/50\n",
      "63/63 [==============================] - 0s 2ms/step - loss: 0.0034 - mean_squared_error: 0.0034 - val_loss: 0.0033 - val_mean_squared_error: 0.0033\n",
      "Epoch 5/50\n",
      "63/63 [==============================] - 0s 2ms/step - loss: 0.0035 - mean_squared_error: 0.0035 - val_loss: 0.0031 - val_mean_squared_error: 0.0031\n",
      "Epoch 6/50\n",
      "63/63 [==============================] - 0s 2ms/step - loss: 0.0035 - mean_squared_error: 0.0035 - val_loss: 0.0031 - val_mean_squared_error: 0.0031\n",
      "Epoch 7/50\n",
      "63/63 [==============================] - 0s 2ms/step - loss: 0.0035 - mean_squared_error: 0.0035 - val_loss: 0.0033 - val_mean_squared_error: 0.0033\n",
      "Epoch 8/50\n",
      "63/63 [==============================] - 0s 2ms/step - loss: 0.0034 - mean_squared_error: 0.0034 - val_loss: 0.0033 - val_mean_squared_error: 0.0033\n",
      "Epoch 9/50\n",
      "63/63 [==============================] - 0s 2ms/step - loss: 0.0034 - mean_squared_error: 0.0034 - val_loss: 0.0035 - val_mean_squared_error: 0.0035\n",
      "Epoch 10/50\n",
      "63/63 [==============================] - 0s 2ms/step - loss: 0.0036 - mean_squared_error: 0.0036 - val_loss: 0.0031 - val_mean_squared_error: 0.0031\n",
      "Epoch 11/50\n",
      "63/63 [==============================] - 0s 2ms/step - loss: 0.0036 - mean_squared_error: 0.0036 - val_loss: 0.0030 - val_mean_squared_error: 0.0030\n",
      "Epoch 12/50\n",
      "63/63 [==============================] - 0s 2ms/step - loss: 0.0034 - mean_squared_error: 0.0034 - val_loss: 0.0034 - val_mean_squared_error: 0.0034\n",
      "Epoch 13/50\n",
      "63/63 [==============================] - 0s 2ms/step - loss: 0.0034 - mean_squared_error: 0.0034 - val_loss: 0.0031 - val_mean_squared_error: 0.0031\n",
      "Epoch 14/50\n",
      "63/63 [==============================] - 0s 2ms/step - loss: 0.0034 - mean_squared_error: 0.0034 - val_loss: 0.0037 - val_mean_squared_error: 0.0037\n",
      "Epoch 15/50\n",
      "63/63 [==============================] - 0s 2ms/step - loss: 0.0036 - mean_squared_error: 0.0036 - val_loss: 0.0033 - val_mean_squared_error: 0.0033\n",
      "Epoch 16/50\n",
      "63/63 [==============================] - 0s 2ms/step - loss: 0.0035 - mean_squared_error: 0.0035 - val_loss: 0.0037 - val_mean_squared_error: 0.0037\n",
      "Epoch 17/50\n",
      "63/63 [==============================] - 0s 3ms/step - loss: 0.0035 - mean_squared_error: 0.0035 - val_loss: 0.0031 - val_mean_squared_error: 0.0031\n",
      "Epoch 18/50\n",
      "63/63 [==============================] - 0s 3ms/step - loss: 0.0035 - mean_squared_error: 0.0035 - val_loss: 0.0039 - val_mean_squared_error: 0.0039\n",
      "Epoch 19/50\n",
      "63/63 [==============================] - 0s 2ms/step - loss: 0.0035 - mean_squared_error: 0.0035 - val_loss: 0.0031 - val_mean_squared_error: 0.0031\n",
      "Epoch 20/50\n",
      "63/63 [==============================] - 0s 3ms/step - loss: 0.0035 - mean_squared_error: 0.0035 - val_loss: 0.0038 - val_mean_squared_error: 0.0038\n",
      "Epoch 21/50\n",
      "63/63 [==============================] - 0s 2ms/step - loss: 0.0036 - mean_squared_error: 0.0036 - val_loss: 0.0034 - val_mean_squared_error: 0.0034\n",
      "Epoch 22/50\n",
      "63/63 [==============================] - 0s 2ms/step - loss: 0.0035 - mean_squared_error: 0.0035 - val_loss: 0.0031 - val_mean_squared_error: 0.0031\n",
      "Epoch 23/50\n",
      "63/63 [==============================] - 0s 3ms/step - loss: 0.0036 - mean_squared_error: 0.0036 - val_loss: 0.0031 - val_mean_squared_error: 0.0031\n",
      "Epoch 24/50\n",
      "63/63 [==============================] - 0s 2ms/step - loss: 0.0034 - mean_squared_error: 0.0034 - val_loss: 0.0037 - val_mean_squared_error: 0.0037\n",
      "Epoch 25/50\n",
      "63/63 [==============================] - 0s 2ms/step - loss: 0.0034 - mean_squared_error: 0.0034 - val_loss: 0.0034 - val_mean_squared_error: 0.0034\n",
      "Epoch 26/50\n",
      "63/63 [==============================] - 0s 3ms/step - loss: 0.0034 - mean_squared_error: 0.0034 - val_loss: 0.0034 - val_mean_squared_error: 0.0034\n",
      "Epoch 27/50\n",
      "63/63 [==============================] - 0s 3ms/step - loss: 0.0035 - mean_squared_error: 0.0035 - val_loss: 0.0031 - val_mean_squared_error: 0.0031\n",
      "Epoch 28/50\n",
      "63/63 [==============================] - 0s 3ms/step - loss: 0.0034 - mean_squared_error: 0.0034 - val_loss: 0.0031 - val_mean_squared_error: 0.0031\n",
      "Epoch 29/50\n",
      "63/63 [==============================] - 0s 3ms/step - loss: 0.0034 - mean_squared_error: 0.0034 - val_loss: 0.0034 - val_mean_squared_error: 0.0034\n",
      "Epoch 30/50\n",
      "63/63 [==============================] - 0s 3ms/step - loss: 0.0035 - mean_squared_error: 0.0035 - val_loss: 0.0035 - val_mean_squared_error: 0.0035\n",
      "Epoch 31/50\n",
      "63/63 [==============================] - 0s 2ms/step - loss: 0.0034 - mean_squared_error: 0.0034 - val_loss: 0.0034 - val_mean_squared_error: 0.0034\n",
      "Epoch 32/50\n",
      "63/63 [==============================] - 0s 2ms/step - loss: 0.0034 - mean_squared_error: 0.0034 - val_loss: 0.0031 - val_mean_squared_error: 0.0031\n",
      "Epoch 33/50\n",
      "63/63 [==============================] - 0s 3ms/step - loss: 0.0035 - mean_squared_error: 0.0035 - val_loss: 0.0042 - val_mean_squared_error: 0.0042\n",
      "Epoch 34/50\n",
      "63/63 [==============================] - 0s 2ms/step - loss: 0.0034 - mean_squared_error: 0.0034 - val_loss: 0.0031 - val_mean_squared_error: 0.0031\n",
      "Epoch 35/50\n",
      "63/63 [==============================] - 0s 3ms/step - loss: 0.0034 - mean_squared_error: 0.0034 - val_loss: 0.0031 - val_mean_squared_error: 0.0031\n",
      "Epoch 36/50\n",
      "63/63 [==============================] - 0s 2ms/step - loss: 0.0035 - mean_squared_error: 0.0035 - val_loss: 0.0042 - val_mean_squared_error: 0.0042\n",
      "Epoch 37/50\n",
      "63/63 [==============================] - 0s 2ms/step - loss: 0.0034 - mean_squared_error: 0.0034 - val_loss: 0.0035 - val_mean_squared_error: 0.0035\n",
      "Epoch 38/50\n",
      "63/63 [==============================] - 0s 3ms/step - loss: 0.0035 - mean_squared_error: 0.0035 - val_loss: 0.0033 - val_mean_squared_error: 0.0033\n",
      "Epoch 39/50\n",
      "63/63 [==============================] - 0s 2ms/step - loss: 0.0034 - mean_squared_error: 0.0034 - val_loss: 0.0032 - val_mean_squared_error: 0.0032\n",
      "Epoch 40/50\n",
      "63/63 [==============================] - 0s 2ms/step - loss: 0.0035 - mean_squared_error: 0.0035 - val_loss: 0.0031 - val_mean_squared_error: 0.0031\n",
      "Epoch 41/50\n",
      "63/63 [==============================] - 0s 2ms/step - loss: 0.0034 - mean_squared_error: 0.0034 - val_loss: 0.0033 - val_mean_squared_error: 0.0033\n",
      "Epoch 42/50\n",
      "63/63 [==============================] - 0s 2ms/step - loss: 0.0035 - mean_squared_error: 0.0035 - val_loss: 0.0030 - val_mean_squared_error: 0.0030\n",
      "Epoch 43/50\n",
      "63/63 [==============================] - 0s 3ms/step - loss: 0.0034 - mean_squared_error: 0.0034 - val_loss: 0.0031 - val_mean_squared_error: 0.0031\n",
      "Epoch 44/50\n",
      "63/63 [==============================] - 0s 2ms/step - loss: 0.0035 - mean_squared_error: 0.0035 - val_loss: 0.0032 - val_mean_squared_error: 0.0032\n",
      "Epoch 45/50\n",
      "63/63 [==============================] - 0s 3ms/step - loss: 0.0034 - mean_squared_error: 0.0034 - val_loss: 0.0037 - val_mean_squared_error: 0.0037\n",
      "Epoch 46/50\n",
      "63/63 [==============================] - 0s 2ms/step - loss: 0.0037 - mean_squared_error: 0.0037 - val_loss: 0.0040 - val_mean_squared_error: 0.0040\n",
      "Epoch 47/50\n",
      "63/63 [==============================] - 0s 3ms/step - loss: 0.0034 - mean_squared_error: 0.0034 - val_loss: 0.0037 - val_mean_squared_error: 0.0037\n",
      "Epoch 48/50\n",
      "63/63 [==============================] - 0s 2ms/step - loss: 0.0034 - mean_squared_error: 0.0034 - val_loss: 0.0035 - val_mean_squared_error: 0.0035\n",
      "Epoch 49/50\n",
      "63/63 [==============================] - 0s 2ms/step - loss: 0.0034 - mean_squared_error: 0.0034 - val_loss: 0.0038 - val_mean_squared_error: 0.0038\n",
      "Epoch 50/50\n",
      "63/63 [==============================] - 0s 3ms/step - loss: 0.0034 - mean_squared_error: 0.0034 - val_loss: 0.0035 - val_mean_squared_error: 0.0035\n"
     ]
    }
   ],
   "source": [
    "history_NN = model_reg_NN.fit(PI_train_NN,\n",
    "                            r_train_NN,\n",
    "                            epochs=50,\n",
    "                            validation_data=(PI_test_NN, r_test_NN))"
   ]
  },
  {
   "cell_type": "code",
   "execution_count": 21,
   "id": "7f6e95b7",
   "metadata": {},
   "outputs": [
    {
     "name": "stdout",
     "output_type": "stream",
     "text": [
      "7/7 - 0s - loss: 0.0035 - mean_squared_error: 0.0035\n",
      "\n",
      "MSE: 0.0035277039278298616\n"
     ]
    }
   ],
   "source": [
    "test_loss, test_acc = model_reg_NN.evaluate(PI_test_NN,  r_test_NN, verbose=2)\n",
    "\n",
    "print('\\nMSE:', test_acc)"
   ]
  },
  {
   "cell_type": "markdown",
   "id": "dd6c82de",
   "metadata": {},
   "source": [
    "### We generated test data for ```model_reg_NN ```"
   ]
  },
  {
   "cell_type": "code",
   "execution_count": 29,
   "id": "68be5759",
   "metadata": {},
   "outputs": [
    {
     "name": "stderr",
     "output_type": "stream",
     "text": [
      "Generating dataset : 100%|██████████| 200/200 [00:00<00:00, 262.44it/s]\n"
     ]
    }
   ],
   "source": [
    "data_test = np.zeros((200,N_points,2))\n",
    "r_test = np.zeros((200,))\n",
    "\n",
    "for i in tqdm(range(200), desc='Generating dataset : '):\n",
    "    r = np.random.random()\n",
    "    eps = 0.5 * np.random.random()\n",
    "\n",
    "    data_test[i] = create_noisy_circle(N_points, r,0,0,eps) \n",
    "    \n",
    "    r_test[i] = r"
   ]
  },
  {
   "cell_type": "code",
   "execution_count": 31,
   "id": "b5142440",
   "metadata": {},
   "outputs": [],
   "source": [
    "PI_test_NN = model_PI.predict(data_test)"
   ]
  },
  {
   "cell_type": "markdown",
   "id": "42bb741d",
   "metadata": {},
   "source": [
    "We compute the $R^2$ coefficient and the MSE score of the regression trained on predicted PIs. "
   ]
  },
  {
   "cell_type": "code",
   "execution_count": 32,
   "id": "76c4120b",
   "metadata": {},
   "outputs": [
    {
     "name": "stdout",
     "output_type": "stream",
     "text": [
      "7/7 - 0s - loss: 0.0037 - mean_squared_error: 0.0037\n"
     ]
    }
   ],
   "source": [
    "r_predicted_NN = model_reg_NN.predict(PI_test_NN)\n",
    "test_loss, test_acc = model_reg_NN.evaluate(PI_test_NN,  r_test, verbose=2)\n",
    "r2 = r2_score(r_test,r_predicted_NN)\n",
    "print(\"r2 = \", r2)"
   ]
  },
  {
   "cell_type": "markdown",
   "id": "1a82c051",
   "metadata": {},
   "source": [
    "We plot the regression trained on predicted PIs."
   ]
  },
  {
   "cell_type": "code",
   "execution_count": 34,
   "id": "b2e047a0",
   "metadata": {},
   "outputs": [
    {
     "data": {
      "image/png": "[encoded data removed]",
      "text/plain": [
       "<Figure size 432x288 with 1 Axes>"
      ]
     },
     "metadata": {
      "needs_background": "light"
     },
     "output_type": "display_data"
    }
   ],
   "source": [
    "plt.plot(r_test,r_predicted_NN,'bo',markersize=2)\n",
    "plt.xlabel(\"True radius\")\n",
    "plt.ylabel(\"Predicted radius\")\n",
    "plt.title(\"MSE : {:e}, R² = {:2f}\".format(test_acc,r2),fontsize=20)\n",
    "\n",
    "#plt.savefig(\"Résultats/Résultats 3/regression_diameter_noisy_circle_NN.pdf\")"
   ]
  },
  {
   "cell_type": "code",
   "execution_count": 23,
   "id": "0b3a968d",
   "metadata": {},
   "outputs": [
    {
     "data": {
      "text/plain": [
       "0.011792451414098792"
      ]
     },
     "execution_count": 23,
     "metadata": {},
     "output_type": "execute_result"
    }
   ],
   "source": [
    "np.max(np.abs(r_predicted_NN.flatten()-r_test))"
   ]
  },
  {
   "cell_type": "markdown",
   "id": "4ab908cd",
   "metadata": {},
   "source": [
    "## Kolmogorov-Smirnov test "
   ]
  },
  {
   "cell_type": "markdown",
   "id": "cf5f892a",
   "metadata": {},
   "source": [
    "We test if the PI computed with the NN and the PI computed with Gudhi have the same pixel distribution. \n",
    "$$(H_0) : \\mathcal{D}_{\\text{NN}} = \\mathcal{D}_{\\text{Gudhi}}$$\n",
    "We use for that the Kolmogorov-Smirnov test on each pixels to see the pixels that don't have the same distribution"
   ]
  },
  {
   "cell_type": "code",
   "execution_count": 42,
   "id": "a3ddb6f8",
   "metadata": {},
   "outputs": [],
   "source": [
    "PI_train_NN = model_PI.predict(data_train_NN)"
   ]
  },
  {
   "cell_type": "code",
   "execution_count": 43,
   "id": "0ebd4fed",
   "metadata": {},
   "outputs": [
    {
     "name": "stdout",
     "output_type": "stream",
     "text": [
      "Time taken by Gudhi = 42.00609374046326 seconds\n"
     ]
    }
   ],
   "source": [
    "PI_gudhi = np.zeros((len(data_train_NN), PI_size * PI_size))\n",
    "\n",
    "starttimeG = time()\n",
    "for i in range(len(data_train_NN)):\n",
    "    rcX = gd.AlphaComplex(points=data_train_NN[i]).create_simplex_tree()\n",
    "    dgmX = rcX.persistence()\n",
    "\n",
    "    PI = gd.representations.PersistenceImage(bandwidth=1e-1,\n",
    "                                             weight=lambda x: x[1]**(1),\n",
    "                                             resolution=[PI_size, PI_size], im_range=[0, 1, 0, 1])\n",
    "    pi = PI.fit_transform([rcX.persistence_intervals_in_dimension(1)])\n",
    "    PI_gudhi[i] = pi[0]\n",
    "timeG = time() - starttimeG\n",
    "PI_gudhi /= np.max(PI_gudhi)\n",
    "print('Time taken by Gudhi = {} seconds'.format(timeG))"
   ]
  },
  {
   "cell_type": "code",
   "execution_count": 44,
   "id": "0e4ca1e0",
   "metadata": {},
   "outputs": [],
   "source": [
    "p_value_ks = np.zeros(PI_train_NN[0].shape)\n",
    "for i in range(len(p_value_ks)):\n",
    "    p_value_ks[i] = ks_2samp(PI_train_NN[:, i], PI_gudhi[:, i])[0]"
   ]
  },
  {
   "cell_type": "code",
   "execution_count": 45,
   "id": "067a2633",
   "metadata": {},
   "outputs": [
    {
     "data": {
      "text/plain": [
       "Text(0.5, 1.0, 'Histogram of the p-values for the KS test on each pixels')"
      ]
     },
     "execution_count": 45,
     "metadata": {},
     "output_type": "execute_result"
    },
    {
     "data": {
      "image/png": "[encoded data removed]",
      "text/plain": [
       "<Figure size 432x288 with 1 Axes>"
      ]
     },
     "metadata": {
      "needs_background": "light"
     },
     "output_type": "display_data"
    }
   ],
   "source": [
    "plt.hist(p_value_ks)\n",
    "plt.vlines(0.05, 0, 800, linestyle='--', colors='red')\n",
    "plt.ylim(0, 717)\n",
    "plt.title(\"Histogram of the p-values for the KS test on each pixels\")\n",
    "#plt.savefig(\"Résultats/Résultats 4/hist_p_value_test_ks_noisy_circles.pdf\")"
   ]
  },
  {
   "cell_type": "markdown",
   "id": "ef370e40",
   "metadata": {},
   "source": [
    "Some pixels have a p-value $\\leq$ 0.05 so we can rejet $H_0$ for some pixels, but for a verry small amount."
   ]
  },
  {
   "cell_type": "code",
   "execution_count": 50,
   "id": "5e92b7a8",
   "metadata": {},
   "outputs": [
    {
     "data": {
      "text/plain": [
       "Text(0.5, 1.0, 'Heatmap of the p-values of the KS test on each pixels')"
      ]
     },
     "execution_count": 50,
     "metadata": {},
     "output_type": "execute_result"
    },
    {
     "data": {
      "image/png": "[encoded data removed]",
      "text/plain": [
       "<Figure size 432x288 with 2 Axes>"
      ]
     },
     "metadata": {
      "needs_background": "light"
     },
     "output_type": "display_data"
    }
   ],
   "source": [
    "plt.imshow(np.flip(np.reshape(p_value_ks, [PI_size, PI_size]), 0),\n",
    "           vmin=0,\n",
    "           vmax=1)\n",
    "           #cmap='gist_rainbow')\n",
    "plt.colorbar()\n",
    "plt.title(\"Heatmap of the p-values of the KS test on each pixels\")\n",
    "#plt.savefig(\"Résultats/Résultats 4/heatmap_p_value_test_ks_noisy_circles.pdf\")"
   ]
  },
  {
   "cell_type": "code",
   "execution_count": 40,
   "id": "a6eaa549",
   "metadata": {},
   "outputs": [
    {
     "data": {
      "image/png": "[encoded data removed]",
      "text/plain": [
       "<Figure size 432x288 with 18 Axes>"
      ]
     },
     "metadata": {
      "needs_background": "light"
     },
     "output_type": "display_data"
    }
   ],
   "source": [
    "for i in range(9):\n",
    "    plt.subplot(3, 3, i + 1)\n",
    "    plt.imshow(np.flip(np.reshape(PI_train_NN[i], [PI_size, PI_size]), 0),\n",
    "               vmin=0,\n",
    "               vmax=1,\n",
    "               cmap='jet')\n",
    "    plt.colorbar()"
   ]
  },
  {
   "cell_type": "code",
   "execution_count": 41,
   "id": "dfd5ca16",
   "metadata": {},
   "outputs": [
    {
     "data": {
      "image/png": "[encoded data removed]",
      "text/plain": [
       "<Figure size 432x288 with 18 Axes>"
      ]
     },
     "metadata": {
      "needs_background": "light"
     },
     "output_type": "display_data"
    }
   ],
   "source": [
    "for i in range(9):\n",
    "    plt.subplot(3, 3, i + 1)\n",
    "    plt.imshow(np.flip(np.reshape(PI_gudhi[i], [PI_size, PI_size]), 0),\n",
    "               vmin=0,\n",
    "               vmax=1,\n",
    "               cmap='jet')\n",
    "    plt.colorbar()"
   ]
  },
  {
   "cell_type": "code",
   "execution_count": 47,
   "id": "58b5b525",
   "metadata": {},
   "outputs": [
    {
     "data": {
      "text/plain": [
       "9.035410451200591e-05"
      ]
     },
     "execution_count": 47,
     "metadata": {},
     "output_type": "execute_result"
    }
   ],
   "source": [
    "(np.square(PI_train_NN - PI_gudhi)).mean(axis=None)"
   ]
  }
 ],
 "metadata": {
  "kernelspec": {
   "display_name": "Python 3 (ipykernel)",
   "language": "python",
   "name": "python3"
  },
  "language_info": {
   "codemirror_mode": {
    "name": "ipython",
    "version": 3
   },
   "file_extension": ".py",
   "mimetype": "text/x-python",
   "name": "python",
   "nbconvert_exporter": "python",
   "pygments_lexer": "ipython3",
   "version": "3.8.10"
  }
 },
 "nbformat": 4,
 "nbformat_minor": 5
}
