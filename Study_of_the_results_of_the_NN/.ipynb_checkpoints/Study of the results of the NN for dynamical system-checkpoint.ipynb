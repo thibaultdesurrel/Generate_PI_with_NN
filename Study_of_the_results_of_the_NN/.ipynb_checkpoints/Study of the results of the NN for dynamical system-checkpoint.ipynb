{
 "cells": [
  {
   "cell_type": "markdown",
   "id": "d6a212ba",
   "metadata": {},
   "source": [
    "# Study of the results of the NN for dynamical system "
   ]
  },
  {
   "cell_type": "markdown",
   "id": "5f2d116e",
   "metadata": {},
   "source": [
    "This notebook studies the results of the NN trained to predict PI from the dynamical system dataset. \n",
    "   1. We compare the time of calculation of PIs between Gudhi and the NN,\n",
    "   2. we look at the p-values of the Kolmogorov-Smirnov test on each pixels,\n",
    "   3. we compare the classification results between a classifier trained on real PIs and trained on predicted PIs."
   ]
  },
  {
   "cell_type": "code",
   "execution_count": 1,
   "id": "8403d472",
   "metadata": {},
   "outputs": [
    {
     "name": "stderr",
     "output_type": "stream",
     "text": [
      "2021-07-19 13:26:53.032868: I tensorflow/stream_executor/platform/default/dso_loader.cc:53] Successfully opened dynamic library libcudart.so.11.0\n"
     ]
    }
   ],
   "source": [
    "import matplotlib.pyplot as plt\n",
    "import numpy as np\n",
    "\n",
    "import tensorflow as tf\n",
    "from IPython.display import SVG\n",
    "\n",
    "import gudhi as gd\n",
    "import gudhi.representations\n",
    "\n",
    "from tqdm import tqdm\n",
    "from time import time\n",
    "\n",
    "from scipy.stats import ks_2samp"
   ]
  },
  {
   "cell_type": "markdown",
   "id": "4032c238",
   "metadata": {},
   "source": [
    "### Load the NN"
   ]
  },
  {
   "cell_type": "code",
   "execution_count": 2,
   "id": "ccadde6f",
   "metadata": {
    "scrolled": true
   },
   "outputs": [
    {
     "name": "stderr",
     "output_type": "stream",
     "text": [
      "2021-07-19 13:27:15.944459: I tensorflow/stream_executor/platform/default/dso_loader.cc:53] Successfully opened dynamic library libcuda.so.1\n",
      "2021-07-19 13:27:16.223784: I tensorflow/stream_executor/cuda/cuda_gpu_executor.cc:937] successful NUMA node read from SysFS had negative value (-1), but there must be at least one NUMA node, so returning NUMA node zero\n",
      "2021-07-19 13:27:16.225178: I tensorflow/core/common_runtime/gpu/gpu_device.cc:1733] Found device 0 with properties: \n",
      "pciBusID: 0000:01:00.0 name: NVIDIA GeForce GTX 960M computeCapability: 5.0\n",
      "coreClock: 1.176GHz coreCount: 5 deviceMemorySize: 1.96GiB deviceMemoryBandwidth: 74.65GiB/s\n",
      "2021-07-19 13:27:16.225264: I tensorflow/stream_executor/platform/default/dso_loader.cc:53] Successfully opened dynamic library libcudart.so.11.0\n",
      "2021-07-19 13:27:16.225918: W tensorflow/stream_executor/platform/default/dso_loader.cc:64] Could not load dynamic library 'libcublas.so.11'; dlerror: libcublas.so.11: cannot open shared object file: No such file or directory; LD_LIBRARY_PATH: /usr/local/cuda/lib64:/usr/local/cuda-10.1/lib64:/usr/local/cuda/extras/CUPTI/lib64:\n",
      "2021-07-19 13:27:16.226226: W tensorflow/stream_executor/platform/default/dso_loader.cc:64] Could not load dynamic library 'libcublasLt.so.11'; dlerror: libcublasLt.so.11: cannot open shared object file: No such file or directory; LD_LIBRARY_PATH: /usr/local/cuda/lib64:/usr/local/cuda-10.1/lib64:/usr/local/cuda/extras/CUPTI/lib64:\n",
      "2021-07-19 13:27:16.410717: I tensorflow/stream_executor/platform/default/dso_loader.cc:53] Successfully opened dynamic library libcufft.so.10\n",
      "2021-07-19 13:27:16.464208: I tensorflow/stream_executor/platform/default/dso_loader.cc:53] Successfully opened dynamic library libcurand.so.10\n",
      "2021-07-19 13:27:16.464676: W tensorflow/stream_executor/platform/default/dso_loader.cc:64] Could not load dynamic library 'libcusolver.so.11'; dlerror: libcusolver.so.11: cannot open shared object file: No such file or directory; LD_LIBRARY_PATH: /usr/local/cuda/lib64:/usr/local/cuda-10.1/lib64:/usr/local/cuda/extras/CUPTI/lib64:\n",
      "2021-07-19 13:27:16.464999: W tensorflow/stream_executor/platform/default/dso_loader.cc:64] Could not load dynamic library 'libcusparse.so.11'; dlerror: libcusparse.so.11: cannot open shared object file: No such file or directory; LD_LIBRARY_PATH: /usr/local/cuda/lib64:/usr/local/cuda-10.1/lib64:/usr/local/cuda/extras/CUPTI/lib64:\n",
      "2021-07-19 13:27:16.465308: W tensorflow/stream_executor/platform/default/dso_loader.cc:64] Could not load dynamic library 'libcudnn.so.8'; dlerror: libcudnn.so.8: cannot open shared object file: No such file or directory; LD_LIBRARY_PATH: /usr/local/cuda/lib64:/usr/local/cuda-10.1/lib64:/usr/local/cuda/extras/CUPTI/lib64:\n",
      "2021-07-19 13:27:16.465356: W tensorflow/core/common_runtime/gpu/gpu_device.cc:1766] Cannot dlopen some GPU libraries. Please make sure the missing libraries mentioned above are installed properly if you would like to use GPU. Follow the guide at https://www.tensorflow.org/install/gpu for how to download and setup the required libraries for your platform.\n",
      "Skipping registering GPU devices...\n",
      "2021-07-19 13:27:16.466110: I tensorflow/core/platform/cpu_feature_guard.cc:142] This TensorFlow binary is optimized with oneAPI Deep Neural Network Library (oneDNN) to use the following CPU instructions in performance-critical operations:  AVX2 FMA\n",
      "To enable them in other operations, rebuild TensorFlow with the appropriate compiler flags.\n",
      "2021-07-19 13:27:16.467273: I tensorflow/core/common_runtime/gpu/gpu_device.cc:1258] Device interconnect StreamExecutor with strength 1 edge matrix:\n",
      "2021-07-19 13:27:16.467315: I tensorflow/core/common_runtime/gpu/gpu_device.cc:1264]      \n"
     ]
    },
    {
     "name": "stdout",
     "output_type": "stream",
     "text": [
      "Model: \"model_1\"\n",
      "_________________________________________________________________\n",
      "Layer (type)                 Output Shape              Param #   \n",
      "=================================================================\n",
      "input_3 (InputLayer)         [(None, 500, 2)]          0         \n",
      "_________________________________________________________________\n",
      "fully_connected2_1 (FullyCon (None, 500, 30)           60        \n",
      "_________________________________________________________________\n",
      "tf.nn.relu_1 (TFOpLambda)    (None, 500, 30)           0         \n",
      "_________________________________________________________________\n",
      "dense_3 (Dense)              (None, 500, 20)           620       \n",
      "_________________________________________________________________\n",
      "dense_4 (Dense)              (None, 500, 10)           210       \n",
      "_________________________________________________________________\n",
      "lambda_1 (Lambda)            (None, 10)                0         \n",
      "_________________________________________________________________\n",
      "dense_5 (Dense)              (None, 2500)              27500     \n",
      "=================================================================\n",
      "Total params: 28,390\n",
      "Trainable params: 28,390\n",
      "Non-trainable params: 0\n",
      "_________________________________________________________________\n"
     ]
    }
   ],
   "source": [
    "model_PI = tf.keras.models.load_model(\"../Trained_NN/model_dynamical_systems/\")\n",
    "model_PI.summary()\n"
   ]
  },
  {
   "cell_type": "markdown",
   "id": "902ef11f",
   "metadata": {},
   "source": [
    "---"
   ]
  },
  {
   "cell_type": "markdown",
   "id": "049d6685",
   "metadata": {},
   "source": [
    "## Comparaison of calculation time\n"
   ]
  },
  {
   "cell_type": "markdown",
   "id": "788e9e3c",
   "metadata": {},
   "source": [
    "We start by generating new data"
   ]
  },
  {
   "cell_type": "code",
   "execution_count": 3,
   "id": "20a92141",
   "metadata": {},
   "outputs": [],
   "source": [
    "N_sets = 100\n",
    "N_points = 500\n",
    "PI_size = 50"
   ]
  },
  {
   "cell_type": "code",
   "execution_count": 4,
   "id": "26a7b179",
   "metadata": {},
   "outputs": [],
   "source": [
    "def create_orbit(N_points, r):\n",
    "    X = np.empty([N_points, 2])\n",
    "    x, y = np.random.uniform(), np.random.uniform()\n",
    "    for i in range(N_points):\n",
    "        X[i, :] = [x, y]\n",
    "        x = (X[i, 0] + r * X[i, 1] * (1 - X[i, 1])) % 1.\n",
    "        y = (X[i, 1] + r * x * (1 - x)) % 1.\n",
    "\n",
    "    return X"
   ]
  },
  {
   "cell_type": "code",
   "execution_count": 19,
   "id": "3e43e7e6",
   "metadata": {},
   "outputs": [
    {
     "name": "stderr",
     "output_type": "stream",
     "text": [
      "Generating dataset : 100%|███████████████████| 100/100 [00:00<00:00, 531.15it/s]\n"
     ]
    }
   ],
   "source": [
    "data_sets = np.zeros((N_sets, N_points, 2))\n",
    "\n",
    "r_list = [3.4, 4.1]\n",
    "\n",
    "for i in tqdm(range(N_sets), desc='Generating dataset : '):\n",
    "    #Generate the orbit\n",
    "    r = np.random.choice(r_list)\n",
    "    data_sets[i] = create_orbit(N_points, r)"
   ]
  },
  {
   "cell_type": "markdown",
   "id": "2f23e617",
   "metadata": {},
   "source": [
    "We can plot the 3 first orbites"
   ]
  },
  {
   "cell_type": "code",
   "execution_count": 27,
   "id": "817cf97d",
   "metadata": {
    "scrolled": true
   },
   "outputs": [
    {
     "data": {
      "image/png": "[encoded data removed]",
      "text/plain": [
       "<Figure size 1440x360 with 3 Axes>"
      ]
     },
     "metadata": {
      "needs_background": "light"
     },
     "output_type": "display_data"
    }
   ],
   "source": [
    "fig, axs = plt.subplots(1, 3, figsize=(20, 5))\n",
    "for i in range(3):\n",
    "    #plt.subplot(1, 3, i + 1)\n",
    "    axs[i].scatter(data_sets[i, :, 0], data_sets[i, :, 1])\n",
    "    axs[i].get_xaxis().set_visible(False)\n",
    "    axs[i].get_yaxis().set_visible(False)\n",
    "#plt.savefig(\"Rapports/Rapport_PRe/Images/dynamical_system.pdf\")"
   ]
  },
  {
   "cell_type": "markdown",
   "id": "a9bb5e7f",
   "metadata": {},
   "source": [
    "### Compute their PI with the NN and save the time it took the NN"
   ]
  },
  {
   "cell_type": "code",
   "execution_count": 21,
   "id": "d3df20f1",
   "metadata": {},
   "outputs": [
    {
     "name": "stdout",
     "output_type": "stream",
     "text": [
      "Time taken by the NN = 0.044234275817871094 seconds\n"
     ]
    }
   ],
   "source": [
    "starttimeNN = time()\n",
    "PI_NN = model_PI.predict(data_sets)\n",
    "timeNN = time() - starttimeNN\n",
    "print('Time taken by the NN = {} seconds'.format(timeNN))"
   ]
  },
  {
   "cell_type": "markdown",
   "id": "17e93858",
   "metadata": {},
   "source": [
    "We can plot the predicted PIs."
   ]
  },
  {
   "cell_type": "code",
   "execution_count": 26,
   "id": "c1bdac48",
   "metadata": {},
   "outputs": [
    {
     "data": {
      "image/png": "[encoded data removed]",
      "text/plain": [
       "<Figure size 1440x360 with 3 Axes>"
      ]
     },
     "metadata": {
      "needs_background": "light"
     },
     "output_type": "display_data"
    }
   ],
   "source": [
    "fig, axs = plt.subplots(1, 3, figsize=(20, 5))\n",
    "\n",
    "for i in range(3):\n",
    "    #plt.subplot(1, 3, i + 1)\n",
    "    axs[i].imshow(np.flip(np.reshape(PI_NN[i], [PI_size, PI_size]), 0),\n",
    "               vmin=0,\n",
    "               vmax=1,\n",
    "               cmap='jet')\n",
    "    axs[i].get_xaxis().set_visible(False)\n",
    "    axs[i].get_yaxis().set_visible(False)\n",
    "#plt.savefig(\"Rapports/Rapport_PRe/Images/dynamical_predicted.pdf\")"
   ]
  },
  {
   "cell_type": "markdown",
   "id": "8b07d2cb",
   "metadata": {},
   "source": [
    "### Compute their PI with Gudhi and save the time it took Gudhi"
   ]
  },
  {
   "cell_type": "code",
   "execution_count": 23,
   "id": "f9c45a85",
   "metadata": {},
   "outputs": [
    {
     "name": "stdout",
     "output_type": "stream",
     "text": [
      "Time taken by Gudhi = 8.291197299957275 seconds\n"
     ]
    }
   ],
   "source": [
    "PI_gudhi = np.zeros((N_sets, PI_size * PI_size))\n",
    "PI = gd.representations.PersistenceImage(bandwidth=5e-3,\n",
    "                                             weight=lambda x: x[1]**2,\n",
    "                                             resolution=[50, 50],\n",
    "                                             im_range=[0, 0.03, 0, 0.03])\n",
    "    \n",
    "starttimeG = time()\n",
    "for i in range(N_sets):\n",
    "    rcX = gd.AlphaComplex(points=data_sets[i]).create_simplex_tree()\n",
    "    dgmX = rcX.persistence()\n",
    "\n",
    "    pi = PI.fit_transform([rcX.persistence_intervals_in_dimension(1)])\n",
    "    PI_gudhi[i] = pi[0]\n",
    "timeG = time() - starttimeG\n",
    "PI_gudhi /= np.max(PI_gudhi)\n",
    "print('Time taken by Gudhi = {} seconds'.format(timeG))"
   ]
  },
  {
   "cell_type": "markdown",
   "id": "f8692d86",
   "metadata": {},
   "source": [
    "We can plot the true PIs"
   ]
  },
  {
   "cell_type": "code",
   "execution_count": 29,
   "id": "48facb5e",
   "metadata": {
    "scrolled": true
   },
   "outputs": [
    {
     "data": {
      "image/png": "[encoded data removed]",
      "text/plain": [
       "<Figure size 1440x360 with 3 Axes>"
      ]
     },
     "metadata": {
      "needs_background": "light"
     },
     "output_type": "display_data"
    }
   ],
   "source": [
    "fig, axs = plt.subplots(1, 3, figsize=(20, 5))\n",
    "\n",
    "for i in range(3):\n",
    "    #plt.subplot(1, 3, i + 1)\n",
    "    axs[i].imshow(np.flip(np.reshape(PI_gudhi[i] /np.max(PI_gudhi), [PI_size, PI_size]), 0),\n",
    "               vmin=0,\n",
    "               vmax=1,\n",
    "               cmap='jet')\n",
    "    axs[i].get_xaxis().set_visible(False)\n",
    "    axs[i].get_yaxis().set_visible(False)\n",
    "#plt.savefig(\"Rapports/Rapport_PRe/Images/dynamical_true.pdf\")"
   ]
  },
  {
   "cell_type": "markdown",
   "id": "fd6e5217",
   "metadata": {},
   "source": [
    "We compute the MSE between the true and predicted PIs."
   ]
  },
  {
   "cell_type": "code",
   "execution_count": 13,
   "id": "adff26bb",
   "metadata": {},
   "outputs": [
    {
     "data": {
      "text/plain": [
       "0.0017266089855252917"
      ]
     },
     "execution_count": 13,
     "metadata": {},
     "output_type": "execute_result"
    }
   ],
   "source": [
    "(np.square(PI_NN - PI_gudhi)).mean(axis=None)"
   ]
  },
  {
   "cell_type": "markdown",
   "id": "f051183a",
   "metadata": {},
   "source": [
    "## Time Results"
   ]
  },
  {
   "cell_type": "markdown",
   "id": "5617fab4",
   "metadata": {},
   "source": [
    "| Number of point clouds \t| Time taken by the NN in sec \t| Time taken by Gudhi in sec \t| Mean Squared Error \t|\n",
    "|:----------------------:\t|:---------------------------:\t|:--------------------------:\t|:------------------:\t|\n",
    "|           10           \t|           0.04065           \t|           0.71981          \t|       0.00216      \t|\n",
    "|           100          \t|           0.05996           \t|           6.34451          \t|       0.00067      \t|\n",
    "|          1000          \t|           0.10547           \t|           70.3527          \t|       0.00080      \t|"
   ]
  },
  {
   "cell_type": "markdown",
   "id": "59a72d7d",
   "metadata": {},
   "source": [
    "### Is the NN in $\\mathcal O(n)$ ?"
   ]
  },
  {
   "cell_type": "markdown",
   "id": "73a1d53b",
   "metadata": {},
   "source": [
    "We try to see if the NN predites the PIs in $\\mathcal O(n)$  where $n$ is the number of orbites it is given."
   ]
  },
  {
   "cell_type": "code",
   "execution_count": 3,
   "id": "103dc335",
   "metadata": {},
   "outputs": [],
   "source": [
    "data = np.load('data/PI_data_10000_dynamical_alpha.npz')\n",
    "\n",
    "#data = np.load('PI_data_1000_dynamical_alpha.npz')\n",
    "\n",
    "data_train = data[\"data_train\"]"
   ]
  },
  {
   "cell_type": "code",
   "execution_count": 9,
   "id": "caf63aa1",
   "metadata": {},
   "outputs": [
    {
     "name": "stderr",
     "output_type": "stream",
     "text": [
      "100%|██████████| 99/99 [00:33<00:00,  2.92it/s]\n"
     ]
    }
   ],
   "source": [
    "time_NN = []\n",
    "for N_sets in tqdm(range(100,10000,100)):\n",
    "    starttimeNN = time()\n",
    "    PI_NN = model_PI.predict(data_train[:N_sets])\n",
    "    time_NN.append(time() - starttimeNN)"
   ]
  },
  {
   "cell_type": "code",
   "execution_count": 12,
   "id": "7f6f8a0d",
   "metadata": {},
   "outputs": [
    {
     "data": {
      "image/png": "[encoded data removed]",
      "text/plain": [
       "<Figure size 432x288 with 1 Axes>"
      ]
     },
     "metadata": {
      "needs_background": "light"
     },
     "output_type": "display_data"
    }
   ],
   "source": [
    "plt.plot(range(100,10000,100),time_NN)\n",
    "plt.xlabel(\"Number of point clouds\")\n",
    "plt.ylabel(\"Time in seconds\")\n",
    "plt.title(\"Time that takes the NN to compute against the number of point clouds\")\n",
    "#plt.savefig(\"Résultats/Résultats 4/time_to_calculate_PI.pdf\")"
   ]
  },
  {
   "cell_type": "markdown",
   "id": "18b234a4",
   "metadata": {},
   "source": [
    "We can say that the NN is in $\\mathcal O(n)$ ."
   ]
  },
  {
   "cell_type": "markdown",
   "id": "b83ddb70",
   "metadata": {},
   "source": [
    "---"
   ]
  },
  {
   "cell_type": "markdown",
   "id": "dc18fb3c",
   "metadata": {},
   "source": [
    "## Kolmogorov-Smirnov test "
   ]
  },
  {
   "cell_type": "markdown",
   "id": "fc1cdb62",
   "metadata": {},
   "source": [
    "We test if the PI computed with the NN and the PI computed with Gudhi have the same pixel distribution. \n",
    "$$(H_0) : \\mathcal{D}_{\\text{NN}} = \\mathcal{D}_{\\text{Gudhi}}$$\n",
    "We use for that the Kolmogorov-Smirnov test on each pixels to see the pixels that don't have the same distribution"
   ]
  },
  {
   "cell_type": "code",
   "execution_count": 14,
   "id": "1509f00e",
   "metadata": {},
   "outputs": [],
   "source": [
    "p_value_ks = np.zeros(PI_NN[0].shape)\n",
    "for i in range(len(p_value_ks)):\n",
    "    p_value_ks[i] = ks_2samp(PI_NN[:, i], PI_gudhi[:, i])[0]"
   ]
  },
  {
   "cell_type": "code",
   "execution_count": 18,
   "id": "5ac45fc7",
   "metadata": {},
   "outputs": [
    {
     "data": {
      "image/png": "[encoded data removed]",
      "text/plain": [
       "<Figure size 432x288 with 1 Axes>"
      ]
     },
     "metadata": {
      "needs_background": "light"
     },
     "output_type": "display_data"
    }
   ],
   "source": [
    "plt.hist(p_value_ks)\n",
    "plt.vlines(0.05, 0, 800, linestyle='--', colors='red')\n",
    "plt.ylim(0, 717)\n",
    "plt.title(\"Histogram of the p-values for the KS test on each pixels\")\n",
    "#plt.savefig(\"Résultats/Résultats 4/hist_p_value_test_ks_dynamical.pdf\")"
   ]
  },
  {
   "cell_type": "markdown",
   "id": "ba4bd6ce",
   "metadata": {},
   "source": [
    "No p-value is under 0.05, so all the KS tests are validated or at least we can not rejet $H_0$."
   ]
  },
  {
   "cell_type": "code",
   "execution_count": 19,
   "id": "be85caa3",
   "metadata": {
    "scrolled": true
   },
   "outputs": [
    {
     "data": {
      "image/png": "[encoded data removed]",
      "text/plain": [
       "<Figure size 432x288 with 2 Axes>"
      ]
     },
     "metadata": {
      "needs_background": "light"
     },
     "output_type": "display_data"
    }
   ],
   "source": [
    "plt.imshow(np.flip(np.reshape(p_value_ks, [PI_size, PI_size]), 0),\n",
    "           vmin=0,\n",
    "           vmax=1,\n",
    "           cmap='gist_rainbow')\n",
    "plt.colorbar()\n",
    "plt.title(\"Heatmap of the p-values of the KS test on each pixels\")\n",
    "#plt.savefig(\"Résultats/Résultats 4/heatmap_p_value_test_ks_dynamical.pdf\")\n",
    "    "
   ]
  },
  {
   "cell_type": "markdown",
   "id": "83f3288a",
   "metadata": {},
   "source": [
    "-------"
   ]
  },
  {
   "cell_type": "markdown",
   "id": "216c4e37",
   "metadata": {},
   "source": [
    "# Classification "
   ]
  },
  {
   "cell_type": "markdown",
   "id": "f92ae143",
   "metadata": {},
   "source": [
    "We want to compare the classification results between the true PIs and the predited PIs. For that, we create 2 models : ```model_classif_NN``` will be trained with the PI computed by the NN and ```model_classif_gudhi``` will be trained with the PI computed by Gudhi. We will then compare their accuracy on new data."
   ]
  },
  {
   "cell_type": "code",
   "execution_count": 43,
   "id": "180381df",
   "metadata": {},
   "outputs": [],
   "source": [
    "def create_model():\n",
    "    inputs = tf.keras.Input(shape=(PI_size * PI_size))\n",
    "\n",
    "    x = tf.keras.layers.Dense(50, activation='relu')(inputs)\n",
    "    outputs = tf.keras.layers.Dense(2)(x)\n",
    "\n",
    "    model_classif = tf.keras.Model(inputs=inputs, outputs=outputs)\n",
    "    model_classif.compile(\n",
    "        optimizer='adam',\n",
    "        loss=tf.keras.losses.SparseCategoricalCrossentropy(from_logits=True),\n",
    "        metrics=['accuracy'])\n",
    "    return model_classif"
   ]
  },
  {
   "cell_type": "code",
   "execution_count": 44,
   "id": "f39d1694",
   "metadata": {},
   "outputs": [
    {
     "name": "stdout",
     "output_type": "stream",
     "text": [
      "Model: \"model_3\"\n",
      "_________________________________________________________________\n",
      "Layer (type)                 Output Shape              Param #   \n",
      "=================================================================\n",
      "input_4 (InputLayer)         [(None, 2500)]            0         \n",
      "_________________________________________________________________\n",
      "dense_6 (Dense)              (None, 50)                125050    \n",
      "_________________________________________________________________\n",
      "dense_7 (Dense)              (None, 2)                 102       \n",
      "=================================================================\n",
      "Total params: 125,152\n",
      "Trainable params: 125,152\n",
      "Non-trainable params: 0\n",
      "_________________________________________________________________\n"
     ]
    }
   ],
   "source": [
    "model_classif_NN = create_model()\n",
    "model_classif_gudhi = create_model()\n",
    "\n",
    "model_classif_NN.summary()\n",
    "\n",
    "#SVG(\n",
    "#    tf.keras.utils.model_to_dot(model_classif,\n",
    "#                                show_shapes=True).create(prog='dot',\n",
    "#                                                        format='svg'))\n",
    "#tf.keras.utils.plot_model(model_classif,\n",
    "#                          to_file='Résultats/Résultats 2/model_systeme_dynamique_classif.pdf',\n",
    "#                          show_shapes=True, rankdir='LR')"
   ]
  },
  {
   "cell_type": "markdown",
   "id": "b8793e3b",
   "metadata": {},
   "source": [
    "### Load data for the training of ```model_classif_gudhi```"
   ]
  },
  {
   "cell_type": "code",
   "execution_count": 52,
   "id": "823c26dc",
   "metadata": {},
   "outputs": [],
   "source": [
    "data = np.load('data/PI_data_1000_dynamical_classif.npz')\n",
    "\n",
    "#data = np.load('PI_data_1000_dynamical_alpha.npz')\n",
    "\n",
    "label_train_gudhi = data[\"label_train\"]\n",
    "PI_train_gudhi = data[\"PI_train\"]\n",
    "label_test_gudhi = data[\"label_test\"]\n",
    "PI_test_gudhi = data[\"PI_test\"]"
   ]
  },
  {
   "cell_type": "code",
   "execution_count": 73,
   "id": "7c688b4c",
   "metadata": {},
   "outputs": [],
   "source": [
    "N_sets_train = PI_train_gudhi.shape[0]\n",
    "N_sets_test = PI_test_gudhi.shape[0]\n",
    "PI_size = int(np.sqrt(PI_train_gudhi.shape[1]))"
   ]
  },
  {
   "cell_type": "code",
   "execution_count": 74,
   "id": "90396b67",
   "metadata": {
    "scrolled": true
   },
   "outputs": [
    {
     "name": "stdout",
     "output_type": "stream",
     "text": [
      "N_sets_train :  1000\n",
      "N_sets_test :  100\n",
      "PI_size :  50\n"
     ]
    }
   ],
   "source": [
    "print(\"N_sets_train : \", N_sets_train)\n",
    "print(\"N_sets_test : \", N_sets_test)\n",
    "print(\"PI_size : \", PI_size)"
   ]
  },
  {
   "cell_type": "code",
   "execution_count": 55,
   "id": "d6f5873f",
   "metadata": {},
   "outputs": [],
   "source": [
    "PI_train_gudhi /= max(np.max(PI_train_gudhi), np.max(PI_test_gudhi))\n",
    "PI_test_gudhi /= max(np.max(PI_train_gudhi), np.max(PI_test_gudhi))"
   ]
  },
  {
   "cell_type": "markdown",
   "id": "0a94cf93",
   "metadata": {},
   "source": [
    "### Fit the classification model ```model_classif_gudhi```"
   ]
  },
  {
   "cell_type": "code",
   "execution_count": 76,
   "id": "17695531",
   "metadata": {
    "scrolled": true
   },
   "outputs": [
    {
     "name": "stdout",
     "output_type": "stream",
     "text": [
      "Epoch 1/100\n",
      "32/32 [==============================] - 0s 3ms/step - loss: 0.0304 - accuracy: 0.9900 - val_loss: 0.0301 - val_accuracy: 0.9900\n",
      "Epoch 2/100\n",
      "32/32 [==============================] - 0s 2ms/step - loss: 0.0315 - accuracy: 0.9890 - val_loss: 0.0294 - val_accuracy: 0.9900\n",
      "Epoch 3/100\n",
      "32/32 [==============================] - 0s 2ms/step - loss: 0.0305 - accuracy: 0.9890 - val_loss: 0.0305 - val_accuracy: 0.9900\n",
      "Epoch 4/100\n",
      "32/32 [==============================] - 0s 2ms/step - loss: 0.0304 - accuracy: 0.9910 - val_loss: 0.0301 - val_accuracy: 0.9900\n",
      "Epoch 5/100\n",
      "32/32 [==============================] - 0s 2ms/step - loss: 0.0302 - accuracy: 0.9910 - val_loss: 0.0289 - val_accuracy: 0.9900\n",
      "Epoch 6/100\n",
      "32/32 [==============================] - 0s 2ms/step - loss: 0.0308 - accuracy: 0.9880 - val_loss: 0.0283 - val_accuracy: 0.9900\n",
      "Epoch 7/100\n",
      "32/32 [==============================] - 0s 2ms/step - loss: 0.0298 - accuracy: 0.9890 - val_loss: 0.0285 - val_accuracy: 0.9900\n",
      "Epoch 8/100\n",
      "32/32 [==============================] - 0s 2ms/step - loss: 0.0298 - accuracy: 0.9900 - val_loss: 0.0286 - val_accuracy: 0.9900\n",
      "Epoch 9/100\n",
      "32/32 [==============================] - 0s 2ms/step - loss: 0.0300 - accuracy: 0.9900 - val_loss: 0.0281 - val_accuracy: 0.9900\n",
      "Epoch 10/100\n",
      "32/32 [==============================] - 0s 2ms/step - loss: 0.0297 - accuracy: 0.9900 - val_loss: 0.0281 - val_accuracy: 0.9900\n",
      "Epoch 11/100\n",
      "32/32 [==============================] - 0s 2ms/step - loss: 0.0295 - accuracy: 0.9890 - val_loss: 0.0277 - val_accuracy: 0.9900\n",
      "Epoch 12/100\n",
      "32/32 [==============================] - 0s 2ms/step - loss: 0.0299 - accuracy: 0.9900 - val_loss: 0.0285 - val_accuracy: 0.9900\n",
      "Epoch 13/100\n",
      "32/32 [==============================] - 0s 2ms/step - loss: 0.0295 - accuracy: 0.9900 - val_loss: 0.0276 - val_accuracy: 0.9900\n",
      "Epoch 14/100\n",
      "32/32 [==============================] - 0s 2ms/step - loss: 0.0298 - accuracy: 0.9890 - val_loss: 0.0273 - val_accuracy: 0.9900\n",
      "Epoch 15/100\n",
      "32/32 [==============================] - 0s 2ms/step - loss: 0.0293 - accuracy: 0.9890 - val_loss: 0.0274 - val_accuracy: 0.9900\n",
      "Epoch 16/100\n",
      "32/32 [==============================] - 0s 2ms/step - loss: 0.0300 - accuracy: 0.9900 - val_loss: 0.0269 - val_accuracy: 0.9900\n",
      "Epoch 17/100\n",
      "32/32 [==============================] - 0s 2ms/step - loss: 0.0293 - accuracy: 0.9890 - val_loss: 0.0268 - val_accuracy: 0.9900\n",
      "Epoch 18/100\n",
      "32/32 [==============================] - 0s 2ms/step - loss: 0.0310 - accuracy: 0.9900 - val_loss: 0.0276 - val_accuracy: 0.9900\n",
      "Epoch 19/100\n",
      "32/32 [==============================] - 0s 2ms/step - loss: 0.0291 - accuracy: 0.9910 - val_loss: 0.0263 - val_accuracy: 0.9900\n",
      "Epoch 20/100\n",
      "32/32 [==============================] - 0s 2ms/step - loss: 0.0288 - accuracy: 0.9900 - val_loss: 0.0264 - val_accuracy: 0.9900\n",
      "Epoch 21/100\n",
      "32/32 [==============================] - 0s 2ms/step - loss: 0.0290 - accuracy: 0.9900 - val_loss: 0.0267 - val_accuracy: 0.9900\n",
      "Epoch 22/100\n",
      "32/32 [==============================] - 0s 2ms/step - loss: 0.0288 - accuracy: 0.9920 - val_loss: 0.0260 - val_accuracy: 0.9900\n",
      "Epoch 23/100\n",
      "32/32 [==============================] - 0s 2ms/step - loss: 0.0300 - accuracy: 0.9900 - val_loss: 0.0259 - val_accuracy: 0.9900\n",
      "Epoch 24/100\n",
      "32/32 [==============================] - 0s 2ms/step - loss: 0.0290 - accuracy: 0.9910 - val_loss: 0.0264 - val_accuracy: 0.9900\n",
      "Epoch 25/100\n",
      "32/32 [==============================] - 0s 2ms/step - loss: 0.0284 - accuracy: 0.9900 - val_loss: 0.0253 - val_accuracy: 0.9900\n",
      "Epoch 26/100\n",
      "32/32 [==============================] - 0s 2ms/step - loss: 0.0290 - accuracy: 0.9910 - val_loss: 0.0254 - val_accuracy: 0.9900\n",
      "Epoch 27/100\n",
      "32/32 [==============================] - 0s 2ms/step - loss: 0.0300 - accuracy: 0.9900 - val_loss: 0.0249 - val_accuracy: 0.9900\n",
      "Epoch 28/100\n",
      "32/32 [==============================] - 0s 2ms/step - loss: 0.0285 - accuracy: 0.9880 - val_loss: 0.0252 - val_accuracy: 0.9900\n",
      "Epoch 29/100\n",
      "32/32 [==============================] - 0s 2ms/step - loss: 0.0286 - accuracy: 0.9900 - val_loss: 0.0248 - val_accuracy: 0.9900\n",
      "Epoch 30/100\n",
      "32/32 [==============================] - 0s 2ms/step - loss: 0.0291 - accuracy: 0.9910 - val_loss: 0.0252 - val_accuracy: 0.9900\n",
      "Epoch 31/100\n",
      "32/32 [==============================] - 0s 2ms/step - loss: 0.0282 - accuracy: 0.9920 - val_loss: 0.0245 - val_accuracy: 0.9900\n",
      "Epoch 32/100\n",
      "32/32 [==============================] - 0s 2ms/step - loss: 0.0284 - accuracy: 0.9900 - val_loss: 0.0246 - val_accuracy: 0.9900\n",
      "Epoch 33/100\n",
      "32/32 [==============================] - 0s 2ms/step - loss: 0.0281 - accuracy: 0.9910 - val_loss: 0.0243 - val_accuracy: 0.9900\n",
      "Epoch 34/100\n",
      "32/32 [==============================] - 0s 2ms/step - loss: 0.0278 - accuracy: 0.9910 - val_loss: 0.0247 - val_accuracy: 0.9900\n",
      "Epoch 35/100\n",
      "32/32 [==============================] - 0s 2ms/step - loss: 0.0280 - accuracy: 0.9910 - val_loss: 0.0238 - val_accuracy: 0.9900\n",
      "Epoch 36/100\n",
      "32/32 [==============================] - 0s 2ms/step - loss: 0.0281 - accuracy: 0.9910 - val_loss: 0.0239 - val_accuracy: 0.9900\n",
      "Epoch 37/100\n",
      "32/32 [==============================] - 0s 2ms/step - loss: 0.0277 - accuracy: 0.9900 - val_loss: 0.0238 - val_accuracy: 0.9900\n",
      "Epoch 38/100\n",
      "32/32 [==============================] - 0s 2ms/step - loss: 0.0278 - accuracy: 0.9910 - val_loss: 0.0236 - val_accuracy: 0.9900\n",
      "Epoch 39/100\n",
      "32/32 [==============================] - 0s 2ms/step - loss: 0.0277 - accuracy: 0.9910 - val_loss: 0.0238 - val_accuracy: 0.9900\n",
      "Epoch 40/100\n",
      "32/32 [==============================] - 0s 2ms/step - loss: 0.0276 - accuracy: 0.9900 - val_loss: 0.0233 - val_accuracy: 0.9900\n",
      "Epoch 41/100\n",
      "32/32 [==============================] - 0s 2ms/step - loss: 0.0281 - accuracy: 0.9910 - val_loss: 0.0232 - val_accuracy: 0.9900\n",
      "Epoch 42/100\n",
      "32/32 [==============================] - 0s 2ms/step - loss: 0.0280 - accuracy: 0.9900 - val_loss: 0.0231 - val_accuracy: 0.9900\n",
      "Epoch 43/100\n",
      "32/32 [==============================] - 0s 2ms/step - loss: 0.0276 - accuracy: 0.9900 - val_loss: 0.0230 - val_accuracy: 0.9900\n",
      "Epoch 44/100\n",
      "32/32 [==============================] - 0s 2ms/step - loss: 0.0278 - accuracy: 0.9920 - val_loss: 0.0230 - val_accuracy: 0.9900\n",
      "Epoch 45/100\n",
      "32/32 [==============================] - 0s 2ms/step - loss: 0.0275 - accuracy: 0.9910 - val_loss: 0.0223 - val_accuracy: 0.9900\n",
      "Epoch 46/100\n",
      "32/32 [==============================] - 0s 2ms/step - loss: 0.0270 - accuracy: 0.9910 - val_loss: 0.0231 - val_accuracy: 0.9900\n",
      "Epoch 47/100\n",
      "32/32 [==============================] - 0s 2ms/step - loss: 0.0274 - accuracy: 0.9920 - val_loss: 0.0221 - val_accuracy: 0.9900\n",
      "Epoch 48/100\n",
      "32/32 [==============================] - 0s 2ms/step - loss: 0.0273 - accuracy: 0.9900 - val_loss: 0.0220 - val_accuracy: 0.9900\n",
      "Epoch 49/100\n",
      "32/32 [==============================] - 0s 2ms/step - loss: 0.0282 - accuracy: 0.9910 - val_loss: 0.0230 - val_accuracy: 0.9900\n",
      "Epoch 50/100\n",
      "32/32 [==============================] - 0s 2ms/step - loss: 0.0276 - accuracy: 0.9900 - val_loss: 0.0217 - val_accuracy: 0.9900\n",
      "Epoch 51/100\n",
      "32/32 [==============================] - 0s 2ms/step - loss: 0.0266 - accuracy: 0.9910 - val_loss: 0.0219 - val_accuracy: 0.9900\n",
      "Epoch 52/100\n",
      "32/32 [==============================] - 0s 2ms/step - loss: 0.0270 - accuracy: 0.9920 - val_loss: 0.0217 - val_accuracy: 0.9900\n",
      "Epoch 53/100\n",
      "32/32 [==============================] - 0s 2ms/step - loss: 0.0271 - accuracy: 0.9890 - val_loss: 0.0215 - val_accuracy: 0.9900\n",
      "Epoch 54/100\n",
      "32/32 [==============================] - 0s 2ms/step - loss: 0.0271 - accuracy: 0.9890 - val_loss: 0.0213 - val_accuracy: 0.9900\n",
      "Epoch 55/100\n",
      "32/32 [==============================] - 0s 2ms/step - loss: 0.0271 - accuracy: 0.9910 - val_loss: 0.0214 - val_accuracy: 0.9900\n",
      "Epoch 56/100\n",
      "32/32 [==============================] - 0s 2ms/step - loss: 0.0272 - accuracy: 0.9910 - val_loss: 0.0211 - val_accuracy: 0.9900\n",
      "Epoch 57/100\n",
      "32/32 [==============================] - 0s 2ms/step - loss: 0.0266 - accuracy: 0.9900 - val_loss: 0.0209 - val_accuracy: 0.9900\n",
      "Epoch 58/100\n",
      "32/32 [==============================] - 0s 2ms/step - loss: 0.0264 - accuracy: 0.9900 - val_loss: 0.0209 - val_accuracy: 0.9900\n"
     ]
    },
    {
     "name": "stdout",
     "output_type": "stream",
     "text": [
      "Epoch 59/100\n",
      "32/32 [==============================] - 0s 2ms/step - loss: 0.0266 - accuracy: 0.9900 - val_loss: 0.0209 - val_accuracy: 0.9900\n",
      "Epoch 60/100\n",
      "32/32 [==============================] - 0s 2ms/step - loss: 0.0263 - accuracy: 0.9900 - val_loss: 0.0207 - val_accuracy: 0.9900\n",
      "Epoch 61/100\n",
      "32/32 [==============================] - 0s 2ms/step - loss: 0.0264 - accuracy: 0.9900 - val_loss: 0.0204 - val_accuracy: 0.9900\n",
      "Epoch 62/100\n",
      "32/32 [==============================] - 0s 2ms/step - loss: 0.0261 - accuracy: 0.9900 - val_loss: 0.0206 - val_accuracy: 0.9900\n",
      "Epoch 63/100\n",
      "32/32 [==============================] - 0s 2ms/step - loss: 0.0263 - accuracy: 0.9920 - val_loss: 0.0203 - val_accuracy: 0.9900\n",
      "Epoch 64/100\n",
      "32/32 [==============================] - 0s 2ms/step - loss: 0.0265 - accuracy: 0.9900 - val_loss: 0.0200 - val_accuracy: 0.9900\n",
      "Epoch 65/100\n",
      "32/32 [==============================] - 0s 2ms/step - loss: 0.0265 - accuracy: 0.9890 - val_loss: 0.0205 - val_accuracy: 0.9900\n",
      "Epoch 66/100\n",
      "32/32 [==============================] - 0s 2ms/step - loss: 0.0263 - accuracy: 0.9920 - val_loss: 0.0199 - val_accuracy: 0.9900\n",
      "Epoch 67/100\n",
      "32/32 [==============================] - 0s 2ms/step - loss: 0.0271 - accuracy: 0.9900 - val_loss: 0.0195 - val_accuracy: 0.9900\n",
      "Epoch 68/100\n",
      "32/32 [==============================] - 0s 2ms/step - loss: 0.0263 - accuracy: 0.9920 - val_loss: 0.0198 - val_accuracy: 0.9900\n",
      "Epoch 69/100\n",
      "32/32 [==============================] - 0s 2ms/step - loss: 0.0262 - accuracy: 0.9910 - val_loss: 0.0192 - val_accuracy: 0.9900\n",
      "Epoch 70/100\n",
      "32/32 [==============================] - 0s 2ms/step - loss: 0.0265 - accuracy: 0.9890 - val_loss: 0.0192 - val_accuracy: 0.9900\n",
      "Epoch 71/100\n",
      "32/32 [==============================] - 0s 2ms/step - loss: 0.0258 - accuracy: 0.9920 - val_loss: 0.0191 - val_accuracy: 0.9900\n",
      "Epoch 72/100\n",
      "32/32 [==============================] - 0s 2ms/step - loss: 0.0255 - accuracy: 0.9910 - val_loss: 0.0189 - val_accuracy: 0.9900\n",
      "Epoch 73/100\n",
      "32/32 [==============================] - 0s 2ms/step - loss: 0.0260 - accuracy: 0.9900 - val_loss: 0.0188 - val_accuracy: 0.9900\n",
      "Epoch 74/100\n",
      "32/32 [==============================] - 0s 2ms/step - loss: 0.0269 - accuracy: 0.9920 - val_loss: 0.0189 - val_accuracy: 0.9900\n",
      "Epoch 75/100\n",
      "32/32 [==============================] - 0s 2ms/step - loss: 0.0253 - accuracy: 0.9910 - val_loss: 0.0187 - val_accuracy: 0.9900\n",
      "Epoch 76/100\n",
      "32/32 [==============================] - 0s 2ms/step - loss: 0.0259 - accuracy: 0.9920 - val_loss: 0.0186 - val_accuracy: 0.9900\n",
      "Epoch 77/100\n",
      "32/32 [==============================] - 0s 2ms/step - loss: 0.0256 - accuracy: 0.9920 - val_loss: 0.0185 - val_accuracy: 0.9900\n",
      "Epoch 78/100\n",
      "32/32 [==============================] - 0s 2ms/step - loss: 0.0255 - accuracy: 0.9920 - val_loss: 0.0184 - val_accuracy: 0.9900\n",
      "Epoch 79/100\n",
      "32/32 [==============================] - 0s 2ms/step - loss: 0.0254 - accuracy: 0.9910 - val_loss: 0.0180 - val_accuracy: 0.9900\n",
      "Epoch 80/100\n",
      "32/32 [==============================] - 0s 2ms/step - loss: 0.0253 - accuracy: 0.9900 - val_loss: 0.0181 - val_accuracy: 0.9900\n",
      "Epoch 81/100\n",
      "32/32 [==============================] - 0s 2ms/step - loss: 0.0253 - accuracy: 0.9900 - val_loss: 0.0180 - val_accuracy: 0.9900\n",
      "Epoch 82/100\n",
      "32/32 [==============================] - 0s 2ms/step - loss: 0.0253 - accuracy: 0.9890 - val_loss: 0.0179 - val_accuracy: 0.9900\n",
      "Epoch 83/100\n",
      "32/32 [==============================] - 0s 2ms/step - loss: 0.0250 - accuracy: 0.9910 - val_loss: 0.0176 - val_accuracy: 0.9900\n",
      "Epoch 84/100\n",
      "32/32 [==============================] - 0s 2ms/step - loss: 0.0259 - accuracy: 0.9920 - val_loss: 0.0174 - val_accuracy: 0.9900\n",
      "Epoch 85/100\n",
      "32/32 [==============================] - 0s 2ms/step - loss: 0.0250 - accuracy: 0.9910 - val_loss: 0.0173 - val_accuracy: 0.9900\n",
      "Epoch 86/100\n",
      "32/32 [==============================] - 0s 2ms/step - loss: 0.0250 - accuracy: 0.9900 - val_loss: 0.0172 - val_accuracy: 0.9900\n",
      "Epoch 87/100\n",
      "32/32 [==============================] - 0s 2ms/step - loss: 0.0248 - accuracy: 0.9910 - val_loss: 0.0171 - val_accuracy: 0.9900\n",
      "Epoch 88/100\n",
      "32/32 [==============================] - 0s 2ms/step - loss: 0.0248 - accuracy: 0.9910 - val_loss: 0.0171 - val_accuracy: 0.9900\n",
      "Epoch 89/100\n",
      "32/32 [==============================] - 0s 2ms/step - loss: 0.0248 - accuracy: 0.9920 - val_loss: 0.0169 - val_accuracy: 0.9900\n",
      "Epoch 90/100\n",
      "32/32 [==============================] - 0s 2ms/step - loss: 0.0254 - accuracy: 0.9910 - val_loss: 0.0168 - val_accuracy: 0.9900\n",
      "Epoch 91/100\n",
      "32/32 [==============================] - 0s 2ms/step - loss: 0.0249 - accuracy: 0.9910 - val_loss: 0.0169 - val_accuracy: 0.9900\n",
      "Epoch 92/100\n",
      "32/32 [==============================] - 0s 2ms/step - loss: 0.0249 - accuracy: 0.9900 - val_loss: 0.0166 - val_accuracy: 0.9900\n",
      "Epoch 93/100\n",
      "32/32 [==============================] - 0s 2ms/step - loss: 0.0248 - accuracy: 0.9900 - val_loss: 0.0165 - val_accuracy: 0.9900\n",
      "Epoch 94/100\n",
      "32/32 [==============================] - 0s 2ms/step - loss: 0.0247 - accuracy: 0.9920 - val_loss: 0.0164 - val_accuracy: 0.9900\n",
      "Epoch 95/100\n",
      "32/32 [==============================] - 0s 2ms/step - loss: 0.0251 - accuracy: 0.9900 - val_loss: 0.0162 - val_accuracy: 0.9900\n",
      "Epoch 96/100\n",
      "32/32 [==============================] - 0s 2ms/step - loss: 0.0256 - accuracy: 0.9920 - val_loss: 0.0163 - val_accuracy: 0.9900\n",
      "Epoch 97/100\n",
      "32/32 [==============================] - 0s 2ms/step - loss: 0.0242 - accuracy: 0.9900 - val_loss: 0.0164 - val_accuracy: 1.0000\n",
      "Epoch 98/100\n",
      "32/32 [==============================] - 0s 2ms/step - loss: 0.0245 - accuracy: 0.9910 - val_loss: 0.0159 - val_accuracy: 0.9900\n",
      "Epoch 99/100\n",
      "32/32 [==============================] - 0s 2ms/step - loss: 0.0246 - accuracy: 0.9900 - val_loss: 0.0158 - val_accuracy: 1.0000\n",
      "Epoch 100/100\n",
      "32/32 [==============================] - 0s 2ms/step - loss: 0.0247 - accuracy: 0.9920 - val_loss: 0.0156 - val_accuracy: 0.9900\n"
     ]
    }
   ],
   "source": [
    "history_gudhi = model_classif_gudhi.fit(PI_train_gudhi,\n",
    "                                        label_train_gudhi,\n",
    "                                        epochs=100,\n",
    "                                        validation_data=(PI_test_gudhi,\n",
    "                                                         label_test_gudhi))"
   ]
  },
  {
   "cell_type": "code",
   "execution_count": 77,
   "id": "659a8983",
   "metadata": {
    "scrolled": true
   },
   "outputs": [
    {
     "name": "stdout",
     "output_type": "stream",
     "text": [
      "4/4 - 0s - loss: 0.0156 - accuracy: 0.9900\n",
      "\n",
      "Test accuracy of the classifier trained on gudhi PI: 0.9900000095367432\n"
     ]
    }
   ],
   "source": [
    "test_loss_guhi, test_acc_gudhi = model_classif_gudhi.evaluate(PI_test_gudhi,\n",
    "                                                              label_test_gudhi,\n",
    "                                                              verbose=2)\n",
    "\n",
    "print('\\nTest accuracy of the classifier trained on gudhi PI:', test_acc_gudhi)"
   ]
  },
  {
   "cell_type": "markdown",
   "id": "8842c7b5",
   "metadata": {},
   "source": [
    "### Generate data for the training of ```model_classif_NN``` "
   ]
  },
  {
   "cell_type": "code",
   "execution_count": 58,
   "id": "0a95593f",
   "metadata": {},
   "outputs": [
    {
     "name": "stderr",
     "output_type": "stream",
     "text": [
      "Generating dataset : 100%|██████████| 1000/1000 [00:01<00:00, 553.63it/s]\n"
     ]
    }
   ],
   "source": [
    "data_train_NN = np.zeros((N_sets_train, N_points, 2))\n",
    "label_train_NN = np.zeros((N_sets_train, ))\n",
    "r_list = [3.4, 4.1]\n",
    "\n",
    "for i in tqdm(range(N_sets_train), desc='Generating dataset : '):\n",
    "    #Generate the orbit\n",
    "    r = np.random.choice(r_list)\n",
    "    label_train_NN[i] = int(r - 3)\n",
    "    data_train_NN[i] = create_orbit(N_points, r)"
   ]
  },
  {
   "cell_type": "code",
   "execution_count": 62,
   "id": "9f0d91d2",
   "metadata": {},
   "outputs": [],
   "source": [
    "PI_train_NN = model_PI.predict(data_train_NN)"
   ]
  },
  {
   "cell_type": "code",
   "execution_count": 67,
   "id": "c9c0f263",
   "metadata": {},
   "outputs": [
    {
     "name": "stderr",
     "output_type": "stream",
     "text": [
      "Generating dataset : 100%|██████████| 100/100 [00:00<00:00, 478.70it/s]\n"
     ]
    }
   ],
   "source": [
    "data_test_NN = np.zeros((N_sets_test, N_points, 2))\n",
    "label_test_NN = np.zeros((N_sets_test, ))\n",
    "r_list = [3.4, 4.1]\n",
    "\n",
    "for i in tqdm(range(N_sets_test), desc='Generating dataset : '):\n",
    "    #Generate the orbit\n",
    "    r = np.random.choice(r_list)\n",
    "    label_test_NN[i] = int(r - 3)\n",
    "    data_test_NN[i] = create_orbit(N_points, r)"
   ]
  },
  {
   "cell_type": "code",
   "execution_count": 68,
   "id": "27580ffa",
   "metadata": {},
   "outputs": [],
   "source": [
    "PI_test_NN = model_PI.predict(data_test_NN)"
   ]
  },
  {
   "cell_type": "markdown",
   "id": "988969ac",
   "metadata": {},
   "source": [
    "### Fit the classification model ```model_classif_NN``` "
   ]
  },
  {
   "cell_type": "code",
   "execution_count": 70,
   "id": "92286fe9",
   "metadata": {},
   "outputs": [
    {
     "name": "stdout",
     "output_type": "stream",
     "text": [
      "Epoch 1/100\n",
      "32/32 [==============================] - 0s 3ms/step - loss: 0.0063 - accuracy: 1.0000 - val_loss: 0.0036 - val_accuracy: 1.0000\n",
      "Epoch 2/100\n",
      "32/32 [==============================] - 0s 2ms/step - loss: 0.0062 - accuracy: 1.0000 - val_loss: 0.0035 - val_accuracy: 1.0000\n",
      "Epoch 3/100\n",
      "32/32 [==============================] - 0s 2ms/step - loss: 0.0061 - accuracy: 1.0000 - val_loss: 0.0034 - val_accuracy: 1.0000\n",
      "Epoch 4/100\n",
      "32/32 [==============================] - 0s 2ms/step - loss: 0.0060 - accuracy: 1.0000 - val_loss: 0.0033 - val_accuracy: 1.0000\n",
      "Epoch 5/100\n",
      "32/32 [==============================] - 0s 2ms/step - loss: 0.0059 - accuracy: 1.0000 - val_loss: 0.0033 - val_accuracy: 1.0000\n",
      "Epoch 6/100\n",
      "32/32 [==============================] - 0s 2ms/step - loss: 0.0058 - accuracy: 1.0000 - val_loss: 0.0032 - val_accuracy: 1.0000\n",
      "Epoch 7/100\n",
      "32/32 [==============================] - 0s 2ms/step - loss: 0.0057 - accuracy: 1.0000 - val_loss: 0.0032 - val_accuracy: 1.0000\n",
      "Epoch 8/100\n",
      "32/32 [==============================] - 0s 2ms/step - loss: 0.0056 - accuracy: 1.0000 - val_loss: 0.0031 - val_accuracy: 1.0000\n",
      "Epoch 9/100\n",
      "32/32 [==============================] - 0s 2ms/step - loss: 0.0055 - accuracy: 1.0000 - val_loss: 0.0031 - val_accuracy: 1.0000\n",
      "Epoch 10/100\n",
      "32/32 [==============================] - 0s 2ms/step - loss: 0.0054 - accuracy: 1.0000 - val_loss: 0.0030 - val_accuracy: 1.0000\n",
      "Epoch 11/100\n",
      "32/32 [==============================] - 0s 2ms/step - loss: 0.0053 - accuracy: 1.0000 - val_loss: 0.0030 - val_accuracy: 1.0000\n",
      "Epoch 12/100\n",
      "32/32 [==============================] - 0s 2ms/step - loss: 0.0052 - accuracy: 1.0000 - val_loss: 0.0029 - val_accuracy: 1.0000\n",
      "Epoch 13/100\n",
      "32/32 [==============================] - 0s 2ms/step - loss: 0.0051 - accuracy: 1.0000 - val_loss: 0.0029 - val_accuracy: 1.0000\n",
      "Epoch 14/100\n",
      "32/32 [==============================] - 0s 2ms/step - loss: 0.0050 - accuracy: 1.0000 - val_loss: 0.0028 - val_accuracy: 1.0000\n",
      "Epoch 15/100\n",
      "32/32 [==============================] - 0s 2ms/step - loss: 0.0049 - accuracy: 1.0000 - val_loss: 0.0027 - val_accuracy: 1.0000\n",
      "Epoch 16/100\n",
      "32/32 [==============================] - 0s 2ms/step - loss: 0.0048 - accuracy: 1.0000 - val_loss: 0.0027 - val_accuracy: 1.0000\n",
      "Epoch 17/100\n",
      "32/32 [==============================] - 0s 2ms/step - loss: 0.0047 - accuracy: 1.0000 - val_loss: 0.0026 - val_accuracy: 1.0000\n",
      "Epoch 18/100\n",
      "32/32 [==============================] - 0s 2ms/step - loss: 0.0047 - accuracy: 1.0000 - val_loss: 0.0026 - val_accuracy: 1.0000\n",
      "Epoch 19/100\n",
      "32/32 [==============================] - 0s 2ms/step - loss: 0.0045 - accuracy: 1.0000 - val_loss: 0.0025 - val_accuracy: 1.0000\n",
      "Epoch 20/100\n",
      "32/32 [==============================] - 0s 2ms/step - loss: 0.0045 - accuracy: 1.0000 - val_loss: 0.0025 - val_accuracy: 1.0000\n",
      "Epoch 21/100\n",
      "32/32 [==============================] - 0s 2ms/step - loss: 0.0044 - accuracy: 1.0000 - val_loss: 0.0024 - val_accuracy: 1.0000\n",
      "Epoch 22/100\n",
      "32/32 [==============================] - 0s 2ms/step - loss: 0.0043 - accuracy: 1.0000 - val_loss: 0.0024 - val_accuracy: 1.0000\n",
      "Epoch 23/100\n",
      "32/32 [==============================] - 0s 2ms/step - loss: 0.0042 - accuracy: 1.0000 - val_loss: 0.0024 - val_accuracy: 1.0000\n",
      "Epoch 24/100\n",
      "32/32 [==============================] - 0s 2ms/step - loss: 0.0041 - accuracy: 1.0000 - val_loss: 0.0023 - val_accuracy: 1.0000\n",
      "Epoch 25/100\n",
      "32/32 [==============================] - 0s 2ms/step - loss: 0.0041 - accuracy: 1.0000 - val_loss: 0.0023 - val_accuracy: 1.0000\n",
      "Epoch 26/100\n",
      "32/32 [==============================] - 0s 2ms/step - loss: 0.0040 - accuracy: 1.0000 - val_loss: 0.0022 - val_accuracy: 1.0000\n",
      "Epoch 27/100\n",
      "32/32 [==============================] - 0s 2ms/step - loss: 0.0040 - accuracy: 1.0000 - val_loss: 0.0022 - val_accuracy: 1.0000\n",
      "Epoch 28/100\n",
      "32/32 [==============================] - 0s 2ms/step - loss: 0.0039 - accuracy: 1.0000 - val_loss: 0.0022 - val_accuracy: 1.0000\n",
      "Epoch 29/100\n",
      "32/32 [==============================] - 0s 2ms/step - loss: 0.0038 - accuracy: 1.0000 - val_loss: 0.0021 - val_accuracy: 1.0000\n",
      "Epoch 30/100\n",
      "32/32 [==============================] - 0s 2ms/step - loss: 0.0038 - accuracy: 1.0000 - val_loss: 0.0021 - val_accuracy: 1.0000\n",
      "Epoch 31/100\n",
      "32/32 [==============================] - 0s 2ms/step - loss: 0.0037 - accuracy: 1.0000 - val_loss: 0.0020 - val_accuracy: 1.0000\n",
      "Epoch 32/100\n",
      "32/32 [==============================] - 0s 2ms/step - loss: 0.0036 - accuracy: 1.0000 - val_loss: 0.0020 - val_accuracy: 1.0000\n",
      "Epoch 33/100\n",
      "32/32 [==============================] - 0s 2ms/step - loss: 0.0035 - accuracy: 1.0000 - val_loss: 0.0020 - val_accuracy: 1.0000\n",
      "Epoch 34/100\n",
      "32/32 [==============================] - 0s 2ms/step - loss: 0.0035 - accuracy: 1.0000 - val_loss: 0.0019 - val_accuracy: 1.0000\n",
      "Epoch 35/100\n",
      "32/32 [==============================] - 0s 2ms/step - loss: 0.0034 - accuracy: 1.0000 - val_loss: 0.0019 - val_accuracy: 1.0000\n",
      "Epoch 36/100\n",
      "32/32 [==============================] - 0s 2ms/step - loss: 0.0034 - accuracy: 1.0000 - val_loss: 0.0018 - val_accuracy: 1.0000\n",
      "Epoch 37/100\n",
      "32/32 [==============================] - 0s 2ms/step - loss: 0.0033 - accuracy: 1.0000 - val_loss: 0.0018 - val_accuracy: 1.0000\n",
      "Epoch 38/100\n",
      "32/32 [==============================] - 0s 2ms/step - loss: 0.0032 - accuracy: 1.0000 - val_loss: 0.0018 - val_accuracy: 1.0000\n",
      "Epoch 39/100\n",
      "32/32 [==============================] - 0s 2ms/step - loss: 0.0032 - accuracy: 1.0000 - val_loss: 0.0017 - val_accuracy: 1.0000\n",
      "Epoch 40/100\n",
      "32/32 [==============================] - 0s 2ms/step - loss: 0.0031 - accuracy: 1.0000 - val_loss: 0.0017 - val_accuracy: 1.0000\n",
      "Epoch 41/100\n",
      "32/32 [==============================] - 0s 2ms/step - loss: 0.0031 - accuracy: 1.0000 - val_loss: 0.0017 - val_accuracy: 1.0000\n",
      "Epoch 42/100\n",
      "32/32 [==============================] - 0s 2ms/step - loss: 0.0030 - accuracy: 1.0000 - val_loss: 0.0016 - val_accuracy: 1.0000\n",
      "Epoch 43/100\n",
      "32/32 [==============================] - 0s 2ms/step - loss: 0.0030 - accuracy: 1.0000 - val_loss: 0.0016 - val_accuracy: 1.0000\n",
      "Epoch 44/100\n",
      "32/32 [==============================] - 0s 2ms/step - loss: 0.0029 - accuracy: 1.0000 - val_loss: 0.0016 - val_accuracy: 1.0000\n",
      "Epoch 45/100\n",
      "32/32 [==============================] - 0s 2ms/step - loss: 0.0029 - accuracy: 1.0000 - val_loss: 0.0016 - val_accuracy: 1.0000\n",
      "Epoch 46/100\n",
      "32/32 [==============================] - 0s 2ms/step - loss: 0.0028 - accuracy: 1.0000 - val_loss: 0.0015 - val_accuracy: 1.0000\n",
      "Epoch 47/100\n",
      "32/32 [==============================] - 0s 2ms/step - loss: 0.0028 - accuracy: 1.0000 - val_loss: 0.0015 - val_accuracy: 1.0000\n",
      "Epoch 48/100\n",
      "32/32 [==============================] - 0s 2ms/step - loss: 0.0027 - accuracy: 1.0000 - val_loss: 0.0015 - val_accuracy: 1.0000\n",
      "Epoch 49/100\n",
      "32/32 [==============================] - 0s 2ms/step - loss: 0.0027 - accuracy: 1.0000 - val_loss: 0.0015 - val_accuracy: 1.0000\n",
      "Epoch 50/100\n",
      "32/32 [==============================] - 0s 2ms/step - loss: 0.0026 - accuracy: 1.0000 - val_loss: 0.0014 - val_accuracy: 1.0000\n",
      "Epoch 51/100\n",
      "32/32 [==============================] - 0s 2ms/step - loss: 0.0026 - accuracy: 1.0000 - val_loss: 0.0014 - val_accuracy: 1.0000\n",
      "Epoch 52/100\n",
      "32/32 [==============================] - 0s 2ms/step - loss: 0.0025 - accuracy: 1.0000 - val_loss: 0.0014 - val_accuracy: 1.0000\n",
      "Epoch 53/100\n",
      "32/32 [==============================] - 0s 2ms/step - loss: 0.0025 - accuracy: 1.0000 - val_loss: 0.0013 - val_accuracy: 1.0000\n",
      "Epoch 54/100\n",
      "32/32 [==============================] - 0s 2ms/step - loss: 0.0024 - accuracy: 1.0000 - val_loss: 0.0013 - val_accuracy: 1.0000\n",
      "Epoch 55/100\n",
      "32/32 [==============================] - 0s 2ms/step - loss: 0.0024 - accuracy: 1.0000 - val_loss: 0.0013 - val_accuracy: 1.0000\n",
      "Epoch 56/100\n",
      "32/32 [==============================] - 0s 2ms/step - loss: 0.0024 - accuracy: 1.0000 - val_loss: 0.0013 - val_accuracy: 1.0000\n",
      "Epoch 57/100\n",
      "32/32 [==============================] - 0s 2ms/step - loss: 0.0023 - accuracy: 1.0000 - val_loss: 0.0013 - val_accuracy: 1.0000\n",
      "Epoch 58/100\n",
      "32/32 [==============================] - 0s 2ms/step - loss: 0.0023 - accuracy: 1.0000 - val_loss: 0.0012 - val_accuracy: 1.0000\n"
     ]
    },
    {
     "name": "stdout",
     "output_type": "stream",
     "text": [
      "Epoch 59/100\n",
      "32/32 [==============================] - 0s 2ms/step - loss: 0.0023 - accuracy: 1.0000 - val_loss: 0.0012 - val_accuracy: 1.0000\n",
      "Epoch 60/100\n",
      "32/32 [==============================] - 0s 2ms/step - loss: 0.0022 - accuracy: 1.0000 - val_loss: 0.0012 - val_accuracy: 1.0000\n",
      "Epoch 61/100\n",
      "32/32 [==============================] - 0s 2ms/step - loss: 0.0022 - accuracy: 1.0000 - val_loss: 0.0012 - val_accuracy: 1.0000\n",
      "Epoch 62/100\n",
      "32/32 [==============================] - 0s 2ms/step - loss: 0.0022 - accuracy: 1.0000 - val_loss: 0.0012 - val_accuracy: 1.0000\n",
      "Epoch 63/100\n",
      "32/32 [==============================] - 0s 2ms/step - loss: 0.0021 - accuracy: 1.0000 - val_loss: 0.0011 - val_accuracy: 1.0000\n",
      "Epoch 64/100\n",
      "32/32 [==============================] - 0s 2ms/step - loss: 0.0021 - accuracy: 1.0000 - val_loss: 0.0011 - val_accuracy: 1.0000\n",
      "Epoch 65/100\n",
      "32/32 [==============================] - 0s 2ms/step - loss: 0.0020 - accuracy: 1.0000 - val_loss: 0.0011 - val_accuracy: 1.0000\n",
      "Epoch 66/100\n",
      "32/32 [==============================] - 0s 2ms/step - loss: 0.0020 - accuracy: 1.0000 - val_loss: 0.0011 - val_accuracy: 1.0000\n",
      "Epoch 67/100\n",
      "32/32 [==============================] - 0s 2ms/step - loss: 0.0020 - accuracy: 1.0000 - val_loss: 0.0011 - val_accuracy: 1.0000\n",
      "Epoch 68/100\n",
      "32/32 [==============================] - 0s 2ms/step - loss: 0.0019 - accuracy: 1.0000 - val_loss: 0.0010 - val_accuracy: 1.0000\n",
      "Epoch 69/100\n",
      "32/32 [==============================] - 0s 2ms/step - loss: 0.0019 - accuracy: 1.0000 - val_loss: 0.0010 - val_accuracy: 1.0000\n",
      "Epoch 70/100\n",
      "32/32 [==============================] - 0s 2ms/step - loss: 0.0019 - accuracy: 1.0000 - val_loss: 9.9649e-04 - val_accuracy: 1.0000\n",
      "Epoch 71/100\n",
      "32/32 [==============================] - 0s 2ms/step - loss: 0.0018 - accuracy: 1.0000 - val_loss: 9.8689e-04 - val_accuracy: 1.0000\n",
      "Epoch 72/100\n",
      "32/32 [==============================] - 0s 2ms/step - loss: 0.0018 - accuracy: 1.0000 - val_loss: 9.6527e-04 - val_accuracy: 1.0000\n",
      "Epoch 73/100\n",
      "32/32 [==============================] - 0s 2ms/step - loss: 0.0018 - accuracy: 1.0000 - val_loss: 9.5309e-04 - val_accuracy: 1.0000\n",
      "Epoch 74/100\n",
      "32/32 [==============================] - 0s 2ms/step - loss: 0.0017 - accuracy: 1.0000 - val_loss: 9.2858e-04 - val_accuracy: 1.0000\n",
      "Epoch 75/100\n",
      "32/32 [==============================] - 0s 2ms/step - loss: 0.0017 - accuracy: 1.0000 - val_loss: 9.1405e-04 - val_accuracy: 1.0000\n",
      "Epoch 76/100\n",
      "32/32 [==============================] - 0s 2ms/step - loss: 0.0017 - accuracy: 1.0000 - val_loss: 9.0173e-04 - val_accuracy: 1.0000\n",
      "Epoch 77/100\n",
      "32/32 [==============================] - 0s 2ms/step - loss: 0.0017 - accuracy: 1.0000 - val_loss: 8.8219e-04 - val_accuracy: 1.0000\n",
      "Epoch 78/100\n",
      "32/32 [==============================] - 0s 2ms/step - loss: 0.0017 - accuracy: 1.0000 - val_loss: 8.8493e-04 - val_accuracy: 1.0000\n",
      "Epoch 79/100\n",
      "32/32 [==============================] - 0s 2ms/step - loss: 0.0016 - accuracy: 1.0000 - val_loss: 8.5584e-04 - val_accuracy: 1.0000\n",
      "Epoch 80/100\n",
      "32/32 [==============================] - 0s 2ms/step - loss: 0.0016 - accuracy: 1.0000 - val_loss: 8.3797e-04 - val_accuracy: 1.0000\n",
      "Epoch 81/100\n",
      "32/32 [==============================] - 0s 2ms/step - loss: 0.0016 - accuracy: 1.0000 - val_loss: 8.3988e-04 - val_accuracy: 1.0000\n",
      "Epoch 82/100\n",
      "32/32 [==============================] - 0s 2ms/step - loss: 0.0015 - accuracy: 1.0000 - val_loss: 8.1532e-04 - val_accuracy: 1.0000\n",
      "Epoch 83/100\n",
      "32/32 [==============================] - 0s 2ms/step - loss: 0.0015 - accuracy: 1.0000 - val_loss: 7.9336e-04 - val_accuracy: 1.0000\n",
      "Epoch 84/100\n",
      "32/32 [==============================] - 0s 2ms/step - loss: 0.0015 - accuracy: 1.0000 - val_loss: 8.0009e-04 - val_accuracy: 1.0000\n",
      "Epoch 85/100\n",
      "32/32 [==============================] - 0s 2ms/step - loss: 0.0015 - accuracy: 1.0000 - val_loss: 7.7034e-04 - val_accuracy: 1.0000\n",
      "Epoch 86/100\n",
      "32/32 [==============================] - 0s 2ms/step - loss: 0.0014 - accuracy: 1.0000 - val_loss: 7.6185e-04 - val_accuracy: 1.0000\n",
      "Epoch 87/100\n",
      "32/32 [==============================] - 0s 2ms/step - loss: 0.0014 - accuracy: 1.0000 - val_loss: 7.5087e-04 - val_accuracy: 1.0000\n",
      "Epoch 88/100\n",
      "32/32 [==============================] - 0s 2ms/step - loss: 0.0014 - accuracy: 1.0000 - val_loss: 7.3966e-04 - val_accuracy: 1.0000\n",
      "Epoch 89/100\n",
      "32/32 [==============================] - 0s 2ms/step - loss: 0.0014 - accuracy: 1.0000 - val_loss: 7.2466e-04 - val_accuracy: 1.0000\n",
      "Epoch 90/100\n",
      "32/32 [==============================] - 0s 2ms/step - loss: 0.0013 - accuracy: 1.0000 - val_loss: 7.1191e-04 - val_accuracy: 1.0000\n",
      "Epoch 91/100\n",
      "32/32 [==============================] - 0s 2ms/step - loss: 0.0013 - accuracy: 1.0000 - val_loss: 7.0276e-04 - val_accuracy: 1.0000\n",
      "Epoch 92/100\n",
      "32/32 [==============================] - 0s 2ms/step - loss: 0.0013 - accuracy: 1.0000 - val_loss: 7.1578e-04 - val_accuracy: 1.0000\n",
      "Epoch 93/100\n",
      "32/32 [==============================] - 0s 2ms/step - loss: 0.0013 - accuracy: 1.0000 - val_loss: 6.8645e-04 - val_accuracy: 1.0000\n",
      "Epoch 94/100\n",
      "32/32 [==============================] - 0s 2ms/step - loss: 0.0013 - accuracy: 1.0000 - val_loss: 6.7487e-04 - val_accuracy: 1.0000\n",
      "Epoch 95/100\n",
      "32/32 [==============================] - 0s 2ms/step - loss: 0.0012 - accuracy: 1.0000 - val_loss: 6.5816e-04 - val_accuracy: 1.0000\n",
      "Epoch 96/100\n",
      "32/32 [==============================] - 0s 2ms/step - loss: 0.0012 - accuracy: 1.0000 - val_loss: 6.4807e-04 - val_accuracy: 1.0000\n",
      "Epoch 97/100\n",
      "32/32 [==============================] - 0s 2ms/step - loss: 0.0012 - accuracy: 1.0000 - val_loss: 6.3642e-04 - val_accuracy: 1.0000\n",
      "Epoch 98/100\n",
      "32/32 [==============================] - 0s 2ms/step - loss: 0.0012 - accuracy: 1.0000 - val_loss: 6.2247e-04 - val_accuracy: 1.0000\n",
      "Epoch 99/100\n",
      "32/32 [==============================] - 0s 2ms/step - loss: 0.0012 - accuracy: 1.0000 - val_loss: 6.1655e-04 - val_accuracy: 1.0000\n",
      "Epoch 100/100\n",
      "32/32 [==============================] - 0s 2ms/step - loss: 0.0011 - accuracy: 1.0000 - val_loss: 6.0389e-04 - val_accuracy: 1.0000\n"
     ]
    }
   ],
   "source": [
    "history_NN = model_classif_NN.fit(PI_train_NN,\n",
    "                                  label_train_NN,\n",
    "                                  epochs=100,\n",
    "                                  validation_data=(PI_test_NN, label_test_NN))"
   ]
  },
  {
   "cell_type": "code",
   "execution_count": 75,
   "id": "7f6e95b7",
   "metadata": {},
   "outputs": [
    {
     "name": "stdout",
     "output_type": "stream",
     "text": [
      "4/4 - 0s - loss: 6.0389e-04 - accuracy: 1.0000\n",
      "\n",
      "Test accuracy: 1.0\n"
     ]
    }
   ],
   "source": [
    "test_loss, test_acc = model_classif_NN.evaluate(PI_test_NN,\n",
    "                                                label_test_NN,\n",
    "                                                verbose=2)\n",
    "\n",
    "print('\\nTest accuracy:', test_acc)"
   ]
  },
  {
   "cell_type": "markdown",
   "id": "089d68cc",
   "metadata": {},
   "source": [
    "| Test accuracy for PI computed by Gudhi \t| Test accuracy for PI computed by NN \t|\n",
    "|:--------------------------------------:\t|:-----------------------------------:\t|\n",
    "|                   99%                  \t|                 100%                 \t|"
   ]
  }
 ],
 "metadata": {
  "kernelspec": {
   "display_name": "Python 3 (ipykernel)",
   "language": "python",
   "name": "python3"
  },
  "language_info": {
   "codemirror_mode": {
    "name": "ipython",
    "version": 3
   },
   "file_extension": ".py",
   "mimetype": "text/x-python",
   "name": "python",
   "nbconvert_exporter": "python",
   "pygments_lexer": "ipython3",
   "version": "3.8.10"
  }
 },
 "nbformat": 4,
 "nbformat_minor": 5
}
